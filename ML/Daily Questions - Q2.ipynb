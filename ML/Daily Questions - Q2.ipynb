{
 "cells": [
  {
   "cell_type": "markdown",
   "id": "502cce5f",
   "metadata": {},
   "source": [
    "Consider the data for various patients in a hospital tp predict leukamia remissions that they may have with certain features. The description of the variables are as follows:<br>\n",
    "* Outcome variable REMISS stands for remission. If leukamia remission occurred then 1, else 0\n",
    "* Other predictors are as follows:\n",
    "    * CELL: cellularity of the marrow clot section\n",
    "    * SMEAR: smear differential percentage of blasts\n",
    "    * INFIL: percentage of absolute marrow leukamia cell infiltrate\n",
    "    * LI: percentage labeling index of the bone marrow leukamia cells\n",
    "    * BLAST: absolute no. of blasts in the peripheral blood\n",
    "    * TEMP: the highest temperature prior to start of treatment"
   ]
  },
  {
   "cell_type": "code",
   "execution_count": 1,
   "id": "67f1b6b0",
   "metadata": {},
   "outputs": [],
   "source": [
    "# Import libraries\n",
    "import numpy as np\n",
    "import pandas as pd\n",
    "import matplotlib.pyplot as plt\n",
    "import seaborn as sns\n",
    "\n",
    "import statsmodels.api as sm\n",
    "from statsmodels.api import Logit, add_constant\n",
    "\n",
    "import warnings\n",
    "warnings.filterwarnings('ignore')"
   ]
  },
  {
   "cell_type": "code",
   "execution_count": 2,
   "id": "6be2cb0c",
   "metadata": {},
   "outputs": [
    {
     "data": {
      "text/html": [
       "<div>\n",
       "<style scoped>\n",
       "    .dataframe tbody tr th:only-of-type {\n",
       "        vertical-align: middle;\n",
       "    }\n",
       "\n",
       "    .dataframe tbody tr th {\n",
       "        vertical-align: top;\n",
       "    }\n",
       "\n",
       "    .dataframe thead th {\n",
       "        text-align: right;\n",
       "    }\n",
       "</style>\n",
       "<table border=\"1\" class=\"dataframe\">\n",
       "  <thead>\n",
       "    <tr style=\"text-align: right;\">\n",
       "      <th></th>\n",
       "      <th>REMISS</th>\n",
       "      <th>CELL</th>\n",
       "      <th>SMEAR</th>\n",
       "      <th>INFIL</th>\n",
       "      <th>LI</th>\n",
       "      <th>BLAST</th>\n",
       "      <th>TEMP</th>\n",
       "    </tr>\n",
       "  </thead>\n",
       "  <tbody>\n",
       "    <tr>\n",
       "      <th>0</th>\n",
       "      <td>1</td>\n",
       "      <td>0.8</td>\n",
       "      <td>0.83</td>\n",
       "      <td>0.66</td>\n",
       "      <td>1.9</td>\n",
       "      <td>1.10</td>\n",
       "      <td>1.00</td>\n",
       "    </tr>\n",
       "    <tr>\n",
       "      <th>1</th>\n",
       "      <td>1</td>\n",
       "      <td>0.9</td>\n",
       "      <td>0.36</td>\n",
       "      <td>0.32</td>\n",
       "      <td>1.4</td>\n",
       "      <td>0.74</td>\n",
       "      <td>0.99</td>\n",
       "    </tr>\n",
       "    <tr>\n",
       "      <th>2</th>\n",
       "      <td>0</td>\n",
       "      <td>0.8</td>\n",
       "      <td>0.88</td>\n",
       "      <td>0.70</td>\n",
       "      <td>0.8</td>\n",
       "      <td>0.18</td>\n",
       "      <td>0.98</td>\n",
       "    </tr>\n",
       "    <tr>\n",
       "      <th>3</th>\n",
       "      <td>0</td>\n",
       "      <td>1.0</td>\n",
       "      <td>0.87</td>\n",
       "      <td>0.87</td>\n",
       "      <td>0.7</td>\n",
       "      <td>1.05</td>\n",
       "      <td>0.99</td>\n",
       "    </tr>\n",
       "    <tr>\n",
       "      <th>4</th>\n",
       "      <td>1</td>\n",
       "      <td>0.9</td>\n",
       "      <td>0.75</td>\n",
       "      <td>0.68</td>\n",
       "      <td>1.3</td>\n",
       "      <td>0.52</td>\n",
       "      <td>0.98</td>\n",
       "    </tr>\n",
       "  </tbody>\n",
       "</table>\n",
       "</div>"
      ],
      "text/plain": [
       "   REMISS  CELL  SMEAR  INFIL   LI  BLAST  TEMP\n",
       "0       1   0.8   0.83   0.66  1.9   1.10  1.00\n",
       "1       1   0.9   0.36   0.32  1.4   0.74  0.99\n",
       "2       0   0.8   0.88   0.70  0.8   0.18  0.98\n",
       "3       0   1.0   0.87   0.87  0.7   1.05  0.99\n",
       "4       1   0.9   0.75   0.68  1.3   0.52  0.98"
      ]
     },
     "execution_count": 2,
     "metadata": {},
     "output_type": "execute_result"
    }
   ],
   "source": [
    "# Load data\n",
    "df = pd.read_csv('C:/Users/Karthik.Iyer/Downloads/AccelerateAI/Classification-Models-main/data/LR2.csv')\n",
    "df.head()"
   ]
  },
  {
   "cell_type": "code",
   "execution_count": 3,
   "id": "ed83015f",
   "metadata": {},
   "outputs": [
    {
     "name": "stdout",
     "output_type": "stream",
     "text": [
      "Optimization terminated successfully.\n",
      "         Current function value: 0.399886\n",
      "         Iterations 10\n"
     ]
    },
    {
     "data": {
      "text/html": [
       "<table class=\"simpletable\">\n",
       "<caption>Logit Regression Results</caption>\n",
       "<tr>\n",
       "  <th>Dep. Variable:</th>        <td>REMISS</td>      <th>  No. Observations:  </th>  <td>    27</td> \n",
       "</tr>\n",
       "<tr>\n",
       "  <th>Model:</th>                 <td>Logit</td>      <th>  Df Residuals:      </th>  <td>    20</td> \n",
       "</tr>\n",
       "<tr>\n",
       "  <th>Method:</th>                 <td>MLE</td>       <th>  Df Model:          </th>  <td>     6</td> \n",
       "</tr>\n",
       "<tr>\n",
       "  <th>Date:</th>            <td>Mon, 06 Jun 2022</td> <th>  Pseudo R-squ.:     </th>  <td>0.3718</td> \n",
       "</tr>\n",
       "<tr>\n",
       "  <th>Time:</th>                <td>16:59:08</td>     <th>  Log-Likelihood:    </th> <td> -10.797</td>\n",
       "</tr>\n",
       "<tr>\n",
       "  <th>converged:</th>             <td>True</td>       <th>  LL-Null:           </th> <td> -17.186</td>\n",
       "</tr>\n",
       "<tr>\n",
       "  <th>Covariance Type:</th>     <td>nonrobust</td>    <th>  LLR p-value:       </th>  <td>0.04670</td>\n",
       "</tr>\n",
       "</table>\n",
       "<table class=\"simpletable\">\n",
       "<tr>\n",
       "    <td></td>       <th>coef</th>     <th>std err</th>      <th>z</th>      <th>P>|z|</th>  <th>[0.025</th>    <th>0.975]</th>  \n",
       "</tr>\n",
       "<tr>\n",
       "  <th>const</th> <td>   64.2581</td> <td>   74.965</td> <td>    0.857</td> <td> 0.391</td> <td>  -82.670</td> <td>  211.187</td>\n",
       "</tr>\n",
       "<tr>\n",
       "  <th>CELL</th>  <td>   30.8301</td> <td>   52.135</td> <td>    0.591</td> <td> 0.554</td> <td>  -71.353</td> <td>  133.013</td>\n",
       "</tr>\n",
       "<tr>\n",
       "  <th>SMEAR</th> <td>   24.6863</td> <td>   61.526</td> <td>    0.401</td> <td> 0.688</td> <td>  -95.903</td> <td>  145.275</td>\n",
       "</tr>\n",
       "<tr>\n",
       "  <th>INFIL</th> <td>  -24.9745</td> <td>   65.281</td> <td>   -0.383</td> <td> 0.702</td> <td> -152.923</td> <td>  102.974</td>\n",
       "</tr>\n",
       "<tr>\n",
       "  <th>LI</th>    <td>    4.3605</td> <td>    2.658</td> <td>    1.641</td> <td> 0.101</td> <td>   -0.849</td> <td>    9.570</td>\n",
       "</tr>\n",
       "<tr>\n",
       "  <th>BLAST</th> <td>   -0.0115</td> <td>    2.266</td> <td>   -0.005</td> <td> 0.996</td> <td>   -4.453</td> <td>    4.430</td>\n",
       "</tr>\n",
       "<tr>\n",
       "  <th>TEMP</th>  <td> -100.1734</td> <td>   77.753</td> <td>   -1.288</td> <td> 0.198</td> <td> -252.567</td> <td>   52.220</td>\n",
       "</tr>\n",
       "</table><br/><br/>Possibly complete quasi-separation: A fraction 0.11 of observations can be<br/>perfectly predicted. This might indicate that there is complete<br/>quasi-separation. In this case some parameters will not be identified."
      ],
      "text/plain": [
       "<class 'statsmodels.iolib.summary.Summary'>\n",
       "\"\"\"\n",
       "                           Logit Regression Results                           \n",
       "==============================================================================\n",
       "Dep. Variable:                 REMISS   No. Observations:                   27\n",
       "Model:                          Logit   Df Residuals:                       20\n",
       "Method:                           MLE   Df Model:                            6\n",
       "Date:                Mon, 06 Jun 2022   Pseudo R-squ.:                  0.3718\n",
       "Time:                        16:59:08   Log-Likelihood:                -10.797\n",
       "converged:                       True   LL-Null:                       -17.186\n",
       "Covariance Type:            nonrobust   LLR p-value:                   0.04670\n",
       "==============================================================================\n",
       "                 coef    std err          z      P>|z|      [0.025      0.975]\n",
       "------------------------------------------------------------------------------\n",
       "const         64.2581     74.965      0.857      0.391     -82.670     211.187\n",
       "CELL          30.8301     52.135      0.591      0.554     -71.353     133.013\n",
       "SMEAR         24.6863     61.526      0.401      0.688     -95.903     145.275\n",
       "INFIL        -24.9745     65.281     -0.383      0.702    -152.923     102.974\n",
       "LI             4.3605      2.658      1.641      0.101      -0.849       9.570\n",
       "BLAST         -0.0115      2.266     -0.005      0.996      -4.453       4.430\n",
       "TEMP        -100.1734     77.753     -1.288      0.198    -252.567      52.220\n",
       "==============================================================================\n",
       "\n",
       "Possibly complete quasi-separation: A fraction 0.11 of observations can be\n",
       "perfectly predicted. This might indicate that there is complete\n",
       "quasi-separation. In this case some parameters will not be identified.\n",
       "\"\"\""
      ]
     },
     "execution_count": 3,
     "metadata": {},
     "output_type": "execute_result"
    }
   ],
   "source": [
    "# Fit the model\n",
    "y = df['REMISS']\n",
    "X = df.drop('REMISS', axis=1)\n",
    "\n",
    "X = sm.add_constant(X)\n",
    "model = sm.Logit(y, X).fit()\n",
    "model.summary()"
   ]
  },
  {
   "cell_type": "markdown",
   "id": "826e1b17",
   "metadata": {},
   "source": [
    "1. Find out predictor which is relatively more statistically significant<br>\n",
    "**None of the variables are statistically significant as p-values are more than 0.05**\n",
    "\n",
    "2. Find out estimated odds of remission at LI=0.9<br>"
   ]
  },
  {
   "cell_type": "code",
   "execution_count": 4,
   "id": "88bc4120",
   "metadata": {},
   "outputs": [
    {
     "data": {
      "text/plain": [
       "4.051277660810253e+29"
      ]
     },
     "execution_count": 4,
     "metadata": {},
     "output_type": "execute_result"
    }
   ],
   "source": [
    "odds = np.exp((64.25+(4.36*0.9)))\n",
    "odds"
   ]
  }
 ],
 "metadata": {
  "kernelspec": {
   "display_name": "Python 3 (ipykernel)",
   "language": "python",
   "name": "python3"
  },
  "language_info": {
   "codemirror_mode": {
    "name": "ipython",
    "version": 3
   },
   "file_extension": ".py",
   "mimetype": "text/x-python",
   "name": "python",
   "nbconvert_exporter": "python",
   "pygments_lexer": "ipython3",
   "version": "3.7.13"
  }
 },
 "nbformat": 4,
 "nbformat_minor": 5
}
