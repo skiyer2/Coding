{
 "cells": [
  {
   "cell_type": "markdown",
   "id": "2fb15377",
   "metadata": {},
   "source": [
    "A trucking company wants to predict its yearly maintenance expense for its yearly trucks using miles driven, and the age of truck at beginning of year\n",
    "\n",
    "a) Estimate the MLR equation using given data<br>\n",
    "b) Why is magnitude of miles coefficient so much lower than magnitude of age of truck coefficient<br>\n",
    "c) Interpret R-Squared for this dataset"
   ]
  },
  {
   "cell_type": "code",
   "execution_count": 1,
   "id": "b7d404c3",
   "metadata": {},
   "outputs": [],
   "source": [
    "# Import libraries\n",
    "import numpy as np\n",
    "import pandas as pd\n",
    "import seaborn as sns\n",
    "import matplotlib.pyplot as plt\n",
    "from mpl_toolkits import mplot3d\n",
    "\n",
    "import statsmodels.api as sm"
   ]
  },
  {
   "cell_type": "code",
   "execution_count": 2,
   "id": "e39a6e02",
   "metadata": {},
   "outputs": [
    {
     "data": {
      "text/html": [
       "<div>\n",
       "<style scoped>\n",
       "    .dataframe tbody tr th:only-of-type {\n",
       "        vertical-align: middle;\n",
       "    }\n",
       "\n",
       "    .dataframe tbody tr th {\n",
       "        vertical-align: top;\n",
       "    }\n",
       "\n",
       "    .dataframe thead th {\n",
       "        text-align: right;\n",
       "    }\n",
       "</style>\n",
       "<table border=\"1\" class=\"dataframe\">\n",
       "  <thead>\n",
       "    <tr style=\"text-align: right;\">\n",
       "      <th></th>\n",
       "      <th>Truck</th>\n",
       "      <th>Maintenance Expense</th>\n",
       "      <th>Miles Driven</th>\n",
       "      <th>Age of Truck</th>\n",
       "    </tr>\n",
       "  </thead>\n",
       "  <tbody>\n",
       "    <tr>\n",
       "      <th>0</th>\n",
       "      <td>1</td>\n",
       "      <td>908.56</td>\n",
       "      <td>10500</td>\n",
       "      <td>10</td>\n",
       "    </tr>\n",
       "    <tr>\n",
       "      <th>1</th>\n",
       "      <td>2</td>\n",
       "      <td>751.12</td>\n",
       "      <td>9700</td>\n",
       "      <td>7</td>\n",
       "    </tr>\n",
       "    <tr>\n",
       "      <th>2</th>\n",
       "      <td>3</td>\n",
       "      <td>793.55</td>\n",
       "      <td>9200</td>\n",
       "      <td>8</td>\n",
       "    </tr>\n",
       "    <tr>\n",
       "      <th>3</th>\n",
       "      <td>4</td>\n",
       "      <td>619.61</td>\n",
       "      <td>8300</td>\n",
       "      <td>9</td>\n",
       "    </tr>\n",
       "    <tr>\n",
       "      <th>4</th>\n",
       "      <td>5</td>\n",
       "      <td>380.11</td>\n",
       "      <td>6500</td>\n",
       "      <td>5</td>\n",
       "    </tr>\n",
       "  </tbody>\n",
       "</table>\n",
       "</div>"
      ],
      "text/plain": [
       "   Truck  Maintenance Expense  Miles Driven  Age of Truck\n",
       "0      1               908.56         10500            10\n",
       "1      2               751.12          9700             7\n",
       "2      3               793.55          9200             8\n",
       "3      4               619.61          8300             9\n",
       "4      5               380.11          6500             5"
      ]
     },
     "execution_count": 2,
     "metadata": {},
     "output_type": "execute_result"
    }
   ],
   "source": [
    "# Load the dataset\n",
    "df = pd.read_excel(\"C:/Users/Karthik.Iyer/Downloads/AccelerateAI/Regression-Models-main/MLR_Q08_TruckMaintenance.xlsx\")\n",
    "df.head()"
   ]
  },
  {
   "cell_type": "code",
   "execution_count": 3,
   "id": "a2809fa7",
   "metadata": {},
   "outputs": [
    {
     "data": {
      "text/plain": [
       "<mpl_toolkits.mplot3d.art3d.Path3DCollection at 0x1ca147ddbc8>"
      ]
     },
     "execution_count": 3,
     "metadata": {},
     "output_type": "execute_result"
    },
    {
     "data": {
      "image/png": "[encoded data removed]",
      "text/plain": [
       "<Figure size 432x288 with 1 Axes>"
      ]
     },
     "metadata": {
      "needs_background": "light"
     },
     "output_type": "display_data"
    }
   ],
   "source": [
    "# Let's visualize the data in 3D\n",
    "fig = plt.figure()\n",
    "ax = plt.axes(projection='3d')\n",
    "\n",
    "x1 = df['Miles Driven']\n",
    "x2 = df['Age of Truck']\n",
    "y = df['Maintenance Expense']\n",
    "\n",
    "ax.scatter3D(x1, x2, y, c=y)"
   ]
  },
  {
   "cell_type": "markdown",
   "id": "746f1ca9",
   "metadata": {},
   "source": [
    "As we can see, the absolute values on x1 dimension is much larger than x2"
   ]
  },
  {
   "cell_type": "markdown",
   "id": "d717165d",
   "metadata": {},
   "source": [
    "### a) Estimate the MLR equation using given data"
   ]
  },
  {
   "cell_type": "code",
   "execution_count": 4,
   "id": "2e7a0909",
   "metadata": {},
   "outputs": [],
   "source": [
    "# Let's train the linear regression model\n",
    "\n",
    "Y = df['Maintenance Expense']\n",
    "X = df[['Miles Driven', 'Age of Truck']]\n",
    "\n",
    "X = sm.add_constant(X)\n",
    "\n",
    "reg_model = sm.OLS(Y,X).fit()"
   ]
  },
  {
   "cell_type": "code",
   "execution_count": 5,
   "id": "c52664d7",
   "metadata": {},
   "outputs": [
    {
     "data": {
      "text/html": [
       "<table class=\"simpletable\">\n",
       "<caption>OLS Regression Results</caption>\n",
       "<tr>\n",
       "  <th>Dep. Variable:</th>    <td>Maintenance Expense</td> <th>  R-squared:         </th> <td>   0.951</td>\n",
       "</tr>\n",
       "<tr>\n",
       "  <th>Model:</th>                    <td>OLS</td>         <th>  Adj. R-squared:    </th> <td>   0.946</td>\n",
       "</tr>\n",
       "<tr>\n",
       "  <th>Method:</th>              <td>Least Squares</td>    <th>  F-statistic:       </th> <td>   195.0</td>\n",
       "</tr>\n",
       "<tr>\n",
       "  <th>Date:</th>              <td>Thu, 12 May 2022</td>   <th>  Prob (F-statistic):</th> <td>7.62e-14</td>\n",
       "</tr>\n",
       "<tr>\n",
       "  <th>Time:</th>                  <td>19:48:18</td>       <th>  Log-Likelihood:    </th> <td> -127.47</td>\n",
       "</tr>\n",
       "<tr>\n",
       "  <th>No. Observations:</th>       <td>    23</td>        <th>  AIC:               </th> <td>   260.9</td>\n",
       "</tr>\n",
       "<tr>\n",
       "  <th>Df Residuals:</th>           <td>    20</td>        <th>  BIC:               </th> <td>   264.3</td>\n",
       "</tr>\n",
       "<tr>\n",
       "  <th>Df Model:</th>               <td>     2</td>        <th>                     </th>     <td> </td>   \n",
       "</tr>\n",
       "<tr>\n",
       "  <th>Covariance Type:</th>       <td>nonrobust</td>      <th>                     </th>     <td> </td>   \n",
       "</tr>\n",
       "</table>\n",
       "<table class=\"simpletable\">\n",
       "<tr>\n",
       "        <td></td>          <th>coef</th>     <th>std err</th>      <th>t</th>      <th>P>|t|</th>  <th>[0.025</th>    <th>0.975]</th>  \n",
       "</tr>\n",
       "<tr>\n",
       "  <th>const</th>        <td>   11.4184</td> <td>   29.191</td> <td>    0.391</td> <td> 0.700</td> <td>  -49.473</td> <td>   72.310</td>\n",
       "</tr>\n",
       "<tr>\n",
       "  <th>Miles Driven</th> <td>    0.0712</td> <td>    0.009</td> <td>    8.274</td> <td> 0.000</td> <td>    0.053</td> <td>    0.089</td>\n",
       "</tr>\n",
       "<tr>\n",
       "  <th>Age of Truck</th> <td>   10.7086</td> <td>    9.186</td> <td>    1.166</td> <td> 0.257</td> <td>   -8.453</td> <td>   29.871</td>\n",
       "</tr>\n",
       "</table>\n",
       "<table class=\"simpletable\">\n",
       "<tr>\n",
       "  <th>Omnibus:</th>       <td> 1.263</td> <th>  Durbin-Watson:     </th> <td>   1.925</td>\n",
       "</tr>\n",
       "<tr>\n",
       "  <th>Prob(Omnibus):</th> <td> 0.532</td> <th>  Jarque-Bera (JB):  </th> <td>   0.521</td>\n",
       "</tr>\n",
       "<tr>\n",
       "  <th>Skew:</th>          <td>-0.362</td> <th>  Prob(JB):          </th> <td>   0.771</td>\n",
       "</tr>\n",
       "<tr>\n",
       "  <th>Kurtosis:</th>      <td> 3.142</td> <th>  Cond. No.          </th> <td>1.52e+04</td>\n",
       "</tr>\n",
       "</table><br/><br/>Notes:<br/>[1] Standard Errors assume that the covariance matrix of the errors is correctly specified.<br/>[2] The condition number is large, 1.52e+04. This might indicate that there are<br/>strong multicollinearity or other numerical problems."
      ],
      "text/plain": [
       "<class 'statsmodels.iolib.summary.Summary'>\n",
       "\"\"\"\n",
       "                             OLS Regression Results                            \n",
       "===============================================================================\n",
       "Dep. Variable:     Maintenance Expense   R-squared:                       0.951\n",
       "Model:                             OLS   Adj. R-squared:                  0.946\n",
       "Method:                  Least Squares   F-statistic:                     195.0\n",
       "Date:                 Thu, 12 May 2022   Prob (F-statistic):           7.62e-14\n",
       "Time:                         19:48:18   Log-Likelihood:                -127.47\n",
       "No. Observations:                   23   AIC:                             260.9\n",
       "Df Residuals:                       20   BIC:                             264.3\n",
       "Df Model:                            2                                         \n",
       "Covariance Type:             nonrobust                                         \n",
       "================================================================================\n",
       "                   coef    std err          t      P>|t|      [0.025      0.975]\n",
       "--------------------------------------------------------------------------------\n",
       "const           11.4184     29.191      0.391      0.700     -49.473      72.310\n",
       "Miles Driven     0.0712      0.009      8.274      0.000       0.053       0.089\n",
       "Age of Truck    10.7086      9.186      1.166      0.257      -8.453      29.871\n",
       "==============================================================================\n",
       "Omnibus:                        1.263   Durbin-Watson:                   1.925\n",
       "Prob(Omnibus):                  0.532   Jarque-Bera (JB):                0.521\n",
       "Skew:                          -0.362   Prob(JB):                        0.771\n",
       "Kurtosis:                       3.142   Cond. No.                     1.52e+04\n",
       "==============================================================================\n",
       "\n",
       "Notes:\n",
       "[1] Standard Errors assume that the covariance matrix of the errors is correctly specified.\n",
       "[2] The condition number is large, 1.52e+04. This might indicate that there are\n",
       "strong multicollinearity or other numerical problems.\n",
       "\"\"\""
      ]
     },
     "execution_count": 5,
     "metadata": {},
     "output_type": "execute_result"
    }
   ],
   "source": [
    "# View the model parameters\n",
    "\n",
    "reg_model.summary()"
   ]
  },
  {
   "cell_type": "markdown",
   "id": "49af6efc",
   "metadata": {},
   "source": [
    "F-test:p-value = Prob (F-statistic): 7.62e-14 => The model is significant overall\n",
    "\n",
    "Coefficients:<br>\n",
    "Miles Driven:beta = 0.0712, p-value of t-test:0.000 **=> Significant at 95% CI**<br>\n",
    "Age of Truck:beta = 10.7086, p-value of t-test:0.257 **=> Not Significant at 95% CI**\n",
    "\n",
    "**Regression Equation:**<br>\n",
    "Maintenance Expense = 11.4184+0.0712*Miles Driven"
   ]
  },
  {
   "cell_type": "markdown",
   "id": "e74c1ecf",
   "metadata": {},
   "source": [
    "### b) Why is magnitude of miles driven coefficient so much lower than magnitude of age of truck coefficient\n",
    "\n",
    "This is due to diference in the absolute values for each of these variables. One in thousands, and another in tens"
   ]
  },
  {
   "cell_type": "markdown",
   "id": "ca8c3157",
   "metadata": {},
   "source": [
    "### c) Interpret R-squared for this dataset"
   ]
  },
  {
   "cell_type": "code",
   "execution_count": 6,
   "id": "688ab818",
   "metadata": {},
   "outputs": [
    {
     "name": "stdout",
     "output_type": "stream",
     "text": [
      "                             OLS Regression Results                            \n",
      "===============================================================================\n",
      "Dep. Variable:     Maintenance Expense   R-squared:                       0.948\n",
      "Model:                             OLS   Adj. R-squared:                  0.945\n",
      "Method:                  Least Squares   F-statistic:                     382.2\n",
      "Date:                 Thu, 12 May 2022   Prob (F-statistic):           5.92e-15\n",
      "Time:                         19:48:18   Log-Likelihood:                -128.22\n",
      "No. Observations:                   23   AIC:                             260.4\n",
      "Df Residuals:                       21   BIC:                             262.7\n",
      "Df Model:                            1                                         \n",
      "Covariance Type:             nonrobust                                         \n",
      "================================================================================\n",
      "                   coef    std err          t      P>|t|      [0.025      0.975]\n",
      "--------------------------------------------------------------------------------\n",
      "const           13.2242     29.398      0.450      0.657     -47.912      74.361\n",
      "Miles Driven     0.0801      0.004     19.549      0.000       0.072       0.089\n",
      "==============================================================================\n",
      "Omnibus:                        0.973   Durbin-Watson:                   1.970\n",
      "Prob(Omnibus):                  0.615   Jarque-Bera (JB):                0.261\n",
      "Skew:                          -0.241   Prob(JB):                        0.878\n",
      "Kurtosis:                       3.199   Cond. No.                     1.52e+04\n",
      "==============================================================================\n",
      "\n",
      "Notes:\n",
      "[1] Standard Errors assume that the covariance matrix of the errors is correctly specified.\n",
      "[2] The condition number is large, 1.52e+04. This might indicate that there are\n",
      "strong multicollinearity or other numerical problems.\n"
     ]
    }
   ],
   "source": [
    "# We need to re-train the model with only significant variables\n",
    "\n",
    "Y = df['Maintenance Expense']\n",
    "X = df['Miles Driven']\n",
    "\n",
    "X = sm.add_constant(X)\n",
    "reg_model = sm.OLS(Y,X).fit()\n",
    "print(reg_model.summary())"
   ]
  },
  {
   "cell_type": "markdown",
   "id": "065f9c32",
   "metadata": {},
   "source": [
    "**The R-Squared value is 0.948. This means 94.8% variation in the expense is explained by variation in the miles driven**"
   ]
  }
 ],
 "metadata": {
  "kernelspec": {
   "display_name": "Python 3 (ipykernel)",
   "language": "python",
   "name": "python3"
  },
  "language_info": {
   "codemirror_mode": {
    "name": "ipython",
    "version": 3
   },
   "file_extension": ".py",
   "mimetype": "text/x-python",
   "name": "python",
   "nbconvert_exporter": "python",
   "pygments_lexer": "ipython3",
   "version": "3.7.13"
  }
 },
 "nbformat": 4,
 "nbformat_minor": 5
}
