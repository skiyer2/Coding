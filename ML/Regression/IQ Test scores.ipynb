{
 "cells": [
  {
   "cell_type": "markdown",
   "id": "caab8c9a",
   "metadata": {},
   "source": [
    "Multiple Tests were conducted for a class and their IQ scores were recorded separately. Use the data in MLR_Q17_IQScore to answer the following: https://drive.google.com/drive/folders/1rRbSnLml_iqwC8EeFOrEsetoov2yyHrF\n",
    "\n",
    "1) Are the test scores correlated?<br>\n",
    "2) Build an MLR model using the relevant variables.<br>\n",
    "3) Extract the principal components (PC) from the test dataset. How many PCs have eighenvalue greater than 1.<br>\n",
    "4) Build an MLR with PCs with eighen value > 1. How does the Adj R-Squared compare to the one on step 2?<br>\n",
    "5) Build an MLR with all the PCs. What is the Adj R-Square of thos model?"
   ]
  },
  {
   "cell_type": "code",
   "execution_count": 1,
   "id": "833dc97d",
   "metadata": {},
   "outputs": [],
   "source": [
    "# Import libraries\n",
    "import numpy as np\n",
    "import pandas as pd\n",
    "import matplotlib.pyplot as plt\n",
    "import seaborn as sns\n",
    "\n",
    "from sklearn.decomposition import PCA\n",
    "from sklearn.preprocessing import scale\n",
    "\n",
    "import statsmodels.api as sm"
   ]
  },
  {
   "cell_type": "code",
   "execution_count": 2,
   "id": "224a112f",
   "metadata": {},
   "outputs": [
    {
     "data": {
      "text/html": [
       "<div>\n",
       "<style scoped>\n",
       "    .dataframe tbody tr th:only-of-type {\n",
       "        vertical-align: middle;\n",
       "    }\n",
       "\n",
       "    .dataframe tbody tr th {\n",
       "        vertical-align: top;\n",
       "    }\n",
       "\n",
       "    .dataframe thead th {\n",
       "        text-align: right;\n",
       "    }\n",
       "</style>\n",
       "<table border=\"1\" class=\"dataframe\">\n",
       "  <thead>\n",
       "    <tr style=\"text-align: right;\">\n",
       "      <th></th>\n",
       "      <th>Test1</th>\n",
       "      <th>Test2</th>\n",
       "      <th>Test3</th>\n",
       "      <th>Test4</th>\n",
       "      <th>Test5</th>\n",
       "      <th>IQ</th>\n",
       "    </tr>\n",
       "  </thead>\n",
       "  <tbody>\n",
       "    <tr>\n",
       "      <th>0</th>\n",
       "      <td>83</td>\n",
       "      <td>34</td>\n",
       "      <td>65</td>\n",
       "      <td>63</td>\n",
       "      <td>64</td>\n",
       "      <td>106</td>\n",
       "    </tr>\n",
       "    <tr>\n",
       "      <th>1</th>\n",
       "      <td>73</td>\n",
       "      <td>19</td>\n",
       "      <td>73</td>\n",
       "      <td>48</td>\n",
       "      <td>82</td>\n",
       "      <td>92</td>\n",
       "    </tr>\n",
       "    <tr>\n",
       "      <th>2</th>\n",
       "      <td>54</td>\n",
       "      <td>81</td>\n",
       "      <td>82</td>\n",
       "      <td>65</td>\n",
       "      <td>73</td>\n",
       "      <td>102</td>\n",
       "    </tr>\n",
       "    <tr>\n",
       "      <th>3</th>\n",
       "      <td>96</td>\n",
       "      <td>72</td>\n",
       "      <td>91</td>\n",
       "      <td>88</td>\n",
       "      <td>94</td>\n",
       "      <td>121</td>\n",
       "    </tr>\n",
       "    <tr>\n",
       "      <th>4</th>\n",
       "      <td>84</td>\n",
       "      <td>53</td>\n",
       "      <td>72</td>\n",
       "      <td>68</td>\n",
       "      <td>82</td>\n",
       "      <td>102</td>\n",
       "    </tr>\n",
       "  </tbody>\n",
       "</table>\n",
       "</div>"
      ],
      "text/plain": [
       "   Test1  Test2  Test3  Test4  Test5   IQ\n",
       "0     83     34     65     63     64  106\n",
       "1     73     19     73     48     82   92\n",
       "2     54     81     82     65     73  102\n",
       "3     96     72     91     88     94  121\n",
       "4     84     53     72     68     82  102"
      ]
     },
     "execution_count": 2,
     "metadata": {},
     "output_type": "execute_result"
    }
   ],
   "source": [
    "# load data\n",
    "iqscore = pd.read_csv('C:/Users/Karthik.Iyer/Downloads/AccelerateAI/Regression-Models-main/MLR_Q17_IQScore.csv')\n",
    "iqscore.head()"
   ]
  },
  {
   "cell_type": "code",
   "execution_count": 3,
   "id": "5b83757f",
   "metadata": {},
   "outputs": [],
   "source": [
    "# Create X and Y\n",
    "Y = iqscore['IQ']\n",
    "X = iqscore.drop('IQ', axis=1)"
   ]
  },
  {
   "cell_type": "code",
   "execution_count": 4,
   "id": "f54c6cbd",
   "metadata": {},
   "outputs": [
    {
     "data": {
      "text/html": [
       "<div>\n",
       "<style scoped>\n",
       "    .dataframe tbody tr th:only-of-type {\n",
       "        vertical-align: middle;\n",
       "    }\n",
       "\n",
       "    .dataframe tbody tr th {\n",
       "        vertical-align: top;\n",
       "    }\n",
       "\n",
       "    .dataframe thead th {\n",
       "        text-align: right;\n",
       "    }\n",
       "</style>\n",
       "<table border=\"1\" class=\"dataframe\">\n",
       "  <thead>\n",
       "    <tr style=\"text-align: right;\">\n",
       "      <th></th>\n",
       "      <th>Test1</th>\n",
       "      <th>Test2</th>\n",
       "      <th>Test3</th>\n",
       "      <th>Test4</th>\n",
       "      <th>Test5</th>\n",
       "    </tr>\n",
       "  </thead>\n",
       "  <tbody>\n",
       "    <tr>\n",
       "      <th>Test1</th>\n",
       "      <td>1.000000</td>\n",
       "      <td>0.100018</td>\n",
       "      <td>-0.260801</td>\n",
       "      <td>0.753937</td>\n",
       "      <td>0.013967</td>\n",
       "    </tr>\n",
       "    <tr>\n",
       "      <th>Test2</th>\n",
       "      <td>0.100018</td>\n",
       "      <td>1.000000</td>\n",
       "      <td>0.057232</td>\n",
       "      <td>0.719623</td>\n",
       "      <td>-0.281449</td>\n",
       "    </tr>\n",
       "    <tr>\n",
       "      <th>Test3</th>\n",
       "      <td>-0.260801</td>\n",
       "      <td>0.057232</td>\n",
       "      <td>1.000000</td>\n",
       "      <td>-0.140941</td>\n",
       "      <td>0.347335</td>\n",
       "    </tr>\n",
       "    <tr>\n",
       "      <th>Test4</th>\n",
       "      <td>0.753937</td>\n",
       "      <td>0.719623</td>\n",
       "      <td>-0.140941</td>\n",
       "      <td>1.000000</td>\n",
       "      <td>-0.172864</td>\n",
       "    </tr>\n",
       "    <tr>\n",
       "      <th>Test5</th>\n",
       "      <td>0.013967</td>\n",
       "      <td>-0.281449</td>\n",
       "      <td>0.347335</td>\n",
       "      <td>-0.172864</td>\n",
       "      <td>1.000000</td>\n",
       "    </tr>\n",
       "  </tbody>\n",
       "</table>\n",
       "</div>"
      ],
      "text/plain": [
       "          Test1     Test2     Test3     Test4     Test5\n",
       "Test1  1.000000  0.100018 -0.260801  0.753937  0.013967\n",
       "Test2  0.100018  1.000000  0.057232  0.719623 -0.281449\n",
       "Test3 -0.260801  0.057232  1.000000 -0.140941  0.347335\n",
       "Test4  0.753937  0.719623 -0.140941  1.000000 -0.172864\n",
       "Test5  0.013967 -0.281449  0.347335 -0.172864  1.000000"
      ]
     },
     "execution_count": 4,
     "metadata": {},
     "output_type": "execute_result"
    }
   ],
   "source": [
    "# Check correlation\n",
    "X.corr()"
   ]
  },
  {
   "cell_type": "markdown",
   "id": "a0d294a0",
   "metadata": {},
   "source": [
    "**Test2 and Test4 are correlated**"
   ]
  },
  {
   "cell_type": "code",
   "execution_count": 5,
   "id": "e17d3954",
   "metadata": {},
   "outputs": [
    {
     "data": {
      "text/plain": [
       "Test1    0.225648\n",
       "Test2    0.240651\n",
       "Test3    0.074070\n",
       "Test4    0.371404\n",
       "Test5   -0.058064\n",
       "dtype: float64"
      ]
     },
     "execution_count": 5,
     "metadata": {},
     "output_type": "execute_result"
    }
   ],
   "source": [
    "# Check correlation with Y\n",
    "X.corrwith(Y)"
   ]
  },
  {
   "cell_type": "markdown",
   "id": "b279e0fb",
   "metadata": {},
   "source": [
    "**Test4 has slighlty more correlation with IQ score compared to others**"
   ]
  },
  {
   "cell_type": "code",
   "execution_count": 6,
   "id": "94237c30",
   "metadata": {},
   "outputs": [
    {
     "data": {
      "text/plain": [
       "Test1     668.590033\n",
       "Test2     407.394006\n",
       "Test3      26.167438\n",
       "Test4    1982.284931\n",
       "Test5      23.540886\n",
       "dtype: float64"
      ]
     },
     "execution_count": 6,
     "metadata": {},
     "output_type": "execute_result"
    }
   ],
   "source": [
    "# Check multi-collinearity\n",
    "from statsmodels.stats.outliers_influence import variance_inflation_factor\n",
    "pd.Series([variance_inflation_factor(X.values, i) for i in range(X.shape[1])], index=X.columns)"
   ]
  },
  {
   "cell_type": "code",
   "execution_count": 7,
   "id": "57011cf9",
   "metadata": {},
   "outputs": [
    {
     "data": {
      "text/plain": [
       "Test1    13.754610\n",
       "Test2    11.499783\n",
       "Test3    26.151200\n",
       "Test5    23.523445\n",
       "dtype: float64"
      ]
     },
     "execution_count": 7,
     "metadata": {},
     "output_type": "execute_result"
    }
   ],
   "source": [
    "# Drop Test4\n",
    "X = iqscore.drop(['IQ','Test4'], axis=1)\n",
    "pd.Series([variance_inflation_factor(X.values, i) for i in range(X.shape[1])], index=X.columns)"
   ]
  },
  {
   "cell_type": "code",
   "execution_count": 8,
   "id": "abfa2b15",
   "metadata": {},
   "outputs": [
    {
     "data": {
      "text/plain": [
       "Test1    13.713022\n",
       "Test2     8.562830\n",
       "Test5    10.591489\n",
       "dtype: float64"
      ]
     },
     "execution_count": 8,
     "metadata": {},
     "output_type": "execute_result"
    }
   ],
   "source": [
    "# Drop Test3\n",
    "X = iqscore.drop(['IQ','Test4','Test3'], axis=1)\n",
    "pd.Series([variance_inflation_factor(X.values, i) for i in range(X.shape[1])], index=X.columns)"
   ]
  },
  {
   "cell_type": "code",
   "execution_count": 9,
   "id": "a8ce2bb1",
   "metadata": {},
   "outputs": [
    {
     "data": {
      "text/plain": [
       "Test2    6.184685\n",
       "Test5    6.184685\n",
       "dtype: float64"
      ]
     },
     "execution_count": 9,
     "metadata": {},
     "output_type": "execute_result"
    }
   ],
   "source": [
    "# Drop Test1\n",
    "X = iqscore.drop(['IQ','Test4','Test3','Test1'], axis=1)\n",
    "pd.Series([variance_inflation_factor(X.values, i) for i in range(X.shape[1])], index=X.columns)"
   ]
  },
  {
   "cell_type": "code",
   "execution_count": 10,
   "id": "e41a6bc3",
   "metadata": {},
   "outputs": [
    {
     "data": {
      "text/plain": [
       "Test2    0.240651\n",
       "Test5   -0.058064\n",
       "dtype: float64"
      ]
     },
     "execution_count": 10,
     "metadata": {},
     "output_type": "execute_result"
    }
   ],
   "source": [
    "# Check correlation with Y\n",
    "X.corrwith(Y)"
   ]
  },
  {
   "cell_type": "code",
   "execution_count": 11,
   "id": "a9337029",
   "metadata": {},
   "outputs": [
    {
     "data": {
      "text/html": [
       "<div>\n",
       "<style scoped>\n",
       "    .dataframe tbody tr th:only-of-type {\n",
       "        vertical-align: middle;\n",
       "    }\n",
       "\n",
       "    .dataframe tbody tr th {\n",
       "        vertical-align: top;\n",
       "    }\n",
       "\n",
       "    .dataframe thead th {\n",
       "        text-align: right;\n",
       "    }\n",
       "</style>\n",
       "<table border=\"1\" class=\"dataframe\">\n",
       "  <thead>\n",
       "    <tr style=\"text-align: right;\">\n",
       "      <th></th>\n",
       "      <th>Test2</th>\n",
       "      <th>Test5</th>\n",
       "    </tr>\n",
       "  </thead>\n",
       "  <tbody>\n",
       "    <tr>\n",
       "      <th>0</th>\n",
       "      <td>34</td>\n",
       "      <td>64</td>\n",
       "    </tr>\n",
       "    <tr>\n",
       "      <th>1</th>\n",
       "      <td>19</td>\n",
       "      <td>82</td>\n",
       "    </tr>\n",
       "    <tr>\n",
       "      <th>2</th>\n",
       "      <td>81</td>\n",
       "      <td>73</td>\n",
       "    </tr>\n",
       "    <tr>\n",
       "      <th>3</th>\n",
       "      <td>72</td>\n",
       "      <td>94</td>\n",
       "    </tr>\n",
       "    <tr>\n",
       "      <th>4</th>\n",
       "      <td>53</td>\n",
       "      <td>82</td>\n",
       "    </tr>\n",
       "  </tbody>\n",
       "</table>\n",
       "</div>"
      ],
      "text/plain": [
       "   Test2  Test5\n",
       "0     34     64\n",
       "1     19     82\n",
       "2     81     73\n",
       "3     72     94\n",
       "4     53     82"
      ]
     },
     "execution_count": 11,
     "metadata": {},
     "output_type": "execute_result"
    }
   ],
   "source": [
    "# Check X\n",
    "X.head()"
   ]
  },
  {
   "cell_type": "code",
   "execution_count": 12,
   "id": "dcedd442",
   "metadata": {},
   "outputs": [
    {
     "name": "stderr",
     "output_type": "stream",
     "text": [
      "C:\\Users\\Karthik.Iyer\\AppData\\Local\\Continuum\\anaconda3\\lib\\site-packages\\scipy\\stats\\stats.py:1542: UserWarning: kurtosistest only valid for n>=20 ... continuing anyway, n=15\n",
      "  \"anyway, n=%i\" % int(n))\n"
     ]
    },
    {
     "data": {
      "text/html": [
       "<table class=\"simpletable\">\n",
       "<caption>OLS Regression Results</caption>\n",
       "<tr>\n",
       "  <th>Dep. Variable:</th>           <td>IQ</td>        <th>  R-squared:         </th> <td>   0.058</td>\n",
       "</tr>\n",
       "<tr>\n",
       "  <th>Model:</th>                   <td>OLS</td>       <th>  Adj. R-squared:    </th> <td>  -0.099</td>\n",
       "</tr>\n",
       "<tr>\n",
       "  <th>Method:</th>             <td>Least Squares</td>  <th>  F-statistic:       </th> <td>  0.3695</td>\n",
       "</tr>\n",
       "<tr>\n",
       "  <th>Date:</th>             <td>Mon, 23 May 2022</td> <th>  Prob (F-statistic):</th>  <td> 0.699</td> \n",
       "</tr>\n",
       "<tr>\n",
       "  <th>Time:</th>                 <td>18:07:50</td>     <th>  Log-Likelihood:    </th> <td> -56.310</td>\n",
       "</tr>\n",
       "<tr>\n",
       "  <th>No. Observations:</th>      <td>    15</td>      <th>  AIC:               </th> <td>   118.6</td>\n",
       "</tr>\n",
       "<tr>\n",
       "  <th>Df Residuals:</th>          <td>    12</td>      <th>  BIC:               </th> <td>   120.7</td>\n",
       "</tr>\n",
       "<tr>\n",
       "  <th>Df Model:</th>              <td>     2</td>      <th>                     </th>     <td> </td>   \n",
       "</tr>\n",
       "<tr>\n",
       "  <th>Covariance Type:</th>      <td>nonrobust</td>    <th>                     </th>     <td> </td>   \n",
       "</tr>\n",
       "</table>\n",
       "<table class=\"simpletable\">\n",
       "<tr>\n",
       "    <td></td>       <th>coef</th>     <th>std err</th>      <th>t</th>      <th>P>|t|</th>  <th>[0.025</th>    <th>0.975]</th>  \n",
       "</tr>\n",
       "<tr>\n",
       "  <th>const</th> <td>   95.3371</td> <td>   19.656</td> <td>    4.850</td> <td> 0.000</td> <td>   52.510</td> <td>  138.164</td>\n",
       "</tr>\n",
       "<tr>\n",
       "  <th>Test2</th> <td>    0.1384</td> <td>    0.166</td> <td>    0.834</td> <td> 0.420</td> <td>   -0.223</td> <td>    0.500</td>\n",
       "</tr>\n",
       "<tr>\n",
       "  <th>Test5</th> <td>    0.0072</td> <td>    0.199</td> <td>    0.036</td> <td> 0.972</td> <td>   -0.427</td> <td>    0.441</td>\n",
       "</tr>\n",
       "</table>\n",
       "<table class=\"simpletable\">\n",
       "<tr>\n",
       "  <th>Omnibus:</th>       <td> 4.503</td> <th>  Durbin-Watson:     </th> <td>   1.331</td>\n",
       "</tr>\n",
       "<tr>\n",
       "  <th>Prob(Omnibus):</th> <td> 0.105</td> <th>  Jarque-Bera (JB):  </th> <td>   2.576</td>\n",
       "</tr>\n",
       "<tr>\n",
       "  <th>Skew:</th>          <td> 1.010</td> <th>  Prob(JB):          </th> <td>   0.276</td>\n",
       "</tr>\n",
       "<tr>\n",
       "  <th>Kurtosis:</th>      <td> 3.197</td> <th>  Cond. No.          </th> <td>    621.</td>\n",
       "</tr>\n",
       "</table><br/><br/>Notes:<br/>[1] Standard Errors assume that the covariance matrix of the errors is correctly specified."
      ],
      "text/plain": [
       "<class 'statsmodels.iolib.summary.Summary'>\n",
       "\"\"\"\n",
       "                            OLS Regression Results                            \n",
       "==============================================================================\n",
       "Dep. Variable:                     IQ   R-squared:                       0.058\n",
       "Model:                            OLS   Adj. R-squared:                 -0.099\n",
       "Method:                 Least Squares   F-statistic:                    0.3695\n",
       "Date:                Mon, 23 May 2022   Prob (F-statistic):              0.699\n",
       "Time:                        18:07:50   Log-Likelihood:                -56.310\n",
       "No. Observations:                  15   AIC:                             118.6\n",
       "Df Residuals:                      12   BIC:                             120.7\n",
       "Df Model:                           2                                         \n",
       "Covariance Type:            nonrobust                                         \n",
       "==============================================================================\n",
       "                 coef    std err          t      P>|t|      [0.025      0.975]\n",
       "------------------------------------------------------------------------------\n",
       "const         95.3371     19.656      4.850      0.000      52.510     138.164\n",
       "Test2          0.1384      0.166      0.834      0.420      -0.223       0.500\n",
       "Test5          0.0072      0.199      0.036      0.972      -0.427       0.441\n",
       "==============================================================================\n",
       "Omnibus:                        4.503   Durbin-Watson:                   1.331\n",
       "Prob(Omnibus):                  0.105   Jarque-Bera (JB):                2.576\n",
       "Skew:                           1.010   Prob(JB):                        0.276\n",
       "Kurtosis:                       3.197   Cond. No.                         621.\n",
       "==============================================================================\n",
       "\n",
       "Notes:\n",
       "[1] Standard Errors assume that the covariance matrix of the errors is correctly specified.\n",
       "\"\"\""
      ]
     },
     "execution_count": 12,
     "metadata": {},
     "output_type": "execute_result"
    }
   ],
   "source": [
    "# Train the model\n",
    "X = sm.add_constant(X)\n",
    "\n",
    "reg_model = sm.OLS(Y,X).fit()\n",
    "reg_model.summary()"
   ]
  },
  {
   "cell_type": "markdown",
   "id": "08d38566",
   "metadata": {},
   "source": [
    "**Regression Eq:**<br>\n",
    "IQ = 95.3371 + 0.1384 * Test2 + 0.0072 * Test5"
   ]
  },
  {
   "cell_type": "code",
   "execution_count": 13,
   "id": "0473b64f",
   "metadata": {},
   "outputs": [],
   "source": [
    "# Create X\n",
    "X_vars = iqscore.drop('IQ', axis=1)"
   ]
  },
  {
   "cell_type": "code",
   "execution_count": 14,
   "id": "81b767b3",
   "metadata": {},
   "outputs": [],
   "source": [
    "# Fit PCA and get transformed data\n",
    "pca = PCA().fit(scale(X_vars))"
   ]
  },
  {
   "cell_type": "code",
   "execution_count": 15,
   "id": "28f38d44",
   "metadata": {},
   "outputs": [
    {
     "name": "stdout",
     "output_type": "stream",
     "text": [
      "Eighen value: 2.373166939984251 \n",
      "Axis 0 : [-0.48660571 -0.47250683  0.23207994 -0.64604806  0.2621316 ]\n",
      "Eighen value: 1.3154021139702725 \n",
      "Axis 1 : [0.12647863 0.22905202 0.70351061 0.23976434 0.61573063]\n",
      "Eighen value: 1.185230822561089 \n",
      "Axis 2 : [-0.59473493  0.57320793  0.33093311 -0.03692857 -0.4547995 ]\n",
      "Eighen value: 0.47638231034348977 \n",
      "Axis 3 : [-0.3763513   0.41383805 -0.58454478  0.00924243  0.58763913]\n",
      "Eighen value: 0.006960670283750621 \n",
      "Axis 4 : [ 5.01864619e-01  4.73754372e-01  1.54555595e-03 -7.23661398e-01\n",
      "  7.00521977e-04]\n"
     ]
    }
   ],
   "source": [
    "# The principal axis and eighen values\n",
    "for i, (comp,var) in enumerate(zip(pca.components_, pca.explained_variance_)):\n",
    "    print('Eighen value:',var,'\\nAxis',i,':',comp)"
   ]
  },
  {
   "cell_type": "markdown",
   "id": "950b0c1e",
   "metadata": {},
   "source": [
    "**First 3 principal components (PCs) are having eighen values greater than 1**"
   ]
  },
  {
   "cell_type": "code",
   "execution_count": 16,
   "id": "2550e1f0",
   "metadata": {},
   "outputs": [],
   "source": [
    "X_transform = pca.transform(scale(X_vars))"
   ]
  },
  {
   "cell_type": "code",
   "execution_count": 17,
   "id": "d7662e47",
   "metadata": {},
   "outputs": [
    {
     "data": {
      "text/plain": [
       "array([[ 0.15672499, -0.86309491, -1.36203168, -0.86657678, -0.10774732],\n",
       "       [ 1.97621313, -0.28291317, -1.76440475, -0.63484355,  0.02128374],\n",
       "       [ 0.14398747,  0.72395438,  1.22952344,  0.46307102,  0.10916046],\n",
       "       [-1.44821522,  2.61256861, -0.99816025, -0.23945064, -0.09670003],\n",
       "       [-0.17445329,  0.52177055, -1.19179838, -0.07560538,  0.13560936],\n",
       "       [-1.80530162, -0.46650014, -0.19219548, -0.26508763,  0.08306683],\n",
       "       [-0.65041402, -0.5162498 , -0.2974852 , -0.04626892,  0.06883195],\n",
       "       [ 1.1227968 , -1.39187081, -0.94095613,  1.76324413, -0.00568583],\n",
       "       [ 2.98676446,  0.12384555,  1.00175472, -0.46146844,  0.03753432],\n",
       "       [ 2.38326323,  1.08772103,  0.90900483, -0.07441367, -0.01725664],\n",
       "       [-1.09602054, -2.00277365,  0.27225775, -0.24784533, -0.05751862],\n",
       "       [-0.05578459,  1.12768834, -0.03016279,  1.11734648, -0.12115262],\n",
       "       [-1.08882299,  0.26505991,  1.22492937, -0.58151382,  0.01949723],\n",
       "       [-2.2764078 ,  0.05707461,  0.36587077,  0.37365417,  0.04173423],\n",
       "       [-0.17433   , -0.9962805 ,  1.77385377, -0.22424161, -0.11065706]])"
      ]
     },
     "execution_count": 17,
     "metadata": {},
     "output_type": "execute_result"
    }
   ],
   "source": [
    "X_transform"
   ]
  },
  {
   "cell_type": "code",
   "execution_count": 18,
   "id": "2f0cf2d5",
   "metadata": {},
   "outputs": [
    {
     "name": "stderr",
     "output_type": "stream",
     "text": [
      "C:\\Users\\Karthik.Iyer\\AppData\\Local\\Continuum\\anaconda3\\lib\\site-packages\\scipy\\stats\\stats.py:1542: UserWarning: kurtosistest only valid for n>=20 ... continuing anyway, n=15\n",
      "  \"anyway, n=%i\" % int(n))\n"
     ]
    },
    {
     "data": {
      "text/html": [
       "<table class=\"simpletable\">\n",
       "<caption>OLS Regression Results</caption>\n",
       "<tr>\n",
       "  <th>Dep. Variable:</th>           <td>IQ</td>        <th>  R-squared:         </th> <td>   0.127</td>\n",
       "</tr>\n",
       "<tr>\n",
       "  <th>Model:</th>                   <td>OLS</td>       <th>  Adj. R-squared:    </th> <td>  -0.111</td>\n",
       "</tr>\n",
       "<tr>\n",
       "  <th>Method:</th>             <td>Least Squares</td>  <th>  F-statistic:       </th> <td>  0.5324</td>\n",
       "</tr>\n",
       "<tr>\n",
       "  <th>Date:</th>             <td>Mon, 23 May 2022</td> <th>  Prob (F-statistic):</th>  <td> 0.669</td> \n",
       "</tr>\n",
       "<tr>\n",
       "  <th>Time:</th>                 <td>18:07:50</td>     <th>  Log-Likelihood:    </th> <td> -55.742</td>\n",
       "</tr>\n",
       "<tr>\n",
       "  <th>No. Observations:</th>      <td>    15</td>      <th>  AIC:               </th> <td>   119.5</td>\n",
       "</tr>\n",
       "<tr>\n",
       "  <th>Df Residuals:</th>          <td>    11</td>      <th>  BIC:               </th> <td>   122.3</td>\n",
       "</tr>\n",
       "<tr>\n",
       "  <th>Df Model:</th>              <td>     3</td>      <th>                     </th>     <td> </td>   \n",
       "</tr>\n",
       "<tr>\n",
       "  <th>Covariance Type:</th>      <td>nonrobust</td>    <th>                     </th>     <td> </td>   \n",
       "</tr>\n",
       "</table>\n",
       "<table class=\"simpletable\">\n",
       "<tr>\n",
       "    <td></td>       <th>coef</th>     <th>std err</th>      <th>t</th>      <th>P>|t|</th>  <th>[0.025</th>    <th>0.975]</th>  \n",
       "</tr>\n",
       "<tr>\n",
       "  <th>const</th> <td>  104.3333</td> <td>    2.999</td> <td>   34.791</td> <td> 0.000</td> <td>   97.733</td> <td>  110.934</td>\n",
       "</tr>\n",
       "<tr>\n",
       "  <th>x1</th>    <td>   -2.2176</td> <td>    2.015</td> <td>   -1.101</td> <td> 0.295</td> <td>   -6.653</td> <td>    2.217</td>\n",
       "</tr>\n",
       "<tr>\n",
       "  <th>x2</th>    <td>    1.6391</td> <td>    2.707</td> <td>    0.606</td> <td> 0.557</td> <td>   -4.318</td> <td>    7.596</td>\n",
       "</tr>\n",
       "<tr>\n",
       "  <th>x3</th>    <td>    0.3940</td> <td>    2.851</td> <td>    0.138</td> <td> 0.893</td> <td>   -5.882</td> <td>    6.670</td>\n",
       "</tr>\n",
       "</table>\n",
       "<table class=\"simpletable\">\n",
       "<tr>\n",
       "  <th>Omnibus:</th>       <td> 6.618</td> <th>  Durbin-Watson:     </th> <td>   1.214</td>\n",
       "</tr>\n",
       "<tr>\n",
       "  <th>Prob(Omnibus):</th> <td> 0.037</td> <th>  Jarque-Bera (JB):  </th> <td>   3.596</td>\n",
       "</tr>\n",
       "<tr>\n",
       "  <th>Skew:</th>          <td> 1.119</td> <th>  Prob(JB):          </th> <td>   0.166</td>\n",
       "</tr>\n",
       "<tr>\n",
       "  <th>Kurtosis:</th>      <td> 3.862</td> <th>  Cond. No.          </th> <td>    1.49</td>\n",
       "</tr>\n",
       "</table><br/><br/>Notes:<br/>[1] Standard Errors assume that the covariance matrix of the errors is correctly specified."
      ],
      "text/plain": [
       "<class 'statsmodels.iolib.summary.Summary'>\n",
       "\"\"\"\n",
       "                            OLS Regression Results                            \n",
       "==============================================================================\n",
       "Dep. Variable:                     IQ   R-squared:                       0.127\n",
       "Model:                            OLS   Adj. R-squared:                 -0.111\n",
       "Method:                 Least Squares   F-statistic:                    0.5324\n",
       "Date:                Mon, 23 May 2022   Prob (F-statistic):              0.669\n",
       "Time:                        18:07:50   Log-Likelihood:                -55.742\n",
       "No. Observations:                  15   AIC:                             119.5\n",
       "Df Residuals:                      11   BIC:                             122.3\n",
       "Df Model:                           3                                         \n",
       "Covariance Type:            nonrobust                                         \n",
       "==============================================================================\n",
       "                 coef    std err          t      P>|t|      [0.025      0.975]\n",
       "------------------------------------------------------------------------------\n",
       "const        104.3333      2.999     34.791      0.000      97.733     110.934\n",
       "x1            -2.2176      2.015     -1.101      0.295      -6.653       2.217\n",
       "x2             1.6391      2.707      0.606      0.557      -4.318       7.596\n",
       "x3             0.3940      2.851      0.138      0.893      -5.882       6.670\n",
       "==============================================================================\n",
       "Omnibus:                        6.618   Durbin-Watson:                   1.214\n",
       "Prob(Omnibus):                  0.037   Jarque-Bera (JB):                3.596\n",
       "Skew:                           1.119   Prob(JB):                        0.166\n",
       "Kurtosis:                       3.862   Cond. No.                         1.49\n",
       "==============================================================================\n",
       "\n",
       "Notes:\n",
       "[1] Standard Errors assume that the covariance matrix of the errors is correctly specified.\n",
       "\"\"\""
      ]
     },
     "execution_count": 18,
     "metadata": {},
     "output_type": "execute_result"
    }
   ],
   "source": [
    "# Train the model with PCs greater than 1\n",
    "X = X_transform[:,0:3]\n",
    "X = sm.add_constant(X)\n",
    "\n",
    "Y = iqscore['IQ']\n",
    "\n",
    "pca_model = sm.OLS(Y,X).fit()\n",
    "pca_model.summary()"
   ]
  },
  {
   "cell_type": "markdown",
   "id": "89827746",
   "metadata": {},
   "source": [
    "**Adjusted R-Squared was -0.09 before pca and after pca it is -0.11**"
   ]
  },
  {
   "cell_type": "code",
   "execution_count": 19,
   "id": "cd80e017",
   "metadata": {},
   "outputs": [
    {
     "name": "stderr",
     "output_type": "stream",
     "text": [
      "C:\\Users\\Karthik.Iyer\\AppData\\Local\\Continuum\\anaconda3\\lib\\site-packages\\scipy\\stats\\stats.py:1542: UserWarning: kurtosistest only valid for n>=20 ... continuing anyway, n=15\n",
      "  \"anyway, n=%i\" % int(n))\n"
     ]
    },
    {
     "data": {
      "text/html": [
       "<table class=\"simpletable\">\n",
       "<caption>OLS Regression Results</caption>\n",
       "<tr>\n",
       "  <th>Dep. Variable:</th>           <td>IQ</td>        <th>  R-squared:         </th> <td>   0.399</td>\n",
       "</tr>\n",
       "<tr>\n",
       "  <th>Model:</th>                   <td>OLS</td>       <th>  Adj. R-squared:    </th> <td>   0.065</td>\n",
       "</tr>\n",
       "<tr>\n",
       "  <th>Method:</th>             <td>Least Squares</td>  <th>  F-statistic:       </th> <td>   1.195</td>\n",
       "</tr>\n",
       "<tr>\n",
       "  <th>Date:</th>             <td>Mon, 23 May 2022</td> <th>  Prob (F-statistic):</th>  <td> 0.384</td> \n",
       "</tr>\n",
       "<tr>\n",
       "  <th>Time:</th>                 <td>18:07:50</td>     <th>  Log-Likelihood:    </th> <td> -52.939</td>\n",
       "</tr>\n",
       "<tr>\n",
       "  <th>No. Observations:</th>      <td>    15</td>      <th>  AIC:               </th> <td>   117.9</td>\n",
       "</tr>\n",
       "<tr>\n",
       "  <th>Df Residuals:</th>          <td>     9</td>      <th>  BIC:               </th> <td>   122.1</td>\n",
       "</tr>\n",
       "<tr>\n",
       "  <th>Df Model:</th>              <td>     5</td>      <th>                     </th>     <td> </td>   \n",
       "</tr>\n",
       "<tr>\n",
       "  <th>Covariance Type:</th>      <td>nonrobust</td>    <th>                     </th>     <td> </td>   \n",
       "</tr>\n",
       "</table>\n",
       "<table class=\"simpletable\">\n",
       "<tr>\n",
       "    <td></td>       <th>coef</th>     <th>std err</th>      <th>t</th>      <th>P>|t|</th>  <th>[0.025</th>    <th>0.975]</th>  \n",
       "</tr>\n",
       "<tr>\n",
       "  <th>const</th> <td>  104.3333</td> <td>    2.750</td> <td>   37.935</td> <td> 0.000</td> <td>   98.112</td> <td>  110.555</td>\n",
       "</tr>\n",
       "<tr>\n",
       "  <th>x1</th>    <td>   -2.2176</td> <td>    1.848</td> <td>   -1.200</td> <td> 0.261</td> <td>   -6.398</td> <td>    1.963</td>\n",
       "</tr>\n",
       "<tr>\n",
       "  <th>x2</th>    <td>    1.6391</td> <td>    2.482</td> <td>    0.660</td> <td> 0.526</td> <td>   -3.976</td> <td>    7.254</td>\n",
       "</tr>\n",
       "<tr>\n",
       "  <th>x3</th>    <td>    0.3940</td> <td>    2.615</td> <td>    0.151</td> <td> 0.884</td> <td>   -5.521</td> <td>    6.309</td>\n",
       "</tr>\n",
       "<tr>\n",
       "  <th>x4</th>    <td>   -1.4200</td> <td>    4.125</td> <td>   -0.344</td> <td> 0.739</td> <td>  -10.751</td> <td>    7.911</td>\n",
       "</tr>\n",
       "<tr>\n",
       "  <th>x5</th>    <td>  -67.8981</td> <td>   34.123</td> <td>   -1.990</td> <td> 0.078</td> <td> -145.089</td> <td>    9.292</td>\n",
       "</tr>\n",
       "</table>\n",
       "<table class=\"simpletable\">\n",
       "<tr>\n",
       "  <th>Omnibus:</th>       <td> 6.629</td> <th>  Durbin-Watson:     </th> <td>   1.001</td>\n",
       "</tr>\n",
       "<tr>\n",
       "  <th>Prob(Omnibus):</th> <td> 0.036</td> <th>  Jarque-Bera (JB):  </th> <td>   3.517</td>\n",
       "</tr>\n",
       "<tr>\n",
       "  <th>Skew:</th>          <td> 1.078</td> <th>  Prob(JB):          </th> <td>   0.172</td>\n",
       "</tr>\n",
       "<tr>\n",
       "  <th>Kurtosis:</th>      <td> 3.989</td> <th>  Cond. No.          </th> <td>    18.5</td>\n",
       "</tr>\n",
       "</table><br/><br/>Notes:<br/>[1] Standard Errors assume that the covariance matrix of the errors is correctly specified."
      ],
      "text/plain": [
       "<class 'statsmodels.iolib.summary.Summary'>\n",
       "\"\"\"\n",
       "                            OLS Regression Results                            \n",
       "==============================================================================\n",
       "Dep. Variable:                     IQ   R-squared:                       0.399\n",
       "Model:                            OLS   Adj. R-squared:                  0.065\n",
       "Method:                 Least Squares   F-statistic:                     1.195\n",
       "Date:                Mon, 23 May 2022   Prob (F-statistic):              0.384\n",
       "Time:                        18:07:50   Log-Likelihood:                -52.939\n",
       "No. Observations:                  15   AIC:                             117.9\n",
       "Df Residuals:                       9   BIC:                             122.1\n",
       "Df Model:                           5                                         \n",
       "Covariance Type:            nonrobust                                         \n",
       "==============================================================================\n",
       "                 coef    std err          t      P>|t|      [0.025      0.975]\n",
       "------------------------------------------------------------------------------\n",
       "const        104.3333      2.750     37.935      0.000      98.112     110.555\n",
       "x1            -2.2176      1.848     -1.200      0.261      -6.398       1.963\n",
       "x2             1.6391      2.482      0.660      0.526      -3.976       7.254\n",
       "x3             0.3940      2.615      0.151      0.884      -5.521       6.309\n",
       "x4            -1.4200      4.125     -0.344      0.739     -10.751       7.911\n",
       "x5           -67.8981     34.123     -1.990      0.078    -145.089       9.292\n",
       "==============================================================================\n",
       "Omnibus:                        6.629   Durbin-Watson:                   1.001\n",
       "Prob(Omnibus):                  0.036   Jarque-Bera (JB):                3.517\n",
       "Skew:                           1.078   Prob(JB):                        0.172\n",
       "Kurtosis:                       3.989   Cond. No.                         18.5\n",
       "==============================================================================\n",
       "\n",
       "Notes:\n",
       "[1] Standard Errors assume that the covariance matrix of the errors is correctly specified.\n",
       "\"\"\""
      ]
     },
     "execution_count": 19,
     "metadata": {},
     "output_type": "execute_result"
    }
   ],
   "source": [
    "# Train the model with all PCs\n",
    "X = X_transform\n",
    "X = sm.add_constant(X)\n",
    "\n",
    "Y = iqscore['IQ']\n",
    "\n",
    "pca_model = sm.OLS(Y,X).fit()\n",
    "pca_model.summary()"
   ]
  },
  {
   "cell_type": "markdown",
   "id": "ef91a6ee",
   "metadata": {},
   "source": [
    "**Adjusted R-Squared now is 0.06, much better than with few principal components**"
   ]
  },
  {
   "cell_type": "markdown",
   "id": "3a0fa388",
   "metadata": {},
   "source": [
    "1) Are the test scores correlated?<br>\n",
    "\n",
    "Test2 and Test4 are correlated\n",
    "\n",
    "2) Build an MLR model using the relevant variables.<br>\n",
    "\n",
    "IQ = 95.3371 + 0.1384 * Test2 + 0.0072 * Test5\n",
    "\n",
    "3) Extract the principal components (PC) from the test dataset. How many PCs have eighenvalue greater than 1.<br>\n",
    "\n",
    "First 3 principal components (PCs) are having eighen values greater than 1\n",
    "\n",
    "4) Build an MLR with PCs with eighen value > 1. How does the Adj R-Squared compare to the one on step 2?<br>\n",
    "\n",
    "Adjusted R-Squared was -0.09 before pca and after pca it is -0.11\n",
    "\n",
    "5) Build an MLR with all the PCs. What is the Adj R-Square of thos model?\n",
    "\n",
    "Adjusted R-Squared now is 0.06, much better than with few principal components"
   ]
  }
 ],
 "metadata": {
  "kernelspec": {
   "display_name": "Python 3 (ipykernel)",
   "language": "python",
   "name": "python3"
  },
  "language_info": {
   "codemirror_mode": {
    "name": "ipython",
    "version": 3
   },
   "file_extension": ".py",
   "mimetype": "text/x-python",
   "name": "python",
   "nbconvert_exporter": "python",
   "pygments_lexer": "ipython3",
   "version": "3.7.13"
  }
 },
 "nbformat": 4,
 "nbformat_minor": 5
}
