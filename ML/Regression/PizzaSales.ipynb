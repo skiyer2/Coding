{
 "cells": [
  {
   "cell_type": "markdown",
   "id": "bc37497d",
   "metadata": {},
   "source": [
    "The owner of Bangalore Pizza restaurant chain wants to predict the sales of his specialty Thin Crust Masala Pizza. He gathered data on monthly sales at his restaurant and potentially relevant variables for 15 outlets across Karnataka.\n",
    "\n",
    "1) Estimate the MLR model coefficients<br>\n",
    "2) Is there an evidence of violation of any key assumption of regression analysis?<br>\n",
    "3) Which variable among these would you choose to remove and Why?<br>\n",
    "4) Will removing that variable increase the overall explanatory power of the model?"
   ]
  },
  {
   "cell_type": "code",
   "execution_count": 1,
   "id": "760a0aac",
   "metadata": {},
   "outputs": [],
   "source": [
    "# import libraries\n",
    "import numpy as np\n",
    "import pandas as pd\n",
    "import matplotlib.pyplot as plt\n",
    "import seaborn as sns\n",
    "\n",
    "import statsmodels.api as sm"
   ]
  },
  {
   "cell_type": "code",
   "execution_count": 2,
   "id": "85ccd415",
   "metadata": {},
   "outputs": [
    {
     "data": {
      "text/html": [
       "<div>\n",
       "<style scoped>\n",
       "    .dataframe tbody tr th:only-of-type {\n",
       "        vertical-align: middle;\n",
       "    }\n",
       "\n",
       "    .dataframe tbody tr th {\n",
       "        vertical-align: top;\n",
       "    }\n",
       "\n",
       "    .dataframe thead th {\n",
       "        text-align: right;\n",
       "    }\n",
       "</style>\n",
       "<table border=\"1\" class=\"dataframe\">\n",
       "  <thead>\n",
       "    <tr style=\"text-align: right;\">\n",
       "      <th></th>\n",
       "      <th>Outlet Number</th>\n",
       "      <th>Quantity Sold</th>\n",
       "      <th>Average Price</th>\n",
       "      <th>Monthly Advertising Expenditures</th>\n",
       "      <th>Disposable Income per Household</th>\n",
       "    </tr>\n",
       "  </thead>\n",
       "  <tbody>\n",
       "    <tr>\n",
       "      <th>0</th>\n",
       "      <td>1</td>\n",
       "      <td>85,300</td>\n",
       "      <td>$10.14</td>\n",
       "      <td>$64,800</td>\n",
       "      <td>$42,100</td>\n",
       "    </tr>\n",
       "    <tr>\n",
       "      <th>1</th>\n",
       "      <td>2</td>\n",
       "      <td>40,500</td>\n",
       "      <td>$10.88</td>\n",
       "      <td>$42,800</td>\n",
       "      <td>$38,300</td>\n",
       "    </tr>\n",
       "    <tr>\n",
       "      <th>2</th>\n",
       "      <td>3</td>\n",
       "      <td>61,800</td>\n",
       "      <td>$12.33</td>\n",
       "      <td>$58,600</td>\n",
       "      <td>$41,000</td>\n",
       "    </tr>\n",
       "    <tr>\n",
       "      <th>3</th>\n",
       "      <td>4</td>\n",
       "      <td>50,800</td>\n",
       "      <td>$12.70</td>\n",
       "      <td>$46,500</td>\n",
       "      <td>$43,300</td>\n",
       "    </tr>\n",
       "    <tr>\n",
       "      <th>4</th>\n",
       "      <td>5</td>\n",
       "      <td>60,600</td>\n",
       "      <td>$12.29</td>\n",
       "      <td>$50,700</td>\n",
       "      <td>$44,000</td>\n",
       "    </tr>\n",
       "  </tbody>\n",
       "</table>\n",
       "</div>"
      ],
      "text/plain": [
       "   Outlet Number Quantity Sold Average Price Monthly Advertising Expenditures  \\\n",
       "0              1        85,300        $10.14                          $64,800   \n",
       "1              2        40,500        $10.88                          $42,800   \n",
       "2              3        61,800        $12.33                          $58,600   \n",
       "3              4        50,800        $12.70                          $46,500   \n",
       "4              5        60,600        $12.29                          $50,700   \n",
       "\n",
       "  Disposable Income per Household  \n",
       "0                         $42,100  \n",
       "1                         $38,300  \n",
       "2                         $41,000  \n",
       "3                         $43,300  \n",
       "4                         $44,000  "
      ]
     },
     "execution_count": 2,
     "metadata": {},
     "output_type": "execute_result"
    }
   ],
   "source": [
    "# load data\n",
    "df = pd.read_csv('C:/Users/Karthik.Iyer/Downloads/AccelerateAI/Regression-Models-main/MLR_Q14_PizzaSales.csv')\n",
    "df.head()"
   ]
  },
  {
   "cell_type": "code",
   "execution_count": 3,
   "id": "a1742d44",
   "metadata": {},
   "outputs": [
    {
     "data": {
      "text/plain": [
       "(15, 5)"
      ]
     },
     "execution_count": 3,
     "metadata": {},
     "output_type": "execute_result"
    }
   ],
   "source": [
    "# Check shape\n",
    "df.shape"
   ]
  },
  {
   "cell_type": "markdown",
   "id": "d7916fbf",
   "metadata": {},
   "source": [
    "There are 15 observations with 5 features"
   ]
  },
  {
   "cell_type": "code",
   "execution_count": 4,
   "id": "591bbe3d",
   "metadata": {},
   "outputs": [
    {
     "name": "stdout",
     "output_type": "stream",
     "text": [
      "<class 'pandas.core.frame.DataFrame'>\n",
      "RangeIndex: 15 entries, 0 to 14\n",
      "Data columns (total 5 columns):\n",
      " #   Column                            Non-Null Count  Dtype \n",
      "---  ------                            --------------  ----- \n",
      " 0   Outlet Number                     15 non-null     int64 \n",
      " 1   Quantity Sold                     15 non-null     object\n",
      " 2   Average Price                     15 non-null     object\n",
      " 3   Monthly Advertising Expenditures  15 non-null     object\n",
      " 4   Disposable Income per Household   15 non-null     object\n",
      "dtypes: int64(1), object(4)\n",
      "memory usage: 728.0+ bytes\n"
     ]
    }
   ],
   "source": [
    "# Check data type\n",
    "df.info()"
   ]
  },
  {
   "cell_type": "markdown",
   "id": "0a66ca31",
   "metadata": {},
   "source": [
    "Variables with object data types needs to be handled by cleaning data."
   ]
  },
  {
   "cell_type": "code",
   "execution_count": 5,
   "id": "d0085c7e",
   "metadata": {},
   "outputs": [
    {
     "data": {
      "text/plain": [
       "Outlet Number                       0\n",
       "Quantity Sold                       0\n",
       "Average Price                       0\n",
       "Monthly Advertising Expenditures    0\n",
       "Disposable Income per Household     0\n",
       "dtype: int64"
      ]
     },
     "execution_count": 5,
     "metadata": {},
     "output_type": "execute_result"
    }
   ],
   "source": [
    "# Check missing values\n",
    "df.isnull().sum()"
   ]
  },
  {
   "cell_type": "markdown",
   "id": "4f9fa006",
   "metadata": {},
   "source": [
    "No missing values"
   ]
  },
  {
   "cell_type": "code",
   "execution_count": 6,
   "id": "aa16e37c",
   "metadata": {},
   "outputs": [],
   "source": [
    "# Data Cleaning\n",
    "df['Quantity'] = df['Quantity Sold'].str.replace(\",\",\"\",regex=True).astype(int)\n",
    "df['AvPrice'] = df['Average Price'].str.replace(\"\\$|\\.\",\"\",regex=True).astype(float)\n",
    "df['AdExpense'] = df['Monthly Advertising Expenditures'].str.replace(\"\\$|,\",\"\",regex=True).astype(int)\n",
    "df['DispIncome'] = df['Disposable Income per Household'].str.replace(\"\\$|,\",\"\",regex=True).astype(int)\n",
    "df.drop(['Outlet Number','Quantity Sold', 'Average Price', \n",
    "         'Monthly Advertising Expenditures', 'Disposable Income per Household'], axis=1, inplace=True)"
   ]
  },
  {
   "cell_type": "code",
   "execution_count": 7,
   "id": "4fae687b",
   "metadata": {},
   "outputs": [
    {
     "data": {
      "text/html": [
       "<div>\n",
       "<style scoped>\n",
       "    .dataframe tbody tr th:only-of-type {\n",
       "        vertical-align: middle;\n",
       "    }\n",
       "\n",
       "    .dataframe tbody tr th {\n",
       "        vertical-align: top;\n",
       "    }\n",
       "\n",
       "    .dataframe thead th {\n",
       "        text-align: right;\n",
       "    }\n",
       "</style>\n",
       "<table border=\"1\" class=\"dataframe\">\n",
       "  <thead>\n",
       "    <tr style=\"text-align: right;\">\n",
       "      <th></th>\n",
       "      <th>Quantity</th>\n",
       "      <th>AvPrice</th>\n",
       "      <th>AdExpense</th>\n",
       "      <th>DispIncome</th>\n",
       "    </tr>\n",
       "  </thead>\n",
       "  <tbody>\n",
       "    <tr>\n",
       "      <th>0</th>\n",
       "      <td>85300</td>\n",
       "      <td>1014.0</td>\n",
       "      <td>64800</td>\n",
       "      <td>42100</td>\n",
       "    </tr>\n",
       "    <tr>\n",
       "      <th>1</th>\n",
       "      <td>40500</td>\n",
       "      <td>1088.0</td>\n",
       "      <td>42800</td>\n",
       "      <td>38300</td>\n",
       "    </tr>\n",
       "    <tr>\n",
       "      <th>2</th>\n",
       "      <td>61800</td>\n",
       "      <td>1233.0</td>\n",
       "      <td>58600</td>\n",
       "      <td>41000</td>\n",
       "    </tr>\n",
       "    <tr>\n",
       "      <th>3</th>\n",
       "      <td>50800</td>\n",
       "      <td>1270.0</td>\n",
       "      <td>46500</td>\n",
       "      <td>43300</td>\n",
       "    </tr>\n",
       "    <tr>\n",
       "      <th>4</th>\n",
       "      <td>60600</td>\n",
       "      <td>1229.0</td>\n",
       "      <td>50700</td>\n",
       "      <td>44000</td>\n",
       "    </tr>\n",
       "  </tbody>\n",
       "</table>\n",
       "</div>"
      ],
      "text/plain": [
       "   Quantity  AvPrice  AdExpense  DispIncome\n",
       "0     85300   1014.0      64800       42100\n",
       "1     40500   1088.0      42800       38300\n",
       "2     61800   1233.0      58600       41000\n",
       "3     50800   1270.0      46500       43300\n",
       "4     60600   1229.0      50700       44000"
      ]
     },
     "execution_count": 7,
     "metadata": {},
     "output_type": "execute_result"
    }
   ],
   "source": [
    "# Check data\n",
    "df.head()"
   ]
  },
  {
   "cell_type": "code",
   "execution_count": 8,
   "id": "5984c0bc",
   "metadata": {},
   "outputs": [],
   "source": [
    "# Creat X and Y\n",
    "Y = df['Quantity']\n",
    "X = df.drop('Quantity', axis=1)"
   ]
  },
  {
   "cell_type": "code",
   "execution_count": 9,
   "id": "15245ee8",
   "metadata": {},
   "outputs": [
    {
     "data": {
      "text/html": [
       "<div>\n",
       "<style scoped>\n",
       "    .dataframe tbody tr th:only-of-type {\n",
       "        vertical-align: middle;\n",
       "    }\n",
       "\n",
       "    .dataframe tbody tr th {\n",
       "        vertical-align: top;\n",
       "    }\n",
       "\n",
       "    .dataframe thead th {\n",
       "        text-align: right;\n",
       "    }\n",
       "</style>\n",
       "<table border=\"1\" class=\"dataframe\">\n",
       "  <thead>\n",
       "    <tr style=\"text-align: right;\">\n",
       "      <th></th>\n",
       "      <th>AvPrice</th>\n",
       "      <th>AdExpense</th>\n",
       "      <th>DispIncome</th>\n",
       "    </tr>\n",
       "  </thead>\n",
       "  <tbody>\n",
       "    <tr>\n",
       "      <th>AvPrice</th>\n",
       "      <td>1.000000</td>\n",
       "      <td>-0.172954</td>\n",
       "      <td>0.334160</td>\n",
       "    </tr>\n",
       "    <tr>\n",
       "      <th>AdExpense</th>\n",
       "      <td>-0.172954</td>\n",
       "      <td>1.000000</td>\n",
       "      <td>0.429599</td>\n",
       "    </tr>\n",
       "    <tr>\n",
       "      <th>DispIncome</th>\n",
       "      <td>0.334160</td>\n",
       "      <td>0.429599</td>\n",
       "      <td>1.000000</td>\n",
       "    </tr>\n",
       "  </tbody>\n",
       "</table>\n",
       "</div>"
      ],
      "text/plain": [
       "             AvPrice  AdExpense  DispIncome\n",
       "AvPrice     1.000000  -0.172954    0.334160\n",
       "AdExpense  -0.172954   1.000000    0.429599\n",
       "DispIncome  0.334160   0.429599    1.000000"
      ]
     },
     "execution_count": 9,
     "metadata": {},
     "output_type": "execute_result"
    }
   ],
   "source": [
    "# Check for correlation\n",
    "X.corr()"
   ]
  },
  {
   "cell_type": "markdown",
   "id": "6ae87f90",
   "metadata": {},
   "source": [
    "Don't see variables which are **strongly correlated**"
   ]
  },
  {
   "cell_type": "code",
   "execution_count": 10,
   "id": "ef55bc3f",
   "metadata": {},
   "outputs": [
    {
     "data": {
      "text/plain": [
       "AvPrice       176.795369\n",
       "AdExpense      94.344057\n",
       "DispIncome    362.798199\n",
       "dtype: float64"
      ]
     },
     "execution_count": 10,
     "metadata": {},
     "output_type": "execute_result"
    }
   ],
   "source": [
    "# Lets chech multi-collinearity\n",
    "from statsmodels.stats.outliers_influence import variance_inflation_factor\n",
    "pd.Series([variance_inflation_factor(X.values, i) for i in range(X.shape[1])], index=X.columns)"
   ]
  },
  {
   "cell_type": "markdown",
   "id": "6d5cba8b",
   "metadata": {},
   "source": [
    "There is **strong multi-collinearity**\n",
    "\n",
    "We can drop DispIncome - as this is the most difficult variable to get. Then we can drop one of the remaining two if needed."
   ]
  },
  {
   "cell_type": "code",
   "execution_count": 11,
   "id": "c295f629",
   "metadata": {},
   "outputs": [
    {
     "data": {
      "text/plain": [
       "AvPrice      39.906516\n",
       "AdExpense    39.906516\n",
       "dtype: float64"
      ]
     },
     "execution_count": 11,
     "metadata": {},
     "output_type": "execute_result"
    }
   ],
   "source": [
    "# Drop DispIncome\n",
    "X = df.drop(['Quantity', 'DispIncome'], axis=1)\n",
    "\n",
    "pd.Series([variance_inflation_factor(X.values, i) for i in range(X.shape[1])], index=X.columns)"
   ]
  },
  {
   "cell_type": "code",
   "execution_count": 12,
   "id": "64712cdf",
   "metadata": {},
   "outputs": [
    {
     "data": {
      "text/plain": [
       "AvPrice     -0.350204\n",
       "AdExpense    0.933994\n",
       "dtype: float64"
      ]
     },
     "execution_count": 12,
     "metadata": {},
     "output_type": "execute_result"
    }
   ],
   "source": [
    "# Lets check correlation with Y\n",
    "X.corrwith(Y)"
   ]
  },
  {
   "cell_type": "code",
   "execution_count": 13,
   "id": "ee7751dd",
   "metadata": {},
   "outputs": [],
   "source": [
    "# Lets retain AdExpense as this has high correlation\n",
    "X = df.AdExpense"
   ]
  },
  {
   "cell_type": "code",
   "execution_count": 14,
   "id": "4596269f",
   "metadata": {},
   "outputs": [
    {
     "name": "stderr",
     "output_type": "stream",
     "text": [
      "C:\\Users\\Karthik.Iyer\\AppData\\Local\\Continuum\\anaconda3\\lib\\site-packages\\scipy\\stats\\stats.py:1542: UserWarning: kurtosistest only valid for n>=20 ... continuing anyway, n=15\n",
      "  \"anyway, n=%i\" % int(n))\n"
     ]
    },
    {
     "data": {
      "text/html": [
       "<table class=\"simpletable\">\n",
       "<caption>OLS Regression Results</caption>\n",
       "<tr>\n",
       "  <th>Dep. Variable:</th>        <td>Quantity</td>     <th>  R-squared:         </th> <td>   0.872</td>\n",
       "</tr>\n",
       "<tr>\n",
       "  <th>Model:</th>                   <td>OLS</td>       <th>  Adj. R-squared:    </th> <td>   0.863</td>\n",
       "</tr>\n",
       "<tr>\n",
       "  <th>Method:</th>             <td>Least Squares</td>  <th>  F-statistic:       </th> <td>   88.84</td>\n",
       "</tr>\n",
       "<tr>\n",
       "  <th>Date:</th>             <td>Fri, 20 May 2022</td> <th>  Prob (F-statistic):</th> <td>3.56e-07</td>\n",
       "</tr>\n",
       "<tr>\n",
       "  <th>Time:</th>                 <td>15:43:15</td>     <th>  Log-Likelihood:    </th> <td> -147.61</td>\n",
       "</tr>\n",
       "<tr>\n",
       "  <th>No. Observations:</th>      <td>    15</td>      <th>  AIC:               </th> <td>   299.2</td>\n",
       "</tr>\n",
       "<tr>\n",
       "  <th>Df Residuals:</th>          <td>    13</td>      <th>  BIC:               </th> <td>   300.6</td>\n",
       "</tr>\n",
       "<tr>\n",
       "  <th>Df Model:</th>              <td>     1</td>      <th>                     </th>     <td> </td>   \n",
       "</tr>\n",
       "<tr>\n",
       "  <th>Covariance Type:</th>      <td>nonrobust</td>    <th>                     </th>     <td> </td>   \n",
       "</tr>\n",
       "</table>\n",
       "<table class=\"simpletable\">\n",
       "<tr>\n",
       "      <td></td>         <th>coef</th>     <th>std err</th>      <th>t</th>      <th>P>|t|</th>  <th>[0.025</th>    <th>0.975]</th>  \n",
       "</tr>\n",
       "<tr>\n",
       "  <th>const</th>     <td>-3.266e+04</td> <td> 1.03e+04</td> <td>   -3.169</td> <td> 0.007</td> <td>-5.49e+04</td> <td>-1.04e+04</td>\n",
       "</tr>\n",
       "<tr>\n",
       "  <th>AdExpense</th> <td>    1.7548</td> <td>    0.186</td> <td>    9.425</td> <td> 0.000</td> <td>    1.353</td> <td>    2.157</td>\n",
       "</tr>\n",
       "</table>\n",
       "<table class=\"simpletable\">\n",
       "<tr>\n",
       "  <th>Omnibus:</th>       <td> 1.430</td> <th>  Durbin-Watson:     </th> <td>   1.449</td>\n",
       "</tr>\n",
       "<tr>\n",
       "  <th>Prob(Omnibus):</th> <td> 0.489</td> <th>  Jarque-Bera (JB):  </th> <td>   0.823</td>\n",
       "</tr>\n",
       "<tr>\n",
       "  <th>Skew:</th>          <td>-0.051</td> <th>  Prob(JB):          </th> <td>   0.662</td>\n",
       "</tr>\n",
       "<tr>\n",
       "  <th>Kurtosis:</th>      <td> 1.857</td> <th>  Cond. No.          </th> <td>4.52e+05</td>\n",
       "</tr>\n",
       "</table><br/><br/>Notes:<br/>[1] Standard Errors assume that the covariance matrix of the errors is correctly specified.<br/>[2] The condition number is large, 4.52e+05. This might indicate that there are<br/>strong multicollinearity or other numerical problems."
      ],
      "text/plain": [
       "<class 'statsmodels.iolib.summary.Summary'>\n",
       "\"\"\"\n",
       "                            OLS Regression Results                            \n",
       "==============================================================================\n",
       "Dep. Variable:               Quantity   R-squared:                       0.872\n",
       "Model:                            OLS   Adj. R-squared:                  0.863\n",
       "Method:                 Least Squares   F-statistic:                     88.84\n",
       "Date:                Fri, 20 May 2022   Prob (F-statistic):           3.56e-07\n",
       "Time:                        15:43:15   Log-Likelihood:                -147.61\n",
       "No. Observations:                  15   AIC:                             299.2\n",
       "Df Residuals:                      13   BIC:                             300.6\n",
       "Df Model:                           1                                         \n",
       "Covariance Type:            nonrobust                                         \n",
       "==============================================================================\n",
       "                 coef    std err          t      P>|t|      [0.025      0.975]\n",
       "------------------------------------------------------------------------------\n",
       "const      -3.266e+04   1.03e+04     -3.169      0.007   -5.49e+04   -1.04e+04\n",
       "AdExpense      1.7548      0.186      9.425      0.000       1.353       2.157\n",
       "==============================================================================\n",
       "Omnibus:                        1.430   Durbin-Watson:                   1.449\n",
       "Prob(Omnibus):                  0.489   Jarque-Bera (JB):                0.823\n",
       "Skew:                          -0.051   Prob(JB):                        0.662\n",
       "Kurtosis:                       1.857   Cond. No.                     4.52e+05\n",
       "==============================================================================\n",
       "\n",
       "Notes:\n",
       "[1] Standard Errors assume that the covariance matrix of the errors is correctly specified.\n",
       "[2] The condition number is large, 4.52e+05. This might indicate that there are\n",
       "strong multicollinearity or other numerical problems.\n",
       "\"\"\""
      ]
     },
     "execution_count": 14,
     "metadata": {},
     "output_type": "execute_result"
    }
   ],
   "source": [
    "# Fit an OLS model\n",
    "X = sm.add_constant(X)\n",
    "model = sm.OLS(Y,X).fit()\n",
    "model.summary()"
   ]
  },
  {
   "cell_type": "markdown",
   "id": "426e7614",
   "metadata": {},
   "source": [
    "1) Estimate the MLR model coefficients\n",
    "\n",
    "**Regression Eqn:**<br>\n",
    "Quantity = -32660 + 1.7548 * AdExpense\n",
    "\n",
    "2) Is there an evidence of violation of any key assumption of regression analysis?"
   ]
  },
  {
   "cell_type": "markdown",
   "id": "5c591d40",
   "metadata": {},
   "source": [
    "**Durbin-Watson = 1.449 (different from 2) indicating non-independence of data**"
   ]
  },
  {
   "cell_type": "code",
   "execution_count": 15,
   "id": "980d524f",
   "metadata": {},
   "outputs": [
    {
     "data": {
      "image/png": "[encoded data removed]",
      "text/plain": [
       "<Figure size 432x288 with 1 Axes>"
      ]
     },
     "metadata": {
      "needs_background": "light"
     },
     "output_type": "display_data"
    }
   ],
   "source": [
    "# Residual Analysis\n",
    "residuals = model.resid\n",
    "\n",
    "#Q-Q Plot\n",
    "sm.qqplot(residuals, fit=True, line='q')\n",
    "plt.show()"
   ]
  },
  {
   "cell_type": "markdown",
   "id": "027965b6",
   "metadata": {},
   "source": [
    "**Residuals are not normally distributed !**\n",
    "\n",
    "**The assumptions of Regression Analysis are violated**"
   ]
  },
  {
   "cell_type": "markdown",
   "id": "255f497f",
   "metadata": {},
   "source": [
    "3) Which variable among these would you choose to remove and Why?"
   ]
  },
  {
   "cell_type": "markdown",
   "id": "da803c10",
   "metadata": {},
   "source": [
    "Among the multi-collinear variables, it is apt to remove those that are difficult to obtain. Disposable Income of Household for example are difficult to obtain in practice.\n",
    "\n",
    "Next among the other two, AdExpense has a higher correlation with Y, we will retain it in the dataset\n",
    "\n",
    "4) Will removing that variable increase the overall explanatory power of the model?"
   ]
  },
  {
   "cell_type": "code",
   "execution_count": 16,
   "id": "08fb9977",
   "metadata": {},
   "outputs": [
    {
     "name": "stderr",
     "output_type": "stream",
     "text": [
      "C:\\Users\\Karthik.Iyer\\AppData\\Local\\Continuum\\anaconda3\\lib\\site-packages\\scipy\\stats\\stats.py:1542: UserWarning: kurtosistest only valid for n>=20 ... continuing anyway, n=15\n",
      "  \"anyway, n=%i\" % int(n))\n"
     ]
    },
    {
     "data": {
      "text/html": [
       "<table class=\"simpletable\">\n",
       "<caption>OLS Regression Results</caption>\n",
       "<tr>\n",
       "  <th>Dep. Variable:</th>        <td>Quantity</td>     <th>  R-squared:         </th> <td>   0.950</td>\n",
       "</tr>\n",
       "<tr>\n",
       "  <th>Model:</th>                   <td>OLS</td>       <th>  Adj. R-squared:    </th> <td>   0.936</td>\n",
       "</tr>\n",
       "<tr>\n",
       "  <th>Method:</th>             <td>Least Squares</td>  <th>  F-statistic:       </th> <td>   69.17</td>\n",
       "</tr>\n",
       "<tr>\n",
       "  <th>Date:</th>             <td>Fri, 20 May 2022</td> <th>  Prob (F-statistic):</th> <td>2.00e-07</td>\n",
       "</tr>\n",
       "<tr>\n",
       "  <th>Time:</th>                 <td>15:43:15</td>     <th>  Log-Likelihood:    </th> <td> -140.63</td>\n",
       "</tr>\n",
       "<tr>\n",
       "  <th>No. Observations:</th>      <td>    15</td>      <th>  AIC:               </th> <td>   289.3</td>\n",
       "</tr>\n",
       "<tr>\n",
       "  <th>Df Residuals:</th>          <td>    11</td>      <th>  BIC:               </th> <td>   292.1</td>\n",
       "</tr>\n",
       "<tr>\n",
       "  <th>Df Model:</th>              <td>     3</td>      <th>                     </th>     <td> </td>   \n",
       "</tr>\n",
       "<tr>\n",
       "  <th>Covariance Type:</th>      <td>nonrobust</td>    <th>                     </th>     <td> </td>   \n",
       "</tr>\n",
       "</table>\n",
       "<table class=\"simpletable\">\n",
       "<tr>\n",
       "       <td></td>         <th>coef</th>     <th>std err</th>      <th>t</th>      <th>P>|t|</th>  <th>[0.025</th>    <th>0.975]</th>  \n",
       "</tr>\n",
       "<tr>\n",
       "  <th>const</th>      <td> -3.33e+04</td> <td> 1.79e+04</td> <td>   -1.861</td> <td> 0.090</td> <td>-7.27e+04</td> <td> 6092.416</td>\n",
       "</tr>\n",
       "<tr>\n",
       "  <th>AvPrice</th>    <td>  -40.4153</td> <td>   10.406</td> <td>   -3.884</td> <td> 0.003</td> <td>  -63.320</td> <td>  -17.511</td>\n",
       "</tr>\n",
       "<tr>\n",
       "  <th>AdExpense</th>  <td>    1.4544</td> <td>    0.152</td> <td>    9.593</td> <td> 0.000</td> <td>    1.121</td> <td>    1.788</td>\n",
       "</tr>\n",
       "<tr>\n",
       "  <th>DispIncome</th> <td>    1.5279</td> <td>    0.513</td> <td>    2.979</td> <td> 0.013</td> <td>    0.399</td> <td>    2.657</td>\n",
       "</tr>\n",
       "</table>\n",
       "<table class=\"simpletable\">\n",
       "<tr>\n",
       "  <th>Omnibus:</th>       <td> 0.919</td> <th>  Durbin-Watson:     </th> <td>   1.542</td>\n",
       "</tr>\n",
       "<tr>\n",
       "  <th>Prob(Omnibus):</th> <td> 0.632</td> <th>  Jarque-Bera (JB):  </th> <td>   0.815</td>\n",
       "</tr>\n",
       "<tr>\n",
       "  <th>Skew:</th>          <td> 0.353</td> <th>  Prob(JB):          </th> <td>   0.665</td>\n",
       "</tr>\n",
       "<tr>\n",
       "  <th>Kurtosis:</th>      <td> 2.103</td> <th>  Cond. No.          </th> <td>1.44e+06</td>\n",
       "</tr>\n",
       "</table><br/><br/>Notes:<br/>[1] Standard Errors assume that the covariance matrix of the errors is correctly specified.<br/>[2] The condition number is large, 1.44e+06. This might indicate that there are<br/>strong multicollinearity or other numerical problems."
      ],
      "text/plain": [
       "<class 'statsmodels.iolib.summary.Summary'>\n",
       "\"\"\"\n",
       "                            OLS Regression Results                            \n",
       "==============================================================================\n",
       "Dep. Variable:               Quantity   R-squared:                       0.950\n",
       "Model:                            OLS   Adj. R-squared:                  0.936\n",
       "Method:                 Least Squares   F-statistic:                     69.17\n",
       "Date:                Fri, 20 May 2022   Prob (F-statistic):           2.00e-07\n",
       "Time:                        15:43:15   Log-Likelihood:                -140.63\n",
       "No. Observations:                  15   AIC:                             289.3\n",
       "Df Residuals:                      11   BIC:                             292.1\n",
       "Df Model:                           3                                         \n",
       "Covariance Type:            nonrobust                                         \n",
       "==============================================================================\n",
       "                 coef    std err          t      P>|t|      [0.025      0.975]\n",
       "------------------------------------------------------------------------------\n",
       "const       -3.33e+04   1.79e+04     -1.861      0.090   -7.27e+04    6092.416\n",
       "AvPrice      -40.4153     10.406     -3.884      0.003     -63.320     -17.511\n",
       "AdExpense      1.4544      0.152      9.593      0.000       1.121       1.788\n",
       "DispIncome     1.5279      0.513      2.979      0.013       0.399       2.657\n",
       "==============================================================================\n",
       "Omnibus:                        0.919   Durbin-Watson:                   1.542\n",
       "Prob(Omnibus):                  0.632   Jarque-Bera (JB):                0.815\n",
       "Skew:                           0.353   Prob(JB):                        0.665\n",
       "Kurtosis:                       2.103   Cond. No.                     1.44e+06\n",
       "==============================================================================\n",
       "\n",
       "Notes:\n",
       "[1] Standard Errors assume that the covariance matrix of the errors is correctly specified.\n",
       "[2] The condition number is large, 1.44e+06. This might indicate that there are\n",
       "strong multicollinearity or other numerical problems.\n",
       "\"\"\""
      ]
     },
     "execution_count": 16,
     "metadata": {},
     "output_type": "execute_result"
    }
   ],
   "source": [
    "# lets build full model\n",
    "Y = df['Quantity']\n",
    "X = df.drop('Quantity', axis=1)\n",
    "\n",
    "X = sm.add_constant(X)\n",
    "full_model = sm.OLS(Y,X).fit()\n",
    "full_model.summary()"
   ]
  },
  {
   "cell_type": "markdown",
   "id": "bfe73474",
   "metadata": {},
   "source": [
    "**R-Squared in the full model is 0.95, but in the final model it was 0.87. This indicates that removing the variables has reduced the explanatory power of the model.**"
   ]
  }
 ],
 "metadata": {
  "kernelspec": {
   "display_name": "Python 3 (ipykernel)",
   "language": "python",
   "name": "python3"
  },
  "language_info": {
   "codemirror_mode": {
    "name": "ipython",
    "version": 3
   },
   "file_extension": ".py",
   "mimetype": "text/x-python",
   "name": "python",
   "nbconvert_exporter": "python",
   "pygments_lexer": "ipython3",
   "version": "3.7.13"
  }
 },
 "nbformat": 4,
 "nbformat_minor": 5
}
