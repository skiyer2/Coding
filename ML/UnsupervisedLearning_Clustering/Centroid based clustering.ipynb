{
 "cells": [
  {
   "cell_type": "markdown",
   "metadata": {},
   "source": [
    "Consider there are two datasets represented in arrays.\n",
    "\n",
    "dataset1:<br>\n",
    "[1, 2], [1, 4], [1, 0],[10, 2], [10, 4], [10, 0]]\n",
    "\n",
    "dataset2:<br>\n",
    "[1, 2], [1, 4], [1, 0],[10, 2], [10, 4], [94, 12]\n",
    "\n",
    "What will happen if we try to apply a centroid based clustering on each of the above dataset? Will there be any difference?"
   ]
  },
  {
   "cell_type": "code",
   "execution_count": 1,
   "metadata": {},
   "outputs": [],
   "source": [
    "# Import libraries\n",
    "import numpy as np\n",
    "from sklearn.cluster import KMeans"
   ]
  },
  {
   "cell_type": "code",
   "execution_count": 2,
   "metadata": {},
   "outputs": [],
   "source": [
    "# Define arrays\n",
    "d1 = np.array([[1, 2], [1, 4], [1, 0],[10, 2], [10, 4], [10, 0]])\n",
    "d2 = np.array([[1, 2], [1, 4], [1, 0],[10, 2], [10, 4], [94, 12]])"
   ]
  },
  {
   "cell_type": "code",
   "execution_count": 3,
   "metadata": {},
   "outputs": [
    {
     "name": "stdout",
     "output_type": "stream",
     "text": [
      "Cluster labels for dataset1 [1 1 1 0 0 0]\n",
      "Cluster labels for dataset2 [0 0 0 0 0 1]\n",
      "Cluster Centers for dataset1 [[10.  2.]\n",
      " [ 1.  2.]]\n",
      "Cluster Centers for dataset2 [[ 4.6  2.4]\n",
      " [94.  12. ]]\n"
     ]
    }
   ],
   "source": [
    "# Cluster labels and Clauster Centers\n",
    "kmeans1 = KMeans(n_clusters=2, random_state=0).fit(d1)\n",
    "kmeans2 = KMeans(n_clusters=2, random_state=0).fit(d2)\n",
    "\n",
    "print('Cluster labels for dataset1', kmeans1.labels_)\n",
    "print('Cluster labels for dataset2', kmeans2.labels_)\n",
    "print('Cluster Centers for dataset1', kmeans1.cluster_centers_)\n",
    "print('Cluster Centers for dataset2', kmeans2.cluster_centers_)"
   ]
  },
  {
   "cell_type": "markdown",
   "metadata": {},
   "source": [
    "We notice that the data suffers from outliers. When we check with a centroid based clustering it is clear. So there will be difference as shown below. We have considered K-means clustering as centroid based clustering here."
   ]
  }
 ],
 "metadata": {
  "kernelspec": {
   "display_name": "Python 3",
   "language": "python",
   "name": "python3"
  },
  "language_info": {
   "codemirror_mode": {
    "name": "ipython",
    "version": 3
   },
   "file_extension": ".py",
   "mimetype": "text/x-python",
   "name": "python",
   "nbconvert_exporter": "python",
   "pygments_lexer": "ipython3",
   "version": "3.8.5"
  }
 },
 "nbformat": 4,
 "nbformat_minor": 4
}
