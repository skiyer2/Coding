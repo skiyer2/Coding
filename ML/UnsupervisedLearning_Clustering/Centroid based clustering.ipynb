{
 "cells": [
  {
   "cell_type": "markdown",
   "metadata": {},
   "source": [
    "Consider there are two datasets represented in arrays.\n",
    "\n",
    "dataset1:<br>\n",
    "[1, 2], [1, 4], [1, 0],[10, 2], [10, 4], [10, 0]]\n",
    "\n",
    "dataset2:<br>\n",
    "[1, 2], [1, 4], [1, 0],[10, 2], [10, 4], [94, 12]\n",
    "\n",
    "What will happen if we try to apply a centroid based clustering on each of the above dataset? Will there be any difference?"
   ]
  },
  {
   "cell_type": "code",
   "execution_count": 1,
   "metadata": {},
   "outputs": [],
   "source": [
    "# Import libraries\n",
    "import numpy as np"
   ]
  },
  {
   "cell_type": "code",
   "execution_count": 2,
   "metadata": {},
   "outputs": [],
   "source": [
    "# Define arrays\n",
    "d1 = np.array(([1, 2], [1, 4], [1, 0],[10, 2], [10, 4], [10, 0]))\n",
    "d2 = np.array(([1, 2], [1, 4], [1, 0],[10, 2], [10, 4], [94,th  12]))"
   ]
  },
  {
   "cell_type": "code",
   "execution_count": 3,
   "metadata": {},
   "outputs": [],
   "source": [
    "# Calculate Centroids\n",
    "def centroid(arr):\n",
    "    length = arr.shape[0]\n",
    "    sum_x = np.sum(arr[:,0])\n",
    "    sum_y = np.sum(arr[:,1])\n",
    "    return sum_x/length, sum_y/length"
   ]
  },
  {
   "cell_type": "code",
   "execution_count": 4,
   "metadata": {},
   "outputs": [
    {
     "name": "stdout",
     "output_type": "stream",
     "text": [
      "Centroid for dataset1: (5.5, 2.0)\n",
      "Centroid for dataset2: (19.5, 4.0)\n"
     ]
    }
   ],
   "source": [
    "print('Centroid for dataset1:', centroid(d1))\n",
    "print('Centroid for dataset2:', centroid(d2))"
   ]
  },
  {
   "cell_type": "markdown",
   "metadata": {},
   "source": [
    "Yes there is a deifference in the Centroid values for x an y. And the difference seems to be very high for x comapred to y across two datasets. This is obvious when we compare the last set of coordinates for both the datasets d1 and d2."
   ]
  }
 ],
 "metadata": {
  "kernelspec": {
   "display_name": "Python 3",
   "language": "python",
   "name": "python3"
  },
  "language_info": {
   "codemirror_mode": {
    "name": "ipython",
    "version": 3
   },
   "file_extension": ".py",
   "mimetype": "text/x-python",
   "name": "python",
   "nbconvert_exporter": "python",
   "pygments_lexer": "ipython3",
   "version": "3.8.5"
  }
 },
 "nbformat": 4,
 "nbformat_minor": 4
}
