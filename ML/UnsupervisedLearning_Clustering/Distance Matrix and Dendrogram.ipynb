{
 "cells": [
  {
   "cell_type": "markdown",
   "metadata": {},
   "source": [
    "|Points||X||Y|\n",
    "|---||---||---|\n",
    "|Point P1||0.40||0.53|\n",
    "|Point P2||0.22||0.38|\n",
    "|Point P3||0.35||0.32|\n",
    "|Point P4||0.26||0.19|\n",
    "|Point P5||0.08||0.41|\n",
    "|Point P6||0.45||0.30|\n",
    "\n",
    "Which two points will form the initial cluster using Hierarchical Clustering approach (consider single linkage)? Based on the initial cluster, provide the updated distance matrix between those two points. Draw the dendrogram – what do you infer?"
   ]
  },
  {
   "cell_type": "code",
   "execution_count": 1,
   "metadata": {},
   "outputs": [],
   "source": [
    "# Import libraries\n",
    "import numpy as np\n",
    "import pandas as pd\n",
    "import matplotlib.pyplot as plt\n",
    "from scipy.spatial import distance_matrix\n",
    "from scipy.cluster.hierarchy import dendrogram, linkage"
   ]
  },
  {
   "cell_type": "code",
   "execution_count": 2,
   "metadata": {},
   "outputs": [
    {
     "data": {
      "text/html": [
       "<div>\n",
       "<style scoped>\n",
       "    .dataframe tbody tr th:only-of-type {\n",
       "        vertical-align: middle;\n",
       "    }\n",
       "\n",
       "    .dataframe tbody tr th {\n",
       "        vertical-align: top;\n",
       "    }\n",
       "\n",
       "    .dataframe thead th {\n",
       "        text-align: right;\n",
       "    }\n",
       "</style>\n",
       "<table border=\"1\" class=\"dataframe\">\n",
       "  <thead>\n",
       "    <tr style=\"text-align: right;\">\n",
       "      <th></th>\n",
       "      <th>X</th>\n",
       "      <th>Y</th>\n",
       "    </tr>\n",
       "  </thead>\n",
       "  <tbody>\n",
       "    <tr>\n",
       "      <th>P1</th>\n",
       "      <td>0.40</td>\n",
       "      <td>0.53</td>\n",
       "    </tr>\n",
       "    <tr>\n",
       "      <th>P2</th>\n",
       "      <td>0.22</td>\n",
       "      <td>0.38</td>\n",
       "    </tr>\n",
       "    <tr>\n",
       "      <th>P3</th>\n",
       "      <td>0.35</td>\n",
       "      <td>0.32</td>\n",
       "    </tr>\n",
       "    <tr>\n",
       "      <th>P4</th>\n",
       "      <td>0.26</td>\n",
       "      <td>0.19</td>\n",
       "    </tr>\n",
       "    <tr>\n",
       "      <th>P5</th>\n",
       "      <td>0.08</td>\n",
       "      <td>0.41</td>\n",
       "    </tr>\n",
       "    <tr>\n",
       "      <th>P6</th>\n",
       "      <td>0.45</td>\n",
       "      <td>0.30</td>\n",
       "    </tr>\n",
       "  </tbody>\n",
       "</table>\n",
       "</div>"
      ],
      "text/plain": [
       "       X     Y\n",
       "P1  0.40  0.53\n",
       "P2  0.22  0.38\n",
       "P3  0.35  0.32\n",
       "P4  0.26  0.19\n",
       "P5  0.08  0.41\n",
       "P6  0.45  0.30"
      ]
     },
     "execution_count": 2,
     "metadata": {},
     "output_type": "execute_result"
    }
   ],
   "source": [
    "# Create dataframe\n",
    "data = [[0.40,0.53], [0.22,0.38], [0.35,0.32], [0.26,0.19], [0.08,0.41], [0.45,0.30]]\n",
    "points = ['P1', 'P2', 'P3', 'P4', 'P5', 'P6']\n",
    "\n",
    "df = pd.DataFrame(data, columns=['X', 'Y'], index=points)\n",
    "df"
   ]
  },
  {
   "cell_type": "code",
   "execution_count": 3,
   "metadata": {},
   "outputs": [
    {
     "data": {
      "text/html": [
       "<div>\n",
       "<style scoped>\n",
       "    .dataframe tbody tr th:only-of-type {\n",
       "        vertical-align: middle;\n",
       "    }\n",
       "\n",
       "    .dataframe tbody tr th {\n",
       "        vertical-align: top;\n",
       "    }\n",
       "\n",
       "    .dataframe thead th {\n",
       "        text-align: right;\n",
       "    }\n",
       "</style>\n",
       "<table border=\"1\" class=\"dataframe\">\n",
       "  <thead>\n",
       "    <tr style=\"text-align: right;\">\n",
       "      <th></th>\n",
       "      <th>P1</th>\n",
       "      <th>P2</th>\n",
       "      <th>P3</th>\n",
       "      <th>P4</th>\n",
       "      <th>P5</th>\n",
       "      <th>P6</th>\n",
       "    </tr>\n",
       "  </thead>\n",
       "  <tbody>\n",
       "    <tr>\n",
       "      <th>P1</th>\n",
       "      <td>0.000000</td>\n",
       "      <td>0.234307</td>\n",
       "      <td>0.215870</td>\n",
       "      <td>0.367696</td>\n",
       "      <td>0.341760</td>\n",
       "      <td>0.235372</td>\n",
       "    </tr>\n",
       "    <tr>\n",
       "      <th>P2</th>\n",
       "      <td>0.234307</td>\n",
       "      <td>0.000000</td>\n",
       "      <td>0.143178</td>\n",
       "      <td>0.194165</td>\n",
       "      <td>0.143178</td>\n",
       "      <td>0.243516</td>\n",
       "    </tr>\n",
       "    <tr>\n",
       "      <th>P3</th>\n",
       "      <td>0.215870</td>\n",
       "      <td>0.143178</td>\n",
       "      <td>0.000000</td>\n",
       "      <td>0.158114</td>\n",
       "      <td>0.284605</td>\n",
       "      <td>0.101980</td>\n",
       "    </tr>\n",
       "    <tr>\n",
       "      <th>P4</th>\n",
       "      <td>0.367696</td>\n",
       "      <td>0.194165</td>\n",
       "      <td>0.158114</td>\n",
       "      <td>0.000000</td>\n",
       "      <td>0.284253</td>\n",
       "      <td>0.219545</td>\n",
       "    </tr>\n",
       "    <tr>\n",
       "      <th>P5</th>\n",
       "      <td>0.341760</td>\n",
       "      <td>0.143178</td>\n",
       "      <td>0.284605</td>\n",
       "      <td>0.284253</td>\n",
       "      <td>0.000000</td>\n",
       "      <td>0.386005</td>\n",
       "    </tr>\n",
       "    <tr>\n",
       "      <th>P6</th>\n",
       "      <td>0.235372</td>\n",
       "      <td>0.243516</td>\n",
       "      <td>0.101980</td>\n",
       "      <td>0.219545</td>\n",
       "      <td>0.386005</td>\n",
       "      <td>0.000000</td>\n",
       "    </tr>\n",
       "  </tbody>\n",
       "</table>\n",
       "</div>"
      ],
      "text/plain": [
       "          P1        P2        P3        P4        P5        P6\n",
       "P1  0.000000  0.234307  0.215870  0.367696  0.341760  0.235372\n",
       "P2  0.234307  0.000000  0.143178  0.194165  0.143178  0.243516\n",
       "P3  0.215870  0.143178  0.000000  0.158114  0.284605  0.101980\n",
       "P4  0.367696  0.194165  0.158114  0.000000  0.284253  0.219545\n",
       "P5  0.341760  0.143178  0.284605  0.284253  0.000000  0.386005\n",
       "P6  0.235372  0.243516  0.101980  0.219545  0.386005  0.000000"
      ]
     },
     "execution_count": 3,
     "metadata": {},
     "output_type": "execute_result"
    }
   ],
   "source": [
    "# Lets look at distance matrix\n",
    "dist = pd.DataFrame(distance_matrix(df.values, df.values), index=df.index, columns=df.index)\n",
    "dist"
   ]
  },
  {
   "cell_type": "markdown",
   "metadata": {},
   "source": [
    "The least distance in the above matrix will merge first. Hence P3 and P6 whose distance being 0.101980 will merge first. In order to arrive at the new updated distance matrix after the initial cluster, we will do the below steps."
   ]
  },
  {
   "cell_type": "markdown",
   "metadata": {},
   "source": [
    "1. Update the distance between (P3,P6) to P1\n",
    "\n",
    "This should be interpreted as calculating the distance between (P3,P1) and distance between (P6,P1) and then taking a minimum of these two distances"
   ]
  },
  {
   "cell_type": "code",
   "execution_count": 4,
   "metadata": {},
   "outputs": [
    {
     "data": {
      "text/plain": [
       "0.21587"
      ]
     },
     "execution_count": 4,
     "metadata": {},
     "output_type": "execute_result"
    }
   ],
   "source": [
    "min(0.215870, 0.235372)"
   ]
  },
  {
   "cell_type": "markdown",
   "metadata": {},
   "source": [
    "2. Update the distance between (P3,P6) to P2\n",
    "\n",
    "This should be interpreted as calculating the distance between (P3,P2) and distance between (P6,P2) and then taking a minimum of these two distances"
   ]
  },
  {
   "cell_type": "code",
   "execution_count": 5,
   "metadata": {},
   "outputs": [
    {
     "data": {
      "text/plain": [
       "0.143178"
      ]
     },
     "execution_count": 5,
     "metadata": {},
     "output_type": "execute_result"
    }
   ],
   "source": [
    "min(0.143178, 0.243516)"
   ]
  },
  {
   "cell_type": "markdown",
   "metadata": {},
   "source": [
    "3. Update the distance between (P3,P6) to P4. (Note that we have skipped the distance with P3 since the distance of a point to itself is zero)\n",
    "\n",
    "This should be interpreted as calculating the distance between (P3,P4) and distance between (P6,P4) and then taking a minimum of these two distances."
   ]
  },
  {
   "cell_type": "code",
   "execution_count": 6,
   "metadata": {},
   "outputs": [
    {
     "data": {
      "text/plain": [
       "0.158114"
      ]
     },
     "execution_count": 6,
     "metadata": {},
     "output_type": "execute_result"
    }
   ],
   "source": [
    "min(0.158114, 0.219545)"
   ]
  },
  {
   "cell_type": "markdown",
   "metadata": {},
   "source": [
    "4. Update the distance between (P3,P6) to P5.\n",
    "\n",
    "This should be interpreted as calculating the distance between (P3,P5) and distance between (P6,P5) and then taking a minimum of these two distances."
   ]
  },
  {
   "cell_type": "code",
   "execution_count": 7,
   "metadata": {},
   "outputs": [
    {
     "data": {
      "text/plain": [
       "0.284605"
      ]
     },
     "execution_count": 7,
     "metadata": {},
     "output_type": "execute_result"
    }
   ],
   "source": [
    "min(0.284605, 0.386005)"
   ]
  },
  {
   "cell_type": "markdown",
   "metadata": {},
   "source": [
    "We will stop here since updating distance between (P3, P6) to P6 can be skipped as the distance of a point to itself is zero."
   ]
  },
  {
   "cell_type": "code",
   "execution_count": 8,
   "metadata": {},
   "outputs": [
    {
     "data": {
      "text/html": [
       "<div>\n",
       "<style scoped>\n",
       "    .dataframe tbody tr th:only-of-type {\n",
       "        vertical-align: middle;\n",
       "    }\n",
       "\n",
       "    .dataframe tbody tr th {\n",
       "        vertical-align: top;\n",
       "    }\n",
       "\n",
       "    .dataframe thead th {\n",
       "        text-align: right;\n",
       "    }\n",
       "</style>\n",
       "<table border=\"1\" class=\"dataframe\">\n",
       "  <thead>\n",
       "    <tr style=\"text-align: right;\">\n",
       "      <th></th>\n",
       "      <th>P1</th>\n",
       "      <th>P2</th>\n",
       "      <th>P3,P6</th>\n",
       "      <th>P4</th>\n",
       "      <th>P5</th>\n",
       "    </tr>\n",
       "  </thead>\n",
       "  <tbody>\n",
       "    <tr>\n",
       "      <th>P1</th>\n",
       "      <td>0.000000</td>\n",
       "      <td>0.234307</td>\n",
       "      <td>0.215870</td>\n",
       "      <td>0.367696</td>\n",
       "      <td>0.341760</td>\n",
       "    </tr>\n",
       "    <tr>\n",
       "      <th>P2</th>\n",
       "      <td>0.234307</td>\n",
       "      <td>0.000000</td>\n",
       "      <td>0.143178</td>\n",
       "      <td>0.194165</td>\n",
       "      <td>0.143178</td>\n",
       "    </tr>\n",
       "    <tr>\n",
       "      <th>P3,P6</th>\n",
       "      <td>0.215870</td>\n",
       "      <td>0.143178</td>\n",
       "      <td>0.000000</td>\n",
       "      <td>0.158114</td>\n",
       "      <td>0.284605</td>\n",
       "    </tr>\n",
       "    <tr>\n",
       "      <th>P4</th>\n",
       "      <td>0.367696</td>\n",
       "      <td>0.194165</td>\n",
       "      <td>0.158114</td>\n",
       "      <td>0.000000</td>\n",
       "      <td>0.284253</td>\n",
       "    </tr>\n",
       "    <tr>\n",
       "      <th>P5</th>\n",
       "      <td>0.341760</td>\n",
       "      <td>0.143178</td>\n",
       "      <td>0.284605</td>\n",
       "      <td>0.284253</td>\n",
       "      <td>0.000000</td>\n",
       "    </tr>\n",
       "  </tbody>\n",
       "</table>\n",
       "</div>"
      ],
      "text/plain": [
       "             P1        P2     P3,P6        P4        P5\n",
       "P1     0.000000  0.234307  0.215870  0.367696  0.341760\n",
       "P2     0.234307  0.000000  0.143178  0.194165  0.143178\n",
       "P3,P6  0.215870  0.143178  0.000000  0.158114  0.284605\n",
       "P4     0.367696  0.194165  0.158114  0.000000  0.284253\n",
       "P5     0.341760  0.143178  0.284605  0.284253  0.000000"
      ]
     },
     "execution_count": 8,
     "metadata": {},
     "output_type": "execute_result"
    }
   ],
   "source": [
    "# Updated Matrix\n",
    "points = ['P1', 'P2', 'P3,P6', 'P4', 'P5']\n",
    "upd_dist = pd.DataFrame({'P1' : [0, 0.234307, 0.21587, 0.367696, 0.341760],           #dist(P1,P1),dist(P1,P2),dist(P1,(P3,P6)),dist(P1,P4),dist(P1,P5)\n",
    "                         'P2' : [0.234307, 0, 0.143178, 0.194165, 0.143178],\n",
    "                         'P3,P6' : [0.21587, 0.143178, 0, 0.158114, 0.284605],\n",
    "                         'P4' : [0.367696, 0.194165, 0.158114, 0, 0.284253],\n",
    "                         'P5' : [0.341760, 0.143178, 0.284605, 0.284253, 0]},\n",
    "                         index=points)\n",
    "upd_dist"
   ]
  },
  {
   "cell_type": "code",
   "execution_count": 9,
   "metadata": {},
   "outputs": [
    {
     "data": {
      "image/png": "[encoded data removed]",
      "text/plain": [
       "<Figure size 720x576 with 1 Axes>"
      ]
     },
     "metadata": {
      "needs_background": "light"
     },
     "output_type": "display_data"
    }
   ],
   "source": [
    "# Plot Dendrogram\n",
    "plt.figure(figsize=(10,8))\n",
    "plt.title(\"Dendrogram with single linkage\")\n",
    "dn = dendrogram(linkage(df[['X','Y']], method='single'), labels=df.index)"
   ]
  },
  {
   "cell_type": "markdown",
   "metadata": {},
   "source": [
    "We can infer that for (P3, P6) the initial cluster is formed, which correspond to the least distance from the distance matrix with points P3 and P6. Both the analysis and dendrogram give same results."
   ]
  }
 ],
 "metadata": {
  "kernelspec": {
   "display_name": "Python 3",
   "language": "python",
   "name": "python3"
  },
  "language_info": {
   "codemirror_mode": {
    "name": "ipython",
    "version": 3
   },
   "file_extension": ".py",
   "mimetype": "text/x-python",
   "name": "python",
   "nbconvert_exporter": "python",
   "pygments_lexer": "ipython3",
   "version": "3.8.5"
  }
 },
 "nbformat": 4,
 "nbformat_minor": 4
}
