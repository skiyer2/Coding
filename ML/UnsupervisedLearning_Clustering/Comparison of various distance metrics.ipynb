{
 "cells": [
  {
   "cell_type": "raw",
   "metadata": {},
   "source": [
    "Create two random set of 5-dimensional vectors with number ranging from 0 to 10 using NumPy. Create another random set of 100-dimensional vectors with number ranging from 0 to 10 using NumPy for each set.\n",
    "\n",
    "Compare the distance metrics for Euclidean, Manhattan and Chebyshev.\n",
    "\n",
    "You can use uniform distribution."
   ]
  },
  {
   "cell_type": "code",
   "execution_count": 1,
   "metadata": {},
   "outputs": [],
   "source": [
    "# Import libraries\n",
    "import numpy as np"
   ]
  },
  {
   "cell_type": "code",
   "execution_count": 2,
   "metadata": {},
   "outputs": [],
   "source": [
    "# Set seed\n",
    "np.random.seed(1)\n",
    "\n",
    "# 5-D random vectors\n",
    "v_5_1 = np.random.uniform(low=0, high=10, size=5)\n",
    "v_5_2 = np.random.uniform(low=0, high=10, size=5)\n",
    "\n",
    "# 100-D random vectors\n",
    "v_100_1 = np.random.uniform(low=0, high=10, size=100)\n",
    "v_100_2 = np.random.uniform(low=0, high=10, size=100)"
   ]
  },
  {
   "cell_type": "code",
   "execution_count": 3,
   "metadata": {},
   "outputs": [],
   "source": [
    "# Euclidean, Manhattan, Chebyshev\n",
    "def euclidean_distance(v1, v2):\n",
    "    return np.round(np.sqrt(np.sum((v1-v2)**2)), 2)\n",
    "\n",
    "def manhattan_distance(v1, v2):\n",
    "    return np.round(np.sum(np.abs(v1-v2)), 2)\n",
    "\n",
    "def chebyshev_distance(v1, v2):\n",
    "    return np.round(np.max(np.abs((v1-v2))), 2)"
   ]
  },
  {
   "cell_type": "code",
   "execution_count": 4,
   "metadata": {},
   "outputs": [
    {
     "name": "stdout",
     "output_type": "stream",
     "text": [
      "Euclidean distance: 8.2\n",
      "Manhattan distance: 16.91\n",
      "Chebyshev distance: 5.34\n"
     ]
    }
   ],
   "source": [
    "# For 5-D vectors\n",
    "print(\"Euclidean distance:\", euclidean_distance(v_5_1, v_5_2))\n",
    "print(\"Manhattan distance:\", manhattan_distance(v_5_1, v_5_2))\n",
    "print(\"Chebyshev distance:\", chebyshev_distance(v_5_1, v_5_2))"
   ]
  },
  {
   "cell_type": "code",
   "execution_count": 5,
   "metadata": {},
   "outputs": [
    {
     "name": "stdout",
     "output_type": "stream",
     "text": [
      "Euclidean distance: 42.52\n",
      "Manhattan distance: 348.92\n",
      "Chebyshev distance: 9.42\n"
     ]
    }
   ],
   "source": [
    "# For 100-D vectors\n",
    "print(\"Euclidean distance:\", euclidean_distance(v_100_1, v_100_2))\n",
    "print(\"Manhattan distance:\", manhattan_distance(v_100_1, v_100_2))\n",
    "print(\"Chebyshev distance:\", chebyshev_distance(v_100_1, v_100_2))"
   ]
  },
  {
   "cell_type": "markdown",
   "metadata": {},
   "source": [
    "1. We can observe that within same dimension, Manhattan distance is the highest, followed by Euclidean and Chebyshev\n",
    "2. All 3 distance measures above has higher values for higher dimensions.\n",
    "\n",
    "Note: For comparison purposes, we have considered uniform distribution here."
   ]
  }
 ],
 "metadata": {
  "kernelspec": {
   "display_name": "Python 3",
   "language": "python",
   "name": "python3"
  },
  "language_info": {
   "codemirror_mode": {
    "name": "ipython",
    "version": 3
   },
   "file_extension": ".py",
   "mimetype": "text/x-python",
   "name": "python",
   "nbconvert_exporter": "python",
   "pygments_lexer": "ipython3",
   "version": "3.8.5"
  }
 },
 "nbformat": 4,
 "nbformat_minor": 4
}
