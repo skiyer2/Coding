{
 "cells": [
  {
   "cell_type": "markdown",
   "metadata": {},
   "source": [
    "What is the Euclidean distance between two points (2,4,6) and (3,8)?\n",
    "\n",
    "What is the Manhattan distance in the above case?"
   ]
  },
  {
   "cell_type": "code",
   "execution_count": 1,
   "metadata": {},
   "outputs": [],
   "source": [
    "# Import library\n",
    "import numpy as np"
   ]
  },
  {
   "cell_type": "code",
   "execution_count": 2,
   "metadata": {},
   "outputs": [],
   "source": [
    "# Creating numpy arrays\n",
    "p1 = np.array((2,4,6))\n",
    "p2 = np.array((3,8))"
   ]
  },
  {
   "cell_type": "code",
   "execution_count": 3,
   "metadata": {},
   "outputs": [],
   "source": [
    "# Use Broadcasting since the arrays are of different sizes\n",
    "new_p1 = p1[:, np.newaxis]"
   ]
  },
  {
   "cell_type": "code",
   "execution_count": 4,
   "metadata": {},
   "outputs": [],
   "source": [
    "# Calculate Euclidean and Manhattan distance\n",
    "def euclidean_distance(a1, a2):\n",
    "    return np.round(np.sqrt(np.sum((a1-a2)**2)), 2)\n",
    "\n",
    "def manhattan_distance(a1, a2):\n",
    "    return np.round(np.sum(np.abs(a1-a2)), 2)"
   ]
  },
  {
   "cell_type": "code",
   "execution_count": 5,
   "metadata": {},
   "outputs": [
    {
     "name": "stdout",
     "output_type": "stream",
     "text": [
      "Euclidean distance: 8.19\n",
      "Manhattan distance: 17\n"
     ]
    }
   ],
   "source": [
    "print(\"Euclidean distance:\", euclidean_distance(new_p1, p2))\n",
    "print(\"Manhattan distance:\", manhattan_distance(new_p1, p2))"
   ]
  }
 ],
 "metadata": {
  "kernelspec": {
   "display_name": "Python 3",
   "language": "python",
   "name": "python3"
  },
  "language_info": {
   "codemirror_mode": {
    "name": "ipython",
    "version": 3
   },
   "file_extension": ".py",
   "mimetype": "text/x-python",
   "name": "python",
   "nbconvert_exporter": "python",
   "pygments_lexer": "ipython3",
   "version": "3.8.5"
  }
 },
 "nbformat": 4,
 "nbformat_minor": 4
}
