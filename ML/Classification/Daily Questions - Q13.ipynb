{
 "cells": [
  {
   "cell_type": "markdown",
   "id": "cf7b4304",
   "metadata": {},
   "source": [
    "### 1. Load Libraries"
   ]
  },
  {
   "cell_type": "code",
   "execution_count": 1,
   "id": "eab14ca3",
   "metadata": {},
   "outputs": [],
   "source": [
    "import numpy as np\n",
    "import pandas as pd\n",
    "\n",
    "import matplotlib.pyplot as plt\n",
    "import seaborn as sns\n",
    "\n",
    "from sklearn.datasets import make_classification\n",
    "from sklearn.model_selection import train_test_split\n",
    "from sklearn.linear_model import LogisticRegression\n",
    "from sklearn import metrics\n",
    "\n",
    "%matplotlib inline"
   ]
  },
  {
   "cell_type": "markdown",
   "id": "5fdf291e",
   "metadata": {},
   "source": [
    "### 2. Load synthetic dataset using make_classification"
   ]
  },
  {
   "cell_type": "code",
   "execution_count": 2,
   "id": "21e16595",
   "metadata": {},
   "outputs": [],
   "source": [
    "X, y = make_classification(\n",
    "    n_samples=100000, n_features=20, n_informative=2, n_redundant=10, random_state=42\n",
    ")\n",
    "\n",
    "X_train, X_test, y_train, y_test = train_test_split(\n",
    "    X, y, test_size=0.80, random_state=124\n",
    ")"
   ]
  },
  {
   "cell_type": "code",
   "execution_count": 3,
   "id": "0121b34e",
   "metadata": {},
   "outputs": [
    {
     "data": {
      "text/html": [
       "<div>\n",
       "<style scoped>\n",
       "    .dataframe tbody tr th:only-of-type {\n",
       "        vertical-align: middle;\n",
       "    }\n",
       "\n",
       "    .dataframe tbody tr th {\n",
       "        vertical-align: top;\n",
       "    }\n",
       "\n",
       "    .dataframe thead th {\n",
       "        text-align: right;\n",
       "    }\n",
       "</style>\n",
       "<table border=\"1\" class=\"dataframe\">\n",
       "  <thead>\n",
       "    <tr style=\"text-align: right;\">\n",
       "      <th></th>\n",
       "      <th>0</th>\n",
       "      <th>1</th>\n",
       "      <th>2</th>\n",
       "      <th>3</th>\n",
       "      <th>4</th>\n",
       "      <th>5</th>\n",
       "      <th>6</th>\n",
       "      <th>7</th>\n",
       "      <th>8</th>\n",
       "      <th>9</th>\n",
       "      <th>10</th>\n",
       "      <th>11</th>\n",
       "      <th>12</th>\n",
       "      <th>13</th>\n",
       "      <th>14</th>\n",
       "      <th>15</th>\n",
       "      <th>16</th>\n",
       "      <th>17</th>\n",
       "      <th>18</th>\n",
       "      <th>19</th>\n",
       "    </tr>\n",
       "  </thead>\n",
       "  <tbody>\n",
       "    <tr>\n",
       "      <th>0</th>\n",
       "      <td>-0.675885</td>\n",
       "      <td>0.190770</td>\n",
       "      <td>-0.456531</td>\n",
       "      <td>0.011329</td>\n",
       "      <td>0.048797</td>\n",
       "      <td>0.667737</td>\n",
       "      <td>-1.103441</td>\n",
       "      <td>-0.970145</td>\n",
       "      <td>-0.732858</td>\n",
       "      <td>0.051798</td>\n",
       "      <td>1.130455</td>\n",
       "      <td>-0.503714</td>\n",
       "      <td>0.631423</td>\n",
       "      <td>0.045444</td>\n",
       "      <td>-0.949875</td>\n",
       "      <td>0.621580</td>\n",
       "      <td>-0.544659</td>\n",
       "      <td>0.042097</td>\n",
       "      <td>0.104727</td>\n",
       "      <td>-1.059297</td>\n",
       "    </tr>\n",
       "    <tr>\n",
       "      <th>1</th>\n",
       "      <td>0.422764</td>\n",
       "      <td>0.590766</td>\n",
       "      <td>0.628581</td>\n",
       "      <td>0.793824</td>\n",
       "      <td>0.878442</td>\n",
       "      <td>0.127815</td>\n",
       "      <td>-0.763092</td>\n",
       "      <td>-0.247718</td>\n",
       "      <td>0.652983</td>\n",
       "      <td>-0.744198</td>\n",
       "      <td>-0.130855</td>\n",
       "      <td>-0.092504</td>\n",
       "      <td>-0.401896</td>\n",
       "      <td>1.011170</td>\n",
       "      <td>0.312020</td>\n",
       "      <td>0.627986</td>\n",
       "      <td>1.332877</td>\n",
       "      <td>0.797387</td>\n",
       "      <td>-0.628881</td>\n",
       "      <td>-1.098104</td>\n",
       "    </tr>\n",
       "    <tr>\n",
       "      <th>2</th>\n",
       "      <td>-2.642366</td>\n",
       "      <td>-0.521139</td>\n",
       "      <td>0.762671</td>\n",
       "      <td>-1.384697</td>\n",
       "      <td>-1.431009</td>\n",
       "      <td>0.810150</td>\n",
       "      <td>0.482957</td>\n",
       "      <td>-2.268099</td>\n",
       "      <td>-3.212280</td>\n",
       "      <td>1.472500</td>\n",
       "      <td>3.391374</td>\n",
       "      <td>-1.242069</td>\n",
       "      <td>0.627650</td>\n",
       "      <td>-2.598496</td>\n",
       "      <td>-3.210163</td>\n",
       "      <td>0.615912</td>\n",
       "      <td>0.134685</td>\n",
       "      <td>1.123998</td>\n",
       "      <td>1.414605</td>\n",
       "      <td>2.107199</td>\n",
       "    </tr>\n",
       "    <tr>\n",
       "      <th>3</th>\n",
       "      <td>-1.315028</td>\n",
       "      <td>-1.542378</td>\n",
       "      <td>-0.229398</td>\n",
       "      <td>-2.136239</td>\n",
       "      <td>-2.354523</td>\n",
       "      <td>0.196175</td>\n",
       "      <td>0.130585</td>\n",
       "      <td>0.415251</td>\n",
       "      <td>-1.950237</td>\n",
       "      <td>2.018927</td>\n",
       "      <td>0.646613</td>\n",
       "      <td>0.118282</td>\n",
       "      <td>-1.293345</td>\n",
       "      <td>-0.121978</td>\n",
       "      <td>-1.087852</td>\n",
       "      <td>-1.530641</td>\n",
       "      <td>0.679753</td>\n",
       "      <td>-0.494655</td>\n",
       "      <td>1.721935</td>\n",
       "      <td>-2.364971</td>\n",
       "    </tr>\n",
       "    <tr>\n",
       "      <th>4</th>\n",
       "      <td>1.179410</td>\n",
       "      <td>-0.169909</td>\n",
       "      <td>1.480127</td>\n",
       "      <td>0.164056</td>\n",
       "      <td>0.123477</td>\n",
       "      <td>-1.906977</td>\n",
       "      <td>-1.398834</td>\n",
       "      <td>1.496756</td>\n",
       "      <td>1.323489</td>\n",
       "      <td>-0.253759</td>\n",
       "      <td>-1.840370</td>\n",
       "      <td>0.785428</td>\n",
       "      <td>0.092887</td>\n",
       "      <td>0.820499</td>\n",
       "      <td>1.592766</td>\n",
       "      <td>-0.851276</td>\n",
       "      <td>-0.573789</td>\n",
       "      <td>-4.829436</td>\n",
       "      <td>-0.312053</td>\n",
       "      <td>1.772016</td>\n",
       "    </tr>\n",
       "    <tr>\n",
       "      <th>...</th>\n",
       "      <td>...</td>\n",
       "      <td>...</td>\n",
       "      <td>...</td>\n",
       "      <td>...</td>\n",
       "      <td>...</td>\n",
       "      <td>...</td>\n",
       "      <td>...</td>\n",
       "      <td>...</td>\n",
       "      <td>...</td>\n",
       "      <td>...</td>\n",
       "      <td>...</td>\n",
       "      <td>...</td>\n",
       "      <td>...</td>\n",
       "      <td>...</td>\n",
       "      <td>...</td>\n",
       "      <td>...</td>\n",
       "      <td>...</td>\n",
       "      <td>...</td>\n",
       "      <td>...</td>\n",
       "      <td>...</td>\n",
       "    </tr>\n",
       "    <tr>\n",
       "      <th>79995</th>\n",
       "      <td>1.279005</td>\n",
       "      <td>-0.703286</td>\n",
       "      <td>-0.059938</td>\n",
       "      <td>-0.407501</td>\n",
       "      <td>-0.530487</td>\n",
       "      <td>-1.635640</td>\n",
       "      <td>0.161011</td>\n",
       "      <td>2.247761</td>\n",
       "      <td>1.293025</td>\n",
       "      <td>0.245088</td>\n",
       "      <td>-2.416973</td>\n",
       "      <td>1.149663</td>\n",
       "      <td>-1.517891</td>\n",
       "      <td>-0.412410</td>\n",
       "      <td>1.933481</td>\n",
       "      <td>-1.666360</td>\n",
       "      <td>2.117058</td>\n",
       "      <td>-0.504308</td>\n",
       "      <td>0.073384</td>\n",
       "      <td>0.969559</td>\n",
       "    </tr>\n",
       "    <tr>\n",
       "      <th>79996</th>\n",
       "      <td>-1.709490</td>\n",
       "      <td>-0.646588</td>\n",
       "      <td>0.704615</td>\n",
       "      <td>-1.244846</td>\n",
       "      <td>-1.321894</td>\n",
       "      <td>-0.386591</td>\n",
       "      <td>0.777350</td>\n",
       "      <td>-1.094975</td>\n",
       "      <td>-2.162990</td>\n",
       "      <td>1.262819</td>\n",
       "      <td>1.942956</td>\n",
       "      <td>-0.625954</td>\n",
       "      <td>0.217728</td>\n",
       "      <td>0.655818</td>\n",
       "      <td>-1.953888</td>\n",
       "      <td>-0.044614</td>\n",
       "      <td>-0.006527</td>\n",
       "      <td>0.890221</td>\n",
       "      <td>1.160685</td>\n",
       "      <td>-0.330361</td>\n",
       "    </tr>\n",
       "    <tr>\n",
       "      <th>79997</th>\n",
       "      <td>-0.182043</td>\n",
       "      <td>-0.013406</td>\n",
       "      <td>0.326131</td>\n",
       "      <td>-0.070022</td>\n",
       "      <td>-0.069790</td>\n",
       "      <td>0.234515</td>\n",
       "      <td>-0.511089</td>\n",
       "      <td>-0.183333</td>\n",
       "      <td>-0.215142</td>\n",
       "      <td>0.078895</td>\n",
       "      <td>0.251902</td>\n",
       "      <td>-0.098484</td>\n",
       "      <td>-0.880230</td>\n",
       "      <td>0.937270</td>\n",
       "      <td>-0.230099</td>\n",
       "      <td>0.074647</td>\n",
       "      <td>1.019206</td>\n",
       "      <td>-1.360448</td>\n",
       "      <td>0.079609</td>\n",
       "      <td>-1.124846</td>\n",
       "    </tr>\n",
       "    <tr>\n",
       "      <th>79998</th>\n",
       "      <td>-0.627489</td>\n",
       "      <td>1.780908</td>\n",
       "      <td>1.907281</td>\n",
       "      <td>1.819436</td>\n",
       "      <td>2.098268</td>\n",
       "      <td>0.597676</td>\n",
       "      <td>-0.991465</td>\n",
       "      <td>-2.830726</td>\n",
       "      <td>-0.240904</td>\n",
       "      <td>-1.559564</td>\n",
       "      <td>2.350995</td>\n",
       "      <td>-1.388187</td>\n",
       "      <td>0.586518</td>\n",
       "      <td>-0.628593</td>\n",
       "      <td>-1.519059</td>\n",
       "      <td>2.873554</td>\n",
       "      <td>0.814021</td>\n",
       "      <td>-0.941098</td>\n",
       "      <td>-1.175197</td>\n",
       "      <td>0.116436</td>\n",
       "    </tr>\n",
       "    <tr>\n",
       "      <th>79999</th>\n",
       "      <td>1.071907</td>\n",
       "      <td>-0.610823</td>\n",
       "      <td>-0.913207</td>\n",
       "      <td>-0.365670</td>\n",
       "      <td>-0.472001</td>\n",
       "      <td>2.081440</td>\n",
       "      <td>-0.189976</td>\n",
       "      <td>1.909570</td>\n",
       "      <td>1.077788</td>\n",
       "      <td>0.226869</td>\n",
       "      <td>-2.042990</td>\n",
       "      <td>0.975799</td>\n",
       "      <td>-0.728247</td>\n",
       "      <td>0.894761</td>\n",
       "      <td>1.628916</td>\n",
       "      <td>-1.427203</td>\n",
       "      <td>-1.648137</td>\n",
       "      <td>-0.307933</td>\n",
       "      <td>0.078491</td>\n",
       "      <td>-1.233262</td>\n",
       "    </tr>\n",
       "  </tbody>\n",
       "</table>\n",
       "<p>80000 rows × 20 columns</p>\n",
       "</div>"
      ],
      "text/plain": [
       "             0         1         2         3         4         5         6   \\\n",
       "0     -0.675885  0.190770 -0.456531  0.011329  0.048797  0.667737 -1.103441   \n",
       "1      0.422764  0.590766  0.628581  0.793824  0.878442  0.127815 -0.763092   \n",
       "2     -2.642366 -0.521139  0.762671 -1.384697 -1.431009  0.810150  0.482957   \n",
       "3     -1.315028 -1.542378 -0.229398 -2.136239 -2.354523  0.196175  0.130585   \n",
       "4      1.179410 -0.169909  1.480127  0.164056  0.123477 -1.906977 -1.398834   \n",
       "...         ...       ...       ...       ...       ...       ...       ...   \n",
       "79995  1.279005 -0.703286 -0.059938 -0.407501 -0.530487 -1.635640  0.161011   \n",
       "79996 -1.709490 -0.646588  0.704615 -1.244846 -1.321894 -0.386591  0.777350   \n",
       "79997 -0.182043 -0.013406  0.326131 -0.070022 -0.069790  0.234515 -0.511089   \n",
       "79998 -0.627489  1.780908  1.907281  1.819436  2.098268  0.597676 -0.991465   \n",
       "79999  1.071907 -0.610823 -0.913207 -0.365670 -0.472001  2.081440 -0.189976   \n",
       "\n",
       "             7         8         9         10        11        12        13  \\\n",
       "0     -0.970145 -0.732858  0.051798  1.130455 -0.503714  0.631423  0.045444   \n",
       "1     -0.247718  0.652983 -0.744198 -0.130855 -0.092504 -0.401896  1.011170   \n",
       "2     -2.268099 -3.212280  1.472500  3.391374 -1.242069  0.627650 -2.598496   \n",
       "3      0.415251 -1.950237  2.018927  0.646613  0.118282 -1.293345 -0.121978   \n",
       "4      1.496756  1.323489 -0.253759 -1.840370  0.785428  0.092887  0.820499   \n",
       "...         ...       ...       ...       ...       ...       ...       ...   \n",
       "79995  2.247761  1.293025  0.245088 -2.416973  1.149663 -1.517891 -0.412410   \n",
       "79996 -1.094975 -2.162990  1.262819  1.942956 -0.625954  0.217728  0.655818   \n",
       "79997 -0.183333 -0.215142  0.078895  0.251902 -0.098484 -0.880230  0.937270   \n",
       "79998 -2.830726 -0.240904 -1.559564  2.350995 -1.388187  0.586518 -0.628593   \n",
       "79999  1.909570  1.077788  0.226869 -2.042990  0.975799 -0.728247  0.894761   \n",
       "\n",
       "             14        15        16        17        18        19  \n",
       "0     -0.949875  0.621580 -0.544659  0.042097  0.104727 -1.059297  \n",
       "1      0.312020  0.627986  1.332877  0.797387 -0.628881 -1.098104  \n",
       "2     -3.210163  0.615912  0.134685  1.123998  1.414605  2.107199  \n",
       "3     -1.087852 -1.530641  0.679753 -0.494655  1.721935 -2.364971  \n",
       "4      1.592766 -0.851276 -0.573789 -4.829436 -0.312053  1.772016  \n",
       "...         ...       ...       ...       ...       ...       ...  \n",
       "79995  1.933481 -1.666360  2.117058 -0.504308  0.073384  0.969559  \n",
       "79996 -1.953888 -0.044614 -0.006527  0.890221  1.160685 -0.330361  \n",
       "79997 -0.230099  0.074647  1.019206 -1.360448  0.079609 -1.124846  \n",
       "79998 -1.519059  2.873554  0.814021 -0.941098 -1.175197  0.116436  \n",
       "79999  1.628916 -1.427203 -1.648137 -0.307933  0.078491 -1.233262  \n",
       "\n",
       "[80000 rows x 20 columns]"
      ]
     },
     "execution_count": 3,
     "metadata": {},
     "output_type": "execute_result"
    }
   ],
   "source": [
    "pd.DataFrame(X_test)"
   ]
  },
  {
   "cell_type": "markdown",
   "id": "12afc6ad",
   "metadata": {},
   "source": [
    "### 3. Fit Logistic Regression Model"
   ]
  },
  {
   "cell_type": "code",
   "execution_count": 4,
   "id": "59423932",
   "metadata": {},
   "outputs": [],
   "source": [
    "lr = LogisticRegression()\n",
    "\n",
    "model_lr = lr.fit(X_train,y_train)"
   ]
  },
  {
   "cell_type": "code",
   "execution_count": 5,
   "id": "fe3cd420",
   "metadata": {},
   "outputs": [
    {
     "data": {
      "text/plain": [
       "array([0, 1, 0, ..., 0, 0, 1])"
      ]
     },
     "execution_count": 5,
     "metadata": {},
     "output_type": "execute_result"
    }
   ],
   "source": [
    "y_pred = model_lr.predict(X_test)\n",
    "\n",
    "y_pred"
   ]
  },
  {
   "cell_type": "markdown",
   "id": "20892c81",
   "metadata": {},
   "source": [
    "### 4. Model evaluation"
   ]
  },
  {
   "cell_type": "code",
   "execution_count": 6,
   "id": "12a5d424",
   "metadata": {},
   "outputs": [
    {
     "data": {
      "text/plain": [
       "array([[34762,  5223],\n",
       "       [ 5332, 34683]], dtype=int64)"
      ]
     },
     "execution_count": 6,
     "metadata": {},
     "output_type": "execute_result"
    }
   ],
   "source": [
    "cnf_matrix = metrics.confusion_matrix(y_test, y_pred)\n",
    "cnf_matrix"
   ]
  },
  {
   "cell_type": "code",
   "execution_count": 7,
   "id": "d1157069",
   "metadata": {},
   "outputs": [
    {
     "data": {
      "text/plain": [
       "Text(0.5, 257.44, 'Predicted label')"
      ]
     },
     "execution_count": 7,
     "metadata": {},
     "output_type": "execute_result"
    },
    {
     "data": {
      "image/png": "[encoded data removed]",
      "text/plain": [
       "<Figure size 432x288 with 2 Axes>"
      ]
     },
     "metadata": {
      "needs_background": "light"
     },
     "output_type": "display_data"
    }
   ],
   "source": [
    "class_names=[0,1] # name  of classes\n",
    "fig, ax = plt.subplots()\n",
    "tick_marks = np.arange(len(class_names))\n",
    "plt.xticks(tick_marks, class_names)\n",
    "plt.yticks(tick_marks, class_names)\n",
    "# create heatmap\n",
    "sns.heatmap(pd.DataFrame(cnf_matrix), annot=True, cmap=\"YlGnBu\" ,fmt='g')\n",
    "ax.xaxis.set_label_position(\"top\")\n",
    "plt.tight_layout()\n",
    "plt.title('Confusion matrix', y=1.1)\n",
    "plt.ylabel('Actual label')\n",
    "plt.xlabel('Predicted label')"
   ]
  },
  {
   "cell_type": "markdown",
   "id": "6eeda30e",
   "metadata": {},
   "source": [
    "Question: Part(a): Now that we have computed confusion matrix above, please plot the ROC AUC chart below"
   ]
  },
  {
   "cell_type": "code",
   "execution_count": 8,
   "id": "2eb7d1f0",
   "metadata": {},
   "outputs": [
    {
     "data": {
      "image/png": "[encoded data removed]",
      "text/plain": [
       "<Figure size 432x288 with 1 Axes>"
      ]
     },
     "metadata": {
      "needs_background": "light"
     },
     "output_type": "display_data"
    }
   ],
   "source": [
    "import scikitplot as skplt\n",
    "\n",
    "predicted_probas = model_lr.predict_proba(X_test)\n",
    "\n",
    "skplt.metrics.plot_roc(y_test, predicted_probas)\n",
    "\n",
    "plt.show()"
   ]
  },
  {
   "cell_type": "markdown",
   "id": "fd71ad50",
   "metadata": {},
   "source": [
    "Question: Part(b): Compute Youden J Statistics"
   ]
  },
  {
   "cell_type": "code",
   "execution_count": 9,
   "id": "f0135a0e",
   "metadata": {},
   "outputs": [
    {
     "data": {
      "text/plain": [
       "0.4942905558718871"
      ]
     },
     "execution_count": 9,
     "metadata": {},
     "output_type": "execute_result"
    }
   ],
   "source": [
    "from sklearn.metrics import roc_curve, RocCurveDisplay, auc\n",
    "fpr, tpr, thresholds = roc_curve(y_test, predicted_probas[:,1], drop_intermediate=False)\n",
    "def cutoff_youdens_j(fpr, tpr, thresholds):\n",
    "    j_scores = tpr - fpr\n",
    "    j_ordered = sorted(zip(j_scores,thresholds))\n",
    "    return j_ordered[-1][1]\n",
    "cutoff_youdens_j(fpr, tpr, thresholds)"
   ]
  }
 ],
 "metadata": {
  "kernelspec": {
   "display_name": "Python 3 (ipykernel)",
   "language": "python",
   "name": "python3"
  },
  "language_info": {
   "codemirror_mode": {
    "name": "ipython",
    "version": 3
   },
   "file_extension": ".py",
   "mimetype": "text/x-python",
   "name": "python",
   "nbconvert_exporter": "python",
   "pygments_lexer": "ipython3",
   "version": "3.7.13"
  }
 },
 "nbformat": 4,
 "nbformat_minor": 5
}
