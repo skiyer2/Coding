{
 "cells": [
  {
   "cell_type": "markdown",
   "id": "abbbeedc",
   "metadata": {},
   "source": [
    "Consider a dataset which indicates customer will purchase Automotive or not. Following information variables exist:\n",
    "* User ID\n",
    "* Gender of customer\n",
    "* Age of customer\n",
    "* Estimated salary of customer\n",
    "* Puchased (1 or 0): 1 - Auto purchased and 0 - Auto not purchased"
   ]
  },
  {
   "cell_type": "code",
   "execution_count": 1,
   "id": "efd9a83b",
   "metadata": {},
   "outputs": [],
   "source": [
    "# Import libraries\n",
    "import numpy as np\n",
    "import pandas as pd\n",
    "import matplotlib.pyplot as plt\n",
    "import seaborn as sns\n",
    "\n",
    "import statsmodels.api as sm\n",
    "from statsmodels.api import Logit, add_constant\n",
    "\n",
    "import warnings\n",
    "warnings.filterwarnings('ignore')"
   ]
  },
  {
   "cell_type": "code",
   "execution_count": 2,
   "id": "7bcf103b",
   "metadata": {},
   "outputs": [
    {
     "data": {
      "text/html": [
       "<div>\n",
       "<style scoped>\n",
       "    .dataframe tbody tr th:only-of-type {\n",
       "        vertical-align: middle;\n",
       "    }\n",
       "\n",
       "    .dataframe tbody tr th {\n",
       "        vertical-align: top;\n",
       "    }\n",
       "\n",
       "    .dataframe thead th {\n",
       "        text-align: right;\n",
       "    }\n",
       "</style>\n",
       "<table border=\"1\" class=\"dataframe\">\n",
       "  <thead>\n",
       "    <tr style=\"text-align: right;\">\n",
       "      <th></th>\n",
       "      <th>UserID</th>\n",
       "      <th>Gender</th>\n",
       "      <th>Age</th>\n",
       "      <th>EstimatedSalary</th>\n",
       "      <th>Purchased</th>\n",
       "    </tr>\n",
       "  </thead>\n",
       "  <tbody>\n",
       "    <tr>\n",
       "      <th>369</th>\n",
       "      <td>15624755</td>\n",
       "      <td>Female</td>\n",
       "      <td>54</td>\n",
       "      <td>26000</td>\n",
       "      <td>1</td>\n",
       "    </tr>\n",
       "    <tr>\n",
       "      <th>123</th>\n",
       "      <td>15574305</td>\n",
       "      <td>Male</td>\n",
       "      <td>35</td>\n",
       "      <td>53000</td>\n",
       "      <td>0</td>\n",
       "    </tr>\n",
       "    <tr>\n",
       "      <th>84</th>\n",
       "      <td>15798659</td>\n",
       "      <td>Female</td>\n",
       "      <td>30</td>\n",
       "      <td>62000</td>\n",
       "      <td>0</td>\n",
       "    </tr>\n",
       "    <tr>\n",
       "      <th>361</th>\n",
       "      <td>15778830</td>\n",
       "      <td>Female</td>\n",
       "      <td>53</td>\n",
       "      <td>34000</td>\n",
       "      <td>1</td>\n",
       "    </tr>\n",
       "    <tr>\n",
       "      <th>54</th>\n",
       "      <td>15654901</td>\n",
       "      <td>Female</td>\n",
       "      <td>27</td>\n",
       "      <td>58000</td>\n",
       "      <td>0</td>\n",
       "    </tr>\n",
       "  </tbody>\n",
       "</table>\n",
       "</div>"
      ],
      "text/plain": [
       "       UserID  Gender  Age  EstimatedSalary  Purchased\n",
       "369  15624755  Female   54            26000          1\n",
       "123  15574305    Male   35            53000          0\n",
       "84   15798659  Female   30            62000          0\n",
       "361  15778830  Female   53            34000          1\n",
       "54   15654901  Female   27            58000          0"
      ]
     },
     "execution_count": 2,
     "metadata": {},
     "output_type": "execute_result"
    }
   ],
   "source": [
    "# Load data\n",
    "df = pd.read_csv('C:/Users/Karthik.Iyer/Downloads/AccelerateAI/Classification-Models-main/data/LR3.csv')\n",
    "df.sample(5)"
   ]
  },
  {
   "cell_type": "code",
   "execution_count": 3,
   "id": "cfe70e7f",
   "metadata": {},
   "outputs": [
    {
     "name": "stdout",
     "output_type": "stream",
     "text": [
      "<class 'pandas.core.frame.DataFrame'>\n",
      "RangeIndex: 400 entries, 0 to 399\n",
      "Data columns (total 5 columns):\n",
      " #   Column           Non-Null Count  Dtype \n",
      "---  ------           --------------  ----- \n",
      " 0   UserID           400 non-null    int64 \n",
      " 1   Gender           400 non-null    object\n",
      " 2   Age              400 non-null    int64 \n",
      " 3   EstimatedSalary  400 non-null    int64 \n",
      " 4   Purchased        400 non-null    int64 \n",
      "dtypes: int64(4), object(1)\n",
      "memory usage: 15.8+ KB\n"
     ]
    }
   ],
   "source": [
    "# Lets check info\n",
    "df.info()"
   ]
  },
  {
   "cell_type": "markdown",
   "id": "8f162b8d",
   "metadata": {},
   "source": [
    "1. There are no missing values.\n",
    "2. Data types of variables appear to be appropriate."
   ]
  },
  {
   "cell_type": "code",
   "execution_count": 4,
   "id": "f7285ef1",
   "metadata": {},
   "outputs": [
    {
     "data": {
      "text/html": [
       "<div>\n",
       "<style scoped>\n",
       "    .dataframe tbody tr th:only-of-type {\n",
       "        vertical-align: middle;\n",
       "    }\n",
       "\n",
       "    .dataframe tbody tr th {\n",
       "        vertical-align: top;\n",
       "    }\n",
       "\n",
       "    .dataframe thead th {\n",
       "        text-align: right;\n",
       "    }\n",
       "</style>\n",
       "<table border=\"1\" class=\"dataframe\">\n",
       "  <thead>\n",
       "    <tr style=\"text-align: right;\">\n",
       "      <th></th>\n",
       "      <th>Age</th>\n",
       "      <th>EstimatedSalary</th>\n",
       "    </tr>\n",
       "  </thead>\n",
       "  <tbody>\n",
       "    <tr>\n",
       "      <th>Age</th>\n",
       "      <td>1.000000</td>\n",
       "      <td>0.155238</td>\n",
       "    </tr>\n",
       "    <tr>\n",
       "      <th>EstimatedSalary</th>\n",
       "      <td>0.155238</td>\n",
       "      <td>1.000000</td>\n",
       "    </tr>\n",
       "  </tbody>\n",
       "</table>\n",
       "</div>"
      ],
      "text/plain": [
       "                      Age  EstimatedSalary\n",
       "Age              1.000000         0.155238\n",
       "EstimatedSalary  0.155238         1.000000"
      ]
     },
     "execution_count": 4,
     "metadata": {},
     "output_type": "execute_result"
    }
   ],
   "source": [
    "# Lets check correlation\n",
    "X = df[['Age','EstimatedSalary']]\n",
    "X.corr()"
   ]
  },
  {
   "cell_type": "markdown",
   "id": "a248b475",
   "metadata": {},
   "source": [
    "**No strong correlation between Age and Salary**"
   ]
  },
  {
   "cell_type": "code",
   "execution_count": 5,
   "id": "889a4e61",
   "metadata": {},
   "outputs": [
    {
     "data": {
      "text/plain": [
       "Age                0.622454\n",
       "EstimatedSalary    0.362083\n",
       "dtype: float64"
      ]
     },
     "execution_count": 5,
     "metadata": {},
     "output_type": "execute_result"
    }
   ],
   "source": [
    "# Check correlation with y\n",
    "y = df['Purchased']\n",
    "X.corrwith(y)"
   ]
  },
  {
   "cell_type": "markdown",
   "id": "9109fb08",
   "metadata": {},
   "source": [
    "**Age of the customer seem to have better correlation with y than Salary**"
   ]
  },
  {
   "cell_type": "code",
   "execution_count": 6,
   "id": "c2fa1e0e",
   "metadata": {},
   "outputs": [
    {
     "data": {
      "text/plain": [
       "Age                4.575819\n",
       "EstimatedSalary    4.575819\n",
       "dtype: float64"
      ]
     },
     "execution_count": 6,
     "metadata": {},
     "output_type": "execute_result"
    }
   ],
   "source": [
    "# Check multi-collinearity\n",
    "from statsmodels.stats.outliers_influence import variance_inflation_factor\n",
    "pd.Series([variance_inflation_factor(X.values, i) for i in range(X.shape[1])], index=X.columns)"
   ]
  },
  {
   "cell_type": "markdown",
   "id": "9e00c205",
   "metadata": {},
   "source": [
    "**VIFs are less than 5 indicating no strong multi-collinearity**"
   ]
  },
  {
   "cell_type": "code",
   "execution_count": 7,
   "id": "c132bc7f",
   "metadata": {},
   "outputs": [
    {
     "data": {
      "text/plain": [
       "Female    204\n",
       "Male      196\n",
       "Name: Gender, dtype: int64"
      ]
     },
     "execution_count": 7,
     "metadata": {},
     "output_type": "execute_result"
    }
   ],
   "source": [
    "# Lets check Gender\n",
    "df['Gender'].value_counts()"
   ]
  },
  {
   "cell_type": "code",
   "execution_count": 8,
   "id": "f2533124",
   "metadata": {},
   "outputs": [
    {
     "data": {
      "text/html": [
       "<div>\n",
       "<style scoped>\n",
       "    .dataframe tbody tr th:only-of-type {\n",
       "        vertical-align: middle;\n",
       "    }\n",
       "\n",
       "    .dataframe tbody tr th {\n",
       "        vertical-align: top;\n",
       "    }\n",
       "\n",
       "    .dataframe thead th {\n",
       "        text-align: right;\n",
       "    }\n",
       "</style>\n",
       "<table border=\"1\" class=\"dataframe\">\n",
       "  <thead>\n",
       "    <tr style=\"text-align: right;\">\n",
       "      <th></th>\n",
       "      <th>UserID</th>\n",
       "      <th>Gender</th>\n",
       "      <th>Age</th>\n",
       "      <th>EstimatedSalary</th>\n",
       "      <th>Purchased</th>\n",
       "      <th>Male</th>\n",
       "    </tr>\n",
       "  </thead>\n",
       "  <tbody>\n",
       "    <tr>\n",
       "      <th>0</th>\n",
       "      <td>15624510</td>\n",
       "      <td>Male</td>\n",
       "      <td>19</td>\n",
       "      <td>19000</td>\n",
       "      <td>0</td>\n",
       "      <td>1</td>\n",
       "    </tr>\n",
       "    <tr>\n",
       "      <th>1</th>\n",
       "      <td>15810944</td>\n",
       "      <td>Male</td>\n",
       "      <td>35</td>\n",
       "      <td>20000</td>\n",
       "      <td>0</td>\n",
       "      <td>1</td>\n",
       "    </tr>\n",
       "    <tr>\n",
       "      <th>2</th>\n",
       "      <td>15668575</td>\n",
       "      <td>Female</td>\n",
       "      <td>26</td>\n",
       "      <td>43000</td>\n",
       "      <td>0</td>\n",
       "      <td>0</td>\n",
       "    </tr>\n",
       "    <tr>\n",
       "      <th>3</th>\n",
       "      <td>15603246</td>\n",
       "      <td>Female</td>\n",
       "      <td>27</td>\n",
       "      <td>57000</td>\n",
       "      <td>0</td>\n",
       "      <td>0</td>\n",
       "    </tr>\n",
       "    <tr>\n",
       "      <th>4</th>\n",
       "      <td>15804002</td>\n",
       "      <td>Male</td>\n",
       "      <td>19</td>\n",
       "      <td>76000</td>\n",
       "      <td>0</td>\n",
       "      <td>1</td>\n",
       "    </tr>\n",
       "  </tbody>\n",
       "</table>\n",
       "</div>"
      ],
      "text/plain": [
       "     UserID  Gender  Age  EstimatedSalary  Purchased  Male\n",
       "0  15624510    Male   19            19000          0     1\n",
       "1  15810944    Male   35            20000          0     1\n",
       "2  15668575  Female   26            43000          0     0\n",
       "3  15603246  Female   27            57000          0     0\n",
       "4  15804002    Male   19            76000          0     1"
      ]
     },
     "execution_count": 8,
     "metadata": {},
     "output_type": "execute_result"
    }
   ],
   "source": [
    "# Create dummies\n",
    "gender_dummy = pd.get_dummies(df['Gender'], drop_first=True)\n",
    "df = pd.concat([df, gender_dummy], axis=1)\n",
    "df.head()"
   ]
  },
  {
   "cell_type": "code",
   "execution_count": 9,
   "id": "3bbc9713",
   "metadata": {},
   "outputs": [
    {
     "data": {
      "text/plain": [
       "Index(['Age', 'EstimatedSalary', 'Purchased', 'Male'], dtype='object')"
      ]
     },
     "execution_count": 9,
     "metadata": {},
     "output_type": "execute_result"
    }
   ],
   "source": [
    "# Drop UserID and Gender\n",
    "df.drop(['UserID','Gender'], axis=1, inplace=True)\n",
    "df.columns"
   ]
  },
  {
   "cell_type": "code",
   "execution_count": 10,
   "id": "626d930e",
   "metadata": {},
   "outputs": [
    {
     "name": "stdout",
     "output_type": "stream",
     "text": [
      "Optimization terminated successfully.\n",
      "         Current function value: 0.344804\n",
      "         Iterations 8\n"
     ]
    },
    {
     "data": {
      "text/html": [
       "<table class=\"simpletable\">\n",
       "<caption>Logit Regression Results</caption>\n",
       "<tr>\n",
       "  <th>Dep. Variable:</th>       <td>Purchased</td>    <th>  No. Observations:  </th>  <td>   400</td>  \n",
       "</tr>\n",
       "<tr>\n",
       "  <th>Model:</th>                 <td>Logit</td>      <th>  Df Residuals:      </th>  <td>   396</td>  \n",
       "</tr>\n",
       "<tr>\n",
       "  <th>Method:</th>                 <td>MLE</td>       <th>  Df Model:          </th>  <td>     3</td>  \n",
       "</tr>\n",
       "<tr>\n",
       "  <th>Date:</th>            <td>Tue, 07 Jun 2022</td> <th>  Pseudo R-squ.:     </th>  <td>0.4711</td>  \n",
       "</tr>\n",
       "<tr>\n",
       "  <th>Time:</th>                <td>18:39:14</td>     <th>  Log-Likelihood:    </th> <td> -137.92</td> \n",
       "</tr>\n",
       "<tr>\n",
       "  <th>converged:</th>             <td>True</td>       <th>  LL-Null:           </th> <td> -260.79</td> \n",
       "</tr>\n",
       "<tr>\n",
       "  <th>Covariance Type:</th>     <td>nonrobust</td>    <th>  LLR p-value:       </th> <td>5.488e-53</td>\n",
       "</tr>\n",
       "</table>\n",
       "<table class=\"simpletable\">\n",
       "<tr>\n",
       "         <td></td>            <th>coef</th>     <th>std err</th>      <th>z</th>      <th>P>|z|</th>  <th>[0.025</th>    <th>0.975]</th>  \n",
       "</tr>\n",
       "<tr>\n",
       "  <th>const</th>           <td>  -12.7836</td> <td>    1.359</td> <td>   -9.405</td> <td> 0.000</td> <td>  -15.448</td> <td>  -10.120</td>\n",
       "</tr>\n",
       "<tr>\n",
       "  <th>Age</th>             <td>    0.2370</td> <td>    0.026</td> <td>    8.984</td> <td> 0.000</td> <td>    0.185</td> <td>    0.289</td>\n",
       "</tr>\n",
       "<tr>\n",
       "  <th>EstimatedSalary</th> <td> 3.644e-05</td> <td> 5.47e-06</td> <td>    6.659</td> <td> 0.000</td> <td> 2.57e-05</td> <td> 4.72e-05</td>\n",
       "</tr>\n",
       "<tr>\n",
       "  <th>Male</th>            <td>    0.3338</td> <td>    0.305</td> <td>    1.094</td> <td> 0.274</td> <td>   -0.264</td> <td>    0.932</td>\n",
       "</tr>\n",
       "</table>"
      ],
      "text/plain": [
       "<class 'statsmodels.iolib.summary.Summary'>\n",
       "\"\"\"\n",
       "                           Logit Regression Results                           \n",
       "==============================================================================\n",
       "Dep. Variable:              Purchased   No. Observations:                  400\n",
       "Model:                          Logit   Df Residuals:                      396\n",
       "Method:                           MLE   Df Model:                            3\n",
       "Date:                Tue, 07 Jun 2022   Pseudo R-squ.:                  0.4711\n",
       "Time:                        18:39:14   Log-Likelihood:                -137.92\n",
       "converged:                       True   LL-Null:                       -260.79\n",
       "Covariance Type:            nonrobust   LLR p-value:                 5.488e-53\n",
       "===================================================================================\n",
       "                      coef    std err          z      P>|z|      [0.025      0.975]\n",
       "-----------------------------------------------------------------------------------\n",
       "const             -12.7836      1.359     -9.405      0.000     -15.448     -10.120\n",
       "Age                 0.2370      0.026      8.984      0.000       0.185       0.289\n",
       "EstimatedSalary  3.644e-05   5.47e-06      6.659      0.000    2.57e-05    4.72e-05\n",
       "Male                0.3338      0.305      1.094      0.274      -0.264       0.932\n",
       "===================================================================================\n",
       "\"\"\""
      ]
     },
     "execution_count": 10,
     "metadata": {},
     "output_type": "execute_result"
    }
   ],
   "source": [
    "# Fit the model\n",
    "y = df['Purchased']\n",
    "X = df.drop('Purchased', axis=1)\n",
    "\n",
    "X = sm.add_constant(X)\n",
    "model1 = sm.Logit(y,X).fit()\n",
    "model1.summary()"
   ]
  },
  {
   "cell_type": "markdown",
   "id": "058e3907",
   "metadata": {},
   "source": [
    "**Since Male is insignificant, lets fit the model with only Age and Salary**"
   ]
  },
  {
   "cell_type": "code",
   "execution_count": 11,
   "id": "8013d805",
   "metadata": {},
   "outputs": [
    {
     "name": "stdout",
     "output_type": "stream",
     "text": [
      "Optimization terminated successfully.\n",
      "         Current function value: 0.346314\n",
      "         Iterations 8\n"
     ]
    },
    {
     "data": {
      "text/html": [
       "<table class=\"simpletable\">\n",
       "<caption>Logit Regression Results</caption>\n",
       "<tr>\n",
       "  <th>Dep. Variable:</th>       <td>Purchased</td>    <th>  No. Observations:  </th>  <td>   400</td>  \n",
       "</tr>\n",
       "<tr>\n",
       "  <th>Model:</th>                 <td>Logit</td>      <th>  Df Residuals:      </th>  <td>   397</td>  \n",
       "</tr>\n",
       "<tr>\n",
       "  <th>Method:</th>                 <td>MLE</td>       <th>  Df Model:          </th>  <td>     2</td>  \n",
       "</tr>\n",
       "<tr>\n",
       "  <th>Date:</th>            <td>Tue, 07 Jun 2022</td> <th>  Pseudo R-squ.:     </th>  <td>0.4688</td>  \n",
       "</tr>\n",
       "<tr>\n",
       "  <th>Time:</th>                <td>18:39:14</td>     <th>  Log-Likelihood:    </th> <td> -138.53</td> \n",
       "</tr>\n",
       "<tr>\n",
       "  <th>converged:</th>             <td>True</td>       <th>  LL-Null:           </th> <td> -260.79</td> \n",
       "</tr>\n",
       "<tr>\n",
       "  <th>Covariance Type:</th>     <td>nonrobust</td>    <th>  LLR p-value:       </th> <td>7.995e-54</td>\n",
       "</tr>\n",
       "</table>\n",
       "<table class=\"simpletable\">\n",
       "<tr>\n",
       "         <td></td>            <th>coef</th>     <th>std err</th>      <th>z</th>      <th>P>|z|</th>  <th>[0.025</th>    <th>0.975]</th>  \n",
       "</tr>\n",
       "<tr>\n",
       "  <th>const</th>           <td>  -12.4340</td> <td>    1.300</td> <td>   -9.566</td> <td> 0.000</td> <td>  -14.982</td> <td>   -9.886</td>\n",
       "</tr>\n",
       "<tr>\n",
       "  <th>Age</th>             <td>    0.2335</td> <td>    0.026</td> <td>    9.013</td> <td> 0.000</td> <td>    0.183</td> <td>    0.284</td>\n",
       "</tr>\n",
       "<tr>\n",
       "  <th>EstimatedSalary</th> <td>  3.59e-05</td> <td> 5.43e-06</td> <td>    6.613</td> <td> 0.000</td> <td> 2.53e-05</td> <td> 4.65e-05</td>\n",
       "</tr>\n",
       "</table>"
      ],
      "text/plain": [
       "<class 'statsmodels.iolib.summary.Summary'>\n",
       "\"\"\"\n",
       "                           Logit Regression Results                           \n",
       "==============================================================================\n",
       "Dep. Variable:              Purchased   No. Observations:                  400\n",
       "Model:                          Logit   Df Residuals:                      397\n",
       "Method:                           MLE   Df Model:                            2\n",
       "Date:                Tue, 07 Jun 2022   Pseudo R-squ.:                  0.4688\n",
       "Time:                        18:39:14   Log-Likelihood:                -138.53\n",
       "converged:                       True   LL-Null:                       -260.79\n",
       "Covariance Type:            nonrobust   LLR p-value:                 7.995e-54\n",
       "===================================================================================\n",
       "                      coef    std err          z      P>|z|      [0.025      0.975]\n",
       "-----------------------------------------------------------------------------------\n",
       "const             -12.4340      1.300     -9.566      0.000     -14.982      -9.886\n",
       "Age                 0.2335      0.026      9.013      0.000       0.183       0.284\n",
       "EstimatedSalary   3.59e-05   5.43e-06      6.613      0.000    2.53e-05    4.65e-05\n",
       "===================================================================================\n",
       "\"\"\""
      ]
     },
     "execution_count": 11,
     "metadata": {},
     "output_type": "execute_result"
    }
   ],
   "source": [
    "# Fit the model\n",
    "y = df['Purchased']\n",
    "X = df[['Age','EstimatedSalary']]\n",
    "\n",
    "X = sm.add_constant(X)\n",
    "model2 = sm.Logit(y,X).fit()\n",
    "model2.summary()"
   ]
  },
  {
   "cell_type": "markdown",
   "id": "e0ea156c",
   "metadata": {},
   "source": [
    "1. Fit a Logit model and explain the significance of predictors on the 'Purchase' decision\n",
    "\n",
    "**Logit Equation:**<br>\n",
    "Purchased = -12.434 + 0.2335 * Age + 0.0000359 * EstimatedSalary\n",
    "\n",
    "The p-values for both the variables - Age and EstimatedSalary are 0 indicating both variables are significant\n",
    "\n",
    "Interpretation of betas:<br>\n",
    "* The log odds for Purchase decision (whether customer purchases or not) increases by 0.2335 for each unit of 'Age'\n",
    "* The log odds for Purchase decision (whether customer purchases or not) increases by 0.0000359 for each unit of 'EstimatedSalary'\n",
    "\n",
    "2. Calculate Wald test statistic for Age"
   ]
  },
  {
   "cell_type": "code",
   "execution_count": 12,
   "id": "cbfa32a5",
   "metadata": {},
   "outputs": [
    {
     "data": {
      "text/plain": [
       "8.98"
      ]
     },
     "execution_count": 12,
     "metadata": {},
     "output_type": "execute_result"
    }
   ],
   "source": [
    "wald_test = round((0.2335/0.026),2)\n",
    "wald_test"
   ]
  }
 ],
 "metadata": {
  "kernelspec": {
   "display_name": "Python 3 (ipykernel)",
   "language": "python",
   "name": "python3"
  },
  "language_info": {
   "codemirror_mode": {
    "name": "ipython",
    "version": 3
   },
   "file_extension": ".py",
   "mimetype": "text/x-python",
   "name": "python",
   "nbconvert_exporter": "python",
   "pygments_lexer": "ipython3",
   "version": "3.7.13"
  }
 },
 "nbformat": 4,
 "nbformat_minor": 5
}
