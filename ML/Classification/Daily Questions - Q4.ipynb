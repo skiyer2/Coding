{
 "cells": [
  {
   "cell_type": "markdown",
   "id": "b5542c25",
   "metadata": {},
   "source": [
    "Consider the dataset which contains the following:\n",
    "* Survived - 1 for survived, else 0 for died\n",
    "* Name of the person\n",
    "* Sex/Gender\n",
    "* Age\n",
    "* Marital Status"
   ]
  },
  {
   "cell_type": "code",
   "execution_count": 1,
   "id": "d90d6f6f",
   "metadata": {},
   "outputs": [],
   "source": [
    "# Import libraries\n",
    "import numpy as np\n",
    "import pandas as pd\n",
    "import matplotlib.pyplot as plt\n",
    "import seaborn as sns\n",
    "\n",
    "import statsmodels.api as sm\n",
    "from statsmodels.api import Logit, add_constant\n",
    "\n",
    "import warnings\n",
    "warnings.filterwarnings('ignore')"
   ]
  },
  {
   "cell_type": "code",
   "execution_count": 2,
   "id": "1e959ce9",
   "metadata": {},
   "outputs": [
    {
     "data": {
      "text/html": [
       "<div>\n",
       "<style scoped>\n",
       "    .dataframe tbody tr th:only-of-type {\n",
       "        vertical-align: middle;\n",
       "    }\n",
       "\n",
       "    .dataframe tbody tr th {\n",
       "        vertical-align: top;\n",
       "    }\n",
       "\n",
       "    .dataframe thead th {\n",
       "        text-align: right;\n",
       "    }\n",
       "</style>\n",
       "<table border=\"1\" class=\"dataframe\">\n",
       "  <thead>\n",
       "    <tr style=\"text-align: right;\">\n",
       "      <th></th>\n",
       "      <th>Survived</th>\n",
       "      <th>Name</th>\n",
       "      <th>Sex</th>\n",
       "      <th>Age</th>\n",
       "      <th>Marital Status</th>\n",
       "    </tr>\n",
       "  </thead>\n",
       "  <tbody>\n",
       "    <tr>\n",
       "      <th>0</th>\n",
       "      <td>1</td>\n",
       "      <td>Patrick Breen</td>\n",
       "      <td>M</td>\n",
       "      <td>51.0</td>\n",
       "      <td>M</td>\n",
       "    </tr>\n",
       "    <tr>\n",
       "      <th>1</th>\n",
       "      <td>1</td>\n",
       "      <td>Margaret Breen</td>\n",
       "      <td>F</td>\n",
       "      <td>40.0</td>\n",
       "      <td>M</td>\n",
       "    </tr>\n",
       "    <tr>\n",
       "      <th>2</th>\n",
       "      <td>1</td>\n",
       "      <td>John Breen</td>\n",
       "      <td>M</td>\n",
       "      <td>14.0</td>\n",
       "      <td>S</td>\n",
       "    </tr>\n",
       "    <tr>\n",
       "      <th>3</th>\n",
       "      <td>1</td>\n",
       "      <td>Patrick Breen Jr.</td>\n",
       "      <td>M</td>\n",
       "      <td>9.0</td>\n",
       "      <td>S</td>\n",
       "    </tr>\n",
       "    <tr>\n",
       "      <th>4</th>\n",
       "      <td>1</td>\n",
       "      <td>Simon Preston Breen</td>\n",
       "      <td>M</td>\n",
       "      <td>8.0</td>\n",
       "      <td>S</td>\n",
       "    </tr>\n",
       "  </tbody>\n",
       "</table>\n",
       "</div>"
      ],
      "text/plain": [
       "   Survived                 Name Sex   Age Marital Status\n",
       "0         1        Patrick Breen   M  51.0              M\n",
       "1         1       Margaret Breen   F  40.0              M\n",
       "2         1           John Breen   M  14.0              S\n",
       "3         1    Patrick Breen Jr.   M   9.0              S\n",
       "4         1  Simon Preston Breen   M   8.0              S"
      ]
     },
     "execution_count": 2,
     "metadata": {},
     "output_type": "execute_result"
    }
   ],
   "source": [
    "# Load data\n",
    "df = pd.read_csv('C:/Users/Karthik.Iyer/Downloads/AccelerateAI/Classification-Models-main/data/LR4.csv')\n",
    "df.head()"
   ]
  },
  {
   "cell_type": "code",
   "execution_count": 3,
   "id": "7f39af1d",
   "metadata": {},
   "outputs": [
    {
     "data": {
      "text/plain": [
       "Survived          0\n",
       "Name              0\n",
       "Sex               0\n",
       "Age               3\n",
       "Marital Status    0\n",
       "dtype: int64"
      ]
     },
     "execution_count": 3,
     "metadata": {},
     "output_type": "execute_result"
    }
   ],
   "source": [
    "# Check missing values\n",
    "df.isnull().sum()"
   ]
  },
  {
   "cell_type": "markdown",
   "id": "d78dc93f",
   "metadata": {},
   "source": [
    "There are missing values in Age"
   ]
  },
  {
   "cell_type": "code",
   "execution_count": 4,
   "id": "1aedb027",
   "metadata": {},
   "outputs": [
    {
     "data": {
      "text/html": [
       "<div>\n",
       "<style scoped>\n",
       "    .dataframe tbody tr th:only-of-type {\n",
       "        vertical-align: middle;\n",
       "    }\n",
       "\n",
       "    .dataframe tbody tr th {\n",
       "        vertical-align: top;\n",
       "    }\n",
       "\n",
       "    .dataframe thead th {\n",
       "        text-align: right;\n",
       "    }\n",
       "</style>\n",
       "<table border=\"1\" class=\"dataframe\">\n",
       "  <thead>\n",
       "    <tr style=\"text-align: right;\">\n",
       "      <th></th>\n",
       "      <th>Survived</th>\n",
       "      <th>Name</th>\n",
       "      <th>Sex</th>\n",
       "      <th>Age</th>\n",
       "      <th>Marital Status</th>\n",
       "    </tr>\n",
       "  </thead>\n",
       "  <tbody>\n",
       "    <tr>\n",
       "      <th>61</th>\n",
       "      <td>0</td>\n",
       "      <td>Jacob Wolfinger</td>\n",
       "      <td>M</td>\n",
       "      <td>NaN</td>\n",
       "      <td>M</td>\n",
       "    </tr>\n",
       "    <tr>\n",
       "      <th>80</th>\n",
       "      <td>0</td>\n",
       "      <td>Luis</td>\n",
       "      <td>M</td>\n",
       "      <td>NaN</td>\n",
       "      <td>S</td>\n",
       "    </tr>\n",
       "    <tr>\n",
       "      <th>81</th>\n",
       "      <td>0</td>\n",
       "      <td>Salvador</td>\n",
       "      <td>M</td>\n",
       "      <td>NaN</td>\n",
       "      <td>S</td>\n",
       "    </tr>\n",
       "  </tbody>\n",
       "</table>\n",
       "</div>"
      ],
      "text/plain": [
       "    Survived             Name Sex  Age Marital Status\n",
       "61         0  Jacob Wolfinger   M  NaN              M\n",
       "80         0             Luis   M  NaN              S\n",
       "81         0         Salvador   M  NaN              S"
      ]
     },
     "execution_count": 4,
     "metadata": {},
     "output_type": "execute_result"
    }
   ],
   "source": [
    "# Check missing values for Age\n",
    "df[df['Age'].isnull()]"
   ]
  },
  {
   "cell_type": "code",
   "execution_count": 5,
   "id": "2e40e027",
   "metadata": {},
   "outputs": [
    {
     "data": {
      "text/plain": [
       "Survived          0\n",
       "Name              0\n",
       "Sex               0\n",
       "Age               0\n",
       "Marital Status    0\n",
       "dtype: int64"
      ]
     },
     "execution_count": 5,
     "metadata": {},
     "output_type": "execute_result"
    }
   ],
   "source": [
    "# Drop rows with missing values\n",
    "df.dropna(axis=0, inplace=True)\n",
    "df.isnull().sum()"
   ]
  },
  {
   "cell_type": "code",
   "execution_count": 6,
   "id": "308b17e2",
   "metadata": {},
   "outputs": [
    {
     "data": {
      "text/plain": [
       "Age   -0.265835\n",
       "dtype: float64"
      ]
     },
     "execution_count": 6,
     "metadata": {},
     "output_type": "execute_result"
    }
   ],
   "source": [
    "# Age is the only numerical variable. Lets check its correlation with y\n",
    "y = df['Survived']\n",
    "X = df[['Age']]\n",
    "\n",
    "X.corrwith(y)"
   ]
  },
  {
   "cell_type": "markdown",
   "id": "0f85c088",
   "metadata": {},
   "source": [
    "**Do not see a strong correlation with y**"
   ]
  },
  {
   "cell_type": "code",
   "execution_count": 7,
   "id": "29e306b1",
   "metadata": {},
   "outputs": [
    {
     "data": {
      "text/plain": [
       "S    60\n",
       "M    24\n",
       "W     2\n",
       "Name: Marital Status, dtype: int64"
      ]
     },
     "execution_count": 7,
     "metadata": {},
     "output_type": "execute_result"
    }
   ],
   "source": [
    "# Lets check categories\n",
    "df['Marital Status'].value_counts()"
   ]
  },
  {
   "cell_type": "markdown",
   "id": "9d5f3729",
   "metadata": {},
   "source": [
    "S indicates Single; M indicates Married; W indicates Widowed persons"
   ]
  },
  {
   "cell_type": "code",
   "execution_count": 8,
   "id": "b2c62345",
   "metadata": {},
   "outputs": [
    {
     "data": {
      "text/html": [
       "<div>\n",
       "<style scoped>\n",
       "    .dataframe tbody tr th:only-of-type {\n",
       "        vertical-align: middle;\n",
       "    }\n",
       "\n",
       "    .dataframe tbody tr th {\n",
       "        vertical-align: top;\n",
       "    }\n",
       "\n",
       "    .dataframe thead th {\n",
       "        text-align: right;\n",
       "    }\n",
       "</style>\n",
       "<table border=\"1\" class=\"dataframe\">\n",
       "  <thead>\n",
       "    <tr style=\"text-align: right;\">\n",
       "      <th></th>\n",
       "      <th>Sex_M</th>\n",
       "      <th>Mar_St_S</th>\n",
       "      <th>Mar_St_W</th>\n",
       "      <th>Survived</th>\n",
       "      <th>Name</th>\n",
       "      <th>Sex</th>\n",
       "      <th>Age</th>\n",
       "      <th>Marital Status</th>\n",
       "    </tr>\n",
       "  </thead>\n",
       "  <tbody>\n",
       "    <tr>\n",
       "      <th>0</th>\n",
       "      <td>1</td>\n",
       "      <td>0</td>\n",
       "      <td>0</td>\n",
       "      <td>1</td>\n",
       "      <td>Patrick Breen</td>\n",
       "      <td>M</td>\n",
       "      <td>51.0</td>\n",
       "      <td>M</td>\n",
       "    </tr>\n",
       "    <tr>\n",
       "      <th>1</th>\n",
       "      <td>0</td>\n",
       "      <td>0</td>\n",
       "      <td>0</td>\n",
       "      <td>1</td>\n",
       "      <td>Margaret Breen</td>\n",
       "      <td>F</td>\n",
       "      <td>40.0</td>\n",
       "      <td>M</td>\n",
       "    </tr>\n",
       "    <tr>\n",
       "      <th>2</th>\n",
       "      <td>1</td>\n",
       "      <td>1</td>\n",
       "      <td>0</td>\n",
       "      <td>1</td>\n",
       "      <td>John Breen</td>\n",
       "      <td>M</td>\n",
       "      <td>14.0</td>\n",
       "      <td>S</td>\n",
       "    </tr>\n",
       "    <tr>\n",
       "      <th>3</th>\n",
       "      <td>1</td>\n",
       "      <td>1</td>\n",
       "      <td>0</td>\n",
       "      <td>1</td>\n",
       "      <td>Patrick Breen Jr.</td>\n",
       "      <td>M</td>\n",
       "      <td>9.0</td>\n",
       "      <td>S</td>\n",
       "    </tr>\n",
       "    <tr>\n",
       "      <th>4</th>\n",
       "      <td>1</td>\n",
       "      <td>1</td>\n",
       "      <td>0</td>\n",
       "      <td>1</td>\n",
       "      <td>Simon Preston Breen</td>\n",
       "      <td>M</td>\n",
       "      <td>8.0</td>\n",
       "      <td>S</td>\n",
       "    </tr>\n",
       "  </tbody>\n",
       "</table>\n",
       "</div>"
      ],
      "text/plain": [
       "   Sex_M  Mar_St_S  Mar_St_W  Survived                 Name Sex   Age  \\\n",
       "0      1         0         0         1        Patrick Breen   M  51.0   \n",
       "1      0         0         0         1       Margaret Breen   F  40.0   \n",
       "2      1         1         0         1           John Breen   M  14.0   \n",
       "3      1         1         0         1    Patrick Breen Jr.   M   9.0   \n",
       "4      1         1         0         1  Simon Preston Breen   M   8.0   \n",
       "\n",
       "  Marital Status  \n",
       "0              M  \n",
       "1              M  \n",
       "2              S  \n",
       "3              S  \n",
       "4              S  "
      ]
     },
     "execution_count": 8,
     "metadata": {},
     "output_type": "execute_result"
    }
   ],
   "source": [
    "# Create dummies\n",
    "sex_dummy = pd.get_dummies(df['Sex'], prefix='Sex',drop_first=True)\n",
    "marst_dummy = pd.get_dummies(df['Marital Status'], prefix='Mar_St',drop_first=True)\n",
    "\n",
    "df = pd.concat([sex_dummy, marst_dummy, df], axis=1)\n",
    "df.head()"
   ]
  },
  {
   "cell_type": "code",
   "execution_count": 9,
   "id": "9d320fd8",
   "metadata": {},
   "outputs": [
    {
     "data": {
      "text/html": [
       "<div>\n",
       "<style scoped>\n",
       "    .dataframe tbody tr th:only-of-type {\n",
       "        vertical-align: middle;\n",
       "    }\n",
       "\n",
       "    .dataframe tbody tr th {\n",
       "        vertical-align: top;\n",
       "    }\n",
       "\n",
       "    .dataframe thead th {\n",
       "        text-align: right;\n",
       "    }\n",
       "</style>\n",
       "<table border=\"1\" class=\"dataframe\">\n",
       "  <thead>\n",
       "    <tr style=\"text-align: right;\">\n",
       "      <th></th>\n",
       "      <th>Sex_M</th>\n",
       "      <th>Mar_St_S</th>\n",
       "      <th>Mar_St_W</th>\n",
       "      <th>Survived</th>\n",
       "      <th>Age</th>\n",
       "    </tr>\n",
       "  </thead>\n",
       "  <tbody>\n",
       "    <tr>\n",
       "      <th>0</th>\n",
       "      <td>1</td>\n",
       "      <td>0</td>\n",
       "      <td>0</td>\n",
       "      <td>1</td>\n",
       "      <td>51.0</td>\n",
       "    </tr>\n",
       "    <tr>\n",
       "      <th>1</th>\n",
       "      <td>0</td>\n",
       "      <td>0</td>\n",
       "      <td>0</td>\n",
       "      <td>1</td>\n",
       "      <td>40.0</td>\n",
       "    </tr>\n",
       "    <tr>\n",
       "      <th>2</th>\n",
       "      <td>1</td>\n",
       "      <td>1</td>\n",
       "      <td>0</td>\n",
       "      <td>1</td>\n",
       "      <td>14.0</td>\n",
       "    </tr>\n",
       "    <tr>\n",
       "      <th>3</th>\n",
       "      <td>1</td>\n",
       "      <td>1</td>\n",
       "      <td>0</td>\n",
       "      <td>1</td>\n",
       "      <td>9.0</td>\n",
       "    </tr>\n",
       "    <tr>\n",
       "      <th>4</th>\n",
       "      <td>1</td>\n",
       "      <td>1</td>\n",
       "      <td>0</td>\n",
       "      <td>1</td>\n",
       "      <td>8.0</td>\n",
       "    </tr>\n",
       "  </tbody>\n",
       "</table>\n",
       "</div>"
      ],
      "text/plain": [
       "   Sex_M  Mar_St_S  Mar_St_W  Survived   Age\n",
       "0      1         0         0         1  51.0\n",
       "1      0         0         0         1  40.0\n",
       "2      1         1         0         1  14.0\n",
       "3      1         1         0         1   9.0\n",
       "4      1         1         0         1   8.0"
      ]
     },
     "execution_count": 9,
     "metadata": {},
     "output_type": "execute_result"
    }
   ],
   "source": [
    "# Drop the variables\n",
    "df.drop(['Name','Sex','Marital Status'], axis=1, inplace=True)\n",
    "df.head()"
   ]
  },
  {
   "cell_type": "code",
   "execution_count": 10,
   "id": "f7ed876b",
   "metadata": {},
   "outputs": [
    {
     "name": "stdout",
     "output_type": "stream",
     "text": [
      "Optimization terminated successfully.\n",
      "         Current function value: 0.650221\n",
      "         Iterations 5\n"
     ]
    },
    {
     "data": {
      "text/html": [
       "<table class=\"simpletable\">\n",
       "<caption>Logit Regression Results</caption>\n",
       "<tr>\n",
       "  <th>Dep. Variable:</th>       <td>Survived</td>     <th>  No. Observations:  </th>  <td>    86</td> \n",
       "</tr>\n",
       "<tr>\n",
       "  <th>Model:</th>                 <td>Logit</td>      <th>  Df Residuals:      </th>  <td>    84</td> \n",
       "</tr>\n",
       "<tr>\n",
       "  <th>Method:</th>                 <td>MLE</td>       <th>  Df Model:          </th>  <td>     1</td> \n",
       "</tr>\n",
       "<tr>\n",
       "  <th>Date:</th>            <td>Wed, 08 Jun 2022</td> <th>  Pseudo R-squ.:     </th>  <td>0.05267</td>\n",
       "</tr>\n",
       "<tr>\n",
       "  <th>Time:</th>                <td>19:02:32</td>     <th>  Log-Likelihood:    </th> <td> -55.919</td>\n",
       "</tr>\n",
       "<tr>\n",
       "  <th>converged:</th>             <td>True</td>       <th>  LL-Null:           </th> <td> -59.028</td>\n",
       "</tr>\n",
       "<tr>\n",
       "  <th>Covariance Type:</th>     <td>nonrobust</td>    <th>  LLR p-value:       </th>  <td>0.01265</td>\n",
       "</tr>\n",
       "</table>\n",
       "<table class=\"simpletable\">\n",
       "<tr>\n",
       "    <td></td>       <th>coef</th>     <th>std err</th>      <th>z</th>      <th>P>|z|</th>  <th>[0.025</th>    <th>0.975]</th>  \n",
       "</tr>\n",
       "<tr>\n",
       "  <th>const</th> <td>    0.9674</td> <td>    0.381</td> <td>    2.536</td> <td> 0.011</td> <td>    0.220</td> <td>    1.715</td>\n",
       "</tr>\n",
       "<tr>\n",
       "  <th>Age</th>   <td>   -0.0354</td> <td>    0.015</td> <td>   -2.367</td> <td> 0.018</td> <td>   -0.065</td> <td>   -0.006</td>\n",
       "</tr>\n",
       "</table>"
      ],
      "text/plain": [
       "<class 'statsmodels.iolib.summary.Summary'>\n",
       "\"\"\"\n",
       "                           Logit Regression Results                           \n",
       "==============================================================================\n",
       "Dep. Variable:               Survived   No. Observations:                   86\n",
       "Model:                          Logit   Df Residuals:                       84\n",
       "Method:                           MLE   Df Model:                            1\n",
       "Date:                Wed, 08 Jun 2022   Pseudo R-squ.:                 0.05267\n",
       "Time:                        19:02:32   Log-Likelihood:                -55.919\n",
       "converged:                       True   LL-Null:                       -59.028\n",
       "Covariance Type:            nonrobust   LLR p-value:                   0.01265\n",
       "==============================================================================\n",
       "                 coef    std err          z      P>|z|      [0.025      0.975]\n",
       "------------------------------------------------------------------------------\n",
       "const          0.9674      0.381      2.536      0.011       0.220       1.715\n",
       "Age           -0.0354      0.015     -2.367      0.018      -0.065      -0.006\n",
       "==============================================================================\n",
       "\"\"\""
      ]
     },
     "execution_count": 10,
     "metadata": {},
     "output_type": "execute_result"
    }
   ],
   "source": [
    "# Train the model with only Age\n",
    "y = df['Survived']\n",
    "X = df['Age']\n",
    "\n",
    "X = sm.add_constant(X)\n",
    "model = sm.Logit(y, X).fit()\n",
    "model.summary()"
   ]
  },
  {
   "cell_type": "code",
   "execution_count": 11,
   "id": "09a4ccc5",
   "metadata": {},
   "outputs": [
    {
     "data": {
      "text/plain": [
       "const    0.967397\n",
       "Age     -0.035385\n",
       "dtype: float64"
      ]
     },
     "execution_count": 11,
     "metadata": {},
     "output_type": "execute_result"
    }
   ],
   "source": [
    "# Check coefficients\n",
    "model.params"
   ]
  },
  {
   "cell_type": "markdown",
   "id": "c00d4acd",
   "metadata": {},
   "source": [
    "1. Consider the regression model equation as log(p/1-p) = beta0 + beta1 * Age and estimate coefficients beta0 and beta1 using MLE\n",
    "\n",
    "**MLE Equation:**<br>\n",
    "Survived = 0.9674 - 0.0354 * Age<br>\n",
    "beta0 = 0.9674<br>\n",
    "beta1 = -0.0354\n",
    "\n",
    "2. Calculate the probability of survival for a new born (considering age=0)"
   ]
  },
  {
   "cell_type": "code",
   "execution_count": 12,
   "id": "0c8799fe",
   "metadata": {},
   "outputs": [
    {
     "data": {
      "text/plain": [
       "0.72"
      ]
     },
     "execution_count": 12,
     "metadata": {},
     "output_type": "execute_result"
    }
   ],
   "source": [
    "odds = np.exp((0.9674 + (-0.0354*0)))\n",
    "prob = round(odds/(1+odds),2)\n",
    "prob"
   ]
  }
 ],
 "metadata": {
  "kernelspec": {
   "display_name": "Python 3 (ipykernel)",
   "language": "python",
   "name": "python3"
  },
  "language_info": {
   "codemirror_mode": {
    "name": "ipython",
    "version": 3
   },
   "file_extension": ".py",
   "mimetype": "text/x-python",
   "name": "python",
   "nbconvert_exporter": "python",
   "pygments_lexer": "ipython3",
   "version": "3.7.13"
  }
 },
 "nbformat": 4,
 "nbformat_minor": 5
}
