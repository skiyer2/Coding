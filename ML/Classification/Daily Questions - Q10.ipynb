{
 "cells": [
  {
   "cell_type": "markdown",
   "id": "199f76e1",
   "metadata": {},
   "source": [
    "An FMCG firm would like to inspect on product quality. They have gathered information on various features that impact product quality and it is classified into multiple levels. You are tasked to predict the quality based on the faetures provided. Fit a logistic regression model and provide score for your fitted model. Do you see similarities/difference between two solvers based on the score? (you can use any two solvers).\n",
    "\n",
    "About the dataset:<br>\n",
    "* product_quality: The outcome variable\n",
    "* V1 to V11: Independent variables/features for which information is captured."
   ]
  },
  {
   "cell_type": "code",
   "execution_count": 1,
   "id": "f2314b89",
   "metadata": {},
   "outputs": [],
   "source": [
    "# Import libraries\n",
    "import numpy as np\n",
    "import pandas as pd\n",
    "import matplotlib.pyplot as plt\n",
    "import seaborn as sns\n",
    "\n",
    "import statsmodels.api as sm\n",
    "\n",
    "import warnings\n",
    "warnings.filterwarnings('ignore')"
   ]
  },
  {
   "cell_type": "code",
   "execution_count": 2,
   "id": "d09b1df2",
   "metadata": {},
   "outputs": [
    {
     "data": {
      "text/html": [
       "<div>\n",
       "<style scoped>\n",
       "    .dataframe tbody tr th:only-of-type {\n",
       "        vertical-align: middle;\n",
       "    }\n",
       "\n",
       "    .dataframe tbody tr th {\n",
       "        vertical-align: top;\n",
       "    }\n",
       "\n",
       "    .dataframe thead th {\n",
       "        text-align: right;\n",
       "    }\n",
       "</style>\n",
       "<table border=\"1\" class=\"dataframe\">\n",
       "  <thead>\n",
       "    <tr style=\"text-align: right;\">\n",
       "      <th></th>\n",
       "      <th>V1</th>\n",
       "      <th>V2</th>\n",
       "      <th>V3</th>\n",
       "      <th>V4</th>\n",
       "      <th>V5</th>\n",
       "      <th>V6</th>\n",
       "      <th>V7</th>\n",
       "      <th>V8</th>\n",
       "      <th>V9</th>\n",
       "      <th>V10</th>\n",
       "      <th>V11</th>\n",
       "      <th>product_quality</th>\n",
       "    </tr>\n",
       "  </thead>\n",
       "  <tbody>\n",
       "    <tr>\n",
       "      <th>836</th>\n",
       "      <td>6.7</td>\n",
       "      <td>0.28</td>\n",
       "      <td>0.28</td>\n",
       "      <td>2.4</td>\n",
       "      <td>0.012</td>\n",
       "      <td>36.0</td>\n",
       "      <td>100.0</td>\n",
       "      <td>0.99064</td>\n",
       "      <td>3.26</td>\n",
       "      <td>0.39</td>\n",
       "      <td>11.7</td>\n",
       "      <td>4</td>\n",
       "    </tr>\n",
       "    <tr>\n",
       "      <th>15</th>\n",
       "      <td>8.9</td>\n",
       "      <td>0.62</td>\n",
       "      <td>0.19</td>\n",
       "      <td>3.9</td>\n",
       "      <td>0.170</td>\n",
       "      <td>51.0</td>\n",
       "      <td>148.0</td>\n",
       "      <td>0.99860</td>\n",
       "      <td>3.17</td>\n",
       "      <td>0.93</td>\n",
       "      <td>9.2</td>\n",
       "      <td>2</td>\n",
       "    </tr>\n",
       "    <tr>\n",
       "      <th>184</th>\n",
       "      <td>6.7</td>\n",
       "      <td>0.62</td>\n",
       "      <td>0.21</td>\n",
       "      <td>1.9</td>\n",
       "      <td>0.079</td>\n",
       "      <td>8.0</td>\n",
       "      <td>62.0</td>\n",
       "      <td>0.99700</td>\n",
       "      <td>3.52</td>\n",
       "      <td>0.58</td>\n",
       "      <td>9.3</td>\n",
       "      <td>3</td>\n",
       "    </tr>\n",
       "    <tr>\n",
       "      <th>1171</th>\n",
       "      <td>7.1</td>\n",
       "      <td>0.59</td>\n",
       "      <td>0.00</td>\n",
       "      <td>2.2</td>\n",
       "      <td>0.078</td>\n",
       "      <td>26.0</td>\n",
       "      <td>44.0</td>\n",
       "      <td>0.99522</td>\n",
       "      <td>3.42</td>\n",
       "      <td>0.68</td>\n",
       "      <td>10.8</td>\n",
       "      <td>3</td>\n",
       "    </tr>\n",
       "    <tr>\n",
       "      <th>964</th>\n",
       "      <td>8.5</td>\n",
       "      <td>0.47</td>\n",
       "      <td>0.27</td>\n",
       "      <td>1.9</td>\n",
       "      <td>0.058</td>\n",
       "      <td>18.0</td>\n",
       "      <td>38.0</td>\n",
       "      <td>0.99518</td>\n",
       "      <td>3.16</td>\n",
       "      <td>0.85</td>\n",
       "      <td>11.1</td>\n",
       "      <td>3</td>\n",
       "    </tr>\n",
       "    <tr>\n",
       "      <th>624</th>\n",
       "      <td>6.8</td>\n",
       "      <td>0.69</td>\n",
       "      <td>0.00</td>\n",
       "      <td>5.6</td>\n",
       "      <td>0.124</td>\n",
       "      <td>21.0</td>\n",
       "      <td>58.0</td>\n",
       "      <td>0.99970</td>\n",
       "      <td>3.46</td>\n",
       "      <td>0.72</td>\n",
       "      <td>10.2</td>\n",
       "      <td>2</td>\n",
       "    </tr>\n",
       "    <tr>\n",
       "      <th>49</th>\n",
       "      <td>5.6</td>\n",
       "      <td>0.31</td>\n",
       "      <td>0.37</td>\n",
       "      <td>1.4</td>\n",
       "      <td>0.074</td>\n",
       "      <td>12.0</td>\n",
       "      <td>96.0</td>\n",
       "      <td>0.99540</td>\n",
       "      <td>3.32</td>\n",
       "      <td>0.58</td>\n",
       "      <td>9.2</td>\n",
       "      <td>2</td>\n",
       "    </tr>\n",
       "    <tr>\n",
       "      <th>1435</th>\n",
       "      <td>10.2</td>\n",
       "      <td>0.54</td>\n",
       "      <td>0.37</td>\n",
       "      <td>15.4</td>\n",
       "      <td>0.214</td>\n",
       "      <td>55.0</td>\n",
       "      <td>95.0</td>\n",
       "      <td>1.00369</td>\n",
       "      <td>3.18</td>\n",
       "      <td>0.77</td>\n",
       "      <td>9.0</td>\n",
       "      <td>3</td>\n",
       "    </tr>\n",
       "    <tr>\n",
       "      <th>1004</th>\n",
       "      <td>8.2</td>\n",
       "      <td>0.43</td>\n",
       "      <td>0.29</td>\n",
       "      <td>1.6</td>\n",
       "      <td>0.081</td>\n",
       "      <td>27.0</td>\n",
       "      <td>45.0</td>\n",
       "      <td>0.99603</td>\n",
       "      <td>3.25</td>\n",
       "      <td>0.54</td>\n",
       "      <td>10.3</td>\n",
       "      <td>2</td>\n",
       "    </tr>\n",
       "    <tr>\n",
       "      <th>424</th>\n",
       "      <td>7.7</td>\n",
       "      <td>0.96</td>\n",
       "      <td>0.20</td>\n",
       "      <td>2.0</td>\n",
       "      <td>0.047</td>\n",
       "      <td>15.0</td>\n",
       "      <td>60.0</td>\n",
       "      <td>0.99550</td>\n",
       "      <td>3.36</td>\n",
       "      <td>0.44</td>\n",
       "      <td>10.9</td>\n",
       "      <td>2</td>\n",
       "    </tr>\n",
       "  </tbody>\n",
       "</table>\n",
       "</div>"
      ],
      "text/plain": [
       "        V1    V2    V3    V4     V5    V6     V7       V8    V9   V10   V11  \\\n",
       "836    6.7  0.28  0.28   2.4  0.012  36.0  100.0  0.99064  3.26  0.39  11.7   \n",
       "15     8.9  0.62  0.19   3.9  0.170  51.0  148.0  0.99860  3.17  0.93   9.2   \n",
       "184    6.7  0.62  0.21   1.9  0.079   8.0   62.0  0.99700  3.52  0.58   9.3   \n",
       "1171   7.1  0.59  0.00   2.2  0.078  26.0   44.0  0.99522  3.42  0.68  10.8   \n",
       "964    8.5  0.47  0.27   1.9  0.058  18.0   38.0  0.99518  3.16  0.85  11.1   \n",
       "624    6.8  0.69  0.00   5.6  0.124  21.0   58.0  0.99970  3.46  0.72  10.2   \n",
       "49     5.6  0.31  0.37   1.4  0.074  12.0   96.0  0.99540  3.32  0.58   9.2   \n",
       "1435  10.2  0.54  0.37  15.4  0.214  55.0   95.0  1.00369  3.18  0.77   9.0   \n",
       "1004   8.2  0.43  0.29   1.6  0.081  27.0   45.0  0.99603  3.25  0.54  10.3   \n",
       "424    7.7  0.96  0.20   2.0  0.047  15.0   60.0  0.99550  3.36  0.44  10.9   \n",
       "\n",
       "      product_quality  \n",
       "836                 4  \n",
       "15                  2  \n",
       "184                 3  \n",
       "1171                3  \n",
       "964                 3  \n",
       "624                 2  \n",
       "49                  2  \n",
       "1435                3  \n",
       "1004                2  \n",
       "424                 2  "
      ]
     },
     "execution_count": 2,
     "metadata": {},
     "output_type": "execute_result"
    }
   ],
   "source": [
    "# Load data\n",
    "product = pd.read_csv('C:/Users/Karthik.Iyer/Downloads/AccelerateAI/Classification-Models-main/data/product_quality.csv')\n",
    "product.sample(10)"
   ]
  },
  {
   "cell_type": "code",
   "execution_count": 3,
   "id": "abf55da6",
   "metadata": {},
   "outputs": [
    {
     "data": {
      "text/plain": [
       "(1599, 12)"
      ]
     },
     "execution_count": 3,
     "metadata": {},
     "output_type": "execute_result"
    }
   ],
   "source": [
    "# Lets check shape\n",
    "product.shape"
   ]
  },
  {
   "cell_type": "code",
   "execution_count": 4,
   "id": "abbe61ea",
   "metadata": {},
   "outputs": [
    {
     "name": "stdout",
     "output_type": "stream",
     "text": [
      "<class 'pandas.core.frame.DataFrame'>\n",
      "RangeIndex: 1599 entries, 0 to 1598\n",
      "Data columns (total 12 columns):\n",
      " #   Column           Non-Null Count  Dtype  \n",
      "---  ------           --------------  -----  \n",
      " 0   V1               1599 non-null   float64\n",
      " 1   V2               1599 non-null   float64\n",
      " 2   V3               1599 non-null   float64\n",
      " 3   V4               1599 non-null   float64\n",
      " 4   V5               1599 non-null   float64\n",
      " 5   V6               1599 non-null   float64\n",
      " 6   V7               1599 non-null   float64\n",
      " 7   V8               1599 non-null   float64\n",
      " 8   V9               1599 non-null   float64\n",
      " 9   V10              1599 non-null   float64\n",
      " 10  V11              1599 non-null   float64\n",
      " 11  product_quality  1599 non-null   int64  \n",
      "dtypes: float64(11), int64(1)\n",
      "memory usage: 150.0 KB\n"
     ]
    }
   ],
   "source": [
    "# Lets check info\n",
    "product.info()"
   ]
  },
  {
   "cell_type": "code",
   "execution_count": 5,
   "id": "9d0599a4",
   "metadata": {},
   "outputs": [
    {
     "data": {
      "text/plain": [
       "V1                 0\n",
       "V2                 0\n",
       "V3                 0\n",
       "V4                 0\n",
       "V5                 0\n",
       "V6                 0\n",
       "V7                 0\n",
       "V8                 0\n",
       "V9                 0\n",
       "V10                0\n",
       "V11                0\n",
       "product_quality    0\n",
       "dtype: int64"
      ]
     },
     "execution_count": 5,
     "metadata": {},
     "output_type": "execute_result"
    }
   ],
   "source": [
    "# Missing values\n",
    "product.isnull().sum()"
   ]
  },
  {
   "cell_type": "markdown",
   "id": "d07c191c",
   "metadata": {},
   "source": [
    "There are no missing values"
   ]
  },
  {
   "cell_type": "code",
   "execution_count": 6,
   "id": "2e54dbab",
   "metadata": {},
   "outputs": [
    {
     "data": {
      "text/plain": [
       "array([2, 3, 4, 1, 5, 0], dtype=int64)"
      ]
     },
     "execution_count": 6,
     "metadata": {},
     "output_type": "execute_result"
    }
   ],
   "source": [
    "# Lets check product quality\n",
    "product['product_quality'].unique()"
   ]
  },
  {
   "cell_type": "markdown",
   "id": "e58492b2",
   "metadata": {},
   "source": [
    "There are 6 different levels with each level indicating the product quality"
   ]
  },
  {
   "cell_type": "code",
   "execution_count": 7,
   "id": "8bb896f5",
   "metadata": {},
   "outputs": [
    {
     "data": {
      "text/html": [
       "<div>\n",
       "<style scoped>\n",
       "    .dataframe tbody tr th:only-of-type {\n",
       "        vertical-align: middle;\n",
       "    }\n",
       "\n",
       "    .dataframe tbody tr th {\n",
       "        vertical-align: top;\n",
       "    }\n",
       "\n",
       "    .dataframe thead th {\n",
       "        text-align: right;\n",
       "    }\n",
       "</style>\n",
       "<table border=\"1\" class=\"dataframe\">\n",
       "  <thead>\n",
       "    <tr style=\"text-align: right;\">\n",
       "      <th></th>\n",
       "      <th>V1</th>\n",
       "      <th>V2</th>\n",
       "      <th>V3</th>\n",
       "      <th>V4</th>\n",
       "      <th>V5</th>\n",
       "      <th>V6</th>\n",
       "      <th>V7</th>\n",
       "      <th>V8</th>\n",
       "      <th>V9</th>\n",
       "      <th>V10</th>\n",
       "      <th>V11</th>\n",
       "    </tr>\n",
       "  </thead>\n",
       "  <tbody>\n",
       "    <tr>\n",
       "      <th>V1</th>\n",
       "      <td>1.000000</td>\n",
       "      <td>-0.256131</td>\n",
       "      <td>0.671703</td>\n",
       "      <td>0.114777</td>\n",
       "      <td>0.093705</td>\n",
       "      <td>-0.153794</td>\n",
       "      <td>-0.113181</td>\n",
       "      <td>0.668047</td>\n",
       "      <td>-0.682978</td>\n",
       "      <td>0.183006</td>\n",
       "      <td>-0.061668</td>\n",
       "    </tr>\n",
       "    <tr>\n",
       "      <th>V2</th>\n",
       "      <td>-0.256131</td>\n",
       "      <td>1.000000</td>\n",
       "      <td>-0.552496</td>\n",
       "      <td>0.001918</td>\n",
       "      <td>0.061298</td>\n",
       "      <td>-0.010504</td>\n",
       "      <td>0.076470</td>\n",
       "      <td>0.022026</td>\n",
       "      <td>0.234937</td>\n",
       "      <td>-0.260987</td>\n",
       "      <td>-0.202288</td>\n",
       "    </tr>\n",
       "    <tr>\n",
       "      <th>V3</th>\n",
       "      <td>0.671703</td>\n",
       "      <td>-0.552496</td>\n",
       "      <td>1.000000</td>\n",
       "      <td>0.143577</td>\n",
       "      <td>0.203823</td>\n",
       "      <td>-0.060978</td>\n",
       "      <td>0.035533</td>\n",
       "      <td>0.364947</td>\n",
       "      <td>-0.541904</td>\n",
       "      <td>0.312770</td>\n",
       "      <td>0.109903</td>\n",
       "    </tr>\n",
       "    <tr>\n",
       "      <th>V4</th>\n",
       "      <td>0.114777</td>\n",
       "      <td>0.001918</td>\n",
       "      <td>0.143577</td>\n",
       "      <td>1.000000</td>\n",
       "      <td>0.055610</td>\n",
       "      <td>0.187049</td>\n",
       "      <td>0.203028</td>\n",
       "      <td>0.355283</td>\n",
       "      <td>-0.085652</td>\n",
       "      <td>0.005527</td>\n",
       "      <td>0.042075</td>\n",
       "    </tr>\n",
       "    <tr>\n",
       "      <th>V5</th>\n",
       "      <td>0.093705</td>\n",
       "      <td>0.061298</td>\n",
       "      <td>0.203823</td>\n",
       "      <td>0.055610</td>\n",
       "      <td>1.000000</td>\n",
       "      <td>0.005562</td>\n",
       "      <td>0.047400</td>\n",
       "      <td>0.200632</td>\n",
       "      <td>-0.265026</td>\n",
       "      <td>0.371260</td>\n",
       "      <td>-0.221141</td>\n",
       "    </tr>\n",
       "    <tr>\n",
       "      <th>V6</th>\n",
       "      <td>-0.153794</td>\n",
       "      <td>-0.010504</td>\n",
       "      <td>-0.060978</td>\n",
       "      <td>0.187049</td>\n",
       "      <td>0.005562</td>\n",
       "      <td>1.000000</td>\n",
       "      <td>0.667666</td>\n",
       "      <td>-0.021946</td>\n",
       "      <td>0.070377</td>\n",
       "      <td>0.051658</td>\n",
       "      <td>-0.069408</td>\n",
       "    </tr>\n",
       "    <tr>\n",
       "      <th>V7</th>\n",
       "      <td>-0.113181</td>\n",
       "      <td>0.076470</td>\n",
       "      <td>0.035533</td>\n",
       "      <td>0.203028</td>\n",
       "      <td>0.047400</td>\n",
       "      <td>0.667666</td>\n",
       "      <td>1.000000</td>\n",
       "      <td>0.071269</td>\n",
       "      <td>-0.066495</td>\n",
       "      <td>0.042947</td>\n",
       "      <td>-0.205654</td>\n",
       "    </tr>\n",
       "    <tr>\n",
       "      <th>V8</th>\n",
       "      <td>0.668047</td>\n",
       "      <td>0.022026</td>\n",
       "      <td>0.364947</td>\n",
       "      <td>0.355283</td>\n",
       "      <td>0.200632</td>\n",
       "      <td>-0.021946</td>\n",
       "      <td>0.071269</td>\n",
       "      <td>1.000000</td>\n",
       "      <td>-0.341699</td>\n",
       "      <td>0.148506</td>\n",
       "      <td>-0.496180</td>\n",
       "    </tr>\n",
       "    <tr>\n",
       "      <th>V9</th>\n",
       "      <td>-0.682978</td>\n",
       "      <td>0.234937</td>\n",
       "      <td>-0.541904</td>\n",
       "      <td>-0.085652</td>\n",
       "      <td>-0.265026</td>\n",
       "      <td>0.070377</td>\n",
       "      <td>-0.066495</td>\n",
       "      <td>-0.341699</td>\n",
       "      <td>1.000000</td>\n",
       "      <td>-0.196648</td>\n",
       "      <td>0.205633</td>\n",
       "    </tr>\n",
       "    <tr>\n",
       "      <th>V10</th>\n",
       "      <td>0.183006</td>\n",
       "      <td>-0.260987</td>\n",
       "      <td>0.312770</td>\n",
       "      <td>0.005527</td>\n",
       "      <td>0.371260</td>\n",
       "      <td>0.051658</td>\n",
       "      <td>0.042947</td>\n",
       "      <td>0.148506</td>\n",
       "      <td>-0.196648</td>\n",
       "      <td>1.000000</td>\n",
       "      <td>0.093595</td>\n",
       "    </tr>\n",
       "    <tr>\n",
       "      <th>V11</th>\n",
       "      <td>-0.061668</td>\n",
       "      <td>-0.202288</td>\n",
       "      <td>0.109903</td>\n",
       "      <td>0.042075</td>\n",
       "      <td>-0.221141</td>\n",
       "      <td>-0.069408</td>\n",
       "      <td>-0.205654</td>\n",
       "      <td>-0.496180</td>\n",
       "      <td>0.205633</td>\n",
       "      <td>0.093595</td>\n",
       "      <td>1.000000</td>\n",
       "    </tr>\n",
       "  </tbody>\n",
       "</table>\n",
       "</div>"
      ],
      "text/plain": [
       "           V1        V2        V3        V4        V5        V6        V7  \\\n",
       "V1   1.000000 -0.256131  0.671703  0.114777  0.093705 -0.153794 -0.113181   \n",
       "V2  -0.256131  1.000000 -0.552496  0.001918  0.061298 -0.010504  0.076470   \n",
       "V3   0.671703 -0.552496  1.000000  0.143577  0.203823 -0.060978  0.035533   \n",
       "V4   0.114777  0.001918  0.143577  1.000000  0.055610  0.187049  0.203028   \n",
       "V5   0.093705  0.061298  0.203823  0.055610  1.000000  0.005562  0.047400   \n",
       "V6  -0.153794 -0.010504 -0.060978  0.187049  0.005562  1.000000  0.667666   \n",
       "V7  -0.113181  0.076470  0.035533  0.203028  0.047400  0.667666  1.000000   \n",
       "V8   0.668047  0.022026  0.364947  0.355283  0.200632 -0.021946  0.071269   \n",
       "V9  -0.682978  0.234937 -0.541904 -0.085652 -0.265026  0.070377 -0.066495   \n",
       "V10  0.183006 -0.260987  0.312770  0.005527  0.371260  0.051658  0.042947   \n",
       "V11 -0.061668 -0.202288  0.109903  0.042075 -0.221141 -0.069408 -0.205654   \n",
       "\n",
       "           V8        V9       V10       V11  \n",
       "V1   0.668047 -0.682978  0.183006 -0.061668  \n",
       "V2   0.022026  0.234937 -0.260987 -0.202288  \n",
       "V3   0.364947 -0.541904  0.312770  0.109903  \n",
       "V4   0.355283 -0.085652  0.005527  0.042075  \n",
       "V5   0.200632 -0.265026  0.371260 -0.221141  \n",
       "V6  -0.021946  0.070377  0.051658 -0.069408  \n",
       "V7   0.071269 -0.066495  0.042947 -0.205654  \n",
       "V8   1.000000 -0.341699  0.148506 -0.496180  \n",
       "V9  -0.341699  1.000000 -0.196648  0.205633  \n",
       "V10  0.148506 -0.196648  1.000000  0.093595  \n",
       "V11 -0.496180  0.205633  0.093595  1.000000  "
      ]
     },
     "execution_count": 7,
     "metadata": {},
     "output_type": "execute_result"
    }
   ],
   "source": [
    "# Lets check correlation in X\n",
    "X = product.drop('product_quality', axis=1)\n",
    "X.corr()"
   ]
  },
  {
   "cell_type": "code",
   "execution_count": 8,
   "id": "358f1df8",
   "metadata": {},
   "outputs": [
    {
     "data": {
      "text/plain": [
       "V1     0.124052\n",
       "V2    -0.390558\n",
       "V3     0.226373\n",
       "V4     0.013732\n",
       "V5    -0.128907\n",
       "V6    -0.050656\n",
       "V7    -0.185100\n",
       "V8    -0.174919\n",
       "V9    -0.057731\n",
       "V10    0.251397\n",
       "V11    0.476166\n",
       "dtype: float64"
      ]
     },
     "execution_count": 8,
     "metadata": {},
     "output_type": "execute_result"
    }
   ],
   "source": [
    "# Check correlation with y\n",
    "y = product['product_quality']\n",
    "X.corrwith(y)"
   ]
  },
  {
   "cell_type": "markdown",
   "id": "7085c031",
   "metadata": {},
   "source": [
    "**V11 seem to have better correlation with y than others**"
   ]
  },
  {
   "cell_type": "code",
   "execution_count": 9,
   "id": "7ca15046",
   "metadata": {},
   "outputs": [
    {
     "data": {
      "text/plain": [
       "V1       74.452265\n",
       "V2       17.060026\n",
       "V3        9.183495\n",
       "V4        4.662992\n",
       "V5        6.554877\n",
       "V6        6.442682\n",
       "V7        6.519699\n",
       "V8     1479.287209\n",
       "V9     1070.967685\n",
       "V10      21.590621\n",
       "V11     124.394866\n",
       "dtype: float64"
      ]
     },
     "execution_count": 9,
     "metadata": {},
     "output_type": "execute_result"
    }
   ],
   "source": [
    "# Lets check multi-collinearity\n",
    "from statsmodels.stats.outliers_influence import variance_inflation_factor\n",
    "pd.Series([variance_inflation_factor(X.values, i) for i in range(X.shape[1])], index=X.columns)"
   ]
  },
  {
   "cell_type": "code",
   "execution_count": 10,
   "id": "f7c5492f",
   "metadata": {},
   "outputs": [
    {
     "data": {
      "text/plain": [
       "V1      40.216574\n",
       "V2      17.058940\n",
       "V3       9.149028\n",
       "V4       4.662789\n",
       "V5       6.017799\n",
       "V6       6.390157\n",
       "V7       6.096300\n",
       "V9     158.025734\n",
       "V10     21.552410\n",
       "V11    121.980842\n",
       "dtype: float64"
      ]
     },
     "execution_count": 10,
     "metadata": {},
     "output_type": "execute_result"
    }
   ],
   "source": [
    "# Lets drop V8\n",
    "X.drop('V8', axis=1, inplace=True)\n",
    "pd.Series([variance_inflation_factor(X.values, i) for i in range(X.shape[1])], index=X.columns)"
   ]
  },
  {
   "cell_type": "code",
   "execution_count": 11,
   "id": "aacbf300",
   "metadata": {},
   "outputs": [
    {
     "data": {
      "text/plain": [
       "V1     37.557809\n",
       "V2     15.651760\n",
       "V3      8.636667\n",
       "V4      4.660704\n",
       "V5      5.935002\n",
       "V6      6.357695\n",
       "V7      5.987189\n",
       "V10    21.218142\n",
       "V11    37.137148\n",
       "dtype: float64"
      ]
     },
     "execution_count": 11,
     "metadata": {},
     "output_type": "execute_result"
    }
   ],
   "source": [
    "# Lets drop V9\n",
    "X.drop('V9', axis=1, inplace=True)\n",
    "pd.Series([variance_inflation_factor(X.values, i) for i in range(X.shape[1])], index=X.columns)"
   ]
  },
  {
   "cell_type": "code",
   "execution_count": 12,
   "id": "2a41bafc",
   "metadata": {},
   "outputs": [
    {
     "data": {
      "text/plain": [
       "V2     12.880017\n",
       "V3      4.913939\n",
       "V4      4.637831\n",
       "V5      5.903420\n",
       "V6      6.349669\n",
       "V7      5.900754\n",
       "V10    20.648712\n",
       "V11    31.915246\n",
       "dtype: float64"
      ]
     },
     "execution_count": 12,
     "metadata": {},
     "output_type": "execute_result"
    }
   ],
   "source": [
    "# Lets drop V1 and retain V11 (V11 has better correlation)\n",
    "X.drop('V1', axis=1, inplace=True)\n",
    "pd.Series([variance_inflation_factor(X.values, i) for i in range(X.shape[1])], index=X.columns)"
   ]
  },
  {
   "cell_type": "code",
   "execution_count": 13,
   "id": "92375d36",
   "metadata": {},
   "outputs": [
    {
     "data": {
      "text/plain": [
       "V3      3.429373\n",
       "V4      4.589696\n",
       "V5      5.220931\n",
       "V6      6.175750\n",
       "V7      5.503560\n",
       "V10    20.446909\n",
       "V11    18.092200\n",
       "dtype: float64"
      ]
     },
     "execution_count": 13,
     "metadata": {},
     "output_type": "execute_result"
    }
   ],
   "source": [
    "# Lets drop V2 due to poor correlation (Retain V11 and V10)\n",
    "X.drop('V2', axis=1, inplace=True)\n",
    "pd.Series([variance_inflation_factor(X.values, i) for i in range(X.shape[1])], index=X.columns)"
   ]
  },
  {
   "cell_type": "code",
   "execution_count": 14,
   "id": "a56786dc",
   "metadata": {},
   "outputs": [
    {
     "data": {
      "text/plain": [
       "V3      3.357480\n",
       "V4      4.557597\n",
       "V5      5.217760\n",
       "V7      3.034367\n",
       "V10    20.362169\n",
       "V11    17.698264\n",
       "dtype: float64"
      ]
     },
     "execution_count": 14,
     "metadata": {},
     "output_type": "execute_result"
    }
   ],
   "source": [
    "# Lets drop V6\n",
    "X.drop('V6', axis=1, inplace=True)\n",
    "pd.Series([variance_inflation_factor(X.values, i) for i in range(X.shape[1])], index=X.columns)"
   ]
  },
  {
   "cell_type": "code",
   "execution_count": 15,
   "id": "e264b06d",
   "metadata": {},
   "outputs": [
    {
     "data": {
      "text/plain": [
       "V3      3.329190\n",
       "V4      4.527246\n",
       "V7      3.028535\n",
       "V10    16.706696\n",
       "V11    17.650067\n",
       "dtype: float64"
      ]
     },
     "execution_count": 15,
     "metadata": {},
     "output_type": "execute_result"
    }
   ],
   "source": [
    "# Lets drop V5\n",
    "X.drop('V5', axis=1, inplace=True)\n",
    "pd.Series([variance_inflation_factor(X.values, i) for i in range(X.shape[1])], index=X.columns)"
   ]
  },
  {
   "cell_type": "code",
   "execution_count": 16,
   "id": "399d7d9c",
   "metadata": {},
   "outputs": [
    {
     "data": {
      "text/plain": [
       "V3     3.034249\n",
       "V4     4.521110\n",
       "V7     2.963910\n",
       "V11    6.292263\n",
       "dtype: float64"
      ]
     },
     "execution_count": 16,
     "metadata": {},
     "output_type": "execute_result"
    }
   ],
   "source": [
    "# Now we will drop V10 (Still retain V11 due to better correlation)\n",
    "X.drop('V10', axis=1, inplace=True)\n",
    "pd.Series([variance_inflation_factor(X.values, i) for i in range(X.shape[1])], index=X.columns)"
   ]
  },
  {
   "cell_type": "markdown",
   "id": "83a9a233",
   "metadata": {},
   "source": [
    "**VIFs have come down drastically. Do not want to drop V11 since V11 has better correlation with y than others. Lets train the model and look at p-values**"
   ]
  },
  {
   "cell_type": "code",
   "execution_count": 17,
   "id": "9bf5bdec",
   "metadata": {},
   "outputs": [
    {
     "name": "stdout",
     "output_type": "stream",
     "text": [
      "Optimization terminated successfully.\n",
      "         Current function value: 1.123618\n",
      "         Iterations 9\n",
      "                          MNLogit Regression Results                          \n",
      "==============================================================================\n",
      "Dep. Variable:        product_quality   No. Observations:                 1599\n",
      "Model:                        MNLogit   Df Residuals:                     1579\n",
      "Method:                           MLE   Df Model:                           15\n",
      "Date:                Thu, 16 Jun 2022   Pseudo R-squ.:                 0.05150\n",
      "Time:                        22:34:31   Log-Likelihood:                -1796.7\n",
      "converged:                       True   LL-Null:                       -1894.2\n",
      "Covariance Type:            nonrobust   LLR p-value:                 2.080e-33\n",
      "=====================================================================================\n",
      "product_quality=1       coef    std err          z      P>|z|      [0.025      0.975]\n",
      "-------------------------------------------------------------------------------------\n",
      "V3                   -0.3256      2.003     -0.163      0.871      -4.252       3.600\n",
      "V4                   -0.0470      0.181     -0.260      0.795      -0.402       0.308\n",
      "V7                    0.0298      0.021      1.422      0.155      -0.011       0.071\n",
      "V11                   0.0951      0.078      1.227      0.220      -0.057       0.247\n",
      "-------------------------------------------------------------------------------------\n",
      "product_quality=2       coef    std err          z      P>|z|      [0.025      0.975]\n",
      "-------------------------------------------------------------------------------------\n",
      "V3                    1.8098      1.844      0.981      0.326      -1.805       5.425\n",
      "V4                   -0.2038      0.170     -1.198      0.231      -0.537       0.130\n",
      "V7                    0.0555      0.020      2.745      0.006       0.016       0.095\n",
      "V11                   0.2210      0.073      3.024      0.002       0.078       0.364\n",
      "-------------------------------------------------------------------------------------\n",
      "product_quality=3       coef    std err          z      P>|z|      [0.025      0.975]\n",
      "-------------------------------------------------------------------------------------\n",
      "V3                    2.4963      1.840      1.357      0.175      -1.109       6.102\n",
      "V4                   -0.2374      0.171     -1.392      0.164      -0.572       0.097\n",
      "V7                    0.0381      0.020      1.887      0.059      -0.001       0.078\n",
      "V11                   0.2916      0.073      3.994      0.000       0.148       0.435\n",
      "-------------------------------------------------------------------------------------\n",
      "product_quality=4       coef    std err          z      P>|z|      [0.025      0.975]\n",
      "-------------------------------------------------------------------------------------\n",
      "V3                    4.3326      1.861      2.328      0.020       0.685       7.980\n",
      "V4                   -0.2091      0.176     -1.190      0.234      -0.554       0.135\n",
      "V7                    0.0228      0.020      1.119      0.263      -0.017       0.063\n",
      "V11                   0.1802      0.075      2.413      0.016       0.034       0.327\n",
      "-------------------------------------------------------------------------------------\n",
      "product_quality=5       coef    std err          z      P>|z|      [0.025      0.975]\n",
      "-------------------------------------------------------------------------------------\n",
      "V3                    4.4178      2.133      2.071      0.038       0.236       8.599\n",
      "V4                   -0.5087      0.365     -1.395      0.163      -1.223       0.206\n",
      "V7                    0.0132      0.023      0.565      0.572      -0.033       0.059\n",
      "V11                   0.0488      0.107      0.457      0.647      -0.160       0.258\n",
      "=====================================================================================\n"
     ]
    }
   ],
   "source": [
    "# Train the model\n",
    "mlogit_mod = sm.MNLogit(y, X)\n",
    "mlogit_res = mlogit_mod.fit()\n",
    "print(mlogit_res.summary())"
   ]
  },
  {
   "cell_type": "code",
   "execution_count": 18,
   "id": "8dc489b9",
   "metadata": {},
   "outputs": [
    {
     "data": {
      "text/plain": [
       "-1894.2253774681112"
      ]
     },
     "execution_count": 18,
     "metadata": {},
     "output_type": "execute_result"
    }
   ],
   "source": [
    "mlogit_res.llnull"
   ]
  },
  {
   "cell_type": "markdown",
   "id": "e403cc1f",
   "metadata": {},
   "source": [
    "### Alternate Solvers"
   ]
  },
  {
   "cell_type": "code",
   "execution_count": 19,
   "id": "14cdf66e",
   "metadata": {},
   "outputs": [
    {
     "name": "stdout",
     "output_type": "stream",
     "text": [
      "Optimization terminated successfully.\n",
      "         Current function value: 1.123618\n",
      "         Iterations: 106\n",
      "         Function evaluations: 112\n",
      "         Gradient evaluations: 112\n",
      "                          MNLogit Regression Results                          \n",
      "==============================================================================\n",
      "Dep. Variable:        product_quality   No. Observations:                 1599\n",
      "Model:                        MNLogit   Df Residuals:                     1579\n",
      "Method:                           MLE   Df Model:                           15\n",
      "Date:                Thu, 16 Jun 2022   Pseudo R-squ.:                 0.05150\n",
      "Time:                        22:34:31   Log-Likelihood:                -1796.7\n",
      "converged:                       True   LL-Null:                       -1894.2\n",
      "Covariance Type:            nonrobust   LLR p-value:                 2.080e-33\n",
      "=====================================================================================\n",
      "product_quality=1       coef    std err          z      P>|z|      [0.025      0.975]\n",
      "-------------------------------------------------------------------------------------\n",
      "V3                   -0.3257      2.003     -0.163      0.871      -4.252       3.600\n",
      "V4                   -0.0470      0.181     -0.260      0.795      -0.402       0.308\n",
      "V7                    0.0298      0.021      1.422      0.155      -0.011       0.071\n",
      "V11                   0.0951      0.078      1.227      0.220      -0.057       0.247\n",
      "-------------------------------------------------------------------------------------\n",
      "product_quality=2       coef    std err          z      P>|z|      [0.025      0.975]\n",
      "-------------------------------------------------------------------------------------\n",
      "V3                    1.8097      1.844      0.981      0.326      -1.805       5.425\n",
      "V4                   -0.2038      0.170     -1.198      0.231      -0.537       0.130\n",
      "V7                    0.0555      0.020      2.745      0.006       0.016       0.095\n",
      "V11                   0.2210      0.073      3.024      0.002       0.078       0.364\n",
      "-------------------------------------------------------------------------------------\n",
      "product_quality=3       coef    std err          z      P>|z|      [0.025      0.975]\n",
      "-------------------------------------------------------------------------------------\n",
      "V3                    2.4962      1.840      1.357      0.175      -1.109       6.102\n",
      "V4                   -0.2374      0.171     -1.392      0.164      -0.572       0.097\n",
      "V7                    0.0381      0.020      1.888      0.059      -0.001       0.078\n",
      "V11                   0.2916      0.073      3.993      0.000       0.148       0.435\n",
      "-------------------------------------------------------------------------------------\n",
      "product_quality=4       coef    std err          z      P>|z|      [0.025      0.975]\n",
      "-------------------------------------------------------------------------------------\n",
      "V3                    4.3326      1.861      2.328      0.020       0.685       7.980\n",
      "V4                   -0.2091      0.176     -1.190      0.234      -0.553       0.135\n",
      "V7                    0.0228      0.020      1.119      0.263      -0.017       0.063\n",
      "V11                   0.1802      0.075      2.413      0.016       0.034       0.327\n",
      "-------------------------------------------------------------------------------------\n",
      "product_quality=5       coef    std err          z      P>|z|      [0.025      0.975]\n",
      "-------------------------------------------------------------------------------------\n",
      "V3                    4.4178      2.133      2.071      0.038       0.236       8.599\n",
      "V4                   -0.5087      0.365     -1.395      0.163      -1.223       0.206\n",
      "V7                    0.0132      0.023      0.565      0.572      -0.033       0.059\n",
      "V11                   0.0488      0.107      0.457      0.648      -0.160       0.258\n",
      "=====================================================================================\n"
     ]
    }
   ],
   "source": [
    "bfgs_mod = mlogit_mod.fit(method='bfgs', maxiter=250)\n",
    "print(bfgs_mod.summary())"
   ]
  },
  {
   "cell_type": "code",
   "execution_count": 20,
   "id": "b026ced2",
   "metadata": {},
   "outputs": [
    {
     "data": {
      "text/plain": [
       "-1894.2253774681112"
      ]
     },
     "execution_count": 20,
     "metadata": {},
     "output_type": "execute_result"
    }
   ],
   "source": [
    "bfgs_mod.llnull"
   ]
  },
  {
   "cell_type": "code",
   "execution_count": 21,
   "id": "d346e7db",
   "metadata": {},
   "outputs": [
    {
     "name": "stdout",
     "output_type": "stream",
     "text": [
      "Optimization terminated successfully.\n",
      "         Current function value: 1.130565\n",
      "         Iterations: 13\n",
      "         Function evaluations: 3406\n",
      "                          MNLogit Regression Results                          \n",
      "==============================================================================\n",
      "Dep. Variable:        product_quality   No. Observations:                 1599\n",
      "Model:                        MNLogit   Df Residuals:                     1579\n",
      "Method:                           MLE   Df Model:                           15\n",
      "Date:                Thu, 16 Jun 2022   Pseudo R-squ.:                 0.04564\n",
      "Time:                        22:34:33   Log-Likelihood:                -1807.8\n",
      "converged:                       True   LL-Null:                       -1894.2\n",
      "Covariance Type:            nonrobust   LLR p-value:                 6.379e-29\n",
      "=====================================================================================\n",
      "product_quality=1       coef    std err          z      P>|z|      [0.025      0.975]\n",
      "-------------------------------------------------------------------------------------\n",
      "V3                    6.0534      3.168      1.911      0.056      -0.157      12.263\n",
      "V4                    0.8498      0.548      1.551      0.121      -0.224       1.924\n",
      "V7                    0.0038      0.016      0.245      0.806      -0.027       0.034\n",
      "V11                  -0.1261      0.113     -1.116      0.265      -0.348       0.095\n",
      "-------------------------------------------------------------------------------------\n",
      "product_quality=2       coef    std err          z      P>|z|      [0.025      0.975]\n",
      "-------------------------------------------------------------------------------------\n",
      "V3                    8.5836      3.064      2.801      0.005       2.578      14.589\n",
      "V4                    0.6841      0.544      1.258      0.208      -0.381       1.750\n",
      "V7                    0.0284      0.015      1.956      0.050   -6.08e-05       0.057\n",
      "V11                  -0.0014      0.110     -0.013      0.990      -0.217       0.214\n",
      "-------------------------------------------------------------------------------------\n",
      "product_quality=3       coef    std err          z      P>|z|      [0.025      0.975]\n",
      "-------------------------------------------------------------------------------------\n",
      "V3                    9.2206      3.063      3.011      0.003       3.218      15.223\n",
      "V4                    0.6568      0.544      1.208      0.227      -0.409       1.722\n",
      "V7                    0.0107      0.015      0.735      0.463      -0.018       0.039\n",
      "V11                   0.0709      0.110      0.646      0.518      -0.144       0.286\n",
      "-------------------------------------------------------------------------------------\n",
      "product_quality=4       coef    std err          z      P>|z|      [0.025      0.975]\n",
      "-------------------------------------------------------------------------------------\n",
      "V3                   11.0851      3.078      3.601      0.000       5.052      17.119\n",
      "V4                    0.6725      0.546      1.232      0.218      -0.398       1.743\n",
      "V7                   -0.0052      0.015     -0.350      0.727      -0.034       0.024\n",
      "V11                  -0.0370      0.111     -0.333      0.739      -0.255       0.181\n",
      "-------------------------------------------------------------------------------------\n",
      "product_quality=5       coef    std err          z      P>|z|      [0.025      0.975]\n",
      "-------------------------------------------------------------------------------------\n",
      "V3                   11.0964      3.250      3.414      0.001       4.726      17.467\n",
      "V4                    0.3796      0.630      0.602      0.547      -0.856       1.615\n",
      "V7                   -0.0144      0.019     -0.769      0.442      -0.051       0.022\n",
      "V11                  -0.1685      0.134     -1.254      0.210      -0.432       0.095\n",
      "=====================================================================================\n"
     ]
    }
   ],
   "source": [
    "powell_mod = mlogit_mod.fit(method='powell', maxiter=250)\n",
    "print(powell_mod.summary())"
   ]
  },
  {
   "cell_type": "code",
   "execution_count": 22,
   "id": "c6f94d5a",
   "metadata": {},
   "outputs": [
    {
     "data": {
      "text/plain": [
       "-1894.2253774681112"
      ]
     },
     "execution_count": 22,
     "metadata": {},
     "output_type": "execute_result"
    }
   ],
   "source": [
    "powell_mod.llnull"
   ]
  },
  {
   "cell_type": "markdown",
   "id": "63c305b3",
   "metadata": {},
   "source": [
    "**1. We do not see see big difference in llnull values when different solvers are used**<br>\n",
    "**2. There are few differences in p-values when powell solver is used**<br>\n",
    "**3. All the solvers used above use MLE method as parameter estiamtion**"
   ]
  }
 ],
 "metadata": {
  "kernelspec": {
   "display_name": "Python 3 (ipykernel)",
   "language": "python",
   "name": "python3"
  },
  "language_info": {
   "codemirror_mode": {
    "name": "ipython",
    "version": 3
   },
   "file_extension": ".py",
   "mimetype": "text/x-python",
   "name": "python",
   "nbconvert_exporter": "python",
   "pygments_lexer": "ipython3",
   "version": "3.7.13"
  }
 },
 "nbformat": 4,
 "nbformat_minor": 5
}
