{
 "cells": [
  {
   "cell_type": "markdown",
   "id": "915b49f1",
   "metadata": {},
   "source": [
    "1. You are watching French Open at Roland Garros. There is a 85% chance that Rafael Nadal will win the tournament. Then what are his odds?"
   ]
  },
  {
   "cell_type": "code",
   "execution_count": 1,
   "id": "72c847fe",
   "metadata": {},
   "outputs": [
    {
     "data": {
      "text/plain": [
       "5.67"
      ]
     },
     "execution_count": 1,
     "metadata": {},
     "output_type": "execute_result"
    }
   ],
   "source": [
    "# Odds = Probbaility of winning/Probability of Not winning\n",
    "P = 0.85     #Let P denote probability of winning\n",
    "odds = round((P/(1-P)),2)\n",
    "odds"
   ]
  },
  {
   "cell_type": "markdown",
   "id": "464d2325",
   "metadata": {},
   "source": [
    "Consider the data for various patients in a hospital tp predict leukamia remissions that they may have with certain features. The description of the variables are as follows:<br>\n",
    "* Outcome variable REMISS stands for remission. If leukamia remission occurred then 1, else 0\n",
    "* Other predictors are as follows:\n",
    "    * CELL: cellularity of the marrow clot section\n",
    "    * SMEAR: smear differential percentage of blasts\n",
    "    * INFIL: percentage of absolute marrow leukamia cell infiltrate\n",
    "    * LI: percentage labeling index of the bone marrow leukamia cells\n",
    "    * BLAST: absolute no. of blasts in the peripheral blood\n",
    "    * TEMP: the highest temperature prior to start of treatment\n",
    "\n",
    "1. What is the regression output while considering one variable 'LI' between Logit and GLM models? Are they same?"
   ]
  },
  {
   "cell_type": "code",
   "execution_count": 2,
   "id": "3c835deb",
   "metadata": {},
   "outputs": [],
   "source": [
    "# Import libraries\n",
    "import numpy as np\n",
    "import pandas as pd\n",
    "import matplotlib.pyplot as plt\n",
    "import seaborn as sns\n",
    "\n",
    "import statsmodels.api as sm\n",
    "from statsmodels.api import Logit, add_constant\n",
    "\n",
    "import warnings\n",
    "warnings.filterwarnings('ignore')"
   ]
  },
  {
   "cell_type": "code",
   "execution_count": 3,
   "id": "f8b38398",
   "metadata": {},
   "outputs": [
    {
     "data": {
      "text/html": [
       "<div>\n",
       "<style scoped>\n",
       "    .dataframe tbody tr th:only-of-type {\n",
       "        vertical-align: middle;\n",
       "    }\n",
       "\n",
       "    .dataframe tbody tr th {\n",
       "        vertical-align: top;\n",
       "    }\n",
       "\n",
       "    .dataframe thead th {\n",
       "        text-align: right;\n",
       "    }\n",
       "</style>\n",
       "<table border=\"1\" class=\"dataframe\">\n",
       "  <thead>\n",
       "    <tr style=\"text-align: right;\">\n",
       "      <th></th>\n",
       "      <th>REMISS</th>\n",
       "      <th>CELL</th>\n",
       "      <th>SMEAR</th>\n",
       "      <th>INFIL</th>\n",
       "      <th>LI</th>\n",
       "      <th>BLAST</th>\n",
       "      <th>TEMP</th>\n",
       "    </tr>\n",
       "  </thead>\n",
       "  <tbody>\n",
       "    <tr>\n",
       "      <th>0</th>\n",
       "      <td>1</td>\n",
       "      <td>0.8</td>\n",
       "      <td>0.83</td>\n",
       "      <td>0.66</td>\n",
       "      <td>1.9</td>\n",
       "      <td>1.10</td>\n",
       "      <td>1.00</td>\n",
       "    </tr>\n",
       "    <tr>\n",
       "      <th>1</th>\n",
       "      <td>1</td>\n",
       "      <td>0.9</td>\n",
       "      <td>0.36</td>\n",
       "      <td>0.32</td>\n",
       "      <td>1.4</td>\n",
       "      <td>0.74</td>\n",
       "      <td>0.99</td>\n",
       "    </tr>\n",
       "    <tr>\n",
       "      <th>2</th>\n",
       "      <td>0</td>\n",
       "      <td>0.8</td>\n",
       "      <td>0.88</td>\n",
       "      <td>0.70</td>\n",
       "      <td>0.8</td>\n",
       "      <td>0.18</td>\n",
       "      <td>0.98</td>\n",
       "    </tr>\n",
       "    <tr>\n",
       "      <th>3</th>\n",
       "      <td>0</td>\n",
       "      <td>1.0</td>\n",
       "      <td>0.87</td>\n",
       "      <td>0.87</td>\n",
       "      <td>0.7</td>\n",
       "      <td>1.05</td>\n",
       "      <td>0.99</td>\n",
       "    </tr>\n",
       "    <tr>\n",
       "      <th>4</th>\n",
       "      <td>1</td>\n",
       "      <td>0.9</td>\n",
       "      <td>0.75</td>\n",
       "      <td>0.68</td>\n",
       "      <td>1.3</td>\n",
       "      <td>0.52</td>\n",
       "      <td>0.98</td>\n",
       "    </tr>\n",
       "  </tbody>\n",
       "</table>\n",
       "</div>"
      ],
      "text/plain": [
       "   REMISS  CELL  SMEAR  INFIL   LI  BLAST  TEMP\n",
       "0       1   0.8   0.83   0.66  1.9   1.10  1.00\n",
       "1       1   0.9   0.36   0.32  1.4   0.74  0.99\n",
       "2       0   0.8   0.88   0.70  0.8   0.18  0.98\n",
       "3       0   1.0   0.87   0.87  0.7   1.05  0.99\n",
       "4       1   0.9   0.75   0.68  1.3   0.52  0.98"
      ]
     },
     "execution_count": 3,
     "metadata": {},
     "output_type": "execute_result"
    }
   ],
   "source": [
    "# Load data\n",
    "df = pd.read_csv('C:/Users/Karthik.Iyer/Downloads/AccelerateAI/Classification-Models-main/data/LR2.csv')\n",
    "df.head()"
   ]
  },
  {
   "cell_type": "code",
   "execution_count": 4,
   "id": "3bb1d123",
   "metadata": {},
   "outputs": [
    {
     "name": "stdout",
     "output_type": "stream",
     "text": [
      "Optimization terminated successfully.\n",
      "         Current function value: 0.482833\n",
      "         Iterations 6\n"
     ]
    },
    {
     "data": {
      "text/html": [
       "<table class=\"simpletable\">\n",
       "<caption>Logit Regression Results</caption>\n",
       "<tr>\n",
       "  <th>Dep. Variable:</th>        <td>REMISS</td>      <th>  No. Observations:  </th>  <td>    27</td> \n",
       "</tr>\n",
       "<tr>\n",
       "  <th>Model:</th>                 <td>Logit</td>      <th>  Df Residuals:      </th>  <td>    25</td> \n",
       "</tr>\n",
       "<tr>\n",
       "  <th>Method:</th>                 <td>MLE</td>       <th>  Df Model:          </th>  <td>     1</td> \n",
       "</tr>\n",
       "<tr>\n",
       "  <th>Date:</th>            <td>Thu, 09 Jun 2022</td> <th>  Pseudo R-squ.:     </th>  <td>0.2414</td> \n",
       "</tr>\n",
       "<tr>\n",
       "  <th>Time:</th>                <td>11:41:37</td>     <th>  Log-Likelihood:    </th> <td> -13.036</td>\n",
       "</tr>\n",
       "<tr>\n",
       "  <th>converged:</th>             <td>True</td>       <th>  LL-Null:           </th> <td> -17.186</td>\n",
       "</tr>\n",
       "<tr>\n",
       "  <th>Covariance Type:</th>     <td>nonrobust</td>    <th>  LLR p-value:       </th> <td>0.003967</td>\n",
       "</tr>\n",
       "</table>\n",
       "<table class=\"simpletable\">\n",
       "<tr>\n",
       "    <td></td>       <th>coef</th>     <th>std err</th>      <th>z</th>      <th>P>|z|</th>  <th>[0.025</th>    <th>0.975]</th>  \n",
       "</tr>\n",
       "<tr>\n",
       "  <th>const</th> <td>   -3.7771</td> <td>    1.379</td> <td>   -2.740</td> <td> 0.006</td> <td>   -6.479</td> <td>   -1.075</td>\n",
       "</tr>\n",
       "<tr>\n",
       "  <th>LI</th>    <td>    2.8973</td> <td>    1.187</td> <td>    2.441</td> <td> 0.015</td> <td>    0.571</td> <td>    5.223</td>\n",
       "</tr>\n",
       "</table>"
      ],
      "text/plain": [
       "<class 'statsmodels.iolib.summary.Summary'>\n",
       "\"\"\"\n",
       "                           Logit Regression Results                           \n",
       "==============================================================================\n",
       "Dep. Variable:                 REMISS   No. Observations:                   27\n",
       "Model:                          Logit   Df Residuals:                       25\n",
       "Method:                           MLE   Df Model:                            1\n",
       "Date:                Thu, 09 Jun 2022   Pseudo R-squ.:                  0.2414\n",
       "Time:                        11:41:37   Log-Likelihood:                -13.036\n",
       "converged:                       True   LL-Null:                       -17.186\n",
       "Covariance Type:            nonrobust   LLR p-value:                  0.003967\n",
       "==============================================================================\n",
       "                 coef    std err          z      P>|z|      [0.025      0.975]\n",
       "------------------------------------------------------------------------------\n",
       "const         -3.7771      1.379     -2.740      0.006      -6.479      -1.075\n",
       "LI             2.8973      1.187      2.441      0.015       0.571       5.223\n",
       "==============================================================================\n",
       "\"\"\""
      ]
     },
     "execution_count": 4,
     "metadata": {},
     "output_type": "execute_result"
    }
   ],
   "source": [
    "# Fit the model. Use Logit model\n",
    "y = df['REMISS']\n",
    "X = df['LI']\n",
    "\n",
    "X = sm.add_constant(X)\n",
    "logit_model = sm.Logit(y, X).fit()\n",
    "logit_model.summary()"
   ]
  },
  {
   "cell_type": "markdown",
   "id": "6236385c",
   "metadata": {},
   "source": [
    "**Output:**<br>\n",
    "REMISS = -3.7771 + 2.8973 * LI"
   ]
  },
  {
   "cell_type": "code",
   "execution_count": 5,
   "id": "6e1a86f0",
   "metadata": {},
   "outputs": [
    {
     "data": {
      "text/html": [
       "<table class=\"simpletable\">\n",
       "<caption>Generalized Linear Model Regression Results</caption>\n",
       "<tr>\n",
       "  <th>Dep. Variable:</th>        <td>REMISS</td>      <th>  No. Observations:  </th>  <td>    27</td> \n",
       "</tr>\n",
       "<tr>\n",
       "  <th>Model:</th>                  <td>GLM</td>       <th>  Df Residuals:      </th>  <td>    25</td> \n",
       "</tr>\n",
       "<tr>\n",
       "  <th>Model Family:</th>        <td>Binomial</td>     <th>  Df Model:          </th>  <td>     1</td> \n",
       "</tr>\n",
       "<tr>\n",
       "  <th>Link Function:</th>         <td>Logit</td>      <th>  Scale:             </th> <td>  1.0000</td>\n",
       "</tr>\n",
       "<tr>\n",
       "  <th>Method:</th>                <td>IRLS</td>       <th>  Log-Likelihood:    </th> <td> -13.036</td>\n",
       "</tr>\n",
       "<tr>\n",
       "  <th>Date:</th>            <td>Thu, 09 Jun 2022</td> <th>  Deviance:          </th> <td>  26.073</td>\n",
       "</tr>\n",
       "<tr>\n",
       "  <th>Time:</th>                <td>11:41:37</td>     <th>  Pearson chi2:      </th>  <td>  23.9</td> \n",
       "</tr>\n",
       "<tr>\n",
       "  <th>No. Iterations:</th>          <td>4</td>        <th>  Pseudo R-squ. (CS):</th>  <td>0.2646</td> \n",
       "</tr>\n",
       "<tr>\n",
       "  <th>Covariance Type:</th>     <td>nonrobust</td>    <th>                     </th>     <td> </td>   \n",
       "</tr>\n",
       "</table>\n",
       "<table class=\"simpletable\">\n",
       "<tr>\n",
       "      <td></td>         <th>coef</th>     <th>std err</th>      <th>z</th>      <th>P>|z|</th>  <th>[0.025</th>    <th>0.975]</th>  \n",
       "</tr>\n",
       "<tr>\n",
       "  <th>Intercept</th> <td>   -3.7771</td> <td>    1.379</td> <td>   -2.740</td> <td> 0.006</td> <td>   -6.479</td> <td>   -1.075</td>\n",
       "</tr>\n",
       "<tr>\n",
       "  <th>LI</th>        <td>    2.8973</td> <td>    1.187</td> <td>    2.441</td> <td> 0.015</td> <td>    0.571</td> <td>    5.223</td>\n",
       "</tr>\n",
       "</table>"
      ],
      "text/plain": [
       "<class 'statsmodels.iolib.summary.Summary'>\n",
       "\"\"\"\n",
       "                 Generalized Linear Model Regression Results                  \n",
       "==============================================================================\n",
       "Dep. Variable:                 REMISS   No. Observations:                   27\n",
       "Model:                            GLM   Df Residuals:                       25\n",
       "Model Family:                Binomial   Df Model:                            1\n",
       "Link Function:                  Logit   Scale:                          1.0000\n",
       "Method:                          IRLS   Log-Likelihood:                -13.036\n",
       "Date:                Thu, 09 Jun 2022   Deviance:                       26.073\n",
       "Time:                        11:41:37   Pearson chi2:                     23.9\n",
       "No. Iterations:                     4   Pseudo R-squ. (CS):             0.2646\n",
       "Covariance Type:            nonrobust                                         \n",
       "==============================================================================\n",
       "                 coef    std err          z      P>|z|      [0.025      0.975]\n",
       "------------------------------------------------------------------------------\n",
       "Intercept     -3.7771      1.379     -2.740      0.006      -6.479      -1.075\n",
       "LI             2.8973      1.187      2.441      0.015       0.571       5.223\n",
       "==============================================================================\n",
       "\"\"\""
      ]
     },
     "execution_count": 5,
     "metadata": {},
     "output_type": "execute_result"
    }
   ],
   "source": [
    "# Fit the model. Use GLM\n",
    "model = sm.GLM.from_formula(\"REMISS ~ LI\", family=sm.families.Binomial(), data=df)\n",
    "GLM_model = model.fit()\n",
    "GLM_model.summary()"
   ]
  },
  {
   "cell_type": "markdown",
   "id": "91ed9c86",
   "metadata": {},
   "source": [
    "1. What is the regression output while considering one variable 'LI' between Logit and GLM models? Are they same?\n",
    "\n",
    "* In Logit model, the constant term is indicated as const, while in the GLM it is indicated as intercept.\n",
    "* It took 6 iterations to produce the output for Logit model, while for GLM it took only 4 iterations\n",
    "* Logit model uses MLE for parameter estimation, while GLM uses IRLS\n",
    "\n",
    "Apart from these, the output values are same for both Logit and GLM.\n",
    "\n",
    "2. What is the Log Likelihood Ratio test statistic?"
   ]
  },
  {
   "cell_type": "code",
   "execution_count": 6,
   "id": "76939e87",
   "metadata": {},
   "outputs": [
    {
     "data": {
      "text/plain": [
       "8.3"
      ]
     },
     "execution_count": 6,
     "metadata": {},
     "output_type": "execute_result"
    }
   ],
   "source": [
    "llr_logit = round(((-2) * ((logit_model.llnull)-(logit_model.llf))),2)\n",
    "llr_logit"
   ]
  },
  {
   "cell_type": "code",
   "execution_count": 7,
   "id": "85000f96",
   "metadata": {},
   "outputs": [
    {
     "data": {
      "text/plain": [
       "8.3"
      ]
     },
     "execution_count": 7,
     "metadata": {},
     "output_type": "execute_result"
    }
   ],
   "source": [
    "llr_logit = round((logit_model.llr),2)\n",
    "llr_logit"
   ]
  },
  {
   "cell_type": "code",
   "execution_count": 8,
   "id": "652e1781",
   "metadata": {},
   "outputs": [
    {
     "data": {
      "text/plain": [
       "8.3"
      ]
     },
     "execution_count": 8,
     "metadata": {},
     "output_type": "execute_result"
    }
   ],
   "source": [
    "llr_GLM = round(((-2) * ((GLM_model.llnull)-(GLM_model.llf))),2)\n",
    "llr_GLM"
   ]
  }
 ],
 "metadata": {
  "kernelspec": {
   "display_name": "Python 3 (ipykernel)",
   "language": "python",
   "name": "python3"
  },
  "language_info": {
   "codemirror_mode": {
    "name": "ipython",
    "version": 3
   },
   "file_extension": ".py",
   "mimetype": "text/x-python",
   "name": "python",
   "nbconvert_exporter": "python",
   "pygments_lexer": "ipython3",
   "version": "3.7.13"
  }
 },
 "nbformat": 4,
 "nbformat_minor": 5
}
