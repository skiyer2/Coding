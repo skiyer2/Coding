{
 "cells": [
  {
   "cell_type": "markdown",
   "id": "ffac02e4",
   "metadata": {},
   "source": [
    "Generate a prediction with a multinomial logistic regression model using dataset generated from make_classification from sklearn family, Consider 12,500 samples, 10 features and 3 classes."
   ]
  },
  {
   "cell_type": "code",
   "execution_count": 1,
   "id": "b419d0c6",
   "metadata": {},
   "outputs": [],
   "source": [
    "# Import libraries\n",
    "import numpy as np\n",
    "import pandas as pd\n",
    "import statsmodels.api as sm\n",
    "\n",
    "from sklearn.datasets import make_classification"
   ]
  },
  {
   "cell_type": "code",
   "execution_count": 2,
   "id": "e59d4cfa",
   "metadata": {},
   "outputs": [],
   "source": [
    "# Load synthetic data using make_classification\n",
    "\n",
    "X, y = make_classification(n_samples=12500, n_features=10, n_classes=3, n_informative=3, n_redundant=0, random_state=42)"
   ]
  },
  {
   "cell_type": "code",
   "execution_count": 3,
   "id": "3e6681f9",
   "metadata": {},
   "outputs": [
    {
     "data": {
      "text/plain": [
       "array([[ 0.36023877, -1.23625119, -0.9264039 , ...,  0.80600628,\n",
       "        -0.7860695 ,  1.54255115],\n",
       "       [ 0.69536372, -1.44911042,  0.27984321, ...,  3.15827466,\n",
       "        -0.63290907,  0.7738562 ],\n",
       "       [-0.34190186,  1.5779671 ,  0.21658905, ..., -1.10025332,\n",
       "        -0.77895017,  2.34602942],\n",
       "       ...,\n",
       "       [-1.8572541 ,  0.07733143,  0.37332212, ..., -1.18590403,\n",
       "        -1.1561816 ,  0.37983032],\n",
       "       [ 0.58367577,  0.56884014,  0.61548025, ..., -1.32307162,\n",
       "         0.69751078, -0.40435324],\n",
       "       [ 0.70843097,  1.06770197,  0.57842889, ...,  0.15795153,\n",
       "         0.33623293, -2.01490529]])"
      ]
     },
     "execution_count": 3,
     "metadata": {},
     "output_type": "execute_result"
    }
   ],
   "source": [
    "X"
   ]
  },
  {
   "cell_type": "code",
   "execution_count": 4,
   "id": "b7a2eefc",
   "metadata": {},
   "outputs": [
    {
     "data": {
      "text/plain": [
       "array([0, 0, 2, ..., 2, 1, 0])"
      ]
     },
     "execution_count": 4,
     "metadata": {},
     "output_type": "execute_result"
    }
   ],
   "source": [
    "y"
   ]
  },
  {
   "cell_type": "code",
   "execution_count": 5,
   "id": "e3d70323",
   "metadata": {},
   "outputs": [
    {
     "name": "stdout",
     "output_type": "stream",
     "text": [
      "Optimization terminated successfully.\n",
      "         Current function value: 0.826218\n",
      "         Iterations 7\n"
     ]
    }
   ],
   "source": [
    "# Fit the model\n",
    "X = sm.add_constant(X)\n",
    "\n",
    "mlogit_mod = sm.MNLogit(y, X)\n",
    "mlogit_res = mlogit_mod.fit()"
   ]
  },
  {
   "cell_type": "code",
   "execution_count": 6,
   "id": "5bb389cf",
   "metadata": {
    "scrolled": true
   },
   "outputs": [
    {
     "name": "stdout",
     "output_type": "stream",
     "text": [
      "                          MNLogit Regression Results                          \n",
      "==============================================================================\n",
      "Dep. Variable:                      y   No. Observations:                12500\n",
      "Model:                        MNLogit   Df Residuals:                    12478\n",
      "Method:                           MLE   Df Model:                           20\n",
      "Date:                Wed, 22 Jun 2022   Pseudo R-squ.:                  0.2479\n",
      "Time:                        22:18:43   Log-Likelihood:                -10328.\n",
      "converged:                       True   LL-Null:                       -13733.\n",
      "Covariance Type:            nonrobust   LLR p-value:                     0.000\n",
      "==============================================================================\n",
      "       y=1       coef    std err          z      P>|z|      [0.025      0.975]\n",
      "------------------------------------------------------------------------------\n",
      "const          0.4074      0.027     15.195      0.000       0.355       0.460\n",
      "x1             0.0261      0.024      1.096      0.273      -0.021       0.073\n",
      "x2             0.0106      0.024      0.445      0.656      -0.036       0.057\n",
      "x3            -0.0283      0.024     -1.183      0.237      -0.075       0.019\n",
      "x4          6.514e-05      0.024      0.003      0.998      -0.046       0.047\n",
      "x5             0.0021      0.024      0.090      0.928      -0.044       0.049\n",
      "x6             0.0008      0.024      0.032      0.974      -0.046       0.047\n",
      "x7            -0.0653      0.016     -4.032      0.000      -0.097      -0.034\n",
      "x8            -0.7754      0.022    -35.119      0.000      -0.819      -0.732\n",
      "x9             0.0378      0.024      1.600      0.110      -0.008       0.084\n",
      "x10            0.1177      0.016      7.288      0.000       0.086       0.149\n",
      "------------------------------------------------------------------------------\n",
      "       y=2       coef    std err          z      P>|z|      [0.025      0.975]\n",
      "------------------------------------------------------------------------------\n",
      "const         -0.4264      0.037    -11.642      0.000      -0.498      -0.355\n",
      "x1             0.0149      0.029      0.517      0.605      -0.042       0.072\n",
      "x2             0.0336      0.029      1.153      0.249      -0.024       0.091\n",
      "x3            -0.0316      0.029     -1.089      0.276      -0.088       0.025\n",
      "x4            -0.0180      0.029     -0.624      0.533      -0.075       0.039\n",
      "x5             0.0006      0.029      0.021      0.983      -0.056       0.057\n",
      "x6            -0.0005      0.029     -0.019      0.985      -0.057       0.056\n",
      "x7            -0.7762      0.023    -33.335      0.000      -0.822      -0.731\n",
      "x8            -1.6310      0.029    -55.791      0.000      -1.688      -1.574\n",
      "x9            -0.0095      0.029     -0.332      0.740      -0.066       0.047\n",
      "x10            0.3800      0.022     17.655      0.000       0.338       0.422\n",
      "==============================================================================\n"
     ]
    }
   ],
   "source": [
    "print(mlogit_res.summary())"
   ]
  },
  {
   "cell_type": "code",
   "execution_count": 7,
   "id": "787d07e5",
   "metadata": {},
   "outputs": [
    {
     "data": {
      "text/plain": [
       "array([ 0.40736244, -0.42644571])"
      ]
     },
     "execution_count": 7,
     "metadata": {},
     "output_type": "execute_result"
    }
   ],
   "source": [
    "# Model Intercepts\n",
    "mlogit_res.params[0]"
   ]
  },
  {
   "cell_type": "code",
   "execution_count": 8,
   "id": "c267db7e",
   "metadata": {
    "scrolled": true
   },
   "outputs": [
    {
     "name": "stdout",
     "output_type": "stream",
     "text": [
      "Optimization terminated successfully.\n",
      "         Current function value: 0.826218\n",
      "         Iterations: 26\n",
      "         Function evaluations: 27\n",
      "         Gradient evaluations: 27\n",
      "                          MNLogit Regression Results                          \n",
      "==============================================================================\n",
      "Dep. Variable:                      y   No. Observations:                12500\n",
      "Model:                        MNLogit   Df Residuals:                    12478\n",
      "Method:                           MLE   Df Model:                           20\n",
      "Date:                Wed, 22 Jun 2022   Pseudo R-squ.:                  0.2479\n",
      "Time:                        22:18:43   Log-Likelihood:                -10328.\n",
      "converged:                       True   LL-Null:                       -13733.\n",
      "Covariance Type:            nonrobust   LLR p-value:                     0.000\n",
      "==============================================================================\n",
      "       y=1       coef    std err          z      P>|z|      [0.025      0.975]\n",
      "------------------------------------------------------------------------------\n",
      "const          0.4074      0.027     15.196      0.000       0.355       0.460\n",
      "x1             0.0261      0.024      1.097      0.273      -0.021       0.073\n",
      "x2             0.0106      0.024      0.445      0.657      -0.036       0.057\n",
      "x3            -0.0283      0.024     -1.184      0.237      -0.075       0.019\n",
      "x4          6.167e-05      0.024      0.003      0.998      -0.046       0.047\n",
      "x5             0.0021      0.024      0.090      0.928      -0.044       0.048\n",
      "x6             0.0008      0.024      0.032      0.975      -0.046       0.047\n",
      "x7            -0.0653      0.016     -4.032      0.000      -0.097      -0.034\n",
      "x8            -0.7753      0.022    -35.119      0.000      -0.819      -0.732\n",
      "x9             0.0378      0.024      1.601      0.109      -0.008       0.084\n",
      "x10            0.1176      0.016      7.287      0.000       0.086       0.149\n",
      "------------------------------------------------------------------------------\n",
      "       y=2       coef    std err          z      P>|z|      [0.025      0.975]\n",
      "------------------------------------------------------------------------------\n",
      "const         -0.4264      0.037    -11.642      0.000      -0.498      -0.355\n",
      "x1             0.0149      0.029      0.516      0.606      -0.042       0.072\n",
      "x2             0.0336      0.029      1.153      0.249      -0.023       0.091\n",
      "x3            -0.0316      0.029     -1.089      0.276      -0.089       0.025\n",
      "x4            -0.0180      0.029     -0.624      0.533      -0.075       0.039\n",
      "x5             0.0006      0.029      0.021      0.983      -0.056       0.057\n",
      "x6            -0.0005      0.029     -0.019      0.985      -0.057       0.056\n",
      "x7            -0.7762      0.023    -33.336      0.000      -0.822      -0.731\n",
      "x8            -1.6310      0.029    -55.791      0.000      -1.688      -1.574\n",
      "x9            -0.0095      0.029     -0.333      0.739      -0.066       0.047\n",
      "x10            0.3800      0.022     17.654      0.000       0.338       0.422\n",
      "==============================================================================\n"
     ]
    }
   ],
   "source": [
    "# Use Solvers\n",
    "mlogit_res_bfgs = mlogit_mod.fit(method=\"bfgs\", maxiter=250)\n",
    "print(mlogit_res_bfgs.summary())"
   ]
  },
  {
   "cell_type": "code",
   "execution_count": 9,
   "id": "3c78135b",
   "metadata": {},
   "outputs": [
    {
     "data": {
      "text/plain": [
       "array([ 0.40738729, -0.42644827])"
      ]
     },
     "execution_count": 9,
     "metadata": {},
     "output_type": "execute_result"
    }
   ],
   "source": [
    "# Model Intercepts\n",
    "mlogit_res_bfgs.params[0]"
   ]
  },
  {
   "cell_type": "code",
   "execution_count": 10,
   "id": "9fcd7ad0",
   "metadata": {},
   "outputs": [
    {
     "name": "stdout",
     "output_type": "stream",
     "text": [
      "Optimization terminated successfully.\n",
      "         Current function value: 0.826261\n",
      "         Iterations: 6\n",
      "         Function evaluations: 1367\n",
      "                          MNLogit Regression Results                          \n",
      "==============================================================================\n",
      "Dep. Variable:                      y   No. Observations:                12500\n",
      "Model:                        MNLogit   Df Residuals:                    12478\n",
      "Method:                           MLE   Df Model:                           20\n",
      "Date:                Wed, 22 Jun 2022   Pseudo R-squ.:                  0.2479\n",
      "Time:                        22:18:46   Log-Likelihood:                -10328.\n",
      "converged:                       True   LL-Null:                       -13733.\n",
      "Covariance Type:            nonrobust   LLR p-value:                     0.000\n",
      "==============================================================================\n",
      "       y=1       coef    std err          z      P>|z|      [0.025      0.975]\n",
      "------------------------------------------------------------------------------\n",
      "const          0.4305      0.027     15.960      0.000       0.378       0.483\n",
      "x1             0.0252      0.024      1.055      0.291      -0.022       0.072\n",
      "x2             0.0111      0.024      0.464      0.643      -0.036       0.058\n",
      "x3            -0.0283      0.024     -1.180      0.238      -0.075       0.019\n",
      "x4             0.0006      0.024      0.026      0.979      -0.046       0.047\n",
      "x5             0.0027      0.024      0.113      0.910      -0.044       0.049\n",
      "x6             0.0010      0.024      0.042      0.967      -0.045       0.047\n",
      "x7            -0.0722      0.016     -4.451      0.000      -0.104      -0.040\n",
      "x8            -0.7822      0.022    -35.263      0.000      -0.826      -0.739\n",
      "x9             0.0388      0.024      1.641      0.101      -0.008       0.085\n",
      "x10            0.1169      0.016      7.229      0.000       0.085       0.149\n",
      "------------------------------------------------------------------------------\n",
      "       y=2       coef    std err          z      P>|z|      [0.025      0.975]\n",
      "------------------------------------------------------------------------------\n",
      "const         -0.4000      0.037    -10.922      0.000      -0.472      -0.328\n",
      "x1             0.0137      0.029      0.475      0.635      -0.043       0.070\n",
      "x2             0.0340      0.029      1.166      0.243      -0.023       0.091\n",
      "x3            -0.0315      0.029     -1.084      0.278      -0.089       0.025\n",
      "x4            -0.0178      0.029     -0.614      0.539      -0.074       0.039\n",
      "x5             0.0009      0.029      0.033      0.974      -0.056       0.058\n",
      "x6            -0.0002      0.029     -0.006      0.996      -0.057       0.057\n",
      "x7            -0.7769      0.023    -33.390      0.000      -0.822      -0.731\n",
      "x8            -1.6368      0.029    -55.847      0.000      -1.694      -1.579\n",
      "x9            -0.0086      0.029     -0.299      0.765      -0.065       0.048\n",
      "x10            0.3813      0.022     17.693      0.000       0.339       0.423\n",
      "==============================================================================\n"
     ]
    }
   ],
   "source": [
    "# Use another solver\n",
    "mlogit_res_powell = mlogit_mod.fit(method=\"powell\", maxiter=250)\n",
    "print(mlogit_res_powell.summary())"
   ]
  },
  {
   "cell_type": "code",
   "execution_count": 11,
   "id": "c000e6b2",
   "metadata": {
    "scrolled": true
   },
   "outputs": [
    {
     "data": {
      "text/plain": [
       "array([ 0.43045519, -0.40001026])"
      ]
     },
     "execution_count": 11,
     "metadata": {},
     "output_type": "execute_result"
    }
   ],
   "source": [
    "# Model Intercepts\n",
    "mlogit_res_powell.params[0]"
   ]
  }
 ],
 "metadata": {
  "kernelspec": {
   "display_name": "Python 3 (ipykernel)",
   "language": "python",
   "name": "python3"
  },
  "language_info": {
   "codemirror_mode": {
    "name": "ipython",
    "version": 3
   },
   "file_extension": ".py",
   "mimetype": "text/x-python",
   "name": "python",
   "nbconvert_exporter": "python",
   "pygments_lexer": "ipython3",
   "version": "3.7.13"
  }
 },
 "nbformat": 4,
 "nbformat_minor": 5
}
