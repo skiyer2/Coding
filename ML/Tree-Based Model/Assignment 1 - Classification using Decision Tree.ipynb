{
 "cells": [
  {
   "cell_type": "markdown",
   "id": "c13498cc",
   "metadata": {},
   "source": [
    "Consider the dataset Assignment01_Lasagna_Triers.xlsx\n",
    "File location: https://drive.google.com/drive/folders/1Jl8iDu7nGmrqCECbrLqmVafgwE5PYfiU\n",
    "\n",
    "The file contains details of people in an area who have either tried Lasagna or not in an Italian restaurant chain. \n",
    "Train a decision tree classifier using the given data to predict whether someone has tried Lasagna or not.\n",
    "Use a 80/20 split for train/test. \n",
    "1) What is the train and test accuracy score?<br>\n",
    "2) Which features come out to be important?<br>\n",
    "3) Does grouping 'age' and 'income' into 5 categories each, improve the  prediction score?"
   ]
  },
  {
   "cell_type": "code",
   "execution_count": 1,
   "id": "8dddd2bf",
   "metadata": {},
   "outputs": [],
   "source": [
    "# Import libraries\n",
    "import numpy as np\n",
    "import pandas as pd\n",
    "import matplotlib.pyplot as plt\n",
    "\n",
    "from sklearn.tree import DecisionTreeClassifier, plot_tree\n",
    "from sklearn.model_selection import train_test_split, GridSearchCV, StratifiedKFold\n",
    "\n",
    "pd.set_option('display.max_columns', None)"
   ]
  },
  {
   "cell_type": "code",
   "execution_count": 2,
   "id": "bfd5c8d8",
   "metadata": {},
   "outputs": [
    {
     "data": {
      "text/html": [
       "<div>\n",
       "<style scoped>\n",
       "    .dataframe tbody tr th:only-of-type {\n",
       "        vertical-align: middle;\n",
       "    }\n",
       "\n",
       "    .dataframe tbody tr th {\n",
       "        vertical-align: top;\n",
       "    }\n",
       "\n",
       "    .dataframe thead th {\n",
       "        text-align: right;\n",
       "    }\n",
       "</style>\n",
       "<table border=\"1\" class=\"dataframe\">\n",
       "  <thead>\n",
       "    <tr style=\"text-align: right;\">\n",
       "      <th></th>\n",
       "      <th>Person</th>\n",
       "      <th>Age</th>\n",
       "      <th>Weight</th>\n",
       "      <th>Income</th>\n",
       "      <th>Pay Type</th>\n",
       "      <th>Car Value</th>\n",
       "      <th>CC Debt</th>\n",
       "      <th>Gender</th>\n",
       "      <th>Live Alone</th>\n",
       "      <th>Dwell Type</th>\n",
       "      <th>Mall Trips</th>\n",
       "      <th>Nbhd</th>\n",
       "      <th>Have Tried</th>\n",
       "    </tr>\n",
       "  </thead>\n",
       "  <tbody>\n",
       "    <tr>\n",
       "      <th>0</th>\n",
       "      <td>1</td>\n",
       "      <td>48</td>\n",
       "      <td>175</td>\n",
       "      <td>65500</td>\n",
       "      <td>Hourly</td>\n",
       "      <td>2190</td>\n",
       "      <td>3510</td>\n",
       "      <td>Male</td>\n",
       "      <td>No</td>\n",
       "      <td>Home</td>\n",
       "      <td>7</td>\n",
       "      <td>East</td>\n",
       "      <td>No</td>\n",
       "    </tr>\n",
       "    <tr>\n",
       "      <th>1</th>\n",
       "      <td>2</td>\n",
       "      <td>33</td>\n",
       "      <td>202</td>\n",
       "      <td>29100</td>\n",
       "      <td>Hourly</td>\n",
       "      <td>2110</td>\n",
       "      <td>740</td>\n",
       "      <td>Female</td>\n",
       "      <td>No</td>\n",
       "      <td>Condo</td>\n",
       "      <td>4</td>\n",
       "      <td>East</td>\n",
       "      <td>Yes</td>\n",
       "    </tr>\n",
       "    <tr>\n",
       "      <th>2</th>\n",
       "      <td>3</td>\n",
       "      <td>51</td>\n",
       "      <td>188</td>\n",
       "      <td>32200</td>\n",
       "      <td>Salaried</td>\n",
       "      <td>5140</td>\n",
       "      <td>910</td>\n",
       "      <td>Male</td>\n",
       "      <td>No</td>\n",
       "      <td>Condo</td>\n",
       "      <td>1</td>\n",
       "      <td>East</td>\n",
       "      <td>No</td>\n",
       "    </tr>\n",
       "    <tr>\n",
       "      <th>3</th>\n",
       "      <td>4</td>\n",
       "      <td>56</td>\n",
       "      <td>244</td>\n",
       "      <td>19000</td>\n",
       "      <td>Hourly</td>\n",
       "      <td>700</td>\n",
       "      <td>1620</td>\n",
       "      <td>Female</td>\n",
       "      <td>No</td>\n",
       "      <td>Home</td>\n",
       "      <td>3</td>\n",
       "      <td>West</td>\n",
       "      <td>No</td>\n",
       "    </tr>\n",
       "    <tr>\n",
       "      <th>4</th>\n",
       "      <td>5</td>\n",
       "      <td>28</td>\n",
       "      <td>218</td>\n",
       "      <td>81400</td>\n",
       "      <td>Salaried</td>\n",
       "      <td>26620</td>\n",
       "      <td>600</td>\n",
       "      <td>Male</td>\n",
       "      <td>No</td>\n",
       "      <td>Apt</td>\n",
       "      <td>3</td>\n",
       "      <td>West</td>\n",
       "      <td>Yes</td>\n",
       "    </tr>\n",
       "  </tbody>\n",
       "</table>\n",
       "</div>"
      ],
      "text/plain": [
       "   Person  Age  Weight  Income  Pay Type  Car Value  CC Debt  Gender  \\\n",
       "0       1   48     175   65500    Hourly       2190     3510    Male   \n",
       "1       2   33     202   29100    Hourly       2110      740  Female   \n",
       "2       3   51     188   32200  Salaried       5140      910    Male   \n",
       "3       4   56     244   19000    Hourly        700     1620  Female   \n",
       "4       5   28     218   81400  Salaried      26620      600    Male   \n",
       "\n",
       "  Live Alone Dwell Type  Mall Trips  Nbhd Have Tried  \n",
       "0         No       Home           7  East         No  \n",
       "1         No      Condo           4  East        Yes  \n",
       "2         No      Condo           1  East         No  \n",
       "3         No       Home           3  West         No  \n",
       "4         No        Apt           3  West        Yes  "
      ]
     },
     "execution_count": 2,
     "metadata": {},
     "output_type": "execute_result"
    }
   ],
   "source": [
    "# Load data\n",
    "lasagna_triers = pd.read_excel('C:/Users/Karthik.Iyer/Downloads/AccelerateAI/Tree-Based-Models-main/Assignments/Assignment01_Lasagna_Triers.xlsx', sheet_name='Data')\n",
    "lasagna_triers.head()"
   ]
  },
  {
   "cell_type": "code",
   "execution_count": 3,
   "id": "4dadf18a",
   "metadata": {},
   "outputs": [
    {
     "data": {
      "text/plain": [
       "(856, 13)"
      ]
     },
     "execution_count": 3,
     "metadata": {},
     "output_type": "execute_result"
    }
   ],
   "source": [
    "# Check shape\n",
    "lasagna_triers.shape"
   ]
  },
  {
   "cell_type": "code",
   "execution_count": 4,
   "id": "5b8bd9e2",
   "metadata": {},
   "outputs": [
    {
     "name": "stdout",
     "output_type": "stream",
     "text": [
      "<class 'pandas.core.frame.DataFrame'>\n",
      "RangeIndex: 856 entries, 0 to 855\n",
      "Data columns (total 13 columns):\n",
      " #   Column      Non-Null Count  Dtype \n",
      "---  ------      --------------  ----- \n",
      " 0   Person      856 non-null    int64 \n",
      " 1   Age         856 non-null    int64 \n",
      " 2   Weight      856 non-null    int64 \n",
      " 3   Income      856 non-null    int64 \n",
      " 4   Pay Type    856 non-null    object\n",
      " 5   Car Value   856 non-null    int64 \n",
      " 6   CC Debt     856 non-null    int64 \n",
      " 7   Gender      856 non-null    object\n",
      " 8   Live Alone  856 non-null    object\n",
      " 9   Dwell Type  856 non-null    object\n",
      " 10  Mall Trips  856 non-null    int64 \n",
      " 11  Nbhd        856 non-null    object\n",
      " 12  Have Tried  856 non-null    object\n",
      "dtypes: int64(7), object(6)\n",
      "memory usage: 87.1+ KB\n"
     ]
    }
   ],
   "source": [
    "# Check info\n",
    "lasagna_triers.info()"
   ]
  },
  {
   "cell_type": "code",
   "execution_count": 5,
   "id": "43d8eba0",
   "metadata": {},
   "outputs": [
    {
     "data": {
      "text/html": [
       "<div>\n",
       "<style scoped>\n",
       "    .dataframe tbody tr th:only-of-type {\n",
       "        vertical-align: middle;\n",
       "    }\n",
       "\n",
       "    .dataframe tbody tr th {\n",
       "        vertical-align: top;\n",
       "    }\n",
       "\n",
       "    .dataframe thead th {\n",
       "        text-align: right;\n",
       "    }\n",
       "</style>\n",
       "<table border=\"1\" class=\"dataframe\">\n",
       "  <thead>\n",
       "    <tr style=\"text-align: right;\">\n",
       "      <th></th>\n",
       "      <th>Person</th>\n",
       "      <th>Age</th>\n",
       "      <th>Weight</th>\n",
       "      <th>Income</th>\n",
       "      <th>Car Value</th>\n",
       "      <th>CC Debt</th>\n",
       "      <th>Mall Trips</th>\n",
       "      <th>Have Tried</th>\n",
       "      <th>Pay Type_Hourly</th>\n",
       "      <th>Pay Type_Salaried</th>\n",
       "      <th>Gender_Female</th>\n",
       "      <th>Gender_Male</th>\n",
       "      <th>Live Alone_No</th>\n",
       "      <th>Live Alone_Yes</th>\n",
       "      <th>Dwell Type_Apt</th>\n",
       "      <th>Dwell Type_Condo</th>\n",
       "      <th>Dwell Type_Home</th>\n",
       "      <th>Nbhd_East</th>\n",
       "      <th>Nbhd_South</th>\n",
       "      <th>Nbhd_West</th>\n",
       "    </tr>\n",
       "  </thead>\n",
       "  <tbody>\n",
       "    <tr>\n",
       "      <th>16</th>\n",
       "      <td>17</td>\n",
       "      <td>30</td>\n",
       "      <td>215</td>\n",
       "      <td>161600</td>\n",
       "      <td>9930</td>\n",
       "      <td>3300</td>\n",
       "      <td>5</td>\n",
       "      <td>Yes</td>\n",
       "      <td>0</td>\n",
       "      <td>1</td>\n",
       "      <td>0</td>\n",
       "      <td>1</td>\n",
       "      <td>1</td>\n",
       "      <td>0</td>\n",
       "      <td>0</td>\n",
       "      <td>0</td>\n",
       "      <td>1</td>\n",
       "      <td>0</td>\n",
       "      <td>1</td>\n",
       "      <td>0</td>\n",
       "    </tr>\n",
       "    <tr>\n",
       "      <th>25</th>\n",
       "      <td>26</td>\n",
       "      <td>33</td>\n",
       "      <td>220</td>\n",
       "      <td>10900</td>\n",
       "      <td>320</td>\n",
       "      <td>830</td>\n",
       "      <td>3</td>\n",
       "      <td>No</td>\n",
       "      <td>0</td>\n",
       "      <td>1</td>\n",
       "      <td>0</td>\n",
       "      <td>1</td>\n",
       "      <td>1</td>\n",
       "      <td>0</td>\n",
       "      <td>0</td>\n",
       "      <td>0</td>\n",
       "      <td>1</td>\n",
       "      <td>1</td>\n",
       "      <td>0</td>\n",
       "      <td>0</td>\n",
       "    </tr>\n",
       "    <tr>\n",
       "      <th>524</th>\n",
       "      <td>525</td>\n",
       "      <td>33</td>\n",
       "      <td>185</td>\n",
       "      <td>10000</td>\n",
       "      <td>790</td>\n",
       "      <td>1030</td>\n",
       "      <td>3</td>\n",
       "      <td>No</td>\n",
       "      <td>1</td>\n",
       "      <td>0</td>\n",
       "      <td>1</td>\n",
       "      <td>0</td>\n",
       "      <td>1</td>\n",
       "      <td>0</td>\n",
       "      <td>1</td>\n",
       "      <td>0</td>\n",
       "      <td>0</td>\n",
       "      <td>0</td>\n",
       "      <td>0</td>\n",
       "      <td>1</td>\n",
       "    </tr>\n",
       "    <tr>\n",
       "      <th>133</th>\n",
       "      <td>134</td>\n",
       "      <td>32</td>\n",
       "      <td>163</td>\n",
       "      <td>21800</td>\n",
       "      <td>890</td>\n",
       "      <td>1060</td>\n",
       "      <td>8</td>\n",
       "      <td>Yes</td>\n",
       "      <td>0</td>\n",
       "      <td>1</td>\n",
       "      <td>0</td>\n",
       "      <td>1</td>\n",
       "      <td>0</td>\n",
       "      <td>1</td>\n",
       "      <td>0</td>\n",
       "      <td>1</td>\n",
       "      <td>0</td>\n",
       "      <td>0</td>\n",
       "      <td>0</td>\n",
       "      <td>1</td>\n",
       "    </tr>\n",
       "    <tr>\n",
       "      <th>338</th>\n",
       "      <td>339</td>\n",
       "      <td>49</td>\n",
       "      <td>179</td>\n",
       "      <td>49400</td>\n",
       "      <td>9340</td>\n",
       "      <td>1080</td>\n",
       "      <td>8</td>\n",
       "      <td>Yes</td>\n",
       "      <td>0</td>\n",
       "      <td>1</td>\n",
       "      <td>0</td>\n",
       "      <td>1</td>\n",
       "      <td>1</td>\n",
       "      <td>0</td>\n",
       "      <td>0</td>\n",
       "      <td>0</td>\n",
       "      <td>1</td>\n",
       "      <td>1</td>\n",
       "      <td>0</td>\n",
       "      <td>0</td>\n",
       "    </tr>\n",
       "  </tbody>\n",
       "</table>\n",
       "</div>"
      ],
      "text/plain": [
       "     Person  Age  Weight  Income  Car Value  CC Debt  Mall Trips Have Tried  \\\n",
       "16       17   30     215  161600       9930     3300           5        Yes   \n",
       "25       26   33     220   10900        320      830           3         No   \n",
       "524     525   33     185   10000        790     1030           3         No   \n",
       "133     134   32     163   21800        890     1060           8        Yes   \n",
       "338     339   49     179   49400       9340     1080           8        Yes   \n",
       "\n",
       "     Pay Type_Hourly  Pay Type_Salaried  Gender_Female  Gender_Male  \\\n",
       "16                 0                  1              0            1   \n",
       "25                 0                  1              0            1   \n",
       "524                1                  0              1            0   \n",
       "133                0                  1              0            1   \n",
       "338                0                  1              0            1   \n",
       "\n",
       "     Live Alone_No  Live Alone_Yes  Dwell Type_Apt  Dwell Type_Condo  \\\n",
       "16               1               0               0                 0   \n",
       "25               1               0               0                 0   \n",
       "524              1               0               1                 0   \n",
       "133              0               1               0                 1   \n",
       "338              1               0               0                 0   \n",
       "\n",
       "     Dwell Type_Home  Nbhd_East  Nbhd_South  Nbhd_West  \n",
       "16                 1          0           1          0  \n",
       "25                 1          1           0          0  \n",
       "524                0          0           0          1  \n",
       "133                0          0           0          1  \n",
       "338                1          1           0          0  "
      ]
     },
     "execution_count": 5,
     "metadata": {},
     "output_type": "execute_result"
    }
   ],
   "source": [
    "# Convert categorical variables to dummies\n",
    "cat_var = ['Pay Type', 'Gender', 'Live Alone', 'Dwell Type', 'Nbhd']\n",
    "lasagna_triers_onehot = pd.get_dummies(lasagna_triers, columns=cat_var)\n",
    "lasagna_triers_onehot.sample(5)"
   ]
  },
  {
   "cell_type": "code",
   "execution_count": 6,
   "id": "4537592d",
   "metadata": {},
   "outputs": [
    {
     "data": {
      "text/plain": [
       "Yes    495\n",
       "No     361\n",
       "Name: Have Tried, dtype: int64"
      ]
     },
     "execution_count": 6,
     "metadata": {},
     "output_type": "execute_result"
    }
   ],
   "source": [
    "# Check target\n",
    "lasagna_triers_onehot['Have Tried'].value_counts()"
   ]
  },
  {
   "cell_type": "code",
   "execution_count": 7,
   "id": "fbd6c4cc",
   "metadata": {},
   "outputs": [
    {
     "data": {
      "text/plain": [
       "1    495\n",
       "0    361\n",
       "Name: Have Tried, dtype: int64"
      ]
     },
     "execution_count": 7,
     "metadata": {},
     "output_type": "execute_result"
    }
   ],
   "source": [
    "# Map target to 1/0\n",
    "lasagna_triers_onehot['Have Tried'] = lasagna_triers_onehot['Have Tried'].map({'Yes':1, 'No':0})\n",
    "\n",
    "# Check target again\n",
    "lasagna_triers_onehot['Have Tried'].value_counts()"
   ]
  },
  {
   "cell_type": "code",
   "execution_count": 8,
   "id": "25089e31",
   "metadata": {},
   "outputs": [],
   "source": [
    "# Split data\n",
    "X = lasagna_triers_onehot.drop('Have Tried', axis=1)\n",
    "y = lasagna_triers_onehot['Have Tried']\n",
    "\n",
    "X_train, X_test, y_train, y_test = train_test_split(X, y, train_size=0.8, random_state=42)"
   ]
  },
  {
   "cell_type": "code",
   "execution_count": 9,
   "id": "a1525a11",
   "metadata": {},
   "outputs": [
    {
     "name": "stdout",
     "output_type": "stream",
     "text": [
      "(684, 19)\n",
      "(172, 19)\n",
      "(684,)\n",
      "(172,)\n"
     ]
    }
   ],
   "source": [
    "# Check X_train, X_test, y_train, y_test\n",
    "print(X_train.shape)\n",
    "print(X_test.shape)\n",
    "print(y_train.shape)\n",
    "print(y_test.shape)"
   ]
  },
  {
   "cell_type": "code",
   "execution_count": 10,
   "id": "1c61fe21",
   "metadata": {},
   "outputs": [],
   "source": [
    "# Train the model\n",
    "clf = DecisionTreeClassifier(criterion='gini')\n",
    "clf = clf.fit(X_train, y_train)"
   ]
  },
  {
   "cell_type": "code",
   "execution_count": 11,
   "id": "4e55d845",
   "metadata": {
    "scrolled": true
   },
   "outputs": [
    {
     "data": {
      "text/plain": [
       "[Ellipsis]"
      ]
     },
     "execution_count": 11,
     "metadata": {},
     "output_type": "execute_result"
    },
    {
     "data": {
      "image/png": "[encoded data removed]",
      "text/plain": [
       "<Figure size 720x1080 with 1 Axes>"
      ]
     },
     "metadata": {
      "needs_background": "light"
     },
     "output_type": "display_data"
    }
   ],
   "source": [
    "plt.figure(figsize=(10,15))\n",
    "plot_tree(clf)\n",
    "[...]"
   ]
  },
  {
   "cell_type": "code",
   "execution_count": 12,
   "id": "4f1d776a",
   "metadata": {},
   "outputs": [
    {
     "data": {
      "text/html": [
       "<div>\n",
       "<style scoped>\n",
       "    .dataframe tbody tr th:only-of-type {\n",
       "        vertical-align: middle;\n",
       "    }\n",
       "\n",
       "    .dataframe tbody tr th {\n",
       "        vertical-align: top;\n",
       "    }\n",
       "\n",
       "    .dataframe thead th {\n",
       "        text-align: right;\n",
       "    }\n",
       "</style>\n",
       "<table border=\"1\" class=\"dataframe\">\n",
       "  <thead>\n",
       "    <tr style=\"text-align: right;\">\n",
       "      <th></th>\n",
       "      <th>Method</th>\n",
       "      <th>Accuracy</th>\n",
       "    </tr>\n",
       "  </thead>\n",
       "  <tbody>\n",
       "    <tr>\n",
       "      <th>0</th>\n",
       "      <td>Train Accuracy without cross validation</td>\n",
       "      <td>100.00</td>\n",
       "    </tr>\n",
       "    <tr>\n",
       "      <th>1</th>\n",
       "      <td>Test Accuracy without cross validation</td>\n",
       "      <td>78.49</td>\n",
       "    </tr>\n",
       "  </tbody>\n",
       "</table>\n",
       "</div>"
      ],
      "text/plain": [
       "                                    Method  Accuracy\n",
       "0  Train Accuracy without cross validation    100.00\n",
       "1   Test Accuracy without cross validation     78.49"
      ]
     },
     "execution_count": 12,
     "metadata": {},
     "output_type": "execute_result"
    }
   ],
   "source": [
    "# Lets consolidate the results into dataframe\n",
    "res_1 = pd.DataFrame({'Method' : ['Train Accuracy without cross validation', 'Test Accuracy without cross validation'], \n",
    "                    'Accuracy' : [np.round(clf.score(X_train, y_train)*100,2), np.round(clf.score(X_test, y_test)*100, 2)]})\n",
    "res_1"
   ]
  },
  {
   "cell_type": "markdown",
   "id": "fcf1cde1",
   "metadata": {},
   "source": [
    "Without cross validation, it overfits on training data."
   ]
  },
  {
   "cell_type": "code",
   "execution_count": 13,
   "id": "9018b074",
   "metadata": {},
   "outputs": [
    {
     "name": "stdout",
     "output_type": "stream",
     "text": [
      "Best train score: 80.26\n"
     ]
    }
   ],
   "source": [
    "# Lets try with cross validation\n",
    "clf2 = DecisionTreeClassifier(random_state=42)\n",
    "\n",
    "# Create parameter grid\n",
    "params = {'criterion' : ['gini'], 'max_depth' : [2, 3, 5, 10, 20], 'min_samples_split' : [5, 10, 15, 20, 25, 30, 35, 40]}\n",
    "\n",
    "# Create 5 fold\n",
    "folds = StratifiedKFold(n_splits=5, shuffle=True, random_state=42)\n",
    "\n",
    "# Create GridSearch Object\n",
    "clf2_gs = GridSearchCV(estimator=clf2, cv=folds, param_grid=params)\n",
    "\n",
    "# Fit the model\n",
    "clf2_gs.fit(X_train, y_train)\n",
    "\n",
    "# Print best score\n",
    "print('Best train score:', np.round(clf2_gs.best_score_*100, 2))"
   ]
  },
  {
   "cell_type": "markdown",
   "id": "5d7246b1",
   "metadata": {},
   "source": [
    "Cross validation did help reduce overfitting and the train accuracy is now 80.26%"
   ]
  },
  {
   "cell_type": "code",
   "execution_count": 14,
   "id": "897bf084",
   "metadata": {},
   "outputs": [
    {
     "name": "stdout",
     "output_type": "stream",
     "text": [
      "Test Accuracy after cross validation: 0.78\n"
     ]
    }
   ],
   "source": [
    "# Lets check test accuracy\n",
    "print('Test Accuracy after cross validation:' ,np.round(clf2_gs.score(X_test, y_test),2))"
   ]
  },
  {
   "cell_type": "code",
   "execution_count": 15,
   "id": "32dc2e89",
   "metadata": {},
   "outputs": [
    {
     "data": {
      "text/html": [
       "<div>\n",
       "<style scoped>\n",
       "    .dataframe tbody tr th:only-of-type {\n",
       "        vertical-align: middle;\n",
       "    }\n",
       "\n",
       "    .dataframe tbody tr th {\n",
       "        vertical-align: top;\n",
       "    }\n",
       "\n",
       "    .dataframe thead th {\n",
       "        text-align: right;\n",
       "    }\n",
       "</style>\n",
       "<table border=\"1\" class=\"dataframe\">\n",
       "  <thead>\n",
       "    <tr style=\"text-align: right;\">\n",
       "      <th></th>\n",
       "      <th>Method</th>\n",
       "      <th>Accuracy</th>\n",
       "    </tr>\n",
       "  </thead>\n",
       "  <tbody>\n",
       "    <tr>\n",
       "      <th>0</th>\n",
       "      <td>Train Accuracy without cross validation</td>\n",
       "      <td>100.00</td>\n",
       "    </tr>\n",
       "    <tr>\n",
       "      <th>1</th>\n",
       "      <td>Test Accuracy without cross validation</td>\n",
       "      <td>78.49</td>\n",
       "    </tr>\n",
       "    <tr>\n",
       "      <th>2</th>\n",
       "      <td>Train Accuracy with cross validation</td>\n",
       "      <td>80.26</td>\n",
       "    </tr>\n",
       "    <tr>\n",
       "      <th>3</th>\n",
       "      <td>Test Accuracy with cross validation</td>\n",
       "      <td>77.91</td>\n",
       "    </tr>\n",
       "  </tbody>\n",
       "</table>\n",
       "</div>"
      ],
      "text/plain": [
       "                                    Method  Accuracy\n",
       "0  Train Accuracy without cross validation    100.00\n",
       "1   Test Accuracy without cross validation     78.49\n",
       "2     Train Accuracy with cross validation     80.26\n",
       "3      Test Accuracy with cross validation     77.91"
      ]
     },
     "execution_count": 15,
     "metadata": {},
     "output_type": "execute_result"
    }
   ],
   "source": [
    "# Lets append the results\n",
    "res_2 = pd.DataFrame({'Method' : ['Train Accuracy with cross validation', 'Test Accuracy with cross validation'],\n",
    "                     'Accuracy' : [np.round(clf2_gs.best_score_*100, 2), np.round(clf2_gs.score(X_test, y_test)*100, 2)]})\n",
    "res_1 = res_1.append(res_2, ignore_index=True)\n",
    "res_1"
   ]
  },
  {
   "cell_type": "markdown",
   "id": "f646884d",
   "metadata": {},
   "source": [
    "### 1) What is the train and test accuracy score?"
   ]
  },
  {
   "cell_type": "markdown",
   "id": "ee555285",
   "metadata": {},
   "source": [
    "Test accuracy post cross validation is 77.9% and much closer to train accuracy of 80%"
   ]
  },
  {
   "cell_type": "markdown",
   "id": "4535d276",
   "metadata": {},
   "source": [
    "### 2) Which features come out to be important?"
   ]
  },
  {
   "cell_type": "code",
   "execution_count": 16,
   "id": "12c8ed5a",
   "metadata": {},
   "outputs": [
    {
     "data": {
      "text/plain": [
       "Mall Trips           0.334300\n",
       "Age                  0.111957\n",
       "Nbhd_West            0.092808\n",
       "Income               0.085311\n",
       "CC Debt              0.061384\n",
       "Weight               0.053968\n",
       "Person               0.050097\n",
       "Pay Type_Hourly      0.040074\n",
       "Car Value            0.037596\n",
       "Dwell Type_Condo     0.036685\n",
       "Nbhd_East            0.023737\n",
       "Live Alone_No        0.021922\n",
       "Nbhd_South           0.013380\n",
       "Gender_Male          0.012918\n",
       "Pay Type_Salaried    0.012567\n",
       "Dwell Type_Home      0.005924\n",
       "Dwell Type_Apt       0.004022\n",
       "Live Alone_Yes       0.001350\n",
       "Gender_Female        0.000000\n",
       "dtype: float64"
      ]
     },
     "execution_count": 16,
     "metadata": {},
     "output_type": "execute_result"
    }
   ],
   "source": [
    "# Lets look at feature importance\n",
    "feature_imp = pd.Series(clf.feature_importances_, index=X.columns)\n",
    "feature_imp.sort_values(ascending=False)"
   ]
  },
  {
   "cell_type": "markdown",
   "id": "92579af4",
   "metadata": {},
   "source": [
    "Mall Trips which indicate no. of trips made to Mall came out to be most important feature in deciding whether a person tried Lasagna or not in Italian restaurant, compared to others. It is followed by Age of the person and those living in western neighbourhood."
   ]
  },
  {
   "cell_type": "markdown",
   "id": "628eca02",
   "metadata": {},
   "source": [
    "### 3) Does grouping 'age' and 'income' into 5 categories each, improve the  prediction score?"
   ]
  },
  {
   "cell_type": "code",
   "execution_count": 17,
   "id": "60e38c93",
   "metadata": {},
   "outputs": [
    {
     "data": {
      "text/html": [
       "<div>\n",
       "<style scoped>\n",
       "    .dataframe tbody tr th:only-of-type {\n",
       "        vertical-align: middle;\n",
       "    }\n",
       "\n",
       "    .dataframe tbody tr th {\n",
       "        vertical-align: top;\n",
       "    }\n",
       "\n",
       "    .dataframe thead th {\n",
       "        text-align: right;\n",
       "    }\n",
       "</style>\n",
       "<table border=\"1\" class=\"dataframe\">\n",
       "  <thead>\n",
       "    <tr style=\"text-align: right;\">\n",
       "      <th></th>\n",
       "      <th>Age</th>\n",
       "      <th>Income</th>\n",
       "    </tr>\n",
       "  </thead>\n",
       "  <tbody>\n",
       "    <tr>\n",
       "      <th>count</th>\n",
       "      <td>856.000000</td>\n",
       "      <td>856.000000</td>\n",
       "    </tr>\n",
       "    <tr>\n",
       "      <th>mean</th>\n",
       "      <td>38.782710</td>\n",
       "      <td>45266.939252</td>\n",
       "    </tr>\n",
       "    <tr>\n",
       "      <th>std</th>\n",
       "      <td>9.610763</td>\n",
       "      <td>28631.290583</td>\n",
       "    </tr>\n",
       "    <tr>\n",
       "      <th>min</th>\n",
       "      <td>22.000000</td>\n",
       "      <td>2600.000000</td>\n",
       "    </tr>\n",
       "    <tr>\n",
       "      <th>25%</th>\n",
       "      <td>31.000000</td>\n",
       "      <td>24475.000000</td>\n",
       "    </tr>\n",
       "    <tr>\n",
       "      <th>50%</th>\n",
       "      <td>37.500000</td>\n",
       "      <td>39950.000000</td>\n",
       "    </tr>\n",
       "    <tr>\n",
       "      <th>75%</th>\n",
       "      <td>46.000000</td>\n",
       "      <td>58225.000000</td>\n",
       "    </tr>\n",
       "    <tr>\n",
       "      <th>max</th>\n",
       "      <td>64.000000</td>\n",
       "      <td>190500.000000</td>\n",
       "    </tr>\n",
       "  </tbody>\n",
       "</table>\n",
       "</div>"
      ],
      "text/plain": [
       "              Age         Income\n",
       "count  856.000000     856.000000\n",
       "mean    38.782710   45266.939252\n",
       "std      9.610763   28631.290583\n",
       "min     22.000000    2600.000000\n",
       "25%     31.000000   24475.000000\n",
       "50%     37.500000   39950.000000\n",
       "75%     46.000000   58225.000000\n",
       "max     64.000000  190500.000000"
      ]
     },
     "execution_count": 17,
     "metadata": {},
     "output_type": "execute_result"
    }
   ],
   "source": [
    "# Lets check the distribution for Age and Income\n",
    "lasagna_triers_onehot[['Age','Income']].describe()"
   ]
  },
  {
   "cell_type": "code",
   "execution_count": 18,
   "id": "c029b64c",
   "metadata": {},
   "outputs": [],
   "source": [
    "# Lets group age into 5 categories using binning\n",
    "age_sorted = lasagna_triers_onehot['Age'].sort_values()\n",
    "lasagna_triers_onehot['Age_binned'] = pd.cut(age_sorted, bins=5, labels=[0, 1, 2, 3, 4])"
   ]
  },
  {
   "cell_type": "code",
   "execution_count": 19,
   "id": "e1e21a4c",
   "metadata": {},
   "outputs": [
    {
     "data": {
      "text/plain": [
       "1    248\n",
       "2    226\n",
       "0    204\n",
       "3    123\n",
       "4     55\n",
       "Name: Age_binned, dtype: int64"
      ]
     },
     "execution_count": 19,
     "metadata": {},
     "output_type": "execute_result"
    }
   ],
   "source": [
    "# Check value counts\n",
    "lasagna_triers_onehot['Age_binned'].value_counts()"
   ]
  },
  {
   "cell_type": "code",
   "execution_count": 20,
   "id": "57956bbd",
   "metadata": {},
   "outputs": [
    {
     "name": "stdout",
     "output_type": "stream",
     "text": [
      "Group 0\n",
      "22\n",
      "30\n",
      "\n",
      "Group 1\n",
      "31\n",
      "38\n",
      "\n",
      "Group 2\n",
      "39\n",
      "47\n",
      "\n",
      "Group 3\n",
      "48\n",
      "55\n",
      "\n",
      "Group 4\n",
      "56\n",
      "64\n"
     ]
    }
   ],
   "source": [
    "# Lets look at the range of individual categories\n",
    "print('Group 0')\n",
    "print(lasagna_triers_onehot['Age'][lasagna_triers_onehot['Age_binned'] == 0].min())\n",
    "print(lasagna_triers_onehot['Age'][lasagna_triers_onehot['Age_binned'] == 0].max())\n",
    "print()\n",
    "print('Group 1')\n",
    "print(lasagna_triers_onehot['Age'][lasagna_triers_onehot['Age_binned'] == 1].min())\n",
    "print(lasagna_triers_onehot['Age'][lasagna_triers_onehot['Age_binned'] == 1].max())\n",
    "print()\n",
    "print('Group 2')\n",
    "print(lasagna_triers_onehot['Age'][lasagna_triers_onehot['Age_binned'] == 2].min())\n",
    "print(lasagna_triers_onehot['Age'][lasagna_triers_onehot['Age_binned'] == 2].max())\n",
    "print()\n",
    "print('Group 3')\n",
    "print(lasagna_triers_onehot['Age'][lasagna_triers_onehot['Age_binned'] == 3].min())\n",
    "print(lasagna_triers_onehot['Age'][lasagna_triers_onehot['Age_binned'] == 3].max())\n",
    "print()\n",
    "print('Group 4')\n",
    "print(lasagna_triers_onehot['Age'][lasagna_triers_onehot['Age_binned'] == 4].min())\n",
    "print(lasagna_triers_onehot['Age'][lasagna_triers_onehot['Age_binned'] == 4].max())"
   ]
  },
  {
   "cell_type": "code",
   "execution_count": 21,
   "id": "5a5283ee",
   "metadata": {},
   "outputs": [],
   "source": [
    "# Lets repalce with meaningful labels for the values 0,1,2,3 and 4 as derived above\n",
    "lasagna_triers_onehot['Age_binned'].replace(0, '22-30', inplace=True)\n",
    "lasagna_triers_onehot['Age_binned'].replace(1, '31-38', inplace=True)\n",
    "lasagna_triers_onehot['Age_binned'].replace(2, '39-47', inplace=True)\n",
    "lasagna_triers_onehot['Age_binned'].replace(3, '48-55', inplace=True)\n",
    "lasagna_triers_onehot['Age_binned'].replace(4, '56-64', inplace=True)"
   ]
  },
  {
   "cell_type": "code",
   "execution_count": 22,
   "id": "d7f51243",
   "metadata": {},
   "outputs": [
    {
     "data": {
      "text/plain": [
       "31-38    248\n",
       "39-47    226\n",
       "22-30    204\n",
       "48-55    123\n",
       "56-64     55\n",
       "Name: Age_binned, dtype: int64"
      ]
     },
     "execution_count": 22,
     "metadata": {},
     "output_type": "execute_result"
    }
   ],
   "source": [
    "# Check value counts again\n",
    "lasagna_triers_onehot['Age_binned'].value_counts()"
   ]
  },
  {
   "cell_type": "code",
   "execution_count": 23,
   "id": "574c4b25",
   "metadata": {},
   "outputs": [],
   "source": [
    "# Lets group Income into 5 categories using binning\n",
    "income_sorted = lasagna_triers_onehot['Income'].sort_values()\n",
    "lasagna_triers_onehot['Inc_binned'] = pd.cut(income_sorted, bins=5, labels=[0, 1, 2, 3, 4])"
   ]
  },
  {
   "cell_type": "code",
   "execution_count": 24,
   "id": "9e7a7cca",
   "metadata": {},
   "outputs": [
    {
     "data": {
      "text/plain": [
       "0    432\n",
       "1    328\n",
       "2     66\n",
       "3     27\n",
       "4      3\n",
       "Name: Inc_binned, dtype: int64"
      ]
     },
     "execution_count": 24,
     "metadata": {},
     "output_type": "execute_result"
    }
   ],
   "source": [
    "# Check value counts\n",
    "lasagna_triers_onehot['Inc_binned'].value_counts()"
   ]
  },
  {
   "cell_type": "code",
   "execution_count": 25,
   "id": "db1c21b3",
   "metadata": {},
   "outputs": [
    {
     "name": "stdout",
     "output_type": "stream",
     "text": [
      "Group 0\n",
      "2600\n",
      "40100\n",
      "\n",
      "Group 1\n",
      "40200\n",
      "77600\n",
      "\n",
      "Group 2\n",
      "77900\n",
      "114200\n",
      "\n",
      "Group 3\n",
      "118700\n",
      "152800\n",
      "\n",
      "Group 4\n",
      "155600\n",
      "190500\n"
     ]
    }
   ],
   "source": [
    "# Lets look at the range of individual categories\n",
    "print('Group 0')\n",
    "print(lasagna_triers_onehot['Income'][lasagna_triers_onehot['Inc_binned'] == 0].min())\n",
    "print(lasagna_triers_onehot['Income'][lasagna_triers_onehot['Inc_binned'] == 0].max())\n",
    "print()\n",
    "print('Group 1')\n",
    "print(lasagna_triers_onehot['Income'][lasagna_triers_onehot['Inc_binned'] == 1].min())\n",
    "print(lasagna_triers_onehot['Income'][lasagna_triers_onehot['Inc_binned'] == 1].max())\n",
    "print()\n",
    "print('Group 2')\n",
    "print(lasagna_triers_onehot['Income'][lasagna_triers_onehot['Inc_binned'] == 2].min())\n",
    "print(lasagna_triers_onehot['Income'][lasagna_triers_onehot['Inc_binned'] == 2].max())\n",
    "print()\n",
    "print('Group 3')\n",
    "print(lasagna_triers_onehot['Income'][lasagna_triers_onehot['Inc_binned'] == 3].min())\n",
    "print(lasagna_triers_onehot['Income'][lasagna_triers_onehot['Inc_binned'] == 3].max())\n",
    "print()\n",
    "print('Group 4')\n",
    "print(lasagna_triers_onehot['Income'][lasagna_triers_onehot['Inc_binned'] == 4].min())\n",
    "print(lasagna_triers_onehot['Income'][lasagna_triers_onehot['Inc_binned'] == 4].max())"
   ]
  },
  {
   "cell_type": "code",
   "execution_count": 26,
   "id": "b5acc333",
   "metadata": {},
   "outputs": [],
   "source": [
    "# Lets repalce with meaningful labels for the values 0,1,2,3 and 4 as derived above\n",
    "lasagna_triers_onehot['Inc_binned'].replace(0, '<40k', inplace=True)\n",
    "lasagna_triers_onehot['Inc_binned'].replace(1, '40k-77k', inplace=True)\n",
    "lasagna_triers_onehot['Inc_binned'].replace(2, '77k-114k', inplace=True)\n",
    "lasagna_triers_onehot['Inc_binned'].replace(3, '118k-152k', inplace=True)\n",
    "lasagna_triers_onehot['Inc_binned'].replace(4, '155k-190k', inplace=True)"
   ]
  },
  {
   "cell_type": "code",
   "execution_count": 27,
   "id": "825cae47",
   "metadata": {},
   "outputs": [
    {
     "data": {
      "text/plain": [
       "<40k         432\n",
       "40k-77k      328\n",
       "77k-114k      66\n",
       "118k-152k     27\n",
       "155k-190k      3\n",
       "Name: Inc_binned, dtype: int64"
      ]
     },
     "execution_count": 27,
     "metadata": {},
     "output_type": "execute_result"
    }
   ],
   "source": [
    "# Check value counts\n",
    "lasagna_triers_onehot['Inc_binned'].value_counts()"
   ]
  },
  {
   "cell_type": "code",
   "execution_count": 28,
   "id": "0016063a",
   "metadata": {},
   "outputs": [
    {
     "data": {
      "text/html": [
       "<div>\n",
       "<style scoped>\n",
       "    .dataframe tbody tr th:only-of-type {\n",
       "        vertical-align: middle;\n",
       "    }\n",
       "\n",
       "    .dataframe tbody tr th {\n",
       "        vertical-align: top;\n",
       "    }\n",
       "\n",
       "    .dataframe thead th {\n",
       "        text-align: right;\n",
       "    }\n",
       "</style>\n",
       "<table border=\"1\" class=\"dataframe\">\n",
       "  <thead>\n",
       "    <tr style=\"text-align: right;\">\n",
       "      <th></th>\n",
       "      <th>Person</th>\n",
       "      <th>Age</th>\n",
       "      <th>Weight</th>\n",
       "      <th>Income</th>\n",
       "      <th>Car Value</th>\n",
       "      <th>CC Debt</th>\n",
       "      <th>Mall Trips</th>\n",
       "      <th>Have Tried</th>\n",
       "      <th>Pay Type_Hourly</th>\n",
       "      <th>Pay Type_Salaried</th>\n",
       "      <th>Gender_Female</th>\n",
       "      <th>Gender_Male</th>\n",
       "      <th>Live Alone_No</th>\n",
       "      <th>Live Alone_Yes</th>\n",
       "      <th>Dwell Type_Apt</th>\n",
       "      <th>Dwell Type_Condo</th>\n",
       "      <th>Dwell Type_Home</th>\n",
       "      <th>Nbhd_East</th>\n",
       "      <th>Nbhd_South</th>\n",
       "      <th>Nbhd_West</th>\n",
       "      <th>Age_binned</th>\n",
       "      <th>Inc_binned</th>\n",
       "    </tr>\n",
       "  </thead>\n",
       "  <tbody>\n",
       "    <tr>\n",
       "      <th>185</th>\n",
       "      <td>186</td>\n",
       "      <td>43</td>\n",
       "      <td>205</td>\n",
       "      <td>22600</td>\n",
       "      <td>2000</td>\n",
       "      <td>2280</td>\n",
       "      <td>4</td>\n",
       "      <td>0</td>\n",
       "      <td>0</td>\n",
       "      <td>1</td>\n",
       "      <td>0</td>\n",
       "      <td>1</td>\n",
       "      <td>1</td>\n",
       "      <td>0</td>\n",
       "      <td>0</td>\n",
       "      <td>1</td>\n",
       "      <td>0</td>\n",
       "      <td>0</td>\n",
       "      <td>1</td>\n",
       "      <td>0</td>\n",
       "      <td>39-47</td>\n",
       "      <td>&lt;40k</td>\n",
       "    </tr>\n",
       "    <tr>\n",
       "      <th>265</th>\n",
       "      <td>266</td>\n",
       "      <td>40</td>\n",
       "      <td>189</td>\n",
       "      <td>107700</td>\n",
       "      <td>7160</td>\n",
       "      <td>1260</td>\n",
       "      <td>3</td>\n",
       "      <td>1</td>\n",
       "      <td>0</td>\n",
       "      <td>1</td>\n",
       "      <td>1</td>\n",
       "      <td>0</td>\n",
       "      <td>0</td>\n",
       "      <td>1</td>\n",
       "      <td>1</td>\n",
       "      <td>0</td>\n",
       "      <td>0</td>\n",
       "      <td>0</td>\n",
       "      <td>1</td>\n",
       "      <td>0</td>\n",
       "      <td>39-47</td>\n",
       "      <td>77k-114k</td>\n",
       "    </tr>\n",
       "    <tr>\n",
       "      <th>845</th>\n",
       "      <td>846</td>\n",
       "      <td>47</td>\n",
       "      <td>184</td>\n",
       "      <td>41200</td>\n",
       "      <td>10730</td>\n",
       "      <td>2170</td>\n",
       "      <td>9</td>\n",
       "      <td>1</td>\n",
       "      <td>0</td>\n",
       "      <td>1</td>\n",
       "      <td>1</td>\n",
       "      <td>0</td>\n",
       "      <td>0</td>\n",
       "      <td>1</td>\n",
       "      <td>0</td>\n",
       "      <td>0</td>\n",
       "      <td>1</td>\n",
       "      <td>1</td>\n",
       "      <td>0</td>\n",
       "      <td>0</td>\n",
       "      <td>39-47</td>\n",
       "      <td>40k-77k</td>\n",
       "    </tr>\n",
       "    <tr>\n",
       "      <th>420</th>\n",
       "      <td>421</td>\n",
       "      <td>36</td>\n",
       "      <td>181</td>\n",
       "      <td>21200</td>\n",
       "      <td>5820</td>\n",
       "      <td>830</td>\n",
       "      <td>3</td>\n",
       "      <td>0</td>\n",
       "      <td>0</td>\n",
       "      <td>1</td>\n",
       "      <td>0</td>\n",
       "      <td>1</td>\n",
       "      <td>1</td>\n",
       "      <td>0</td>\n",
       "      <td>0</td>\n",
       "      <td>1</td>\n",
       "      <td>0</td>\n",
       "      <td>1</td>\n",
       "      <td>0</td>\n",
       "      <td>0</td>\n",
       "      <td>31-38</td>\n",
       "      <td>&lt;40k</td>\n",
       "    </tr>\n",
       "    <tr>\n",
       "      <th>667</th>\n",
       "      <td>668</td>\n",
       "      <td>39</td>\n",
       "      <td>190</td>\n",
       "      <td>40000</td>\n",
       "      <td>6620</td>\n",
       "      <td>90</td>\n",
       "      <td>3</td>\n",
       "      <td>0</td>\n",
       "      <td>0</td>\n",
       "      <td>1</td>\n",
       "      <td>1</td>\n",
       "      <td>0</td>\n",
       "      <td>1</td>\n",
       "      <td>0</td>\n",
       "      <td>0</td>\n",
       "      <td>0</td>\n",
       "      <td>1</td>\n",
       "      <td>1</td>\n",
       "      <td>0</td>\n",
       "      <td>0</td>\n",
       "      <td>39-47</td>\n",
       "      <td>&lt;40k</td>\n",
       "    </tr>\n",
       "  </tbody>\n",
       "</table>\n",
       "</div>"
      ],
      "text/plain": [
       "     Person  Age  Weight  Income  Car Value  CC Debt  Mall Trips  Have Tried  \\\n",
       "185     186   43     205   22600       2000     2280           4           0   \n",
       "265     266   40     189  107700       7160     1260           3           1   \n",
       "845     846   47     184   41200      10730     2170           9           1   \n",
       "420     421   36     181   21200       5820      830           3           0   \n",
       "667     668   39     190   40000       6620       90           3           0   \n",
       "\n",
       "     Pay Type_Hourly  Pay Type_Salaried  Gender_Female  Gender_Male  \\\n",
       "185                0                  1              0            1   \n",
       "265                0                  1              1            0   \n",
       "845                0                  1              1            0   \n",
       "420                0                  1              0            1   \n",
       "667                0                  1              1            0   \n",
       "\n",
       "     Live Alone_No  Live Alone_Yes  Dwell Type_Apt  Dwell Type_Condo  \\\n",
       "185              1               0               0                 1   \n",
       "265              0               1               1                 0   \n",
       "845              0               1               0                 0   \n",
       "420              1               0               0                 1   \n",
       "667              1               0               0                 0   \n",
       "\n",
       "     Dwell Type_Home  Nbhd_East  Nbhd_South  Nbhd_West Age_binned Inc_binned  \n",
       "185                0          0           1          0      39-47       <40k  \n",
       "265                0          0           1          0      39-47   77k-114k  \n",
       "845                1          1           0          0      39-47    40k-77k  \n",
       "420                0          1           0          0      31-38       <40k  \n",
       "667                1          1           0          0      39-47       <40k  "
      ]
     },
     "execution_count": 28,
     "metadata": {},
     "output_type": "execute_result"
    }
   ],
   "source": [
    "# Check data\n",
    "lasagna_triers_onehot.sample(5)"
   ]
  },
  {
   "cell_type": "code",
   "execution_count": 29,
   "id": "ac7f17cc",
   "metadata": {},
   "outputs": [
    {
     "data": {
      "text/plain": [
       "Person               0\n",
       "Age                  0\n",
       "Weight               0\n",
       "Income               0\n",
       "Car Value            0\n",
       "CC Debt              0\n",
       "Mall Trips           0\n",
       "Have Tried           0\n",
       "Pay Type_Hourly      0\n",
       "Pay Type_Salaried    0\n",
       "Gender_Female        0\n",
       "Gender_Male          0\n",
       "Live Alone_No        0\n",
       "Live Alone_Yes       0\n",
       "Dwell Type_Apt       0\n",
       "Dwell Type_Condo     0\n",
       "Dwell Type_Home      0\n",
       "Nbhd_East            0\n",
       "Nbhd_South           0\n",
       "Nbhd_West            0\n",
       "Age_binned           0\n",
       "Inc_binned           0\n",
       "dtype: int64"
      ]
     },
     "execution_count": 29,
     "metadata": {},
     "output_type": "execute_result"
    }
   ],
   "source": [
    "# Lets check if there are any missing values\n",
    "lasagna_triers_onehot.isnull().sum()"
   ]
  },
  {
   "cell_type": "code",
   "execution_count": 30,
   "id": "7f88e57a",
   "metadata": {},
   "outputs": [],
   "source": [
    "# Drop Age and Income since we have created bins\n",
    "lasagna_triers_onehot.drop(['Age','Income'], axis=1, inplace=True)"
   ]
  },
  {
   "cell_type": "code",
   "execution_count": 31,
   "id": "7db2aab2",
   "metadata": {},
   "outputs": [
    {
     "data": {
      "text/html": [
       "<div>\n",
       "<style scoped>\n",
       "    .dataframe tbody tr th:only-of-type {\n",
       "        vertical-align: middle;\n",
       "    }\n",
       "\n",
       "    .dataframe tbody tr th {\n",
       "        vertical-align: top;\n",
       "    }\n",
       "\n",
       "    .dataframe thead th {\n",
       "        text-align: right;\n",
       "    }\n",
       "</style>\n",
       "<table border=\"1\" class=\"dataframe\">\n",
       "  <thead>\n",
       "    <tr style=\"text-align: right;\">\n",
       "      <th></th>\n",
       "      <th>Person</th>\n",
       "      <th>Weight</th>\n",
       "      <th>Car Value</th>\n",
       "      <th>CC Debt</th>\n",
       "      <th>Mall Trips</th>\n",
       "      <th>Have Tried</th>\n",
       "      <th>Pay Type_Hourly</th>\n",
       "      <th>Pay Type_Salaried</th>\n",
       "      <th>Gender_Female</th>\n",
       "      <th>Gender_Male</th>\n",
       "      <th>Live Alone_No</th>\n",
       "      <th>Live Alone_Yes</th>\n",
       "      <th>Dwell Type_Apt</th>\n",
       "      <th>Dwell Type_Condo</th>\n",
       "      <th>Dwell Type_Home</th>\n",
       "      <th>Nbhd_East</th>\n",
       "      <th>Nbhd_South</th>\n",
       "      <th>Nbhd_West</th>\n",
       "      <th>Age_binned_22-30</th>\n",
       "      <th>Age_binned_31-38</th>\n",
       "      <th>Age_binned_39-47</th>\n",
       "      <th>Age_binned_48-55</th>\n",
       "      <th>Age_binned_56-64</th>\n",
       "      <th>Inc_binned_&lt;40k</th>\n",
       "      <th>Inc_binned_40k-77k</th>\n",
       "      <th>Inc_binned_77k-114k</th>\n",
       "      <th>Inc_binned_118k-152k</th>\n",
       "      <th>Inc_binned_155k-190k</th>\n",
       "    </tr>\n",
       "  </thead>\n",
       "  <tbody>\n",
       "    <tr>\n",
       "      <th>715</th>\n",
       "      <td>716</td>\n",
       "      <td>192</td>\n",
       "      <td>7440</td>\n",
       "      <td>470</td>\n",
       "      <td>5</td>\n",
       "      <td>1</td>\n",
       "      <td>0</td>\n",
       "      <td>1</td>\n",
       "      <td>0</td>\n",
       "      <td>1</td>\n",
       "      <td>1</td>\n",
       "      <td>0</td>\n",
       "      <td>0</td>\n",
       "      <td>1</td>\n",
       "      <td>0</td>\n",
       "      <td>0</td>\n",
       "      <td>0</td>\n",
       "      <td>1</td>\n",
       "      <td>1</td>\n",
       "      <td>0</td>\n",
       "      <td>0</td>\n",
       "      <td>0</td>\n",
       "      <td>0</td>\n",
       "      <td>0</td>\n",
       "      <td>1</td>\n",
       "      <td>0</td>\n",
       "      <td>0</td>\n",
       "      <td>0</td>\n",
       "    </tr>\n",
       "    <tr>\n",
       "      <th>243</th>\n",
       "      <td>244</td>\n",
       "      <td>187</td>\n",
       "      <td>9070</td>\n",
       "      <td>2510</td>\n",
       "      <td>9</td>\n",
       "      <td>1</td>\n",
       "      <td>0</td>\n",
       "      <td>1</td>\n",
       "      <td>0</td>\n",
       "      <td>1</td>\n",
       "      <td>1</td>\n",
       "      <td>0</td>\n",
       "      <td>0</td>\n",
       "      <td>0</td>\n",
       "      <td>1</td>\n",
       "      <td>0</td>\n",
       "      <td>0</td>\n",
       "      <td>1</td>\n",
       "      <td>1</td>\n",
       "      <td>0</td>\n",
       "      <td>0</td>\n",
       "      <td>0</td>\n",
       "      <td>0</td>\n",
       "      <td>1</td>\n",
       "      <td>0</td>\n",
       "      <td>0</td>\n",
       "      <td>0</td>\n",
       "      <td>0</td>\n",
       "    </tr>\n",
       "    <tr>\n",
       "      <th>591</th>\n",
       "      <td>592</td>\n",
       "      <td>213</td>\n",
       "      <td>4020</td>\n",
       "      <td>3120</td>\n",
       "      <td>9</td>\n",
       "      <td>1</td>\n",
       "      <td>0</td>\n",
       "      <td>1</td>\n",
       "      <td>0</td>\n",
       "      <td>1</td>\n",
       "      <td>1</td>\n",
       "      <td>0</td>\n",
       "      <td>0</td>\n",
       "      <td>0</td>\n",
       "      <td>1</td>\n",
       "      <td>0</td>\n",
       "      <td>1</td>\n",
       "      <td>0</td>\n",
       "      <td>1</td>\n",
       "      <td>0</td>\n",
       "      <td>0</td>\n",
       "      <td>0</td>\n",
       "      <td>0</td>\n",
       "      <td>0</td>\n",
       "      <td>1</td>\n",
       "      <td>0</td>\n",
       "      <td>0</td>\n",
       "      <td>0</td>\n",
       "    </tr>\n",
       "    <tr>\n",
       "      <th>402</th>\n",
       "      <td>403</td>\n",
       "      <td>188</td>\n",
       "      <td>3820</td>\n",
       "      <td>580</td>\n",
       "      <td>1</td>\n",
       "      <td>0</td>\n",
       "      <td>1</td>\n",
       "      <td>0</td>\n",
       "      <td>1</td>\n",
       "      <td>0</td>\n",
       "      <td>1</td>\n",
       "      <td>0</td>\n",
       "      <td>1</td>\n",
       "      <td>0</td>\n",
       "      <td>0</td>\n",
       "      <td>0</td>\n",
       "      <td>0</td>\n",
       "      <td>1</td>\n",
       "      <td>0</td>\n",
       "      <td>0</td>\n",
       "      <td>0</td>\n",
       "      <td>1</td>\n",
       "      <td>0</td>\n",
       "      <td>0</td>\n",
       "      <td>1</td>\n",
       "      <td>0</td>\n",
       "      <td>0</td>\n",
       "      <td>0</td>\n",
       "    </tr>\n",
       "    <tr>\n",
       "      <th>614</th>\n",
       "      <td>615</td>\n",
       "      <td>170</td>\n",
       "      <td>2380</td>\n",
       "      <td>2720</td>\n",
       "      <td>9</td>\n",
       "      <td>1</td>\n",
       "      <td>1</td>\n",
       "      <td>0</td>\n",
       "      <td>1</td>\n",
       "      <td>0</td>\n",
       "      <td>1</td>\n",
       "      <td>0</td>\n",
       "      <td>0</td>\n",
       "      <td>0</td>\n",
       "      <td>1</td>\n",
       "      <td>0</td>\n",
       "      <td>0</td>\n",
       "      <td>1</td>\n",
       "      <td>0</td>\n",
       "      <td>0</td>\n",
       "      <td>1</td>\n",
       "      <td>0</td>\n",
       "      <td>0</td>\n",
       "      <td>1</td>\n",
       "      <td>0</td>\n",
       "      <td>0</td>\n",
       "      <td>0</td>\n",
       "      <td>0</td>\n",
       "    </tr>\n",
       "  </tbody>\n",
       "</table>\n",
       "</div>"
      ],
      "text/plain": [
       "     Person  Weight  Car Value  CC Debt  Mall Trips  Have Tried  \\\n",
       "715     716     192       7440      470           5           1   \n",
       "243     244     187       9070     2510           9           1   \n",
       "591     592     213       4020     3120           9           1   \n",
       "402     403     188       3820      580           1           0   \n",
       "614     615     170       2380     2720           9           1   \n",
       "\n",
       "     Pay Type_Hourly  Pay Type_Salaried  Gender_Female  Gender_Male  \\\n",
       "715                0                  1              0            1   \n",
       "243                0                  1              0            1   \n",
       "591                0                  1              0            1   \n",
       "402                1                  0              1            0   \n",
       "614                1                  0              1            0   \n",
       "\n",
       "     Live Alone_No  Live Alone_Yes  Dwell Type_Apt  Dwell Type_Condo  \\\n",
       "715              1               0               0                 1   \n",
       "243              1               0               0                 0   \n",
       "591              1               0               0                 0   \n",
       "402              1               0               1                 0   \n",
       "614              1               0               0                 0   \n",
       "\n",
       "     Dwell Type_Home  Nbhd_East  Nbhd_South  Nbhd_West  Age_binned_22-30  \\\n",
       "715                0          0           0          1                 1   \n",
       "243                1          0           0          1                 1   \n",
       "591                1          0           1          0                 1   \n",
       "402                0          0           0          1                 0   \n",
       "614                1          0           0          1                 0   \n",
       "\n",
       "     Age_binned_31-38  Age_binned_39-47  Age_binned_48-55  Age_binned_56-64  \\\n",
       "715                 0                 0                 0                 0   \n",
       "243                 0                 0                 0                 0   \n",
       "591                 0                 0                 0                 0   \n",
       "402                 0                 0                 1                 0   \n",
       "614                 0                 1                 0                 0   \n",
       "\n",
       "     Inc_binned_<40k  Inc_binned_40k-77k  Inc_binned_77k-114k  \\\n",
       "715                0                   1                    0   \n",
       "243                1                   0                    0   \n",
       "591                0                   1                    0   \n",
       "402                0                   1                    0   \n",
       "614                1                   0                    0   \n",
       "\n",
       "     Inc_binned_118k-152k  Inc_binned_155k-190k  \n",
       "715                     0                     0  \n",
       "243                     0                     0  \n",
       "591                     0                     0  \n",
       "402                     0                     0  \n",
       "614                     0                     0  "
      ]
     },
     "execution_count": 31,
     "metadata": {},
     "output_type": "execute_result"
    }
   ],
   "source": [
    "# Create dummies for Age_binned, Inc_binned\n",
    "bin_var = ['Age_binned', 'Inc_binned']\n",
    "lasagna_triers_onehot = pd.get_dummies(lasagna_triers_onehot, columns=bin_var)\n",
    "lasagna_triers_onehot.sample(5)"
   ]
  },
  {
   "cell_type": "code",
   "execution_count": 32,
   "id": "3e024e32",
   "metadata": {},
   "outputs": [],
   "source": [
    "# Lets split the data\n",
    "X = lasagna_triers_onehot.drop('Have Tried', axis=1)\n",
    "y = lasagna_triers_onehot['Have Tried']\n",
    "\n",
    "X_train, X_test, y_train, y_test = train_test_split(X, y, train_size=0.8, random_state=100)"
   ]
  },
  {
   "cell_type": "code",
   "execution_count": 33,
   "id": "be921460",
   "metadata": {},
   "outputs": [
    {
     "name": "stdout",
     "output_type": "stream",
     "text": [
      "(684, 27)\n",
      "(684,)\n",
      "(172, 27)\n",
      "(172,)\n"
     ]
    }
   ],
   "source": [
    "# Check shape\n",
    "print(X_train.shape)\n",
    "print(y_train.shape)\n",
    "print(X_test.shape)\n",
    "print(y_test.shape)"
   ]
  },
  {
   "cell_type": "code",
   "execution_count": 34,
   "id": "1fc9a487",
   "metadata": {},
   "outputs": [
    {
     "name": "stdout",
     "output_type": "stream",
     "text": [
      "Best Train Score after binning: 80.12\n"
     ]
    }
   ],
   "source": [
    "# Use cross validation\n",
    "clf3 = DecisionTreeClassifier(random_state=100)\n",
    "\n",
    "# Paramter grid\n",
    "params = {'criterion' : ['gini'], 'max_depth' : [2, 3, 5, 10, 20], 'min_samples_split' : [5, 10, 15, 20, 25, 30, 35, 40]}\n",
    "\n",
    "# Create 5 folds\n",
    "folds = StratifiedKFold(n_splits=5, shuffle=True, random_state=100)\n",
    "\n",
    "# Create GridSearch object\n",
    "clf3_gs = GridSearchCV(estimator=clf3, cv=folds, param_grid=params)\n",
    "\n",
    "# Fit the model\n",
    "clf3_gs.fit(X_train, y_train)\n",
    "\n",
    "# print the best score\n",
    "print('Best Train Score after binning:', np.round(clf3_gs.best_score_*100, 2))"
   ]
  },
  {
   "cell_type": "markdown",
   "id": "7a63bc87",
   "metadata": {},
   "source": [
    "There is no significant improvement in Train accuracy. It is 80.12% after binning, and before binning it was 80.26% "
   ]
  },
  {
   "cell_type": "code",
   "execution_count": 35,
   "id": "fd0aa27f",
   "metadata": {},
   "outputs": [
    {
     "name": "stdout",
     "output_type": "stream",
     "text": [
      "Test score after binning 78.49\n"
     ]
    }
   ],
   "source": [
    "# Lets check on test data\n",
    "print('Test score after binning', np.round(clf3_gs.score(X_test, y_test)*100, 2))"
   ]
  },
  {
   "cell_type": "markdown",
   "id": "1da0e92c",
   "metadata": {},
   "source": [
    "Test Accuracy has dropped a little to 78.49%, but still closer to Train Accuracy."
   ]
  },
  {
   "cell_type": "code",
   "execution_count": 36,
   "id": "9218d760",
   "metadata": {},
   "outputs": [
    {
     "data": {
      "text/html": [
       "<div>\n",
       "<style scoped>\n",
       "    .dataframe tbody tr th:only-of-type {\n",
       "        vertical-align: middle;\n",
       "    }\n",
       "\n",
       "    .dataframe tbody tr th {\n",
       "        vertical-align: top;\n",
       "    }\n",
       "\n",
       "    .dataframe thead th {\n",
       "        text-align: right;\n",
       "    }\n",
       "</style>\n",
       "<table border=\"1\" class=\"dataframe\">\n",
       "  <thead>\n",
       "    <tr style=\"text-align: right;\">\n",
       "      <th></th>\n",
       "      <th>Method</th>\n",
       "      <th>Accuracy</th>\n",
       "    </tr>\n",
       "  </thead>\n",
       "  <tbody>\n",
       "    <tr>\n",
       "      <th>0</th>\n",
       "      <td>Train Accuracy without cross validation</td>\n",
       "      <td>100.00</td>\n",
       "    </tr>\n",
       "    <tr>\n",
       "      <th>1</th>\n",
       "      <td>Test Accuracy without cross validation</td>\n",
       "      <td>78.49</td>\n",
       "    </tr>\n",
       "    <tr>\n",
       "      <th>2</th>\n",
       "      <td>Train Accuracy with cross validation</td>\n",
       "      <td>80.26</td>\n",
       "    </tr>\n",
       "    <tr>\n",
       "      <th>3</th>\n",
       "      <td>Test Accuracy with cross validation</td>\n",
       "      <td>77.91</td>\n",
       "    </tr>\n",
       "    <tr>\n",
       "      <th>4</th>\n",
       "      <td>Train Accuracy with cross validation and binning</td>\n",
       "      <td>80.12</td>\n",
       "    </tr>\n",
       "    <tr>\n",
       "      <th>5</th>\n",
       "      <td>Test Accuracy with cross validation and binning</td>\n",
       "      <td>78.49</td>\n",
       "    </tr>\n",
       "  </tbody>\n",
       "</table>\n",
       "</div>"
      ],
      "text/plain": [
       "                                             Method  Accuracy\n",
       "0           Train Accuracy without cross validation    100.00\n",
       "1            Test Accuracy without cross validation     78.49\n",
       "2              Train Accuracy with cross validation     80.26\n",
       "3               Test Accuracy with cross validation     77.91\n",
       "4  Train Accuracy with cross validation and binning     80.12\n",
       "5   Test Accuracy with cross validation and binning     78.49"
      ]
     },
     "execution_count": 36,
     "metadata": {},
     "output_type": "execute_result"
    }
   ],
   "source": [
    "# Lets append the results\n",
    "res_3 = pd.DataFrame({'Method' : ['Train Accuracy with cross validation and binning', 'Test Accuracy with cross validation and binning'],\n",
    "                      'Accuracy' : [np.round(clf3_gs.best_score_*100, 2), np.round(clf3_gs.score(X_test, y_test)*100, 2)]})\n",
    "res_1 = res_1.append(res_3, ignore_index=True)\n",
    "res_1"
   ]
  },
  {
   "cell_type": "markdown",
   "id": "0142ebd1",
   "metadata": {},
   "source": [
    "There is no significant improvement in Train and Test accuracies without and with binning. Test accuracy did improve slightly after binning."
   ]
  }
 ],
 "metadata": {
  "kernelspec": {
   "display_name": "Python 3 (ipykernel)",
   "language": "python",
   "name": "python3"
  },
  "language_info": {
   "codemirror_mode": {
    "name": "ipython",
    "version": 3
   },
   "file_extension": ".py",
   "mimetype": "text/x-python",
   "name": "python",
   "nbconvert_exporter": "python",
   "pygments_lexer": "ipython3",
   "version": "3.7.13"
  }
 },
 "nbformat": 4,
 "nbformat_minor": 5
}
