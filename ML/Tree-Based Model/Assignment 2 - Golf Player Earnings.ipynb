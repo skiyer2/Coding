{
 "cells": [
  {
   "cell_type": "markdown",
   "id": "2c6cd3e7",
   "metadata": {},
   "source": [
    "Consider the dataset Assignment02_GolfPlayers_Earnings.xlsx.\n",
    "File location: https://drive.google.com/drive/folders/1Jl8iDu7nGmrqCECbrLqmVafgwE5PYfiU\n",
    "\n",
    "The file contains game performance and annual earning of 200 top players.<br>\n",
    "A) Train a regression tree (CART) using the given data to predict the earning of players. Use a 80/20 split for train/test.\n",
    "   1) What is the train and test rmse value?<br>\n",
    "   2) Which features come out to be important?<br>\n",
    "   \n",
    "B) Train a multiple regression model and compare the test rmse value? Use the exact same split as in case A\n",
    "  1) Does the data exhibit multicollinearity?\n",
    "  \n",
    "C) Train a cubist model using the cubist package. What is the test rmse value? Use the exact same split as in case A\n",
    "\n",
    "Which model give the best performance on test data? Why do you think that is the case?"
   ]
  },
  {
   "cell_type": "code",
   "execution_count": 1,
   "id": "f3fb2750",
   "metadata": {},
   "outputs": [],
   "source": [
    "# Import libraries\n",
    "import numpy as np\n",
    "import pandas as pd\n",
    "import matplotlib.pyplot as plt\n",
    "import seaborn as sns\n",
    "\n",
    "from sklearn.tree import DecisionTreeRegressor, plot_tree, export_text\n",
    "from sklearn.linear_model import LinearRegression\n",
    "from cubist import Cubist\n",
    "from sklearn.model_selection import train_test_split, GridSearchCV\n",
    "from sklearn import metrics\n",
    "\n",
    "\n",
    "import warnings\n",
    "warnings.filterwarnings('ignore')\n",
    "\n",
    "pd.set_option('display.max_columns', None)"
   ]
  },
  {
   "cell_type": "code",
   "execution_count": 2,
   "id": "974918bf",
   "metadata": {},
   "outputs": [
    {
     "data": {
      "text/html": [
       "<div>\n",
       "<style scoped>\n",
       "    .dataframe tbody tr th:only-of-type {\n",
       "        vertical-align: middle;\n",
       "    }\n",
       "\n",
       "    .dataframe tbody tr th {\n",
       "        vertical-align: top;\n",
       "    }\n",
       "\n",
       "    .dataframe thead th {\n",
       "        text-align: right;\n",
       "    }\n",
       "</style>\n",
       "<table border=\"1\" class=\"dataframe\">\n",
       "  <thead>\n",
       "    <tr style=\"text-align: right;\">\n",
       "      <th></th>\n",
       "      <th>Rank</th>\n",
       "      <th>Player</th>\n",
       "      <th>Age</th>\n",
       "      <th>Events</th>\n",
       "      <th>Rounds</th>\n",
       "      <th>Cuts Made</th>\n",
       "      <th>Top 10s</th>\n",
       "      <th>Wins</th>\n",
       "      <th>Earnings</th>\n",
       "      <th>Yards/Drive</th>\n",
       "      <th>Driving Accuracy</th>\n",
       "      <th>Greens in Regulation</th>\n",
       "      <th>Putting Average</th>\n",
       "      <th>Sand Save Pct</th>\n",
       "      <th>Eagles</th>\n",
       "      <th>Birdies</th>\n",
       "      <th>Pars</th>\n",
       "      <th>Bogies</th>\n",
       "    </tr>\n",
       "  </thead>\n",
       "  <tbody>\n",
       "    <tr>\n",
       "      <th>103</th>\n",
       "      <td>104.0</td>\n",
       "      <td>Chris Couch</td>\n",
       "      <td>38.0</td>\n",
       "      <td>21.0</td>\n",
       "      <td>73.0</td>\n",
       "      <td>16.0</td>\n",
       "      <td>3.0</td>\n",
       "      <td>0.0</td>\n",
       "      <td>922495.75</td>\n",
       "      <td>296.8</td>\n",
       "      <td>65.0</td>\n",
       "      <td>65.0</td>\n",
       "      <td>1.749</td>\n",
       "      <td>47.0</td>\n",
       "      <td>10.0</td>\n",
       "      <td>278.0</td>\n",
       "      <td>833.0</td>\n",
       "      <td>177.0</td>\n",
       "    </tr>\n",
       "    <tr>\n",
       "      <th>121</th>\n",
       "      <td>122.0</td>\n",
       "      <td>Bud Cauley</td>\n",
       "      <td>21.0</td>\n",
       "      <td>8.0</td>\n",
       "      <td>30.0</td>\n",
       "      <td>7.0</td>\n",
       "      <td>2.0</td>\n",
       "      <td>0.0</td>\n",
       "      <td>735149.56</td>\n",
       "      <td>292.2</td>\n",
       "      <td>62.9</td>\n",
       "      <td>72.8</td>\n",
       "      <td>NaN</td>\n",
       "      <td>58.6</td>\n",
       "      <td>2.0</td>\n",
       "      <td>112.0</td>\n",
       "      <td>355.0</td>\n",
       "      <td>55.0</td>\n",
       "    </tr>\n",
       "    <tr>\n",
       "      <th>110</th>\n",
       "      <td>111.0</td>\n",
       "      <td>Tom Gillis</td>\n",
       "      <td>43.0</td>\n",
       "      <td>19.0</td>\n",
       "      <td>55.0</td>\n",
       "      <td>9.0</td>\n",
       "      <td>2.0</td>\n",
       "      <td>0.0</td>\n",
       "      <td>814147.00</td>\n",
       "      <td>290.1</td>\n",
       "      <td>64.1</td>\n",
       "      <td>66.4</td>\n",
       "      <td>1.830</td>\n",
       "      <td>57.1</td>\n",
       "      <td>3.0</td>\n",
       "      <td>176.0</td>\n",
       "      <td>646.0</td>\n",
       "      <td>147.0</td>\n",
       "    </tr>\n",
       "    <tr>\n",
       "      <th>178</th>\n",
       "      <td>179.0</td>\n",
       "      <td>Ben Martin</td>\n",
       "      <td>24.0</td>\n",
       "      <td>25.0</td>\n",
       "      <td>74.0</td>\n",
       "      <td>12.0</td>\n",
       "      <td>1.0</td>\n",
       "      <td>0.0</td>\n",
       "      <td>340080.16</td>\n",
       "      <td>289.5</td>\n",
       "      <td>63.4</td>\n",
       "      <td>61.3</td>\n",
       "      <td>1.773</td>\n",
       "      <td>38.7</td>\n",
       "      <td>8.0</td>\n",
       "      <td>267.0</td>\n",
       "      <td>810.0</td>\n",
       "      <td>227.0</td>\n",
       "    </tr>\n",
       "    <tr>\n",
       "      <th>45</th>\n",
       "      <td>46.0</td>\n",
       "      <td>Chris Kirk</td>\n",
       "      <td>26.0</td>\n",
       "      <td>28.0</td>\n",
       "      <td>88.0</td>\n",
       "      <td>15.0</td>\n",
       "      <td>4.0</td>\n",
       "      <td>1.0</td>\n",
       "      <td>1877626.80</td>\n",
       "      <td>295.7</td>\n",
       "      <td>56.5</td>\n",
       "      <td>65.9</td>\n",
       "      <td>1.751</td>\n",
       "      <td>53.4</td>\n",
       "      <td>7.0</td>\n",
       "      <td>330.0</td>\n",
       "      <td>996.0</td>\n",
       "      <td>239.0</td>\n",
       "    </tr>\n",
       "  </tbody>\n",
       "</table>\n",
       "</div>"
      ],
      "text/plain": [
       "      Rank       Player   Age  Events  Rounds  Cuts Made  Top 10s  Wins  \\\n",
       "103  104.0  Chris Couch  38.0    21.0    73.0       16.0      3.0   0.0   \n",
       "121  122.0   Bud Cauley  21.0     8.0    30.0        7.0      2.0   0.0   \n",
       "110  111.0   Tom Gillis  43.0    19.0    55.0        9.0      2.0   0.0   \n",
       "178  179.0   Ben Martin  24.0    25.0    74.0       12.0      1.0   0.0   \n",
       "45    46.0   Chris Kirk  26.0    28.0    88.0       15.0      4.0   1.0   \n",
       "\n",
       "       Earnings  Yards/Drive  Driving Accuracy  Greens in Regulation  \\\n",
       "103   922495.75        296.8              65.0                  65.0   \n",
       "121   735149.56        292.2              62.9                  72.8   \n",
       "110   814147.00        290.1              64.1                  66.4   \n",
       "178   340080.16        289.5              63.4                  61.3   \n",
       "45   1877626.80        295.7              56.5                  65.9   \n",
       "\n",
       "     Putting Average  Sand Save Pct  Eagles  Birdies   Pars  Bogies  \n",
       "103            1.749           47.0    10.0    278.0  833.0   177.0  \n",
       "121              NaN           58.6     2.0    112.0  355.0    55.0  \n",
       "110            1.830           57.1     3.0    176.0  646.0   147.0  \n",
       "178            1.773           38.7     8.0    267.0  810.0   227.0  \n",
       "45             1.751           53.4     7.0    330.0  996.0   239.0  "
      ]
     },
     "execution_count": 2,
     "metadata": {},
     "output_type": "execute_result"
    }
   ],
   "source": [
    "# Load data\n",
    "earnings = pd.read_excel('C:/Users/Karthik.Iyer/Downloads/AccelerateAI/Tree-Based-Models-main/Assignments/Assignment02_GolfPlayer_Earnings.xlsx', sheet_name='2011')\n",
    "earnings.sample(5)"
   ]
  },
  {
   "cell_type": "code",
   "execution_count": 3,
   "id": "5a5000ee",
   "metadata": {},
   "outputs": [
    {
     "name": "stdout",
     "output_type": "stream",
     "text": [
      "<class 'pandas.core.frame.DataFrame'>\n",
      "RangeIndex: 200 entries, 0 to 199\n",
      "Data columns (total 18 columns):\n",
      " #   Column                Non-Null Count  Dtype  \n",
      "---  ------                --------------  -----  \n",
      " 0   Rank                  200 non-null    float64\n",
      " 1   Player                200 non-null    object \n",
      " 2   Age                   188 non-null    float64\n",
      " 3   Events                200 non-null    float64\n",
      " 4   Rounds                200 non-null    float64\n",
      " 5   Cuts Made             200 non-null    float64\n",
      " 6   Top 10s               200 non-null    float64\n",
      " 7   Wins                  200 non-null    float64\n",
      " 8   Earnings              200 non-null    float64\n",
      " 9   Yards/Drive           197 non-null    float64\n",
      " 10  Driving Accuracy      197 non-null    float64\n",
      " 11  Greens in Regulation  197 non-null    float64\n",
      " 12  Putting Average       169 non-null    float64\n",
      " 13  Sand Save Pct         197 non-null    float64\n",
      " 14  Eagles                195 non-null    float64\n",
      " 15  Birdies               195 non-null    float64\n",
      " 16  Pars                  195 non-null    float64\n",
      " 17  Bogies                195 non-null    float64\n",
      "dtypes: float64(17), object(1)\n",
      "memory usage: 28.2+ KB\n"
     ]
    }
   ],
   "source": [
    "# Check info\n",
    "earnings.info()"
   ]
  },
  {
   "cell_type": "code",
   "execution_count": 4,
   "id": "2970e02a",
   "metadata": {},
   "outputs": [
    {
     "data": {
      "text/plain": [
       "Rank                     0.0\n",
       "Player                   0.0\n",
       "Age                      6.0\n",
       "Events                   0.0\n",
       "Rounds                   0.0\n",
       "Cuts Made                0.0\n",
       "Top 10s                  0.0\n",
       "Wins                     0.0\n",
       "Earnings                 0.0\n",
       "Yards/Drive              1.5\n",
       "Driving Accuracy         1.5\n",
       "Greens in Regulation     1.5\n",
       "Putting Average         15.5\n",
       "Sand Save Pct            1.5\n",
       "Eagles                   2.5\n",
       "Birdies                  2.5\n",
       "Pars                     2.5\n",
       "Bogies                   2.5\n",
       "dtype: float64"
      ]
     },
     "execution_count": 4,
     "metadata": {},
     "output_type": "execute_result"
    }
   ],
   "source": [
    "# Percentage of missing values\n",
    "(earnings.isnull().sum()/earnings.shape[0])*100"
   ]
  },
  {
   "cell_type": "code",
   "execution_count": 5,
   "id": "77ab0252",
   "metadata": {},
   "outputs": [
    {
     "data": {
      "image/png": "[encoded data removed]",
      "text/plain": [
       "<Figure size 432x288 with 1 Axes>"
      ]
     },
     "metadata": {
      "needs_background": "light"
     },
     "output_type": "display_data"
    },
    {
     "data": {
      "image/png": "[encoded data removed]",
      "text/plain": [
       "<Figure size 432x288 with 1 Axes>"
      ]
     },
     "metadata": {
      "needs_background": "light"
     },
     "output_type": "display_data"
    },
    {
     "data": {
      "image/png": "[encoded data removed]",
      "text/plain": [
       "<Figure size 432x288 with 1 Axes>"
      ]
     },
     "metadata": {
      "needs_background": "light"
     },
     "output_type": "display_data"
    },
    {
     "data": {
      "image/png": "[encoded data removed]",
      "text/plain": [
       "<Figure size 432x288 with 1 Axes>"
      ]
     },
     "metadata": {
      "needs_background": "light"
     },
     "output_type": "display_data"
    },
    {
     "data": {
      "image/png": "[encoded data removed]",
      "text/plain": [
       "<Figure size 432x288 with 1 Axes>"
      ]
     },
     "metadata": {
      "needs_background": "light"
     },
     "output_type": "display_data"
    },
    {
     "data": {
      "image/png": "[encoded data removed]",
      "text/plain": [
       "<Figure size 432x288 with 1 Axes>"
      ]
     },
     "metadata": {
      "needs_background": "light"
     },
     "output_type": "display_data"
    },
    {
     "data": {
      "image/png": "[encoded data removed]",
      "text/plain": [
       "<Figure size 432x288 with 1 Axes>"
      ]
     },
     "metadata": {
      "needs_background": "light"
     },
     "output_type": "display_data"
    },
    {
     "data": {
      "image/png": "[encoded data removed]",
      "text/plain": [
       "<Figure size 432x288 with 1 Axes>"
      ]
     },
     "metadata": {
      "needs_background": "light"
     },
     "output_type": "display_data"
    },
    {
     "data": {
      "image/png": "[encoded data removed]",
      "text/plain": [
       "<Figure size 432x288 with 1 Axes>"
      ]
     },
     "metadata": {
      "needs_background": "light"
     },
     "output_type": "display_data"
    },
    {
     "data": {
      "image/png": "[encoded data removed]",
      "text/plain": [
       "<Figure size 432x288 with 1 Axes>"
      ]
     },
     "metadata": {
      "needs_background": "light"
     },
     "output_type": "display_data"
    }
   ],
   "source": [
    "# Check distribution for variables which has missing values\n",
    "x_vars = ['Age', 'Yards/Drive', 'Driving Accuracy', 'Greens in Regulation', \n",
    "         'Putting Average', 'Sand Save Pct', 'Eagles', 'Birdies', 'Pars', 'Bogies']\n",
    "\n",
    "for var in x_vars:\n",
    "    sns.distplot(x=earnings[var], axlabel=var)\n",
    "    plt.show()"
   ]
  },
  {
   "cell_type": "markdown",
   "id": "4ba674be",
   "metadata": {},
   "source": [
    "The distribution do not show much skewness for the features analysed above, and we can use MEAN as the imputation technique to impute missing values."
   ]
  },
  {
   "cell_type": "code",
   "execution_count": 6,
   "id": "18495a68",
   "metadata": {},
   "outputs": [],
   "source": [
    "# Impute with MEAN\n",
    "x_vars = ['Age', 'Yards/Drive', 'Driving Accuracy', 'Greens in Regulation', \n",
    "         'Putting Average', 'Sand Save Pct', 'Eagles', 'Birdies', 'Pars', 'Bogies']\n",
    "\n",
    "for var in x_vars:\n",
    "    earnings[var].fillna(round(earnings[var].mean()), inplace=True)"
   ]
  },
  {
   "cell_type": "code",
   "execution_count": 7,
   "id": "bbf10b31",
   "metadata": {},
   "outputs": [
    {
     "data": {
      "text/plain": [
       "Rank                    0\n",
       "Player                  0\n",
       "Age                     0\n",
       "Events                  0\n",
       "Rounds                  0\n",
       "Cuts Made               0\n",
       "Top 10s                 0\n",
       "Wins                    0\n",
       "Earnings                0\n",
       "Yards/Drive             0\n",
       "Driving Accuracy        0\n",
       "Greens in Regulation    0\n",
       "Putting Average         0\n",
       "Sand Save Pct           0\n",
       "Eagles                  0\n",
       "Birdies                 0\n",
       "Pars                    0\n",
       "Bogies                  0\n",
       "dtype: int64"
      ]
     },
     "execution_count": 7,
     "metadata": {},
     "output_type": "execute_result"
    }
   ],
   "source": [
    "# Check missing values again\n",
    "earnings.isnull().sum()"
   ]
  },
  {
   "cell_type": "code",
   "execution_count": 8,
   "id": "fe1260b2",
   "metadata": {},
   "outputs": [],
   "source": [
    "# Drop Rank and Player\n",
    "earnings.drop(['Rank', 'Player'], axis=1, inplace=True)"
   ]
  },
  {
   "cell_type": "code",
   "execution_count": 9,
   "id": "71afa82b",
   "metadata": {},
   "outputs": [],
   "source": [
    "# Split the data\n",
    "X = earnings.drop('Earnings', axis=1)\n",
    "y = earnings['Earnings']\n",
    "\n",
    "X_train, X_test, y_train, y_test = train_test_split(X, y, train_size=0.8, random_state=42)"
   ]
  },
  {
   "cell_type": "code",
   "execution_count": 10,
   "id": "0a07f232",
   "metadata": {},
   "outputs": [
    {
     "name": "stdout",
     "output_type": "stream",
     "text": [
      "(160, 15)\n",
      "(160,)\n",
      "(40, 15)\n",
      "(40,)\n"
     ]
    }
   ],
   "source": [
    "# Check shape\n",
    "print(X_train.shape)\n",
    "print(y_train.shape)\n",
    "print(X_test.shape)\n",
    "print(y_test.shape)"
   ]
  },
  {
   "cell_type": "markdown",
   "id": "9d2088f9",
   "metadata": {},
   "source": [
    "**A) Train a regression tree (CART) using the given data to predict the earning of players. Use a 80/20 split for train/test.**<br>\n",
    "   **1) What is the train and test rmse value?**<br>\n",
    "   **2) Which features come out to be important?**"
   ]
  },
  {
   "cell_type": "code",
   "execution_count": 11,
   "id": "5b9e60ca",
   "metadata": {},
   "outputs": [],
   "source": [
    "# Train Regression Tree\n",
    "clf_tree = DecisionTreeRegressor(random_state=42)\n",
    "\n",
    "# Fit the model\n",
    "clf_tree = clf_tree.fit(X_train, y_train)"
   ]
  },
  {
   "cell_type": "code",
   "execution_count": 12,
   "id": "298132a9",
   "metadata": {},
   "outputs": [
    {
     "data": {
      "text/plain": [
       "17"
      ]
     },
     "execution_count": 12,
     "metadata": {},
     "output_type": "execute_result"
    }
   ],
   "source": [
    "# Tree depth\n",
    "clf_tree.get_depth()"
   ]
  },
  {
   "cell_type": "code",
   "execution_count": 13,
   "id": "39d3df21",
   "metadata": {},
   "outputs": [
    {
     "data": {
      "text/plain": [
       "GridSearchCV(cv=5, estimator=DecisionTreeRegressor(random_state=42), n_jobs=-1,\n",
       "             param_grid={'max_depth': range(1, 11),\n",
       "                         'min_samples_split': range(10, 60, 10)},\n",
       "             scoring='neg_mean_squared_error')"
      ]
     },
     "execution_count": 13,
     "metadata": {},
     "output_type": "execute_result"
    }
   ],
   "source": [
    "# Cross validation\n",
    "params = {'max_depth' : range(1,11), 'min_samples_split' : range(10, 60, 10)}\n",
    "\n",
    "# GridSearch\n",
    "clf_tree_gs = GridSearchCV(estimator=clf_tree, cv=5, param_grid=params, n_jobs=-1, scoring='neg_mean_squared_error')\n",
    "\n",
    "# Fit the model\n",
    "clf_tree_gs.fit(X_train, y_train)"
   ]
  },
  {
   "cell_type": "code",
   "execution_count": 14,
   "id": "45a37f4e",
   "metadata": {},
   "outputs": [
    {
     "name": "stdout",
     "output_type": "stream",
     "text": [
      "{'max_depth': 6, 'min_samples_split': 20}\n",
      "352324577067.28143\n"
     ]
    }
   ],
   "source": [
    "# Print best params and score\n",
    "print(clf_tree_gs.best_params_)\n",
    "print(-clf_tree_gs.best_score_)"
   ]
  },
  {
   "cell_type": "code",
   "execution_count": 15,
   "id": "2e1da2b5",
   "metadata": {},
   "outputs": [],
   "source": [
    "# Lets train the model using the above parameters\n",
    "clf_new = DecisionTreeRegressor(max_depth=6, min_samples_split=20, random_state=42)\n",
    "\n",
    "clf_new = clf_new.fit(X_train, y_train)"
   ]
  },
  {
   "cell_type": "code",
   "execution_count": 16,
   "id": "67cc3844",
   "metadata": {},
   "outputs": [
    {
     "name": "stdout",
     "output_type": "stream",
     "text": [
      "RMSE for Train set: 366791.76\n"
     ]
    }
   ],
   "source": [
    "# Predict on train data\n",
    "y_train_pred = clf_new.predict(X_train)\n",
    "\n",
    "# RMSE\n",
    "print('RMSE for Train set:', np.round(np.sqrt(metrics.mean_squared_error(y_train, y_train_pred)), 2))"
   ]
  },
  {
   "cell_type": "code",
   "execution_count": 17,
   "id": "d8451310",
   "metadata": {},
   "outputs": [
    {
     "name": "stdout",
     "output_type": "stream",
     "text": [
      "RMSE for Test set: 438813.7\n"
     ]
    }
   ],
   "source": [
    "# Predict on test data\n",
    "y_pred = clf_new.predict(X_test)\n",
    "\n",
    "# RMSE\n",
    "print('RMSE for Test set:', np.round(np.sqrt(metrics.mean_squared_error(y_test, y_pred)), 2))"
   ]
  },
  {
   "cell_type": "code",
   "execution_count": 18,
   "id": "b2a8e27a",
   "metadata": {},
   "outputs": [
    {
     "name": "stdout",
     "output_type": "stream",
     "text": [
      "Train r2 score: 90.74\n",
      "Test r2 score: 75.98\n"
     ]
    }
   ],
   "source": [
    "# Check r2 score\n",
    "print('Train r2 score:', np.round(clf_new.score(X_train, y_train)*100, 2))\n",
    "print('Test r2 score:', np.round(clf_new.score(X_test, y_test)*100, 2))"
   ]
  },
  {
   "cell_type": "markdown",
   "id": "150a6c6b",
   "metadata": {},
   "source": [
    "The model is not generalizing so well. May be few more hyperparameters can be checked to see if the score can be improved further."
   ]
  },
  {
   "cell_type": "code",
   "execution_count": 19,
   "id": "20f3a46d",
   "metadata": {},
   "outputs": [
    {
     "data": {
      "text/plain": [
       "Top 10s                 0.790070\n",
       "Wins                    0.155612\n",
       "Events                  0.039444\n",
       "Cuts Made               0.007146\n",
       "Birdies                 0.004268\n",
       "Greens in Regulation    0.003461\n",
       "Age                     0.000000\n",
       "Rounds                  0.000000\n",
       "Yards/Drive             0.000000\n",
       "Driving Accuracy        0.000000\n",
       "Putting Average         0.000000\n",
       "Sand Save Pct           0.000000\n",
       "Eagles                  0.000000\n",
       "Pars                    0.000000\n",
       "Bogies                  0.000000\n",
       "dtype: float64"
      ]
     },
     "execution_count": 19,
     "metadata": {},
     "output_type": "execute_result"
    }
   ],
   "source": [
    "# feature importance\n",
    "feature_imp = pd.Series(clf_new.feature_importances_, index=X.columns)\n",
    "feature_imp.sort_values(ascending=False)"
   ]
  },
  {
   "cell_type": "markdown",
   "id": "f2c955f3",
   "metadata": {},
   "source": [
    "Most important variable is Top 10s (how many times the player made in the Top 10), followed by Wins (No. of Wins)"
   ]
  },
  {
   "cell_type": "markdown",
   "id": "502992c1",
   "metadata": {},
   "source": [
    "RMSE for Train set: 366791.76<br>\n",
    "RMSE for Test set: 438813.7\n",
    "\n",
    "Train r2 score: 90.74<br>\n",
    "Test r2 score: 75.98\n",
    "\n",
    "Most important variable is Top 10s (how many times the player made in the Top 10), followed by Wins (No. of Wins)"
   ]
  },
  {
   "cell_type": "markdown",
   "id": "71c07f17",
   "metadata": {},
   "source": [
    "**B) Train a multiple regression model and compare the test rmse value? Use the exact same split as in case A**<br>\n",
    "  **1) Does the data exhibit multicollinearity?**"
   ]
  },
  {
   "cell_type": "code",
   "execution_count": 20,
   "id": "37d3d05a",
   "metadata": {},
   "outputs": [
    {
     "data": {
      "text/html": [
       "<div>\n",
       "<style scoped>\n",
       "    .dataframe tbody tr th:only-of-type {\n",
       "        vertical-align: middle;\n",
       "    }\n",
       "\n",
       "    .dataframe tbody tr th {\n",
       "        vertical-align: top;\n",
       "    }\n",
       "\n",
       "    .dataframe thead th {\n",
       "        text-align: right;\n",
       "    }\n",
       "</style>\n",
       "<table border=\"1\" class=\"dataframe\">\n",
       "  <thead>\n",
       "    <tr style=\"text-align: right;\">\n",
       "      <th></th>\n",
       "      <th>Age</th>\n",
       "      <th>Events</th>\n",
       "      <th>Rounds</th>\n",
       "      <th>Cuts Made</th>\n",
       "      <th>Top 10s</th>\n",
       "      <th>Wins</th>\n",
       "      <th>Yards/Drive</th>\n",
       "      <th>Driving Accuracy</th>\n",
       "      <th>Greens in Regulation</th>\n",
       "      <th>Putting Average</th>\n",
       "      <th>Sand Save Pct</th>\n",
       "      <th>Eagles</th>\n",
       "      <th>Birdies</th>\n",
       "      <th>Pars</th>\n",
       "      <th>Bogies</th>\n",
       "    </tr>\n",
       "  </thead>\n",
       "  <tbody>\n",
       "    <tr>\n",
       "      <th>Age</th>\n",
       "      <td>1.000000</td>\n",
       "      <td>-0.092227</td>\n",
       "      <td>-0.115329</td>\n",
       "      <td>-0.170545</td>\n",
       "      <td>-0.197392</td>\n",
       "      <td>-0.168706</td>\n",
       "      <td>-0.386911</td>\n",
       "      <td>0.287301</td>\n",
       "      <td>-0.027842</td>\n",
       "      <td>0.056555</td>\n",
       "      <td>0.212182</td>\n",
       "      <td>-0.268317</td>\n",
       "      <td>-0.149442</td>\n",
       "      <td>-0.079152</td>\n",
       "      <td>-0.130272</td>\n",
       "    </tr>\n",
       "    <tr>\n",
       "      <th>Events</th>\n",
       "      <td>-0.092227</td>\n",
       "      <td>1.000000</td>\n",
       "      <td>0.965305</td>\n",
       "      <td>0.747863</td>\n",
       "      <td>0.159832</td>\n",
       "      <td>0.037784</td>\n",
       "      <td>-0.007134</td>\n",
       "      <td>0.047053</td>\n",
       "      <td>-0.111358</td>\n",
       "      <td>-0.785837</td>\n",
       "      <td>-0.140376</td>\n",
       "      <td>0.421469</td>\n",
       "      <td>0.819189</td>\n",
       "      <td>0.878542</td>\n",
       "      <td>0.880135</td>\n",
       "    </tr>\n",
       "    <tr>\n",
       "      <th>Rounds</th>\n",
       "      <td>-0.115329</td>\n",
       "      <td>0.965305</td>\n",
       "      <td>1.000000</td>\n",
       "      <td>0.884361</td>\n",
       "      <td>0.294934</td>\n",
       "      <td>0.118294</td>\n",
       "      <td>0.039943</td>\n",
       "      <td>0.067654</td>\n",
       "      <td>-0.002864</td>\n",
       "      <td>-0.798943</td>\n",
       "      <td>-0.089560</td>\n",
       "      <td>0.453509</td>\n",
       "      <td>0.893354</td>\n",
       "      <td>0.915519</td>\n",
       "      <td>0.872256</td>\n",
       "    </tr>\n",
       "    <tr>\n",
       "      <th>Cuts Made</th>\n",
       "      <td>-0.170545</td>\n",
       "      <td>0.747863</td>\n",
       "      <td>0.884361</td>\n",
       "      <td>1.000000</td>\n",
       "      <td>0.519820</td>\n",
       "      <td>0.253015</td>\n",
       "      <td>0.137341</td>\n",
       "      <td>0.044104</td>\n",
       "      <td>0.208827</td>\n",
       "      <td>-0.710429</td>\n",
       "      <td>0.024753</td>\n",
       "      <td>0.426087</td>\n",
       "      <td>0.858880</td>\n",
       "      <td>0.808854</td>\n",
       "      <td>0.705064</td>\n",
       "    </tr>\n",
       "    <tr>\n",
       "      <th>Top 10s</th>\n",
       "      <td>-0.197392</td>\n",
       "      <td>0.159832</td>\n",
       "      <td>0.294934</td>\n",
       "      <td>0.519820</td>\n",
       "      <td>1.000000</td>\n",
       "      <td>0.497161</td>\n",
       "      <td>0.187754</td>\n",
       "      <td>-0.022554</td>\n",
       "      <td>0.331647</td>\n",
       "      <td>-0.359023</td>\n",
       "      <td>0.218980</td>\n",
       "      <td>0.286383</td>\n",
       "      <td>0.411298</td>\n",
       "      <td>0.257326</td>\n",
       "      <td>0.119865</td>\n",
       "    </tr>\n",
       "    <tr>\n",
       "      <th>Wins</th>\n",
       "      <td>-0.168706</td>\n",
       "      <td>0.037784</td>\n",
       "      <td>0.118294</td>\n",
       "      <td>0.253015</td>\n",
       "      <td>0.497161</td>\n",
       "      <td>1.000000</td>\n",
       "      <td>0.206130</td>\n",
       "      <td>-0.099866</td>\n",
       "      <td>0.218636</td>\n",
       "      <td>-0.211933</td>\n",
       "      <td>-0.005464</td>\n",
       "      <td>0.205560</td>\n",
       "      <td>0.190133</td>\n",
       "      <td>0.080549</td>\n",
       "      <td>0.023282</td>\n",
       "    </tr>\n",
       "    <tr>\n",
       "      <th>Yards/Drive</th>\n",
       "      <td>-0.386911</td>\n",
       "      <td>-0.007134</td>\n",
       "      <td>0.039943</td>\n",
       "      <td>0.137341</td>\n",
       "      <td>0.187754</td>\n",
       "      <td>0.206130</td>\n",
       "      <td>1.000000</td>\n",
       "      <td>-0.665529</td>\n",
       "      <td>0.089791</td>\n",
       "      <td>-0.028782</td>\n",
       "      <td>-0.357841</td>\n",
       "      <td>0.353387</td>\n",
       "      <td>0.032861</td>\n",
       "      <td>-0.112303</td>\n",
       "      <td>-0.001470</td>\n",
       "    </tr>\n",
       "    <tr>\n",
       "      <th>Driving Accuracy</th>\n",
       "      <td>0.287301</td>\n",
       "      <td>0.047053</td>\n",
       "      <td>0.067654</td>\n",
       "      <td>0.044104</td>\n",
       "      <td>-0.022554</td>\n",
       "      <td>-0.099866</td>\n",
       "      <td>-0.665529</td>\n",
       "      <td>1.000000</td>\n",
       "      <td>0.240947</td>\n",
       "      <td>-0.004974</td>\n",
       "      <td>0.155563</td>\n",
       "      <td>-0.127717</td>\n",
       "      <td>0.122039</td>\n",
       "      <td>0.202777</td>\n",
       "      <td>0.056360</td>\n",
       "    </tr>\n",
       "    <tr>\n",
       "      <th>Greens in Regulation</th>\n",
       "      <td>-0.027842</td>\n",
       "      <td>-0.111358</td>\n",
       "      <td>-0.002864</td>\n",
       "      <td>0.208827</td>\n",
       "      <td>0.331647</td>\n",
       "      <td>0.218636</td>\n",
       "      <td>0.089791</td>\n",
       "      <td>0.240947</td>\n",
       "      <td>1.000000</td>\n",
       "      <td>0.132795</td>\n",
       "      <td>0.050154</td>\n",
       "      <td>0.068847</td>\n",
       "      <td>0.136307</td>\n",
       "      <td>0.075310</td>\n",
       "      <td>-0.064012</td>\n",
       "    </tr>\n",
       "    <tr>\n",
       "      <th>Putting Average</th>\n",
       "      <td>0.056555</td>\n",
       "      <td>-0.785837</td>\n",
       "      <td>-0.798943</td>\n",
       "      <td>-0.710429</td>\n",
       "      <td>-0.359023</td>\n",
       "      <td>-0.211933</td>\n",
       "      <td>-0.028782</td>\n",
       "      <td>-0.004974</td>\n",
       "      <td>0.132795</td>\n",
       "      <td>1.000000</td>\n",
       "      <td>0.001922</td>\n",
       "      <td>-0.397233</td>\n",
       "      <td>-0.726926</td>\n",
       "      <td>-0.704747</td>\n",
       "      <td>-0.676123</td>\n",
       "    </tr>\n",
       "    <tr>\n",
       "      <th>Sand Save Pct</th>\n",
       "      <td>0.212182</td>\n",
       "      <td>-0.140376</td>\n",
       "      <td>-0.089560</td>\n",
       "      <td>0.024753</td>\n",
       "      <td>0.218980</td>\n",
       "      <td>-0.005464</td>\n",
       "      <td>-0.357841</td>\n",
       "      <td>0.155563</td>\n",
       "      <td>0.050154</td>\n",
       "      <td>0.001922</td>\n",
       "      <td>1.000000</td>\n",
       "      <td>-0.161969</td>\n",
       "      <td>0.000888</td>\n",
       "      <td>0.004124</td>\n",
       "      <td>-0.153140</td>\n",
       "    </tr>\n",
       "    <tr>\n",
       "      <th>Eagles</th>\n",
       "      <td>-0.268317</td>\n",
       "      <td>0.421469</td>\n",
       "      <td>0.453509</td>\n",
       "      <td>0.426087</td>\n",
       "      <td>0.286383</td>\n",
       "      <td>0.205560</td>\n",
       "      <td>0.353387</td>\n",
       "      <td>-0.127717</td>\n",
       "      <td>0.068847</td>\n",
       "      <td>-0.397233</td>\n",
       "      <td>-0.161969</td>\n",
       "      <td>1.000000</td>\n",
       "      <td>0.521399</td>\n",
       "      <td>0.460111</td>\n",
       "      <td>0.507701</td>\n",
       "    </tr>\n",
       "    <tr>\n",
       "      <th>Birdies</th>\n",
       "      <td>-0.149442</td>\n",
       "      <td>0.819189</td>\n",
       "      <td>0.893354</td>\n",
       "      <td>0.858880</td>\n",
       "      <td>0.411298</td>\n",
       "      <td>0.190133</td>\n",
       "      <td>0.032861</td>\n",
       "      <td>0.122039</td>\n",
       "      <td>0.136307</td>\n",
       "      <td>-0.726926</td>\n",
       "      <td>0.000888</td>\n",
       "      <td>0.521399</td>\n",
       "      <td>1.000000</td>\n",
       "      <td>0.952291</td>\n",
       "      <td>0.899487</td>\n",
       "    </tr>\n",
       "    <tr>\n",
       "      <th>Pars</th>\n",
       "      <td>-0.079152</td>\n",
       "      <td>0.878542</td>\n",
       "      <td>0.915519</td>\n",
       "      <td>0.808854</td>\n",
       "      <td>0.257326</td>\n",
       "      <td>0.080549</td>\n",
       "      <td>-0.112303</td>\n",
       "      <td>0.202777</td>\n",
       "      <td>0.075310</td>\n",
       "      <td>-0.704747</td>\n",
       "      <td>0.004124</td>\n",
       "      <td>0.460111</td>\n",
       "      <td>0.952291</td>\n",
       "      <td>1.000000</td>\n",
       "      <td>0.927239</td>\n",
       "    </tr>\n",
       "    <tr>\n",
       "      <th>Bogies</th>\n",
       "      <td>-0.130272</td>\n",
       "      <td>0.880135</td>\n",
       "      <td>0.872256</td>\n",
       "      <td>0.705064</td>\n",
       "      <td>0.119865</td>\n",
       "      <td>0.023282</td>\n",
       "      <td>-0.001470</td>\n",
       "      <td>0.056360</td>\n",
       "      <td>-0.064012</td>\n",
       "      <td>-0.676123</td>\n",
       "      <td>-0.153140</td>\n",
       "      <td>0.507701</td>\n",
       "      <td>0.899487</td>\n",
       "      <td>0.927239</td>\n",
       "      <td>1.000000</td>\n",
       "    </tr>\n",
       "  </tbody>\n",
       "</table>\n",
       "</div>"
      ],
      "text/plain": [
       "                           Age    Events    Rounds  Cuts Made   Top 10s  \\\n",
       "Age                   1.000000 -0.092227 -0.115329  -0.170545 -0.197392   \n",
       "Events               -0.092227  1.000000  0.965305   0.747863  0.159832   \n",
       "Rounds               -0.115329  0.965305  1.000000   0.884361  0.294934   \n",
       "Cuts Made            -0.170545  0.747863  0.884361   1.000000  0.519820   \n",
       "Top 10s              -0.197392  0.159832  0.294934   0.519820  1.000000   \n",
       "Wins                 -0.168706  0.037784  0.118294   0.253015  0.497161   \n",
       "Yards/Drive          -0.386911 -0.007134  0.039943   0.137341  0.187754   \n",
       "Driving Accuracy      0.287301  0.047053  0.067654   0.044104 -0.022554   \n",
       "Greens in Regulation -0.027842 -0.111358 -0.002864   0.208827  0.331647   \n",
       "Putting Average       0.056555 -0.785837 -0.798943  -0.710429 -0.359023   \n",
       "Sand Save Pct         0.212182 -0.140376 -0.089560   0.024753  0.218980   \n",
       "Eagles               -0.268317  0.421469  0.453509   0.426087  0.286383   \n",
       "Birdies              -0.149442  0.819189  0.893354   0.858880  0.411298   \n",
       "Pars                 -0.079152  0.878542  0.915519   0.808854  0.257326   \n",
       "Bogies               -0.130272  0.880135  0.872256   0.705064  0.119865   \n",
       "\n",
       "                          Wins  Yards/Drive  Driving Accuracy  \\\n",
       "Age                  -0.168706    -0.386911          0.287301   \n",
       "Events                0.037784    -0.007134          0.047053   \n",
       "Rounds                0.118294     0.039943          0.067654   \n",
       "Cuts Made             0.253015     0.137341          0.044104   \n",
       "Top 10s               0.497161     0.187754         -0.022554   \n",
       "Wins                  1.000000     0.206130         -0.099866   \n",
       "Yards/Drive           0.206130     1.000000         -0.665529   \n",
       "Driving Accuracy     -0.099866    -0.665529          1.000000   \n",
       "Greens in Regulation  0.218636     0.089791          0.240947   \n",
       "Putting Average      -0.211933    -0.028782         -0.004974   \n",
       "Sand Save Pct        -0.005464    -0.357841          0.155563   \n",
       "Eagles                0.205560     0.353387         -0.127717   \n",
       "Birdies               0.190133     0.032861          0.122039   \n",
       "Pars                  0.080549    -0.112303          0.202777   \n",
       "Bogies                0.023282    -0.001470          0.056360   \n",
       "\n",
       "                      Greens in Regulation  Putting Average  Sand Save Pct  \\\n",
       "Age                              -0.027842         0.056555       0.212182   \n",
       "Events                           -0.111358        -0.785837      -0.140376   \n",
       "Rounds                           -0.002864        -0.798943      -0.089560   \n",
       "Cuts Made                         0.208827        -0.710429       0.024753   \n",
       "Top 10s                           0.331647        -0.359023       0.218980   \n",
       "Wins                              0.218636        -0.211933      -0.005464   \n",
       "Yards/Drive                       0.089791        -0.028782      -0.357841   \n",
       "Driving Accuracy                  0.240947        -0.004974       0.155563   \n",
       "Greens in Regulation              1.000000         0.132795       0.050154   \n",
       "Putting Average                   0.132795         1.000000       0.001922   \n",
       "Sand Save Pct                     0.050154         0.001922       1.000000   \n",
       "Eagles                            0.068847        -0.397233      -0.161969   \n",
       "Birdies                           0.136307        -0.726926       0.000888   \n",
       "Pars                              0.075310        -0.704747       0.004124   \n",
       "Bogies                           -0.064012        -0.676123      -0.153140   \n",
       "\n",
       "                        Eagles   Birdies      Pars    Bogies  \n",
       "Age                  -0.268317 -0.149442 -0.079152 -0.130272  \n",
       "Events                0.421469  0.819189  0.878542  0.880135  \n",
       "Rounds                0.453509  0.893354  0.915519  0.872256  \n",
       "Cuts Made             0.426087  0.858880  0.808854  0.705064  \n",
       "Top 10s               0.286383  0.411298  0.257326  0.119865  \n",
       "Wins                  0.205560  0.190133  0.080549  0.023282  \n",
       "Yards/Drive           0.353387  0.032861 -0.112303 -0.001470  \n",
       "Driving Accuracy     -0.127717  0.122039  0.202777  0.056360  \n",
       "Greens in Regulation  0.068847  0.136307  0.075310 -0.064012  \n",
       "Putting Average      -0.397233 -0.726926 -0.704747 -0.676123  \n",
       "Sand Save Pct        -0.161969  0.000888  0.004124 -0.153140  \n",
       "Eagles                1.000000  0.521399  0.460111  0.507701  \n",
       "Birdies               0.521399  1.000000  0.952291  0.899487  \n",
       "Pars                  0.460111  0.952291  1.000000  0.927239  \n",
       "Bogies                0.507701  0.899487  0.927239  1.000000  "
      ]
     },
     "execution_count": 20,
     "metadata": {},
     "output_type": "execute_result"
    }
   ],
   "source": [
    "# Lets check correlation\n",
    "X.corr()"
   ]
  },
  {
   "cell_type": "code",
   "execution_count": 21,
   "id": "11fa6ded",
   "metadata": {},
   "outputs": [
    {
     "data": {
      "text/plain": [
       "Top 10s                 0.892553\n",
       "Wins                    0.734709\n",
       "Cuts Made               0.532624\n",
       "Greens in Regulation    0.398025\n",
       "Birdies                 0.396741\n",
       "Rounds                  0.282454\n",
       "Eagles                  0.280651\n",
       "Yards/Drive             0.237292\n",
       "Pars                    0.235980\n",
       "Sand Save Pct           0.159654\n",
       "Events                  0.138847\n",
       "Bogies                  0.117265\n",
       "Driving Accuracy       -0.056622\n",
       "Age                    -0.205111\n",
       "Putting Average        -0.350459\n",
       "dtype: float64"
      ]
     },
     "execution_count": 21,
     "metadata": {},
     "output_type": "execute_result"
    }
   ],
   "source": [
    "# Check correlation with y\n",
    "X.corrwith(y).sort_values(ascending=False)"
   ]
  },
  {
   "cell_type": "code",
   "execution_count": 22,
   "id": "863629a1",
   "metadata": {},
   "outputs": [
    {
     "data": {
      "text/plain": [
       "Rounds                  1737.821232\n",
       "Putting Average         1413.377397\n",
       "Yards/Drive             1316.028721\n",
       "Events                   924.301176\n",
       "Greens in Regulation     535.083802\n",
       "Pars                     373.313214\n",
       "Birdies                  334.177603\n",
       "Bogies                   243.868996\n",
       "Cuts Made                221.672907\n",
       "Driving Accuracy         206.288065\n",
       "Sand Save Pct             76.620031\n",
       "Age                       36.424450\n",
       "Eagles                     7.197702\n",
       "Top 10s                    6.038684\n",
       "Wins                       1.706772\n",
       "dtype: float64"
      ]
     },
     "execution_count": 22,
     "metadata": {},
     "output_type": "execute_result"
    }
   ],
   "source": [
    "# Lets check multi-collinearity\n",
    "from statsmodels.stats.outliers_influence import variance_inflation_factor\n",
    "pd.Series([variance_inflation_factor(X.values,i) for i in range(X.shape[1])], index=X.columns).sort_values(ascending=False)"
   ]
  },
  {
   "cell_type": "code",
   "execution_count": 23,
   "id": "4f02d64d",
   "metadata": {},
   "outputs": [
    {
     "data": {
      "text/plain": [
       "Rounds                  1727.157467\n",
       "Putting Average         1218.951762\n",
       "Yards/Drive             1211.611280\n",
       "Events                   923.956563\n",
       "Greens in Regulation     490.244722\n",
       "Pars                     366.668122\n",
       "Birdies                  333.635066\n",
       "Bogies                   239.703394\n",
       "Cuts Made                218.508113\n",
       "Sand Save Pct             76.423362\n",
       "Age                       34.401947\n",
       "Eagles                     7.194917\n",
       "Top 10s                    6.036686\n",
       "Wins                       1.706308\n",
       "dtype: float64"
      ]
     },
     "execution_count": 23,
     "metadata": {},
     "output_type": "execute_result"
    }
   ],
   "source": [
    "# Lets remove Driving Accuracy due to low correlation with y\n",
    "X.drop('Driving Accuracy', axis=1, inplace=True)\n",
    "pd.Series([variance_inflation_factor(X.values,i) for i in range(X.shape[1])], index=X.columns).sort_values(ascending=False)"
   ]
  },
  {
   "cell_type": "code",
   "execution_count": 24,
   "id": "31d17a90",
   "metadata": {},
   "outputs": [
    {
     "data": {
      "text/plain": [
       "Rounds                  1547.546150\n",
       "Yards/Drive             1199.479475\n",
       "Putting Average         1188.831534\n",
       "Events                   771.108914\n",
       "Greens in Regulation     449.491401\n",
       "Pars                     339.534271\n",
       "Birdies                  250.900621\n",
       "Cuts Made                213.283381\n",
       "Sand Save Pct             70.871431\n",
       "Age                       34.401747\n",
       "Eagles                     6.984782\n",
       "Top 10s                    5.387706\n",
       "Wins                       1.703554\n",
       "dtype: float64"
      ]
     },
     "execution_count": 24,
     "metadata": {},
     "output_type": "execute_result"
    }
   ],
   "source": [
    "# Lets remove Bogies\n",
    "X.drop('Bogies', axis=1, inplace=True)\n",
    "pd.Series([variance_inflation_factor(X.values,i) for i in range(X.shape[1])], index=X.columns).sort_values(ascending=False)"
   ]
  },
  {
   "cell_type": "code",
   "execution_count": 25,
   "id": "52294e90",
   "metadata": {},
   "outputs": [
    {
     "data": {
      "text/plain": [
       "Putting Average         1140.994407\n",
       "Yards/Drive             1126.491183\n",
       "Greens in Regulation     447.418289\n",
       "Pars                     329.617071\n",
       "Birdies                  237.227317\n",
       "Rounds                   176.731834\n",
       "Cuts Made                 76.026312\n",
       "Sand Save Pct             70.667321\n",
       "Age                       34.037522\n",
       "Eagles                     6.955996\n",
       "Top 10s                    5.374728\n",
       "Wins                       1.697018\n",
       "dtype: float64"
      ]
     },
     "execution_count": 25,
     "metadata": {},
     "output_type": "execute_result"
    }
   ],
   "source": [
    "# Lets remove Events\n",
    "X.drop('Events', axis=1, inplace=True)\n",
    "pd.Series([variance_inflation_factor(X.values,i) for i in range(X.shape[1])], index=X.columns).sort_values(ascending=False)"
   ]
  },
  {
   "cell_type": "code",
   "execution_count": 26,
   "id": "dee185bc",
   "metadata": {},
   "outputs": [
    {
     "data": {
      "text/plain": [
       "Yards/Drive             1125.587685\n",
       "Putting Average         1099.331088\n",
       "Greens in Regulation     444.878880\n",
       "Pars                     318.628796\n",
       "Birdies                  235.920890\n",
       "Rounds                   171.120633\n",
       "Cuts Made                 74.958456\n",
       "Age                       31.579300\n",
       "Eagles                     6.843142\n",
       "Top 10s                    4.908280\n",
       "Wins                       1.688390\n",
       "dtype: float64"
      ]
     },
     "execution_count": 26,
     "metadata": {},
     "output_type": "execute_result"
    }
   ],
   "source": [
    "# Lets remove Sand Save Pct\n",
    "X.drop('Sand Save Pct', axis=1, inplace=True)\n",
    "pd.Series([variance_inflation_factor(X.values,i) for i in range(X.shape[1])], index=X.columns).sort_values(ascending=False)"
   ]
  },
  {
   "cell_type": "code",
   "execution_count": 27,
   "id": "94555366",
   "metadata": {},
   "outputs": [
    {
     "data": {
      "text/plain": [
       "Yards/Drive             1124.309431\n",
       "Putting Average         1085.915717\n",
       "Greens in Regulation     436.351383\n",
       "Pars                     317.036072\n",
       "Birdies                  234.861408\n",
       "Rounds                   169.724013\n",
       "Cuts Made                 74.173237\n",
       "Eagles                     6.626679\n",
       "Top 10s                    4.907709\n",
       "Wins                       1.685244\n",
       "dtype: float64"
      ]
     },
     "execution_count": 27,
     "metadata": {},
     "output_type": "execute_result"
    }
   ],
   "source": [
    "# Lets remove Age\n",
    "X.drop('Age', axis=1, inplace=True)\n",
    "pd.Series([variance_inflation_factor(X.values,i) for i in range(X.shape[1])], index=X.columns).sort_values(ascending=False)"
   ]
  },
  {
   "cell_type": "code",
   "execution_count": 28,
   "id": "608dde7d",
   "metadata": {},
   "outputs": [
    {
     "data": {
      "text/plain": [
       "Putting Average         925.366088\n",
       "Yards/Drive             858.907550\n",
       "Greens in Regulation    426.049735\n",
       "Rounds                  104.394902\n",
       "Birdies                  75.449175\n",
       "Cuts Made                69.922753\n",
       "Eagles                    6.614332\n",
       "Top 10s                   4.645579\n",
       "Wins                      1.678058\n",
       "dtype: float64"
      ]
     },
     "execution_count": 28,
     "metadata": {},
     "output_type": "execute_result"
    }
   ],
   "source": [
    "# Lets remove Pars\n",
    "X.drop('Pars', axis=1, inplace=True)\n",
    "pd.Series([variance_inflation_factor(X.values,i) for i in range(X.shape[1])], index=X.columns).sort_values(ascending=False)"
   ]
  },
  {
   "cell_type": "code",
   "execution_count": 29,
   "id": "c5f3d4a7",
   "metadata": {},
   "outputs": [
    {
     "data": {
      "text/plain": [
       "Greens in Regulation    422.103550\n",
       "Putting Average         338.037678\n",
       "Rounds                   92.581547\n",
       "Birdies                  73.111881\n",
       "Cuts Made                69.838583\n",
       "Eagles                    5.909910\n",
       "Top 10s                   4.579966\n",
       "Wins                      1.644592\n",
       "dtype: float64"
      ]
     },
     "execution_count": 29,
     "metadata": {},
     "output_type": "execute_result"
    }
   ],
   "source": [
    "# Lets remove Yards/Drive\n",
    "X.drop('Yards/Drive', axis=1, inplace=True)\n",
    "pd.Series([variance_inflation_factor(X.values,i) for i in range(X.shape[1])], index=X.columns).sort_values(ascending=False)"
   ]
  },
  {
   "cell_type": "code",
   "execution_count": 30,
   "id": "18c9cc43",
   "metadata": {},
   "outputs": [
    {
     "data": {
      "text/plain": [
       "Greens in Regulation    422.085237\n",
       "Putting Average         337.980036\n",
       "Rounds                   92.274576\n",
       "Cuts Made                69.116192\n",
       "Birdies                  68.252399\n",
       "Top 10s                   4.549205\n",
       "Wins                      1.627925\n",
       "dtype: float64"
      ]
     },
     "execution_count": 30,
     "metadata": {},
     "output_type": "execute_result"
    }
   ],
   "source": [
    "# Lets remove Eagles\n",
    "X.drop('Eagles', axis=1, inplace=True)\n",
    "pd.Series([variance_inflation_factor(X.values,i) for i in range(X.shape[1])], index=X.columns).sort_values(ascending=False)"
   ]
  },
  {
   "cell_type": "code",
   "execution_count": 31,
   "id": "4eee1d4a",
   "metadata": {},
   "outputs": [
    {
     "data": {
      "text/plain": [
       "Greens in Regulation    414.237300\n",
       "Putting Average         330.167856\n",
       "Birdies                  43.236668\n",
       "Cuts Made                41.456622\n",
       "Top 10s                   3.959217\n",
       "Wins                      1.624544\n",
       "dtype: float64"
      ]
     },
     "execution_count": 31,
     "metadata": {},
     "output_type": "execute_result"
    }
   ],
   "source": [
    "# Lets remove Rounds\n",
    "X.drop('Rounds', axis=1, inplace=True)\n",
    "pd.Series([variance_inflation_factor(X.values,i) for i in range(X.shape[1])], index=X.columns).sort_values(ascending=False)"
   ]
  },
  {
   "cell_type": "code",
   "execution_count": 32,
   "id": "bf08d1a1",
   "metadata": {},
   "outputs": [
    {
     "data": {
      "text/plain": [
       "Birdies                 43.131022\n",
       "Cuts Made               39.785112\n",
       "Greens in Regulation    11.706315\n",
       "Top 10s                  3.752501\n",
       "Wins                     1.603965\n",
       "dtype: float64"
      ]
     },
     "execution_count": 32,
     "metadata": {},
     "output_type": "execute_result"
    }
   ],
   "source": [
    "# Lets remove Putting Average\n",
    "X.drop('Putting Average', axis=1, inplace=True)\n",
    "pd.Series([variance_inflation_factor(X.values,i) for i in range(X.shape[1])], index=X.columns).sort_values(ascending=False)"
   ]
  },
  {
   "cell_type": "code",
   "execution_count": 33,
   "id": "445bca8d",
   "metadata": {},
   "outputs": [
    {
     "data": {
      "text/plain": [
       "Cuts Made               12.350001\n",
       "Greens in Regulation     9.576521\n",
       "Top 10s                  3.726886\n",
       "Wins                     1.602767\n",
       "dtype: float64"
      ]
     },
     "execution_count": 33,
     "metadata": {},
     "output_type": "execute_result"
    }
   ],
   "source": [
    "# Lets remove Birdies\n",
    "X.drop('Birdies', axis=1, inplace=True)\n",
    "pd.Series([variance_inflation_factor(X.values,i) for i in range(X.shape[1])], index=X.columns).sort_values(ascending=False)"
   ]
  },
  {
   "cell_type": "code",
   "execution_count": 34,
   "id": "6582480b",
   "metadata": {},
   "outputs": [
    {
     "data": {
      "text/plain": [
       "Top 10s      3.702734\n",
       "Cuts Made    2.968481\n",
       "Wins         1.602341\n",
       "dtype: float64"
      ]
     },
     "execution_count": 34,
     "metadata": {},
     "output_type": "execute_result"
    }
   ],
   "source": [
    "# Lets remove Greens in Regulation\n",
    "X.drop('Greens in Regulation', axis=1, inplace=True)\n",
    "pd.Series([variance_inflation_factor(X.values,i) for i in range(X.shape[1])], index=X.columns).sort_values(ascending=False)"
   ]
  },
  {
   "cell_type": "markdown",
   "id": "7495bbed",
   "metadata": {},
   "source": [
    "**VIFs are below 5 and lets train the model using these variables**"
   ]
  },
  {
   "cell_type": "code",
   "execution_count": 35,
   "id": "e3c3c855",
   "metadata": {},
   "outputs": [],
   "source": [
    "# Train Regression model\n",
    "reg = LinearRegression()\n",
    "reg = reg.fit(X_train[['Top 10s', 'Cuts Made', 'Wins']], y_train)"
   ]
  },
  {
   "cell_type": "code",
   "execution_count": 36,
   "id": "1a9e8a7f",
   "metadata": {},
   "outputs": [
    {
     "name": "stdout",
     "output_type": "stream",
     "text": [
      "Train RMSE: 322586.32\n"
     ]
    }
   ],
   "source": [
    "# RMSE on Train\n",
    "y_train_pred = reg.predict(X_train[['Top 10s', 'Cuts Made', 'Wins']])\n",
    "\n",
    "print('Train RMSE:', np.round(np.sqrt(metrics.mean_squared_error(y_train, y_train_pred)), 2))"
   ]
  },
  {
   "cell_type": "code",
   "execution_count": 37,
   "id": "becb6f09",
   "metadata": {},
   "outputs": [
    {
     "name": "stdout",
     "output_type": "stream",
     "text": [
      "Test RMSE: 382073.18\n"
     ]
    }
   ],
   "source": [
    "# RMSE on Test\n",
    "y_pred = reg.predict(X_test[['Top 10s', 'Cuts Made', 'Wins']])\n",
    "\n",
    "print('Test RMSE:', np.round(np.sqrt(metrics.mean_squared_error(y_test, y_pred)), 2))"
   ]
  },
  {
   "cell_type": "code",
   "execution_count": 38,
   "id": "39aa8c7e",
   "metadata": {},
   "outputs": [
    {
     "name": "stdout",
     "output_type": "stream",
     "text": [
      "Train r2 score: 92.84\n",
      "Test r2 score: 81.79\n"
     ]
    }
   ],
   "source": [
    "# Check r2 score\n",
    "print('Train r2 score:', np.round(metrics.r2_score(y_train, y_train_pred)*100, 2))\n",
    "print('Test r2 score:', np.round(metrics.r2_score(y_test, y_pred)*100, 2))"
   ]
  },
  {
   "cell_type": "markdown",
   "id": "dd17d74d",
   "metadata": {},
   "source": [
    "Train RMSE: 322586.32<br>\n",
    "Test RMSE: 382073.18\n",
    "\n",
    "Train r2 score: 92.84<br>\n",
    "Test r2 score: 81.79\n",
    "\n",
    "The features do exhibit multi-collinearity, and has been removed. The model is trained with only these variables - Top 10s, Cuts Made, Wins"
   ]
  },
  {
   "cell_type": "markdown",
   "id": "ae1d5d7e",
   "metadata": {},
   "source": [
    "**C) Train a cubist model using the cubist package. What is the test rmse value? Use the exact same split as in case A**\n",
    "\n",
    "**Which model give the best performance on test data? Why do you think that is the case?**"
   ]
  },
  {
   "cell_type": "code",
   "execution_count": 39,
   "id": "92f2db7d",
   "metadata": {},
   "outputs": [
    {
     "data": {
      "text/plain": [
       "Cubist(random_state=42)"
      ]
     },
     "execution_count": 39,
     "metadata": {},
     "output_type": "execute_result"
    }
   ],
   "source": [
    "# Cubist Model\n",
    "cub_mod = Cubist(random_state=42)\n",
    "cub_mod.fit(X_train, y_train)"
   ]
  },
  {
   "cell_type": "code",
   "execution_count": 40,
   "id": "8bd3fa7a",
   "metadata": {},
   "outputs": [
    {
     "name": "stdout",
     "output_type": "stream",
     "text": [
      "Train RMSE: 274918.38\n"
     ]
    }
   ],
   "source": [
    "# Train RMSE\n",
    "y_train_pred = cub_mod.predict(X_train)\n",
    "\n",
    "print('Train RMSE:', np.round(np.sqrt(metrics.mean_squared_error(y_train, y_train_pred)), 2))"
   ]
  },
  {
   "cell_type": "code",
   "execution_count": 41,
   "id": "768374d0",
   "metadata": {},
   "outputs": [
    {
     "name": "stdout",
     "output_type": "stream",
     "text": [
      "Test RMSE: 305650.52\n"
     ]
    }
   ],
   "source": [
    "# Test RMSE\n",
    "y_pred = cub_mod.predict(X_test)\n",
    "\n",
    "print('Test RMSE:', np.round(np.sqrt(metrics.mean_squared_error(y_test, y_pred)), 2))"
   ]
  },
  {
   "cell_type": "code",
   "execution_count": 42,
   "id": "6b675c9a",
   "metadata": {},
   "outputs": [
    {
     "name": "stdout",
     "output_type": "stream",
     "text": [
      "Train r2 score: 94.8\n",
      "Test r2 score: 88.35\n"
     ]
    }
   ],
   "source": [
    "# Check r2 score\n",
    "print('Train r2 score:', np.round(metrics.r2_score(y_train, y_train_pred)*100, 2))\n",
    "print('Test r2 score:', np.round(metrics.r2_score(y_test, y_pred)*100, 2))"
   ]
  },
  {
   "cell_type": "markdown",
   "id": "777f9ad8",
   "metadata": {},
   "source": [
    "Train RMSE: 274918.38<br>\n",
    "Test RMSE: 305650.52<br>\n",
    "\n",
    "Train r2 score: 94.8<br>\n",
    "Test r2 score: 88.35"
   ]
  },
  {
   "cell_type": "markdown",
   "id": "37186321",
   "metadata": {},
   "source": [
    "### Lets consolidate the results"
   ]
  },
  {
   "cell_type": "markdown",
   "id": "63a6c38e",
   "metadata": {},
   "source": [
    "1. Decision Tree:\n",
    "\n",
    "- RMSE for Train set: 366791.76\n",
    "- RMSE for Test set: 438813.7\n",
    "- Train r2 score: 90.74\n",
    "- Test r2 score: 75.98\n",
    "\n",
    "2. Linear Regression:\n",
    "\n",
    "- Train RMSE: 322586.32\n",
    "- Test RMSE: 382073.18\n",
    "- Train r2 score: 92.84\n",
    "- Test r2 score: 81.79\n",
    "\n",
    "3. Cubic model:\n",
    "\n",
    "- Train RMSE: 274918.38\n",
    "- Test RMSE: 305650.52\n",
    "- Train r2 score: 94.8\n",
    "- Test r2 score: 88.35"
   ]
  },
  {
   "cell_type": "markdown",
   "id": "105a0dbb",
   "metadata": {},
   "source": [
    "**Cubic model gave the best performance with least RMSE on test set and best r2 score**"
   ]
  },
  {
   "cell_type": "code",
   "execution_count": 43,
   "id": "dccc3e1a",
   "metadata": {},
   "outputs": [
    {
     "data": {
      "text/plain": [
       "<AxesSubplot:xlabel='Earnings'>"
      ]
     },
     "execution_count": 43,
     "metadata": {},
     "output_type": "execute_result"
    },
    {
     "data": {
      "image/png": "[encoded data removed]",
      "text/plain": [
       "<Figure size 432x288 with 1 Axes>"
      ]
     },
     "metadata": {
      "needs_background": "light"
     },
     "output_type": "display_data"
    }
   ],
   "source": [
    "# Check distribution of y\n",
    "sns.scatterplot(x=earnings['Earnings'], y=earnings.index)"
   ]
  },
  {
   "cell_type": "markdown",
   "id": "c3f869dc",
   "metadata": {},
   "source": [
    "Looking at the plot above, we can infer that the data follows a non linear distribution. Cubist performed really well in this case because it looked at intermediate linear models and took a number k which are k neighbours at the boundaries and smoothen the value based on neighbouring values, so that the jumps that are observed in case M5 model are taken care."
   ]
  }
 ],
 "metadata": {
  "kernelspec": {
   "display_name": "Python 3 (ipykernel)",
   "language": "python",
   "name": "python3"
  },
  "language_info": {
   "codemirror_mode": {
    "name": "ipython",
    "version": 3
   },
   "file_extension": ".py",
   "mimetype": "text/x-python",
   "name": "python",
   "nbconvert_exporter": "python",
   "pygments_lexer": "ipython3",
   "version": "3.7.13"
  }
 },
 "nbformat": 4,
 "nbformat_minor": 5
}
