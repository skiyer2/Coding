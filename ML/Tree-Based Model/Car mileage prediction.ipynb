{
 "cells": [
  {
   "cell_type": "markdown",
   "id": "26175469",
   "metadata": {},
   "source": [
    "We are interested in understanding what impacts the mileage of cars. 400 cars were measured and its data is available in the file.\n",
    "\n",
    "1) Train a decision tree and identify features that impact the mileage of cars. Note that cylinders though numerical can take only specific values, and origin is categorical.<br>\n",
    "2) How good the prediction would be if we use 300 cars and test it for the rest of the data.<br>\n",
    "3) Are there outliers that influence the result? How can we minimize the impact of outliers?"
   ]
  },
  {
   "cell_type": "code",
   "execution_count": 1,
   "id": "01526bf9",
   "metadata": {},
   "outputs": [],
   "source": [
    "# Import libraries\n",
    "import numpy as np\n",
    "import pandas as pd\n",
    "import matplotlib.pyplot as plt\n",
    "import seaborn as sns\n",
    "\n",
    "from sklearn.tree import DecisionTreeRegressor, export_text\n",
    "from sklearn.model_selection import train_test_split, GridSearchCV, StratifiedKFold\n",
    "\n",
    "import warnings\n",
    "warnings.filterwarnings('ignore')"
   ]
  },
  {
   "cell_type": "code",
   "execution_count": 2,
   "id": "55a38cd5",
   "metadata": {},
   "outputs": [
    {
     "data": {
      "text/html": [
       "<div>\n",
       "<style scoped>\n",
       "    .dataframe tbody tr th:only-of-type {\n",
       "        vertical-align: middle;\n",
       "    }\n",
       "\n",
       "    .dataframe tbody tr th {\n",
       "        vertical-align: top;\n",
       "    }\n",
       "\n",
       "    .dataframe thead th {\n",
       "        text-align: right;\n",
       "    }\n",
       "</style>\n",
       "<table border=\"1\" class=\"dataframe\">\n",
       "  <thead>\n",
       "    <tr style=\"text-align: right;\">\n",
       "      <th></th>\n",
       "      <th>cylinders</th>\n",
       "      <th>displacement</th>\n",
       "      <th>hp</th>\n",
       "      <th>weight</th>\n",
       "      <th>acceleration</th>\n",
       "      <th>origin</th>\n",
       "      <th>mpg</th>\n",
       "    </tr>\n",
       "  </thead>\n",
       "  <tbody>\n",
       "    <tr>\n",
       "      <th>0</th>\n",
       "      <td>8</td>\n",
       "      <td>307.0</td>\n",
       "      <td>130</td>\n",
       "      <td>3504</td>\n",
       "      <td>12.0</td>\n",
       "      <td>1</td>\n",
       "      <td>18.0</td>\n",
       "    </tr>\n",
       "    <tr>\n",
       "      <th>1</th>\n",
       "      <td>8</td>\n",
       "      <td>350.0</td>\n",
       "      <td>165</td>\n",
       "      <td>3693</td>\n",
       "      <td>11.5</td>\n",
       "      <td>1</td>\n",
       "      <td>15.0</td>\n",
       "    </tr>\n",
       "    <tr>\n",
       "      <th>2</th>\n",
       "      <td>8</td>\n",
       "      <td>318.0</td>\n",
       "      <td>150</td>\n",
       "      <td>3436</td>\n",
       "      <td>11.0</td>\n",
       "      <td>1</td>\n",
       "      <td>18.0</td>\n",
       "    </tr>\n",
       "    <tr>\n",
       "      <th>3</th>\n",
       "      <td>8</td>\n",
       "      <td>304.0</td>\n",
       "      <td>150</td>\n",
       "      <td>3433</td>\n",
       "      <td>12.0</td>\n",
       "      <td>1</td>\n",
       "      <td>16.0</td>\n",
       "    </tr>\n",
       "    <tr>\n",
       "      <th>4</th>\n",
       "      <td>8</td>\n",
       "      <td>302.0</td>\n",
       "      <td>140</td>\n",
       "      <td>3449</td>\n",
       "      <td>10.5</td>\n",
       "      <td>1</td>\n",
       "      <td>17.0</td>\n",
       "    </tr>\n",
       "  </tbody>\n",
       "</table>\n",
       "</div>"
      ],
      "text/plain": [
       "   cylinders  displacement   hp  weight  acceleration  origin   mpg\n",
       "0          8         307.0  130    3504          12.0       1  18.0\n",
       "1          8         350.0  165    3693          11.5       1  15.0\n",
       "2          8         318.0  150    3436          11.0       1  18.0\n",
       "3          8         304.0  150    3433          12.0       1  16.0\n",
       "4          8         302.0  140    3449          10.5       1  17.0"
      ]
     },
     "execution_count": 2,
     "metadata": {},
     "output_type": "execute_result"
    }
   ],
   "source": [
    "# Load data\n",
    "mileage = pd.read_csv('C:/Users/Karthik.Iyer/Downloads/AccelerateAI/Tree-Based-Models-main/06_Car_mileage.csv')\n",
    "mileage.head()"
   ]
  },
  {
   "cell_type": "code",
   "execution_count": 3,
   "id": "a84f2c4a",
   "metadata": {},
   "outputs": [
    {
     "name": "stdout",
     "output_type": "stream",
     "text": [
      "<class 'pandas.core.frame.DataFrame'>\n",
      "RangeIndex: 398 entries, 0 to 397\n",
      "Data columns (total 7 columns):\n",
      " #   Column        Non-Null Count  Dtype  \n",
      "---  ------        --------------  -----  \n",
      " 0   cylinders     398 non-null    int64  \n",
      " 1   displacement  398 non-null    float64\n",
      " 2   hp            398 non-null    object \n",
      " 3   weight        398 non-null    int64  \n",
      " 4   acceleration  398 non-null    float64\n",
      " 5   origin        398 non-null    int64  \n",
      " 6   mpg           398 non-null    float64\n",
      "dtypes: float64(3), int64(3), object(1)\n",
      "memory usage: 21.9+ KB\n"
     ]
    }
   ],
   "source": [
    "# Check info\n",
    "mileage.info()"
   ]
  },
  {
   "cell_type": "code",
   "execution_count": 4,
   "id": "836e6d0c",
   "metadata": {},
   "outputs": [
    {
     "data": {
      "text/plain": [
       "cylinders       0\n",
       "displacement    0\n",
       "hp              0\n",
       "weight          0\n",
       "acceleration    0\n",
       "origin          0\n",
       "mpg             0\n",
       "dtype: int64"
      ]
     },
     "execution_count": 4,
     "metadata": {},
     "output_type": "execute_result"
    }
   ],
   "source": [
    "# Check missing values\n",
    "mileage.isnull().sum()"
   ]
  },
  {
   "cell_type": "code",
   "execution_count": 5,
   "id": "07388682",
   "metadata": {
    "scrolled": true
   },
   "outputs": [
    {
     "data": {
      "text/plain": [
       "150    22\n",
       "90     20\n",
       "88     19\n",
       "110    18\n",
       "100    17\n",
       "75     14\n",
       "95     14\n",
       "105    12\n",
       "70     12\n",
       "67     12\n",
       "65     10\n",
       "85      9\n",
       "97      9\n",
       "80      7\n",
       "145     7\n",
       "140     7\n",
       "92      6\n",
       "68      6\n",
       "78      6\n",
       "84      6\n",
       "?       6\n",
       "72      6\n",
       "60      5\n",
       "175     5\n",
       "170     5\n",
       "Name: hp, dtype: int64"
      ]
     },
     "execution_count": 5,
     "metadata": {},
     "output_type": "execute_result"
    }
   ],
   "source": [
    "# Lets check hp, the values stored are numeric but the data type is object\n",
    "mileage['hp'].value_counts().sort_values(ascending=False)[:25]"
   ]
  },
  {
   "cell_type": "code",
   "execution_count": 6,
   "id": "b8037c53",
   "metadata": {},
   "outputs": [
    {
     "data": {
      "text/plain": [
       "(392, 7)"
      ]
     },
     "execution_count": 6,
     "metadata": {},
     "output_type": "execute_result"
    }
   ],
   "source": [
    "# Lets exclude the rows where hp contains ?\n",
    "mileage = mileage[~(mileage['hp'] == '?')]\n",
    "mileage.shape"
   ]
  },
  {
   "cell_type": "code",
   "execution_count": 7,
   "id": "5e2ff6d2",
   "metadata": {},
   "outputs": [],
   "source": [
    "# Convert the data type for hp to float\n",
    "mileage['hp'] = mileage['hp'].astype('float')"
   ]
  },
  {
   "cell_type": "code",
   "execution_count": 8,
   "id": "889bc891",
   "metadata": {},
   "outputs": [
    {
     "data": {
      "text/plain": [
       "1    245\n",
       "3     79\n",
       "2     68\n",
       "Name: origin, dtype: int64"
      ]
     },
     "execution_count": 8,
     "metadata": {},
     "output_type": "execute_result"
    }
   ],
   "source": [
    "# Lets check origin\n",
    "mileage['origin'].value_counts()"
   ]
  },
  {
   "cell_type": "code",
   "execution_count": 9,
   "id": "2894835b",
   "metadata": {},
   "outputs": [
    {
     "data": {
      "text/html": [
       "<div>\n",
       "<style scoped>\n",
       "    .dataframe tbody tr th:only-of-type {\n",
       "        vertical-align: middle;\n",
       "    }\n",
       "\n",
       "    .dataframe tbody tr th {\n",
       "        vertical-align: top;\n",
       "    }\n",
       "\n",
       "    .dataframe thead th {\n",
       "        text-align: right;\n",
       "    }\n",
       "</style>\n",
       "<table border=\"1\" class=\"dataframe\">\n",
       "  <thead>\n",
       "    <tr style=\"text-align: right;\">\n",
       "      <th></th>\n",
       "      <th>displacement</th>\n",
       "      <th>hp</th>\n",
       "      <th>weight</th>\n",
       "      <th>acceleration</th>\n",
       "      <th>mpg</th>\n",
       "      <th>origin_1</th>\n",
       "      <th>origin_2</th>\n",
       "      <th>origin_3</th>\n",
       "      <th>cylinders_3</th>\n",
       "      <th>cylinders_4</th>\n",
       "      <th>cylinders_5</th>\n",
       "      <th>cylinders_6</th>\n",
       "      <th>cylinders_8</th>\n",
       "    </tr>\n",
       "  </thead>\n",
       "  <tbody>\n",
       "    <tr>\n",
       "      <th>0</th>\n",
       "      <td>307.0</td>\n",
       "      <td>130.0</td>\n",
       "      <td>3504</td>\n",
       "      <td>12.0</td>\n",
       "      <td>18.0</td>\n",
       "      <td>1</td>\n",
       "      <td>0</td>\n",
       "      <td>0</td>\n",
       "      <td>0</td>\n",
       "      <td>0</td>\n",
       "      <td>0</td>\n",
       "      <td>0</td>\n",
       "      <td>1</td>\n",
       "    </tr>\n",
       "    <tr>\n",
       "      <th>1</th>\n",
       "      <td>350.0</td>\n",
       "      <td>165.0</td>\n",
       "      <td>3693</td>\n",
       "      <td>11.5</td>\n",
       "      <td>15.0</td>\n",
       "      <td>1</td>\n",
       "      <td>0</td>\n",
       "      <td>0</td>\n",
       "      <td>0</td>\n",
       "      <td>0</td>\n",
       "      <td>0</td>\n",
       "      <td>0</td>\n",
       "      <td>1</td>\n",
       "    </tr>\n",
       "    <tr>\n",
       "      <th>2</th>\n",
       "      <td>318.0</td>\n",
       "      <td>150.0</td>\n",
       "      <td>3436</td>\n",
       "      <td>11.0</td>\n",
       "      <td>18.0</td>\n",
       "      <td>1</td>\n",
       "      <td>0</td>\n",
       "      <td>0</td>\n",
       "      <td>0</td>\n",
       "      <td>0</td>\n",
       "      <td>0</td>\n",
       "      <td>0</td>\n",
       "      <td>1</td>\n",
       "    </tr>\n",
       "    <tr>\n",
       "      <th>3</th>\n",
       "      <td>304.0</td>\n",
       "      <td>150.0</td>\n",
       "      <td>3433</td>\n",
       "      <td>12.0</td>\n",
       "      <td>16.0</td>\n",
       "      <td>1</td>\n",
       "      <td>0</td>\n",
       "      <td>0</td>\n",
       "      <td>0</td>\n",
       "      <td>0</td>\n",
       "      <td>0</td>\n",
       "      <td>0</td>\n",
       "      <td>1</td>\n",
       "    </tr>\n",
       "    <tr>\n",
       "      <th>4</th>\n",
       "      <td>302.0</td>\n",
       "      <td>140.0</td>\n",
       "      <td>3449</td>\n",
       "      <td>10.5</td>\n",
       "      <td>17.0</td>\n",
       "      <td>1</td>\n",
       "      <td>0</td>\n",
       "      <td>0</td>\n",
       "      <td>0</td>\n",
       "      <td>0</td>\n",
       "      <td>0</td>\n",
       "      <td>0</td>\n",
       "      <td>1</td>\n",
       "    </tr>\n",
       "  </tbody>\n",
       "</table>\n",
       "</div>"
      ],
      "text/plain": [
       "   displacement     hp  weight  acceleration   mpg  origin_1  origin_2  \\\n",
       "0         307.0  130.0    3504          12.0  18.0         1         0   \n",
       "1         350.0  165.0    3693          11.5  15.0         1         0   \n",
       "2         318.0  150.0    3436          11.0  18.0         1         0   \n",
       "3         304.0  150.0    3433          12.0  16.0         1         0   \n",
       "4         302.0  140.0    3449          10.5  17.0         1         0   \n",
       "\n",
       "   origin_3  cylinders_3  cylinders_4  cylinders_5  cylinders_6  cylinders_8  \n",
       "0         0            0            0            0            0            1  \n",
       "1         0            0            0            0            0            1  \n",
       "2         0            0            0            0            0            1  \n",
       "3         0            0            0            0            0            1  \n",
       "4         0            0            0            0            0            1  "
      ]
     },
     "execution_count": 9,
     "metadata": {},
     "output_type": "execute_result"
    }
   ],
   "source": [
    "# Given origin is categorical, lets convert it into dummies. Also cylinders even though numerical, can take only specific values\n",
    "# So cylinders is discrete. Hence we will create dummies for cylinders also\n",
    "mileage_onehot = pd.get_dummies(mileage, columns=['origin', 'cylinders'])\n",
    "mileage_onehot.head()"
   ]
  },
  {
   "cell_type": "code",
   "execution_count": 10,
   "id": "ba647e00",
   "metadata": {},
   "outputs": [
    {
     "name": "stdout",
     "output_type": "stream",
     "text": [
      "<class 'pandas.core.frame.DataFrame'>\n",
      "Int64Index: 392 entries, 0 to 397\n",
      "Data columns (total 13 columns):\n",
      " #   Column        Non-Null Count  Dtype  \n",
      "---  ------        --------------  -----  \n",
      " 0   displacement  392 non-null    float64\n",
      " 1   hp            392 non-null    float64\n",
      " 2   weight        392 non-null    int64  \n",
      " 3   acceleration  392 non-null    float64\n",
      " 4   mpg           392 non-null    float64\n",
      " 5   origin_1      392 non-null    uint8  \n",
      " 6   origin_2      392 non-null    uint8  \n",
      " 7   origin_3      392 non-null    uint8  \n",
      " 8   cylinders_3   392 non-null    uint8  \n",
      " 9   cylinders_4   392 non-null    uint8  \n",
      " 10  cylinders_5   392 non-null    uint8  \n",
      " 11  cylinders_6   392 non-null    uint8  \n",
      " 12  cylinders_8   392 non-null    uint8  \n",
      "dtypes: float64(4), int64(1), uint8(8)\n",
      "memory usage: 21.4 KB\n"
     ]
    }
   ],
   "source": [
    "# Lets check the data types again\n",
    "mileage_onehot.info()"
   ]
  },
  {
   "cell_type": "markdown",
   "id": "f65196c2",
   "metadata": {},
   "source": [
    "**1) Train a decision tree and identify features that impact the mileage of cars. Note that cylinders though numerical can take only specific values, and origin is categorical.**"
   ]
  },
  {
   "cell_type": "code",
   "execution_count": 11,
   "id": "bd686779",
   "metadata": {},
   "outputs": [],
   "source": [
    "# Prepare X and y\n",
    "X = mileage_onehot.drop('mpg', axis=1)\n",
    "y = mileage_onehot['mpg']\n",
    "\n",
    "# Initialize the model\n",
    "clf = DecisionTreeRegressor(random_state=42)"
   ]
  },
  {
   "cell_type": "code",
   "execution_count": 12,
   "id": "b3a20598",
   "metadata": {},
   "outputs": [
    {
     "data": {
      "text/html": [
       "<div>\n",
       "<style scoped>\n",
       "    .dataframe tbody tr th:only-of-type {\n",
       "        vertical-align: middle;\n",
       "    }\n",
       "\n",
       "    .dataframe tbody tr th {\n",
       "        vertical-align: top;\n",
       "    }\n",
       "\n",
       "    .dataframe thead th {\n",
       "        text-align: right;\n",
       "    }\n",
       "</style>\n",
       "<table border=\"1\" class=\"dataframe\">\n",
       "  <thead>\n",
       "    <tr style=\"text-align: right;\">\n",
       "      <th></th>\n",
       "      <th>displacement</th>\n",
       "      <th>hp</th>\n",
       "      <th>weight</th>\n",
       "      <th>acceleration</th>\n",
       "      <th>origin_1</th>\n",
       "      <th>origin_2</th>\n",
       "      <th>origin_3</th>\n",
       "      <th>cylinders_3</th>\n",
       "      <th>cylinders_4</th>\n",
       "      <th>cylinders_5</th>\n",
       "      <th>cylinders_6</th>\n",
       "      <th>cylinders_8</th>\n",
       "    </tr>\n",
       "  </thead>\n",
       "  <tbody>\n",
       "    <tr>\n",
       "      <th>0</th>\n",
       "      <td>307.0</td>\n",
       "      <td>130.0</td>\n",
       "      <td>3504</td>\n",
       "      <td>12.0</td>\n",
       "      <td>1</td>\n",
       "      <td>0</td>\n",
       "      <td>0</td>\n",
       "      <td>0</td>\n",
       "      <td>0</td>\n",
       "      <td>0</td>\n",
       "      <td>0</td>\n",
       "      <td>1</td>\n",
       "    </tr>\n",
       "    <tr>\n",
       "      <th>1</th>\n",
       "      <td>350.0</td>\n",
       "      <td>165.0</td>\n",
       "      <td>3693</td>\n",
       "      <td>11.5</td>\n",
       "      <td>1</td>\n",
       "      <td>0</td>\n",
       "      <td>0</td>\n",
       "      <td>0</td>\n",
       "      <td>0</td>\n",
       "      <td>0</td>\n",
       "      <td>0</td>\n",
       "      <td>1</td>\n",
       "    </tr>\n",
       "    <tr>\n",
       "      <th>2</th>\n",
       "      <td>318.0</td>\n",
       "      <td>150.0</td>\n",
       "      <td>3436</td>\n",
       "      <td>11.0</td>\n",
       "      <td>1</td>\n",
       "      <td>0</td>\n",
       "      <td>0</td>\n",
       "      <td>0</td>\n",
       "      <td>0</td>\n",
       "      <td>0</td>\n",
       "      <td>0</td>\n",
       "      <td>1</td>\n",
       "    </tr>\n",
       "    <tr>\n",
       "      <th>3</th>\n",
       "      <td>304.0</td>\n",
       "      <td>150.0</td>\n",
       "      <td>3433</td>\n",
       "      <td>12.0</td>\n",
       "      <td>1</td>\n",
       "      <td>0</td>\n",
       "      <td>0</td>\n",
       "      <td>0</td>\n",
       "      <td>0</td>\n",
       "      <td>0</td>\n",
       "      <td>0</td>\n",
       "      <td>1</td>\n",
       "    </tr>\n",
       "    <tr>\n",
       "      <th>4</th>\n",
       "      <td>302.0</td>\n",
       "      <td>140.0</td>\n",
       "      <td>3449</td>\n",
       "      <td>10.5</td>\n",
       "      <td>1</td>\n",
       "      <td>0</td>\n",
       "      <td>0</td>\n",
       "      <td>0</td>\n",
       "      <td>0</td>\n",
       "      <td>0</td>\n",
       "      <td>0</td>\n",
       "      <td>1</td>\n",
       "    </tr>\n",
       "  </tbody>\n",
       "</table>\n",
       "</div>"
      ],
      "text/plain": [
       "   displacement     hp  weight  acceleration  origin_1  origin_2  origin_3  \\\n",
       "0         307.0  130.0    3504          12.0         1         0         0   \n",
       "1         350.0  165.0    3693          11.5         1         0         0   \n",
       "2         318.0  150.0    3436          11.0         1         0         0   \n",
       "3         304.0  150.0    3433          12.0         1         0         0   \n",
       "4         302.0  140.0    3449          10.5         1         0         0   \n",
       "\n",
       "   cylinders_3  cylinders_4  cylinders_5  cylinders_6  cylinders_8  \n",
       "0            0            0            0            0            1  \n",
       "1            0            0            0            0            1  \n",
       "2            0            0            0            0            1  \n",
       "3            0            0            0            0            1  \n",
       "4            0            0            0            0            1  "
      ]
     },
     "execution_count": 12,
     "metadata": {},
     "output_type": "execute_result"
    }
   ],
   "source": [
    "X.head()"
   ]
  },
  {
   "cell_type": "code",
   "execution_count": 13,
   "id": "8df408e9",
   "metadata": {},
   "outputs": [
    {
     "name": "stdout",
     "output_type": "stream",
     "text": [
      "{'max_depth': 5, 'min_samples_split': 20}\n",
      "22.8167549863003\n"
     ]
    }
   ],
   "source": [
    "# Use cross validation\n",
    "params = {'max_depth':range(1,11), 'min_samples_split':range(10,60,10)}\n",
    "\n",
    "# Create GridSearchCV object\n",
    "clf_gs = GridSearchCV(estimator=clf, cv=5, param_grid=params, scoring='neg_mean_squared_error')\n",
    "\n",
    "# Fit\n",
    "clf_gs.fit(X,y)\n",
    "\n",
    "# Print best params and best score\n",
    "print(clf_gs.best_params_)\n",
    "print(-clf_gs.best_score_)"
   ]
  },
  {
   "cell_type": "code",
   "execution_count": 14,
   "id": "49f0ef65",
   "metadata": {},
   "outputs": [
    {
     "name": "stdout",
     "output_type": "stream",
     "text": [
      "Model RMSE: 3.18\n"
     ]
    }
   ],
   "source": [
    "# Check RMSE\n",
    "from sklearn import metrics\n",
    "\n",
    "y_pred = clf_gs.predict(X)\n",
    "print('Model RMSE:', np.round(np.sqrt(metrics.mean_squared_error(y, y_pred)), 2))"
   ]
  },
  {
   "cell_type": "code",
   "execution_count": 15,
   "id": "3e85e70d",
   "metadata": {},
   "outputs": [
    {
     "name": "stdout",
     "output_type": "stream",
     "text": [
      "Model r2 score: 83.31\n"
     ]
    }
   ],
   "source": [
    "# Check r2 score\n",
    "print(\"Model r2 score:\", np.round(metrics.r2_score(y, y_pred)*100, 2))"
   ]
  },
  {
   "cell_type": "markdown",
   "id": "e444cabe",
   "metadata": {},
   "source": [
    "Without splitting the data into train and test, we have the following values:<br>\n",
    "Model RMSE: 3.18<br>\n",
    "Model r2 score: 83.31%"
   ]
  },
  {
   "cell_type": "markdown",
   "id": "2f11cfb3",
   "metadata": {},
   "source": [
    "**2) How good the prediction would be if we use 300 cars and test it for the rest of the data.**"
   ]
  },
  {
   "cell_type": "code",
   "execution_count": 16,
   "id": "afa2cfb0",
   "metadata": {},
   "outputs": [],
   "source": [
    "# Split the data\n",
    "train_size = round(300/X.shape[0],2)\n",
    "\n",
    "X_train, X_test, y_train, y_test = train_test_split(X, y, train_size=train_size, random_state=42)"
   ]
  },
  {
   "cell_type": "code",
   "execution_count": 17,
   "id": "8e4d8420",
   "metadata": {},
   "outputs": [
    {
     "name": "stdout",
     "output_type": "stream",
     "text": [
      "(301, 12)\n",
      "(301,)\n",
      "(91, 12)\n",
      "(91,)\n"
     ]
    }
   ],
   "source": [
    "# Check shape\n",
    "print(X_train.shape)\n",
    "print(y_train.shape)\n",
    "print(X_test.shape)\n",
    "print(y_test.shape)"
   ]
  },
  {
   "cell_type": "code",
   "execution_count": 18,
   "id": "1cd1fa98",
   "metadata": {},
   "outputs": [
    {
     "name": "stdout",
     "output_type": "stream",
     "text": [
      "{'max_depth': 8, 'min_samples_split': 40}\n",
      "17.02776167336989\n"
     ]
    }
   ],
   "source": [
    "# Initialize the model\n",
    "clf_after_split = DecisionTreeRegressor(random_state=42)\n",
    "\n",
    "# Use cross validation\n",
    "params = {'max_depth':range(1,11), 'min_samples_split':range(10,60,10)}\n",
    "\n",
    "# Create GridSearchCV object\n",
    "clf_gs_after_split = GridSearchCV(estimator=clf_after_split, cv=5, param_grid=params, scoring='neg_mean_squared_error')\n",
    "\n",
    "# Fit\n",
    "clf_gs_after_split.fit(X_train, y_train)\n",
    "\n",
    "# Print best params and best score\n",
    "print(clf_gs_after_split.best_params_)\n",
    "print(-clf_gs_after_split.best_score_)"
   ]
  },
  {
   "cell_type": "code",
   "execution_count": 19,
   "id": "2c0c6744",
   "metadata": {},
   "outputs": [
    {
     "name": "stdout",
     "output_type": "stream",
     "text": [
      "Train RMSE: 3.13\n",
      "Test RMSE: 4.45\n"
     ]
    }
   ],
   "source": [
    "# Check Tain and Test RMSE\n",
    "y_train_pred = clf_gs_after_split.predict(X_train)\n",
    "y_pred = clf_gs_after_split.predict(X_test)\n",
    "\n",
    "print('Train RMSE:', np.round(np.sqrt(metrics.mean_squared_error(y_train, y_train_pred)), 2))\n",
    "print('Test RMSE:', np.round(np.sqrt(metrics.mean_squared_error(y_test, y_pred)), 2))"
   ]
  },
  {
   "cell_type": "code",
   "execution_count": 20,
   "id": "3a27aaa4",
   "metadata": {},
   "outputs": [
    {
     "name": "stdout",
     "output_type": "stream",
     "text": [
      "Train r2 score: 84.6\n",
      "Test r2 score: 60.7\n"
     ]
    }
   ],
   "source": [
    "# Check r2 score\n",
    "print(\"Train r2 score:\", np.round(metrics.r2_score(y_train, y_train_pred)*100, 2))\n",
    "print(\"Test r2 score:\", np.round(metrics.r2_score(y_test, y_pred)*100, 2))"
   ]
  },
  {
   "cell_type": "markdown",
   "id": "af600453",
   "metadata": {},
   "source": [
    "The Test r2 score dropped to 60% after splitting the data. It did not generalize well on test data."
   ]
  },
  {
   "cell_type": "markdown",
   "id": "db25a7c5",
   "metadata": {},
   "source": [
    "**3) Are there outliers that influence the result? How can we minimize the impact of outliers?**"
   ]
  },
  {
   "cell_type": "code",
   "execution_count": 21,
   "id": "7d5616ce",
   "metadata": {},
   "outputs": [
    {
     "data": {
      "text/html": [
       "<div>\n",
       "<style scoped>\n",
       "    .dataframe tbody tr th:only-of-type {\n",
       "        vertical-align: middle;\n",
       "    }\n",
       "\n",
       "    .dataframe tbody tr th {\n",
       "        vertical-align: top;\n",
       "    }\n",
       "\n",
       "    .dataframe thead th {\n",
       "        text-align: right;\n",
       "    }\n",
       "</style>\n",
       "<table border=\"1\" class=\"dataframe\">\n",
       "  <thead>\n",
       "    <tr style=\"text-align: right;\">\n",
       "      <th></th>\n",
       "      <th>displacement</th>\n",
       "      <th>hp</th>\n",
       "      <th>weight</th>\n",
       "      <th>acceleration</th>\n",
       "      <th>origin_1</th>\n",
       "      <th>origin_2</th>\n",
       "      <th>origin_3</th>\n",
       "      <th>cylinders_3</th>\n",
       "      <th>cylinders_4</th>\n",
       "      <th>cylinders_5</th>\n",
       "      <th>cylinders_6</th>\n",
       "      <th>cylinders_8</th>\n",
       "    </tr>\n",
       "  </thead>\n",
       "  <tbody>\n",
       "    <tr>\n",
       "      <th>360</th>\n",
       "      <td>145.0</td>\n",
       "      <td>76.0</td>\n",
       "      <td>3160</td>\n",
       "      <td>19.6</td>\n",
       "      <td>0</td>\n",
       "      <td>1</td>\n",
       "      <td>0</td>\n",
       "      <td>0</td>\n",
       "      <td>0</td>\n",
       "      <td>0</td>\n",
       "      <td>1</td>\n",
       "      <td>0</td>\n",
       "    </tr>\n",
       "    <tr>\n",
       "      <th>239</th>\n",
       "      <td>97.0</td>\n",
       "      <td>67.0</td>\n",
       "      <td>1985</td>\n",
       "      <td>16.4</td>\n",
       "      <td>0</td>\n",
       "      <td>0</td>\n",
       "      <td>1</td>\n",
       "      <td>0</td>\n",
       "      <td>1</td>\n",
       "      <td>0</td>\n",
       "      <td>0</td>\n",
       "      <td>0</td>\n",
       "    </tr>\n",
       "    <tr>\n",
       "      <th>370</th>\n",
       "      <td>112.0</td>\n",
       "      <td>85.0</td>\n",
       "      <td>2575</td>\n",
       "      <td>16.2</td>\n",
       "      <td>1</td>\n",
       "      <td>0</td>\n",
       "      <td>0</td>\n",
       "      <td>0</td>\n",
       "      <td>1</td>\n",
       "      <td>0</td>\n",
       "      <td>0</td>\n",
       "      <td>0</td>\n",
       "    </tr>\n",
       "    <tr>\n",
       "      <th>252</th>\n",
       "      <td>231.0</td>\n",
       "      <td>105.0</td>\n",
       "      <td>3535</td>\n",
       "      <td>19.2</td>\n",
       "      <td>1</td>\n",
       "      <td>0</td>\n",
       "      <td>0</td>\n",
       "      <td>0</td>\n",
       "      <td>0</td>\n",
       "      <td>0</td>\n",
       "      <td>1</td>\n",
       "      <td>0</td>\n",
       "    </tr>\n",
       "    <tr>\n",
       "      <th>211</th>\n",
       "      <td>168.0</td>\n",
       "      <td>120.0</td>\n",
       "      <td>3820</td>\n",
       "      <td>16.7</td>\n",
       "      <td>0</td>\n",
       "      <td>1</td>\n",
       "      <td>0</td>\n",
       "      <td>0</td>\n",
       "      <td>0</td>\n",
       "      <td>0</td>\n",
       "      <td>1</td>\n",
       "      <td>0</td>\n",
       "    </tr>\n",
       "  </tbody>\n",
       "</table>\n",
       "</div>"
      ],
      "text/plain": [
       "     displacement     hp  weight  acceleration  origin_1  origin_2  origin_3  \\\n",
       "360         145.0   76.0    3160          19.6         0         1         0   \n",
       "239          97.0   67.0    1985          16.4         0         0         1   \n",
       "370         112.0   85.0    2575          16.2         1         0         0   \n",
       "252         231.0  105.0    3535          19.2         1         0         0   \n",
       "211         168.0  120.0    3820          16.7         0         1         0   \n",
       "\n",
       "     cylinders_3  cylinders_4  cylinders_5  cylinders_6  cylinders_8  \n",
       "360            0            0            0            1            0  \n",
       "239            0            1            0            0            0  \n",
       "370            0            1            0            0            0  \n",
       "252            0            0            0            1            0  \n",
       "211            0            0            0            1            0  "
      ]
     },
     "execution_count": 21,
     "metadata": {},
     "output_type": "execute_result"
    }
   ],
   "source": [
    "X_train.head()"
   ]
  },
  {
   "cell_type": "code",
   "execution_count": 22,
   "id": "0fff0a9c",
   "metadata": {},
   "outputs": [],
   "source": [
    "# Outlier detection using LOF (Local Outlier Factor)\n",
    "from sklearn.neighbors import LocalOutlierFactor\n",
    "\n",
    "lof = LocalOutlierFactor(n_neighbors=20)\n",
    "\n",
    "X_train['lof'] = lof.fit_predict(X_train)\n",
    "X_train['negative_outlier_factor'] = lof.negative_outlier_factor_\n",
    "\n",
    "X_train_without_outliers = X_train[~(X_train['negative_outlier_factor'] <= -1.5)] #excluding outliers "
   ]
  },
  {
   "cell_type": "code",
   "execution_count": 23,
   "id": "9e68c785",
   "metadata": {},
   "outputs": [
    {
     "data": {
      "text/plain": [
       "(286, 14)"
      ]
     },
     "execution_count": 23,
     "metadata": {},
     "output_type": "execute_result"
    }
   ],
   "source": [
    "X_train_without_outliers.shape"
   ]
  },
  {
   "cell_type": "code",
   "execution_count": 24,
   "id": "289702ca",
   "metadata": {},
   "outputs": [
    {
     "data": {
      "text/plain": [
       "(286,)"
      ]
     },
     "execution_count": 24,
     "metadata": {},
     "output_type": "execute_result"
    }
   ],
   "source": [
    "# Similarly exclude outliers for y_train also\n",
    "y_train_without_outliers = y_train[X_train_without_outliers.index]\n",
    "\n",
    "# Check shape\n",
    "y_train_without_outliers.shape"
   ]
  },
  {
   "cell_type": "code",
   "execution_count": 25,
   "id": "e9d5860f",
   "metadata": {},
   "outputs": [],
   "source": [
    "# Lets drop lof and negative_outlier_factor as these are not actual variables in the given dataset\n",
    "X_train_without_outliers.drop(['lof', 'negative_outlier_factor'], axis=1, inplace=True)"
   ]
  },
  {
   "cell_type": "code",
   "execution_count": 26,
   "id": "94e4f6ea",
   "metadata": {},
   "outputs": [
    {
     "name": "stdout",
     "output_type": "stream",
     "text": [
      "{'max_depth': 6, 'min_samples_split': 30}\n",
      "17.973939913578565\n"
     ]
    }
   ],
   "source": [
    "# Initialize the model\n",
    "clf_without_outliers = DecisionTreeRegressor(random_state=42)\n",
    "\n",
    "# Use cross validation\n",
    "params = {'max_depth':range(1,11), 'min_samples_split':range(10,60,10)}\n",
    "\n",
    "# Create GridSearchCV object\n",
    "clf_gs_without_outliers = GridSearchCV(estimator=clf_without_outliers, cv=5, param_grid=params, scoring='neg_mean_squared_error')\n",
    "\n",
    "# Fit\n",
    "clf_gs_without_outliers.fit(X_train_without_outliers, y_train_without_outliers)\n",
    "\n",
    "# Print best params and best score\n",
    "print(clf_gs_without_outliers.best_params_)\n",
    "print(-clf_gs_without_outliers.best_score_)"
   ]
  },
  {
   "cell_type": "code",
   "execution_count": 27,
   "id": "ef66adce",
   "metadata": {},
   "outputs": [
    {
     "name": "stdout",
     "output_type": "stream",
     "text": [
      "Train RMSE: 3.01\n",
      "Test RMSE: 4.9\n"
     ]
    }
   ],
   "source": [
    "# Check Tain and Test RMSE\n",
    "y_train_without_outliers_pred = clf_gs_without_outliers.predict(X_train_without_outliers)\n",
    "y_pred = clf_gs_without_outliers.predict(X_test)\n",
    "\n",
    "print('Train RMSE:', np.round(np.sqrt(metrics.mean_squared_error(y_train_without_outliers, y_train_without_outliers_pred)), 2))\n",
    "print('Test RMSE:', np.round(np.sqrt(metrics.mean_squared_error(y_test, y_pred)), 2))"
   ]
  },
  {
   "cell_type": "code",
   "execution_count": 28,
   "id": "272ea40a",
   "metadata": {},
   "outputs": [
    {
     "name": "stdout",
     "output_type": "stream",
     "text": [
      "Train r2 score after outlier removal: 85.02\n",
      "Test r2 score after outlier removal: 52.33\n"
     ]
    }
   ],
   "source": [
    "# Check r2 score\n",
    "print(\"Train r2 score after outlier removal:\", np.round(metrics.r2_score(y_train_without_outliers, y_train_without_outliers_pred)*100, 2))\n",
    "print(\"Test r2 score after outlier removal:\", np.round(metrics.r2_score(y_test, y_pred)*100, 2))"
   ]
  },
  {
   "cell_type": "markdown",
   "id": "cdcefb0b",
   "metadata": {},
   "source": [
    "The model performed worst than the model before removal of outliers."
   ]
  }
 ],
 "metadata": {
  "kernelspec": {
   "display_name": "Python 3 (ipykernel)",
   "language": "python",
   "name": "python3"
  },
  "language_info": {
   "codemirror_mode": {
    "name": "ipython",
    "version": 3
   },
   "file_extension": ".py",
   "mimetype": "text/x-python",
   "name": "python",
   "nbconvert_exporter": "python",
   "pygments_lexer": "ipython3",
   "version": "3.7.13"
  }
 },
 "nbformat": 4,
 "nbformat_minor": 5
}
