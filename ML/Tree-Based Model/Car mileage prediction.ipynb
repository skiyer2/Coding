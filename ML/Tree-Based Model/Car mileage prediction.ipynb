{
 "cells": [
  {
   "cell_type": "markdown",
   "id": "26175469",
   "metadata": {},
   "source": [
    "We are interested in understanding what impacts the mileage of cars. 400 cars were measured and its data is available in the file.\n",
    "\n",
    "1) Train a decision tree and identify features that impact the mileage of cars. Note that cylinders though numerical can take only specific values, and origin is categorical.<br>\n",
    "2) How good the prediction would be if we use 300 cars and test it for the rest of the data.<br>\n",
    "3) Are there outliers that influence the result? How can we minimize the impact of outliers?"
   ]
  },
  {
   "cell_type": "code",
   "execution_count": 1,
   "id": "01526bf9",
   "metadata": {},
   "outputs": [],
   "source": [
    "# Import libraries\n",
    "import numpy as np\n",
    "import pandas as pd\n",
    "import matplotlib.pyplot as plt\n",
    "import seaborn as sns\n",
    "\n",
    "from sklearn.tree import DecisionTreeRegressor, export_text\n",
    "from sklearn.model_selection import train_test_split, GridSearchCV\n",
    "\n",
    "import warnings\n",
    "warnings.filterwarnings('ignore')"
   ]
  },
  {
   "cell_type": "code",
   "execution_count": 2,
   "id": "55a38cd5",
   "metadata": {},
   "outputs": [
    {
     "data": {
      "text/html": [
       "<div>\n",
       "<style scoped>\n",
       "    .dataframe tbody tr th:only-of-type {\n",
       "        vertical-align: middle;\n",
       "    }\n",
       "\n",
       "    .dataframe tbody tr th {\n",
       "        vertical-align: top;\n",
       "    }\n",
       "\n",
       "    .dataframe thead th {\n",
       "        text-align: right;\n",
       "    }\n",
       "</style>\n",
       "<table border=\"1\" class=\"dataframe\">\n",
       "  <thead>\n",
       "    <tr style=\"text-align: right;\">\n",
       "      <th></th>\n",
       "      <th>cylinders</th>\n",
       "      <th>displacement</th>\n",
       "      <th>hp</th>\n",
       "      <th>weight</th>\n",
       "      <th>acceleration</th>\n",
       "      <th>origin</th>\n",
       "      <th>mpg</th>\n",
       "    </tr>\n",
       "  </thead>\n",
       "  <tbody>\n",
       "    <tr>\n",
       "      <th>0</th>\n",
       "      <td>8</td>\n",
       "      <td>307.0</td>\n",
       "      <td>130</td>\n",
       "      <td>3504</td>\n",
       "      <td>12.0</td>\n",
       "      <td>1</td>\n",
       "      <td>18.0</td>\n",
       "    </tr>\n",
       "    <tr>\n",
       "      <th>1</th>\n",
       "      <td>8</td>\n",
       "      <td>350.0</td>\n",
       "      <td>165</td>\n",
       "      <td>3693</td>\n",
       "      <td>11.5</td>\n",
       "      <td>1</td>\n",
       "      <td>15.0</td>\n",
       "    </tr>\n",
       "    <tr>\n",
       "      <th>2</th>\n",
       "      <td>8</td>\n",
       "      <td>318.0</td>\n",
       "      <td>150</td>\n",
       "      <td>3436</td>\n",
       "      <td>11.0</td>\n",
       "      <td>1</td>\n",
       "      <td>18.0</td>\n",
       "    </tr>\n",
       "    <tr>\n",
       "      <th>3</th>\n",
       "      <td>8</td>\n",
       "      <td>304.0</td>\n",
       "      <td>150</td>\n",
       "      <td>3433</td>\n",
       "      <td>12.0</td>\n",
       "      <td>1</td>\n",
       "      <td>16.0</td>\n",
       "    </tr>\n",
       "    <tr>\n",
       "      <th>4</th>\n",
       "      <td>8</td>\n",
       "      <td>302.0</td>\n",
       "      <td>140</td>\n",
       "      <td>3449</td>\n",
       "      <td>10.5</td>\n",
       "      <td>1</td>\n",
       "      <td>17.0</td>\n",
       "    </tr>\n",
       "  </tbody>\n",
       "</table>\n",
       "</div>"
      ],
      "text/plain": [
       "   cylinders  displacement   hp  weight  acceleration  origin   mpg\n",
       "0          8         307.0  130    3504          12.0       1  18.0\n",
       "1          8         350.0  165    3693          11.5       1  15.0\n",
       "2          8         318.0  150    3436          11.0       1  18.0\n",
       "3          8         304.0  150    3433          12.0       1  16.0\n",
       "4          8         302.0  140    3449          10.5       1  17.0"
      ]
     },
     "execution_count": 2,
     "metadata": {},
     "output_type": "execute_result"
    }
   ],
   "source": [
    "# Load data\n",
    "mileage = pd.read_csv('C:/Users/Karthik.Iyer/Downloads/AccelerateAI/Tree-Based-Models-main/06_Car_mileage.csv')\n",
    "mileage.head()"
   ]
  },
  {
   "cell_type": "code",
   "execution_count": 3,
   "id": "a84f2c4a",
   "metadata": {},
   "outputs": [
    {
     "name": "stdout",
     "output_type": "stream",
     "text": [
      "<class 'pandas.core.frame.DataFrame'>\n",
      "RangeIndex: 398 entries, 0 to 397\n",
      "Data columns (total 7 columns):\n",
      " #   Column        Non-Null Count  Dtype  \n",
      "---  ------        --------------  -----  \n",
      " 0   cylinders     398 non-null    int64  \n",
      " 1   displacement  398 non-null    float64\n",
      " 2   hp            398 non-null    object \n",
      " 3   weight        398 non-null    int64  \n",
      " 4   acceleration  398 non-null    float64\n",
      " 5   origin        398 non-null    int64  \n",
      " 6   mpg           398 non-null    float64\n",
      "dtypes: float64(3), int64(3), object(1)\n",
      "memory usage: 21.9+ KB\n"
     ]
    }
   ],
   "source": [
    "# Check info\n",
    "mileage.info()"
   ]
  },
  {
   "cell_type": "code",
   "execution_count": 4,
   "id": "836e6d0c",
   "metadata": {},
   "outputs": [
    {
     "data": {
      "text/plain": [
       "cylinders       0\n",
       "displacement    0\n",
       "hp              0\n",
       "weight          0\n",
       "acceleration    0\n",
       "origin          0\n",
       "mpg             0\n",
       "dtype: int64"
      ]
     },
     "execution_count": 4,
     "metadata": {},
     "output_type": "execute_result"
    }
   ],
   "source": [
    "# Check missing values\n",
    "mileage.isnull().sum()"
   ]
  },
  {
   "cell_type": "code",
   "execution_count": 5,
   "id": "07388682",
   "metadata": {
    "scrolled": true
   },
   "outputs": [],
   "source": [
    "# hp is incorrectly stored as object, lets convert it into numeric\n",
    "mileage['hp'] = pd.to_numeric(mileage['hp'], errors='coerce')\n",
    "mileage.dropna(inplace=True)"
   ]
  },
  {
   "cell_type": "code",
   "execution_count": 6,
   "id": "889bc891",
   "metadata": {},
   "outputs": [
    {
     "data": {
      "text/plain": [
       "1    245\n",
       "3     79\n",
       "2     68\n",
       "Name: origin, dtype: int64"
      ]
     },
     "execution_count": 6,
     "metadata": {},
     "output_type": "execute_result"
    }
   ],
   "source": [
    "# Lets check origin\n",
    "mileage['origin'].value_counts()"
   ]
  },
  {
   "cell_type": "code",
   "execution_count": 7,
   "id": "2894835b",
   "metadata": {},
   "outputs": [
    {
     "data": {
      "text/html": [
       "<div>\n",
       "<style scoped>\n",
       "    .dataframe tbody tr th:only-of-type {\n",
       "        vertical-align: middle;\n",
       "    }\n",
       "\n",
       "    .dataframe tbody tr th {\n",
       "        vertical-align: top;\n",
       "    }\n",
       "\n",
       "    .dataframe thead th {\n",
       "        text-align: right;\n",
       "    }\n",
       "</style>\n",
       "<table border=\"1\" class=\"dataframe\">\n",
       "  <thead>\n",
       "    <tr style=\"text-align: right;\">\n",
       "      <th></th>\n",
       "      <th>displacement</th>\n",
       "      <th>hp</th>\n",
       "      <th>weight</th>\n",
       "      <th>acceleration</th>\n",
       "      <th>mpg</th>\n",
       "      <th>origin_1</th>\n",
       "      <th>origin_2</th>\n",
       "      <th>origin_3</th>\n",
       "      <th>cylinders_3</th>\n",
       "      <th>cylinders_4</th>\n",
       "      <th>cylinders_5</th>\n",
       "      <th>cylinders_6</th>\n",
       "      <th>cylinders_8</th>\n",
       "    </tr>\n",
       "  </thead>\n",
       "  <tbody>\n",
       "    <tr>\n",
       "      <th>0</th>\n",
       "      <td>307.0</td>\n",
       "      <td>130.0</td>\n",
       "      <td>3504</td>\n",
       "      <td>12.0</td>\n",
       "      <td>18.0</td>\n",
       "      <td>1</td>\n",
       "      <td>0</td>\n",
       "      <td>0</td>\n",
       "      <td>0</td>\n",
       "      <td>0</td>\n",
       "      <td>0</td>\n",
       "      <td>0</td>\n",
       "      <td>1</td>\n",
       "    </tr>\n",
       "    <tr>\n",
       "      <th>1</th>\n",
       "      <td>350.0</td>\n",
       "      <td>165.0</td>\n",
       "      <td>3693</td>\n",
       "      <td>11.5</td>\n",
       "      <td>15.0</td>\n",
       "      <td>1</td>\n",
       "      <td>0</td>\n",
       "      <td>0</td>\n",
       "      <td>0</td>\n",
       "      <td>0</td>\n",
       "      <td>0</td>\n",
       "      <td>0</td>\n",
       "      <td>1</td>\n",
       "    </tr>\n",
       "    <tr>\n",
       "      <th>2</th>\n",
       "      <td>318.0</td>\n",
       "      <td>150.0</td>\n",
       "      <td>3436</td>\n",
       "      <td>11.0</td>\n",
       "      <td>18.0</td>\n",
       "      <td>1</td>\n",
       "      <td>0</td>\n",
       "      <td>0</td>\n",
       "      <td>0</td>\n",
       "      <td>0</td>\n",
       "      <td>0</td>\n",
       "      <td>0</td>\n",
       "      <td>1</td>\n",
       "    </tr>\n",
       "    <tr>\n",
       "      <th>3</th>\n",
       "      <td>304.0</td>\n",
       "      <td>150.0</td>\n",
       "      <td>3433</td>\n",
       "      <td>12.0</td>\n",
       "      <td>16.0</td>\n",
       "      <td>1</td>\n",
       "      <td>0</td>\n",
       "      <td>0</td>\n",
       "      <td>0</td>\n",
       "      <td>0</td>\n",
       "      <td>0</td>\n",
       "      <td>0</td>\n",
       "      <td>1</td>\n",
       "    </tr>\n",
       "    <tr>\n",
       "      <th>4</th>\n",
       "      <td>302.0</td>\n",
       "      <td>140.0</td>\n",
       "      <td>3449</td>\n",
       "      <td>10.5</td>\n",
       "      <td>17.0</td>\n",
       "      <td>1</td>\n",
       "      <td>0</td>\n",
       "      <td>0</td>\n",
       "      <td>0</td>\n",
       "      <td>0</td>\n",
       "      <td>0</td>\n",
       "      <td>0</td>\n",
       "      <td>1</td>\n",
       "    </tr>\n",
       "  </tbody>\n",
       "</table>\n",
       "</div>"
      ],
      "text/plain": [
       "   displacement     hp  weight  acceleration   mpg  origin_1  origin_2  \\\n",
       "0         307.0  130.0    3504          12.0  18.0         1         0   \n",
       "1         350.0  165.0    3693          11.5  15.0         1         0   \n",
       "2         318.0  150.0    3436          11.0  18.0         1         0   \n",
       "3         304.0  150.0    3433          12.0  16.0         1         0   \n",
       "4         302.0  140.0    3449          10.5  17.0         1         0   \n",
       "\n",
       "   origin_3  cylinders_3  cylinders_4  cylinders_5  cylinders_6  cylinders_8  \n",
       "0         0            0            0            0            0            1  \n",
       "1         0            0            0            0            0            1  \n",
       "2         0            0            0            0            0            1  \n",
       "3         0            0            0            0            0            1  \n",
       "4         0            0            0            0            0            1  "
      ]
     },
     "execution_count": 7,
     "metadata": {},
     "output_type": "execute_result"
    }
   ],
   "source": [
    "# Given origin is categorical, lets convert it into dummies. Also cylinders even though numerical, can take only specific values\n",
    "# So cylinders is discrete. Hence we will create dummies for cylinders also\n",
    "mileage_onehot = pd.get_dummies(mileage, columns=['origin', 'cylinders'])\n",
    "mileage_onehot.head()"
   ]
  },
  {
   "cell_type": "code",
   "execution_count": 8,
   "id": "ba647e00",
   "metadata": {},
   "outputs": [
    {
     "name": "stdout",
     "output_type": "stream",
     "text": [
      "<class 'pandas.core.frame.DataFrame'>\n",
      "Int64Index: 392 entries, 0 to 397\n",
      "Data columns (total 13 columns):\n",
      " #   Column        Non-Null Count  Dtype  \n",
      "---  ------        --------------  -----  \n",
      " 0   displacement  392 non-null    float64\n",
      " 1   hp            392 non-null    float64\n",
      " 2   weight        392 non-null    int64  \n",
      " 3   acceleration  392 non-null    float64\n",
      " 4   mpg           392 non-null    float64\n",
      " 5   origin_1      392 non-null    uint8  \n",
      " 6   origin_2      392 non-null    uint8  \n",
      " 7   origin_3      392 non-null    uint8  \n",
      " 8   cylinders_3   392 non-null    uint8  \n",
      " 9   cylinders_4   392 non-null    uint8  \n",
      " 10  cylinders_5   392 non-null    uint8  \n",
      " 11  cylinders_6   392 non-null    uint8  \n",
      " 12  cylinders_8   392 non-null    uint8  \n",
      "dtypes: float64(4), int64(1), uint8(8)\n",
      "memory usage: 21.4 KB\n"
     ]
    }
   ],
   "source": [
    "# Lets check the data types again\n",
    "mileage_onehot.info()"
   ]
  },
  {
   "cell_type": "markdown",
   "id": "f65196c2",
   "metadata": {},
   "source": [
    "**1) Train a decision tree and identify features that impact the mileage of cars. Note that cylinders though numerical can take only specific values, and origin is categorical.**"
   ]
  },
  {
   "cell_type": "code",
   "execution_count": 9,
   "id": "bd686779",
   "metadata": {},
   "outputs": [
    {
     "data": {
      "text/plain": [
       "DecisionTreeRegressor(random_state=42)"
      ]
     },
     "execution_count": 9,
     "metadata": {},
     "output_type": "execute_result"
    }
   ],
   "source": [
    "# Prepare X and y\n",
    "X = mileage_onehot.drop('mpg', axis=1)\n",
    "y = mileage_onehot['mpg']\n",
    "\n",
    "# Initialize the model\n",
    "clf = DecisionTreeRegressor(random_state=42)\n",
    "\n",
    "# Fit the model\n",
    "clf.fit(X, y)"
   ]
  },
  {
   "cell_type": "code",
   "execution_count": 10,
   "id": "7f169a78",
   "metadata": {},
   "outputs": [
    {
     "data": {
      "text/plain": [
       "displacement    0.620411\n",
       "hp              0.210490\n",
       "weight          0.062547\n",
       "acceleration    0.080866\n",
       "origin_1        0.000093\n",
       "origin_2        0.007862\n",
       "origin_3        0.004859\n",
       "cylinders_3     0.000000\n",
       "cylinders_4     0.000037\n",
       "cylinders_5     0.001584\n",
       "cylinders_6     0.011253\n",
       "cylinders_8     0.000000\n",
       "dtype: float64"
      ]
     },
     "execution_count": 10,
     "metadata": {},
     "output_type": "execute_result"
    }
   ],
   "source": [
    "# feature that impact car mileage\n",
    "pd.Series(clf.feature_importances_, index=X.columns)"
   ]
  },
  {
   "cell_type": "markdown",
   "id": "93ca20b6",
   "metadata": {},
   "source": [
    "**The 4 variables that impact car mileage are engine displacement, hp, weigh and acceleration of the car.**"
   ]
  },
  {
   "cell_type": "markdown",
   "id": "2f11cfb3",
   "metadata": {},
   "source": [
    "**2) How good the prediction would be if we use 300 cars and test it for the rest of the data.**"
   ]
  },
  {
   "cell_type": "code",
   "execution_count": 11,
   "id": "afa2cfb0",
   "metadata": {},
   "outputs": [],
   "source": [
    "# Split the data\n",
    "X_train = X.iloc[:300,:]\n",
    "y_train = y.iloc[:300]\n",
    "\n",
    "X_test = X.iloc[300:,:]\n",
    "y_test = y.iloc[300:]"
   ]
  },
  {
   "cell_type": "code",
   "execution_count": 12,
   "id": "8e4d8420",
   "metadata": {},
   "outputs": [
    {
     "name": "stdout",
     "output_type": "stream",
     "text": [
      "(300, 12)\n",
      "(300,)\n",
      "(92, 12)\n",
      "(92,)\n"
     ]
    }
   ],
   "source": [
    "# Check shape\n",
    "print(X_train.shape)\n",
    "print(y_train.shape)\n",
    "print(X_test.shape)\n",
    "print(y_test.shape)"
   ]
  },
  {
   "cell_type": "code",
   "execution_count": 13,
   "id": "1cd1fa98",
   "metadata": {},
   "outputs": [
    {
     "name": "stdout",
     "output_type": "stream",
     "text": [
      "{'max_depth': 2, 'min_samples_split': 10}\n",
      "0.751200648170116\n"
     ]
    }
   ],
   "source": [
    "# Initialize the model\n",
    "clf_after_split = DecisionTreeRegressor(random_state=42)\n",
    "\n",
    "# Use cross validation\n",
    "params = {'max_depth':range(1,11), 'min_samples_split':range(10,60,10)}\n",
    "\n",
    "# Create GridSearchCV object\n",
    "clf_gs_after_split = GridSearchCV(estimator=clf_after_split, cv=5, param_grid=params)\n",
    "\n",
    "# Fit\n",
    "clf_gs_after_split.fit(X_train, y_train)\n",
    "\n",
    "# Print best params and best score\n",
    "print(clf_gs_after_split.best_params_)\n",
    "print(clf_gs_after_split.best_score_)"
   ]
  },
  {
   "cell_type": "code",
   "execution_count": 14,
   "id": "5b57809d",
   "metadata": {},
   "outputs": [
    {
     "data": {
      "text/plain": [
       "-0.7847393001959428"
      ]
     },
     "execution_count": 14,
     "metadata": {},
     "output_type": "execute_result"
    }
   ],
   "source": [
    "# Check score on test data\n",
    "clf_gs_after_split.score(X_test, y_test)"
   ]
  },
  {
   "cell_type": "markdown",
   "id": "e5ef9798",
   "metadata": {},
   "source": [
    "**The score comes out to be negative !. Lets check the presence of outliers**"
   ]
  },
  {
   "cell_type": "markdown",
   "id": "db25a7c5",
   "metadata": {},
   "source": [
    "**3) Are there outliers that influence the result? How can we minimize the impact of outliers?**"
   ]
  },
  {
   "cell_type": "code",
   "execution_count": 15,
   "id": "7e801f5c",
   "metadata": {},
   "outputs": [
    {
     "data": {
      "text/plain": [
       "<AxesSubplot:xlabel='mpg', ylabel='Density'>"
      ]
     },
     "execution_count": 15,
     "metadata": {},
     "output_type": "execute_result"
    },
    {
     "data": {
      "image/png": "[encoded data removed]",
      "text/plain": [
       "<Figure size 432x288 with 1 Axes>"
      ]
     },
     "metadata": {
      "needs_background": "light"
     },
     "output_type": "display_data"
    }
   ],
   "source": [
    "# Lets check distribution of y\n",
    "sns.kdeplot(y)"
   ]
  },
  {
   "cell_type": "markdown",
   "id": "ff2c4b1a",
   "metadata": {},
   "source": [
    "**MPG is positively skewed. There might be outliers that influence the score**"
   ]
  },
  {
   "cell_type": "code",
   "execution_count": 16,
   "id": "0f5c6ae8",
   "metadata": {},
   "outputs": [
    {
     "data": {
      "text/plain": [
       "<matplotlib.legend.Legend at 0x20c37573e08>"
      ]
     },
     "execution_count": 16,
     "metadata": {},
     "output_type": "execute_result"
    },
    {
     "data": {
      "image/png": "[encoded data removed]",
      "text/plain": [
       "<Figure size 432x288 with 1 Axes>"
      ]
     },
     "metadata": {
      "needs_background": "light"
     },
     "output_type": "display_data"
    }
   ],
   "source": [
    "# Check the distribution of y on both train and test set\n",
    "sns.kdeplot(y_train, color='blue', label='Train')\n",
    "sns.kdeplot(y_test, color='red', label='Test')\n",
    "plt.legend()"
   ]
  },
  {
   "cell_type": "markdown",
   "id": "665d525b",
   "metadata": {},
   "source": [
    "**Clearly two distributions do not match. Hence we get low score on test**"
   ]
  },
  {
   "cell_type": "markdown",
   "id": "91bad069",
   "metadata": {},
   "source": [
    "**We can do the following:**\n",
    "\n",
    "1. Take random samples for Train and Test\n",
    "2. Use MAE or Friedman MSE as the criterion for splitting\n",
    "3. Treat the outliers when possible"
   ]
  },
  {
   "cell_type": "code",
   "execution_count": 17,
   "id": "240959a7",
   "metadata": {},
   "outputs": [
    {
     "data": {
      "text/plain": [
       "GridSearchCV(cv=5, estimator=DecisionTreeRegressor(),\n",
       "             param_grid={'criterion': ['mse', 'friedman_mse', 'mae'],\n",
       "                         'max_depth': [5, 10, 15],\n",
       "                         'min_samples_leaf': [10, 15, 20],\n",
       "                         'min_samples_split': [5, 10, 15, 20]})"
      ]
     },
     "execution_count": 17,
     "metadata": {},
     "output_type": "execute_result"
    }
   ],
   "source": [
    "# Lets check 1 and 2\n",
    "X_train, X_test, y_train, y_test = train_test_split(X, y, test_size=0.25, random_state=1)\n",
    "\n",
    "params = {'min_samples_split' : [5,10,15,20],\n",
    "          'min_samples_leaf' : [10,15,20],\n",
    "          'max_depth' : [5,10,15],\n",
    "          'criterion' : ['mse', 'friedman_mse', 'mae']}\n",
    "\n",
    "clf_gs = GridSearchCV(DecisionTreeRegressor(), cv=5, param_grid=params)\n",
    "clf_gs.fit(X_train, y_train)"
   ]
  },
  {
   "cell_type": "code",
   "execution_count": 18,
   "id": "6d78d5f6",
   "metadata": {},
   "outputs": [
    {
     "data": {
      "text/plain": [
       "({'criterion': 'mae',\n",
       "  'max_depth': 5,\n",
       "  'min_samples_leaf': 10,\n",
       "  'min_samples_split': 5},\n",
       " 0.7334069195260706)"
      ]
     },
     "execution_count": 18,
     "metadata": {},
     "output_type": "execute_result"
    }
   ],
   "source": [
    "clf_gs.best_params_, clf_gs.best_score_"
   ]
  },
  {
   "cell_type": "code",
   "execution_count": 19,
   "id": "4965e4e4",
   "metadata": {},
   "outputs": [
    {
     "data": {
      "text/plain": [
       "0.6922149507908725"
      ]
     },
     "execution_count": 19,
     "metadata": {},
     "output_type": "execute_result"
    }
   ],
   "source": [
    "clf_gs.score(X_test, y_test)"
   ]
  },
  {
   "cell_type": "markdown",
   "id": "66bc3d58",
   "metadata": {},
   "source": [
    "**The train and test scores are closer now**"
   ]
  },
  {
   "cell_type": "code",
   "execution_count": 20,
   "id": "31c89401",
   "metadata": {},
   "outputs": [
    {
     "data": {
      "image/png": "[encoded data removed]",
      "text/plain": [
       "<Figure size 432x288 with 1 Axes>"
      ]
     },
     "metadata": {
      "needs_background": "light"
     },
     "output_type": "display_data"
    }
   ],
   "source": [
    "# Lets check the distribution\n",
    "sns.kdeplot(y_train, color='blue', label='Train')\n",
    "sns.kdeplot(y_test, color='red', label='Test')\n",
    "plt.legend()\n",
    "plt.show()"
   ]
  },
  {
   "cell_type": "markdown",
   "id": "90c4aa7b",
   "metadata": {},
   "source": [
    "**The distribution of target y for both train and test are closer now**"
   ]
  }
 ],
 "metadata": {
  "kernelspec": {
   "display_name": "Python 3 (ipykernel)",
   "language": "python",
   "name": "python3"
  },
  "language_info": {
   "codemirror_mode": {
    "name": "ipython",
    "version": 3
   },
   "file_extension": ".py",
   "mimetype": "text/x-python",
   "name": "python",
   "nbconvert_exporter": "python",
   "pygments_lexer": "ipython3",
   "version": "3.7.13"
  }
 },
 "nbformat": 4,
 "nbformat_minor": 5
}
