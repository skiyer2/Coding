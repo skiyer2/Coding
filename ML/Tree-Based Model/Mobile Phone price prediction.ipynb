{
 "cells": [
  {
   "cell_type": "markdown",
   "id": "bc6b4f72",
   "metadata": {},
   "source": [
    "We want to predict of mobile phone (range) based on the characteristics of the phone like memory, battery power, camera specification etc. The data for about 2000 phones is provided.\n",
    "\n",
    "1) Train a decision tree to predict the price category.<br>\n",
    "    a) What is the best score we get? Use 10 fold CV<br>\n",
    "    b) What are the best tree parameters<br>\n",
    "    c) Which variable come out to be important\n",
    "    \n",
    "2) Now train a Random Forest classifier. How does the score compare with decision tree?"
   ]
  },
  {
   "cell_type": "code",
   "execution_count": 1,
   "id": "9834708f",
   "metadata": {},
   "outputs": [],
   "source": [
    "# Import libraries\n",
    "import numpy as np\n",
    "import pandas as pd\n",
    "import matplotlib.pyplot as plt\n",
    "import seaborn as sns\n",
    "\n",
    "from sklearn.tree import DecisionTreeClassifier, plot_tree\n",
    "from sklearn.model_selection import train_test_split, GridSearchCV\n",
    "\n",
    "import warnings\n",
    "warnings.filterwarnings('ignore')\n",
    "\n",
    "pd.set_option('display.max_columns', None)"
   ]
  },
  {
   "cell_type": "code",
   "execution_count": 2,
   "id": "d04dfb24",
   "metadata": {},
   "outputs": [
    {
     "data": {
      "text/html": [
       "<div>\n",
       "<style scoped>\n",
       "    .dataframe tbody tr th:only-of-type {\n",
       "        vertical-align: middle;\n",
       "    }\n",
       "\n",
       "    .dataframe tbody tr th {\n",
       "        vertical-align: top;\n",
       "    }\n",
       "\n",
       "    .dataframe thead th {\n",
       "        text-align: right;\n",
       "    }\n",
       "</style>\n",
       "<table border=\"1\" class=\"dataframe\">\n",
       "  <thead>\n",
       "    <tr style=\"text-align: right;\">\n",
       "      <th></th>\n",
       "      <th>battery_power</th>\n",
       "      <th>blue</th>\n",
       "      <th>clock_speed</th>\n",
       "      <th>dual_sim</th>\n",
       "      <th>frontcamera</th>\n",
       "      <th>Has4G</th>\n",
       "      <th>memory</th>\n",
       "      <th>mobile_thickness</th>\n",
       "      <th>mobile_wt</th>\n",
       "      <th>n_cores</th>\n",
       "      <th>primarycamera_mp</th>\n",
       "      <th>px_height</th>\n",
       "      <th>px_width</th>\n",
       "      <th>ram</th>\n",
       "      <th>screen_height</th>\n",
       "      <th>screen_width</th>\n",
       "      <th>talk_time</th>\n",
       "      <th>Has3G</th>\n",
       "      <th>touch_screen</th>\n",
       "      <th>wifi</th>\n",
       "      <th>price_range</th>\n",
       "    </tr>\n",
       "  </thead>\n",
       "  <tbody>\n",
       "    <tr>\n",
       "      <th>0</th>\n",
       "      <td>842</td>\n",
       "      <td>0</td>\n",
       "      <td>2.2</td>\n",
       "      <td>0</td>\n",
       "      <td>1</td>\n",
       "      <td>0</td>\n",
       "      <td>7</td>\n",
       "      <td>0.6</td>\n",
       "      <td>188</td>\n",
       "      <td>2</td>\n",
       "      <td>2</td>\n",
       "      <td>20</td>\n",
       "      <td>756</td>\n",
       "      <td>2549</td>\n",
       "      <td>9</td>\n",
       "      <td>7</td>\n",
       "      <td>19</td>\n",
       "      <td>0</td>\n",
       "      <td>0</td>\n",
       "      <td>1</td>\n",
       "      <td>1</td>\n",
       "    </tr>\n",
       "    <tr>\n",
       "      <th>1</th>\n",
       "      <td>1021</td>\n",
       "      <td>1</td>\n",
       "      <td>0.5</td>\n",
       "      <td>1</td>\n",
       "      <td>0</td>\n",
       "      <td>1</td>\n",
       "      <td>53</td>\n",
       "      <td>0.7</td>\n",
       "      <td>136</td>\n",
       "      <td>3</td>\n",
       "      <td>6</td>\n",
       "      <td>905</td>\n",
       "      <td>1988</td>\n",
       "      <td>2631</td>\n",
       "      <td>17</td>\n",
       "      <td>3</td>\n",
       "      <td>7</td>\n",
       "      <td>1</td>\n",
       "      <td>1</td>\n",
       "      <td>0</td>\n",
       "      <td>2</td>\n",
       "    </tr>\n",
       "    <tr>\n",
       "      <th>2</th>\n",
       "      <td>563</td>\n",
       "      <td>1</td>\n",
       "      <td>0.5</td>\n",
       "      <td>1</td>\n",
       "      <td>2</td>\n",
       "      <td>1</td>\n",
       "      <td>41</td>\n",
       "      <td>0.9</td>\n",
       "      <td>145</td>\n",
       "      <td>5</td>\n",
       "      <td>6</td>\n",
       "      <td>1263</td>\n",
       "      <td>1716</td>\n",
       "      <td>2603</td>\n",
       "      <td>11</td>\n",
       "      <td>2</td>\n",
       "      <td>9</td>\n",
       "      <td>1</td>\n",
       "      <td>1</td>\n",
       "      <td>0</td>\n",
       "      <td>2</td>\n",
       "    </tr>\n",
       "    <tr>\n",
       "      <th>3</th>\n",
       "      <td>615</td>\n",
       "      <td>1</td>\n",
       "      <td>2.5</td>\n",
       "      <td>0</td>\n",
       "      <td>0</td>\n",
       "      <td>0</td>\n",
       "      <td>10</td>\n",
       "      <td>0.8</td>\n",
       "      <td>131</td>\n",
       "      <td>6</td>\n",
       "      <td>9</td>\n",
       "      <td>1216</td>\n",
       "      <td>1786</td>\n",
       "      <td>2769</td>\n",
       "      <td>16</td>\n",
       "      <td>8</td>\n",
       "      <td>11</td>\n",
       "      <td>1</td>\n",
       "      <td>0</td>\n",
       "      <td>0</td>\n",
       "      <td>2</td>\n",
       "    </tr>\n",
       "    <tr>\n",
       "      <th>4</th>\n",
       "      <td>1821</td>\n",
       "      <td>1</td>\n",
       "      <td>1.2</td>\n",
       "      <td>0</td>\n",
       "      <td>13</td>\n",
       "      <td>1</td>\n",
       "      <td>44</td>\n",
       "      <td>0.6</td>\n",
       "      <td>141</td>\n",
       "      <td>2</td>\n",
       "      <td>14</td>\n",
       "      <td>1208</td>\n",
       "      <td>1212</td>\n",
       "      <td>1411</td>\n",
       "      <td>8</td>\n",
       "      <td>2</td>\n",
       "      <td>15</td>\n",
       "      <td>1</td>\n",
       "      <td>1</td>\n",
       "      <td>0</td>\n",
       "      <td>1</td>\n",
       "    </tr>\n",
       "  </tbody>\n",
       "</table>\n",
       "</div>"
      ],
      "text/plain": [
       "   battery_power  blue  clock_speed  dual_sim  frontcamera  Has4G  memory  \\\n",
       "0            842     0          2.2         0            1      0       7   \n",
       "1           1021     1          0.5         1            0      1      53   \n",
       "2            563     1          0.5         1            2      1      41   \n",
       "3            615     1          2.5         0            0      0      10   \n",
       "4           1821     1          1.2         0           13      1      44   \n",
       "\n",
       "   mobile_thickness  mobile_wt  n_cores  primarycamera_mp  px_height  \\\n",
       "0               0.6        188        2                 2         20   \n",
       "1               0.7        136        3                 6        905   \n",
       "2               0.9        145        5                 6       1263   \n",
       "3               0.8        131        6                 9       1216   \n",
       "4               0.6        141        2                14       1208   \n",
       "\n",
       "   px_width   ram  screen_height  screen_width  talk_time  Has3G  \\\n",
       "0       756  2549              9             7         19      0   \n",
       "1      1988  2631             17             3          7      1   \n",
       "2      1716  2603             11             2          9      1   \n",
       "3      1786  2769             16             8         11      1   \n",
       "4      1212  1411              8             2         15      1   \n",
       "\n",
       "   touch_screen  wifi  price_range  \n",
       "0             0     1            1  \n",
       "1             1     0            2  \n",
       "2             1     0            2  \n",
       "3             0     0            2  \n",
       "4             1     0            1  "
      ]
     },
     "execution_count": 2,
     "metadata": {},
     "output_type": "execute_result"
    }
   ],
   "source": [
    "# Load data\n",
    "df = pd.read_csv('C:/Users/Karthik.Iyer/Downloads/AccelerateAI/Tree-Based-Models-main/09_mobile_price.csv')\n",
    "df.head()"
   ]
  },
  {
   "cell_type": "code",
   "execution_count": 3,
   "id": "7c339a9e",
   "metadata": {},
   "outputs": [
    {
     "data": {
      "text/plain": [
       "(2000, 21)"
      ]
     },
     "execution_count": 3,
     "metadata": {},
     "output_type": "execute_result"
    }
   ],
   "source": [
    "# Check shape\n",
    "df.shape"
   ]
  },
  {
   "cell_type": "code",
   "execution_count": 4,
   "id": "59d15f4a",
   "metadata": {},
   "outputs": [
    {
     "name": "stdout",
     "output_type": "stream",
     "text": [
      "<class 'pandas.core.frame.DataFrame'>\n",
      "RangeIndex: 2000 entries, 0 to 1999\n",
      "Data columns (total 21 columns):\n",
      " #   Column            Non-Null Count  Dtype  \n",
      "---  ------            --------------  -----  \n",
      " 0   battery_power     2000 non-null   int64  \n",
      " 1   blue              2000 non-null   int64  \n",
      " 2   clock_speed       2000 non-null   float64\n",
      " 3   dual_sim          2000 non-null   int64  \n",
      " 4   frontcamera       2000 non-null   int64  \n",
      " 5   Has4G             2000 non-null   int64  \n",
      " 6   memory            2000 non-null   int64  \n",
      " 7   mobile_thickness  2000 non-null   float64\n",
      " 8   mobile_wt         2000 non-null   int64  \n",
      " 9   n_cores           2000 non-null   int64  \n",
      " 10  primarycamera_mp  2000 non-null   int64  \n",
      " 11  px_height         2000 non-null   int64  \n",
      " 12  px_width          2000 non-null   int64  \n",
      " 13  ram               2000 non-null   int64  \n",
      " 14  screen_height     2000 non-null   int64  \n",
      " 15  screen_width      2000 non-null   int64  \n",
      " 16  talk_time         2000 non-null   int64  \n",
      " 17  Has3G             2000 non-null   int64  \n",
      " 18  touch_screen      2000 non-null   int64  \n",
      " 19  wifi              2000 non-null   int64  \n",
      " 20  price_range       2000 non-null   int64  \n",
      "dtypes: float64(2), int64(19)\n",
      "memory usage: 328.2 KB\n"
     ]
    }
   ],
   "source": [
    "# Check info\n",
    "df.info()"
   ]
  },
  {
   "cell_type": "code",
   "execution_count": 5,
   "id": "35e59c78",
   "metadata": {},
   "outputs": [
    {
     "data": {
      "text/plain": [
       "({'criterion': 'gini', 'max_depth': 9, 'min_samples_split': 10}, 0.843125)"
      ]
     },
     "execution_count": 5,
     "metadata": {},
     "output_type": "execute_result"
    }
   ],
   "source": [
    "# Prepare X and y\n",
    "X = df.drop('price_range', axis=1)\n",
    "y = df['price_range']\n",
    "\n",
    "# Split data\n",
    "X_train, X_test, y_train, y_test = train_test_split(X, y, train_size=0.8, random_state=42)\n",
    "\n",
    "# Define parameters\n",
    "params = {'criterion' : ['gini'],\n",
    "          'max_depth' : range(1,40),\n",
    "          'min_samples_split' : range(10,60,10)}\n",
    "\n",
    "# GridSearch\n",
    "clf_gs = GridSearchCV(DecisionTreeClassifier(), cv=10, param_grid=params)\n",
    "\n",
    "# Fit the model\n",
    "clf_gs.fit(X_train, y_train)\n",
    "\n",
    "# Print score\n",
    "clf_gs.best_params_, clf_gs.best_score_"
   ]
  },
  {
   "cell_type": "code",
   "execution_count": 6,
   "id": "5f3f31c6",
   "metadata": {},
   "outputs": [
    {
     "data": {
      "text/plain": [
       "0.825"
      ]
     },
     "execution_count": 6,
     "metadata": {},
     "output_type": "execute_result"
    }
   ],
   "source": [
    "# Check accuracy on test set\n",
    "clf_gs.score(X_test, y_test)"
   ]
  },
  {
   "cell_type": "markdown",
   "id": "9cc57b81",
   "metadata": {},
   "source": [
    "**The train and test accuracies are closer with 84% on train set and 82% on test set.**\n",
    "\n",
    "**The best parameters:**<br>\n",
    "**({'criterion': 'gini', 'max_depth': 10, 'min_samples_split': 10}**"
   ]
  },
  {
   "cell_type": "code",
   "execution_count": 7,
   "id": "b2de2877",
   "metadata": {},
   "outputs": [],
   "source": [
    "# Lets just fit the model to check only feature importance\n",
    "clf = DecisionTreeClassifier(criterion='gini')\n",
    "\n",
    "clf = clf.fit(X_train, y_train)"
   ]
  },
  {
   "cell_type": "code",
   "execution_count": 8,
   "id": "533ae26b",
   "metadata": {},
   "outputs": [
    {
     "data": {
      "text/plain": [
       "ram                 0.631534\n",
       "battery_power       0.127918\n",
       "px_height           0.077523\n",
       "px_width            0.071451\n",
       "mobile_wt           0.014626\n",
       "talk_time           0.013258\n",
       "n_cores             0.011215\n",
       "frontcamera         0.009986\n",
       "clock_speed         0.009939\n",
       "primarycamera_mp    0.009333\n",
       "mobile_thickness    0.007442\n",
       "screen_width        0.003888\n",
       "screen_height       0.003555\n",
       "memory              0.003529\n",
       "blue                0.001607\n",
       "dual_sim            0.001250\n",
       "wifi                0.001111\n",
       "Has3G               0.000833\n",
       "Has4G               0.000000\n",
       "touch_screen        0.000000\n",
       "dtype: float64"
      ]
     },
     "execution_count": 8,
     "metadata": {},
     "output_type": "execute_result"
    }
   ],
   "source": [
    "# Feature importance\n",
    "pd.Series(clf.feature_importances_, index=X_train.columns).sort_values(ascending=False)"
   ]
  },
  {
   "cell_type": "markdown",
   "id": "f5d7047f",
   "metadata": {},
   "source": [
    "**RAM, Battery Power, Pixel Height and Width, Weight of Mobile, No. of cores and Speed of Clock are the important features impacting the price category of Mobile.**"
   ]
  },
  {
   "cell_type": "code",
   "execution_count": 9,
   "id": "525bb8eb",
   "metadata": {},
   "outputs": [],
   "source": [
    "# Lets fit random forest\n",
    "from sklearn.ensemble import RandomForestClassifier"
   ]
  },
  {
   "cell_type": "code",
   "execution_count": 10,
   "id": "e15315e9",
   "metadata": {},
   "outputs": [
    {
     "data": {
      "text/plain": [
       "({'criterion': 'gini', 'max_depth': 25, 'min_samples_split': 10},\n",
       " 0.8768750000000001)"
      ]
     },
     "execution_count": 10,
     "metadata": {},
     "output_type": "execute_result"
    }
   ],
   "source": [
    "# Lets define same parameters\n",
    "params = {'criterion' : ['gini'],\n",
    "          'max_depth' : range(1,40),\n",
    "          'min_samples_split' : range(10,60,10)}\n",
    "\n",
    "# GridSearch\n",
    "clf_gs = GridSearchCV(RandomForestClassifier(n_jobs=-1, n_estimators=100), cv=10, param_grid=params)\n",
    "\n",
    "# Fit the model\n",
    "clf_gs.fit(X_train, y_train)\n",
    "\n",
    "# Print score\n",
    "clf_gs.best_params_, clf_gs.best_score_"
   ]
  },
  {
   "cell_type": "code",
   "execution_count": 11,
   "id": "b864c460",
   "metadata": {},
   "outputs": [
    {
     "data": {
      "text/plain": [
       "0.8825"
      ]
     },
     "execution_count": 11,
     "metadata": {},
     "output_type": "execute_result"
    }
   ],
   "source": [
    "# Check accuracy on test set\n",
    "clf_gs.score(X_test, y_test)"
   ]
  },
  {
   "cell_type": "markdown",
   "id": "588ec531",
   "metadata": {},
   "source": [
    "**Both the Train Accuracy and Test Accuracy improved to 87% and 90%**"
   ]
  }
 ],
 "metadata": {
  "kernelspec": {
   "display_name": "Python 3 (ipykernel)",
   "language": "python",
   "name": "python3"
  },
  "language_info": {
   "codemirror_mode": {
    "name": "ipython",
    "version": 3
   },
   "file_extension": ".py",
   "mimetype": "text/x-python",
   "name": "python",
   "nbconvert_exporter": "python",
   "pygments_lexer": "ipython3",
   "version": "3.7.13"
  }
 },
 "nbformat": 4,
 "nbformat_minor": 5
}
