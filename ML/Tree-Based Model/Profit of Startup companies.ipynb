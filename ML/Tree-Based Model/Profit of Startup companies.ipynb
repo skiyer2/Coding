{
 "cells": [
  {
   "cell_type": "markdown",
   "id": "bce20cb5",
   "metadata": {},
   "source": [
    "Data pertaining to the startup companies is provided below. Train a decision tree to predict the profit of the companies based on other variables.\n",
    "\n",
    "Does the state in which the startup is impact its profit?"
   ]
  },
  {
   "cell_type": "code",
   "execution_count": 1,
   "id": "ff13a29b",
   "metadata": {},
   "outputs": [],
   "source": [
    "# Import libraries\n",
    "import numpy as np\n",
    "import pandas as pd\n",
    "import matplotlib.pyplot as plt\n",
    "\n",
    "from sklearn.tree import DecisionTreeRegressor, plot_tree, export_text\n",
    "from cubist import Cubist"
   ]
  },
  {
   "cell_type": "code",
   "execution_count": 2,
   "id": "61fe73b5",
   "metadata": {},
   "outputs": [
    {
     "data": {
      "text/html": [
       "<div>\n",
       "<style scoped>\n",
       "    .dataframe tbody tr th:only-of-type {\n",
       "        vertical-align: middle;\n",
       "    }\n",
       "\n",
       "    .dataframe tbody tr th {\n",
       "        vertical-align: top;\n",
       "    }\n",
       "\n",
       "    .dataframe thead th {\n",
       "        text-align: right;\n",
       "    }\n",
       "</style>\n",
       "<table border=\"1\" class=\"dataframe\">\n",
       "  <thead>\n",
       "    <tr style=\"text-align: right;\">\n",
       "      <th></th>\n",
       "      <th>R&amp;D Spend</th>\n",
       "      <th>Administration</th>\n",
       "      <th>Marketing Spend</th>\n",
       "      <th>State</th>\n",
       "      <th>Profit</th>\n",
       "    </tr>\n",
       "  </thead>\n",
       "  <tbody>\n",
       "    <tr>\n",
       "      <th>0</th>\n",
       "      <td>165349.20</td>\n",
       "      <td>136897.80</td>\n",
       "      <td>471784.10</td>\n",
       "      <td>New York</td>\n",
       "      <td>192261.83</td>\n",
       "    </tr>\n",
       "    <tr>\n",
       "      <th>1</th>\n",
       "      <td>162597.70</td>\n",
       "      <td>151377.59</td>\n",
       "      <td>443898.53</td>\n",
       "      <td>California</td>\n",
       "      <td>191792.06</td>\n",
       "    </tr>\n",
       "    <tr>\n",
       "      <th>2</th>\n",
       "      <td>153441.51</td>\n",
       "      <td>101145.55</td>\n",
       "      <td>407934.54</td>\n",
       "      <td>Florida</td>\n",
       "      <td>191050.39</td>\n",
       "    </tr>\n",
       "    <tr>\n",
       "      <th>3</th>\n",
       "      <td>144372.41</td>\n",
       "      <td>118671.85</td>\n",
       "      <td>383199.62</td>\n",
       "      <td>New York</td>\n",
       "      <td>182901.99</td>\n",
       "    </tr>\n",
       "    <tr>\n",
       "      <th>4</th>\n",
       "      <td>142107.34</td>\n",
       "      <td>91391.77</td>\n",
       "      <td>366168.42</td>\n",
       "      <td>Florida</td>\n",
       "      <td>166187.94</td>\n",
       "    </tr>\n",
       "  </tbody>\n",
       "</table>\n",
       "</div>"
      ],
      "text/plain": [
       "   R&D Spend  Administration  Marketing Spend       State     Profit\n",
       "0  165349.20       136897.80        471784.10    New York  192261.83\n",
       "1  162597.70       151377.59        443898.53  California  191792.06\n",
       "2  153441.51       101145.55        407934.54     Florida  191050.39\n",
       "3  144372.41       118671.85        383199.62    New York  182901.99\n",
       "4  142107.34        91391.77        366168.42     Florida  166187.94"
      ]
     },
     "execution_count": 2,
     "metadata": {},
     "output_type": "execute_result"
    }
   ],
   "source": [
    "# Load data\n",
    "startup = pd.read_csv('C:/Users/Karthik.Iyer/Downloads/AccelerateAI/Tree-Based-Models-main/05_Startups_profit.csv')\n",
    "startup.head()"
   ]
  },
  {
   "cell_type": "code",
   "execution_count": 3,
   "id": "857568b5",
   "metadata": {},
   "outputs": [
    {
     "name": "stdout",
     "output_type": "stream",
     "text": [
      "<class 'pandas.core.frame.DataFrame'>\n",
      "RangeIndex: 50 entries, 0 to 49\n",
      "Data columns (total 5 columns):\n",
      " #   Column           Non-Null Count  Dtype  \n",
      "---  ------           --------------  -----  \n",
      " 0   R&D Spend        50 non-null     float64\n",
      " 1   Administration   50 non-null     float64\n",
      " 2   Marketing Spend  50 non-null     float64\n",
      " 3   State            50 non-null     object \n",
      " 4   Profit           50 non-null     float64\n",
      "dtypes: float64(4), object(1)\n",
      "memory usage: 2.1+ KB\n"
     ]
    }
   ],
   "source": [
    "# Check info\n",
    "startup.info()"
   ]
  },
  {
   "cell_type": "code",
   "execution_count": 4,
   "id": "738e47ef",
   "metadata": {},
   "outputs": [
    {
     "data": {
      "text/html": [
       "<div>\n",
       "<style scoped>\n",
       "    .dataframe tbody tr th:only-of-type {\n",
       "        vertical-align: middle;\n",
       "    }\n",
       "\n",
       "    .dataframe tbody tr th {\n",
       "        vertical-align: top;\n",
       "    }\n",
       "\n",
       "    .dataframe thead th {\n",
       "        text-align: right;\n",
       "    }\n",
       "</style>\n",
       "<table border=\"1\" class=\"dataframe\">\n",
       "  <thead>\n",
       "    <tr style=\"text-align: right;\">\n",
       "      <th></th>\n",
       "      <th>R&amp;D Spend</th>\n",
       "      <th>Administration</th>\n",
       "      <th>Marketing Spend</th>\n",
       "      <th>Profit</th>\n",
       "      <th>State_California</th>\n",
       "      <th>State_Florida</th>\n",
       "      <th>State_New York</th>\n",
       "    </tr>\n",
       "  </thead>\n",
       "  <tbody>\n",
       "    <tr>\n",
       "      <th>7</th>\n",
       "      <td>130298.13</td>\n",
       "      <td>145530.06</td>\n",
       "      <td>323876.68</td>\n",
       "      <td>155752.60</td>\n",
       "      <td>0</td>\n",
       "      <td>1</td>\n",
       "      <td>0</td>\n",
       "    </tr>\n",
       "    <tr>\n",
       "      <th>19</th>\n",
       "      <td>86419.70</td>\n",
       "      <td>153514.11</td>\n",
       "      <td>0.00</td>\n",
       "      <td>122776.86</td>\n",
       "      <td>0</td>\n",
       "      <td>0</td>\n",
       "      <td>1</td>\n",
       "    </tr>\n",
       "    <tr>\n",
       "      <th>25</th>\n",
       "      <td>64664.71</td>\n",
       "      <td>139553.16</td>\n",
       "      <td>137962.62</td>\n",
       "      <td>107404.34</td>\n",
       "      <td>1</td>\n",
       "      <td>0</td>\n",
       "      <td>0</td>\n",
       "    </tr>\n",
       "    <tr>\n",
       "      <th>16</th>\n",
       "      <td>78013.11</td>\n",
       "      <td>121597.55</td>\n",
       "      <td>264346.06</td>\n",
       "      <td>126992.93</td>\n",
       "      <td>1</td>\n",
       "      <td>0</td>\n",
       "      <td>0</td>\n",
       "    </tr>\n",
       "    <tr>\n",
       "      <th>48</th>\n",
       "      <td>542.05</td>\n",
       "      <td>51743.15</td>\n",
       "      <td>0.00</td>\n",
       "      <td>35673.41</td>\n",
       "      <td>0</td>\n",
       "      <td>0</td>\n",
       "      <td>1</td>\n",
       "    </tr>\n",
       "  </tbody>\n",
       "</table>\n",
       "</div>"
      ],
      "text/plain": [
       "    R&D Spend  Administration  Marketing Spend     Profit  State_California  \\\n",
       "7   130298.13       145530.06        323876.68  155752.60                 0   \n",
       "19   86419.70       153514.11             0.00  122776.86                 0   \n",
       "25   64664.71       139553.16        137962.62  107404.34                 1   \n",
       "16   78013.11       121597.55        264346.06  126992.93                 1   \n",
       "48     542.05        51743.15             0.00   35673.41                 0   \n",
       "\n",
       "    State_Florida  State_New York  \n",
       "7               1               0  \n",
       "19              0               1  \n",
       "25              0               0  \n",
       "16              0               0  \n",
       "48              0               1  "
      ]
     },
     "execution_count": 4,
     "metadata": {},
     "output_type": "execute_result"
    }
   ],
   "source": [
    "# Create dummies for categorical variable State\n",
    "startup_onehot = pd.get_dummies(startup, columns=['State'])\n",
    "startup_onehot.sample(5)"
   ]
  },
  {
   "cell_type": "code",
   "execution_count": 5,
   "id": "82e646ea",
   "metadata": {},
   "outputs": [],
   "source": [
    "# Train the model usin CART Regression Tree\n",
    "X = startup_onehot.drop('Profit', axis=1)\n",
    "y = startup_onehot['Profit']\n",
    "\n",
    "clf = DecisionTreeRegressor(random_state=42)\n",
    "clf = clf.fit(X,y)"
   ]
  },
  {
   "cell_type": "code",
   "execution_count": 6,
   "id": "a3abc231",
   "metadata": {},
   "outputs": [
    {
     "data": {
      "text/plain": [
       "8"
      ]
     },
     "execution_count": 6,
     "metadata": {},
     "output_type": "execute_result"
    }
   ],
   "source": [
    "# Tree depth\n",
    "clf.get_depth()"
   ]
  },
  {
   "cell_type": "code",
   "execution_count": 7,
   "id": "a35c4b01",
   "metadata": {},
   "outputs": [
    {
     "name": "stdout",
     "output_type": "stream",
     "text": [
      "|--- feature_0 <= 77528.56\n",
      "|   |--- feature_0 <= 25766.92\n",
      "|   |   |--- feature_0 <= 771.14\n",
      "|   |   |   |--- feature_2 <= 22586.53\n",
      "|   |   |   |   |--- feature_3 <= 0.50\n",
      "|   |   |   |   |   |--- value: [35673.41]\n",
      "|   |   |   |   |--- feature_3 >  0.50\n",
      "|   |   |   |   |   |--- value: [42559.73]\n",
      "|   |   |   |--- feature_2 >  22586.53\n",
      "|   |   |   |   |--- value: [14681.40]\n",
      "|   |   |--- feature_0 >  771.14\n",
      "|   |   |   |--- feature_2 <= 241189.78\n",
      "|   |   |   |   |--- feature_2 <= 166633.10\n",
      "|   |   |   |   |   |--- feature_2 <= 31934.45\n",
      "|   |   |   |   |   |   |--- feature_1 <= 139479.59\n",
      "|   |   |   |   |   |   |   |--- value: [64926.08]\n",
      "|   |   |   |   |   |   |--- feature_1 >  139479.59\n",
      "|   |   |   |   |   |   |   |--- value: [65200.33]\n",
      "|   |   |   |   |   |--- feature_2 >  31934.45\n",
      "|   |   |   |   |   |   |--- feature_2 <= 91767.64\n",
      "|   |   |   |   |   |   |   |--- value: [69758.98]\n",
      "|   |   |   |   |   |   |--- feature_2 >  91767.64\n",
      "|   |   |   |   |   |   |   |--- value: [71498.49]\n",
      "|   |   |   |   |--- feature_2 >  166633.10\n",
      "|   |   |   |   |   |--- value: [81229.06]\n",
      "|   |   |   |--- feature_2 >  241189.78\n",
      "|   |   |   |   |--- value: [49490.75]\n",
      "|   |--- feature_0 >  25766.92\n",
      "|   |   |--- feature_0 <= 45041.98\n",
      "|   |   |   |--- feature_2 <= 186014.36\n",
      "|   |   |   |   |--- feature_0 <= 33656.42\n",
      "|   |   |   |   |   |--- feature_0 <= 28323.62\n",
      "|   |   |   |   |   |   |--- value: [77798.83]\n",
      "|   |   |   |   |   |--- feature_0 >  28323.62\n",
      "|   |   |   |   |   |   |--- value: [78239.91]\n",
      "|   |   |   |   |--- feature_0 >  33656.42\n",
      "|   |   |   |   |   |--- value: [81005.76]\n",
      "|   |   |   |--- feature_2 >  186014.36\n",
      "|   |   |   |   |--- feature_1 <= 89169.68\n",
      "|   |   |   |   |   |--- value: [89949.14]\n",
      "|   |   |   |   |--- feature_1 >  89169.68\n",
      "|   |   |   |   |   |--- value: [90708.19]\n",
      "|   |   |--- feature_0 >  45041.98\n",
      "|   |   |   |--- feature_0 <= 64036.79\n",
      "|   |   |   |   |--- feature_0 <= 61565.43\n",
      "|   |   |   |   |   |--- feature_0 <= 58315.16\n",
      "|   |   |   |   |   |   |--- feature_2 <= 208157.66\n",
      "|   |   |   |   |   |   |   |--- value: [96479.51]\n",
      "|   |   |   |   |   |   |--- feature_2 >  208157.66\n",
      "|   |   |   |   |   |   |   |--- feature_3 <= 0.50\n",
      "|   |   |   |   |   |   |   |   |--- value: [96778.92]\n",
      "|   |   |   |   |   |   |   |--- feature_3 >  0.50\n",
      "|   |   |   |   |   |   |   |   |--- value: [96712.80]\n",
      "|   |   |   |   |   |--- feature_0 >  58315.16\n",
      "|   |   |   |   |   |   |--- value: [97483.56]\n",
      "|   |   |   |   |--- feature_0 >  61565.43\n",
      "|   |   |   |   |   |--- feature_0 <= 62701.67\n",
      "|   |   |   |   |   |   |--- value: [99937.59]\n",
      "|   |   |   |   |   |--- feature_0 >  62701.67\n",
      "|   |   |   |   |   |   |--- value: [97427.84]\n",
      "|   |   |   |--- feature_0 >  64036.79\n",
      "|   |   |   |   |--- feature_1 <= 125323.65\n",
      "|   |   |   |   |   |--- feature_3 <= 0.50\n",
      "|   |   |   |   |   |   |--- feature_1 <= 114266.89\n",
      "|   |   |   |   |   |   |   |--- feature_2 <= 222671.77\n",
      "|   |   |   |   |   |   |   |   |--- value: [108552.04]\n",
      "|   |   |   |   |   |   |   |--- feature_2 >  222671.77\n",
      "|   |   |   |   |   |   |   |   |--- value: [108733.99]\n",
      "|   |   |   |   |   |   |--- feature_1 >  114266.89\n",
      "|   |   |   |   |   |   |   |--- value: [110352.25]\n",
      "|   |   |   |   |   |--- feature_3 >  0.50\n",
      "|   |   |   |   |   |   |--- value: [118474.03]\n",
      "|   |   |   |   |--- feature_1 >  125323.65\n",
      "|   |   |   |   |   |--- feature_1 <= 148584.02\n",
      "|   |   |   |   |   |   |--- feature_3 <= 0.50\n",
      "|   |   |   |   |   |   |   |--- feature_1 <= 136000.27\n",
      "|   |   |   |   |   |   |   |   |--- value: [105008.31]\n",
      "|   |   |   |   |   |   |   |--- feature_1 >  136000.27\n",
      "|   |   |   |   |   |   |   |   |--- value: [105733.54]\n",
      "|   |   |   |   |   |   |--- feature_3 >  0.50\n",
      "|   |   |   |   |   |   |   |--- value: [107404.34]\n",
      "|   |   |   |   |   |--- feature_1 >  148584.02\n",
      "|   |   |   |   |   |   |--- feature_4 <= 0.50\n",
      "|   |   |   |   |   |   |   |--- value: [101004.64]\n",
      "|   |   |   |   |   |   |--- feature_4 >  0.50\n",
      "|   |   |   |   |   |   |   |--- value: [103282.38]\n",
      "|--- feature_0 >  77528.56\n",
      "|   |--- feature_2 <= 364514.89\n",
      "|   |   |--- feature_0 <= 120242.88\n",
      "|   |   |   |--- feature_0 <= 91870.77\n",
      "|   |   |   |   |--- feature_2 <= 297328.42\n",
      "|   |   |   |   |   |--- feature_0 <= 82216.41\n",
      "|   |   |   |   |   |   |--- value: [126992.93]\n",
      "|   |   |   |   |   |--- feature_0 >  82216.41\n",
      "|   |   |   |   |   |   |--- feature_5 <= 0.50\n",
      "|   |   |   |   |   |   |   |--- value: [124266.90]\n",
      "|   |   |   |   |   |   |--- feature_5 >  0.50\n",
      "|   |   |   |   |   |   |   |--- value: [122776.86]\n",
      "|   |   |   |   |--- feature_2 >  297328.42\n",
      "|   |   |   |   |   |--- value: [111313.02]\n",
      "|   |   |   |--- feature_0 >  91870.77\n",
      "|   |   |   |   |--- feature_2 <= 251252.19\n",
      "|   |   |   |   |   |--- feature_2 <= 249791.99\n",
      "|   |   |   |   |   |   |--- feature_4 <= 0.50\n",
      "|   |   |   |   |   |   |   |--- value: [144259.40]\n",
      "|   |   |   |   |   |   |--- feature_4 >  0.50\n",
      "|   |   |   |   |   |   |   |--- value: [146121.95]\n",
      "|   |   |   |   |   |--- feature_2 >  249791.99\n",
      "|   |   |   |   |   |   |--- value: [141585.52]\n",
      "|   |   |   |   |--- feature_2 >  251252.19\n",
      "|   |   |   |   |   |--- feature_2 <= 272175.27\n",
      "|   |   |   |   |   |   |--- feature_1 <= 129055.95\n",
      "|   |   |   |   |   |   |   |--- value: [129917.04]\n",
      "|   |   |   |   |   |   |--- feature_1 >  129055.95\n",
      "|   |   |   |   |   |   |   |--- feature_3 <= 0.50\n",
      "|   |   |   |   |   |   |   |   |--- value: [132602.65]\n",
      "|   |   |   |   |   |   |   |--- feature_3 >  0.50\n",
      "|   |   |   |   |   |   |   |   |--- value: [134307.35]\n",
      "|   |   |   |   |   |--- feature_2 >  272175.27\n",
      "|   |   |   |   |   |   |--- value: [125370.37]\n",
      "|   |   |--- feature_0 >  120242.88\n",
      "|   |   |   |--- feature_0 <= 126816.51\n",
      "|   |   |   |   |--- feature_0 <= 121938.70\n",
      "|   |   |   |   |   |--- value: [152211.77]\n",
      "|   |   |   |   |--- feature_0 >  121938.70\n",
      "|   |   |   |   |   |--- value: [149759.96]\n",
      "|   |   |   |--- feature_0 >  126816.51\n",
      "|   |   |   |   |--- feature_1 <= 122672.39\n",
      "|   |   |   |   |   |--- value: [156991.12]\n",
      "|   |   |   |   |--- feature_1 >  122672.39\n",
      "|   |   |   |   |   |--- feature_1 <= 146364.47\n",
      "|   |   |   |   |   |   |--- value: [155752.60]\n",
      "|   |   |   |   |   |--- feature_1 >  146364.47\n",
      "|   |   |   |   |   |   |--- value: [156122.51]\n",
      "|   |--- feature_2 >  364514.89\n",
      "|   |   |--- feature_2 <= 374684.02\n",
      "|   |   |   |--- value: [166187.94]\n",
      "|   |   |--- feature_2 >  374684.02\n",
      "|   |   |   |--- feature_2 <= 395567.08\n",
      "|   |   |   |   |--- value: [182901.99]\n",
      "|   |   |   |--- feature_2 >  395567.08\n",
      "|   |   |   |   |--- feature_2 <= 425916.53\n",
      "|   |   |   |   |   |--- value: [191050.39]\n",
      "|   |   |   |   |--- feature_2 >  425916.53\n",
      "|   |   |   |   |   |--- feature_3 <= 0.50\n",
      "|   |   |   |   |   |   |--- value: [192261.83]\n",
      "|   |   |   |   |   |--- feature_3 >  0.50\n",
      "|   |   |   |   |   |   |--- value: [191792.06]\n",
      "\n"
     ]
    }
   ],
   "source": [
    "text_representation = export_text(clf)\n",
    "print(text_representation)"
   ]
  },
  {
   "cell_type": "code",
   "execution_count": 8,
   "id": "359996ac",
   "metadata": {},
   "outputs": [
    {
     "data": {
      "text/plain": [
       "1.0"
      ]
     },
     "execution_count": 8,
     "metadata": {},
     "output_type": "execute_result"
    }
   ],
   "source": [
    "# Calculate Accuracy\n",
    "clf.score(X,y)"
   ]
  },
  {
   "cell_type": "code",
   "execution_count": 9,
   "id": "d7cd06a7",
   "metadata": {},
   "outputs": [
    {
     "data": {
      "text/plain": [
       "R&D Spend           0.866580\n",
       "Administration      0.001761\n",
       "Marketing Spend     0.130431\n",
       "State_California    0.001160\n",
       "State_Florida       0.000054\n",
       "State_New York      0.000014\n",
       "dtype: float64"
      ]
     },
     "execution_count": 9,
     "metadata": {},
     "output_type": "execute_result"
    }
   ],
   "source": [
    "pd.Series(clf.feature_importances_, index=X.columns)"
   ]
  },
  {
   "cell_type": "code",
   "execution_count": 10,
   "id": "7223b2ac",
   "metadata": {},
   "outputs": [
    {
     "data": {
      "image/png": "[encoded data removed]",
      "text/plain": [
       "<Figure size 432x288 with 1 Axes>"
      ]
     },
     "metadata": {
      "needs_background": "light"
     },
     "output_type": "display_data"
    }
   ],
   "source": [
    "plt.figure(figsize=(6,4))\n",
    "plt.bar(np.arange(X.shape[1]), np.squeeze(np.abs(clf.feature_importances_)))\n",
    "plt.xticks(np.arange(X.shape[1]), ['R&D Spend', 'Administration', 'Marketing Spend', \n",
    "                                   'State_California', 'State_Florida', 'State_New York'],\n",
    "          rotation=90)\n",
    "plt.show()"
   ]
  },
  {
   "cell_type": "markdown",
   "id": "f9e7a2b0",
   "metadata": {},
   "source": [
    "**Does the state in which the startup is impact its profit?**\n",
    "\n",
    "The feature importance is almost 0 for State, hence do not impact the profit of startup"
   ]
  },
  {
   "cell_type": "code",
   "execution_count": 11,
   "id": "aa6405a1",
   "metadata": {},
   "outputs": [
    {
     "data": {
      "text/plain": [
       "Cubist(random_state=42)"
      ]
     },
     "execution_count": 11,
     "metadata": {},
     "output_type": "execute_result"
    }
   ],
   "source": [
    "# Cubist Model Tree\n",
    "cub_mod = Cubist(random_state=42)\n",
    "cub_mod.fit(X,y)"
   ]
  },
  {
   "cell_type": "code",
   "execution_count": 12,
   "id": "27a51296",
   "metadata": {},
   "outputs": [
    {
     "data": {
      "text/html": [
       "<div>\n",
       "<style scoped>\n",
       "    .dataframe tbody tr th:only-of-type {\n",
       "        vertical-align: middle;\n",
       "    }\n",
       "\n",
       "    .dataframe tbody tr th {\n",
       "        vertical-align: top;\n",
       "    }\n",
       "\n",
       "    .dataframe thead th {\n",
       "        text-align: right;\n",
       "    }\n",
       "</style>\n",
       "<table border=\"1\" class=\"dataframe\">\n",
       "  <thead>\n",
       "    <tr style=\"text-align: right;\">\n",
       "      <th></th>\n",
       "      <th>Conditions</th>\n",
       "      <th>Model</th>\n",
       "      <th>Variable</th>\n",
       "      <th>Conditions</th>\n",
       "      <th>Model</th>\n",
       "      <th>Variable</th>\n",
       "    </tr>\n",
       "  </thead>\n",
       "  <tbody>\n",
       "    <tr>\n",
       "      <th>0</th>\n",
       "      <td>0.0</td>\n",
       "      <td>100.0</td>\n",
       "      <td>Spend</td>\n",
       "      <td>0</td>\n",
       "      <td>0</td>\n",
       "      <td>Administration</td>\n",
       "    </tr>\n",
       "    <tr>\n",
       "      <th>1</th>\n",
       "      <td>0.0</td>\n",
       "      <td>100.0</td>\n",
       "      <td>Spend</td>\n",
       "      <td>0</td>\n",
       "      <td>0</td>\n",
       "      <td>State_California</td>\n",
       "    </tr>\n",
       "    <tr>\n",
       "      <th>2</th>\n",
       "      <td>NaN</td>\n",
       "      <td>NaN</td>\n",
       "      <td>NaN</td>\n",
       "      <td>0</td>\n",
       "      <td>0</td>\n",
       "      <td>State_New York</td>\n",
       "    </tr>\n",
       "    <tr>\n",
       "      <th>3</th>\n",
       "      <td>NaN</td>\n",
       "      <td>NaN</td>\n",
       "      <td>NaN</td>\n",
       "      <td>0</td>\n",
       "      <td>0</td>\n",
       "      <td>State_Florida</td>\n",
       "    </tr>\n",
       "    <tr>\n",
       "      <th>4</th>\n",
       "      <td>NaN</td>\n",
       "      <td>NaN</td>\n",
       "      <td>NaN</td>\n",
       "      <td>0</td>\n",
       "      <td>0</td>\n",
       "      <td>Marketing Spend</td>\n",
       "    </tr>\n",
       "    <tr>\n",
       "      <th>5</th>\n",
       "      <td>NaN</td>\n",
       "      <td>NaN</td>\n",
       "      <td>NaN</td>\n",
       "      <td>0</td>\n",
       "      <td>0</td>\n",
       "      <td>R&amp;D Spend</td>\n",
       "    </tr>\n",
       "  </tbody>\n",
       "</table>\n",
       "</div>"
      ],
      "text/plain": [
       "   Conditions  Model Variable  Conditions  Model          Variable\n",
       "0         0.0  100.0    Spend           0      0    Administration\n",
       "1         0.0  100.0    Spend           0      0  State_California\n",
       "2         NaN    NaN      NaN           0      0    State_New York\n",
       "3         NaN    NaN      NaN           0      0     State_Florida\n",
       "4         NaN    NaN      NaN           0      0   Marketing Spend\n",
       "5         NaN    NaN      NaN           0      0         R&D Spend"
      ]
     },
     "execution_count": 12,
     "metadata": {},
     "output_type": "execute_result"
    }
   ],
   "source": [
    "cub_mod.feature_importances_"
   ]
  },
  {
   "cell_type": "code",
   "execution_count": 13,
   "id": "74117ade",
   "metadata": {},
   "outputs": [
    {
     "data": {
      "image/png": "[encoded data removed]",
      "text/plain": [
       "<Figure size 432x288 with 1 Axes>"
      ]
     },
     "metadata": {
      "needs_background": "light"
     },
     "output_type": "display_data"
    }
   ],
   "source": [
    "plt.figure(figsize=(6,4))\n",
    "importance = cub_mod.feature_importances_\n",
    "imp_last3_col = importance.iloc[:, -3:]\n",
    "plt.bar(imp_last3_col.Variable, imp_last3_col.Conditions)\n",
    "x_names = ['R&D Spend', 'Administration', 'Marketing Spend', 'State_California', 'State_Florida', 'State_New York']\n",
    "plt.xticks(imp_last3_col.Variable, x_names, rotation = 90)\n",
    "plt.show()"
   ]
  },
  {
   "cell_type": "code",
   "execution_count": 14,
   "id": "ca1ddaa3",
   "metadata": {},
   "outputs": [
    {
     "data": {
      "text/plain": [
       "0.95"
      ]
     },
     "execution_count": 14,
     "metadata": {},
     "output_type": "execute_result"
    }
   ],
   "source": [
    "# Calculate Accuracy\n",
    "np.round(cub_mod.score(X,y),2)"
   ]
  },
  {
   "cell_type": "code",
   "execution_count": 15,
   "id": "acdf65bf",
   "metadata": {},
   "outputs": [
    {
     "name": "stdout",
     "output_type": "stream",
     "text": [
      "None\n"
     ]
    }
   ],
   "source": [
    "print(cub_mod.rules_)"
   ]
  }
 ],
 "metadata": {
  "kernelspec": {
   "display_name": "Python 3 (ipykernel)",
   "language": "python",
   "name": "python3"
  },
  "language_info": {
   "codemirror_mode": {
    "name": "ipython",
    "version": 3
   },
   "file_extension": ".py",
   "mimetype": "text/x-python",
   "name": "python",
   "nbconvert_exporter": "python",
   "pygments_lexer": "ipython3",
   "version": "3.7.13"
  }
 },
 "nbformat": 4,
 "nbformat_minor": 5
}
