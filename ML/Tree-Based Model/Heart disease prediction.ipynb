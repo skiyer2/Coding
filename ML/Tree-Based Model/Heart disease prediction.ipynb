{
 "cells": [
  {
   "cell_type": "markdown",
   "id": "3f1b7a93",
   "metadata": {},
   "source": [
    "Medical records of 270 patients have been provided in the file.\n",
    "\n",
    "1) Find out variable importance using Decision Tree classifier to predict heart disease<br>\n",
    "2-a) Train a decision tree model to predict heart disease using only the top 5 important variables. Use entire data for training<br>\n",
    "2-b) What is the accuracy of the model with 5 fold cross validation"
   ]
  },
  {
   "cell_type": "code",
   "execution_count": 1,
   "id": "5c341677",
   "metadata": {},
   "outputs": [],
   "source": [
    "# Import libraries\n",
    "import numpy as np\n",
    "import pandas as pd\n",
    "import matplotlib.pyplot as plt\n",
    "\n",
    "from sklearn.tree import DecisionTreeClassifier"
   ]
  },
  {
   "cell_type": "code",
   "execution_count": 2,
   "id": "d5f55a2f",
   "metadata": {},
   "outputs": [
    {
     "data": {
      "text/html": [
       "<div>\n",
       "<style scoped>\n",
       "    .dataframe tbody tr th:only-of-type {\n",
       "        vertical-align: middle;\n",
       "    }\n",
       "\n",
       "    .dataframe tbody tr th {\n",
       "        vertical-align: top;\n",
       "    }\n",
       "\n",
       "    .dataframe thead th {\n",
       "        text-align: right;\n",
       "    }\n",
       "</style>\n",
       "<table border=\"1\" class=\"dataframe\">\n",
       "  <thead>\n",
       "    <tr style=\"text-align: right;\">\n",
       "      <th></th>\n",
       "      <th>age</th>\n",
       "      <th>sex</th>\n",
       "      <th>chest_pain_type</th>\n",
       "      <th>BP</th>\n",
       "      <th>cholestrol</th>\n",
       "      <th>bloodsugarlevel</th>\n",
       "      <th>ECG_result</th>\n",
       "      <th>Max_heart_rate</th>\n",
       "      <th>Angina</th>\n",
       "      <th>oldpeak</th>\n",
       "      <th>slopepeak</th>\n",
       "      <th>major_vessels</th>\n",
       "      <th>thal</th>\n",
       "      <th>disease</th>\n",
       "    </tr>\n",
       "  </thead>\n",
       "  <tbody>\n",
       "    <tr>\n",
       "      <th>0</th>\n",
       "      <td>70</td>\n",
       "      <td>1</td>\n",
       "      <td>4</td>\n",
       "      <td>130</td>\n",
       "      <td>322</td>\n",
       "      <td>0</td>\n",
       "      <td>2</td>\n",
       "      <td>109</td>\n",
       "      <td>0</td>\n",
       "      <td>2.4</td>\n",
       "      <td>2</td>\n",
       "      <td>3</td>\n",
       "      <td>3</td>\n",
       "      <td>1</td>\n",
       "    </tr>\n",
       "    <tr>\n",
       "      <th>1</th>\n",
       "      <td>67</td>\n",
       "      <td>0</td>\n",
       "      <td>3</td>\n",
       "      <td>115</td>\n",
       "      <td>564</td>\n",
       "      <td>0</td>\n",
       "      <td>2</td>\n",
       "      <td>160</td>\n",
       "      <td>0</td>\n",
       "      <td>1.6</td>\n",
       "      <td>2</td>\n",
       "      <td>0</td>\n",
       "      <td>7</td>\n",
       "      <td>0</td>\n",
       "    </tr>\n",
       "    <tr>\n",
       "      <th>2</th>\n",
       "      <td>57</td>\n",
       "      <td>1</td>\n",
       "      <td>2</td>\n",
       "      <td>124</td>\n",
       "      <td>261</td>\n",
       "      <td>0</td>\n",
       "      <td>0</td>\n",
       "      <td>141</td>\n",
       "      <td>0</td>\n",
       "      <td>0.3</td>\n",
       "      <td>1</td>\n",
       "      <td>0</td>\n",
       "      <td>7</td>\n",
       "      <td>1</td>\n",
       "    </tr>\n",
       "    <tr>\n",
       "      <th>3</th>\n",
       "      <td>64</td>\n",
       "      <td>1</td>\n",
       "      <td>4</td>\n",
       "      <td>128</td>\n",
       "      <td>263</td>\n",
       "      <td>0</td>\n",
       "      <td>0</td>\n",
       "      <td>105</td>\n",
       "      <td>1</td>\n",
       "      <td>0.2</td>\n",
       "      <td>2</td>\n",
       "      <td>1</td>\n",
       "      <td>7</td>\n",
       "      <td>0</td>\n",
       "    </tr>\n",
       "    <tr>\n",
       "      <th>4</th>\n",
       "      <td>74</td>\n",
       "      <td>0</td>\n",
       "      <td>2</td>\n",
       "      <td>120</td>\n",
       "      <td>269</td>\n",
       "      <td>0</td>\n",
       "      <td>2</td>\n",
       "      <td>121</td>\n",
       "      <td>1</td>\n",
       "      <td>0.2</td>\n",
       "      <td>1</td>\n",
       "      <td>1</td>\n",
       "      <td>3</td>\n",
       "      <td>0</td>\n",
       "    </tr>\n",
       "  </tbody>\n",
       "</table>\n",
       "</div>"
      ],
      "text/plain": [
       "   age  sex  chest_pain_type   BP  cholestrol  bloodsugarlevel  ECG_result  \\\n",
       "0   70    1                4  130         322                0           2   \n",
       "1   67    0                3  115         564                0           2   \n",
       "2   57    1                2  124         261                0           0   \n",
       "3   64    1                4  128         263                0           0   \n",
       "4   74    0                2  120         269                0           2   \n",
       "\n",
       "   Max_heart_rate  Angina  oldpeak   slopepeak  major_vessels  thal  disease  \n",
       "0             109       0       2.4          2              3     3        1  \n",
       "1             160       0       1.6          2              0     7        0  \n",
       "2             141       0       0.3          1              0     7        1  \n",
       "3             105       1       0.2          2              1     7        0  \n",
       "4             121       1       0.2          1              1     3        0  "
      ]
     },
     "execution_count": 2,
     "metadata": {},
     "output_type": "execute_result"
    }
   ],
   "source": [
    "# Load data\n",
    "heart_disease = pd.read_excel('C:/Users/Karthik.Iyer/Downloads/AccelerateAI/Tree-Based-Models-main/04_heart_disease.xlsx', sheet_name='data')\n",
    "heart_disease.head()"
   ]
  },
  {
   "cell_type": "code",
   "execution_count": 3,
   "id": "1bd1e5ba",
   "metadata": {},
   "outputs": [],
   "source": [
    "# Fit the model\n",
    "X = heart_disease.drop('disease', axis=1)\n",
    "y = heart_disease['disease']\n",
    "\n",
    "clf = DecisionTreeClassifier(criterion='gini')\n",
    "clf = clf.fit(X,y)"
   ]
  },
  {
   "cell_type": "code",
   "execution_count": 4,
   "id": "8d908fde",
   "metadata": {},
   "outputs": [
    {
     "data": {
      "text/plain": [
       "thal               0.279628\n",
       "major_vessels      0.154112\n",
       "cholestrol         0.087120\n",
       "chest_pain_type    0.081865\n",
       "age                0.074420\n",
       "oldpeak            0.061400\n",
       "BP                 0.054969\n",
       "Max_heart_rate     0.053225\n",
       "sex                0.046375\n",
       "Angina             0.045635\n",
       "slopepeak          0.035500\n",
       "ECG_result         0.025750\n",
       "bloodsugarlevel    0.000000\n",
       "dtype: float64"
      ]
     },
     "execution_count": 4,
     "metadata": {},
     "output_type": "execute_result"
    }
   ],
   "source": [
    "# Feature importance\n",
    "feature_imp = pd.Series(clf.feature_importances_, index=X.columns)\n",
    "feature_imp.sort_values(ascending=False,inplace=True)\n",
    "feature_imp"
   ]
  },
  {
   "cell_type": "code",
   "execution_count": 5,
   "id": "fb681b57",
   "metadata": {},
   "outputs": [
    {
     "data": {
      "text/plain": [
       "['thal', 'major_vessels', 'cholestrol', 'chest_pain_type', 'age']"
      ]
     },
     "execution_count": 5,
     "metadata": {},
     "output_type": "execute_result"
    }
   ],
   "source": [
    "# Top 5 features\n",
    "top_5 = list(feature_imp.index[:5])\n",
    "top_5"
   ]
  },
  {
   "cell_type": "code",
   "execution_count": 6,
   "id": "dd16326e",
   "metadata": {},
   "outputs": [],
   "source": [
    "# Train the model using only top 5 features\n",
    "X = heart_disease[top_5]\n",
    "y = heart_disease['disease']\n",
    "\n",
    "clf2 = DecisionTreeClassifier(criterion='gini')\n",
    "clf2 = clf2.fit(X,y)"
   ]
  },
  {
   "cell_type": "code",
   "execution_count": 7,
   "id": "510d873b",
   "metadata": {},
   "outputs": [
    {
     "data": {
      "text/plain": [
       "100.0"
      ]
     },
     "execution_count": 7,
     "metadata": {},
     "output_type": "execute_result"
    }
   ],
   "source": [
    "# Accuracy\n",
    "clf2.score(X,y)*100"
   ]
  },
  {
   "cell_type": "markdown",
   "id": "7900ef30",
   "metadata": {},
   "source": [
    "Accuracy on the entire training set without cross validation is 100%, indicating it is overfitting on the training data."
   ]
  },
  {
   "cell_type": "code",
   "execution_count": 8,
   "id": "4ec66001",
   "metadata": {},
   "outputs": [
    {
     "name": "stdout",
     "output_type": "stream",
     "text": [
      "Best Train Score: 84.44\n"
     ]
    }
   ],
   "source": [
    "# With cross validation\n",
    "clf3 = DecisionTreeClassifier(random_state=42)\n",
    "\n",
    "from sklearn.model_selection import GridSearchCV, StratifiedKFold\n",
    "\n",
    "# Create parameter grid\n",
    "params = {'criterion': ['gini'],'max_depth' : [2, 3, 5, 10, 20], 'min_samples_split' : [5, 10, 15, 20, 25, 30, 35, 40]}\n",
    "\n",
    "# Create 5 fold\n",
    "folds = StratifiedKFold(n_splits=5, shuffle=True, random_state=42)\n",
    "\n",
    "# Create gridsearch object\n",
    "gs = GridSearchCV(estimator=clf3, cv=folds, param_grid=params)\n",
    "\n",
    "# Fit the model\n",
    "gs.fit(X,y)\n",
    "\n",
    "# Print best score\n",
    "print('Best Train Score:', np.round(gs.best_score_*100, 2))"
   ]
  },
  {
   "cell_type": "markdown",
   "id": "51044a69",
   "metadata": {},
   "source": [
    "We can see that after doing cross validation, the training score decreased to 84% and thereby reducing the overfitting. Cross validation is important in training the model."
   ]
  }
 ],
 "metadata": {
  "kernelspec": {
   "display_name": "Python 3 (ipykernel)",
   "language": "python",
   "name": "python3"
  },
  "language_info": {
   "codemirror_mode": {
    "name": "ipython",
    "version": 3
   },
   "file_extension": ".py",
   "mimetype": "text/x-python",
   "name": "python",
   "nbconvert_exporter": "python",
   "pygments_lexer": "ipython3",
   "version": "3.7.13"
  }
 },
 "nbformat": 4,
 "nbformat_minor": 5
}
