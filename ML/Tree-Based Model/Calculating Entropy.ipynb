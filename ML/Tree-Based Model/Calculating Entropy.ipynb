{
 "cells": [
  {
   "cell_type": "markdown",
   "id": "db274a67",
   "metadata": {},
   "source": [
    "Write a program to calculate entropy for each of the variables in the following dataset."
   ]
  },
  {
   "cell_type": "code",
   "execution_count": 1,
   "id": "b7d3b1a7",
   "metadata": {},
   "outputs": [],
   "source": [
    "# Import libraries\n",
    "import numpy as np\n",
    "import pandas as pd"
   ]
  },
  {
   "cell_type": "code",
   "execution_count": 2,
   "id": "cbe9fa7b",
   "metadata": {
    "scrolled": true
   },
   "outputs": [
    {
     "data": {
      "text/html": [
       "<div>\n",
       "<style scoped>\n",
       "    .dataframe tbody tr th:only-of-type {\n",
       "        vertical-align: middle;\n",
       "    }\n",
       "\n",
       "    .dataframe tbody tr th {\n",
       "        vertical-align: top;\n",
       "    }\n",
       "\n",
       "    .dataframe thead th {\n",
       "        text-align: right;\n",
       "    }\n",
       "</style>\n",
       "<table border=\"1\" class=\"dataframe\">\n",
       "  <thead>\n",
       "    <tr style=\"text-align: right;\">\n",
       "      <th></th>\n",
       "      <th>age</th>\n",
       "      <th>income</th>\n",
       "      <th>student</th>\n",
       "      <th>credit_rating</th>\n",
       "      <th>buys_laptop</th>\n",
       "    </tr>\n",
       "  </thead>\n",
       "  <tbody>\n",
       "    <tr>\n",
       "      <th>0</th>\n",
       "      <td>&lt;=30</td>\n",
       "      <td>high</td>\n",
       "      <td>no</td>\n",
       "      <td>fair</td>\n",
       "      <td>no</td>\n",
       "    </tr>\n",
       "    <tr>\n",
       "      <th>1</th>\n",
       "      <td>&lt;=30</td>\n",
       "      <td>high</td>\n",
       "      <td>no</td>\n",
       "      <td>excellent</td>\n",
       "      <td>no</td>\n",
       "    </tr>\n",
       "    <tr>\n",
       "      <th>2</th>\n",
       "      <td>31..40</td>\n",
       "      <td>high</td>\n",
       "      <td>no</td>\n",
       "      <td>fair</td>\n",
       "      <td>yes</td>\n",
       "    </tr>\n",
       "    <tr>\n",
       "      <th>3</th>\n",
       "      <td>&gt;40</td>\n",
       "      <td>medium</td>\n",
       "      <td>no</td>\n",
       "      <td>fair</td>\n",
       "      <td>yes</td>\n",
       "    </tr>\n",
       "    <tr>\n",
       "      <th>4</th>\n",
       "      <td>&gt;40</td>\n",
       "      <td>low</td>\n",
       "      <td>yes</td>\n",
       "      <td>fair</td>\n",
       "      <td>yes</td>\n",
       "    </tr>\n",
       "    <tr>\n",
       "      <th>5</th>\n",
       "      <td>&gt;40</td>\n",
       "      <td>low</td>\n",
       "      <td>yes</td>\n",
       "      <td>excellent</td>\n",
       "      <td>no</td>\n",
       "    </tr>\n",
       "    <tr>\n",
       "      <th>6</th>\n",
       "      <td>31..40</td>\n",
       "      <td>low</td>\n",
       "      <td>yes</td>\n",
       "      <td>excellent</td>\n",
       "      <td>yes</td>\n",
       "    </tr>\n",
       "    <tr>\n",
       "      <th>7</th>\n",
       "      <td>&lt;=30</td>\n",
       "      <td>medium</td>\n",
       "      <td>no</td>\n",
       "      <td>fair</td>\n",
       "      <td>no</td>\n",
       "    </tr>\n",
       "    <tr>\n",
       "      <th>8</th>\n",
       "      <td>&lt;=30</td>\n",
       "      <td>low</td>\n",
       "      <td>yes</td>\n",
       "      <td>fair</td>\n",
       "      <td>yes</td>\n",
       "    </tr>\n",
       "    <tr>\n",
       "      <th>9</th>\n",
       "      <td>&gt;40</td>\n",
       "      <td>medium</td>\n",
       "      <td>yes</td>\n",
       "      <td>fair</td>\n",
       "      <td>yes</td>\n",
       "    </tr>\n",
       "    <tr>\n",
       "      <th>10</th>\n",
       "      <td>&lt;=30</td>\n",
       "      <td>medium</td>\n",
       "      <td>yes</td>\n",
       "      <td>excellent</td>\n",
       "      <td>yes</td>\n",
       "    </tr>\n",
       "    <tr>\n",
       "      <th>11</th>\n",
       "      <td>31..40</td>\n",
       "      <td>medium</td>\n",
       "      <td>no</td>\n",
       "      <td>excellent</td>\n",
       "      <td>yes</td>\n",
       "    </tr>\n",
       "    <tr>\n",
       "      <th>12</th>\n",
       "      <td>31..40</td>\n",
       "      <td>high</td>\n",
       "      <td>yes</td>\n",
       "      <td>fair</td>\n",
       "      <td>yes</td>\n",
       "    </tr>\n",
       "    <tr>\n",
       "      <th>13</th>\n",
       "      <td>&gt;40</td>\n",
       "      <td>medium</td>\n",
       "      <td>no</td>\n",
       "      <td>excellent</td>\n",
       "      <td>no</td>\n",
       "    </tr>\n",
       "  </tbody>\n",
       "</table>\n",
       "</div>"
      ],
      "text/plain": [
       "       age  income student credit_rating buys_laptop\n",
       "0     <=30    high      no          fair          no\n",
       "1     <=30    high      no     excellent          no\n",
       "2   31..40    high      no          fair         yes\n",
       "3      >40  medium      no          fair         yes\n",
       "4      >40     low     yes          fair         yes\n",
       "5      >40     low     yes     excellent          no\n",
       "6   31..40     low     yes     excellent         yes\n",
       "7     <=30  medium      no          fair          no\n",
       "8     <=30     low     yes          fair         yes\n",
       "9      >40  medium     yes          fair         yes\n",
       "10    <=30  medium     yes     excellent         yes\n",
       "11  31..40  medium      no     excellent         yes\n",
       "12  31..40    high     yes          fair         yes\n",
       "13     >40  medium      no     excellent          no"
      ]
     },
     "execution_count": 2,
     "metadata": {},
     "output_type": "execute_result"
    }
   ],
   "source": [
    "# Load data\n",
    "df = pd.read_csv('C:/Users/Karthik.Iyer/Downloads/AccelerateAI/Tree-Based-Models-main/q5_data.csv')\n",
    "df"
   ]
  },
  {
   "cell_type": "code",
   "execution_count": 3,
   "id": "f691ee75",
   "metadata": {},
   "outputs": [
    {
     "name": "stdout",
     "output_type": "stream",
     "text": [
      "age Entropy: 1.58\n",
      "income Entropy: 1.56\n",
      "student Entropy: 1.0\n",
      "credit_rating Entropy: 0.99\n",
      "buys_laptop Entropy: 0.94\n"
     ]
    }
   ],
   "source": [
    "# Print Entropy\n",
    "\n",
    "for col in df.columns:\n",
    "    p = df[col].value_counts(normalize=True)     #normalize=True will give probability\n",
    "    l = list(p.values)\n",
    "    n = [(-1)*(i*np.log2(i)) for i in l]         #calculating entropy for each category using -p*log(p) to base 2\n",
    "    print(col, 'Entropy:', round(sum(n),2))      #sum of all categories will give entropy rounded off to 2 decimal places"
   ]
  },
  {
   "cell_type": "code",
   "execution_count": 4,
   "id": "af9206a5",
   "metadata": {},
   "outputs": [
    {
     "data": {
      "text/plain": [
       "<=30      0.357143\n",
       ">40       0.357143\n",
       "31..40    0.285714\n",
       "Name: age, dtype: float64"
      ]
     },
     "execution_count": 4,
     "metadata": {},
     "output_type": "execute_result"
    }
   ],
   "source": [
    "# Lets verify for age\n",
    "df['age'].value_counts(normalize=True)"
   ]
  },
  {
   "cell_type": "code",
   "execution_count": 5,
   "id": "c218181d",
   "metadata": {},
   "outputs": [
    {
     "name": "stdout",
     "output_type": "stream",
     "text": [
      "0.5305095811322292\n"
     ]
    }
   ],
   "source": [
    "# <=30 \n",
    "p1 = df['age'].value_counts(normalize=True)[0]    #probability for category <=30\n",
    "e1 = (-1)*(p1*np.log2(p1))\n",
    "print(e1)"
   ]
  },
  {
   "cell_type": "code",
   "execution_count": 6,
   "id": "47384c43",
   "metadata": {},
   "outputs": [
    {
     "name": "stdout",
     "output_type": "stream",
     "text": [
      "0.5305095811322292\n"
     ]
    }
   ],
   "source": [
    "# >40\n",
    "p2 = df['age'].value_counts(normalize=True)[1]    #probability for category >40\n",
    "e2 = (-1)*(p2*np.log2(p2))\n",
    "print(e2)"
   ]
  },
  {
   "cell_type": "code",
   "execution_count": 7,
   "id": "3f465c3c",
   "metadata": {},
   "outputs": [
    {
     "name": "stdout",
     "output_type": "stream",
     "text": [
      "0.5163871205878868\n"
     ]
    }
   ],
   "source": [
    "# 31..40\n",
    "p3 = df['age'].value_counts(normalize=True)[2]    #probability for category 31..40\n",
    "e3 = (-1)*(p3*np.log2(p3))\n",
    "print(e3)"
   ]
  },
  {
   "cell_type": "code",
   "execution_count": 8,
   "id": "6ef79c2e",
   "metadata": {},
   "outputs": [
    {
     "name": "stdout",
     "output_type": "stream",
     "text": [
      "1.58\n"
     ]
    }
   ],
   "source": [
    "# Check sum\n",
    "s = e1+e2+e3\n",
    "print(round(s,2))"
   ]
  }
 ],
 "metadata": {
  "kernelspec": {
   "display_name": "Python 3 (ipykernel)",
   "language": "python",
   "name": "python3"
  },
  "language_info": {
   "codemirror_mode": {
    "name": "ipython",
    "version": 3
   },
   "file_extension": ".py",
   "mimetype": "text/x-python",
   "name": "python",
   "nbconvert_exporter": "python",
   "pygments_lexer": "ipython3",
   "version": "3.7.13"
  }
 },
 "nbformat": 4,
 "nbformat_minor": 5
}
