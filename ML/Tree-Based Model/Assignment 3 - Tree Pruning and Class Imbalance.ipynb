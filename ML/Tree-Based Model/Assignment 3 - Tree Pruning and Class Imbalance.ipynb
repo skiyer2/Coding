{
 "cells": [
  {
   "cell_type": "markdown",
   "id": "99959769",
   "metadata": {},
   "source": [
    "Churn is a major problem in Telecom industry. Being able to understand who is likely to churn based on some indicators can help firms focus on those individuals and stop them from going over to competitors. \n",
    "A dataset of customer with their usage pattern is available in Assignment03_ Telco-Customer-Churn.csv file. \n",
    "\n",
    "https://drive.google.com/drive/folders/1Jl8iDu7nGmrqCECbrLqmVafgwE5PYfiU\n",
    "\n",
    "\n",
    "Build a decision tree classifier to predict which customers are likely to churn.Use 10-Fold cross validation to report your results.\n",
    "1) Tree with no pruning<br>\n",
    "2) Tree with pre-pruning<br>\n",
    "3) Tree with post-pruning\n",
    "\n",
    "\n",
    "With the best model above - make the following changes:\n",
    "\n",
    "4) Up-sample the minority class and fit the model with best result<br>\n",
    "5) Weight the class and fit the model with best result"
   ]
  },
  {
   "cell_type": "code",
   "execution_count": 1,
   "id": "3a2053b4",
   "metadata": {},
   "outputs": [],
   "source": [
    "# Import libraries\n",
    "import numpy as np\n",
    "import pandas as pd\n",
    "import matplotlib.pyplot as plt\n",
    "import seaborn as sns\n",
    "\n",
    "from sklearn.tree import DecisionTreeClassifier\n",
    "from sklearn.model_selection import train_test_split, GridSearchCV\n",
    "from sklearn import metrics\n",
    "from sklearn.metrics import confusion_matrix, accuracy_score, classification_report\n",
    "\n",
    "import warnings\n",
    "warnings.filterwarnings('ignore')\n",
    "\n",
    "pd.set_option('display.max_columns', None)"
   ]
  },
  {
   "cell_type": "code",
   "execution_count": 2,
   "id": "5524b25f",
   "metadata": {},
   "outputs": [
    {
     "data": {
      "text/html": [
       "<div>\n",
       "<style scoped>\n",
       "    .dataframe tbody tr th:only-of-type {\n",
       "        vertical-align: middle;\n",
       "    }\n",
       "\n",
       "    .dataframe tbody tr th {\n",
       "        vertical-align: top;\n",
       "    }\n",
       "\n",
       "    .dataframe thead th {\n",
       "        text-align: right;\n",
       "    }\n",
       "</style>\n",
       "<table border=\"1\" class=\"dataframe\">\n",
       "  <thead>\n",
       "    <tr style=\"text-align: right;\">\n",
       "      <th></th>\n",
       "      <th>customerID</th>\n",
       "      <th>gender</th>\n",
       "      <th>SeniorCitizen</th>\n",
       "      <th>Partner</th>\n",
       "      <th>Dependents</th>\n",
       "      <th>tenure(month)</th>\n",
       "      <th>PhoneService</th>\n",
       "      <th>MultipleLines</th>\n",
       "      <th>InternetService</th>\n",
       "      <th>OnlineSecurity</th>\n",
       "      <th>OnlineBackup</th>\n",
       "      <th>DeviceProtection</th>\n",
       "      <th>TechSupport</th>\n",
       "      <th>StreamingTV</th>\n",
       "      <th>StreamingMovies</th>\n",
       "      <th>Contract</th>\n",
       "      <th>PaperlessBilling</th>\n",
       "      <th>PaymentMethod</th>\n",
       "      <th>MonthlyCharges</th>\n",
       "      <th>TotalCharges</th>\n",
       "      <th>Churn</th>\n",
       "    </tr>\n",
       "  </thead>\n",
       "  <tbody>\n",
       "    <tr>\n",
       "      <th>0</th>\n",
       "      <td>7590-VHVEG</td>\n",
       "      <td>Female</td>\n",
       "      <td>0</td>\n",
       "      <td>Yes</td>\n",
       "      <td>No</td>\n",
       "      <td>1</td>\n",
       "      <td>No</td>\n",
       "      <td>No phone service</td>\n",
       "      <td>DSL</td>\n",
       "      <td>No</td>\n",
       "      <td>Yes</td>\n",
       "      <td>No</td>\n",
       "      <td>No</td>\n",
       "      <td>No</td>\n",
       "      <td>No</td>\n",
       "      <td>Month-to-month</td>\n",
       "      <td>Yes</td>\n",
       "      <td>Electronic check</td>\n",
       "      <td>29.85</td>\n",
       "      <td>29.85</td>\n",
       "      <td>No</td>\n",
       "    </tr>\n",
       "    <tr>\n",
       "      <th>1</th>\n",
       "      <td>5575-GNVDE</td>\n",
       "      <td>Male</td>\n",
       "      <td>0</td>\n",
       "      <td>No</td>\n",
       "      <td>No</td>\n",
       "      <td>34</td>\n",
       "      <td>Yes</td>\n",
       "      <td>No</td>\n",
       "      <td>DSL</td>\n",
       "      <td>Yes</td>\n",
       "      <td>No</td>\n",
       "      <td>Yes</td>\n",
       "      <td>No</td>\n",
       "      <td>No</td>\n",
       "      <td>No</td>\n",
       "      <td>One year</td>\n",
       "      <td>No</td>\n",
       "      <td>Mailed check</td>\n",
       "      <td>56.95</td>\n",
       "      <td>1889.5</td>\n",
       "      <td>No</td>\n",
       "    </tr>\n",
       "    <tr>\n",
       "      <th>2</th>\n",
       "      <td>3668-QPYBK</td>\n",
       "      <td>Male</td>\n",
       "      <td>0</td>\n",
       "      <td>No</td>\n",
       "      <td>No</td>\n",
       "      <td>2</td>\n",
       "      <td>Yes</td>\n",
       "      <td>No</td>\n",
       "      <td>DSL</td>\n",
       "      <td>Yes</td>\n",
       "      <td>Yes</td>\n",
       "      <td>No</td>\n",
       "      <td>No</td>\n",
       "      <td>No</td>\n",
       "      <td>No</td>\n",
       "      <td>Month-to-month</td>\n",
       "      <td>Yes</td>\n",
       "      <td>Mailed check</td>\n",
       "      <td>53.85</td>\n",
       "      <td>108.15</td>\n",
       "      <td>Yes</td>\n",
       "    </tr>\n",
       "    <tr>\n",
       "      <th>3</th>\n",
       "      <td>7795-CFOCW</td>\n",
       "      <td>Male</td>\n",
       "      <td>0</td>\n",
       "      <td>No</td>\n",
       "      <td>No</td>\n",
       "      <td>45</td>\n",
       "      <td>No</td>\n",
       "      <td>No phone service</td>\n",
       "      <td>DSL</td>\n",
       "      <td>Yes</td>\n",
       "      <td>No</td>\n",
       "      <td>Yes</td>\n",
       "      <td>Yes</td>\n",
       "      <td>No</td>\n",
       "      <td>No</td>\n",
       "      <td>One year</td>\n",
       "      <td>No</td>\n",
       "      <td>Bank transfer (automatic)</td>\n",
       "      <td>42.30</td>\n",
       "      <td>1840.75</td>\n",
       "      <td>No</td>\n",
       "    </tr>\n",
       "    <tr>\n",
       "      <th>4</th>\n",
       "      <td>9237-HQITU</td>\n",
       "      <td>Female</td>\n",
       "      <td>0</td>\n",
       "      <td>No</td>\n",
       "      <td>No</td>\n",
       "      <td>2</td>\n",
       "      <td>Yes</td>\n",
       "      <td>No</td>\n",
       "      <td>Fiber optic</td>\n",
       "      <td>No</td>\n",
       "      <td>No</td>\n",
       "      <td>No</td>\n",
       "      <td>No</td>\n",
       "      <td>No</td>\n",
       "      <td>No</td>\n",
       "      <td>Month-to-month</td>\n",
       "      <td>Yes</td>\n",
       "      <td>Electronic check</td>\n",
       "      <td>70.70</td>\n",
       "      <td>151.65</td>\n",
       "      <td>Yes</td>\n",
       "    </tr>\n",
       "  </tbody>\n",
       "</table>\n",
       "</div>"
      ],
      "text/plain": [
       "   customerID  gender  SeniorCitizen Partner Dependents  tenure(month)  \\\n",
       "0  7590-VHVEG  Female              0     Yes         No              1   \n",
       "1  5575-GNVDE    Male              0      No         No             34   \n",
       "2  3668-QPYBK    Male              0      No         No              2   \n",
       "3  7795-CFOCW    Male              0      No         No             45   \n",
       "4  9237-HQITU  Female              0      No         No              2   \n",
       "\n",
       "  PhoneService     MultipleLines InternetService OnlineSecurity OnlineBackup  \\\n",
       "0           No  No phone service             DSL             No          Yes   \n",
       "1          Yes                No             DSL            Yes           No   \n",
       "2          Yes                No             DSL            Yes          Yes   \n",
       "3           No  No phone service             DSL            Yes           No   \n",
       "4          Yes                No     Fiber optic             No           No   \n",
       "\n",
       "  DeviceProtection TechSupport StreamingTV StreamingMovies        Contract  \\\n",
       "0               No          No          No              No  Month-to-month   \n",
       "1              Yes          No          No              No        One year   \n",
       "2               No          No          No              No  Month-to-month   \n",
       "3              Yes         Yes          No              No        One year   \n",
       "4               No          No          No              No  Month-to-month   \n",
       "\n",
       "  PaperlessBilling              PaymentMethod  MonthlyCharges TotalCharges  \\\n",
       "0              Yes           Electronic check           29.85        29.85   \n",
       "1               No               Mailed check           56.95       1889.5   \n",
       "2              Yes               Mailed check           53.85       108.15   \n",
       "3               No  Bank transfer (automatic)           42.30      1840.75   \n",
       "4              Yes           Electronic check           70.70       151.65   \n",
       "\n",
       "  Churn  \n",
       "0    No  \n",
       "1    No  \n",
       "2   Yes  \n",
       "3    No  \n",
       "4   Yes  "
      ]
     },
     "execution_count": 2,
     "metadata": {},
     "output_type": "execute_result"
    }
   ],
   "source": [
    "# Import data\n",
    "telecom_df = pd.read_csv('C:/Users/Karthik.Iyer/Downloads/AccelerateAI/Tree-Based-Models-main/Assignments/Assignment03_Telco-Customer-Churn.csv')\n",
    "telecom_df.head()"
   ]
  },
  {
   "cell_type": "code",
   "execution_count": 3,
   "id": "b780c003",
   "metadata": {
    "scrolled": true
   },
   "outputs": [
    {
     "name": "stdout",
     "output_type": "stream",
     "text": [
      "<class 'pandas.core.frame.DataFrame'>\n",
      "RangeIndex: 7043 entries, 0 to 7042\n",
      "Data columns (total 21 columns):\n",
      " #   Column            Non-Null Count  Dtype  \n",
      "---  ------            --------------  -----  \n",
      " 0   customerID        7043 non-null   object \n",
      " 1   gender            7043 non-null   object \n",
      " 2   SeniorCitizen     7043 non-null   int64  \n",
      " 3   Partner           7043 non-null   object \n",
      " 4   Dependents        7043 non-null   object \n",
      " 5   tenure(month)     7043 non-null   int64  \n",
      " 6   PhoneService      7043 non-null   object \n",
      " 7   MultipleLines     7043 non-null   object \n",
      " 8   InternetService   7043 non-null   object \n",
      " 9   OnlineSecurity    7043 non-null   object \n",
      " 10  OnlineBackup      7043 non-null   object \n",
      " 11  DeviceProtection  7043 non-null   object \n",
      " 12  TechSupport       7043 non-null   object \n",
      " 13  StreamingTV       7043 non-null   object \n",
      " 14  StreamingMovies   7043 non-null   object \n",
      " 15  Contract          7043 non-null   object \n",
      " 16  PaperlessBilling  7043 non-null   object \n",
      " 17  PaymentMethod     7043 non-null   object \n",
      " 18  MonthlyCharges    7043 non-null   float64\n",
      " 19  TotalCharges      7043 non-null   object \n",
      " 20  Churn             7043 non-null   object \n",
      "dtypes: float64(1), int64(2), object(18)\n",
      "memory usage: 1.1+ MB\n"
     ]
    }
   ],
   "source": [
    "# Check info\n",
    "telecom_df.info()"
   ]
  },
  {
   "cell_type": "code",
   "execution_count": 4,
   "id": "ad3304ba",
   "metadata": {},
   "outputs": [],
   "source": [
    "# TotalCharges is stored as object\n",
    "telecom_df['TotalCharges'] = pd.to_numeric(telecom_df['TotalCharges'], errors='coerce')\n",
    "telecom_df.dropna(how='any', inplace=True)"
   ]
  },
  {
   "cell_type": "code",
   "execution_count": 5,
   "id": "30a39ff4",
   "metadata": {},
   "outputs": [
    {
     "data": {
      "text/plain": [
       "(7032, 21)"
      ]
     },
     "execution_count": 5,
     "metadata": {},
     "output_type": "execute_result"
    }
   ],
   "source": [
    "# Check shape\n",
    "telecom_df.shape"
   ]
  },
  {
   "cell_type": "code",
   "execution_count": 6,
   "id": "b7e99a3d",
   "metadata": {},
   "outputs": [],
   "source": [
    "# Drop cutomerID\n",
    "telecom_df.drop('customerID', axis=1, inplace=True)"
   ]
  },
  {
   "cell_type": "code",
   "execution_count": 7,
   "id": "fac98c63",
   "metadata": {},
   "outputs": [
    {
     "data": {
      "text/plain": [
       "0"
      ]
     },
     "execution_count": 7,
     "metadata": {},
     "output_type": "execute_result"
    }
   ],
   "source": [
    "# Check missing values\n",
    "telecom_df.isna().sum().sum()"
   ]
  },
  {
   "cell_type": "code",
   "execution_count": 8,
   "id": "7fe0db57",
   "metadata": {
    "scrolled": true
   },
   "outputs": [
    {
     "name": "stdout",
     "output_type": "stream",
     "text": [
      "Male      50.469283\n",
      "Female    49.530717\n",
      "Name: gender, dtype: float64\n",
      "\n",
      "No     51.749147\n",
      "Yes    48.250853\n",
      "Name: Partner, dtype: float64\n",
      "\n",
      "No     70.150739\n",
      "Yes    29.849261\n",
      "Name: Dependents, dtype: float64\n",
      "\n",
      "Yes    90.32992\n",
      "No      9.67008\n",
      "Name: PhoneService, dtype: float64\n",
      "\n",
      "No                  48.137088\n",
      "Yes                 42.192833\n",
      "No phone service     9.670080\n",
      "Name: MultipleLines, dtype: float64\n",
      "\n",
      "Fiber optic    44.027304\n",
      "DSL            34.357224\n",
      "No             21.615472\n",
      "Name: InternetService, dtype: float64\n",
      "\n",
      "No                     49.729807\n",
      "Yes                    28.654721\n",
      "No internet service    21.615472\n",
      "Name: OnlineSecurity, dtype: float64\n",
      "\n",
      "No                     43.899317\n",
      "Yes                    34.485210\n",
      "No internet service    21.615472\n",
      "Name: OnlineBackup, dtype: float64\n",
      "\n",
      "No                     43.998862\n",
      "Yes                    34.385666\n",
      "No internet service    21.615472\n",
      "Name: DeviceProtection, dtype: float64\n",
      "\n",
      "No                     49.374289\n",
      "Yes                    29.010239\n",
      "No internet service    21.615472\n",
      "Name: TechSupport, dtype: float64\n",
      "\n",
      "No                     39.945961\n",
      "Yes                    38.438567\n",
      "No internet service    21.615472\n",
      "Name: StreamingTV, dtype: float64\n",
      "\n",
      "No                     39.547782\n",
      "Yes                    38.836746\n",
      "No internet service    21.615472\n",
      "Name: StreamingMovies, dtype: float64\n",
      "\n",
      "Month-to-month    55.105233\n",
      "Two year          23.961889\n",
      "One year          20.932878\n",
      "Name: Contract, dtype: float64\n",
      "\n",
      "Yes    59.2719\n",
      "No     40.7281\n",
      "Name: PaperlessBilling, dtype: float64\n",
      "\n",
      "Electronic check             33.631968\n",
      "Mailed check                 22.810011\n",
      "Bank transfer (automatic)    21.928328\n",
      "Credit card (automatic)      21.629693\n",
      "Name: PaymentMethod, dtype: float64\n",
      "\n"
     ]
    }
   ],
   "source": [
    "# Check value counts for categorical variables\n",
    "cat_var = [var for var in telecom_df.select_dtypes(include='object').columns]\n",
    "cat_var = cat_var[0:len(cat_var)-1]      #exclude target Churn from the list\n",
    "\n",
    "for var in cat_var:\n",
    "    print(telecom_df[var].value_counts(normalize=True)*100)\n",
    "    print()"
   ]
  },
  {
   "cell_type": "code",
   "execution_count": 9,
   "id": "8620b141",
   "metadata": {},
   "outputs": [],
   "source": [
    "# Lets map the target\n",
    "telecom_df['Churn'] = telecom_df['Churn'].map({'Yes':1, 'No':0})"
   ]
  },
  {
   "cell_type": "code",
   "execution_count": 10,
   "id": "39bb9392",
   "metadata": {},
   "outputs": [
    {
     "data": {
      "text/html": [
       "<div>\n",
       "<style scoped>\n",
       "    .dataframe tbody tr th:only-of-type {\n",
       "        vertical-align: middle;\n",
       "    }\n",
       "\n",
       "    .dataframe tbody tr th {\n",
       "        vertical-align: top;\n",
       "    }\n",
       "\n",
       "    .dataframe thead th {\n",
       "        text-align: right;\n",
       "    }\n",
       "</style>\n",
       "<table border=\"1\" class=\"dataframe\">\n",
       "  <thead>\n",
       "    <tr style=\"text-align: right;\">\n",
       "      <th></th>\n",
       "      <th>SeniorCitizen</th>\n",
       "      <th>tenure(month)</th>\n",
       "      <th>MonthlyCharges</th>\n",
       "      <th>TotalCharges</th>\n",
       "      <th>Churn</th>\n",
       "      <th>gender_Female</th>\n",
       "      <th>gender_Male</th>\n",
       "      <th>Partner_No</th>\n",
       "      <th>Partner_Yes</th>\n",
       "      <th>Dependents_No</th>\n",
       "      <th>Dependents_Yes</th>\n",
       "      <th>PhoneService_No</th>\n",
       "      <th>PhoneService_Yes</th>\n",
       "      <th>MultipleLines_No</th>\n",
       "      <th>MultipleLines_No phone service</th>\n",
       "      <th>MultipleLines_Yes</th>\n",
       "      <th>InternetService_DSL</th>\n",
       "      <th>InternetService_Fiber optic</th>\n",
       "      <th>InternetService_No</th>\n",
       "      <th>OnlineSecurity_No</th>\n",
       "      <th>OnlineSecurity_No internet service</th>\n",
       "      <th>OnlineSecurity_Yes</th>\n",
       "      <th>OnlineBackup_No</th>\n",
       "      <th>OnlineBackup_No internet service</th>\n",
       "      <th>OnlineBackup_Yes</th>\n",
       "      <th>DeviceProtection_No</th>\n",
       "      <th>DeviceProtection_No internet service</th>\n",
       "      <th>DeviceProtection_Yes</th>\n",
       "      <th>TechSupport_No</th>\n",
       "      <th>TechSupport_No internet service</th>\n",
       "      <th>TechSupport_Yes</th>\n",
       "      <th>StreamingTV_No</th>\n",
       "      <th>StreamingTV_No internet service</th>\n",
       "      <th>StreamingTV_Yes</th>\n",
       "      <th>StreamingMovies_No</th>\n",
       "      <th>StreamingMovies_No internet service</th>\n",
       "      <th>StreamingMovies_Yes</th>\n",
       "      <th>Contract_Month-to-month</th>\n",
       "      <th>Contract_One year</th>\n",
       "      <th>Contract_Two year</th>\n",
       "      <th>PaperlessBilling_No</th>\n",
       "      <th>PaperlessBilling_Yes</th>\n",
       "      <th>PaymentMethod_Bank transfer (automatic)</th>\n",
       "      <th>PaymentMethod_Credit card (automatic)</th>\n",
       "      <th>PaymentMethod_Electronic check</th>\n",
       "      <th>PaymentMethod_Mailed check</th>\n",
       "    </tr>\n",
       "  </thead>\n",
       "  <tbody>\n",
       "    <tr>\n",
       "      <th>6181</th>\n",
       "      <td>0</td>\n",
       "      <td>61</td>\n",
       "      <td>99.90</td>\n",
       "      <td>6241.35</td>\n",
       "      <td>0</td>\n",
       "      <td>0</td>\n",
       "      <td>1</td>\n",
       "      <td>0</td>\n",
       "      <td>1</td>\n",
       "      <td>0</td>\n",
       "      <td>1</td>\n",
       "      <td>0</td>\n",
       "      <td>1</td>\n",
       "      <td>0</td>\n",
       "      <td>0</td>\n",
       "      <td>1</td>\n",
       "      <td>0</td>\n",
       "      <td>1</td>\n",
       "      <td>0</td>\n",
       "      <td>1</td>\n",
       "      <td>0</td>\n",
       "      <td>0</td>\n",
       "      <td>1</td>\n",
       "      <td>0</td>\n",
       "      <td>0</td>\n",
       "      <td>0</td>\n",
       "      <td>0</td>\n",
       "      <td>1</td>\n",
       "      <td>1</td>\n",
       "      <td>0</td>\n",
       "      <td>0</td>\n",
       "      <td>0</td>\n",
       "      <td>0</td>\n",
       "      <td>1</td>\n",
       "      <td>0</td>\n",
       "      <td>0</td>\n",
       "      <td>1</td>\n",
       "      <td>0</td>\n",
       "      <td>1</td>\n",
       "      <td>0</td>\n",
       "      <td>0</td>\n",
       "      <td>1</td>\n",
       "      <td>0</td>\n",
       "      <td>0</td>\n",
       "      <td>1</td>\n",
       "      <td>0</td>\n",
       "    </tr>\n",
       "    <tr>\n",
       "      <th>5481</th>\n",
       "      <td>1</td>\n",
       "      <td>1</td>\n",
       "      <td>73.65</td>\n",
       "      <td>73.65</td>\n",
       "      <td>1</td>\n",
       "      <td>0</td>\n",
       "      <td>1</td>\n",
       "      <td>1</td>\n",
       "      <td>0</td>\n",
       "      <td>1</td>\n",
       "      <td>0</td>\n",
       "      <td>0</td>\n",
       "      <td>1</td>\n",
       "      <td>0</td>\n",
       "      <td>0</td>\n",
       "      <td>1</td>\n",
       "      <td>0</td>\n",
       "      <td>1</td>\n",
       "      <td>0</td>\n",
       "      <td>1</td>\n",
       "      <td>0</td>\n",
       "      <td>0</td>\n",
       "      <td>1</td>\n",
       "      <td>0</td>\n",
       "      <td>0</td>\n",
       "      <td>1</td>\n",
       "      <td>0</td>\n",
       "      <td>0</td>\n",
       "      <td>1</td>\n",
       "      <td>0</td>\n",
       "      <td>0</td>\n",
       "      <td>1</td>\n",
       "      <td>0</td>\n",
       "      <td>0</td>\n",
       "      <td>1</td>\n",
       "      <td>0</td>\n",
       "      <td>0</td>\n",
       "      <td>1</td>\n",
       "      <td>0</td>\n",
       "      <td>0</td>\n",
       "      <td>0</td>\n",
       "      <td>1</td>\n",
       "      <td>0</td>\n",
       "      <td>0</td>\n",
       "      <td>1</td>\n",
       "      <td>0</td>\n",
       "    </tr>\n",
       "    <tr>\n",
       "      <th>875</th>\n",
       "      <td>0</td>\n",
       "      <td>3</td>\n",
       "      <td>34.80</td>\n",
       "      <td>113.95</td>\n",
       "      <td>0</td>\n",
       "      <td>1</td>\n",
       "      <td>0</td>\n",
       "      <td>1</td>\n",
       "      <td>0</td>\n",
       "      <td>1</td>\n",
       "      <td>0</td>\n",
       "      <td>1</td>\n",
       "      <td>0</td>\n",
       "      <td>0</td>\n",
       "      <td>1</td>\n",
       "      <td>0</td>\n",
       "      <td>1</td>\n",
       "      <td>0</td>\n",
       "      <td>0</td>\n",
       "      <td>1</td>\n",
       "      <td>0</td>\n",
       "      <td>0</td>\n",
       "      <td>1</td>\n",
       "      <td>0</td>\n",
       "      <td>0</td>\n",
       "      <td>1</td>\n",
       "      <td>0</td>\n",
       "      <td>0</td>\n",
       "      <td>1</td>\n",
       "      <td>0</td>\n",
       "      <td>0</td>\n",
       "      <td>0</td>\n",
       "      <td>0</td>\n",
       "      <td>1</td>\n",
       "      <td>1</td>\n",
       "      <td>0</td>\n",
       "      <td>0</td>\n",
       "      <td>1</td>\n",
       "      <td>0</td>\n",
       "      <td>0</td>\n",
       "      <td>0</td>\n",
       "      <td>1</td>\n",
       "      <td>0</td>\n",
       "      <td>1</td>\n",
       "      <td>0</td>\n",
       "      <td>0</td>\n",
       "    </tr>\n",
       "    <tr>\n",
       "      <th>2476</th>\n",
       "      <td>0</td>\n",
       "      <td>69</td>\n",
       "      <td>84.70</td>\n",
       "      <td>5878.90</td>\n",
       "      <td>0</td>\n",
       "      <td>0</td>\n",
       "      <td>1</td>\n",
       "      <td>0</td>\n",
       "      <td>1</td>\n",
       "      <td>1</td>\n",
       "      <td>0</td>\n",
       "      <td>0</td>\n",
       "      <td>1</td>\n",
       "      <td>1</td>\n",
       "      <td>0</td>\n",
       "      <td>0</td>\n",
       "      <td>1</td>\n",
       "      <td>0</td>\n",
       "      <td>0</td>\n",
       "      <td>0</td>\n",
       "      <td>0</td>\n",
       "      <td>1</td>\n",
       "      <td>0</td>\n",
       "      <td>0</td>\n",
       "      <td>1</td>\n",
       "      <td>0</td>\n",
       "      <td>0</td>\n",
       "      <td>1</td>\n",
       "      <td>0</td>\n",
       "      <td>0</td>\n",
       "      <td>1</td>\n",
       "      <td>0</td>\n",
       "      <td>0</td>\n",
       "      <td>1</td>\n",
       "      <td>0</td>\n",
       "      <td>0</td>\n",
       "      <td>1</td>\n",
       "      <td>0</td>\n",
       "      <td>0</td>\n",
       "      <td>1</td>\n",
       "      <td>0</td>\n",
       "      <td>1</td>\n",
       "      <td>0</td>\n",
       "      <td>0</td>\n",
       "      <td>0</td>\n",
       "      <td>1</td>\n",
       "    </tr>\n",
       "    <tr>\n",
       "      <th>4070</th>\n",
       "      <td>1</td>\n",
       "      <td>55</td>\n",
       "      <td>74.00</td>\n",
       "      <td>4052.40</td>\n",
       "      <td>0</td>\n",
       "      <td>0</td>\n",
       "      <td>1</td>\n",
       "      <td>0</td>\n",
       "      <td>1</td>\n",
       "      <td>1</td>\n",
       "      <td>0</td>\n",
       "      <td>0</td>\n",
       "      <td>1</td>\n",
       "      <td>0</td>\n",
       "      <td>0</td>\n",
       "      <td>1</td>\n",
       "      <td>0</td>\n",
       "      <td>1</td>\n",
       "      <td>0</td>\n",
       "      <td>1</td>\n",
       "      <td>0</td>\n",
       "      <td>0</td>\n",
       "      <td>1</td>\n",
       "      <td>0</td>\n",
       "      <td>0</td>\n",
       "      <td>1</td>\n",
       "      <td>0</td>\n",
       "      <td>0</td>\n",
       "      <td>1</td>\n",
       "      <td>0</td>\n",
       "      <td>0</td>\n",
       "      <td>1</td>\n",
       "      <td>0</td>\n",
       "      <td>0</td>\n",
       "      <td>1</td>\n",
       "      <td>0</td>\n",
       "      <td>0</td>\n",
       "      <td>1</td>\n",
       "      <td>0</td>\n",
       "      <td>0</td>\n",
       "      <td>0</td>\n",
       "      <td>1</td>\n",
       "      <td>0</td>\n",
       "      <td>0</td>\n",
       "      <td>1</td>\n",
       "      <td>0</td>\n",
       "    </tr>\n",
       "  </tbody>\n",
       "</table>\n",
       "</div>"
      ],
      "text/plain": [
       "      SeniorCitizen  tenure(month)  MonthlyCharges  TotalCharges  Churn  \\\n",
       "6181              0             61           99.90       6241.35      0   \n",
       "5481              1              1           73.65         73.65      1   \n",
       "875               0              3           34.80        113.95      0   \n",
       "2476              0             69           84.70       5878.90      0   \n",
       "4070              1             55           74.00       4052.40      0   \n",
       "\n",
       "      gender_Female  gender_Male  Partner_No  Partner_Yes  Dependents_No  \\\n",
       "6181              0            1           0            1              0   \n",
       "5481              0            1           1            0              1   \n",
       "875               1            0           1            0              1   \n",
       "2476              0            1           0            1              1   \n",
       "4070              0            1           0            1              1   \n",
       "\n",
       "      Dependents_Yes  PhoneService_No  PhoneService_Yes  MultipleLines_No  \\\n",
       "6181               1                0                 1                 0   \n",
       "5481               0                0                 1                 0   \n",
       "875                0                1                 0                 0   \n",
       "2476               0                0                 1                 1   \n",
       "4070               0                0                 1                 0   \n",
       "\n",
       "      MultipleLines_No phone service  MultipleLines_Yes  InternetService_DSL  \\\n",
       "6181                               0                  1                    0   \n",
       "5481                               0                  1                    0   \n",
       "875                                1                  0                    1   \n",
       "2476                               0                  0                    1   \n",
       "4070                               0                  1                    0   \n",
       "\n",
       "      InternetService_Fiber optic  InternetService_No  OnlineSecurity_No  \\\n",
       "6181                            1                   0                  1   \n",
       "5481                            1                   0                  1   \n",
       "875                             0                   0                  1   \n",
       "2476                            0                   0                  0   \n",
       "4070                            1                   0                  1   \n",
       "\n",
       "      OnlineSecurity_No internet service  OnlineSecurity_Yes  OnlineBackup_No  \\\n",
       "6181                                   0                   0                1   \n",
       "5481                                   0                   0                1   \n",
       "875                                    0                   0                1   \n",
       "2476                                   0                   1                0   \n",
       "4070                                   0                   0                1   \n",
       "\n",
       "      OnlineBackup_No internet service  OnlineBackup_Yes  DeviceProtection_No  \\\n",
       "6181                                 0                 0                    0   \n",
       "5481                                 0                 0                    1   \n",
       "875                                  0                 0                    1   \n",
       "2476                                 0                 1                    0   \n",
       "4070                                 0                 0                    1   \n",
       "\n",
       "      DeviceProtection_No internet service  DeviceProtection_Yes  \\\n",
       "6181                                     0                     1   \n",
       "5481                                     0                     0   \n",
       "875                                      0                     0   \n",
       "2476                                     0                     1   \n",
       "4070                                     0                     0   \n",
       "\n",
       "      TechSupport_No  TechSupport_No internet service  TechSupport_Yes  \\\n",
       "6181               1                                0                0   \n",
       "5481               1                                0                0   \n",
       "875                1                                0                0   \n",
       "2476               0                                0                1   \n",
       "4070               1                                0                0   \n",
       "\n",
       "      StreamingTV_No  StreamingTV_No internet service  StreamingTV_Yes  \\\n",
       "6181               0                                0                1   \n",
       "5481               1                                0                0   \n",
       "875                0                                0                1   \n",
       "2476               0                                0                1   \n",
       "4070               1                                0                0   \n",
       "\n",
       "      StreamingMovies_No  StreamingMovies_No internet service  \\\n",
       "6181                   0                                    0   \n",
       "5481                   1                                    0   \n",
       "875                    1                                    0   \n",
       "2476                   0                                    0   \n",
       "4070                   1                                    0   \n",
       "\n",
       "      StreamingMovies_Yes  Contract_Month-to-month  Contract_One year  \\\n",
       "6181                    1                        0                  1   \n",
       "5481                    0                        1                  0   \n",
       "875                     0                        1                  0   \n",
       "2476                    1                        0                  0   \n",
       "4070                    0                        1                  0   \n",
       "\n",
       "      Contract_Two year  PaperlessBilling_No  PaperlessBilling_Yes  \\\n",
       "6181                  0                    0                     1   \n",
       "5481                  0                    0                     1   \n",
       "875                   0                    0                     1   \n",
       "2476                  1                    0                     1   \n",
       "4070                  0                    0                     1   \n",
       "\n",
       "      PaymentMethod_Bank transfer (automatic)  \\\n",
       "6181                                        0   \n",
       "5481                                        0   \n",
       "875                                         0   \n",
       "2476                                        0   \n",
       "4070                                        0   \n",
       "\n",
       "      PaymentMethod_Credit card (automatic)  PaymentMethod_Electronic check  \\\n",
       "6181                                      0                               1   \n",
       "5481                                      0                               1   \n",
       "875                                       1                               0   \n",
       "2476                                      0                               0   \n",
       "4070                                      0                               1   \n",
       "\n",
       "      PaymentMethod_Mailed check  \n",
       "6181                           0  \n",
       "5481                           0  \n",
       "875                            0  \n",
       "2476                           1  \n",
       "4070                           0  "
      ]
     },
     "execution_count": 10,
     "metadata": {},
     "output_type": "execute_result"
    }
   ],
   "source": [
    "# Lets convert categorical variables to dummies\n",
    "telecom_df_onehot = pd.get_dummies(telecom_df, columns=cat_var)\n",
    "telecom_df_onehot.sample(5)"
   ]
  },
  {
   "cell_type": "code",
   "execution_count": 11,
   "id": "3a2c7e24",
   "metadata": {},
   "outputs": [
    {
     "data": {
      "text/plain": [
       "0    0.734215\n",
       "1    0.265785\n",
       "Name: Churn, dtype: float64"
      ]
     },
     "execution_count": 11,
     "metadata": {},
     "output_type": "execute_result"
    }
   ],
   "source": [
    "# Lets check the classes for Churn\n",
    "telecom_df_onehot['Churn'].value_counts(normalize=True)"
   ]
  },
  {
   "cell_type": "markdown",
   "id": "708fff50",
   "metadata": {},
   "source": [
    "**There is class imbalance with low Churn rate**"
   ]
  },
  {
   "cell_type": "markdown",
   "id": "388aaa12",
   "metadata": {},
   "source": [
    "### Decision Tree with no pruning"
   ]
  },
  {
   "cell_type": "code",
   "execution_count": 12,
   "id": "4cfb1adc",
   "metadata": {},
   "outputs": [
    {
     "name": "stdout",
     "output_type": "stream",
     "text": [
      "Train score: 0.9982222222222222\n",
      "Test score: 0.7292110874200426\n"
     ]
    }
   ],
   "source": [
    "# Lets fit a decision tree\n",
    "X = telecom_df_onehot.drop('Churn', axis=1)\n",
    "y = telecom_df_onehot['Churn']\n",
    "\n",
    "X_train, X_test, y_train, y_test = train_test_split(X, y, train_size=0.8, random_state=4)\n",
    "\n",
    "clf = DecisionTreeClassifier(random_state=4)\n",
    "clf = clf.fit(X_train, y_train)\n",
    "\n",
    "y_train_pred = clf.predict(X_train)\n",
    "y_pred = clf.predict(X_test)\n",
    "\n",
    "print('Train score:', accuracy_score(y_train, y_train_pred))\n",
    "print('Test score:', accuracy_score(y_test, y_pred))"
   ]
  },
  {
   "cell_type": "markdown",
   "id": "1710797b",
   "metadata": {},
   "source": [
    "The model overfits on Training set and the score drops for Testing set"
   ]
  },
  {
   "cell_type": "markdown",
   "id": "ddb89511",
   "metadata": {},
   "source": [
    "### Decision Tree with pre-pruning"
   ]
  },
  {
   "cell_type": "code",
   "execution_count": 13,
   "id": "58d91228",
   "metadata": {},
   "outputs": [
    {
     "name": "stdout",
     "output_type": "stream",
     "text": [
      "Train score: 0.8183111111111111\n",
      "Test score: 0.7668798862828714\n"
     ]
    }
   ],
   "source": [
    "# Lets fit a decision tree\n",
    "\n",
    "params = {'criterion' : ['gini'], 'max_depth' : range(1,11), 'min_samples_split' : range(10, 60, 10)}\n",
    "\n",
    "clf_gs = GridSearchCV(DecisionTreeClassifier(), cv=10, param_grid=params)\n",
    "\n",
    "clf_gs.fit(X_train, y_train)\n",
    "\n",
    "y_train_pred = clf_gs.predict(X_train)\n",
    "y_pred = clf_gs.predict(X_test)\n",
    "\n",
    "print('Train score:', accuracy_score(y_train, y_train_pred))\n",
    "print('Test score:', accuracy_score(y_test, y_pred))"
   ]
  },
  {
   "cell_type": "markdown",
   "id": "64685c10",
   "metadata": {},
   "source": [
    "The scores are much better compared to the one with no pruning"
   ]
  },
  {
   "cell_type": "markdown",
   "id": "a4922b8e",
   "metadata": {},
   "source": [
    "### Decision Tree with post-pruning"
   ]
  },
  {
   "cell_type": "code",
   "execution_count": 14,
   "id": "a4d29408",
   "metadata": {
    "scrolled": true
   },
   "outputs": [
    {
     "name": "stdout",
     "output_type": "stream",
     "text": [
      "For ccp_alpha= 0.0\n",
      "{'criterion': 'gini', 'max_depth': 7, 'min_samples_split': 50}\n",
      "0.7934255355461021\n",
      "\n",
      "For ccp_alpha= 0.1\n",
      "{'criterion': 'gini', 'max_depth': 1, 'min_samples_split': 10}\n",
      "0.734400422242309\n",
      "\n",
      "For ccp_alpha= 0.2\n",
      "{'criterion': 'gini', 'max_depth': 1, 'min_samples_split': 10}\n",
      "0.734400422242309\n",
      "\n",
      "For ccp_alpha= 0.30000000000000004\n",
      "{'criterion': 'gini', 'max_depth': 1, 'min_samples_split': 10}\n",
      "0.734400422242309\n",
      "\n",
      "For ccp_alpha= 0.4\n",
      "{'criterion': 'gini', 'max_depth': 1, 'min_samples_split': 10}\n",
      "0.734400422242309\n",
      "\n",
      "For ccp_alpha= 0.5\n",
      "{'criterion': 'gini', 'max_depth': 1, 'min_samples_split': 10}\n",
      "0.734400422242309\n",
      "\n",
      "For ccp_alpha= 0.6000000000000001\n",
      "{'criterion': 'gini', 'max_depth': 1, 'min_samples_split': 10}\n",
      "0.734400422242309\n",
      "\n",
      "For ccp_alpha= 0.7000000000000001\n",
      "{'criterion': 'gini', 'max_depth': 1, 'min_samples_split': 10}\n",
      "0.734400422242309\n",
      "\n",
      "For ccp_alpha= 0.8\n",
      "{'criterion': 'gini', 'max_depth': 1, 'min_samples_split': 10}\n",
      "0.734400422242309\n",
      "\n",
      "For ccp_alpha= 0.9\n",
      "{'criterion': 'gini', 'max_depth': 1, 'min_samples_split': 10}\n",
      "0.734400422242309\n",
      "\n"
     ]
    }
   ],
   "source": [
    "# Cost Complexity Pruning\n",
    "\n",
    "ccp = np.arange(0, 1, 0.1)\n",
    "\n",
    "for v in ccp:\n",
    "    clf_p = DecisionTreeClassifier(random_state=4, ccp_alpha=v)\n",
    "    clf_p_gs = GridSearchCV(clf_p, cv=10, param_grid=params)\n",
    "    clf_p_gs.fit(X_train, y_train)\n",
    "    print('For ccp_alpha=', v)\n",
    "    print(clf_p_gs.best_params_)\n",
    "    print(clf_p_gs.best_score_)\n",
    "    print()"
   ]
  },
  {
   "cell_type": "markdown",
   "id": "e1fc8d67",
   "metadata": {},
   "source": [
    "The best score came out for the ccp_alpha=0.0, i.e. when no pruning was performed."
   ]
  },
  {
   "cell_type": "code",
   "execution_count": 15,
   "id": "c124fe78",
   "metadata": {},
   "outputs": [
    {
     "name": "stdout",
     "output_type": "stream",
     "text": [
      "Test score: 0.7334754797441365\n"
     ]
    }
   ],
   "source": [
    "# Lets test the model\n",
    "y_pred = clf_p_gs.predict(X_test)\n",
    "\n",
    "print('Test score:', accuracy_score(y_test, y_pred))"
   ]
  },
  {
   "cell_type": "markdown",
   "id": "a4179ebc",
   "metadata": {},
   "source": [
    "The model with pre pruning is better than the above"
   ]
  },
  {
   "cell_type": "markdown",
   "id": "66553f66",
   "metadata": {},
   "source": [
    "### Up-sample the minority class and fit the model with best result"
   ]
  },
  {
   "cell_type": "code",
   "execution_count": 16,
   "id": "f74174e2",
   "metadata": {},
   "outputs": [],
   "source": [
    "# Import the relevant package\n",
    "from imblearn.over_sampling import RandomOverSampler"
   ]
  },
  {
   "cell_type": "code",
   "execution_count": 17,
   "id": "02bc3003",
   "metadata": {},
   "outputs": [
    {
     "name": "stdout",
     "output_type": "stream",
     "text": [
      "[(0, 4131), (1, 1494)]\n",
      "[(0, 4131), (1, 4131)]\n"
     ]
    }
   ],
   "source": [
    "# Oversample the data\n",
    "ros = RandomOverSampler(random_state=4)\n",
    "\n",
    "X_resampled, y_resampled = ros.fit_resample(X_train, y_train)\n",
    "\n",
    "from collections import Counter\n",
    "print(sorted(Counter(y_train).items()))         #before oversampling\n",
    "print(sorted(Counter(y_resampled).items()))     #after oversampling"
   ]
  },
  {
   "cell_type": "code",
   "execution_count": 18,
   "id": "7dedf2a5",
   "metadata": {},
   "outputs": [
    {
     "data": {
      "text/plain": [
       "({'criterion': 'gini', 'max_depth': 10, 'min_samples_split': 10},\n",
       " 0.7934255355461021)"
      ]
     },
     "execution_count": 18,
     "metadata": {},
     "output_type": "execute_result"
    }
   ],
   "source": [
    "# Lets fit a decision tree on oversmapled data\n",
    "\n",
    "params = {'criterion' : ['gini'], 'max_depth' : range(1,11), 'min_samples_split' : range(10, 60, 10)}\n",
    "\n",
    "clf_gs_os = GridSearchCV(DecisionTreeClassifier(), cv=10, param_grid=params)\n",
    "\n",
    "clf_gs_os.fit(X_resampled, y_resampled)\n",
    "\n",
    "clf_gs_os.best_params_, clf_gs.best_score_"
   ]
  },
  {
   "cell_type": "code",
   "execution_count": 19,
   "id": "b80ea0e2",
   "metadata": {},
   "outputs": [
    {
     "name": "stdout",
     "output_type": "stream",
     "text": [
      "Test score: 0.720682302771855\n"
     ]
    }
   ],
   "source": [
    "# Performance on test data\n",
    "y_pred = clf_gs_os.predict(X_test)\n",
    "\n",
    "print('Test score:', accuracy_score(y_test, y_pred))"
   ]
  },
  {
   "cell_type": "markdown",
   "id": "dfc6d7c7",
   "metadata": {},
   "source": [
    "The accuracy on the test set did not improve significantly after oversampling"
   ]
  },
  {
   "cell_type": "markdown",
   "id": "e70d73a0",
   "metadata": {},
   "source": [
    "### Weight the class and fit the model with best result"
   ]
  },
  {
   "cell_type": "code",
   "execution_count": 20,
   "id": "583d9212",
   "metadata": {},
   "outputs": [
    {
     "data": {
      "text/plain": [
       "({'criterion': 'gini', 'max_depth': 10, 'min_samples_split': 10},\n",
       " 0.7934255355461021)"
      ]
     },
     "execution_count": 20,
     "metadata": {},
     "output_type": "execute_result"
    }
   ],
   "source": [
    "# Lets fit a decision tree on oversmapled data\n",
    "\n",
    "params = {'criterion' : ['gini'], 'max_depth' : range(1,11), 'min_samples_split' : range(10, 60, 10)}\n",
    "\n",
    "clf_gs_os_cw = GridSearchCV(DecisionTreeClassifier(class_weight='balanced'), cv=10, param_grid=params)\n",
    "\n",
    "clf_gs_os_cw.fit(X_resampled, y_resampled)\n",
    "\n",
    "clf_gs_os_cw.best_params_, clf_gs.best_score_"
   ]
  },
  {
   "cell_type": "code",
   "execution_count": 21,
   "id": "7572fabe",
   "metadata": {},
   "outputs": [
    {
     "name": "stdout",
     "output_type": "stream",
     "text": [
      "Test score: 0.7199715707178393\n"
     ]
    }
   ],
   "source": [
    "# Performance on test data\n",
    "y_pred = clf_gs_os_cw.predict(X_test)\n",
    "\n",
    "print('Test score:', accuracy_score(y_test, y_pred))"
   ]
  },
  {
   "cell_type": "code",
   "execution_count": 22,
   "id": "e8ff3c89",
   "metadata": {},
   "outputs": [
    {
     "data": {
      "text/plain": [
       "({'criterion': 'gini', 'max_depth': 10, 'min_samples_split': 10},\n",
       " 0.7934255355461021)"
      ]
     },
     "execution_count": 22,
     "metadata": {},
     "output_type": "execute_result"
    }
   ],
   "source": [
    "# Lets fit a decision tree on oversmapled data\n",
    "\n",
    "params = {'criterion' : ['gini'], 'max_depth' : range(1,11), 'min_samples_split' : range(10, 60, 10)}\n",
    "\n",
    "weights = {0:1.0, 1:100.0}\n",
    "\n",
    "clf_gs_os_cw = GridSearchCV(DecisionTreeClassifier(class_weight=weights), cv=10, param_grid=params)\n",
    "\n",
    "clf_gs_os_cw.fit(X_resampled, y_resampled)\n",
    "\n",
    "clf_gs_os_cw.best_params_, clf_gs.best_score_"
   ]
  },
  {
   "cell_type": "code",
   "execution_count": 23,
   "id": "70c9ca7c",
   "metadata": {},
   "outputs": [
    {
     "name": "stdout",
     "output_type": "stream",
     "text": [
      "Test score: 0.5408670931058991\n"
     ]
    }
   ],
   "source": [
    "# Performance on test data\n",
    "y_pred = clf_gs_os_cw.predict(X_test)\n",
    "\n",
    "print('Test score:', accuracy_score(y_test, y_pred))"
   ]
  },
  {
   "cell_type": "markdown",
   "id": "eabdf6a3",
   "metadata": {},
   "source": [
    "Balanced class weight seems to be working better than the second case"
   ]
  }
 ],
 "metadata": {
  "kernelspec": {
   "display_name": "Python 3 (ipykernel)",
   "language": "python",
   "name": "python3"
  },
  "language_info": {
   "codemirror_mode": {
    "name": "ipython",
    "version": 3
   },
   "file_extension": ".py",
   "mimetype": "text/x-python",
   "name": "python",
   "nbconvert_exporter": "python",
   "pygments_lexer": "ipython3",
   "version": "3.7.13"
  }
 },
 "nbformat": 4,
 "nbformat_minor": 5
}
