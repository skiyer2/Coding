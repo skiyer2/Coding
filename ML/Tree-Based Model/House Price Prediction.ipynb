{
 "cells": [
  {
   "cell_type": "markdown",
   "id": "a414cd31",
   "metadata": {},
   "source": [
    "Train a decision tree classifier to predict the house price based on other variables present in the below dataset. Use a 5 fold CV for scoring. Which variables do you think are categorical? How good is the prediction?"
   ]
  },
  {
   "cell_type": "code",
   "execution_count": 1,
   "id": "42cd5a2d",
   "metadata": {},
   "outputs": [],
   "source": [
    "# Import libraries\n",
    "import numpy as np\n",
    "import pandas as pd\n",
    "import matplotlib.pyplot as plt\n",
    "import seaborn as sns\n",
    "\n",
    "from sklearn.tree import DecisionTreeRegressor, export_text\n",
    "from sklearn.model_selection import train_test_split, GridSearchCV\n",
    "from sklearn import metrics\n",
    "\n",
    "import warnings\n",
    "warnings.filterwarnings('ignore')"
   ]
  },
  {
   "cell_type": "code",
   "execution_count": 2,
   "id": "9ebc86be",
   "metadata": {},
   "outputs": [
    {
     "data": {
      "text/html": [
       "<div>\n",
       "<style scoped>\n",
       "    .dataframe tbody tr th:only-of-type {\n",
       "        vertical-align: middle;\n",
       "    }\n",
       "\n",
       "    .dataframe tbody tr th {\n",
       "        vertical-align: top;\n",
       "    }\n",
       "\n",
       "    .dataframe thead th {\n",
       "        text-align: right;\n",
       "    }\n",
       "</style>\n",
       "<table border=\"1\" class=\"dataframe\">\n",
       "  <thead>\n",
       "    <tr style=\"text-align: right;\">\n",
       "      <th></th>\n",
       "      <th>Home No</th>\n",
       "      <th>Nbhd</th>\n",
       "      <th>Offers</th>\n",
       "      <th>SqFt</th>\n",
       "      <th>Brick</th>\n",
       "      <th>Bedrooms</th>\n",
       "      <th>Bathrooms</th>\n",
       "      <th>Price</th>\n",
       "    </tr>\n",
       "  </thead>\n",
       "  <tbody>\n",
       "    <tr>\n",
       "      <th>0</th>\n",
       "      <td>1</td>\n",
       "      <td>0</td>\n",
       "      <td>2</td>\n",
       "      <td>1790</td>\n",
       "      <td>0</td>\n",
       "      <td>2</td>\n",
       "      <td>2</td>\n",
       "      <td>114300</td>\n",
       "    </tr>\n",
       "    <tr>\n",
       "      <th>1</th>\n",
       "      <td>2</td>\n",
       "      <td>0</td>\n",
       "      <td>3</td>\n",
       "      <td>2030</td>\n",
       "      <td>0</td>\n",
       "      <td>4</td>\n",
       "      <td>2</td>\n",
       "      <td>114200</td>\n",
       "    </tr>\n",
       "    <tr>\n",
       "      <th>2</th>\n",
       "      <td>3</td>\n",
       "      <td>0</td>\n",
       "      <td>1</td>\n",
       "      <td>1740</td>\n",
       "      <td>0</td>\n",
       "      <td>3</td>\n",
       "      <td>2</td>\n",
       "      <td>114800</td>\n",
       "    </tr>\n",
       "    <tr>\n",
       "      <th>3</th>\n",
       "      <td>4</td>\n",
       "      <td>0</td>\n",
       "      <td>3</td>\n",
       "      <td>1980</td>\n",
       "      <td>0</td>\n",
       "      <td>3</td>\n",
       "      <td>2</td>\n",
       "      <td>94700</td>\n",
       "    </tr>\n",
       "    <tr>\n",
       "      <th>4</th>\n",
       "      <td>5</td>\n",
       "      <td>0</td>\n",
       "      <td>3</td>\n",
       "      <td>2130</td>\n",
       "      <td>0</td>\n",
       "      <td>3</td>\n",
       "      <td>3</td>\n",
       "      <td>119800</td>\n",
       "    </tr>\n",
       "  </tbody>\n",
       "</table>\n",
       "</div>"
      ],
      "text/plain": [
       "   Home No  Nbhd  Offers  SqFt  Brick  Bedrooms  Bathrooms   Price\n",
       "0        1     0       2  1790      0         2          2  114300\n",
       "1        2     0       3  2030      0         4          2  114200\n",
       "2        3     0       1  1740      0         3          2  114800\n",
       "3        4     0       3  1980      0         3          2   94700\n",
       "4        5     0       3  2130      0         3          3  119800"
      ]
     },
     "execution_count": 2,
     "metadata": {},
     "output_type": "execute_result"
    }
   ],
   "source": [
    "# Load data\n",
    "housing = pd.read_excel('C:/Users/Karthik.Iyer/Downloads/AccelerateAI/Tree-Based-Models-main/07_House_Price_Data.xlsx', sheet_name='Data')\n",
    "housing.head()"
   ]
  },
  {
   "cell_type": "code",
   "execution_count": 3,
   "id": "29ebc1ad",
   "metadata": {},
   "outputs": [
    {
     "name": "stdout",
     "output_type": "stream",
     "text": [
      "<class 'pandas.core.frame.DataFrame'>\n",
      "RangeIndex: 128 entries, 0 to 127\n",
      "Data columns (total 8 columns):\n",
      " #   Column     Non-Null Count  Dtype\n",
      "---  ------     --------------  -----\n",
      " 0   Home No    128 non-null    int64\n",
      " 1   Nbhd       128 non-null    int64\n",
      " 2   Offers     128 non-null    int64\n",
      " 3   SqFt       128 non-null    int64\n",
      " 4   Brick      128 non-null    int64\n",
      " 5   Bedrooms   128 non-null    int64\n",
      " 6   Bathrooms  128 non-null    int64\n",
      " 7   Price      128 non-null    int64\n",
      "dtypes: int64(8)\n",
      "memory usage: 8.1 KB\n"
     ]
    }
   ],
   "source": [
    "# Check info\n",
    "housing.info()"
   ]
  },
  {
   "cell_type": "code",
   "execution_count": 4,
   "id": "881a7988",
   "metadata": {},
   "outputs": [
    {
     "data": {
      "text/plain": [
       "0    89\n",
       "1    39\n",
       "Name: Nbhd, dtype: int64"
      ]
     },
     "execution_count": 4,
     "metadata": {},
     "output_type": "execute_result"
    }
   ],
   "source": [
    "# Lets check Nbhd\n",
    "housing['Nbhd'].value_counts()"
   ]
  },
  {
   "cell_type": "markdown",
   "id": "64bed3b8",
   "metadata": {},
   "source": [
    "Looking at the values, Nbhd is a binary categorical which indicate whether any neighbour has occupied/bought the house"
   ]
  },
  {
   "cell_type": "code",
   "execution_count": 5,
   "id": "d89ed2ae",
   "metadata": {},
   "outputs": [
    {
     "data": {
      "text/plain": [
       "3    46\n",
       "2    36\n",
       "1    23\n",
       "4    19\n",
       "5     3\n",
       "6     1\n",
       "Name: Offers, dtype: int64"
      ]
     },
     "execution_count": 5,
     "metadata": {},
     "output_type": "execute_result"
    }
   ],
   "source": [
    "# Lets check Offers\n",
    "housing['Offers'].value_counts()"
   ]
  },
  {
   "cell_type": "markdown",
   "id": "3e07f634",
   "metadata": {},
   "source": [
    "Looking at the values, Offers can take specific values and are discrete. It could mean the offers that a buyer was made by the builder at the time of buying OR some category of offering defined by the builder. Like premium apartments etc."
   ]
  },
  {
   "cell_type": "code",
   "execution_count": 6,
   "id": "9b83bc19",
   "metadata": {},
   "outputs": [
    {
     "data": {
      "text/plain": [
       "0    86\n",
       "1    42\n",
       "Name: Brick, dtype: int64"
      ]
     },
     "execution_count": 6,
     "metadata": {},
     "output_type": "execute_result"
    }
   ],
   "source": [
    "# Lets check Brick\n",
    "housing['Brick'].value_counts()"
   ]
  },
  {
   "cell_type": "markdown",
   "id": "1b550056",
   "metadata": {},
   "source": [
    "The values indicate binary categorical. Whether the house is under construction (Brick-0) or fully built house (Brick-1)"
   ]
  },
  {
   "cell_type": "code",
   "execution_count": 7,
   "id": "20718acd",
   "metadata": {},
   "outputs": [
    {
     "data": {
      "text/html": [
       "<div>\n",
       "<style scoped>\n",
       "    .dataframe tbody tr th:only-of-type {\n",
       "        vertical-align: middle;\n",
       "    }\n",
       "\n",
       "    .dataframe tbody tr th {\n",
       "        vertical-align: top;\n",
       "    }\n",
       "\n",
       "    .dataframe thead th {\n",
       "        text-align: right;\n",
       "    }\n",
       "</style>\n",
       "<table border=\"1\" class=\"dataframe\">\n",
       "  <thead>\n",
       "    <tr style=\"text-align: right;\">\n",
       "      <th></th>\n",
       "      <th>Home No</th>\n",
       "      <th>SqFt</th>\n",
       "      <th>Bedrooms</th>\n",
       "      <th>Bathrooms</th>\n",
       "      <th>Price</th>\n",
       "      <th>Nbhd_0</th>\n",
       "      <th>Nbhd_1</th>\n",
       "      <th>Offers_1</th>\n",
       "      <th>Offers_2</th>\n",
       "      <th>Offers_3</th>\n",
       "      <th>Offers_4</th>\n",
       "      <th>Offers_5</th>\n",
       "      <th>Offers_6</th>\n",
       "      <th>Brick_0</th>\n",
       "      <th>Brick_1</th>\n",
       "    </tr>\n",
       "  </thead>\n",
       "  <tbody>\n",
       "    <tr>\n",
       "      <th>22</th>\n",
       "      <td>23</td>\n",
       "      <td>1690</td>\n",
       "      <td>3</td>\n",
       "      <td>2</td>\n",
       "      <td>91700</td>\n",
       "      <td>1</td>\n",
       "      <td>0</td>\n",
       "      <td>0</td>\n",
       "      <td>0</td>\n",
       "      <td>1</td>\n",
       "      <td>0</td>\n",
       "      <td>0</td>\n",
       "      <td>0</td>\n",
       "      <td>1</td>\n",
       "      <td>0</td>\n",
       "    </tr>\n",
       "    <tr>\n",
       "      <th>91</th>\n",
       "      <td>92</td>\n",
       "      <td>2150</td>\n",
       "      <td>3</td>\n",
       "      <td>2</td>\n",
       "      <td>116500</td>\n",
       "      <td>1</td>\n",
       "      <td>0</td>\n",
       "      <td>0</td>\n",
       "      <td>1</td>\n",
       "      <td>0</td>\n",
       "      <td>0</td>\n",
       "      <td>0</td>\n",
       "      <td>0</td>\n",
       "      <td>1</td>\n",
       "      <td>0</td>\n",
       "    </tr>\n",
       "    <tr>\n",
       "      <th>10</th>\n",
       "      <td>11</td>\n",
       "      <td>2030</td>\n",
       "      <td>3</td>\n",
       "      <td>2</td>\n",
       "      <td>132500</td>\n",
       "      <td>1</td>\n",
       "      <td>0</td>\n",
       "      <td>0</td>\n",
       "      <td>0</td>\n",
       "      <td>1</td>\n",
       "      <td>0</td>\n",
       "      <td>0</td>\n",
       "      <td>0</td>\n",
       "      <td>0</td>\n",
       "      <td>1</td>\n",
       "    </tr>\n",
       "    <tr>\n",
       "      <th>33</th>\n",
       "      <td>34</td>\n",
       "      <td>2280</td>\n",
       "      <td>5</td>\n",
       "      <td>3</td>\n",
       "      <td>139600</td>\n",
       "      <td>1</td>\n",
       "      <td>0</td>\n",
       "      <td>0</td>\n",
       "      <td>0</td>\n",
       "      <td>0</td>\n",
       "      <td>1</td>\n",
       "      <td>0</td>\n",
       "      <td>0</td>\n",
       "      <td>0</td>\n",
       "      <td>1</td>\n",
       "    </tr>\n",
       "    <tr>\n",
       "      <th>67</th>\n",
       "      <td>68</td>\n",
       "      <td>2040</td>\n",
       "      <td>4</td>\n",
       "      <td>3</td>\n",
       "      <td>151900</td>\n",
       "      <td>1</td>\n",
       "      <td>0</td>\n",
       "      <td>0</td>\n",
       "      <td>0</td>\n",
       "      <td>1</td>\n",
       "      <td>0</td>\n",
       "      <td>0</td>\n",
       "      <td>0</td>\n",
       "      <td>1</td>\n",
       "      <td>0</td>\n",
       "    </tr>\n",
       "  </tbody>\n",
       "</table>\n",
       "</div>"
      ],
      "text/plain": [
       "    Home No  SqFt  Bedrooms  Bathrooms   Price  Nbhd_0  Nbhd_1  Offers_1  \\\n",
       "22       23  1690         3          2   91700       1       0         0   \n",
       "91       92  2150         3          2  116500       1       0         0   \n",
       "10       11  2030         3          2  132500       1       0         0   \n",
       "33       34  2280         5          3  139600       1       0         0   \n",
       "67       68  2040         4          3  151900       1       0         0   \n",
       "\n",
       "    Offers_2  Offers_3  Offers_4  Offers_5  Offers_6  Brick_0  Brick_1  \n",
       "22         0         1         0         0         0        1        0  \n",
       "91         1         0         0         0         0        1        0  \n",
       "10         0         1         0         0         0        0        1  \n",
       "33         0         0         1         0         0        0        1  \n",
       "67         0         1         0         0         0        1        0  "
      ]
     },
     "execution_count": 7,
     "metadata": {},
     "output_type": "execute_result"
    }
   ],
   "source": [
    "# Lets convert Nbhd, Offers and Brick into dummies\n",
    "housing_onehot = pd.get_dummies(housing, columns=['Nbhd','Offers','Brick'])\n",
    "housing_onehot.sample(5)"
   ]
  },
  {
   "cell_type": "code",
   "execution_count": 8,
   "id": "ca0130dc",
   "metadata": {},
   "outputs": [],
   "source": [
    "# Lets drop Home No\n",
    "housing_onehot.drop('Home No', axis=1, inplace=True)"
   ]
  },
  {
   "cell_type": "code",
   "execution_count": 9,
   "id": "44bcd0e8",
   "metadata": {},
   "outputs": [],
   "source": [
    "# Split the data\n",
    "X = housing_onehot.drop('Price', axis=1)\n",
    "y =  housing_onehot['Price']\n",
    "\n",
    "X_train, X_test, y_train, y_test = train_test_split(X, y, test_size=0.25, random_state=42)"
   ]
  },
  {
   "cell_type": "code",
   "execution_count": 10,
   "id": "b37a124d",
   "metadata": {},
   "outputs": [
    {
     "name": "stdout",
     "output_type": "stream",
     "text": [
      "{'max_depth': 5, 'min_samples_leaf': 10, 'min_samples_split': 5}\n",
      "0.42087384105873615\n"
     ]
    }
   ],
   "source": [
    "# Lets fit the decision tree\n",
    "params = {'min_samples_split' : [5,10,15,20],\n",
    "          'min_samples_leaf' : [10,15,20],\n",
    "          'max_depth' : [5,10,15]}\n",
    "\n",
    "# Create GridSearchCV object\n",
    "clf_gs = GridSearchCV(DecisionTreeRegressor(), cv=5, param_grid=params)\n",
    "\n",
    "# Fit\n",
    "clf_gs.fit(X_train, y_train)\n",
    "\n",
    "# Print best params and best score\n",
    "print(clf_gs.best_params_)\n",
    "print(clf_gs.best_score_)"
   ]
  },
  {
   "cell_type": "code",
   "execution_count": 11,
   "id": "e6424e6f",
   "metadata": {},
   "outputs": [
    {
     "data": {
      "text/plain": [
       "0.5752963809407762"
      ]
     },
     "execution_count": 11,
     "metadata": {},
     "output_type": "execute_result"
    }
   ],
   "source": [
    "# Check score on Test\n",
    "clf_gs.score(X_test, y_test)"
   ]
  },
  {
   "cell_type": "markdown",
   "id": "c69cc842",
   "metadata": {},
   "source": [
    "The prediction though better than training set is still poor with only r2 score of 57%"
   ]
  }
 ],
 "metadata": {
  "kernelspec": {
   "display_name": "Python 3 (ipykernel)",
   "language": "python",
   "name": "python3"
  },
  "language_info": {
   "codemirror_mode": {
    "name": "ipython",
    "version": 3
   },
   "file_extension": ".py",
   "mimetype": "text/x-python",
   "name": "python",
   "nbconvert_exporter": "python",
   "pygments_lexer": "ipython3",
   "version": "3.7.13"
  }
 },
 "nbformat": 4,
 "nbformat_minor": 5
}
