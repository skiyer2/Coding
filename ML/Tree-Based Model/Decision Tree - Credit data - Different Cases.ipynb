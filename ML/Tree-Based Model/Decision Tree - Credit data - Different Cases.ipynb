{
 "cells": [
  {
   "cell_type": "markdown",
   "id": "c853b13d",
   "metadata": {},
   "source": [
    "Consider the dataset credit_data.csv. A1-A15 = Attributes, T - Target (positive or negative credit). Train a decision tree with 2 different methods - ID3 and CART. Split the data into 75% train and 25% test.\n",
    "\n",
    "Find the accuracy on test data for two different methods."
   ]
  },
  {
   "cell_type": "code",
   "execution_count": 1,
   "id": "f56c812f",
   "metadata": {},
   "outputs": [],
   "source": [
    "# Import libraries\n",
    "import numpy as np\n",
    "import pandas as pd\n",
    "import matplotlib.pyplot as plt\n",
    "\n",
    "from sklearn import tree\n",
    "\n",
    "pd.set_option('display.max_columns', None)"
   ]
  },
  {
   "cell_type": "code",
   "execution_count": 2,
   "id": "a692838d",
   "metadata": {},
   "outputs": [
    {
     "data": {
      "text/html": [
       "<div>\n",
       "<style scoped>\n",
       "    .dataframe tbody tr th:only-of-type {\n",
       "        vertical-align: middle;\n",
       "    }\n",
       "\n",
       "    .dataframe tbody tr th {\n",
       "        vertical-align: top;\n",
       "    }\n",
       "\n",
       "    .dataframe thead th {\n",
       "        text-align: right;\n",
       "    }\n",
       "</style>\n",
       "<table border=\"1\" class=\"dataframe\">\n",
       "  <thead>\n",
       "    <tr style=\"text-align: right;\">\n",
       "      <th></th>\n",
       "      <th>A1</th>\n",
       "      <th>A2</th>\n",
       "      <th>A3</th>\n",
       "      <th>A4</th>\n",
       "      <th>A5</th>\n",
       "      <th>A6</th>\n",
       "      <th>A7</th>\n",
       "      <th>A8</th>\n",
       "      <th>A9</th>\n",
       "      <th>A10</th>\n",
       "      <th>A11</th>\n",
       "      <th>A12</th>\n",
       "      <th>A13</th>\n",
       "      <th>A14</th>\n",
       "      <th>A15</th>\n",
       "      <th>T</th>\n",
       "    </tr>\n",
       "  </thead>\n",
       "  <tbody>\n",
       "    <tr>\n",
       "      <th>0</th>\n",
       "      <td>b</td>\n",
       "      <td>30.83</td>\n",
       "      <td>0.000</td>\n",
       "      <td>u</td>\n",
       "      <td>g</td>\n",
       "      <td>w</td>\n",
       "      <td>v</td>\n",
       "      <td>1.25</td>\n",
       "      <td>t</td>\n",
       "      <td>t</td>\n",
       "      <td>1</td>\n",
       "      <td>f</td>\n",
       "      <td>g</td>\n",
       "      <td>202</td>\n",
       "      <td>0</td>\n",
       "      <td>+</td>\n",
       "    </tr>\n",
       "    <tr>\n",
       "      <th>1</th>\n",
       "      <td>a</td>\n",
       "      <td>58.67</td>\n",
       "      <td>4.460</td>\n",
       "      <td>u</td>\n",
       "      <td>g</td>\n",
       "      <td>q</td>\n",
       "      <td>h</td>\n",
       "      <td>3.04</td>\n",
       "      <td>t</td>\n",
       "      <td>t</td>\n",
       "      <td>6</td>\n",
       "      <td>f</td>\n",
       "      <td>g</td>\n",
       "      <td>43</td>\n",
       "      <td>560</td>\n",
       "      <td>+</td>\n",
       "    </tr>\n",
       "    <tr>\n",
       "      <th>2</th>\n",
       "      <td>a</td>\n",
       "      <td>24.5</td>\n",
       "      <td>0.500</td>\n",
       "      <td>u</td>\n",
       "      <td>g</td>\n",
       "      <td>q</td>\n",
       "      <td>h</td>\n",
       "      <td>1.50</td>\n",
       "      <td>t</td>\n",
       "      <td>f</td>\n",
       "      <td>0</td>\n",
       "      <td>f</td>\n",
       "      <td>g</td>\n",
       "      <td>280</td>\n",
       "      <td>824</td>\n",
       "      <td>+</td>\n",
       "    </tr>\n",
       "    <tr>\n",
       "      <th>3</th>\n",
       "      <td>b</td>\n",
       "      <td>27.83</td>\n",
       "      <td>1.540</td>\n",
       "      <td>u</td>\n",
       "      <td>g</td>\n",
       "      <td>w</td>\n",
       "      <td>v</td>\n",
       "      <td>3.75</td>\n",
       "      <td>t</td>\n",
       "      <td>t</td>\n",
       "      <td>5</td>\n",
       "      <td>t</td>\n",
       "      <td>g</td>\n",
       "      <td>100</td>\n",
       "      <td>3</td>\n",
       "      <td>+</td>\n",
       "    </tr>\n",
       "    <tr>\n",
       "      <th>4</th>\n",
       "      <td>b</td>\n",
       "      <td>20.17</td>\n",
       "      <td>5.625</td>\n",
       "      <td>u</td>\n",
       "      <td>g</td>\n",
       "      <td>w</td>\n",
       "      <td>v</td>\n",
       "      <td>1.71</td>\n",
       "      <td>t</td>\n",
       "      <td>f</td>\n",
       "      <td>0</td>\n",
       "      <td>f</td>\n",
       "      <td>s</td>\n",
       "      <td>120</td>\n",
       "      <td>0</td>\n",
       "      <td>+</td>\n",
       "    </tr>\n",
       "  </tbody>\n",
       "</table>\n",
       "</div>"
      ],
      "text/plain": [
       "  A1     A2     A3 A4 A5 A6 A7    A8 A9 A10  A11 A12 A13  A14  A15  T\n",
       "0  b  30.83  0.000  u  g  w  v  1.25  t   t    1   f   g  202    0  +\n",
       "1  a  58.67  4.460  u  g  q  h  3.04  t   t    6   f   g   43  560  +\n",
       "2  a   24.5  0.500  u  g  q  h  1.50  t   f    0   f   g  280  824  +\n",
       "3  b  27.83  1.540  u  g  w  v  3.75  t   t    5   t   g  100    3  +\n",
       "4  b  20.17  5.625  u  g  w  v  1.71  t   f    0   f   s  120    0  +"
      ]
     },
     "execution_count": 2,
     "metadata": {},
     "output_type": "execute_result"
    }
   ],
   "source": [
    "# Load data\n",
    "credit_data = pd.read_csv('C:/Users/Karthik.Iyer/Downloads/AccelerateAI/Tree-Based-Models-main/01_credit_data.csv')\n",
    "credit_data.head()"
   ]
  },
  {
   "cell_type": "code",
   "execution_count": 3,
   "id": "517dda07",
   "metadata": {},
   "outputs": [
    {
     "name": "stdout",
     "output_type": "stream",
     "text": [
      "<class 'pandas.core.frame.DataFrame'>\n",
      "RangeIndex: 690 entries, 0 to 689\n",
      "Data columns (total 16 columns):\n",
      " #   Column  Non-Null Count  Dtype  \n",
      "---  ------  --------------  -----  \n",
      " 0   A1      690 non-null    object \n",
      " 1   A2      690 non-null    object \n",
      " 2   A3      690 non-null    float64\n",
      " 3   A4      690 non-null    object \n",
      " 4   A5      690 non-null    object \n",
      " 5   A6      690 non-null    object \n",
      " 6   A7      690 non-null    object \n",
      " 7   A8      690 non-null    float64\n",
      " 8   A9      690 non-null    object \n",
      " 9   A10     690 non-null    object \n",
      " 10  A11     690 non-null    int64  \n",
      " 11  A12     690 non-null    object \n",
      " 12  A13     690 non-null    object \n",
      " 13  A14     690 non-null    object \n",
      " 14  A15     690 non-null    int64  \n",
      " 15  T       690 non-null    object \n",
      "dtypes: float64(2), int64(2), object(12)\n",
      "memory usage: 86.4+ KB\n"
     ]
    }
   ],
   "source": [
    "# Check info\n",
    "credit_data.info()"
   ]
  },
  {
   "cell_type": "code",
   "execution_count": 4,
   "id": "adef7d2e",
   "metadata": {},
   "outputs": [
    {
     "data": {
      "text/plain": [
       "(690, 16)"
      ]
     },
     "execution_count": 4,
     "metadata": {},
     "output_type": "execute_result"
    }
   ],
   "source": [
    "# Check shape\n",
    "credit_data.shape"
   ]
  },
  {
   "cell_type": "code",
   "execution_count": 5,
   "id": "66161519",
   "metadata": {},
   "outputs": [
    {
     "data": {
      "text/plain": [
       "?        1.739130\n",
       "22.67    1.304348\n",
       "20.42    1.014493\n",
       "18.83    0.869565\n",
       "24.5     0.869565\n",
       "           ...   \n",
       "48.25    0.144928\n",
       "28.33    0.144928\n",
       "18.75    0.144928\n",
       "18.5     0.144928\n",
       "36.42    0.144928\n",
       "Name: A2, Length: 350, dtype: float64"
      ]
     },
     "execution_count": 5,
     "metadata": {},
     "output_type": "execute_result"
    }
   ],
   "source": [
    "# Check A2 as it looks numeric but data type is object\n",
    "credit_data['A2'].value_counts(normalize=True)*100"
   ]
  },
  {
   "cell_type": "code",
   "execution_count": 6,
   "id": "7ad68680",
   "metadata": {},
   "outputs": [],
   "source": [
    "# Only 1.7% rows have these values ?. Lets drop them\n",
    "credit_data.drop(credit_data[credit_data['A2'] == '?'].index, inplace=True)"
   ]
  },
  {
   "cell_type": "code",
   "execution_count": 7,
   "id": "5ddd85cd",
   "metadata": {},
   "outputs": [
    {
     "data": {
      "text/plain": [
       "0      19.026549\n",
       "120     5.162242\n",
       "200     5.014749\n",
       "160     5.014749\n",
       "100     4.424779\n",
       "80      4.424779\n",
       "280     3.244838\n",
       "180     2.654867\n",
       "140     2.359882\n",
       "240     2.064897\n",
       "320     1.917404\n",
       "?       1.769912\n",
       "300     1.769912\n",
       "260     1.622419\n",
       "400     1.327434\n",
       "60      1.327434\n",
       "220     1.327434\n",
       "340     1.032448\n",
       "360     1.032448\n",
       "440     0.589971\n",
       "Name: A14, dtype: float64"
      ]
     },
     "execution_count": 7,
     "metadata": {},
     "output_type": "execute_result"
    }
   ],
   "source": [
    "# Check A14 as it looks numeric but data type is object\n",
    "val = credit_data['A14'].value_counts(normalize=True)*100\n",
    "val[:20]"
   ]
  },
  {
   "cell_type": "code",
   "execution_count": 8,
   "id": "45800d4a",
   "metadata": {},
   "outputs": [],
   "source": [
    "# Only 1.7% rows have these values ?. Lets drop them\n",
    "credit_data.drop(credit_data[credit_data['A14'] == '?'].index, inplace=True)"
   ]
  },
  {
   "cell_type": "code",
   "execution_count": 9,
   "id": "132507cf",
   "metadata": {},
   "outputs": [
    {
     "data": {
      "text/plain": [
       "(666, 16)"
      ]
     },
     "execution_count": 9,
     "metadata": {},
     "output_type": "execute_result"
    }
   ],
   "source": [
    "# Check shape\n",
    "credit_data.shape"
   ]
  },
  {
   "cell_type": "code",
   "execution_count": 10,
   "id": "9c84ffef",
   "metadata": {},
   "outputs": [],
   "source": [
    "# Lets convert A2 to float and A14 to int64\n",
    "credit_data['A2'] = credit_data['A2'].astype('float')\n",
    "credit_data['A14'] = credit_data['A14'].astype('int64')"
   ]
  },
  {
   "cell_type": "code",
   "execution_count": 11,
   "id": "1c8e9341",
   "metadata": {},
   "outputs": [
    {
     "data": {
      "text/plain": [
       "A1      object\n",
       "A2     float64\n",
       "A3     float64\n",
       "A4      object\n",
       "A5      object\n",
       "A6      object\n",
       "A7      object\n",
       "A8     float64\n",
       "A9      object\n",
       "A10     object\n",
       "A11      int64\n",
       "A12     object\n",
       "A13     object\n",
       "A14      int64\n",
       "A15      int64\n",
       "T       object\n",
       "dtype: object"
      ]
     },
     "execution_count": 11,
     "metadata": {},
     "output_type": "execute_result"
    }
   ],
   "source": [
    "# Check data type\n",
    "credit_data.dtypes"
   ]
  },
  {
   "cell_type": "code",
   "execution_count": 12,
   "id": "4fbd821e",
   "metadata": {},
   "outputs": [
    {
     "data": {
      "text/html": [
       "<div>\n",
       "<style scoped>\n",
       "    .dataframe tbody tr th:only-of-type {\n",
       "        vertical-align: middle;\n",
       "    }\n",
       "\n",
       "    .dataframe tbody tr th {\n",
       "        vertical-align: top;\n",
       "    }\n",
       "\n",
       "    .dataframe thead th {\n",
       "        text-align: right;\n",
       "    }\n",
       "</style>\n",
       "<table border=\"1\" class=\"dataframe\">\n",
       "  <thead>\n",
       "    <tr style=\"text-align: right;\">\n",
       "      <th></th>\n",
       "      <th>A1_a</th>\n",
       "      <th>A1_b</th>\n",
       "      <th>A4_u</th>\n",
       "      <th>A4_y</th>\n",
       "      <th>A5_gg</th>\n",
       "      <th>A5_p</th>\n",
       "      <th>A6_aa</th>\n",
       "      <th>A6_c</th>\n",
       "      <th>A6_cc</th>\n",
       "      <th>A6_d</th>\n",
       "      <th>A6_e</th>\n",
       "      <th>A6_ff</th>\n",
       "      <th>A6_i</th>\n",
       "      <th>A6_j</th>\n",
       "      <th>A6_k</th>\n",
       "      <th>A6_m</th>\n",
       "      <th>A6_q</th>\n",
       "      <th>A6_r</th>\n",
       "      <th>A6_w</th>\n",
       "      <th>A6_x</th>\n",
       "      <th>A7_bb</th>\n",
       "      <th>A7_dd</th>\n",
       "      <th>A7_ff</th>\n",
       "      <th>A7_h</th>\n",
       "      <th>A7_j</th>\n",
       "      <th>A7_n</th>\n",
       "      <th>A7_o</th>\n",
       "      <th>A7_v</th>\n",
       "      <th>A7_z</th>\n",
       "      <th>A9_t</th>\n",
       "      <th>A10_t</th>\n",
       "      <th>A12_t</th>\n",
       "      <th>A13_p</th>\n",
       "      <th>A13_s</th>\n",
       "      <th>A2</th>\n",
       "      <th>A3</th>\n",
       "      <th>A8</th>\n",
       "      <th>A11</th>\n",
       "      <th>A14</th>\n",
       "      <th>A15</th>\n",
       "      <th>T</th>\n",
       "    </tr>\n",
       "  </thead>\n",
       "  <tbody>\n",
       "    <tr>\n",
       "      <th>0</th>\n",
       "      <td>0</td>\n",
       "      <td>1</td>\n",
       "      <td>1</td>\n",
       "      <td>0</td>\n",
       "      <td>0</td>\n",
       "      <td>0</td>\n",
       "      <td>0</td>\n",
       "      <td>0</td>\n",
       "      <td>0</td>\n",
       "      <td>0</td>\n",
       "      <td>0</td>\n",
       "      <td>0</td>\n",
       "      <td>0</td>\n",
       "      <td>0</td>\n",
       "      <td>0</td>\n",
       "      <td>0</td>\n",
       "      <td>0</td>\n",
       "      <td>0</td>\n",
       "      <td>1</td>\n",
       "      <td>0</td>\n",
       "      <td>0</td>\n",
       "      <td>0</td>\n",
       "      <td>0</td>\n",
       "      <td>0</td>\n",
       "      <td>0</td>\n",
       "      <td>0</td>\n",
       "      <td>0</td>\n",
       "      <td>1</td>\n",
       "      <td>0</td>\n",
       "      <td>1</td>\n",
       "      <td>1</td>\n",
       "      <td>0</td>\n",
       "      <td>0</td>\n",
       "      <td>0</td>\n",
       "      <td>30.83</td>\n",
       "      <td>0.000</td>\n",
       "      <td>1.25</td>\n",
       "      <td>1</td>\n",
       "      <td>202</td>\n",
       "      <td>0</td>\n",
       "      <td>+</td>\n",
       "    </tr>\n",
       "    <tr>\n",
       "      <th>1</th>\n",
       "      <td>1</td>\n",
       "      <td>0</td>\n",
       "      <td>1</td>\n",
       "      <td>0</td>\n",
       "      <td>0</td>\n",
       "      <td>0</td>\n",
       "      <td>0</td>\n",
       "      <td>0</td>\n",
       "      <td>0</td>\n",
       "      <td>0</td>\n",
       "      <td>0</td>\n",
       "      <td>0</td>\n",
       "      <td>0</td>\n",
       "      <td>0</td>\n",
       "      <td>0</td>\n",
       "      <td>0</td>\n",
       "      <td>1</td>\n",
       "      <td>0</td>\n",
       "      <td>0</td>\n",
       "      <td>0</td>\n",
       "      <td>0</td>\n",
       "      <td>0</td>\n",
       "      <td>0</td>\n",
       "      <td>1</td>\n",
       "      <td>0</td>\n",
       "      <td>0</td>\n",
       "      <td>0</td>\n",
       "      <td>0</td>\n",
       "      <td>0</td>\n",
       "      <td>1</td>\n",
       "      <td>1</td>\n",
       "      <td>0</td>\n",
       "      <td>0</td>\n",
       "      <td>0</td>\n",
       "      <td>58.67</td>\n",
       "      <td>4.460</td>\n",
       "      <td>3.04</td>\n",
       "      <td>6</td>\n",
       "      <td>43</td>\n",
       "      <td>560</td>\n",
       "      <td>+</td>\n",
       "    </tr>\n",
       "    <tr>\n",
       "      <th>2</th>\n",
       "      <td>1</td>\n",
       "      <td>0</td>\n",
       "      <td>1</td>\n",
       "      <td>0</td>\n",
       "      <td>0</td>\n",
       "      <td>0</td>\n",
       "      <td>0</td>\n",
       "      <td>0</td>\n",
       "      <td>0</td>\n",
       "      <td>0</td>\n",
       "      <td>0</td>\n",
       "      <td>0</td>\n",
       "      <td>0</td>\n",
       "      <td>0</td>\n",
       "      <td>0</td>\n",
       "      <td>0</td>\n",
       "      <td>1</td>\n",
       "      <td>0</td>\n",
       "      <td>0</td>\n",
       "      <td>0</td>\n",
       "      <td>0</td>\n",
       "      <td>0</td>\n",
       "      <td>0</td>\n",
       "      <td>1</td>\n",
       "      <td>0</td>\n",
       "      <td>0</td>\n",
       "      <td>0</td>\n",
       "      <td>0</td>\n",
       "      <td>0</td>\n",
       "      <td>1</td>\n",
       "      <td>0</td>\n",
       "      <td>0</td>\n",
       "      <td>0</td>\n",
       "      <td>0</td>\n",
       "      <td>24.50</td>\n",
       "      <td>0.500</td>\n",
       "      <td>1.50</td>\n",
       "      <td>0</td>\n",
       "      <td>280</td>\n",
       "      <td>824</td>\n",
       "      <td>+</td>\n",
       "    </tr>\n",
       "    <tr>\n",
       "      <th>3</th>\n",
       "      <td>0</td>\n",
       "      <td>1</td>\n",
       "      <td>1</td>\n",
       "      <td>0</td>\n",
       "      <td>0</td>\n",
       "      <td>0</td>\n",
       "      <td>0</td>\n",
       "      <td>0</td>\n",
       "      <td>0</td>\n",
       "      <td>0</td>\n",
       "      <td>0</td>\n",
       "      <td>0</td>\n",
       "      <td>0</td>\n",
       "      <td>0</td>\n",
       "      <td>0</td>\n",
       "      <td>0</td>\n",
       "      <td>0</td>\n",
       "      <td>0</td>\n",
       "      <td>1</td>\n",
       "      <td>0</td>\n",
       "      <td>0</td>\n",
       "      <td>0</td>\n",
       "      <td>0</td>\n",
       "      <td>0</td>\n",
       "      <td>0</td>\n",
       "      <td>0</td>\n",
       "      <td>0</td>\n",
       "      <td>1</td>\n",
       "      <td>0</td>\n",
       "      <td>1</td>\n",
       "      <td>1</td>\n",
       "      <td>1</td>\n",
       "      <td>0</td>\n",
       "      <td>0</td>\n",
       "      <td>27.83</td>\n",
       "      <td>1.540</td>\n",
       "      <td>3.75</td>\n",
       "      <td>5</td>\n",
       "      <td>100</td>\n",
       "      <td>3</td>\n",
       "      <td>+</td>\n",
       "    </tr>\n",
       "    <tr>\n",
       "      <th>4</th>\n",
       "      <td>0</td>\n",
       "      <td>1</td>\n",
       "      <td>1</td>\n",
       "      <td>0</td>\n",
       "      <td>0</td>\n",
       "      <td>0</td>\n",
       "      <td>0</td>\n",
       "      <td>0</td>\n",
       "      <td>0</td>\n",
       "      <td>0</td>\n",
       "      <td>0</td>\n",
       "      <td>0</td>\n",
       "      <td>0</td>\n",
       "      <td>0</td>\n",
       "      <td>0</td>\n",
       "      <td>0</td>\n",
       "      <td>0</td>\n",
       "      <td>0</td>\n",
       "      <td>1</td>\n",
       "      <td>0</td>\n",
       "      <td>0</td>\n",
       "      <td>0</td>\n",
       "      <td>0</td>\n",
       "      <td>0</td>\n",
       "      <td>0</td>\n",
       "      <td>0</td>\n",
       "      <td>0</td>\n",
       "      <td>1</td>\n",
       "      <td>0</td>\n",
       "      <td>1</td>\n",
       "      <td>0</td>\n",
       "      <td>0</td>\n",
       "      <td>0</td>\n",
       "      <td>1</td>\n",
       "      <td>20.17</td>\n",
       "      <td>5.625</td>\n",
       "      <td>1.71</td>\n",
       "      <td>0</td>\n",
       "      <td>120</td>\n",
       "      <td>0</td>\n",
       "      <td>+</td>\n",
       "    </tr>\n",
       "  </tbody>\n",
       "</table>\n",
       "</div>"
      ],
      "text/plain": [
       "   A1_a  A1_b  A4_u  A4_y  A5_gg  A5_p  A6_aa  A6_c  A6_cc  A6_d  A6_e  A6_ff  \\\n",
       "0     0     1     1     0      0     0      0     0      0     0     0      0   \n",
       "1     1     0     1     0      0     0      0     0      0     0     0      0   \n",
       "2     1     0     1     0      0     0      0     0      0     0     0      0   \n",
       "3     0     1     1     0      0     0      0     0      0     0     0      0   \n",
       "4     0     1     1     0      0     0      0     0      0     0     0      0   \n",
       "\n",
       "   A6_i  A6_j  A6_k  A6_m  A6_q  A6_r  A6_w  A6_x  A7_bb  A7_dd  A7_ff  A7_h  \\\n",
       "0     0     0     0     0     0     0     1     0      0      0      0     0   \n",
       "1     0     0     0     0     1     0     0     0      0      0      0     1   \n",
       "2     0     0     0     0     1     0     0     0      0      0      0     1   \n",
       "3     0     0     0     0     0     0     1     0      0      0      0     0   \n",
       "4     0     0     0     0     0     0     1     0      0      0      0     0   \n",
       "\n",
       "   A7_j  A7_n  A7_o  A7_v  A7_z  A9_t  A10_t  A12_t  A13_p  A13_s     A2  \\\n",
       "0     0     0     0     1     0     1      1      0      0      0  30.83   \n",
       "1     0     0     0     0     0     1      1      0      0      0  58.67   \n",
       "2     0     0     0     0     0     1      0      0      0      0  24.50   \n",
       "3     0     0     0     1     0     1      1      1      0      0  27.83   \n",
       "4     0     0     0     1     0     1      0      0      0      1  20.17   \n",
       "\n",
       "      A3    A8  A11  A14  A15  T  \n",
       "0  0.000  1.25    1  202    0  +  \n",
       "1  4.460  3.04    6   43  560  +  \n",
       "2  0.500  1.50    0  280  824  +  \n",
       "3  1.540  3.75    5  100    3  +  \n",
       "4  5.625  1.71    0  120    0  +  "
      ]
     },
     "execution_count": 12,
     "metadata": {},
     "output_type": "execute_result"
    }
   ],
   "source": [
    "# Lets create dummy variables\n",
    "A1_dum = pd.get_dummies(credit_data['A1'], prefix='A1', drop_first=True)\n",
    "A4_dum = pd.get_dummies(credit_data['A4'], prefix='A4', drop_first=True)\n",
    "A5_dum = pd.get_dummies(credit_data['A5'], prefix='A5', drop_first=True)\n",
    "A6_dum = pd.get_dummies(credit_data['A6'], prefix='A6', drop_first=True)\n",
    "A7_dum = pd.get_dummies(credit_data['A7'], prefix='A7', drop_first=True)\n",
    "A9_dum = pd.get_dummies(credit_data['A9'], prefix='A9', drop_first=True)\n",
    "A10_dum = pd.get_dummies(credit_data['A10'], prefix='A10', drop_first=True)\n",
    "A12_dum = pd.get_dummies(credit_data['A12'], prefix='A12', drop_first=True)\n",
    "A13_dum = pd.get_dummies(credit_data['A13'], prefix='A13', drop_first=True)\n",
    "\n",
    "# Lets merge with original data\n",
    "credit_data = pd.concat([A1_dum,A4_dum,A5_dum,A6_dum,A7_dum,A9_dum,A10_dum,A12_dum,A13_dum,credit_data], axis=1)\n",
    "\n",
    "# Drop columns\n",
    "credit_data.drop(['A1','A4','A5','A6','A7','A9','A10','A12','A13'], axis=1, inplace=True)\n",
    "\n",
    "# Check data\n",
    "credit_data.head()"
   ]
  },
  {
   "cell_type": "code",
   "execution_count": 13,
   "id": "5be9dfb1",
   "metadata": {},
   "outputs": [
    {
     "data": {
      "text/plain": [
       "-    367\n",
       "+    299\n",
       "Name: T, dtype: int64"
      ]
     },
     "execution_count": 13,
     "metadata": {},
     "output_type": "execute_result"
    }
   ],
   "source": [
    "# Check Target\n",
    "credit_data['T'].value_counts()"
   ]
  },
  {
   "cell_type": "code",
   "execution_count": 14,
   "id": "5277ed8c",
   "metadata": {},
   "outputs": [
    {
     "data": {
      "text/plain": [
       "0    367\n",
       "1    299\n",
       "Name: T, dtype: int64"
      ]
     },
     "execution_count": 14,
     "metadata": {},
     "output_type": "execute_result"
    }
   ],
   "source": [
    "# Map Target\n",
    "credit_data['T'] = credit_data['T'].map({'+':1, '-':0})\n",
    "\n",
    "# Check T\n",
    "credit_data['T'].value_counts()"
   ]
  },
  {
   "cell_type": "code",
   "execution_count": 15,
   "id": "5057d631",
   "metadata": {},
   "outputs": [],
   "source": [
    "# Prepare X and y\n",
    "X = credit_data.drop('T', axis=1)\n",
    "y = credit_data['T']"
   ]
  },
  {
   "cell_type": "code",
   "execution_count": 16,
   "id": "cfc6767d",
   "metadata": {},
   "outputs": [],
   "source": [
    "# Split data\n",
    "from sklearn.model_selection import train_test_split\n",
    "\n",
    "X_train, X_test, y_train, y_test = train_test_split(X, y, train_size=0.75, random_state=42)"
   ]
  },
  {
   "cell_type": "code",
   "execution_count": 17,
   "id": "0b26209c",
   "metadata": {},
   "outputs": [],
   "source": [
    "# ID3\n",
    "clf = tree.DecisionTreeClassifier(criterion='entropy')\n",
    "clf = clf.fit(X_train, y_train)"
   ]
  },
  {
   "cell_type": "code",
   "execution_count": 18,
   "id": "a7eb944c",
   "metadata": {},
   "outputs": [
    {
     "data": {
      "text/plain": [
       "[Ellipsis]"
      ]
     },
     "execution_count": 18,
     "metadata": {},
     "output_type": "execute_result"
    },
    {
     "data": {
      "image/png": "[encoded data removed]",
      "text/plain": [
       "<Figure size 720x720 with 1 Axes>"
      ]
     },
     "metadata": {
      "needs_background": "light"
     },
     "output_type": "display_data"
    }
   ],
   "source": [
    "plt.figure(figsize=(10,10))\n",
    "tree.plot_tree(clf)\n",
    "[...]"
   ]
  },
  {
   "cell_type": "code",
   "execution_count": 19,
   "id": "6e7facea",
   "metadata": {},
   "outputs": [
    {
     "name": "stdout",
     "output_type": "stream",
     "text": [
      "0.7784431137724551\n"
     ]
    }
   ],
   "source": [
    "# Predit on test data\n",
    "p_pred = clf.predict_proba(X_test)\n",
    "y_pred = clf.predict(X_test)\n",
    "\n",
    "score_ = clf.score(X_test, y_test)\n",
    "print(score_)"
   ]
  },
  {
   "cell_type": "code",
   "execution_count": 20,
   "id": "7686274d",
   "metadata": {},
   "outputs": [],
   "source": [
    "# CART\n",
    "clf2 = tree.DecisionTreeClassifier(criterion='gini')\n",
    "clf2 = clf2.fit(X_train, y_train)"
   ]
  },
  {
   "cell_type": "code",
   "execution_count": 21,
   "id": "dcfb9c44",
   "metadata": {},
   "outputs": [
    {
     "data": {
      "text/plain": [
       "[Ellipsis]"
      ]
     },
     "execution_count": 21,
     "metadata": {},
     "output_type": "execute_result"
    },
    {
     "data": {
      "image/png": "[encoded data removed]",
      "text/plain": [
       "<Figure size 720x720 with 1 Axes>"
      ]
     },
     "metadata": {
      "needs_background": "light"
     },
     "output_type": "display_data"
    }
   ],
   "source": [
    "plt.figure(figsize=(10,10))\n",
    "tree.plot_tree(clf2)\n",
    "[...]"
   ]
  },
  {
   "cell_type": "code",
   "execution_count": 22,
   "id": "39439218",
   "metadata": {},
   "outputs": [
    {
     "name": "stdout",
     "output_type": "stream",
     "text": [
      "0.7844311377245509\n"
     ]
    }
   ],
   "source": [
    "# Predict on test data\n",
    "p_pred = clf2.predict_proba(X_test)\n",
    "y_pred = clf2.predict(X_test)\n",
    "\n",
    "score_ = clf2.score(X_test, y_test)\n",
    "print(score_)"
   ]
  },
  {
   "cell_type": "markdown",
   "id": "27dd105f",
   "metadata": {},
   "source": [
    "There is no substantial improvement in the accuracy after using CART over ID3, and hence both the models are suggested here."
   ]
  },
  {
   "cell_type": "code",
   "execution_count": 23,
   "id": "21a956d9",
   "metadata": {},
   "outputs": [
    {
     "name": "stdout",
     "output_type": "stream",
     "text": [
      "         Cases  Train Accuracy  Test Accuracy\n",
      "0  max_depth=5            0.94           0.81\n",
      "1  max_depth=6            0.96           0.81\n",
      "2  max_depth=7            0.97           0.81\n"
     ]
    }
   ],
   "source": [
    "# Lets check different hyperparameters\n",
    "# Case 1: max_depth = 5,6 and 7\n",
    "\n",
    "case_1 = [5,6,7]\n",
    "d = {'Cases':[], 'Train Accuracy':[], 'Test Accuracy':[]}\n",
    "\n",
    "for i in case_1:\n",
    "    clf_case1 = tree.DecisionTreeClassifier(criterion='gini', max_depth=i)\n",
    "    clf_case1 = clf_case1.fit(X_train,y_train)\n",
    "    train_score_case1 = clf_case1.score(X_train, y_train)\n",
    "    test_score_case1 = clf_case1.score(X_test, y_test)\n",
    "    d['Cases'].append('max_depth='+str(i))\n",
    "    d['Train Accuracy'].append(round(train_score_case1,2))\n",
    "    d['Test Accuracy'].append(round(test_score_case1,2))\n",
    "\n",
    "print(pd.DataFrame(d))"
   ]
  },
  {
   "cell_type": "markdown",
   "id": "235b622a",
   "metadata": {},
   "source": [
    "Train Accuracy is increasing as the depth increases, but Test Accuracy remains same. So there is ovefitting on training data"
   ]
  },
  {
   "cell_type": "code",
   "execution_count": 24,
   "id": "7ea7a570",
   "metadata": {},
   "outputs": [
    {
     "name": "stdout",
     "output_type": "stream",
     "text": [
      "                  Cases  Train Accuracy  Test Accuracy\n",
      "0  min_samples_split=10            0.97           0.81\n",
      "1  min_samples_split=15            0.94           0.80\n",
      "2  min_samples_split=20            0.93           0.84\n"
     ]
    }
   ],
   "source": [
    "# Lets check different hyperparameters\n",
    "# Case 2: min_samples_split = 10,15 and 20\n",
    "\n",
    "case_2 = [10,15,20]\n",
    "d = {'Cases':[], 'Train Accuracy':[], 'Test Accuracy':[]}\n",
    "\n",
    "for i in case_2:\n",
    "    clf_case2 = tree.DecisionTreeClassifier(criterion='gini', min_samples_split=i)\n",
    "    clf_case2 = clf_case2.fit(X_train,y_train)\n",
    "    train_score_case2 = clf_case2.score(X_train, y_train)\n",
    "    test_score_case2 = clf_case2.score(X_test, y_test)\n",
    "    d['Cases'].append('min_samples_split='+str(i))\n",
    "    d['Train Accuracy'].append(round(train_score_case2,2))\n",
    "    d['Test Accuracy'].append(round(test_score_case2,2))\n",
    "\n",
    "print(pd.DataFrame(d))"
   ]
  },
  {
   "cell_type": "markdown",
   "id": "963dbe5c",
   "metadata": {},
   "source": [
    "Train Accuracy is decreasing, but Test Accuracy first decreases and then increases and becomes highest for min_samples_split=20. It hepls in reducing overfitting with increase in minimum samples split."
   ]
  },
  {
   "cell_type": "code",
   "execution_count": 25,
   "id": "0f6498a0",
   "metadata": {},
   "outputs": [
    {
     "name": "stdout",
     "output_type": "stream",
     "text": [
      "               Cases  Train Accuracy  Test Accuracy\n",
      "0  max_features=sqrt             1.0           0.75\n",
      "1  max_features=log2             1.0           0.72\n"
     ]
    }
   ],
   "source": [
    "# Lets check different hyperparameters\n",
    "# Case 3: max_features = sqrt and log2\n",
    "\n",
    "case_3 = ['sqrt', 'log2']\n",
    "d = {'Cases':[], 'Train Accuracy':[], 'Test Accuracy':[]}\n",
    "\n",
    "for i in case_3:\n",
    "    clf_case3 = tree.DecisionTreeClassifier(criterion='gini', max_features=i)\n",
    "    clf_case3 = clf_case3.fit(X_train,y_train)\n",
    "    train_score_case3 = clf_case3.score(X_train, y_train)\n",
    "    test_score_case3 = clf_case3.score(X_test, y_test)\n",
    "    d['Cases'].append('max_features='+i)\n",
    "    d['Train Accuracy'].append(round(train_score_case3,2))\n",
    "    d['Test Accuracy'].append(round(test_score_case3,2))\n",
    "\n",
    "print(pd.DataFrame(d))"
   ]
  },
  {
   "cell_type": "markdown",
   "id": "a6e8d1b6",
   "metadata": {},
   "source": [
    "It clearly overfits on Training set, but log2 is better than sqrt, as the Test accuracy is better in case of log2 than sqrt."
   ]
  }
 ],
 "metadata": {
  "kernelspec": {
   "display_name": "Python 3 (ipykernel)",
   "language": "python",
   "name": "python3"
  },
  "language_info": {
   "codemirror_mode": {
    "name": "ipython",
    "version": 3
   },
   "file_extension": ".py",
   "mimetype": "text/x-python",
   "name": "python",
   "nbconvert_exporter": "python",
   "pygments_lexer": "ipython3",
   "version": "3.7.13"
  }
 },
 "nbformat": 4,
 "nbformat_minor": 5
}
