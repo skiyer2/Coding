{
 "cells": [
  {
   "cell_type": "markdown",
   "id": "ada6c4ad",
   "metadata": {},
   "source": [
    "Stock market analysts are continually looking for reliable predictors of stock price. Consider the problem of modelling the stock prce of Utility companies. Two variables that are thought to influence the stock price (Y) are return of average equity (ROE) and annual dividend rate.\n",
    "\n",
    "1) Estimate the MLR equation from the given dataset<br>\n",
    "2) Interpret the Adjusted R-Squared value<br>\n",
    "3) Interpret the standard error of esitmate. Does it look like the prediction will be accurate?"
   ]
  },
  {
   "cell_type": "code",
   "execution_count": 1,
   "id": "b041f586",
   "metadata": {},
   "outputs": [],
   "source": [
    "# import reqd libraries\n",
    "import numpy as np\n",
    "import pandas as pd\n",
    "import matplotlib.pyplot as plt\n",
    "import seaborn as sns\n",
    "from mpl_toolkits import mplot3d\n",
    "\n",
    "import statsmodels.api as sm"
   ]
  },
  {
   "cell_type": "code",
   "execution_count": 2,
   "id": "1fc961c4",
   "metadata": {},
   "outputs": [
    {
     "data": {
      "text/html": [
       "<div>\n",
       "<style scoped>\n",
       "    .dataframe tbody tr th:only-of-type {\n",
       "        vertical-align: middle;\n",
       "    }\n",
       "\n",
       "    .dataframe tbody tr th {\n",
       "        vertical-align: top;\n",
       "    }\n",
       "\n",
       "    .dataframe thead th {\n",
       "        text-align: right;\n",
       "    }\n",
       "</style>\n",
       "<table border=\"1\" class=\"dataframe\">\n",
       "  <thead>\n",
       "    <tr style=\"text-align: right;\">\n",
       "      <th></th>\n",
       "      <th>Electric Utility</th>\n",
       "      <th>Stock Price</th>\n",
       "      <th>ROE</th>\n",
       "      <th>Dividend</th>\n",
       "    </tr>\n",
       "  </thead>\n",
       "  <tbody>\n",
       "    <tr>\n",
       "      <th>0</th>\n",
       "      <td>1</td>\n",
       "      <td>$23</td>\n",
       "      <td>13.7</td>\n",
       "      <td>2.36</td>\n",
       "    </tr>\n",
       "    <tr>\n",
       "      <th>1</th>\n",
       "      <td>2</td>\n",
       "      <td>$34</td>\n",
       "      <td>12.8</td>\n",
       "      <td>3.12</td>\n",
       "    </tr>\n",
       "    <tr>\n",
       "      <th>2</th>\n",
       "      <td>3</td>\n",
       "      <td>$20</td>\n",
       "      <td>6.9</td>\n",
       "      <td>2.48</td>\n",
       "    </tr>\n",
       "    <tr>\n",
       "      <th>3</th>\n",
       "      <td>4</td>\n",
       "      <td>$24</td>\n",
       "      <td>12.7</td>\n",
       "      <td>2.36</td>\n",
       "    </tr>\n",
       "    <tr>\n",
       "      <th>4</th>\n",
       "      <td>5</td>\n",
       "      <td>$20</td>\n",
       "      <td>15.3</td>\n",
       "      <td>1.92</td>\n",
       "    </tr>\n",
       "    <tr>\n",
       "      <th>5</th>\n",
       "      <td>6</td>\n",
       "      <td>$13</td>\n",
       "      <td>13.3</td>\n",
       "      <td>1.60</td>\n",
       "    </tr>\n",
       "    <tr>\n",
       "      <th>6</th>\n",
       "      <td>7</td>\n",
       "      <td>$33</td>\n",
       "      <td>14.6</td>\n",
       "      <td>3.08</td>\n",
       "    </tr>\n",
       "    <tr>\n",
       "      <th>7</th>\n",
       "      <td>8</td>\n",
       "      <td>$15</td>\n",
       "      <td>15.8</td>\n",
       "      <td>1.52</td>\n",
       "    </tr>\n",
       "    <tr>\n",
       "      <th>8</th>\n",
       "      <td>9</td>\n",
       "      <td>$26</td>\n",
       "      <td>12.0</td>\n",
       "      <td>2.72</td>\n",
       "    </tr>\n",
       "    <tr>\n",
       "      <th>9</th>\n",
       "      <td>10</td>\n",
       "      <td>$25</td>\n",
       "      <td>15.3</td>\n",
       "      <td>2.56</td>\n",
       "    </tr>\n",
       "    <tr>\n",
       "      <th>10</th>\n",
       "      <td>11</td>\n",
       "      <td>$26</td>\n",
       "      <td>15.2</td>\n",
       "      <td>2.80</td>\n",
       "    </tr>\n",
       "    <tr>\n",
       "      <th>11</th>\n",
       "      <td>12</td>\n",
       "      <td>$20</td>\n",
       "      <td>13.7</td>\n",
       "      <td>1.92</td>\n",
       "    </tr>\n",
       "    <tr>\n",
       "      <th>12</th>\n",
       "      <td>13</td>\n",
       "      <td>$28</td>\n",
       "      <td>15.4</td>\n",
       "      <td>2.92</td>\n",
       "    </tr>\n",
       "    <tr>\n",
       "      <th>13</th>\n",
       "      <td>14</td>\n",
       "      <td>$25</td>\n",
       "      <td>15.2</td>\n",
       "      <td>2.60</td>\n",
       "    </tr>\n",
       "    <tr>\n",
       "      <th>14</th>\n",
       "      <td>15</td>\n",
       "      <td>$30</td>\n",
       "      <td>17.3</td>\n",
       "      <td>2.76</td>\n",
       "    </tr>\n",
       "    <tr>\n",
       "      <th>15</th>\n",
       "      <td>16</td>\n",
       "      <td>$20</td>\n",
       "      <td>13.9</td>\n",
       "      <td>2.14</td>\n",
       "    </tr>\n",
       "  </tbody>\n",
       "</table>\n",
       "</div>"
      ],
      "text/plain": [
       "    Electric Utility Stock Price   ROE  Dividend\n",
       "0                  1         $23  13.7      2.36\n",
       "1                  2         $34  12.8      3.12\n",
       "2                  3         $20   6.9      2.48\n",
       "3                  4         $24  12.7      2.36\n",
       "4                  5         $20  15.3      1.92\n",
       "5                  6         $13  13.3      1.60\n",
       "6                  7         $33  14.6      3.08\n",
       "7                  8         $15  15.8      1.52\n",
       "8                  9         $26  12.0      2.72\n",
       "9                 10         $25  15.3      2.56\n",
       "10                11         $26  15.2      2.80\n",
       "11                12         $20  13.7      1.92\n",
       "12                13         $28  15.4      2.92\n",
       "13                14         $25  15.2      2.60\n",
       "14                15         $30  17.3      2.76\n",
       "15                16         $20  13.9      2.14"
      ]
     },
     "execution_count": 2,
     "metadata": {},
     "output_type": "execute_result"
    }
   ],
   "source": [
    "# load the data\n",
    "df = pd.read_csv(\"C:/Users/Karthik.Iyer/Downloads/AccelerateAI/Regression-Models-main/MLR_Q10_StockPrice.csv\")\n",
    "df"
   ]
  },
  {
   "cell_type": "code",
   "execution_count": 3,
   "id": "0c1354d9",
   "metadata": {},
   "outputs": [],
   "source": [
    "# Lets clean the response variable Stock Price to remove $\n",
    "df['Stock Price'] = df['Stock Price'].apply(lambda x: int(x.replace('$','')))"
   ]
  },
  {
   "cell_type": "code",
   "execution_count": 4,
   "id": "da35fbbe",
   "metadata": {},
   "outputs": [
    {
     "name": "stdout",
     "output_type": "stream",
     "text": [
      "<class 'pandas.core.frame.DataFrame'>\n",
      "RangeIndex: 16 entries, 0 to 15\n",
      "Data columns (total 4 columns):\n",
      " #   Column            Non-Null Count  Dtype  \n",
      "---  ------            --------------  -----  \n",
      " 0   Electric Utility  16 non-null     int64  \n",
      " 1   Stock Price       16 non-null     int64  \n",
      " 2   ROE               16 non-null     float64\n",
      " 3   Dividend          16 non-null     float64\n",
      "dtypes: float64(2), int64(2)\n",
      "memory usage: 640.0 bytes\n"
     ]
    }
   ],
   "source": [
    "# Lets check the data types\n",
    "df.info()"
   ]
  },
  {
   "cell_type": "markdown",
   "id": "7368cc1e",
   "metadata": {},
   "source": [
    "Data types for the variables look appropriate"
   ]
  },
  {
   "cell_type": "code",
   "execution_count": 5,
   "id": "332ca71f",
   "metadata": {
    "scrolled": true
   },
   "outputs": [
    {
     "data": {
      "text/plain": [
       "<mpl_toolkits.mplot3d.art3d.Path3DCollection at 0x285f9f92f48>"
      ]
     },
     "execution_count": 5,
     "metadata": {},
     "output_type": "execute_result"
    },
    {
     "data": {
      "image/png": "[encoded data removed]",
      "text/plain": [
       "<Figure size 432x288 with 1 Axes>"
      ]
     },
     "metadata": {
      "needs_background": "light"
     },
     "output_type": "display_data"
    }
   ],
   "source": [
    "# Lets visualize the data\n",
    "fig = plt.figure()\n",
    "ax = plt.axes(projection='3d')\n",
    "\n",
    "x1 = df['ROE']\n",
    "x2 = df['Dividend']\n",
    "y = df['Stock Price']\n",
    "\n",
    "ax.scatter3D(x1, x2, y, c=y)"
   ]
  },
  {
   "cell_type": "markdown",
   "id": "2f6d9899",
   "metadata": {},
   "source": [
    "The absolute values for x1 and x2 are on different scales. x1 is 10 times larger than x2"
   ]
  },
  {
   "cell_type": "markdown",
   "id": "ccf0afa9",
   "metadata": {},
   "source": [
    "### 1) Estimate the MLR equation from the given dataset"
   ]
  },
  {
   "cell_type": "code",
   "execution_count": 6,
   "id": "30a03ee3",
   "metadata": {},
   "outputs": [
    {
     "name": "stderr",
     "output_type": "stream",
     "text": [
      "C:\\Users\\Karthik.Iyer\\AppData\\Local\\Continuum\\anaconda3\\lib\\site-packages\\scipy\\stats\\stats.py:1542: UserWarning: kurtosistest only valid for n>=20 ... continuing anyway, n=16\n",
      "  \"anyway, n=%i\" % int(n))\n"
     ]
    },
    {
     "data": {
      "text/html": [
       "<table class=\"simpletable\">\n",
       "<caption>OLS Regression Results</caption>\n",
       "<tr>\n",
       "  <th>Dep. Variable:</th>       <td>Stock Price</td>   <th>  R-squared:         </th> <td>   0.928</td>\n",
       "</tr>\n",
       "<tr>\n",
       "  <th>Model:</th>                   <td>OLS</td>       <th>  Adj. R-squared:    </th> <td>   0.917</td>\n",
       "</tr>\n",
       "<tr>\n",
       "  <th>Method:</th>             <td>Least Squares</td>  <th>  F-statistic:       </th> <td>   84.31</td>\n",
       "</tr>\n",
       "<tr>\n",
       "  <th>Date:</th>             <td>Sat, 21 May 2022</td> <th>  Prob (F-statistic):</th> <td>3.60e-08</td>\n",
       "</tr>\n",
       "<tr>\n",
       "  <th>Time:</th>                 <td>11:16:08</td>     <th>  Log-Likelihood:    </th> <td> -29.298</td>\n",
       "</tr>\n",
       "<tr>\n",
       "  <th>No. Observations:</th>      <td>    16</td>      <th>  AIC:               </th> <td>   64.60</td>\n",
       "</tr>\n",
       "<tr>\n",
       "  <th>Df Residuals:</th>          <td>    13</td>      <th>  BIC:               </th> <td>   66.91</td>\n",
       "</tr>\n",
       "<tr>\n",
       "  <th>Df Model:</th>              <td>     2</td>      <th>                     </th>     <td> </td>   \n",
       "</tr>\n",
       "<tr>\n",
       "  <th>Covariance Type:</th>      <td>nonrobust</td>    <th>                     </th>     <td> </td>   \n",
       "</tr>\n",
       "</table>\n",
       "<table class=\"simpletable\">\n",
       "<tr>\n",
       "      <td></td>        <th>coef</th>     <th>std err</th>      <th>t</th>      <th>P>|t|</th>  <th>[0.025</th>    <th>0.975]</th>  \n",
       "</tr>\n",
       "<tr>\n",
       "  <th>const</th>    <td>   -9.9537</td> <td>    3.405</td> <td>   -2.923</td> <td> 0.012</td> <td>  -17.311</td> <td>   -2.597</td>\n",
       "</tr>\n",
       "<tr>\n",
       "  <th>ROE</th>      <td>    0.4762</td> <td>    0.186</td> <td>    2.556</td> <td> 0.024</td> <td>    0.074</td> <td>    0.879</td>\n",
       "</tr>\n",
       "<tr>\n",
       "  <th>Dividend</th> <td>   11.1943</td> <td>    0.877</td> <td>   12.761</td> <td> 0.000</td> <td>    9.299</td> <td>   13.089</td>\n",
       "</tr>\n",
       "</table>\n",
       "<table class=\"simpletable\">\n",
       "<tr>\n",
       "  <th>Omnibus:</th>       <td> 0.526</td> <th>  Durbin-Watson:     </th> <td>   2.595</td>\n",
       "</tr>\n",
       "<tr>\n",
       "  <th>Prob(Omnibus):</th> <td> 0.769</td> <th>  Jarque-Bera (JB):  </th> <td>   0.571</td>\n",
       "</tr>\n",
       "<tr>\n",
       "  <th>Skew:</th>          <td> 0.129</td> <th>  Prob(JB):          </th> <td>   0.752</td>\n",
       "</tr>\n",
       "<tr>\n",
       "  <th>Kurtosis:</th>      <td> 2.111</td> <th>  Cond. No.          </th> <td>    118.</td>\n",
       "</tr>\n",
       "</table><br/><br/>Notes:<br/>[1] Standard Errors assume that the covariance matrix of the errors is correctly specified."
      ],
      "text/plain": [
       "<class 'statsmodels.iolib.summary.Summary'>\n",
       "\"\"\"\n",
       "                            OLS Regression Results                            \n",
       "==============================================================================\n",
       "Dep. Variable:            Stock Price   R-squared:                       0.928\n",
       "Model:                            OLS   Adj. R-squared:                  0.917\n",
       "Method:                 Least Squares   F-statistic:                     84.31\n",
       "Date:                Sat, 21 May 2022   Prob (F-statistic):           3.60e-08\n",
       "Time:                        11:16:08   Log-Likelihood:                -29.298\n",
       "No. Observations:                  16   AIC:                             64.60\n",
       "Df Residuals:                      13   BIC:                             66.91\n",
       "Df Model:                           2                                         \n",
       "Covariance Type:            nonrobust                                         \n",
       "==============================================================================\n",
       "                 coef    std err          t      P>|t|      [0.025      0.975]\n",
       "------------------------------------------------------------------------------\n",
       "const         -9.9537      3.405     -2.923      0.012     -17.311      -2.597\n",
       "ROE            0.4762      0.186      2.556      0.024       0.074       0.879\n",
       "Dividend      11.1943      0.877     12.761      0.000       9.299      13.089\n",
       "==============================================================================\n",
       "Omnibus:                        0.526   Durbin-Watson:                   2.595\n",
       "Prob(Omnibus):                  0.769   Jarque-Bera (JB):                0.571\n",
       "Skew:                           0.129   Prob(JB):                        0.752\n",
       "Kurtosis:                       2.111   Cond. No.                         118.\n",
       "==============================================================================\n",
       "\n",
       "Notes:\n",
       "[1] Standard Errors assume that the covariance matrix of the errors is correctly specified.\n",
       "\"\"\""
      ]
     },
     "execution_count": 6,
     "metadata": {},
     "output_type": "execute_result"
    }
   ],
   "source": [
    "# Lets train the model\n",
    "Y = df['Stock Price']\n",
    "X = df[['ROE', 'Dividend']]\n",
    "\n",
    "X = sm.add_constant(X)\n",
    "reg_model = sm.OLS(Y,X).fit()\n",
    "reg_model.summary()"
   ]
  },
  {
   "cell_type": "markdown",
   "id": "5828902c",
   "metadata": {},
   "source": [
    "**Regression equation:**<br>\n",
    "Stock Price = -9.9537 + 0.4762 * ROE + 11.1943 * Dividend"
   ]
  },
  {
   "cell_type": "markdown",
   "id": "95ba07da",
   "metadata": {},
   "source": [
    "### 2) Interpret the standard error of esitmate. Does it look like the prediction will be accurate?"
   ]
  },
  {
   "cell_type": "code",
   "execution_count": 7,
   "id": "dc4abcea",
   "metadata": {},
   "outputs": [
    {
     "name": "stdout",
     "output_type": "stream",
     "text": [
      "1.6143900854943756\n",
      "1.6753317667760277\n",
      "1.6753317667760277\n"
     ]
    }
   ],
   "source": [
    "# Diff ways to calculate Standard Error\n",
    "print(np.sqrt(np.sum((Y-reg_model.fittedvalues)**2)/(Y.shape[0]-2)))\n",
    "\n",
    "print(np.sqrt(np.sum((reg_model.resid)**2)/(reg_model.df_resid)))\n",
    "\n",
    "print(reg_model.scale**0.5)"
   ]
  },
  {
   "cell_type": "markdown",
   "id": "3e2c7211",
   "metadata": {},
   "source": [
    "**The Standard Error is quiet small, and hence the model prediction should be good**"
   ]
  },
  {
   "cell_type": "code",
   "execution_count": 8,
   "id": "68f9ebaf",
   "metadata": {},
   "outputs": [
    {
     "data": {
      "image/png": "[encoded data removed]",
      "text/plain": [
       "<Figure size 432x288 with 1 Axes>"
      ]
     },
     "metadata": {
      "needs_background": "light"
     },
     "output_type": "display_data"
    }
   ],
   "source": [
    "# Plot Y vs Fitted Y\n",
    "ax = sns.scatterplot(x=reg_model.fittedvalues, y=Y)\n",
    "ax.set_title('Y vs Fitted Y')\n",
    "plt.show()"
   ]
  }
 ],
 "metadata": {
  "kernelspec": {
   "display_name": "Python 3 (ipykernel)",
   "language": "python",
   "name": "python3"
  },
  "language_info": {
   "codemirror_mode": {
    "name": "ipython",
    "version": 3
   },
   "file_extension": ".py",
   "mimetype": "text/x-python",
   "name": "python",
   "nbconvert_exporter": "python",
   "pygments_lexer": "ipython3",
   "version": "3.7.13"
  }
 },
 "nbformat": 4,
 "nbformat_minor": 5
}
