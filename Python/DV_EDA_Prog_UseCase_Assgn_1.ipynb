{
 "cells": [
  {
   "cell_type": "markdown",
   "id": "39db8057",
   "metadata": {},
   "source": [
    "## Business Context:\n",
    "\n",
    "- The demand and usage of the internet is growing across the globe and public wifi is\n",
    "becoming a new normal as we move forward. Wifi providers want to optimize the cost\n",
    "while providing the free and paid wifi. Here, we have a use case of public WiFi hotspots\n",
    "in New York City.\n",
    "- The information comprises of records for every public WiFi hotspot (ones provided by or\n",
    "in partnership with the city) in New York City.\n",
    "- We would analyze the data and try to infer if the free public WiFi tends to cluster around\n",
    "certain (more affluent) areas."
   ]
  },
  {
   "cell_type": "markdown",
   "id": "161a3b07",
   "metadata": {},
   "source": [
    "## Goal/Ask:\n",
    "\n",
    "- Based on the business context, we will be using unsupervised learning techniques such\n",
    "as clustering in order to identify clusters of wifi providers in the specific locations.\n",
    "- However, prior to that, we need to answer few business questions by performing EDA\n",
    "(Exploratory Data Analysis) to understand the data.\n",
    "- In this assignment, focus is limited to EDA. Please refer to the dataset shared."
   ]
  },
  {
   "cell_type": "markdown",
   "id": "d1b84559",
   "metadata": {},
   "source": [
    "## Dataset Information\n",
    "\n",
    "Dataset has 10 columns/features and 2500+ records\n",
    "- OBJECTID – unique identifier\n",
    "- BORO – Borough of New York City (BX-Bronx, QU-Queens, MN-Manhattan, BK-Brooklyn, SI-\n",
    "Staten Island)\n",
    "- TYPE – Type of wi-fi provided by the franchise\n",
    "- PROVIDER – Franchise who is providing the wifi connection\n",
    "- LAT – Latitude\n",
    "- LON – Longitude\n",
    "- LOCATION_T – Type of location that a wi-fi hotspot is present in\n",
    "- CITY – The city in which the hotspot is located\n",
    "- BoroCode – The NY City borough where the hotspots are located\n",
    "- NTACode – Neighbourhood Tab Access by number"
   ]
  },
  {
   "cell_type": "code",
   "execution_count": 1,
   "id": "8ba68068",
   "metadata": {},
   "outputs": [],
   "source": [
    "# Import relevant libraries\n",
    "import pandas as pd\n",
    "import numpy as np\n",
    "import matplotlib.pyplot as plt\n",
    "import seaborn as sns\n",
    "\n",
    "import warnings\n",
    "warnings.filterwarnings('ignore')"
   ]
  },
  {
   "cell_type": "code",
   "execution_count": 2,
   "id": "bbc4f69f",
   "metadata": {},
   "outputs": [
    {
     "data": {
      "text/html": [
       "<div>\n",
       "<style scoped>\n",
       "    .dataframe tbody tr th:only-of-type {\n",
       "        vertical-align: middle;\n",
       "    }\n",
       "\n",
       "    .dataframe tbody tr th {\n",
       "        vertical-align: top;\n",
       "    }\n",
       "\n",
       "    .dataframe thead th {\n",
       "        text-align: right;\n",
       "    }\n",
       "</style>\n",
       "<table border=\"1\" class=\"dataframe\">\n",
       "  <thead>\n",
       "    <tr style=\"text-align: right;\">\n",
       "      <th></th>\n",
       "      <th>OBJECTID</th>\n",
       "      <th>Borough</th>\n",
       "      <th>Type</th>\n",
       "      <th>Provider</th>\n",
       "      <th>Latitude</th>\n",
       "      <th>Longitude</th>\n",
       "      <th>Location_T</th>\n",
       "      <th>City</th>\n",
       "      <th>BoroCode</th>\n",
       "      <th>NTACode</th>\n",
       "    </tr>\n",
       "  </thead>\n",
       "  <tbody>\n",
       "    <tr>\n",
       "      <th>0</th>\n",
       "      <td>998.0</td>\n",
       "      <td>MN</td>\n",
       "      <td>Free</td>\n",
       "      <td>LinkNYC - Citybridge</td>\n",
       "      <td>40.745968</td>\n",
       "      <td>-73.994039</td>\n",
       "      <td>Outdoor Kiosk</td>\n",
       "      <td>New York</td>\n",
       "      <td>1.0</td>\n",
       "      <td>MN17</td>\n",
       "    </tr>\n",
       "    <tr>\n",
       "      <th>1</th>\n",
       "      <td>999.0</td>\n",
       "      <td>MN</td>\n",
       "      <td>Free</td>\n",
       "      <td>LinkNYC - Citybridge</td>\n",
       "      <td>40.744614</td>\n",
       "      <td>-73.985069</td>\n",
       "      <td>Outdoor Kiosk</td>\n",
       "      <td>New York</td>\n",
       "      <td>1.0</td>\n",
       "      <td>MN17</td>\n",
       "    </tr>\n",
       "    <tr>\n",
       "      <th>2</th>\n",
       "      <td>1000.0</td>\n",
       "      <td>MN</td>\n",
       "      <td>Free</td>\n",
       "      <td>LinkNYC - Citybridge</td>\n",
       "      <td>40.757666</td>\n",
       "      <td>-73.985878</td>\n",
       "      <td>Outdoor Kiosk</td>\n",
       "      <td>New York</td>\n",
       "      <td>1.0</td>\n",
       "      <td>MN17</td>\n",
       "    </tr>\n",
       "    <tr>\n",
       "      <th>3</th>\n",
       "      <td>1001.0</td>\n",
       "      <td>MN</td>\n",
       "      <td>Free</td>\n",
       "      <td>LinkNYC - Citybridge</td>\n",
       "      <td>40.759971</td>\n",
       "      <td>-73.984342</td>\n",
       "      <td>Outdoor Kiosk</td>\n",
       "      <td>New York</td>\n",
       "      <td>1.0</td>\n",
       "      <td>MN17</td>\n",
       "    </tr>\n",
       "    <tr>\n",
       "      <th>4</th>\n",
       "      <td>1002.0</td>\n",
       "      <td>MN</td>\n",
       "      <td>Free</td>\n",
       "      <td>LinkNYC - Citybridge</td>\n",
       "      <td>40.760413</td>\n",
       "      <td>-73.984541</td>\n",
       "      <td>Outdoor Kiosk</td>\n",
       "      <td>New York</td>\n",
       "      <td>1.0</td>\n",
       "      <td>MN17</td>\n",
       "    </tr>\n",
       "  </tbody>\n",
       "</table>\n",
       "</div>"
      ],
      "text/plain": [
       "   OBJECTID Borough  Type              Provider   Latitude  Longitude  \\\n",
       "0     998.0      MN  Free  LinkNYC - Citybridge  40.745968 -73.994039   \n",
       "1     999.0      MN  Free  LinkNYC - Citybridge  40.744614 -73.985069   \n",
       "2    1000.0      MN  Free  LinkNYC - Citybridge  40.757666 -73.985878   \n",
       "3    1001.0      MN  Free  LinkNYC - Citybridge  40.759971 -73.984342   \n",
       "4    1002.0      MN  Free  LinkNYC - Citybridge  40.760413 -73.984541   \n",
       "\n",
       "      Location_T      City  BoroCode NTACode  \n",
       "0  Outdoor Kiosk  New York       1.0    MN17  \n",
       "1  Outdoor Kiosk  New York       1.0    MN17  \n",
       "2  Outdoor Kiosk  New York       1.0    MN17  \n",
       "3  Outdoor Kiosk  New York       1.0    MN17  \n",
       "4  Outdoor Kiosk  New York       1.0    MN17  "
      ]
     },
     "execution_count": 2,
     "metadata": {},
     "output_type": "execute_result"
    }
   ],
   "source": [
    "# Read the data\n",
    "wifi_data = pd.read_excel(\"C://Users//Karthik.Iyer//Downloads//AccelerateAI//DV_EDA//DV_and_EDA-main//data//wifi_data.xlsx\")\n",
    "wifi_data.head()"
   ]
  },
  {
   "cell_type": "code",
   "execution_count": 3,
   "id": "453543c0",
   "metadata": {},
   "outputs": [
    {
     "data": {
      "text/plain": [
       "(2566, 10)"
      ]
     },
     "execution_count": 3,
     "metadata": {},
     "output_type": "execute_result"
    }
   ],
   "source": [
    "# Shape\n",
    "wifi_data.shape"
   ]
  },
  {
   "cell_type": "markdown",
   "id": "99b8cb71",
   "metadata": {},
   "source": [
    "In the above dataset, there are 2566 observations with 10 features"
   ]
  },
  {
   "cell_type": "code",
   "execution_count": 4,
   "id": "dfba5aec",
   "metadata": {},
   "outputs": [
    {
     "name": "stdout",
     "output_type": "stream",
     "text": [
      "<class 'pandas.core.frame.DataFrame'>\n",
      "RangeIndex: 2566 entries, 0 to 2565\n",
      "Data columns (total 10 columns):\n",
      " #   Column      Non-Null Count  Dtype  \n",
      "---  ------      --------------  -----  \n",
      " 0   OBJECTID    2566 non-null   float64\n",
      " 1   Borough     2566 non-null   object \n",
      " 2   Type        2566 non-null   object \n",
      " 3   Provider    2566 non-null   object \n",
      " 4   Latitude    2566 non-null   float64\n",
      " 5   Longitude   2566 non-null   float64\n",
      " 6   Location_T  2566 non-null   object \n",
      " 7   City        2566 non-null   object \n",
      " 8   BoroCode    2566 non-null   float64\n",
      " 9   NTACode     2566 non-null   object \n",
      "dtypes: float64(4), object(6)\n",
      "memory usage: 200.6+ KB\n"
     ]
    }
   ],
   "source": [
    "# data types\n",
    "wifi_data.info()"
   ]
  },
  {
   "cell_type": "markdown",
   "id": "8be8da72",
   "metadata": {},
   "source": [
    "Data types look appropriate and there are no missing values."
   ]
  },
  {
   "cell_type": "markdown",
   "id": "78324996",
   "metadata": {},
   "source": [
    "## Exploratory Data Analysis"
   ]
  },
  {
   "cell_type": "code",
   "execution_count": 5,
   "id": "4ee22495",
   "metadata": {},
   "outputs": [
    {
     "data": {
      "image/png": "[encoded data removed]",
      "text/plain": [
       "<Figure size 432x288 with 1 Axes>"
      ]
     },
     "metadata": {
      "needs_background": "light"
     },
     "output_type": "display_data"
    }
   ],
   "source": [
    "# Frequency distribution\n",
    "sns.histplot(x='Borough', data=wifi_data)\n",
    "plt.show()"
   ]
  },
  {
   "cell_type": "markdown",
   "id": "eea4fe3a",
   "metadata": {},
   "source": [
    "Manhattan Borough has most number of public wifi hotspots in New York City"
   ]
  },
  {
   "cell_type": "code",
   "execution_count": 6,
   "id": "793efa11",
   "metadata": {},
   "outputs": [
    {
     "data": {
      "image/png": "[encoded data removed]",
      "text/plain": [
       "<Figure size 432x288 with 1 Axes>"
      ]
     },
     "metadata": {
      "needs_background": "light"
     },
     "output_type": "display_data"
    }
   ],
   "source": [
    "# Let's look at Type of wifi provided\n",
    "sns.histplot(x='Type', data=wifi_data)\n",
    "plt.show()"
   ]
  },
  {
   "cell_type": "markdown",
   "id": "e8ebe4f2",
   "metadata": {},
   "source": [
    "Most of the public wifi hotspots provided by Franchise in New York City is Free"
   ]
  },
  {
   "cell_type": "code",
   "execution_count": 7,
   "id": "433cd9f4",
   "metadata": {},
   "outputs": [
    {
     "data": {
      "text/plain": [
       "Free            1983\n",
       "Limited Free     581\n",
       "Partner Site       2\n",
       "Name: Type, dtype: int64"
      ]
     },
     "execution_count": 7,
     "metadata": {},
     "output_type": "execute_result"
    }
   ],
   "source": [
    "# From the above it looks like there are no Partner Site, lets investigate the dataframe\n",
    "wifi_data['Type'].value_counts()"
   ]
  },
  {
   "cell_type": "markdown",
   "id": "361633da",
   "metadata": {},
   "source": [
    "Only 2 'Partner Site' Type of wifi connections in the whole New York City, indicating most of the connections are provided by the city itself without any partnership."
   ]
  },
  {
   "cell_type": "code",
   "execution_count": 8,
   "id": "cc33188b",
   "metadata": {},
   "outputs": [
    {
     "data": {
      "image/png": "[encoded data removed]",
      "text/plain": [
       "<Figure size 432x288 with 1 Axes>"
      ]
     },
     "metadata": {
      "needs_background": "light"
     },
     "output_type": "display_data"
    }
   ],
   "source": [
    "# Provider\n",
    "sns.histplot(y='Provider', data=wifi_data)\n",
    "plt.show()"
   ]
  },
  {
   "cell_type": "markdown",
   "id": "4a0c84c8",
   "metadata": {},
   "source": [
    "Franchise providing highest number of wifi connections in New York is 'LinkNYC - Citybridge'"
   ]
  },
  {
   "cell_type": "markdown",
   "id": "2952263f",
   "metadata": {},
   "source": [
    "## Dropping irrelevant and redundant features\n",
    "\n",
    "OBJECTID is only a unique identifier for the observations in the wifi dataset, and will not add any value. This can be removed from the dataset"
   ]
  },
  {
   "cell_type": "code",
   "execution_count": 9,
   "id": "fe3ae34b",
   "metadata": {},
   "outputs": [
    {
     "data": {
      "text/plain": [
       "Index(['Borough', 'Type', 'Provider', 'Latitude', 'Longitude', 'Location_T',\n",
       "       'City', 'BoroCode', 'NTACode'],\n",
       "      dtype='object')"
      ]
     },
     "execution_count": 9,
     "metadata": {},
     "output_type": "execute_result"
    }
   ],
   "source": [
    "wifi_data.drop(columns='OBJECTID', inplace=True)\n",
    "wifi_data.columns"
   ]
  },
  {
   "cell_type": "code",
   "execution_count": 10,
   "id": "d25a13e1",
   "metadata": {},
   "outputs": [
    {
     "data": {
      "text/html": [
       "<div>\n",
       "<style scoped>\n",
       "    .dataframe tbody tr th:only-of-type {\n",
       "        vertical-align: middle;\n",
       "    }\n",
       "\n",
       "    .dataframe tbody tr th {\n",
       "        vertical-align: top;\n",
       "    }\n",
       "\n",
       "    .dataframe thead th {\n",
       "        text-align: right;\n",
       "    }\n",
       "</style>\n",
       "<table border=\"1\" class=\"dataframe\">\n",
       "  <thead>\n",
       "    <tr style=\"text-align: right;\">\n",
       "      <th></th>\n",
       "      <th>Borough</th>\n",
       "      <th>NTACode</th>\n",
       "    </tr>\n",
       "  </thead>\n",
       "  <tbody>\n",
       "    <tr>\n",
       "      <th>0</th>\n",
       "      <td>MN</td>\n",
       "      <td>MN17</td>\n",
       "    </tr>\n",
       "    <tr>\n",
       "      <th>1</th>\n",
       "      <td>MN</td>\n",
       "      <td>MN17</td>\n",
       "    </tr>\n",
       "    <tr>\n",
       "      <th>2</th>\n",
       "      <td>MN</td>\n",
       "      <td>MN17</td>\n",
       "    </tr>\n",
       "    <tr>\n",
       "      <th>3</th>\n",
       "      <td>MN</td>\n",
       "      <td>MN17</td>\n",
       "    </tr>\n",
       "    <tr>\n",
       "      <th>4</th>\n",
       "      <td>MN</td>\n",
       "      <td>MN17</td>\n",
       "    </tr>\n",
       "    <tr>\n",
       "      <th>...</th>\n",
       "      <td>...</td>\n",
       "      <td>...</td>\n",
       "    </tr>\n",
       "    <tr>\n",
       "      <th>2561</th>\n",
       "      <td>MN</td>\n",
       "      <td>MN17</td>\n",
       "    </tr>\n",
       "    <tr>\n",
       "      <th>2562</th>\n",
       "      <td>MN</td>\n",
       "      <td>MN17</td>\n",
       "    </tr>\n",
       "    <tr>\n",
       "      <th>2563</th>\n",
       "      <td>MN</td>\n",
       "      <td>MN17</td>\n",
       "    </tr>\n",
       "    <tr>\n",
       "      <th>2564</th>\n",
       "      <td>MN</td>\n",
       "      <td>MN17</td>\n",
       "    </tr>\n",
       "    <tr>\n",
       "      <th>2565</th>\n",
       "      <td>MN</td>\n",
       "      <td>MN14</td>\n",
       "    </tr>\n",
       "  </tbody>\n",
       "</table>\n",
       "<p>2566 rows × 2 columns</p>\n",
       "</div>"
      ],
      "text/plain": [
       "     Borough NTACode\n",
       "0         MN    MN17\n",
       "1         MN    MN17\n",
       "2         MN    MN17\n",
       "3         MN    MN17\n",
       "4         MN    MN17\n",
       "...      ...     ...\n",
       "2561      MN    MN17\n",
       "2562      MN    MN17\n",
       "2563      MN    MN17\n",
       "2564      MN    MN17\n",
       "2565      MN    MN14\n",
       "\n",
       "[2566 rows x 2 columns]"
      ]
     },
     "execution_count": 10,
     "metadata": {},
     "output_type": "execute_result"
    }
   ],
   "source": [
    "# Borough and NTACode\n",
    "wifi_data[['Borough', 'NTACode']]"
   ]
  },
  {
   "cell_type": "markdown",
   "id": "dbe867f5",
   "metadata": {},
   "source": [
    "Wanted to check if NTACode has any relevance here. Looks like there is some business relevance for this, as there are different values of NTACode for the same Borough (MN17, MN14 etc. for MN). So let's not drop the feature NTACode without understanding the full business significance."
   ]
  },
  {
   "cell_type": "markdown",
   "id": "0fcf488b",
   "metadata": {},
   "source": [
    "## Univariate and Bivariate Analysis"
   ]
  },
  {
   "cell_type": "code",
   "execution_count": 11,
   "id": "63d06947",
   "metadata": {},
   "outputs": [
    {
     "data": {
      "image/png": "[encoded data removed]",
      "text/plain": [
       "<Figure size 432x288 with 1 Axes>"
      ]
     },
     "metadata": {
      "needs_background": "light"
     },
     "output_type": "display_data"
    }
   ],
   "source": [
    "# Which provider has the highest number of wifi hotspots\n",
    "sns.countplot(y='Provider', data=wifi_data)\n",
    "plt.show()"
   ]
  },
  {
   "cell_type": "markdown",
   "id": "c18f4393",
   "metadata": {},
   "source": [
    "LinkNYC - Citybridge has the highest number of wifi hotspots with connections over 1000"
   ]
  },
  {
   "cell_type": "code",
   "execution_count": 12,
   "id": "6d88ffd1",
   "metadata": {},
   "outputs": [
    {
     "data": {
      "image/png": "[encoded data removed]",
      "text/plain": [
       "<Figure size 720x576 with 1 Axes>"
      ]
     },
     "metadata": {
      "needs_background": "light"
     },
     "output_type": "display_data"
    }
   ],
   "source": [
    "# Which Provider provides highest number of Free wifi hotspots.\n",
    "# Is the second highest provider same for \"free wifi hotspots\" compared to \"all wifi hotspots\"\n",
    "\n",
    "plt.figure(figsize=(10,8))\n",
    "sns.histplot(y='Provider', hue='Type', data=wifi_data)\n",
    "plt.show()"
   ]
  },
  {
   "cell_type": "markdown",
   "id": "63eb0fe7",
   "metadata": {},
   "source": [
    "1. Highest number of free wifi hotspots is provided by 'LinkNYC - Citybridge' with over 1000 connections. \n",
    "2. The second highest provider which is 'SPECTRUM' with connections less than 400 provides only Limited Free wifi hotspot. So the answer to the second question is No."
   ]
  },
  {
   "cell_type": "code",
   "execution_count": 13,
   "id": "689e41b6",
   "metadata": {},
   "outputs": [
    {
     "data": {
      "image/png": "[encoded data removed]",
      "text/plain": [
       "<Figure size 720x576 with 1 Axes>"
      ]
     },
     "metadata": {
      "needs_background": "light"
     },
     "output_type": "display_data"
    }
   ],
   "source": [
    "# List down the name of providers that provide \"Limited Free\" type of wifi\n",
    "\n",
    "plt.figure(figsize=(10,8))\n",
    "sns.histplot(y='Provider', hue='Type', data=wifi_data)\n",
    "plt.show()"
   ]
  },
  {
   "cell_type": "markdown",
   "id": "bc3b4468",
   "metadata": {},
   "source": [
    "ALTICEUSA and SPECTRUM are the providers who provide 'Limited Free' wifi hotspots."
   ]
  },
  {
   "cell_type": "code",
   "execution_count": 14,
   "id": "7f320011",
   "metadata": {},
   "outputs": [
    {
     "data": {
      "image/png": "[encoded data removed]",
      "text/plain": [
       "<Figure size 432x288 with 2 Axes>"
      ]
     },
     "metadata": {
      "needs_background": "light"
     },
     "output_type": "display_data"
    }
   ],
   "source": [
    "# What is the correlation coefficient between Borough and BoroCode\n",
    "\n",
    "sns.heatmap(wifi_data.corr(), annot=True)\n",
    "plt.show()"
   ]
  },
  {
   "cell_type": "markdown",
   "id": "00e55723",
   "metadata": {},
   "source": [
    "Can we calculate the correlation coefficient between Categorical (Borough) and Numeric (BoroCode) variables. Does it make sense. The above heatmap will only consider for numeric variables."
   ]
  },
  {
   "cell_type": "code",
   "execution_count": 15,
   "id": "8784596a",
   "metadata": {},
   "outputs": [
    {
     "data": {
      "text/plain": [
       "Outdoor Kiosk         1134\n",
       "Outdoor                696\n",
       "Subway Station         276\n",
       "Library                214\n",
       "Indoor                 125\n",
       "Outdoor TWC Aerial     121\n",
       "Name: Location_T, dtype: int64"
      ]
     },
     "execution_count": 15,
     "metadata": {},
     "output_type": "execute_result"
    }
   ],
   "source": [
    "# Are there any Indoor Free wifi hotspots\n",
    "wifi_data['Location_T'].value_counts()"
   ]
  },
  {
   "cell_type": "code",
   "execution_count": 16,
   "id": "9650f9e5",
   "metadata": {},
   "outputs": [
    {
     "data": {
      "image/png": "[encoded data removed]",
      "text/plain": [
       "<Figure size 432x288 with 1 Axes>"
      ]
     },
     "metadata": {
      "needs_background": "light"
     },
     "output_type": "display_data"
    }
   ],
   "source": [
    "# Look at the feature Location_T by Type of wifi hotspot\n",
    "sns.countplot(y='Location_T', hue='Type', data=wifi_data)\n",
    "plt.show()"
   ]
  },
  {
   "cell_type": "markdown",
   "id": "c87e94e0",
   "metadata": {},
   "source": [
    "From the above plot, it is clear that there are no indoor free wifi hotspots."
   ]
  },
  {
   "cell_type": "code",
   "execution_count": 17,
   "id": "fc3a2cae",
   "metadata": {},
   "outputs": [
    {
     "data": {
      "image/png": "[encoded data removed]",
      "text/plain": [
       "<Figure size 720x576 with 1 Axes>"
      ]
     },
     "metadata": {
      "needs_background": "light"
     },
     "output_type": "display_data"
    }
   ],
   "source": [
    "# Which City has 'partner_site' type of wifi hotspot\n",
    "\n",
    "plt.figure(figsize=(10,8))\n",
    "sns.histplot(x='Type', hue='City', data=wifi_data[wifi_data['Type']=='Partner Site'])\n",
    "plt.show()"
   ]
  },
  {
   "cell_type": "markdown",
   "id": "5f1c90d6",
   "metadata": {},
   "source": [
    "'Partner Site' type of wifi hotspot is in New York City"
   ]
  },
  {
   "cell_type": "code",
   "execution_count": 18,
   "id": "ed5e904c",
   "metadata": {},
   "outputs": [
    {
     "data": {
      "text/html": [
       "<div>\n",
       "<style scoped>\n",
       "    .dataframe tbody tr th:only-of-type {\n",
       "        vertical-align: middle;\n",
       "    }\n",
       "\n",
       "    .dataframe tbody tr th {\n",
       "        vertical-align: top;\n",
       "    }\n",
       "\n",
       "    .dataframe thead th {\n",
       "        text-align: right;\n",
       "    }\n",
       "</style>\n",
       "<table border=\"1\" class=\"dataframe\">\n",
       "  <thead>\n",
       "    <tr style=\"text-align: right;\">\n",
       "      <th></th>\n",
       "      <th>Borough</th>\n",
       "      <th>Type</th>\n",
       "      <th>Provider</th>\n",
       "      <th>Latitude</th>\n",
       "      <th>Longitude</th>\n",
       "      <th>Location_T</th>\n",
       "      <th>City</th>\n",
       "      <th>BoroCode</th>\n",
       "      <th>NTACode</th>\n",
       "    </tr>\n",
       "  </thead>\n",
       "  <tbody>\n",
       "    <tr>\n",
       "      <th>1332</th>\n",
       "      <td>MN</td>\n",
       "      <td>Partner Site</td>\n",
       "      <td>Partner</td>\n",
       "      <td>40.7538</td>\n",
       "      <td>-73.9833</td>\n",
       "      <td>Outdoor</td>\n",
       "      <td>New York</td>\n",
       "      <td>1.0</td>\n",
       "      <td>MN17</td>\n",
       "    </tr>\n",
       "    <tr>\n",
       "      <th>2530</th>\n",
       "      <td>MN</td>\n",
       "      <td>Partner Site</td>\n",
       "      <td>Partner</td>\n",
       "      <td>40.7360</td>\n",
       "      <td>-73.9904</td>\n",
       "      <td>Outdoor</td>\n",
       "      <td>New York</td>\n",
       "      <td>1.0</td>\n",
       "      <td>MN13</td>\n",
       "    </tr>\n",
       "  </tbody>\n",
       "</table>\n",
       "</div>"
      ],
      "text/plain": [
       "     Borough          Type Provider  Latitude  Longitude Location_T      City  \\\n",
       "1332      MN  Partner Site  Partner   40.7538   -73.9833    Outdoor  New York   \n",
       "2530      MN  Partner Site  Partner   40.7360   -73.9904    Outdoor  New York   \n",
       "\n",
       "      BoroCode NTACode  \n",
       "1332       1.0    MN17  \n",
       "2530       1.0    MN13  "
      ]
     },
     "execution_count": 18,
     "metadata": {},
     "output_type": "execute_result"
    }
   ],
   "source": [
    "wifi_data[wifi_data['Type']=='Partner Site']"
   ]
  },
  {
   "cell_type": "markdown",
   "id": "6b42f7d9",
   "metadata": {},
   "source": [
    "This is also evident from checking the dataframe as above"
   ]
  }
 ],
 "metadata": {
  "kernelspec": {
   "display_name": "Python 3 (ipykernel)",
   "language": "python",
   "name": "python3"
  },
  "language_info": {
   "codemirror_mode": {
    "name": "ipython",
    "version": 3
   },
   "file_extension": ".py",
   "mimetype": "text/x-python",
   "name": "python",
   "nbconvert_exporter": "python",
   "pygments_lexer": "ipython3",
   "version": "3.7.11"
  }
 },
 "nbformat": 4,
 "nbformat_minor": 5
}
