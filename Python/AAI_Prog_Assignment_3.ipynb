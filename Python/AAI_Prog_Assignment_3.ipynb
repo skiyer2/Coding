{
 "cells": [
  {
   "cell_type": "code",
   "execution_count": 1,
   "id": "3b0b7b6c",
   "metadata": {},
   "outputs": [],
   "source": [
    "import numpy as np\n",
    "import pandas as pd\n",
    "\n",
    "pd.set_option(\"display.max_columns\", None)"
   ]
  },
  {
   "cell_type": "code",
   "execution_count": 2,
   "id": "1f4198ec",
   "metadata": {
    "scrolled": true
   },
   "outputs": [
    {
     "data": {
      "text/html": [
       "<div>\n",
       "<style scoped>\n",
       "    .dataframe tbody tr th:only-of-type {\n",
       "        vertical-align: middle;\n",
       "    }\n",
       "\n",
       "    .dataframe tbody tr th {\n",
       "        vertical-align: top;\n",
       "    }\n",
       "\n",
       "    .dataframe thead th {\n",
       "        text-align: right;\n",
       "    }\n",
       "</style>\n",
       "<table border=\"1\" class=\"dataframe\">\n",
       "  <thead>\n",
       "    <tr style=\"text-align: right;\">\n",
       "      <th></th>\n",
       "      <th>Address</th>\n",
       "      <th>Lot</th>\n",
       "      <th>AM or PM</th>\n",
       "      <th>Browser Info</th>\n",
       "      <th>Company</th>\n",
       "      <th>Credit Card</th>\n",
       "      <th>CC Exp Date</th>\n",
       "      <th>CC Security Code</th>\n",
       "      <th>CC Provider</th>\n",
       "      <th>Email</th>\n",
       "      <th>Job</th>\n",
       "      <th>IP Address</th>\n",
       "      <th>Language</th>\n",
       "      <th>Purchase Price</th>\n",
       "    </tr>\n",
       "  </thead>\n",
       "  <tbody>\n",
       "    <tr>\n",
       "      <th>0</th>\n",
       "      <td>16629 Pace Camp Apt. 448\\nAlexisborough, NE 77...</td>\n",
       "      <td>46 in</td>\n",
       "      <td>PM</td>\n",
       "      <td>Opera/9.56.(X11; Linux x86_64; sl-SI) Presto/2...</td>\n",
       "      <td>Martinez-Herman</td>\n",
       "      <td>6.011930e+15</td>\n",
       "      <td>Feb-20</td>\n",
       "      <td>900</td>\n",
       "      <td>JCB 16 digit</td>\n",
       "      <td>pdunlap@yahoo.com</td>\n",
       "      <td>Scientist, product/process development</td>\n",
       "      <td>149.146.147.205</td>\n",
       "      <td>el</td>\n",
       "      <td>98.14</td>\n",
       "    </tr>\n",
       "    <tr>\n",
       "      <th>1</th>\n",
       "      <td>9374 Jasmine Spurs Suite 508\\nSouth John, TN 8...</td>\n",
       "      <td>28 rn</td>\n",
       "      <td>PM</td>\n",
       "      <td>Opera/8.93.(Windows 98; Win 9x 4.90; en-US) Pr...</td>\n",
       "      <td>Fletcher, Richards and Whitaker</td>\n",
       "      <td>3.337760e+15</td>\n",
       "      <td>Nov-18</td>\n",
       "      <td>561</td>\n",
       "      <td>Mastercard</td>\n",
       "      <td>anthony41@reed.com</td>\n",
       "      <td>Drilling engineer</td>\n",
       "      <td>15.160.41.51</td>\n",
       "      <td>fr</td>\n",
       "      <td>70.73</td>\n",
       "    </tr>\n",
       "    <tr>\n",
       "      <th>2</th>\n",
       "      <td>Unit 0065 Box 5052\\nDPO AP 27450</td>\n",
       "      <td>94 vE</td>\n",
       "      <td>PM</td>\n",
       "      <td>Mozilla/5.0 (compatible; MSIE 9.0; Windows NT ...</td>\n",
       "      <td>Simpson, Williams and Pham</td>\n",
       "      <td>6.759580e+11</td>\n",
       "      <td>Aug-19</td>\n",
       "      <td>699</td>\n",
       "      <td>JCB 16 digit</td>\n",
       "      <td>amymiller@morales-harrison.com</td>\n",
       "      <td>Customer service manager</td>\n",
       "      <td>132.207.160.22</td>\n",
       "      <td>de</td>\n",
       "      <td>0.95</td>\n",
       "    </tr>\n",
       "    <tr>\n",
       "      <th>3</th>\n",
       "      <td>7780 Julia Fords\\nNew Stacy, WA 45798</td>\n",
       "      <td>36 vm</td>\n",
       "      <td>PM</td>\n",
       "      <td>Mozilla/5.0 (Macintosh; Intel Mac OS X 10_8_0 ...</td>\n",
       "      <td>Williams, Marshall and Buchanan</td>\n",
       "      <td>6.011580e+15</td>\n",
       "      <td>Feb-24</td>\n",
       "      <td>384</td>\n",
       "      <td>Discover</td>\n",
       "      <td>brent16@olson-robinson.info</td>\n",
       "      <td>Drilling engineer</td>\n",
       "      <td>30.250.74.19</td>\n",
       "      <td>es</td>\n",
       "      <td>78.04</td>\n",
       "    </tr>\n",
       "    <tr>\n",
       "      <th>4</th>\n",
       "      <td>23012 Munoz Drive Suite 337\\nNew Cynthia, TX 5...</td>\n",
       "      <td>20 IE</td>\n",
       "      <td>AM</td>\n",
       "      <td>Opera/9.58.(X11; Linux x86_64; it-IT) Presto/2...</td>\n",
       "      <td>Brown, Watson and Andrews</td>\n",
       "      <td>6.011460e+15</td>\n",
       "      <td>Oct-25</td>\n",
       "      <td>678</td>\n",
       "      <td>Diners Club / Carte Blanche</td>\n",
       "      <td>christopherwright@gmail.com</td>\n",
       "      <td>Fine artist</td>\n",
       "      <td>24.140.33.94</td>\n",
       "      <td>es</td>\n",
       "      <td>77.82</td>\n",
       "    </tr>\n",
       "  </tbody>\n",
       "</table>\n",
       "</div>"
      ],
      "text/plain": [
       "                                             Address    Lot AM or PM  \\\n",
       "0  16629 Pace Camp Apt. 448\\nAlexisborough, NE 77...  46 in       PM   \n",
       "1  9374 Jasmine Spurs Suite 508\\nSouth John, TN 8...  28 rn       PM   \n",
       "2                   Unit 0065 Box 5052\\nDPO AP 27450  94 vE       PM   \n",
       "3              7780 Julia Fords\\nNew Stacy, WA 45798  36 vm       PM   \n",
       "4  23012 Munoz Drive Suite 337\\nNew Cynthia, TX 5...  20 IE       AM   \n",
       "\n",
       "                                        Browser Info  \\\n",
       "0  Opera/9.56.(X11; Linux x86_64; sl-SI) Presto/2...   \n",
       "1  Opera/8.93.(Windows 98; Win 9x 4.90; en-US) Pr...   \n",
       "2  Mozilla/5.0 (compatible; MSIE 9.0; Windows NT ...   \n",
       "3  Mozilla/5.0 (Macintosh; Intel Mac OS X 10_8_0 ...   \n",
       "4  Opera/9.58.(X11; Linux x86_64; it-IT) Presto/2...   \n",
       "\n",
       "                           Company   Credit Card CC Exp Date  \\\n",
       "0                  Martinez-Herman  6.011930e+15      Feb-20   \n",
       "1  Fletcher, Richards and Whitaker  3.337760e+15      Nov-18   \n",
       "2       Simpson, Williams and Pham  6.759580e+11      Aug-19   \n",
       "3  Williams, Marshall and Buchanan  6.011580e+15      Feb-24   \n",
       "4        Brown, Watson and Andrews  6.011460e+15      Oct-25   \n",
       "\n",
       "   CC Security Code                  CC Provider  \\\n",
       "0               900                 JCB 16 digit   \n",
       "1               561                   Mastercard   \n",
       "2               699                 JCB 16 digit   \n",
       "3               384                     Discover   \n",
       "4               678  Diners Club / Carte Blanche   \n",
       "\n",
       "                            Email                                     Job  \\\n",
       "0               pdunlap@yahoo.com  Scientist, product/process development   \n",
       "1              anthony41@reed.com                       Drilling engineer   \n",
       "2  amymiller@morales-harrison.com                Customer service manager   \n",
       "3     brent16@olson-robinson.info                       Drilling engineer   \n",
       "4     christopherwright@gmail.com                             Fine artist   \n",
       "\n",
       "        IP Address Language  Purchase Price  \n",
       "0  149.146.147.205       el           98.14  \n",
       "1     15.160.41.51       fr           70.73  \n",
       "2   132.207.160.22       de            0.95  \n",
       "3     30.250.74.19       es           78.04  \n",
       "4     24.140.33.94       es           77.82  "
      ]
     },
     "execution_count": 2,
     "metadata": {},
     "output_type": "execute_result"
    }
   ],
   "source": [
    "ecomm_purchases = pd.read_csv(\"C:\\\\Users\\\\Karthik.Iyer\\\\Downloads\\\\AccelerateAI\\\\Python Programming\\\\EcommercePurchases.csv\")\n",
    "ecomm_purchases.head()"
   ]
  },
  {
   "cell_type": "code",
   "execution_count": 3,
   "id": "0be3455e",
   "metadata": {},
   "outputs": [
    {
     "data": {
      "text/plain": [
       "Address              object\n",
       "Lot                  object\n",
       "AM or PM             object\n",
       "Browser Info         object\n",
       "Company              object\n",
       "Credit Card         float64\n",
       "CC Exp Date          object\n",
       "CC Security Code      int64\n",
       "CC Provider          object\n",
       "Email                object\n",
       "Job                  object\n",
       "IP Address           object\n",
       "Language             object\n",
       "Purchase Price      float64\n",
       "dtype: object"
      ]
     },
     "execution_count": 3,
     "metadata": {},
     "output_type": "execute_result"
    }
   ],
   "source": [
    "#Lets check data types\n",
    "ecomm_purchases.dtypes"
   ]
  },
  {
   "cell_type": "markdown",
   "id": "cf0ac650",
   "metadata": {},
   "source": [
    "The above data types look appropriate in the first look. We can look at specific cases later if any."
   ]
  },
  {
   "cell_type": "code",
   "execution_count": 4,
   "id": "be7d059c",
   "metadata": {},
   "outputs": [
    {
     "name": "stdout",
     "output_type": "stream",
     "text": [
      "<class 'pandas.core.frame.DataFrame'>\n",
      "RangeIndex: 10000 entries, 0 to 9999\n",
      "Data columns (total 14 columns):\n",
      " #   Column            Non-Null Count  Dtype  \n",
      "---  ------            --------------  -----  \n",
      " 0   Address           10000 non-null  object \n",
      " 1   Lot               10000 non-null  object \n",
      " 2   AM or PM          10000 non-null  object \n",
      " 3   Browser Info      10000 non-null  object \n",
      " 4   Company           10000 non-null  object \n",
      " 5   Credit Card       10000 non-null  float64\n",
      " 6   CC Exp Date       10000 non-null  object \n",
      " 7   CC Security Code  10000 non-null  int64  \n",
      " 8   CC Provider       10000 non-null  object \n",
      " 9   Email             10000 non-null  object \n",
      " 10  Job               10000 non-null  object \n",
      " 11  IP Address        10000 non-null  object \n",
      " 12  Language          10000 non-null  object \n",
      " 13  Purchase Price    10000 non-null  float64\n",
      "dtypes: float64(2), int64(1), object(11)\n",
      "memory usage: 1.1+ MB\n"
     ]
    }
   ],
   "source": [
    "#Any missing values\n",
    "ecomm_purchases.info()"
   ]
  },
  {
   "cell_type": "code",
   "execution_count": 5,
   "id": "4183573e",
   "metadata": {},
   "outputs": [
    {
     "data": {
      "text/plain": [
       "Address             0\n",
       "Lot                 0\n",
       "AM or PM            0\n",
       "Browser Info        0\n",
       "Company             0\n",
       "Credit Card         0\n",
       "CC Exp Date         0\n",
       "CC Security Code    0\n",
       "CC Provider         0\n",
       "Email               0\n",
       "Job                 0\n",
       "IP Address          0\n",
       "Language            0\n",
       "Purchase Price      0\n",
       "dtype: int64"
      ]
     },
     "execution_count": 5,
     "metadata": {},
     "output_type": "execute_result"
    }
   ],
   "source": [
    "#Any missing values\n",
    "ecomm_purchases.isnull().sum()"
   ]
  },
  {
   "cell_type": "markdown",
   "id": "355000c1",
   "metadata": {},
   "source": [
    "There are no missing values in the given dataset"
   ]
  },
  {
   "cell_type": "code",
   "execution_count": 6,
   "id": "ae5bc5aa",
   "metadata": {},
   "outputs": [
    {
     "name": "stdout",
     "output_type": "stream",
     "text": [
      "(10000, 14)\n",
      "There are 10000 rows and 14 columns\n"
     ]
    }
   ],
   "source": [
    "#Lets check total rows and columns\n",
    "print(ecomm_purchases.shape)\n",
    "print(\"There are 10000 rows and 14 columns\")"
   ]
  },
  {
   "cell_type": "code",
   "execution_count": 7,
   "id": "dc0e6817",
   "metadata": {},
   "outputs": [
    {
     "name": "stdout",
     "output_type": "stream",
     "text": [
      "Minimum Purchase Price: 0.0\n",
      "Maximum Purchase Price: 99.99\n"
     ]
    }
   ],
   "source": [
    "#Maximum and minimum Price\n",
    "print(\"Minimum Purchase Price:\", ecomm_purchases[\"Purchase Price\"].min())\n",
    "print(\"Maximum Purchase Price:\", ecomm_purchases[\"Purchase Price\"].max())"
   ]
  },
  {
   "cell_type": "code",
   "execution_count": 8,
   "id": "5cf5835e",
   "metadata": {},
   "outputs": [
    {
     "name": "stdout",
     "output_type": "stream",
     "text": [
      "Average Purchase Price: 50.34730200000025\n"
     ]
    }
   ],
   "source": [
    "#How has the average price been trending?\n",
    "print(\"Average Purchase Price:\", ecomm_purchases[\"Purchase Price\"].mean())"
   ]
  },
  {
   "cell_type": "code",
   "execution_count": 9,
   "id": "71404401",
   "metadata": {
    "scrolled": true
   },
   "outputs": [
    {
     "data": {
      "text/plain": [
       "de    1155\n",
       "ru    1155\n",
       "el    1137\n",
       "pt    1118\n",
       "en    1098\n",
       "fr    1097\n",
       "es    1095\n",
       "it    1086\n",
       "zh    1059\n",
       "Name: Language, dtype: int64"
      ]
     },
     "execution_count": 9,
     "metadata": {},
     "output_type": "execute_result"
    }
   ],
   "source": [
    "#No of people who have 'en' as their language of choice\n",
    "ecomm_purchases[\"Language\"].value_counts()"
   ]
  },
  {
   "cell_type": "code",
   "execution_count": 10,
   "id": "59ca7381",
   "metadata": {},
   "outputs": [
    {
     "data": {
      "text/plain": [
       "1098"
      ]
     },
     "execution_count": 10,
     "metadata": {},
     "output_type": "execute_result"
    }
   ],
   "source": [
    "#No of people who have 'en' as their language of choice\n",
    "len(ecomm_purchases[ecomm_purchases[\"Language\"]=='en'])"
   ]
  },
  {
   "cell_type": "code",
   "execution_count": 11,
   "id": "5cafd0ce",
   "metadata": {},
   "outputs": [
    {
     "data": {
      "text/plain": [
       "'JCB 16 digit'"
      ]
     },
     "execution_count": 11,
     "metadata": {},
     "output_type": "execute_result"
    }
   ],
   "source": [
    "#Most popular Credit card provider\n",
    "ecomm_purchases[\"CC Provider\"].value_counts().idxmax()"
   ]
  },
  {
   "cell_type": "code",
   "execution_count": 12,
   "id": "6b33a841",
   "metadata": {},
   "outputs": [
    {
     "data": {
      "text/plain": [
       "PM    5068\n",
       "AM    4932\n",
       "Name: AM or PM, dtype: int64"
      ]
     },
     "execution_count": 12,
     "metadata": {},
     "output_type": "execute_result"
    }
   ],
   "source": [
    "#No of people purchasing in AM vs PM\n",
    "ecomm_purchases[\"AM or PM\"].value_counts()"
   ]
  },
  {
   "cell_type": "markdown",
   "id": "923702ed",
   "metadata": {},
   "source": [
    "More purchasers preferred buying after noon (i.e. PM) over morning (i.e. AM)"
   ]
  },
  {
   "cell_type": "code",
   "execution_count": 13,
   "id": "d3d85c92",
   "metadata": {},
   "outputs": [
    {
     "data": {
      "text/plain": [
       "JCB 16 digit                   1716\n",
       "VISA 16 digit                  1715\n",
       "JCB 15 digit                    868\n",
       "American Express                849\n",
       "Maestro                         846\n",
       "Voyager                         829\n",
       "Discover                        817\n",
       "Mastercard                      816\n",
       "VISA 13 digit                   777\n",
       "Diners Club / Carte Blanche     767\n",
       "Name: CC Provider, dtype: int64"
      ]
     },
     "execution_count": 13,
     "metadata": {},
     "output_type": "execute_result"
    }
   ],
   "source": [
    "#No of American Express cards expiring in Year 2025\n",
    "ecomm_purchases[\"CC Provider\"].value_counts()"
   ]
  },
  {
   "cell_type": "code",
   "execution_count": 14,
   "id": "5680152e",
   "metadata": {},
   "outputs": [
    {
     "data": {
      "text/plain": [
       "70"
      ]
     },
     "execution_count": 14,
     "metadata": {},
     "output_type": "execute_result"
    }
   ],
   "source": [
    "#No of American Express cards expiring in Year 2025\n",
    "len(ecomm_purchases[(ecomm_purchases[\"CC Provider\"]==\"American Express\") & (ecomm_purchases[\"CC Exp Date\"].apply(lambda x:x.split('-')[1]) == '25')])"
   ]
  },
  {
   "cell_type": "code",
   "execution_count": 15,
   "id": "a4e4d443",
   "metadata": {},
   "outputs": [],
   "source": [
    "#Top 5 Job titles who purchased in 2020"
   ]
  },
  {
   "cell_type": "markdown",
   "id": "33d319b9",
   "metadata": {},
   "source": [
    "The only date field we have in the dataset is CC Exp Date which is Credit Card Expiry Date. Let's look at if there are purchases made when credit cards are expiring in 2020"
   ]
  },
  {
   "cell_type": "code",
   "execution_count": 16,
   "id": "879d3978",
   "metadata": {
    "scrolled": true
   },
   "outputs": [
    {
     "data": {
      "text/html": [
       "<div>\n",
       "<style scoped>\n",
       "    .dataframe tbody tr th:only-of-type {\n",
       "        vertical-align: middle;\n",
       "    }\n",
       "\n",
       "    .dataframe tbody tr th {\n",
       "        vertical-align: top;\n",
       "    }\n",
       "\n",
       "    .dataframe thead th {\n",
       "        text-align: right;\n",
       "    }\n",
       "</style>\n",
       "<table border=\"1\" class=\"dataframe\">\n",
       "  <thead>\n",
       "    <tr style=\"text-align: right;\">\n",
       "      <th></th>\n",
       "      <th>Address</th>\n",
       "      <th>Lot</th>\n",
       "      <th>AM or PM</th>\n",
       "      <th>Browser Info</th>\n",
       "      <th>Company</th>\n",
       "      <th>Credit Card</th>\n",
       "      <th>CC Exp Date</th>\n",
       "      <th>CC Security Code</th>\n",
       "      <th>CC Provider</th>\n",
       "      <th>Email</th>\n",
       "      <th>Job</th>\n",
       "      <th>IP Address</th>\n",
       "      <th>Language</th>\n",
       "      <th>Purchase Price</th>\n",
       "    </tr>\n",
       "  </thead>\n",
       "  <tbody>\n",
       "    <tr>\n",
       "      <th>0</th>\n",
       "      <td>16629 Pace Camp Apt. 448\\nAlexisborough, NE 77...</td>\n",
       "      <td>46 in</td>\n",
       "      <td>PM</td>\n",
       "      <td>Opera/9.56.(X11; Linux x86_64; sl-SI) Presto/2...</td>\n",
       "      <td>Martinez-Herman</td>\n",
       "      <td>6.011930e+15</td>\n",
       "      <td>Feb-20</td>\n",
       "      <td>900</td>\n",
       "      <td>JCB 16 digit</td>\n",
       "      <td>pdunlap@yahoo.com</td>\n",
       "      <td>Scientist, product/process development</td>\n",
       "      <td>149.146.147.205</td>\n",
       "      <td>el</td>\n",
       "      <td>98.14</td>\n",
       "    </tr>\n",
       "    <tr>\n",
       "      <th>19</th>\n",
       "      <td>125 Hall Summit\\nBoothton, IL 41721</td>\n",
       "      <td>99 CU</td>\n",
       "      <td>PM</td>\n",
       "      <td>Mozilla/5.0 (compatible; MSIE 7.0; Windows NT ...</td>\n",
       "      <td>Turner-Mckinney</td>\n",
       "      <td>6.763440e+11</td>\n",
       "      <td>Feb-20</td>\n",
       "      <td>440</td>\n",
       "      <td>VISA 16 digit</td>\n",
       "      <td>ruiznicole@gmail.com</td>\n",
       "      <td>Designer, interior/spatial</td>\n",
       "      <td>25.105.209.214</td>\n",
       "      <td>fr</td>\n",
       "      <td>58.39</td>\n",
       "    </tr>\n",
       "    <tr>\n",
       "      <th>32</th>\n",
       "      <td>Unit 3628 Box 6778\\nDPO AE 72362</td>\n",
       "      <td>39 Qm</td>\n",
       "      <td>PM</td>\n",
       "      <td>Mozilla/5.0 (Windows 98; Win 9x 4.90) AppleWeb...</td>\n",
       "      <td>Martinez-Wilson</td>\n",
       "      <td>4.942280e+15</td>\n",
       "      <td>Jan-20</td>\n",
       "      <td>8360</td>\n",
       "      <td>JCB 16 digit</td>\n",
       "      <td>shane21@atkinson.com</td>\n",
       "      <td>Civil Service fast streamer</td>\n",
       "      <td>196.37.134.217</td>\n",
       "      <td>pt</td>\n",
       "      <td>56.63</td>\n",
       "    </tr>\n",
       "    <tr>\n",
       "      <th>36</th>\n",
       "      <td>9374 Skinner Common Apt. 254\\nChristopherfort,...</td>\n",
       "      <td>80 Fq</td>\n",
       "      <td>PM</td>\n",
       "      <td>Mozilla/5.0 (compatible; MSIE 9.0; Windows NT ...</td>\n",
       "      <td>Hanna-Grant</td>\n",
       "      <td>1.800420e+14</td>\n",
       "      <td>Sep-20</td>\n",
       "      <td>912</td>\n",
       "      <td>VISA 16 digit</td>\n",
       "      <td>saundersernest@walsh.com</td>\n",
       "      <td>Animal technologist</td>\n",
       "      <td>85.134.58.250</td>\n",
       "      <td>zh</td>\n",
       "      <td>9.77</td>\n",
       "    </tr>\n",
       "    <tr>\n",
       "      <th>38</th>\n",
       "      <td>9671 Riley Drives Apt. 746\\nPort Davidtown, TN...</td>\n",
       "      <td>15 vj</td>\n",
       "      <td>AM</td>\n",
       "      <td>Mozilla/5.0 (X11; Linux i686; rv:1.9.6.20) Gec...</td>\n",
       "      <td>Bryant, Hubbard and Gonzales</td>\n",
       "      <td>2.100950e+14</td>\n",
       "      <td>Dec-20</td>\n",
       "      <td>248</td>\n",
       "      <td>Voyager</td>\n",
       "      <td>djennings@boyd-english.org</td>\n",
       "      <td>Music therapist</td>\n",
       "      <td>143.138.65.219</td>\n",
       "      <td>en</td>\n",
       "      <td>30.07</td>\n",
       "    </tr>\n",
       "    <tr>\n",
       "      <th>...</th>\n",
       "      <td>...</td>\n",
       "      <td>...</td>\n",
       "      <td>...</td>\n",
       "      <td>...</td>\n",
       "      <td>...</td>\n",
       "      <td>...</td>\n",
       "      <td>...</td>\n",
       "      <td>...</td>\n",
       "      <td>...</td>\n",
       "      <td>...</td>\n",
       "      <td>...</td>\n",
       "      <td>...</td>\n",
       "      <td>...</td>\n",
       "      <td>...</td>\n",
       "    </tr>\n",
       "    <tr>\n",
       "      <th>9883</th>\n",
       "      <td>751 Petersen Groves\\nLake Rebecca, NM 55875</td>\n",
       "      <td>61 tE</td>\n",
       "      <td>PM</td>\n",
       "      <td>Mozilla/5.0 (Macintosh; U; PPC Mac OS X 10_8_7...</td>\n",
       "      <td>Perez and Sons</td>\n",
       "      <td>4.939810e+15</td>\n",
       "      <td>May-20</td>\n",
       "      <td>238</td>\n",
       "      <td>Mastercard</td>\n",
       "      <td>lisa25@hotmail.com</td>\n",
       "      <td>Therapeutic radiographer</td>\n",
       "      <td>215.85.159.70</td>\n",
       "      <td>pt</td>\n",
       "      <td>67.47</td>\n",
       "    </tr>\n",
       "    <tr>\n",
       "      <th>9901</th>\n",
       "      <td>908 Norman Burgs\\nPhillipsberg, VT 92023-9956</td>\n",
       "      <td>90 Ng</td>\n",
       "      <td>PM</td>\n",
       "      <td>Mozilla/5.0 (compatible; MSIE 9.0; Windows NT ...</td>\n",
       "      <td>Hughes Inc</td>\n",
       "      <td>3.014880e+13</td>\n",
       "      <td>Sep-20</td>\n",
       "      <td>483</td>\n",
       "      <td>Voyager</td>\n",
       "      <td>james32@gmail.com</td>\n",
       "      <td>Meteorologist</td>\n",
       "      <td>250.66.85.29</td>\n",
       "      <td>en</td>\n",
       "      <td>57.25</td>\n",
       "    </tr>\n",
       "    <tr>\n",
       "      <th>9911</th>\n",
       "      <td>44320 Gray Centers Suite 325\\nJenniferfurt, OK...</td>\n",
       "      <td>19 Bf</td>\n",
       "      <td>PM</td>\n",
       "      <td>Mozilla/5.0 (X11; Linux i686; rv:1.9.7.20) Gec...</td>\n",
       "      <td>Jones-Gray</td>\n",
       "      <td>4.058070e+12</td>\n",
       "      <td>Dec-20</td>\n",
       "      <td>921</td>\n",
       "      <td>Diners Club / Carte Blanche</td>\n",
       "      <td>hensonlindsay@graves-fox.com</td>\n",
       "      <td>Optician, dispensing</td>\n",
       "      <td>84.118.30.56</td>\n",
       "      <td>en</td>\n",
       "      <td>20.63</td>\n",
       "    </tr>\n",
       "    <tr>\n",
       "      <th>9957</th>\n",
       "      <td>73556 Chase Pine\\nBrucemouth, MP 73473</td>\n",
       "      <td>25 rU</td>\n",
       "      <td>PM</td>\n",
       "      <td>Opera/9.49.(Windows 95; en-US) Presto/2.9.189 ...</td>\n",
       "      <td>Martin, Clayton and Jarvis</td>\n",
       "      <td>3.337740e+15</td>\n",
       "      <td>May-20</td>\n",
       "      <td>798</td>\n",
       "      <td>VISA 13 digit</td>\n",
       "      <td>latashaochoa@gmail.com</td>\n",
       "      <td>Therapeutic radiographer</td>\n",
       "      <td>239.219.241.162</td>\n",
       "      <td>ru</td>\n",
       "      <td>71.85</td>\n",
       "    </tr>\n",
       "    <tr>\n",
       "      <th>9992</th>\n",
       "      <td>885 Allen Mountains Apt. 230\\nWallhaven, LA 16995</td>\n",
       "      <td>40 vH</td>\n",
       "      <td>PM</td>\n",
       "      <td>Mozilla/5.0 (Macintosh; PPC Mac OS X 10_6_5) A...</td>\n",
       "      <td>Wells Ltd</td>\n",
       "      <td>4.664830e+15</td>\n",
       "      <td>Oct-20</td>\n",
       "      <td>431</td>\n",
       "      <td>Discover</td>\n",
       "      <td>bberry@wright.net</td>\n",
       "      <td>Set designer</td>\n",
       "      <td>174.173.51.32</td>\n",
       "      <td>de</td>\n",
       "      <td>67.96</td>\n",
       "    </tr>\n",
       "  </tbody>\n",
       "</table>\n",
       "<p>988 rows × 14 columns</p>\n",
       "</div>"
      ],
      "text/plain": [
       "                                                Address    Lot AM or PM  \\\n",
       "0     16629 Pace Camp Apt. 448\\nAlexisborough, NE 77...  46 in       PM   \n",
       "19                  125 Hall Summit\\nBoothton, IL 41721  99 CU       PM   \n",
       "32                     Unit 3628 Box 6778\\nDPO AE 72362  39 Qm       PM   \n",
       "36    9374 Skinner Common Apt. 254\\nChristopherfort,...  80 Fq       PM   \n",
       "38    9671 Riley Drives Apt. 746\\nPort Davidtown, TN...  15 vj       AM   \n",
       "...                                                 ...    ...      ...   \n",
       "9883        751 Petersen Groves\\nLake Rebecca, NM 55875  61 tE       PM   \n",
       "9901      908 Norman Burgs\\nPhillipsberg, VT 92023-9956  90 Ng       PM   \n",
       "9911  44320 Gray Centers Suite 325\\nJenniferfurt, OK...  19 Bf       PM   \n",
       "9957             73556 Chase Pine\\nBrucemouth, MP 73473  25 rU       PM   \n",
       "9992  885 Allen Mountains Apt. 230\\nWallhaven, LA 16995  40 vH       PM   \n",
       "\n",
       "                                           Browser Info  \\\n",
       "0     Opera/9.56.(X11; Linux x86_64; sl-SI) Presto/2...   \n",
       "19    Mozilla/5.0 (compatible; MSIE 7.0; Windows NT ...   \n",
       "32    Mozilla/5.0 (Windows 98; Win 9x 4.90) AppleWeb...   \n",
       "36    Mozilla/5.0 (compatible; MSIE 9.0; Windows NT ...   \n",
       "38    Mozilla/5.0 (X11; Linux i686; rv:1.9.6.20) Gec...   \n",
       "...                                                 ...   \n",
       "9883  Mozilla/5.0 (Macintosh; U; PPC Mac OS X 10_8_7...   \n",
       "9901  Mozilla/5.0 (compatible; MSIE 9.0; Windows NT ...   \n",
       "9911  Mozilla/5.0 (X11; Linux i686; rv:1.9.7.20) Gec...   \n",
       "9957  Opera/9.49.(Windows 95; en-US) Presto/2.9.189 ...   \n",
       "9992  Mozilla/5.0 (Macintosh; PPC Mac OS X 10_6_5) A...   \n",
       "\n",
       "                           Company   Credit Card CC Exp Date  \\\n",
       "0                  Martinez-Herman  6.011930e+15      Feb-20   \n",
       "19                 Turner-Mckinney  6.763440e+11      Feb-20   \n",
       "32                 Martinez-Wilson  4.942280e+15      Jan-20   \n",
       "36                     Hanna-Grant  1.800420e+14      Sep-20   \n",
       "38    Bryant, Hubbard and Gonzales  2.100950e+14      Dec-20   \n",
       "...                            ...           ...         ...   \n",
       "9883                Perez and Sons  4.939810e+15      May-20   \n",
       "9901                    Hughes Inc  3.014880e+13      Sep-20   \n",
       "9911                    Jones-Gray  4.058070e+12      Dec-20   \n",
       "9957    Martin, Clayton and Jarvis  3.337740e+15      May-20   \n",
       "9992                     Wells Ltd  4.664830e+15      Oct-20   \n",
       "\n",
       "      CC Security Code                  CC Provider  \\\n",
       "0                  900                 JCB 16 digit   \n",
       "19                 440                VISA 16 digit   \n",
       "32                8360                 JCB 16 digit   \n",
       "36                 912                VISA 16 digit   \n",
       "38                 248                      Voyager   \n",
       "...                ...                          ...   \n",
       "9883               238                   Mastercard   \n",
       "9901               483                      Voyager   \n",
       "9911               921  Diners Club / Carte Blanche   \n",
       "9957               798                VISA 13 digit   \n",
       "9992               431                     Discover   \n",
       "\n",
       "                             Email                                     Job  \\\n",
       "0                pdunlap@yahoo.com  Scientist, product/process development   \n",
       "19            ruiznicole@gmail.com              Designer, interior/spatial   \n",
       "32            shane21@atkinson.com             Civil Service fast streamer   \n",
       "36        saundersernest@walsh.com                     Animal technologist   \n",
       "38      djennings@boyd-english.org                         Music therapist   \n",
       "...                            ...                                     ...   \n",
       "9883            lisa25@hotmail.com                Therapeutic radiographer   \n",
       "9901             james32@gmail.com                           Meteorologist   \n",
       "9911  hensonlindsay@graves-fox.com                    Optician, dispensing   \n",
       "9957        latashaochoa@gmail.com                Therapeutic radiographer   \n",
       "9992             bberry@wright.net                            Set designer   \n",
       "\n",
       "           IP Address Language  Purchase Price  \n",
       "0     149.146.147.205       el           98.14  \n",
       "19     25.105.209.214       fr           58.39  \n",
       "32     196.37.134.217       pt           56.63  \n",
       "36      85.134.58.250       zh            9.77  \n",
       "38     143.138.65.219       en           30.07  \n",
       "...               ...      ...             ...  \n",
       "9883    215.85.159.70       pt           67.47  \n",
       "9901     250.66.85.29       en           57.25  \n",
       "9911     84.118.30.56       en           20.63  \n",
       "9957  239.219.241.162       ru           71.85  \n",
       "9992    174.173.51.32       de           67.96  \n",
       "\n",
       "[988 rows x 14 columns]"
      ]
     },
     "execution_count": 16,
     "metadata": {},
     "output_type": "execute_result"
    }
   ],
   "source": [
    "#Purchases in the Year 2020\n",
    "ecomm_purchases[ecomm_purchases[\"CC Exp Date\"].apply(lambda x:x.split('-')[1]) == '20']"
   ]
  },
  {
   "cell_type": "markdown",
   "id": "522c5909",
   "metadata": {},
   "source": [
    "We can see that there are purchases made in the year 2020"
   ]
  },
  {
   "cell_type": "code",
   "execution_count": 17,
   "id": "1a36f43e",
   "metadata": {},
   "outputs": [
    {
     "data": {
      "text/plain": [
       "Designer, fashion/clothing    6\n",
       "Therapist, art                6\n",
       "Aid worker                    6\n",
       "Risk analyst                  6\n",
       "Forest/woodland manager       6\n",
       "Name: Job, dtype: int64"
      ]
     },
     "execution_count": 17,
     "metadata": {},
     "output_type": "execute_result"
    }
   ],
   "source": [
    "#Top 5 jobs\n",
    "ecomm_purchases[\"Job\"][ecomm_purchases[\"CC Exp Date\"].apply(lambda x:x.split('-')[1]) == '20'].value_counts().head()"
   ]
  },
  {
   "cell_type": "code",
   "execution_count": 18,
   "id": "5a38e2ff",
   "metadata": {},
   "outputs": [
    {
     "data": {
      "text/plain": [
       "Mozilla    7924\n",
       "Opera      2076\n",
       "Name: Browser Info, dtype: int64"
      ]
     },
     "execution_count": 18,
     "metadata": {},
     "output_type": "execute_result"
    }
   ],
   "source": [
    "#Split of Mozilla to Opera browser\n",
    "ecomm_purchases[\"Browser Info\"].apply(lambda x:x.split('/')[0]).value_counts()"
   ]
  },
  {
   "cell_type": "markdown",
   "id": "56662705",
   "metadata": {},
   "source": [
    "More Purchasers preferred using Mozilla browser over Opera."
   ]
  },
  {
   "cell_type": "code",
   "execution_count": 19,
   "id": "430ce98f",
   "metadata": {},
   "outputs": [
    {
     "data": {
      "text/plain": [
       "197    57\n",
       "25     56\n",
       "89     56\n",
       "148    55\n",
       "102    53\n",
       "56     53\n",
       "108    52\n",
       "98     52\n",
       "40     51\n",
       "156    51\n",
       "Name: IP Address, dtype: int64"
      ]
     },
     "execution_count": 19,
     "metadata": {},
     "output_type": "execute_result"
    }
   ],
   "source": [
    "#Top 10 first level IPv4 address ( IPv4: ABC.DEF.GHI.KLM, Top Level = ABC)\n",
    "ecomm_purchases[\"IP Address\"].apply(lambda x:x.split('.')[0]).value_counts().head(10)"
   ]
  },
  {
   "cell_type": "code",
   "execution_count": 20,
   "id": "6204026c",
   "metadata": {},
   "outputs": [
    {
     "data": {
      "text/plain": [
       "hotmail.com     1638\n",
       "yahoo.com       1616\n",
       "gmail.com       1605\n",
       "smith.com         42\n",
       "williams.com      37\n",
       "Name: Email, dtype: int64"
      ]
     },
     "execution_count": 20,
     "metadata": {},
     "output_type": "execute_result"
    }
   ],
   "source": [
    "#The top 5 email providers of clients (e.g. gmail, yahoo etc.)\n",
    "ecomm_purchases[\"Email\"].apply(lambda x: x.split('@')[1]).value_counts().head()"
   ]
  }
 ],
 "metadata": {
  "kernelspec": {
   "display_name": "Python 3 (ipykernel)",
   "language": "python",
   "name": "python3"
  },
  "language_info": {
   "codemirror_mode": {
    "name": "ipython",
    "version": 3
   },
   "file_extension": ".py",
   "mimetype": "text/x-python",
   "name": "python",
   "nbconvert_exporter": "python",
   "pygments_lexer": "ipython3",
   "version": "3.7.11"
  }
 },
 "nbformat": 4,
 "nbformat_minor": 5
}
