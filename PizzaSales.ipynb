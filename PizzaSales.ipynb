{
 "cells": [
  {
   "cell_type": "markdown",
   "id": "bc37497d",
   "metadata": {},
   "source": [
    "The owner of Bangalore Pizza restaurant chain wants to predict the sales of his specialty Thin Crust Masala Pizza. He gathered data on monthly sales at his restaurant and potentially relevant variables for 15 outlets across Karnataka.\n",
    "\n",
    "1) Estimate the MLR model coefficients<br>\n",
    "2) Is there an evidence of violation of any key assumption of regression analysis?<br>\n",
    "3) Which variable among these would you choose to remove and Why?<br>\n",
    "4) Will removing that variable increase the overall explanatory power of the model?"
   ]
  },
  {
   "cell_type": "code",
   "execution_count": 1,
   "id": "760a0aac",
   "metadata": {},
   "outputs": [],
   "source": [
    "# import libraries\n",
    "import numpy as np\n",
    "import pandas as pd\n",
    "import matplotlib.pyplot as plt\n",
    "import seaborn as sns\n",
    "\n",
    "import statsmodels.api as sm"
   ]
  },
  {
   "cell_type": "code",
   "execution_count": 2,
   "id": "85ccd415",
   "metadata": {},
   "outputs": [
    {
     "data": {
      "text/html": [
       "<div>\n",
       "<style scoped>\n",
       "    .dataframe tbody tr th:only-of-type {\n",
       "        vertical-align: middle;\n",
       "    }\n",
       "\n",
       "    .dataframe tbody tr th {\n",
       "        vertical-align: top;\n",
       "    }\n",
       "\n",
       "    .dataframe thead th {\n",
       "        text-align: right;\n",
       "    }\n",
       "</style>\n",
       "<table border=\"1\" class=\"dataframe\">\n",
       "  <thead>\n",
       "    <tr style=\"text-align: right;\">\n",
       "      <th></th>\n",
       "      <th>Outlet Number</th>\n",
       "      <th>Quantity Sold</th>\n",
       "      <th>Average Price</th>\n",
       "      <th>Monthly Advertising Expenditures</th>\n",
       "      <th>Disposable Income per Household</th>\n",
       "    </tr>\n",
       "  </thead>\n",
       "  <tbody>\n",
       "    <tr>\n",
       "      <th>0</th>\n",
       "      <td>1</td>\n",
       "      <td>85,300</td>\n",
       "      <td>$10.14</td>\n",
       "      <td>$64,800</td>\n",
       "      <td>$42,100</td>\n",
       "    </tr>\n",
       "    <tr>\n",
       "      <th>1</th>\n",
       "      <td>2</td>\n",
       "      <td>40,500</td>\n",
       "      <td>$10.88</td>\n",
       "      <td>$42,800</td>\n",
       "      <td>$38,300</td>\n",
       "    </tr>\n",
       "    <tr>\n",
       "      <th>2</th>\n",
       "      <td>3</td>\n",
       "      <td>61,800</td>\n",
       "      <td>$12.33</td>\n",
       "      <td>$58,600</td>\n",
       "      <td>$41,000</td>\n",
       "    </tr>\n",
       "    <tr>\n",
       "      <th>3</th>\n",
       "      <td>4</td>\n",
       "      <td>50,800</td>\n",
       "      <td>$12.70</td>\n",
       "      <td>$46,500</td>\n",
       "      <td>$43,300</td>\n",
       "    </tr>\n",
       "    <tr>\n",
       "      <th>4</th>\n",
       "      <td>5</td>\n",
       "      <td>60,600</td>\n",
       "      <td>$12.29</td>\n",
       "      <td>$50,700</td>\n",
       "      <td>$44,000</td>\n",
       "    </tr>\n",
       "  </tbody>\n",
       "</table>\n",
       "</div>"
      ],
      "text/plain": [
       "   Outlet Number Quantity Sold Average Price Monthly Advertising Expenditures  \\\n",
       "0              1        85,300        $10.14                          $64,800   \n",
       "1              2        40,500        $10.88                          $42,800   \n",
       "2              3        61,800        $12.33                          $58,600   \n",
       "3              4        50,800        $12.70                          $46,500   \n",
       "4              5        60,600        $12.29                          $50,700   \n",
       "\n",
       "  Disposable Income per Household  \n",
       "0                         $42,100  \n",
       "1                         $38,300  \n",
       "2                         $41,000  \n",
       "3                         $43,300  \n",
       "4                         $44,000  "
      ]
     },
     "execution_count": 2,
     "metadata": {},
     "output_type": "execute_result"
    }
   ],
   "source": [
    "# load data\n",
    "df = pd.read_csv('C:/Users/Karthik.Iyer/Downloads/AccelerateAI/Regression-Models-main/MLR_Q14_PizzaSales.csv')\n",
    "df.head()"
   ]
  },
  {
   "cell_type": "code",
   "execution_count": 3,
   "id": "a1742d44",
   "metadata": {},
   "outputs": [
    {
     "data": {
      "text/plain": [
       "(15, 5)"
      ]
     },
     "execution_count": 3,
     "metadata": {},
     "output_type": "execute_result"
    }
   ],
   "source": [
    "# Check shape\n",
    "df.shape"
   ]
  },
  {
   "cell_type": "markdown",
   "id": "d7916fbf",
   "metadata": {},
   "source": [
    "There are 15 observations with 5 features"
   ]
  },
  {
   "cell_type": "code",
   "execution_count": 4,
   "id": "591bbe3d",
   "metadata": {},
   "outputs": [
    {
     "name": "stdout",
     "output_type": "stream",
     "text": [
      "<class 'pandas.core.frame.DataFrame'>\n",
      "RangeIndex: 15 entries, 0 to 14\n",
      "Data columns (total 5 columns):\n",
      " #   Column                            Non-Null Count  Dtype \n",
      "---  ------                            --------------  ----- \n",
      " 0   Outlet Number                     15 non-null     int64 \n",
      " 1   Quantity Sold                     15 non-null     object\n",
      " 2   Average Price                     15 non-null     object\n",
      " 3   Monthly Advertising Expenditures  15 non-null     object\n",
      " 4   Disposable Income per Household   15 non-null     object\n",
      "dtypes: int64(1), object(4)\n",
      "memory usage: 728.0+ bytes\n"
     ]
    }
   ],
   "source": [
    "# Check data type\n",
    "df.info()"
   ]
  },
  {
   "cell_type": "markdown",
   "id": "0a66ca31",
   "metadata": {},
   "source": [
    "Variables with object data types needs to be cleansed."
   ]
  },
  {
   "cell_type": "code",
   "execution_count": 5,
   "id": "d0085c7e",
   "metadata": {},
   "outputs": [
    {
     "data": {
      "text/plain": [
       "Outlet Number                       0\n",
       "Quantity Sold                       0\n",
       "Average Price                       0\n",
       "Monthly Advertising Expenditures    0\n",
       "Disposable Income per Household     0\n",
       "dtype: int64"
      ]
     },
     "execution_count": 5,
     "metadata": {},
     "output_type": "execute_result"
    }
   ],
   "source": [
    "# Check missing values\n",
    "df.isnull().sum()"
   ]
  },
  {
   "cell_type": "code",
   "execution_count": 6,
   "id": "aa16e37c",
   "metadata": {},
   "outputs": [],
   "source": [
    "# Lets handle variables with object data types\n",
    "df['Quantity Sold'] = df['Quantity Sold'].apply(lambda x: int(x.replace(',','')))\n",
    "df['Average Price'] = df['Average Price'].apply(lambda x: float(x.replace('$','')))\n",
    "df['Monthly Advertising Expenditures'] = df['Monthly Advertising Expenditures'].apply(lambda x: int(x.replace('$','').replace(',','')))\n",
    "df['Disposable Income per Household'] = df['Disposable Income per Household'].apply(lambda x: int(x.replace('$','').replace(',','')))"
   ]
  },
  {
   "cell_type": "code",
   "execution_count": 7,
   "id": "4fae687b",
   "metadata": {},
   "outputs": [
    {
     "data": {
      "text/html": [
       "<div>\n",
       "<style scoped>\n",
       "    .dataframe tbody tr th:only-of-type {\n",
       "        vertical-align: middle;\n",
       "    }\n",
       "\n",
       "    .dataframe tbody tr th {\n",
       "        vertical-align: top;\n",
       "    }\n",
       "\n",
       "    .dataframe thead th {\n",
       "        text-align: right;\n",
       "    }\n",
       "</style>\n",
       "<table border=\"1\" class=\"dataframe\">\n",
       "  <thead>\n",
       "    <tr style=\"text-align: right;\">\n",
       "      <th></th>\n",
       "      <th>Outlet Number</th>\n",
       "      <th>Quantity Sold</th>\n",
       "      <th>Average Price</th>\n",
       "      <th>Monthly Advertising Expenditures</th>\n",
       "      <th>Disposable Income per Household</th>\n",
       "    </tr>\n",
       "  </thead>\n",
       "  <tbody>\n",
       "    <tr>\n",
       "      <th>0</th>\n",
       "      <td>1</td>\n",
       "      <td>85300</td>\n",
       "      <td>10.14</td>\n",
       "      <td>64800</td>\n",
       "      <td>42100</td>\n",
       "    </tr>\n",
       "    <tr>\n",
       "      <th>1</th>\n",
       "      <td>2</td>\n",
       "      <td>40500</td>\n",
       "      <td>10.88</td>\n",
       "      <td>42800</td>\n",
       "      <td>38300</td>\n",
       "    </tr>\n",
       "    <tr>\n",
       "      <th>2</th>\n",
       "      <td>3</td>\n",
       "      <td>61800</td>\n",
       "      <td>12.33</td>\n",
       "      <td>58600</td>\n",
       "      <td>41000</td>\n",
       "    </tr>\n",
       "    <tr>\n",
       "      <th>3</th>\n",
       "      <td>4</td>\n",
       "      <td>50800</td>\n",
       "      <td>12.70</td>\n",
       "      <td>46500</td>\n",
       "      <td>43300</td>\n",
       "    </tr>\n",
       "    <tr>\n",
       "      <th>4</th>\n",
       "      <td>5</td>\n",
       "      <td>60600</td>\n",
       "      <td>12.29</td>\n",
       "      <td>50700</td>\n",
       "      <td>44000</td>\n",
       "    </tr>\n",
       "  </tbody>\n",
       "</table>\n",
       "</div>"
      ],
      "text/plain": [
       "   Outlet Number  Quantity Sold  Average Price  \\\n",
       "0              1          85300          10.14   \n",
       "1              2          40500          10.88   \n",
       "2              3          61800          12.33   \n",
       "3              4          50800          12.70   \n",
       "4              5          60600          12.29   \n",
       "\n",
       "   Monthly Advertising Expenditures  Disposable Income per Household  \n",
       "0                             64800                            42100  \n",
       "1                             42800                            38300  \n",
       "2                             58600                            41000  \n",
       "3                             46500                            43300  \n",
       "4                             50700                            44000  "
      ]
     },
     "execution_count": 7,
     "metadata": {},
     "output_type": "execute_result"
    }
   ],
   "source": [
    "# Check data\n",
    "df.head()"
   ]
  },
  {
   "cell_type": "code",
   "execution_count": 8,
   "id": "5984c0bc",
   "metadata": {},
   "outputs": [
    {
     "data": {
      "text/html": [
       "<div>\n",
       "<style scoped>\n",
       "    .dataframe tbody tr th:only-of-type {\n",
       "        vertical-align: middle;\n",
       "    }\n",
       "\n",
       "    .dataframe tbody tr th {\n",
       "        vertical-align: top;\n",
       "    }\n",
       "\n",
       "    .dataframe thead th {\n",
       "        text-align: right;\n",
       "    }\n",
       "</style>\n",
       "<table border=\"1\" class=\"dataframe\">\n",
       "  <thead>\n",
       "    <tr style=\"text-align: right;\">\n",
       "      <th></th>\n",
       "      <th>Average Price</th>\n",
       "      <th>Monthly Advertising Expenditures</th>\n",
       "      <th>Disposable Income per Household</th>\n",
       "    </tr>\n",
       "  </thead>\n",
       "  <tbody>\n",
       "    <tr>\n",
       "      <th>0</th>\n",
       "      <td>10.14</td>\n",
       "      <td>64800</td>\n",
       "      <td>42100</td>\n",
       "    </tr>\n",
       "    <tr>\n",
       "      <th>1</th>\n",
       "      <td>10.88</td>\n",
       "      <td>42800</td>\n",
       "      <td>38300</td>\n",
       "    </tr>\n",
       "    <tr>\n",
       "      <th>2</th>\n",
       "      <td>12.33</td>\n",
       "      <td>58600</td>\n",
       "      <td>41000</td>\n",
       "    </tr>\n",
       "    <tr>\n",
       "      <th>3</th>\n",
       "      <td>12.70</td>\n",
       "      <td>46500</td>\n",
       "      <td>43300</td>\n",
       "    </tr>\n",
       "    <tr>\n",
       "      <th>4</th>\n",
       "      <td>12.29</td>\n",
       "      <td>50700</td>\n",
       "      <td>44000</td>\n",
       "    </tr>\n",
       "  </tbody>\n",
       "</table>\n",
       "</div>"
      ],
      "text/plain": [
       "   Average Price  Monthly Advertising Expenditures  \\\n",
       "0          10.14                             64800   \n",
       "1          10.88                             42800   \n",
       "2          12.33                             58600   \n",
       "3          12.70                             46500   \n",
       "4          12.29                             50700   \n",
       "\n",
       "   Disposable Income per Household  \n",
       "0                            42100  \n",
       "1                            38300  \n",
       "2                            41000  \n",
       "3                            43300  \n",
       "4                            44000  "
      ]
     },
     "execution_count": 8,
     "metadata": {},
     "output_type": "execute_result"
    }
   ],
   "source": [
    "# drop variables\n",
    "X = df.drop(['Outlet Number', 'Quantity Sold'], axis=1)\n",
    "X.head()"
   ]
  },
  {
   "cell_type": "code",
   "execution_count": 9,
   "id": "15245ee8",
   "metadata": {},
   "outputs": [
    {
     "data": {
      "text/html": [
       "<div>\n",
       "<style scoped>\n",
       "    .dataframe tbody tr th:only-of-type {\n",
       "        vertical-align: middle;\n",
       "    }\n",
       "\n",
       "    .dataframe tbody tr th {\n",
       "        vertical-align: top;\n",
       "    }\n",
       "\n",
       "    .dataframe thead th {\n",
       "        text-align: right;\n",
       "    }\n",
       "</style>\n",
       "<table border=\"1\" class=\"dataframe\">\n",
       "  <thead>\n",
       "    <tr style=\"text-align: right;\">\n",
       "      <th></th>\n",
       "      <th>Average Price</th>\n",
       "      <th>Monthly Advertising Expenditures</th>\n",
       "      <th>Disposable Income per Household</th>\n",
       "    </tr>\n",
       "  </thead>\n",
       "  <tbody>\n",
       "    <tr>\n",
       "      <th>Average Price</th>\n",
       "      <td>1.000000</td>\n",
       "      <td>-0.172954</td>\n",
       "      <td>0.334160</td>\n",
       "    </tr>\n",
       "    <tr>\n",
       "      <th>Monthly Advertising Expenditures</th>\n",
       "      <td>-0.172954</td>\n",
       "      <td>1.000000</td>\n",
       "      <td>0.429599</td>\n",
       "    </tr>\n",
       "    <tr>\n",
       "      <th>Disposable Income per Household</th>\n",
       "      <td>0.334160</td>\n",
       "      <td>0.429599</td>\n",
       "      <td>1.000000</td>\n",
       "    </tr>\n",
       "  </tbody>\n",
       "</table>\n",
       "</div>"
      ],
      "text/plain": [
       "                                  Average Price  \\\n",
       "Average Price                          1.000000   \n",
       "Monthly Advertising Expenditures      -0.172954   \n",
       "Disposable Income per Household        0.334160   \n",
       "\n",
       "                                  Monthly Advertising Expenditures  \\\n",
       "Average Price                                            -0.172954   \n",
       "Monthly Advertising Expenditures                          1.000000   \n",
       "Disposable Income per Household                           0.429599   \n",
       "\n",
       "                                  Disposable Income per Household  \n",
       "Average Price                                            0.334160  \n",
       "Monthly Advertising Expenditures                         0.429599  \n",
       "Disposable Income per Household                          1.000000  "
      ]
     },
     "execution_count": 9,
     "metadata": {},
     "output_type": "execute_result"
    }
   ],
   "source": [
    "# Check for correlation\n",
    "X.corr()"
   ]
  },
  {
   "cell_type": "markdown",
   "id": "6ae87f90",
   "metadata": {},
   "source": [
    "Don't see variables which are **strongly correlated**"
   ]
  },
  {
   "cell_type": "code",
   "execution_count": 10,
   "id": "5becd0c7",
   "metadata": {},
   "outputs": [
    {
     "name": "stderr",
     "output_type": "stream",
     "text": [
      "C:\\Users\\Karthik.Iyer\\AppData\\Local\\Continuum\\anaconda3\\lib\\site-packages\\scipy\\stats\\stats.py:1542: UserWarning: kurtosistest only valid for n>=20 ... continuing anyway, n=15\n",
      "  \"anyway, n=%i\" % int(n))\n"
     ]
    },
    {
     "data": {
      "text/html": [
       "<table class=\"simpletable\">\n",
       "<caption>OLS Regression Results</caption>\n",
       "<tr>\n",
       "  <th>Dep. Variable:</th>      <td>Quantity Sold</td>  <th>  R-squared:         </th> <td>   0.950</td>\n",
       "</tr>\n",
       "<tr>\n",
       "  <th>Model:</th>                   <td>OLS</td>       <th>  Adj. R-squared:    </th> <td>   0.936</td>\n",
       "</tr>\n",
       "<tr>\n",
       "  <th>Method:</th>             <td>Least Squares</td>  <th>  F-statistic:       </th> <td>   69.17</td>\n",
       "</tr>\n",
       "<tr>\n",
       "  <th>Date:</th>             <td>Fri, 20 May 2022</td> <th>  Prob (F-statistic):</th> <td>2.00e-07</td>\n",
       "</tr>\n",
       "<tr>\n",
       "  <th>Time:</th>                 <td>01:05:57</td>     <th>  Log-Likelihood:    </th> <td> -140.63</td>\n",
       "</tr>\n",
       "<tr>\n",
       "  <th>No. Observations:</th>      <td>    15</td>      <th>  AIC:               </th> <td>   289.3</td>\n",
       "</tr>\n",
       "<tr>\n",
       "  <th>Df Residuals:</th>          <td>    11</td>      <th>  BIC:               </th> <td>   292.1</td>\n",
       "</tr>\n",
       "<tr>\n",
       "  <th>Df Model:</th>              <td>     3</td>      <th>                     </th>     <td> </td>   \n",
       "</tr>\n",
       "<tr>\n",
       "  <th>Covariance Type:</th>      <td>nonrobust</td>    <th>                     </th>     <td> </td>   \n",
       "</tr>\n",
       "</table>\n",
       "<table class=\"simpletable\">\n",
       "<tr>\n",
       "                  <td></td>                    <th>coef</th>     <th>std err</th>      <th>t</th>      <th>P>|t|</th>  <th>[0.025</th>    <th>0.975]</th>  \n",
       "</tr>\n",
       "<tr>\n",
       "  <th>const</th>                            <td> -3.33e+04</td> <td> 1.79e+04</td> <td>   -1.861</td> <td> 0.090</td> <td>-7.27e+04</td> <td> 6092.416</td>\n",
       "</tr>\n",
       "<tr>\n",
       "  <th>Average Price</th>                    <td>-4041.5338</td> <td> 1040.640</td> <td>   -3.884</td> <td> 0.003</td> <td>-6331.968</td> <td>-1751.100</td>\n",
       "</tr>\n",
       "<tr>\n",
       "  <th>Monthly Advertising Expenditures</th> <td>    1.4544</td> <td>    0.152</td> <td>    9.593</td> <td> 0.000</td> <td>    1.121</td> <td>    1.788</td>\n",
       "</tr>\n",
       "<tr>\n",
       "  <th>Disposable Income per Household</th>  <td>    1.5279</td> <td>    0.513</td> <td>    2.979</td> <td> 0.013</td> <td>    0.399</td> <td>    2.657</td>\n",
       "</tr>\n",
       "</table>\n",
       "<table class=\"simpletable\">\n",
       "<tr>\n",
       "  <th>Omnibus:</th>       <td> 0.919</td> <th>  Durbin-Watson:     </th> <td>   1.542</td>\n",
       "</tr>\n",
       "<tr>\n",
       "  <th>Prob(Omnibus):</th> <td> 0.632</td> <th>  Jarque-Bera (JB):  </th> <td>   0.815</td>\n",
       "</tr>\n",
       "<tr>\n",
       "  <th>Skew:</th>          <td> 0.353</td> <th>  Prob(JB):          </th> <td>   0.665</td>\n",
       "</tr>\n",
       "<tr>\n",
       "  <th>Kurtosis:</th>      <td> 2.103</td> <th>  Cond. No.          </th> <td>1.44e+06</td>\n",
       "</tr>\n",
       "</table><br/><br/>Notes:<br/>[1] Standard Errors assume that the covariance matrix of the errors is correctly specified.<br/>[2] The condition number is large, 1.44e+06. This might indicate that there are<br/>strong multicollinearity or other numerical problems."
      ],
      "text/plain": [
       "<class 'statsmodels.iolib.summary.Summary'>\n",
       "\"\"\"\n",
       "                            OLS Regression Results                            \n",
       "==============================================================================\n",
       "Dep. Variable:          Quantity Sold   R-squared:                       0.950\n",
       "Model:                            OLS   Adj. R-squared:                  0.936\n",
       "Method:                 Least Squares   F-statistic:                     69.17\n",
       "Date:                Fri, 20 May 2022   Prob (F-statistic):           2.00e-07\n",
       "Time:                        01:05:57   Log-Likelihood:                -140.63\n",
       "No. Observations:                  15   AIC:                             289.3\n",
       "Df Residuals:                      11   BIC:                             292.1\n",
       "Df Model:                           3                                         \n",
       "Covariance Type:            nonrobust                                         \n",
       "====================================================================================================\n",
       "                                       coef    std err          t      P>|t|      [0.025      0.975]\n",
       "----------------------------------------------------------------------------------------------------\n",
       "const                             -3.33e+04   1.79e+04     -1.861      0.090   -7.27e+04    6092.416\n",
       "Average Price                    -4041.5338   1040.640     -3.884      0.003   -6331.968   -1751.100\n",
       "Monthly Advertising Expenditures     1.4544      0.152      9.593      0.000       1.121       1.788\n",
       "Disposable Income per Household      1.5279      0.513      2.979      0.013       0.399       2.657\n",
       "==============================================================================\n",
       "Omnibus:                        0.919   Durbin-Watson:                   1.542\n",
       "Prob(Omnibus):                  0.632   Jarque-Bera (JB):                0.815\n",
       "Skew:                           0.353   Prob(JB):                        0.665\n",
       "Kurtosis:                       2.103   Cond. No.                     1.44e+06\n",
       "==============================================================================\n",
       "\n",
       "Notes:\n",
       "[1] Standard Errors assume that the covariance matrix of the errors is correctly specified.\n",
       "[2] The condition number is large, 1.44e+06. This might indicate that there are\n",
       "strong multicollinearity or other numerical problems.\n",
       "\"\"\""
      ]
     },
     "execution_count": 10,
     "metadata": {},
     "output_type": "execute_result"
    }
   ],
   "source": [
    "# Lets train the model\n",
    "Y = df['Quantity Sold']\n",
    "\n",
    "X1 = sm.add_constant(X)\n",
    "reg_model1 = sm.OLS(Y,X1).fit()\n",
    "reg_model1.summary()"
   ]
  },
  {
   "cell_type": "markdown",
   "id": "443d3f4c",
   "metadata": {},
   "source": [
    "1) Estimate the MLR model coefficients<br>\n",
    "\n",
    "All variables are significant. \n",
    "\n",
    "**Regression Eq:**<br>\n",
    "Quantity Sold = -33300 - 4041.5338 * Average Price + 1.4544 * Monthly Advertising Expenditures + 1.5279 * Disposable Income per Household\n",
    "\n",
    "The model coefficients are:\n",
    "- intercept(const) = -33300 : The mean quantities sold when there is no influence of any of the explanatory variables.\n",
    "- beta (Average Price) = -4041.5338\t: The average decrease in quantities sold with an unit increase in average price.\n",
    "- beta (Monthly Advertising Expenditures) = 1.4544 : The average increase in quantities sold with an unit increase in Monthly Advertising Expenditures\n",
    "- beta (Disposable Income per Household) = 1.5279 : The average increase in quantities sold with an unit increase in Disposable Income per Household\n",
    "\n",
    "2) Is there an evidence of violation of any key assumption of regression analysis?"
   ]
  },
  {
   "cell_type": "code",
   "execution_count": 11,
   "id": "a753e809",
   "metadata": {},
   "outputs": [
    {
     "data": {
      "text/plain": [
       "Average Price                       176.795369\n",
       "Monthly Advertising Expenditures     94.344057\n",
       "Disposable Income per Household     362.798199\n",
       "dtype: float64"
      ]
     },
     "execution_count": 11,
     "metadata": {},
     "output_type": "execute_result"
    }
   ],
   "source": [
    "# Lets check multi-collinearity\n",
    "from statsmodels.stats.outliers_influence import variance_inflation_factor\n",
    "\n",
    "pd.Series([variance_inflation_factor(X.values, i) for i in range(X.shape[1])], index=X.columns)"
   ]
  },
  {
   "cell_type": "markdown",
   "id": "21f008c3",
   "metadata": {},
   "source": [
    "VIFs are very high indicating **strong multi-collinearity**. Hence the assumption of regression analysis is violated"
   ]
  },
  {
   "cell_type": "markdown",
   "id": "6415197c",
   "metadata": {},
   "source": [
    "3) Which variable among these would you choose to remove and Why?<br>\n",
    "\n",
    "Average Price should be chosen to remove first due to very high VIF\n",
    "\n",
    "4) Will removing that variable increase the overall explanatory power of the model?"
   ]
  },
  {
   "cell_type": "code",
   "execution_count": 12,
   "id": "b1b1ca96",
   "metadata": {},
   "outputs": [
    {
     "data": {
      "text/html": [
       "<div>\n",
       "<style scoped>\n",
       "    .dataframe tbody tr th:only-of-type {\n",
       "        vertical-align: middle;\n",
       "    }\n",
       "\n",
       "    .dataframe tbody tr th {\n",
       "        vertical-align: top;\n",
       "    }\n",
       "\n",
       "    .dataframe thead th {\n",
       "        text-align: right;\n",
       "    }\n",
       "</style>\n",
       "<table border=\"1\" class=\"dataframe\">\n",
       "  <thead>\n",
       "    <tr style=\"text-align: right;\">\n",
       "      <th></th>\n",
       "      <th>const</th>\n",
       "      <th>Average Price</th>\n",
       "      <th>Monthly Advertising Expenditures</th>\n",
       "      <th>Disposable Income per Household</th>\n",
       "    </tr>\n",
       "  </thead>\n",
       "  <tbody>\n",
       "    <tr>\n",
       "      <th>0</th>\n",
       "      <td>1.0</td>\n",
       "      <td>10.14</td>\n",
       "      <td>64800</td>\n",
       "      <td>42100</td>\n",
       "    </tr>\n",
       "    <tr>\n",
       "      <th>1</th>\n",
       "      <td>1.0</td>\n",
       "      <td>10.88</td>\n",
       "      <td>42800</td>\n",
       "      <td>38300</td>\n",
       "    </tr>\n",
       "    <tr>\n",
       "      <th>2</th>\n",
       "      <td>1.0</td>\n",
       "      <td>12.33</td>\n",
       "      <td>58600</td>\n",
       "      <td>41000</td>\n",
       "    </tr>\n",
       "    <tr>\n",
       "      <th>3</th>\n",
       "      <td>1.0</td>\n",
       "      <td>12.70</td>\n",
       "      <td>46500</td>\n",
       "      <td>43300</td>\n",
       "    </tr>\n",
       "    <tr>\n",
       "      <th>4</th>\n",
       "      <td>1.0</td>\n",
       "      <td>12.29</td>\n",
       "      <td>50700</td>\n",
       "      <td>44000</td>\n",
       "    </tr>\n",
       "  </tbody>\n",
       "</table>\n",
       "</div>"
      ],
      "text/plain": [
       "   const  Average Price  Monthly Advertising Expenditures  \\\n",
       "0    1.0          10.14                             64800   \n",
       "1    1.0          10.88                             42800   \n",
       "2    1.0          12.33                             58600   \n",
       "3    1.0          12.70                             46500   \n",
       "4    1.0          12.29                             50700   \n",
       "\n",
       "   Disposable Income per Household  \n",
       "0                            42100  \n",
       "1                            38300  \n",
       "2                            41000  \n",
       "3                            43300  \n",
       "4                            44000  "
      ]
     },
     "execution_count": 12,
     "metadata": {},
     "output_type": "execute_result"
    }
   ],
   "source": [
    "# Check X1\n",
    "X1.head()"
   ]
  },
  {
   "cell_type": "code",
   "execution_count": 13,
   "id": "098939b4",
   "metadata": {},
   "outputs": [
    {
     "name": "stderr",
     "output_type": "stream",
     "text": [
      "C:\\Users\\Karthik.Iyer\\AppData\\Local\\Continuum\\anaconda3\\lib\\site-packages\\scipy\\stats\\stats.py:1542: UserWarning: kurtosistest only valid for n>=20 ... continuing anyway, n=15\n",
      "  \"anyway, n=%i\" % int(n))\n"
     ]
    },
    {
     "data": {
      "text/html": [
       "<table class=\"simpletable\">\n",
       "<caption>OLS Regression Results</caption>\n",
       "<tr>\n",
       "  <th>Dep. Variable:</th>      <td>Quantity Sold</td>  <th>  R-squared:         </th> <td>   0.881</td>\n",
       "</tr>\n",
       "<tr>\n",
       "  <th>Model:</th>                   <td>OLS</td>       <th>  Adj. R-squared:    </th> <td>   0.861</td>\n",
       "</tr>\n",
       "<tr>\n",
       "  <th>Method:</th>             <td>Least Squares</td>  <th>  F-statistic:       </th> <td>   44.27</td>\n",
       "</tr>\n",
       "<tr>\n",
       "  <th>Date:</th>             <td>Fri, 20 May 2022</td> <th>  Prob (F-statistic):</th> <td>2.89e-06</td>\n",
       "</tr>\n",
       "<tr>\n",
       "  <th>Time:</th>                 <td>01:05:57</td>     <th>  Log-Likelihood:    </th> <td> -147.11</td>\n",
       "</tr>\n",
       "<tr>\n",
       "  <th>No. Observations:</th>      <td>    15</td>      <th>  AIC:               </th> <td>   300.2</td>\n",
       "</tr>\n",
       "<tr>\n",
       "  <th>Df Residuals:</th>          <td>    12</td>      <th>  BIC:               </th> <td>   302.3</td>\n",
       "</tr>\n",
       "<tr>\n",
       "  <th>Df Model:</th>              <td>     2</td>      <th>                     </th>     <td> </td>   \n",
       "</tr>\n",
       "<tr>\n",
       "  <th>Covariance Type:</th>      <td>nonrobust</td>    <th>                     </th>     <td> </td>   \n",
       "</tr>\n",
       "</table>\n",
       "<table class=\"simpletable\">\n",
       "<tr>\n",
       "                  <td></td>                    <th>coef</th>     <th>std err</th>      <th>t</th>      <th>P>|t|</th>  <th>[0.025</th>    <th>0.975]</th>  \n",
       "</tr>\n",
       "<tr>\n",
       "  <th>const</th>                            <td>-5.366e+04</td> <td> 2.52e+04</td> <td>   -2.127</td> <td> 0.055</td> <td>-1.09e+05</td> <td> 1314.915</td>\n",
       "</tr>\n",
       "<tr>\n",
       "  <th>Monthly Advertising Expenditures</th> <td>    1.6734</td> <td>    0.207</td> <td>    8.064</td> <td> 0.000</td> <td>    1.221</td> <td>    2.125</td>\n",
       "</tr>\n",
       "<tr>\n",
       "  <th>Disposable Income per Household</th>  <td>    0.6133</td> <td>    0.672</td> <td>    0.913</td> <td> 0.379</td> <td>   -0.850</td> <td>    2.077</td>\n",
       "</tr>\n",
       "</table>\n",
       "<table class=\"simpletable\">\n",
       "<tr>\n",
       "  <th>Omnibus:</th>       <td> 0.962</td> <th>  Durbin-Watson:     </th> <td>   1.393</td>\n",
       "</tr>\n",
       "<tr>\n",
       "  <th>Prob(Omnibus):</th> <td> 0.618</td> <th>  Jarque-Bera (JB):  </th> <td>   0.752</td>\n",
       "</tr>\n",
       "<tr>\n",
       "  <th>Skew:</th>          <td> 0.214</td> <th>  Prob(JB):          </th> <td>   0.686</td>\n",
       "</tr>\n",
       "<tr>\n",
       "  <th>Kurtosis:</th>      <td> 1.989</td> <th>  Cond. No.          </th> <td>1.37e+06</td>\n",
       "</tr>\n",
       "</table><br/><br/>Notes:<br/>[1] Standard Errors assume that the covariance matrix of the errors is correctly specified.<br/>[2] The condition number is large, 1.37e+06. This might indicate that there are<br/>strong multicollinearity or other numerical problems."
      ],
      "text/plain": [
       "<class 'statsmodels.iolib.summary.Summary'>\n",
       "\"\"\"\n",
       "                            OLS Regression Results                            \n",
       "==============================================================================\n",
       "Dep. Variable:          Quantity Sold   R-squared:                       0.881\n",
       "Model:                            OLS   Adj. R-squared:                  0.861\n",
       "Method:                 Least Squares   F-statistic:                     44.27\n",
       "Date:                Fri, 20 May 2022   Prob (F-statistic):           2.89e-06\n",
       "Time:                        01:05:57   Log-Likelihood:                -147.11\n",
       "No. Observations:                  15   AIC:                             300.2\n",
       "Df Residuals:                      12   BIC:                             302.3\n",
       "Df Model:                           2                                         \n",
       "Covariance Type:            nonrobust                                         \n",
       "====================================================================================================\n",
       "                                       coef    std err          t      P>|t|      [0.025      0.975]\n",
       "----------------------------------------------------------------------------------------------------\n",
       "const                            -5.366e+04   2.52e+04     -2.127      0.055   -1.09e+05    1314.915\n",
       "Monthly Advertising Expenditures     1.6734      0.207      8.064      0.000       1.221       2.125\n",
       "Disposable Income per Household      0.6133      0.672      0.913      0.379      -0.850       2.077\n",
       "==============================================================================\n",
       "Omnibus:                        0.962   Durbin-Watson:                   1.393\n",
       "Prob(Omnibus):                  0.618   Jarque-Bera (JB):                0.752\n",
       "Skew:                           0.214   Prob(JB):                        0.686\n",
       "Kurtosis:                       1.989   Cond. No.                     1.37e+06\n",
       "==============================================================================\n",
       "\n",
       "Notes:\n",
       "[1] Standard Errors assume that the covariance matrix of the errors is correctly specified.\n",
       "[2] The condition number is large, 1.37e+06. This might indicate that there are\n",
       "strong multicollinearity or other numerical problems.\n",
       "\"\"\""
      ]
     },
     "execution_count": 13,
     "metadata": {},
     "output_type": "execute_result"
    }
   ],
   "source": [
    "# Lets retrain the model after removing Average Price\n",
    "Y = df['Quantity Sold']\n",
    "X1.drop(['const', 'Average Price'], axis=1, inplace=True)\n",
    "\n",
    "X2 = sm.add_constant(X1)\n",
    "reg_model2 = sm.OLS(Y,X2).fit()\n",
    "reg_model2.summary()"
   ]
  },
  {
   "cell_type": "markdown",
   "id": "d33d7a4a",
   "metadata": {},
   "source": [
    "Removing Average Price did not help increasing the overall explanatory power of the model which is R-Squared.\n",
    "\n",
    "Infact, even though the p-values are less than 0.05 and all variables were significant. The VIFs were very high indicating strong multi-collinearity.\n",
    "\n",
    "This could also be due to very less number of observations (only 15) for 5 features. Model can be retrained considering larger samples."
   ]
  }
 ],
 "metadata": {
  "kernelspec": {
   "display_name": "Python 3 (ipykernel)",
   "language": "python",
   "name": "python3"
  },
  "language_info": {
   "codemirror_mode": {
    "name": "ipython",
    "version": 3
   },
   "file_extension": ".py",
   "mimetype": "text/x-python",
   "name": "python",
   "nbconvert_exporter": "python",
   "pygments_lexer": "ipython3",
   "version": "3.7.13"
  }
 },
 "nbformat": 4,
 "nbformat_minor": 5
}
