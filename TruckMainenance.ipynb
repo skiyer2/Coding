{
 "cells": [
  {
   "cell_type": "markdown",
   "id": "2fb15377",
   "metadata": {},
   "source": [
    "A trucking company wants to predict its yearly maintenance expense for its yearly trucks using miles driven, and the age of truck at beginning of year\n",
    "\n",
    "a) Estimate the MLR equation using given data<br>\n",
    "b) Why is magnitude of miles coefficient so much lower than magnitude of age of truck coefficient<br>\n",
    "c) Interpret R-Squared for this dataset"
   ]
  },
  {
   "cell_type": "code",
   "execution_count": 1,
   "id": "b7d404c3",
   "metadata": {},
   "outputs": [],
   "source": [
    "# Import libraries\n",
    "import numpy as np\n",
    "import pandas as pd\n",
    "import seaborn as sns\n",
    "import matplotlib.pyplot as plt\n",
    "\n",
    "import statsmodels.api as sm"
   ]
  },
  {
   "cell_type": "code",
   "execution_count": 2,
   "id": "e39a6e02",
   "metadata": {},
   "outputs": [
    {
     "data": {
      "text/html": [
       "<div>\n",
       "<style scoped>\n",
       "    .dataframe tbody tr th:only-of-type {\n",
       "        vertical-align: middle;\n",
       "    }\n",
       "\n",
       "    .dataframe tbody tr th {\n",
       "        vertical-align: top;\n",
       "    }\n",
       "\n",
       "    .dataframe thead th {\n",
       "        text-align: right;\n",
       "    }\n",
       "</style>\n",
       "<table border=\"1\" class=\"dataframe\">\n",
       "  <thead>\n",
       "    <tr style=\"text-align: right;\">\n",
       "      <th></th>\n",
       "      <th>Truck</th>\n",
       "      <th>Maintenance Expense</th>\n",
       "      <th>Miles Driven</th>\n",
       "      <th>Age of Truck</th>\n",
       "    </tr>\n",
       "  </thead>\n",
       "  <tbody>\n",
       "    <tr>\n",
       "      <th>0</th>\n",
       "      <td>1</td>\n",
       "      <td>908.56</td>\n",
       "      <td>10500</td>\n",
       "      <td>10</td>\n",
       "    </tr>\n",
       "    <tr>\n",
       "      <th>1</th>\n",
       "      <td>2</td>\n",
       "      <td>751.12</td>\n",
       "      <td>9700</td>\n",
       "      <td>7</td>\n",
       "    </tr>\n",
       "    <tr>\n",
       "      <th>2</th>\n",
       "      <td>3</td>\n",
       "      <td>793.55</td>\n",
       "      <td>9200</td>\n",
       "      <td>8</td>\n",
       "    </tr>\n",
       "    <tr>\n",
       "      <th>3</th>\n",
       "      <td>4</td>\n",
       "      <td>619.61</td>\n",
       "      <td>8300</td>\n",
       "      <td>9</td>\n",
       "    </tr>\n",
       "    <tr>\n",
       "      <th>4</th>\n",
       "      <td>5</td>\n",
       "      <td>380.11</td>\n",
       "      <td>6500</td>\n",
       "      <td>5</td>\n",
       "    </tr>\n",
       "  </tbody>\n",
       "</table>\n",
       "</div>"
      ],
      "text/plain": [
       "   Truck  Maintenance Expense  Miles Driven  Age of Truck\n",
       "0      1               908.56         10500            10\n",
       "1      2               751.12          9700             7\n",
       "2      3               793.55          9200             8\n",
       "3      4               619.61          8300             9\n",
       "4      5               380.11          6500             5"
      ]
     },
     "execution_count": 2,
     "metadata": {},
     "output_type": "execute_result"
    }
   ],
   "source": [
    "# Load the dataset\n",
    "df = pd.read_excel(\"C:/Users/Karthik.Iyer/Downloads/AccelerateAI/Regression-Models-main/MLR_Q08_TruckMaintenance.xlsx\")\n",
    "df.head()"
   ]
  },
  {
   "cell_type": "code",
   "execution_count": 3,
   "id": "a2809fa7",
   "metadata": {},
   "outputs": [
    {
     "data": {
      "text/plain": [
       "Index(['Maintenance Expense', 'Miles Driven', 'Age of Truck'], dtype='object')"
      ]
     },
     "execution_count": 3,
     "metadata": {},
     "output_type": "execute_result"
    }
   ],
   "source": [
    "# Truck column can be dropped as this a unique number and will not add value in training the model\n",
    "df.drop(columns='Truck', inplace=True)\n",
    "df.columns"
   ]
  },
  {
   "cell_type": "code",
   "execution_count": 4,
   "id": "313565a0",
   "metadata": {},
   "outputs": [
    {
     "data": {
      "image/png": "[encoded data removed]",
      "text/plain": [
       "<Figure size 540x180 with 4 Axes>"
      ]
     },
     "metadata": {
      "needs_background": "light"
     },
     "output_type": "display_data"
    }
   ],
   "source": [
    "# Check KDE on diagonals\n",
    "sns.pairplot(data=df, y_vars='Maintenance Expense', diag_kind='kde')\n",
    "plt.show()"
   ]
  },
  {
   "cell_type": "code",
   "execution_count": 5,
   "id": "5d19909d",
   "metadata": {},
   "outputs": [
    {
     "data": {
      "text/plain": [
       "Maintenance Expense    1.000000\n",
       "Miles Driven           0.973607\n",
       "Age of Truck           0.885597\n",
       "Name: Maintenance Expense, dtype: float64"
      ]
     },
     "execution_count": 5,
     "metadata": {},
     "output_type": "execute_result"
    }
   ],
   "source": [
    "# Correlation of Maintenance Expense with other variables\n",
    "df.corr().loc['Maintenance Expense']"
   ]
  },
  {
   "cell_type": "code",
   "execution_count": 6,
   "id": "449bed45",
   "metadata": {},
   "outputs": [
    {
     "name": "stdout",
     "output_type": "stream",
     "text": [
      "                             OLS Regression Results                            \n",
      "===============================================================================\n",
      "Dep. Variable:     Maintenance Expense   R-squared:                       0.951\n",
      "Model:                             OLS   Adj. R-squared:                  0.946\n",
      "Method:                  Least Squares   F-statistic:                     195.0\n",
      "Date:                 Tue, 10 May 2022   Prob (F-statistic):           7.62e-14\n",
      "Time:                         22:55:51   Log-Likelihood:                -127.47\n",
      "No. Observations:                   23   AIC:                             260.9\n",
      "Df Residuals:                       20   BIC:                             264.3\n",
      "Df Model:                            2                                         \n",
      "Covariance Type:             nonrobust                                         \n",
      "================================================================================\n",
      "                   coef    std err          t      P>|t|      [0.025      0.975]\n",
      "--------------------------------------------------------------------------------\n",
      "const           11.4184     29.191      0.391      0.700     -49.473      72.310\n",
      "Miles Driven     0.0712      0.009      8.274      0.000       0.053       0.089\n",
      "Age of Truck    10.7086      9.186      1.166      0.257      -8.453      29.871\n",
      "==============================================================================\n",
      "Omnibus:                        1.263   Durbin-Watson:                   1.925\n",
      "Prob(Omnibus):                  0.532   Jarque-Bera (JB):                0.521\n",
      "Skew:                          -0.362   Prob(JB):                        0.771\n",
      "Kurtosis:                       3.142   Cond. No.                     1.52e+04\n",
      "==============================================================================\n",
      "\n",
      "Notes:\n",
      "[1] Standard Errors assume that the covariance matrix of the errors is correctly specified.\n",
      "[2] The condition number is large, 1.52e+04. This might indicate that there are\n",
      "strong multicollinearity or other numerical problems.\n"
     ]
    }
   ],
   "source": [
    "# Training the linear regression model for Maintenance Expense ~ X\n",
    "Y = df['Maintenance Expense']\n",
    "X = df.drop(columns='Maintenance Expense')\n",
    "X = sm.add_constant(X) #adding a constant\n",
    "\n",
    "reg_model = sm.OLS(Y,X).fit()\n",
    "print(reg_model.summary())"
   ]
  },
  {
   "cell_type": "code",
   "execution_count": 7,
   "id": "33afe90c",
   "metadata": {},
   "outputs": [
    {
     "data": {
      "text/plain": [
       "Miles Driven    6.904518e-08\n",
       "dtype: float64"
      ]
     },
     "execution_count": 7,
     "metadata": {},
     "output_type": "execute_result"
    }
   ],
   "source": [
    "# Choosing the relevent variables \n",
    "reg_model.pvalues[reg_model.pvalues < 0.05]"
   ]
  },
  {
   "cell_type": "code",
   "execution_count": 8,
   "id": "e9e22610",
   "metadata": {},
   "outputs": [
    {
     "data": {
      "text/plain": [
       "const           4.468943\n",
       "Miles Driven    4.492510\n",
       "Age of Truck    4.492510\n",
       "dtype: float64"
      ]
     },
     "execution_count": 8,
     "metadata": {},
     "output_type": "execute_result"
    }
   ],
   "source": [
    "# Check for multicollinearity\n",
    "from statsmodels.stats.outliers_influence import variance_inflation_factor\n",
    "pd.Series([variance_inflation_factor(X.values, i) \n",
    "               for i in range(X.shape[1])], \n",
    "               index=X.columns)"
   ]
  },
  {
   "cell_type": "markdown",
   "id": "fd4d68f6",
   "metadata": {},
   "source": [
    "a) Estimate the MLR equation using given data\n",
    "\n",
    "Maintenance Expense = 11.4184 + 0.0712 * (Miles Driven) + 10.7086 * (Age of Truck)\n",
    "\n",
    "b) Why is magnitude of miles coefficient so much lower than magnitude of age of truck coefficient\n",
    "\n",
    "This is because Miles Driven has significantly lesser influence on Truck Maintenance Expense comapred to Age of Truck. As the age of truck increases, its maintenance expenses also increases.\n",
    "\n",
    "c) Interpret R-Squared for this dataset\n",
    "\n",
    "R-squared of 0.951 indicate that the independent variables (Miles Driven and Age of Truck) explain about 95% of variance in Truck Maintenance Expense"
   ]
  },
  {
   "cell_type": "code",
   "execution_count": null,
   "id": "18966793",
   "metadata": {},
   "outputs": [],
   "source": []
  }
 ],
 "metadata": {
  "kernelspec": {
   "display_name": "Python 3 (ipykernel)",
   "language": "python",
   "name": "python3"
  },
  "language_info": {
   "codemirror_mode": {
    "name": "ipython",
    "version": 3
   },
   "file_extension": ".py",
   "mimetype": "text/x-python",
   "name": "python",
   "nbconvert_exporter": "python",
   "pygments_lexer": "ipython3",
   "version": "3.7.13"
  }
 },
 "nbformat": 4,
 "nbformat_minor": 5
}
