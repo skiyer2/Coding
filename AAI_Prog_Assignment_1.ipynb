{
 "cells": [
  {
   "cell_type": "markdown",
   "id": "124e5860",
   "metadata": {},
   "source": [
    "Q1) Reverse a given integer number  [ input:76542 ,  output: 24567]"
   ]
  },
  {
   "cell_type": "code",
   "execution_count": 1,
   "id": "2e8712cd",
   "metadata": {},
   "outputs": [
    {
     "name": "stdout",
     "output_type": "stream",
     "text": [
      "24567\n"
     ]
    }
   ],
   "source": [
    "a = 76542\n",
    "str_a = str(a)\n",
    "print(int(str_a[::-1]))"
   ]
  },
  {
   "cell_type": "markdown",
   "id": "dba3242c",
   "metadata": {},
   "source": [
    "Q2) Write a python program to find the second largest number in a List"
   ]
  },
  {
   "cell_type": "code",
   "execution_count": 2,
   "id": "968329a6",
   "metadata": {},
   "outputs": [
    {
     "data": {
      "text/plain": [
       "2"
      ]
     },
     "execution_count": 2,
     "metadata": {},
     "output_type": "execute_result"
    }
   ],
   "source": [
    "L = [2,8,0,76,39]\n",
    "L.sort()\n",
    "L[1]"
   ]
  },
  {
   "cell_type": "markdown",
   "id": "3f6d2c08",
   "metadata": {},
   "source": [
    "Q3) Write a python program to calculate the number of words and the number of characters present in a string"
   ]
  },
  {
   "cell_type": "code",
   "execution_count": 3,
   "id": "59d0ef77",
   "metadata": {},
   "outputs": [
    {
     "name": "stdout",
     "output_type": "stream",
     "text": [
      "No. of words: 2\n",
      "No. of characters: 11\n"
     ]
    }
   ],
   "source": [
    "S = \"Hello World\"\n",
    "W = S.split(' ')\n",
    "C = len(S)\n",
    "print(\"No. of words:\", len(W))\n",
    "print(\"No. of characters:\", C)"
   ]
  },
  {
   "cell_type": "code",
   "execution_count": 4,
   "id": "645e68b9",
   "metadata": {},
   "outputs": [
    {
     "name": "stdout",
     "output_type": "stream",
     "text": [
      "No. of words: 3\n",
      "No. of characters: 12\n"
     ]
    }
   ],
   "source": [
    "T = \"I am Karthik\"\n",
    "W = T.split(' ')\n",
    "C = len(T)\n",
    "print(\"No. of words:\", len(W))\n",
    "print(\"No. of characters:\", C)"
   ]
  },
  {
   "cell_type": "markdown",
   "id": "4a332040",
   "metadata": {},
   "source": [
    "Q4) Write a program to compute prime factors of an integer"
   ]
  },
  {
   "cell_type": "code",
   "execution_count": 5,
   "id": "a8a9bdbe",
   "metadata": {},
   "outputs": [
    {
     "name": "stdout",
     "output_type": "stream",
     "text": [
      "2 2 17 "
     ]
    }
   ],
   "source": [
    "def primeFactors(n):\n",
    "    c = 2\n",
    "    while(n > 1):\n",
    "        if(n % c == 0):\n",
    "            print(c, end=\" \")\n",
    "            n = n / c\n",
    "        else:\n",
    "            c = c + 1\n",
    "\n",
    "primeFactors(68)"
   ]
  },
  {
   "cell_type": "markdown",
   "id": "caa8dd38",
   "metadata": {},
   "source": [
    "Q5) Write a python program to find the fibonacci series using recursion"
   ]
  },
  {
   "cell_type": "code",
   "execution_count": 6,
   "id": "be2cb33b",
   "metadata": {},
   "outputs": [
    {
     "data": {
      "text/plain": [
       "89"
      ]
     },
     "execution_count": 6,
     "metadata": {},
     "output_type": "execute_result"
    }
   ],
   "source": [
    "def Fibonacci(n):\n",
    "    if n < 0:\n",
    "        print(\"Enter positive integer\")\n",
    "    elif n == 0:\n",
    "        return 0\n",
    "    elif n == 1 or n == 2:\n",
    "        return 1\n",
    "    else:\n",
    "        return Fibonacci(n-1) + Fibonacci(n-2)\n",
    "    \n",
    "Fibonacci(11)"
   ]
  }
 ],
 "metadata": {
  "kernelspec": {
   "display_name": "Python 3 (ipykernel)",
   "language": "python",
   "name": "python3"
  },
  "language_info": {
   "codemirror_mode": {
    "name": "ipython",
    "version": 3
   },
   "file_extension": ".py",
   "mimetype": "text/x-python",
   "name": "python",
   "nbconvert_exporter": "python",
   "pygments_lexer": "ipython3",
   "version": "3.7.11"
  }
 },
 "nbformat": 4,
 "nbformat_minor": 5
}
