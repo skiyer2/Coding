{
 "cells": [
  {
   "cell_type": "markdown",
   "id": "490eddf3",
   "metadata": {},
   "source": [
    "Melon Musk, the owner of SooperMall has asked a data scientist to help him develop a predictive model for managing his revenue.\n",
    "The data collected for 1000 customers is in the excel sheet attached.\n",
    "\n",
    "1) Fit a regression model with amount spent as target, and identify the relevant explanatory variables.<br>\n",
    "2) Which age groups spends the most on purchases?<br>\n",
    "3) How much additional spend is an extra catalog expected to generate?<br>\n",
    "4) What is the impact of no of children on amount spent. Does this make sense? Explain."
   ]
  },
  {
   "cell_type": "code",
   "execution_count": 1,
   "id": "60892682",
   "metadata": {},
   "outputs": [],
   "source": [
    "# import relevant libraries\n",
    "import numpy as np\n",
    "import pandas as pd\n",
    "import matplotlib.pyplot as plt\n",
    "import seaborn as sns\n",
    "\n",
    "import statsmodels.api as sm"
   ]
  },
  {
   "cell_type": "code",
   "execution_count": 2,
   "id": "9830ce99",
   "metadata": {},
   "outputs": [
    {
     "data": {
      "text/html": [
       "<div>\n",
       "<style scoped>\n",
       "    .dataframe tbody tr th:only-of-type {\n",
       "        vertical-align: middle;\n",
       "    }\n",
       "\n",
       "    .dataframe tbody tr th {\n",
       "        vertical-align: top;\n",
       "    }\n",
       "\n",
       "    .dataframe thead th {\n",
       "        text-align: right;\n",
       "    }\n",
       "</style>\n",
       "<table border=\"1\" class=\"dataframe\">\n",
       "  <thead>\n",
       "    <tr style=\"text-align: right;\">\n",
       "      <th></th>\n",
       "      <th>Person</th>\n",
       "      <th>Age</th>\n",
       "      <th>Gender</th>\n",
       "      <th>Own Home</th>\n",
       "      <th>Married</th>\n",
       "      <th>Close</th>\n",
       "      <th>Salary</th>\n",
       "      <th>Children</th>\n",
       "      <th>Catalogs</th>\n",
       "      <th>Amount Spent</th>\n",
       "    </tr>\n",
       "  </thead>\n",
       "  <tbody>\n",
       "    <tr>\n",
       "      <th>0</th>\n",
       "      <td>1.0</td>\n",
       "      <td>1.0</td>\n",
       "      <td>0.0</td>\n",
       "      <td>0.0</td>\n",
       "      <td>0.0</td>\n",
       "      <td>1.0</td>\n",
       "      <td>16400.0</td>\n",
       "      <td>1.0</td>\n",
       "      <td>12.0</td>\n",
       "      <td>217.691</td>\n",
       "    </tr>\n",
       "    <tr>\n",
       "      <th>1</th>\n",
       "      <td>2.0</td>\n",
       "      <td>2.0</td>\n",
       "      <td>0.0</td>\n",
       "      <td>1.0</td>\n",
       "      <td>1.0</td>\n",
       "      <td>0.0</td>\n",
       "      <td>108100.0</td>\n",
       "      <td>3.0</td>\n",
       "      <td>18.0</td>\n",
       "      <td>2632.462</td>\n",
       "    </tr>\n",
       "    <tr>\n",
       "      <th>2</th>\n",
       "      <td>3.0</td>\n",
       "      <td>2.0</td>\n",
       "      <td>1.0</td>\n",
       "      <td>1.0</td>\n",
       "      <td>1.0</td>\n",
       "      <td>1.0</td>\n",
       "      <td>97300.0</td>\n",
       "      <td>1.0</td>\n",
       "      <td>12.0</td>\n",
       "      <td>3047.563</td>\n",
       "    </tr>\n",
       "    <tr>\n",
       "      <th>3</th>\n",
       "      <td>4.0</td>\n",
       "      <td>3.0</td>\n",
       "      <td>1.0</td>\n",
       "      <td>1.0</td>\n",
       "      <td>1.0</td>\n",
       "      <td>1.0</td>\n",
       "      <td>26800.0</td>\n",
       "      <td>0.0</td>\n",
       "      <td>12.0</td>\n",
       "      <td>434.606</td>\n",
       "    </tr>\n",
       "    <tr>\n",
       "      <th>4</th>\n",
       "      <td>5.0</td>\n",
       "      <td>1.0</td>\n",
       "      <td>1.0</td>\n",
       "      <td>0.0</td>\n",
       "      <td>0.0</td>\n",
       "      <td>1.0</td>\n",
       "      <td>11200.0</td>\n",
       "      <td>0.0</td>\n",
       "      <td>6.0</td>\n",
       "      <td>105.624</td>\n",
       "    </tr>\n",
       "  </tbody>\n",
       "</table>\n",
       "</div>"
      ],
      "text/plain": [
       "   Person  Age  Gender  Own Home  Married  Close    Salary  Children  \\\n",
       "0     1.0  1.0     0.0       0.0      0.0    1.0   16400.0       1.0   \n",
       "1     2.0  2.0     0.0       1.0      1.0    0.0  108100.0       3.0   \n",
       "2     3.0  2.0     1.0       1.0      1.0    1.0   97300.0       1.0   \n",
       "3     4.0  3.0     1.0       1.0      1.0    1.0   26800.0       0.0   \n",
       "4     5.0  1.0     1.0       0.0      0.0    1.0   11200.0       0.0   \n",
       "\n",
       "   Catalogs  Amount Spent  \n",
       "0      12.0       217.691  \n",
       "1      18.0      2632.462  \n",
       "2      12.0      3047.563  \n",
       "3      12.0       434.606  \n",
       "4       6.0       105.624  "
      ]
     },
     "execution_count": 2,
     "metadata": {},
     "output_type": "execute_result"
    }
   ],
   "source": [
    "# load data\n",
    "df = pd.read_excel('C:/Users/Karthik.Iyer/Downloads/AccelerateAI/Regression-Models-main/SooperMall Catalog Marketing.xlsx', sheet_name='Data')\n",
    "df.head()"
   ]
  },
  {
   "cell_type": "code",
   "execution_count": 3,
   "id": "e622d058",
   "metadata": {},
   "outputs": [
    {
     "name": "stdout",
     "output_type": "stream",
     "text": [
      "<class 'pandas.core.frame.DataFrame'>\n",
      "RangeIndex: 1000 entries, 0 to 999\n",
      "Data columns (total 10 columns):\n",
      " #   Column        Non-Null Count  Dtype  \n",
      "---  ------        --------------  -----  \n",
      " 0   Person        1000 non-null   float64\n",
      " 1   Age           1000 non-null   float64\n",
      " 2   Gender        1000 non-null   float64\n",
      " 3   Own Home      1000 non-null   float64\n",
      " 4   Married       1000 non-null   float64\n",
      " 5   Close         1000 non-null   float64\n",
      " 6   Salary        1000 non-null   float64\n",
      " 7   Children      1000 non-null   float64\n",
      " 8   Catalogs      1000 non-null   float64\n",
      " 9   Amount Spent  1000 non-null   float64\n",
      "dtypes: float64(10)\n",
      "memory usage: 78.2 KB\n"
     ]
    }
   ],
   "source": [
    "# Check the info\n",
    "df.info()"
   ]
  },
  {
   "cell_type": "code",
   "execution_count": 4,
   "id": "4934d24e",
   "metadata": {},
   "outputs": [
    {
     "data": {
      "text/plain": [
       "Person          0\n",
       "Age             0\n",
       "Gender          0\n",
       "Own Home        0\n",
       "Married         0\n",
       "Close           0\n",
       "Salary          0\n",
       "Children        0\n",
       "Catalogs        0\n",
       "Amount Spent    0\n",
       "dtype: int64"
      ]
     },
     "execution_count": 4,
     "metadata": {},
     "output_type": "execute_result"
    }
   ],
   "source": [
    "# Check for any missing values\n",
    "df.isnull().sum()"
   ]
  },
  {
   "cell_type": "markdown",
   "id": "6c5053a0",
   "metadata": {},
   "source": [
    "There are no missing values in the dataframe"
   ]
  },
  {
   "cell_type": "code",
   "execution_count": 5,
   "id": "8370ed0a",
   "metadata": {},
   "outputs": [
    {
     "data": {
      "text/plain": [
       "Index(['Age', 'Gender', 'Own Home', 'Married', 'Close', 'Salary', 'Children',\n",
       "       'Catalogs', 'Amount Spent'],\n",
       "      dtype='object')"
      ]
     },
     "execution_count": 5,
     "metadata": {},
     "output_type": "execute_result"
    }
   ],
   "source": [
    "# Drop Person as this is only a unique identifier\n",
    "df.drop('Person', axis=1, inplace=True)\n",
    "df.columns"
   ]
  },
  {
   "cell_type": "code",
   "execution_count": 6,
   "id": "33b259e4",
   "metadata": {},
   "outputs": [
    {
     "data": {
      "text/plain": [
       "2.0    508\n",
       "1.0    287\n",
       "3.0    205\n",
       "Name: Age, dtype: int64"
      ]
     },
     "execution_count": 6,
     "metadata": {},
     "output_type": "execute_result"
    }
   ],
   "source": [
    "# Check value counts for Age\n",
    "df.Age.value_counts()"
   ]
  },
  {
   "cell_type": "code",
   "execution_count": 7,
   "id": "dc1e3bc0",
   "metadata": {},
   "outputs": [],
   "source": [
    "# # Use data dictionary and replace the encoded variable Age with correct values\n",
    "df['Age'] = df['Age'].apply(lambda x: str(x).replace('1.0', '30 or younger'))\n",
    "df['Age'] = df['Age'].apply(lambda x: str(x).replace('2.0', '31 to 55'))\n",
    "df['Age'] = df['Age'].apply(lambda x: str(x).replace('3.0', '56 or older'))"
   ]
  },
  {
   "cell_type": "code",
   "execution_count": 8,
   "id": "0754a246",
   "metadata": {},
   "outputs": [
    {
     "data": {
      "text/plain": [
       "31 to 55         508\n",
       "30 or younger    287\n",
       "56 or older      205\n",
       "Name: Age, dtype: int64"
      ]
     },
     "execution_count": 8,
     "metadata": {},
     "output_type": "execute_result"
    }
   ],
   "source": [
    "# Check the count after replacing\n",
    "df.Age.value_counts()"
   ]
  },
  {
   "cell_type": "code",
   "execution_count": 9,
   "id": "533c6ad8",
   "metadata": {},
   "outputs": [
    {
     "data": {
      "text/plain": [
       "0.0    506\n",
       "1.0    494\n",
       "Name: Gender, dtype: int64"
      ]
     },
     "execution_count": 9,
     "metadata": {},
     "output_type": "execute_result"
    }
   ],
   "source": [
    "# Check value count for Gender\n",
    "df.Gender.value_counts()"
   ]
  },
  {
   "cell_type": "code",
   "execution_count": 10,
   "id": "293f5035",
   "metadata": {},
   "outputs": [],
   "source": [
    "# Use data dictionary and replace the encoded variable Gender with correct values\n",
    "df['Gender'] = df['Gender'].apply(lambda x: str(x).replace('0.0', 'Female'))\n",
    "df['Gender'] = df['Gender'].apply(lambda x: str(x).replace('1.0', 'Male'))"
   ]
  },
  {
   "cell_type": "code",
   "execution_count": 11,
   "id": "cb622e5d",
   "metadata": {},
   "outputs": [
    {
     "data": {
      "text/plain": [
       "Female    506\n",
       "Male      494\n",
       "Name: Gender, dtype: int64"
      ]
     },
     "execution_count": 11,
     "metadata": {},
     "output_type": "execute_result"
    }
   ],
   "source": [
    "# Check value count after replacing\n",
    "df.Gender.value_counts()"
   ]
  },
  {
   "cell_type": "code",
   "execution_count": 12,
   "id": "c95ada4f",
   "metadata": {},
   "outputs": [
    {
     "data": {
      "text/plain": [
       "1.0    516\n",
       "0.0    484\n",
       "Name: Own Home, dtype: int64"
      ]
     },
     "execution_count": 12,
     "metadata": {},
     "output_type": "execute_result"
    }
   ],
   "source": [
    "# Check value count for Own Home\n",
    "df['Own Home'].value_counts()"
   ]
  },
  {
   "cell_type": "code",
   "execution_count": 13,
   "id": "4a3b110f",
   "metadata": {},
   "outputs": [],
   "source": [
    "# Use data dictionary and replace the encoded variable Own Home with correct values\n",
    "df['Own Home'] = df['Own Home'].apply(lambda x: str(x).replace('1.0', 'owns a home'))\n",
    "df['Own Home'] = df['Own Home'].apply(lambda x: str(x).replace('0.0', 'does not own a home'))"
   ]
  },
  {
   "cell_type": "code",
   "execution_count": 14,
   "id": "0689f49d",
   "metadata": {},
   "outputs": [
    {
     "data": {
      "text/plain": [
       "owns a home            516\n",
       "does not own a home    484\n",
       "Name: Own Home, dtype: int64"
      ]
     },
     "execution_count": 14,
     "metadata": {},
     "output_type": "execute_result"
    }
   ],
   "source": [
    "# Check count after replacing\n",
    "df['Own Home'].value_counts()"
   ]
  },
  {
   "cell_type": "code",
   "execution_count": 15,
   "id": "6c6b6ce5",
   "metadata": {},
   "outputs": [
    {
     "data": {
      "text/plain": [
       "1.0    502\n",
       "0.0    498\n",
       "Name: Married, dtype: int64"
      ]
     },
     "execution_count": 15,
     "metadata": {},
     "output_type": "execute_result"
    }
   ],
   "source": [
    "# Check value count for Married\n",
    "df['Married'].value_counts()"
   ]
  },
  {
   "cell_type": "code",
   "execution_count": 16,
   "id": "151dde7b",
   "metadata": {},
   "outputs": [],
   "source": [
    "# Use data dictionary and replace the encoded variable Married with correct values\n",
    "df['Married'] = df['Married'].apply(lambda x: str(x).replace('1.0', 'Married'))\n",
    "df['Married'] = df['Married'].apply(lambda x: str(x).replace('0.0', 'Not married'))"
   ]
  },
  {
   "cell_type": "code",
   "execution_count": 17,
   "id": "b141ef61",
   "metadata": {},
   "outputs": [
    {
     "data": {
      "text/plain": [
       "Married        502\n",
       "Not married    498\n",
       "Name: Married, dtype: int64"
      ]
     },
     "execution_count": 17,
     "metadata": {},
     "output_type": "execute_result"
    }
   ],
   "source": [
    "# Check value counts after replacing\n",
    "df['Married'].value_counts()"
   ]
  },
  {
   "cell_type": "code",
   "execution_count": 18,
   "id": "689dce21",
   "metadata": {},
   "outputs": [
    {
     "data": {
      "text/plain": [
       "1.0    710\n",
       "0.0    290\n",
       "Name: Close, dtype: int64"
      ]
     },
     "execution_count": 18,
     "metadata": {},
     "output_type": "execute_result"
    }
   ],
   "source": [
    "# Check the count for Close\n",
    "df['Close'].value_counts()"
   ]
  },
  {
   "cell_type": "code",
   "execution_count": 19,
   "id": "24e977ad",
   "metadata": {},
   "outputs": [],
   "source": [
    "# Use data dictionary and replace the encoded variable Close with correct values\n",
    "df['Close'] = df['Close'].apply(lambda x: str(x).replace('1.0', 'closer to shopping area'))\n",
    "df['Close'] = df['Close'].apply(lambda x: str(x).replace('0.0', 'farther to shopping area'))"
   ]
  },
  {
   "cell_type": "code",
   "execution_count": 20,
   "id": "6b6c379f",
   "metadata": {},
   "outputs": [
    {
     "data": {
      "text/plain": [
       "closer to shopping area     710\n",
       "farther to shopping area    290\n",
       "Name: Close, dtype: int64"
      ]
     },
     "execution_count": 20,
     "metadata": {},
     "output_type": "execute_result"
    }
   ],
   "source": [
    "# Check the count after replacing\n",
    "df['Close'].value_counts()"
   ]
  },
  {
   "cell_type": "code",
   "execution_count": 21,
   "id": "49ee16a9",
   "metadata": {},
   "outputs": [
    {
     "data": {
      "text/html": [
       "<div>\n",
       "<style scoped>\n",
       "    .dataframe tbody tr th:only-of-type {\n",
       "        vertical-align: middle;\n",
       "    }\n",
       "\n",
       "    .dataframe tbody tr th {\n",
       "        vertical-align: top;\n",
       "    }\n",
       "\n",
       "    .dataframe thead th {\n",
       "        text-align: right;\n",
       "    }\n",
       "</style>\n",
       "<table border=\"1\" class=\"dataframe\">\n",
       "  <thead>\n",
       "    <tr style=\"text-align: right;\">\n",
       "      <th></th>\n",
       "      <th>Age</th>\n",
       "      <th>Gender</th>\n",
       "      <th>Own Home</th>\n",
       "      <th>Married</th>\n",
       "      <th>Close</th>\n",
       "      <th>Salary</th>\n",
       "      <th>Children</th>\n",
       "      <th>Catalogs</th>\n",
       "      <th>Amount Spent</th>\n",
       "    </tr>\n",
       "  </thead>\n",
       "  <tbody>\n",
       "    <tr>\n",
       "      <th>0</th>\n",
       "      <td>30 or younger</td>\n",
       "      <td>Female</td>\n",
       "      <td>does not own a home</td>\n",
       "      <td>Not married</td>\n",
       "      <td>closer to shopping area</td>\n",
       "      <td>16400.0</td>\n",
       "      <td>1.0</td>\n",
       "      <td>12.0</td>\n",
       "      <td>217.691</td>\n",
       "    </tr>\n",
       "    <tr>\n",
       "      <th>1</th>\n",
       "      <td>31 to 55</td>\n",
       "      <td>Female</td>\n",
       "      <td>owns a home</td>\n",
       "      <td>Married</td>\n",
       "      <td>farther to shopping area</td>\n",
       "      <td>108100.0</td>\n",
       "      <td>3.0</td>\n",
       "      <td>18.0</td>\n",
       "      <td>2632.462</td>\n",
       "    </tr>\n",
       "    <tr>\n",
       "      <th>2</th>\n",
       "      <td>31 to 55</td>\n",
       "      <td>Male</td>\n",
       "      <td>owns a home</td>\n",
       "      <td>Married</td>\n",
       "      <td>closer to shopping area</td>\n",
       "      <td>97300.0</td>\n",
       "      <td>1.0</td>\n",
       "      <td>12.0</td>\n",
       "      <td>3047.563</td>\n",
       "    </tr>\n",
       "    <tr>\n",
       "      <th>3</th>\n",
       "      <td>56 or older</td>\n",
       "      <td>Male</td>\n",
       "      <td>owns a home</td>\n",
       "      <td>Married</td>\n",
       "      <td>closer to shopping area</td>\n",
       "      <td>26800.0</td>\n",
       "      <td>0.0</td>\n",
       "      <td>12.0</td>\n",
       "      <td>434.606</td>\n",
       "    </tr>\n",
       "    <tr>\n",
       "      <th>4</th>\n",
       "      <td>30 or younger</td>\n",
       "      <td>Male</td>\n",
       "      <td>does not own a home</td>\n",
       "      <td>Not married</td>\n",
       "      <td>closer to shopping area</td>\n",
       "      <td>11200.0</td>\n",
       "      <td>0.0</td>\n",
       "      <td>6.0</td>\n",
       "      <td>105.624</td>\n",
       "    </tr>\n",
       "  </tbody>\n",
       "</table>\n",
       "</div>"
      ],
      "text/plain": [
       "             Age  Gender             Own Home      Married  \\\n",
       "0  30 or younger  Female  does not own a home  Not married   \n",
       "1       31 to 55  Female          owns a home      Married   \n",
       "2       31 to 55    Male          owns a home      Married   \n",
       "3    56 or older    Male          owns a home      Married   \n",
       "4  30 or younger    Male  does not own a home  Not married   \n",
       "\n",
       "                      Close    Salary  Children  Catalogs  Amount Spent  \n",
       "0   closer to shopping area   16400.0       1.0      12.0       217.691  \n",
       "1  farther to shopping area  108100.0       3.0      18.0      2632.462  \n",
       "2   closer to shopping area   97300.0       1.0      12.0      3047.563  \n",
       "3   closer to shopping area   26800.0       0.0      12.0       434.606  \n",
       "4   closer to shopping area   11200.0       0.0       6.0       105.624  "
      ]
     },
     "execution_count": 21,
     "metadata": {},
     "output_type": "execute_result"
    }
   ],
   "source": [
    "# Check data\n",
    "df.head()"
   ]
  },
  {
   "cell_type": "code",
   "execution_count": 22,
   "id": "761534d0",
   "metadata": {},
   "outputs": [],
   "source": [
    "# Create dummy variables\n",
    "df_dummy_age = pd.get_dummies(df.Age, drop_first=True)\n",
    "df_dummy_gender = pd.get_dummies(df.Gender, drop_first=True)\n",
    "df_dummy_ownhome = pd.get_dummies(df['Own Home'], drop_first=True)\n",
    "df_dummy_married = pd.get_dummies(df['Married'], drop_first=True)\n",
    "df_dummy_close = pd.get_dummies(df['Close'], drop_first=True)"
   ]
  },
  {
   "cell_type": "code",
   "execution_count": 23,
   "id": "b78b9d86",
   "metadata": {},
   "outputs": [
    {
     "data": {
      "text/html": [
       "<div>\n",
       "<style scoped>\n",
       "    .dataframe tbody tr th:only-of-type {\n",
       "        vertical-align: middle;\n",
       "    }\n",
       "\n",
       "    .dataframe tbody tr th {\n",
       "        vertical-align: top;\n",
       "    }\n",
       "\n",
       "    .dataframe thead th {\n",
       "        text-align: right;\n",
       "    }\n",
       "</style>\n",
       "<table border=\"1\" class=\"dataframe\">\n",
       "  <thead>\n",
       "    <tr style=\"text-align: right;\">\n",
       "      <th></th>\n",
       "      <th>Age</th>\n",
       "      <th>Gender</th>\n",
       "      <th>Own Home</th>\n",
       "      <th>Married</th>\n",
       "      <th>Close</th>\n",
       "      <th>Salary</th>\n",
       "      <th>Children</th>\n",
       "      <th>Catalogs</th>\n",
       "      <th>Amount Spent</th>\n",
       "      <th>31 to 55</th>\n",
       "      <th>56 or older</th>\n",
       "      <th>Male</th>\n",
       "      <th>owns a home</th>\n",
       "      <th>Not married</th>\n",
       "      <th>farther to shopping area</th>\n",
       "    </tr>\n",
       "  </thead>\n",
       "  <tbody>\n",
       "    <tr>\n",
       "      <th>0</th>\n",
       "      <td>30 or younger</td>\n",
       "      <td>Female</td>\n",
       "      <td>does not own a home</td>\n",
       "      <td>Not married</td>\n",
       "      <td>closer to shopping area</td>\n",
       "      <td>16400.0</td>\n",
       "      <td>1.0</td>\n",
       "      <td>12.0</td>\n",
       "      <td>217.691</td>\n",
       "      <td>0</td>\n",
       "      <td>0</td>\n",
       "      <td>0</td>\n",
       "      <td>0</td>\n",
       "      <td>1</td>\n",
       "      <td>0</td>\n",
       "    </tr>\n",
       "    <tr>\n",
       "      <th>1</th>\n",
       "      <td>31 to 55</td>\n",
       "      <td>Female</td>\n",
       "      <td>owns a home</td>\n",
       "      <td>Married</td>\n",
       "      <td>farther to shopping area</td>\n",
       "      <td>108100.0</td>\n",
       "      <td>3.0</td>\n",
       "      <td>18.0</td>\n",
       "      <td>2632.462</td>\n",
       "      <td>1</td>\n",
       "      <td>0</td>\n",
       "      <td>0</td>\n",
       "      <td>1</td>\n",
       "      <td>0</td>\n",
       "      <td>1</td>\n",
       "    </tr>\n",
       "    <tr>\n",
       "      <th>2</th>\n",
       "      <td>31 to 55</td>\n",
       "      <td>Male</td>\n",
       "      <td>owns a home</td>\n",
       "      <td>Married</td>\n",
       "      <td>closer to shopping area</td>\n",
       "      <td>97300.0</td>\n",
       "      <td>1.0</td>\n",
       "      <td>12.0</td>\n",
       "      <td>3047.563</td>\n",
       "      <td>1</td>\n",
       "      <td>0</td>\n",
       "      <td>1</td>\n",
       "      <td>1</td>\n",
       "      <td>0</td>\n",
       "      <td>0</td>\n",
       "    </tr>\n",
       "    <tr>\n",
       "      <th>3</th>\n",
       "      <td>56 or older</td>\n",
       "      <td>Male</td>\n",
       "      <td>owns a home</td>\n",
       "      <td>Married</td>\n",
       "      <td>closer to shopping area</td>\n",
       "      <td>26800.0</td>\n",
       "      <td>0.0</td>\n",
       "      <td>12.0</td>\n",
       "      <td>434.606</td>\n",
       "      <td>0</td>\n",
       "      <td>1</td>\n",
       "      <td>1</td>\n",
       "      <td>1</td>\n",
       "      <td>0</td>\n",
       "      <td>0</td>\n",
       "    </tr>\n",
       "    <tr>\n",
       "      <th>4</th>\n",
       "      <td>30 or younger</td>\n",
       "      <td>Male</td>\n",
       "      <td>does not own a home</td>\n",
       "      <td>Not married</td>\n",
       "      <td>closer to shopping area</td>\n",
       "      <td>11200.0</td>\n",
       "      <td>0.0</td>\n",
       "      <td>6.0</td>\n",
       "      <td>105.624</td>\n",
       "      <td>0</td>\n",
       "      <td>0</td>\n",
       "      <td>1</td>\n",
       "      <td>0</td>\n",
       "      <td>1</td>\n",
       "      <td>0</td>\n",
       "    </tr>\n",
       "  </tbody>\n",
       "</table>\n",
       "</div>"
      ],
      "text/plain": [
       "             Age  Gender             Own Home      Married  \\\n",
       "0  30 or younger  Female  does not own a home  Not married   \n",
       "1       31 to 55  Female          owns a home      Married   \n",
       "2       31 to 55    Male          owns a home      Married   \n",
       "3    56 or older    Male          owns a home      Married   \n",
       "4  30 or younger    Male  does not own a home  Not married   \n",
       "\n",
       "                      Close    Salary  Children  Catalogs  Amount Spent  \\\n",
       "0   closer to shopping area   16400.0       1.0      12.0       217.691   \n",
       "1  farther to shopping area  108100.0       3.0      18.0      2632.462   \n",
       "2   closer to shopping area   97300.0       1.0      12.0      3047.563   \n",
       "3   closer to shopping area   26800.0       0.0      12.0       434.606   \n",
       "4   closer to shopping area   11200.0       0.0       6.0       105.624   \n",
       "\n",
       "   31 to 55  56 or older  Male  owns a home  Not married  \\\n",
       "0         0            0     0            0            1   \n",
       "1         1            0     0            1            0   \n",
       "2         1            0     1            1            0   \n",
       "3         0            1     1            1            0   \n",
       "4         0            0     1            0            1   \n",
       "\n",
       "   farther to shopping area  \n",
       "0                         0  \n",
       "1                         1  \n",
       "2                         0  \n",
       "3                         0  \n",
       "4                         0  "
      ]
     },
     "execution_count": 23,
     "metadata": {},
     "output_type": "execute_result"
    }
   ],
   "source": [
    "# lets merge dataframes\n",
    "df = pd.concat([df, df_dummy_age, df_dummy_gender, df_dummy_ownhome, df_dummy_married, df_dummy_close], axis=1)\n",
    "df.head()"
   ]
  },
  {
   "cell_type": "code",
   "execution_count": 24,
   "id": "19af87db",
   "metadata": {},
   "outputs": [],
   "source": [
    "# lets drop the variables from which we derived dummies\n",
    "df.drop(['Age', 'Gender', 'Own Home', 'Married', 'Close'], axis=1, inplace=True)"
   ]
  },
  {
   "cell_type": "code",
   "execution_count": 25,
   "id": "ba8247f0",
   "metadata": {},
   "outputs": [
    {
     "data": {
      "text/html": [
       "<div>\n",
       "<style scoped>\n",
       "    .dataframe tbody tr th:only-of-type {\n",
       "        vertical-align: middle;\n",
       "    }\n",
       "\n",
       "    .dataframe tbody tr th {\n",
       "        vertical-align: top;\n",
       "    }\n",
       "\n",
       "    .dataframe thead th {\n",
       "        text-align: right;\n",
       "    }\n",
       "</style>\n",
       "<table border=\"1\" class=\"dataframe\">\n",
       "  <thead>\n",
       "    <tr style=\"text-align: right;\">\n",
       "      <th></th>\n",
       "      <th>Salary</th>\n",
       "      <th>Children</th>\n",
       "      <th>Catalogs</th>\n",
       "      <th>Amount Spent</th>\n",
       "      <th>31 to 55</th>\n",
       "      <th>56 or older</th>\n",
       "      <th>Male</th>\n",
       "      <th>owns a home</th>\n",
       "      <th>Not married</th>\n",
       "      <th>farther to shopping area</th>\n",
       "    </tr>\n",
       "  </thead>\n",
       "  <tbody>\n",
       "    <tr>\n",
       "      <th>0</th>\n",
       "      <td>16400.0</td>\n",
       "      <td>1.0</td>\n",
       "      <td>12.0</td>\n",
       "      <td>217.691</td>\n",
       "      <td>0</td>\n",
       "      <td>0</td>\n",
       "      <td>0</td>\n",
       "      <td>0</td>\n",
       "      <td>1</td>\n",
       "      <td>0</td>\n",
       "    </tr>\n",
       "    <tr>\n",
       "      <th>1</th>\n",
       "      <td>108100.0</td>\n",
       "      <td>3.0</td>\n",
       "      <td>18.0</td>\n",
       "      <td>2632.462</td>\n",
       "      <td>1</td>\n",
       "      <td>0</td>\n",
       "      <td>0</td>\n",
       "      <td>1</td>\n",
       "      <td>0</td>\n",
       "      <td>1</td>\n",
       "    </tr>\n",
       "    <tr>\n",
       "      <th>2</th>\n",
       "      <td>97300.0</td>\n",
       "      <td>1.0</td>\n",
       "      <td>12.0</td>\n",
       "      <td>3047.563</td>\n",
       "      <td>1</td>\n",
       "      <td>0</td>\n",
       "      <td>1</td>\n",
       "      <td>1</td>\n",
       "      <td>0</td>\n",
       "      <td>0</td>\n",
       "    </tr>\n",
       "    <tr>\n",
       "      <th>3</th>\n",
       "      <td>26800.0</td>\n",
       "      <td>0.0</td>\n",
       "      <td>12.0</td>\n",
       "      <td>434.606</td>\n",
       "      <td>0</td>\n",
       "      <td>1</td>\n",
       "      <td>1</td>\n",
       "      <td>1</td>\n",
       "      <td>0</td>\n",
       "      <td>0</td>\n",
       "    </tr>\n",
       "    <tr>\n",
       "      <th>4</th>\n",
       "      <td>11200.0</td>\n",
       "      <td>0.0</td>\n",
       "      <td>6.0</td>\n",
       "      <td>105.624</td>\n",
       "      <td>0</td>\n",
       "      <td>0</td>\n",
       "      <td>1</td>\n",
       "      <td>0</td>\n",
       "      <td>1</td>\n",
       "      <td>0</td>\n",
       "    </tr>\n",
       "  </tbody>\n",
       "</table>\n",
       "</div>"
      ],
      "text/plain": [
       "     Salary  Children  Catalogs  Amount Spent  31 to 55  56 or older  Male  \\\n",
       "0   16400.0       1.0      12.0       217.691         0            0     0   \n",
       "1  108100.0       3.0      18.0      2632.462         1            0     0   \n",
       "2   97300.0       1.0      12.0      3047.563         1            0     1   \n",
       "3   26800.0       0.0      12.0       434.606         0            1     1   \n",
       "4   11200.0       0.0       6.0       105.624         0            0     1   \n",
       "\n",
       "   owns a home  Not married  farther to shopping area  \n",
       "0            0            1                         0  \n",
       "1            1            0                         1  \n",
       "2            1            0                         0  \n",
       "3            1            0                         0  \n",
       "4            0            1                         0  "
      ]
     },
     "execution_count": 25,
     "metadata": {},
     "output_type": "execute_result"
    }
   ],
   "source": [
    "# Check the data again\n",
    "df.head()"
   ]
  },
  {
   "cell_type": "markdown",
   "id": "1c3d934e",
   "metadata": {},
   "source": [
    "### 1) Fit a regression model with amount spent as target, and identify the relevant explanatory variables."
   ]
  },
  {
   "cell_type": "code",
   "execution_count": 26,
   "id": "04a4d2bd",
   "metadata": {},
   "outputs": [
    {
     "data": {
      "text/html": [
       "<table class=\"simpletable\">\n",
       "<caption>OLS Regression Results</caption>\n",
       "<tr>\n",
       "  <th>Dep. Variable:</th>      <td>Amount Spent</td>   <th>  R-squared:         </th> <td>   0.717</td> \n",
       "</tr>\n",
       "<tr>\n",
       "  <th>Model:</th>                   <td>OLS</td>       <th>  Adj. R-squared:    </th> <td>   0.714</td> \n",
       "</tr>\n",
       "<tr>\n",
       "  <th>Method:</th>             <td>Least Squares</td>  <th>  F-statistic:       </th> <td>   278.5</td> \n",
       "</tr>\n",
       "<tr>\n",
       "  <th>Date:</th>             <td>Mon, 16 May 2022</td> <th>  Prob (F-statistic):</th> <td>4.26e-264</td>\n",
       "</tr>\n",
       "<tr>\n",
       "  <th>Time:</th>                 <td>17:14:37</td>     <th>  Log-Likelihood:    </th> <td> -7655.6</td> \n",
       "</tr>\n",
       "<tr>\n",
       "  <th>No. Observations:</th>      <td>  1000</td>      <th>  AIC:               </th> <td>1.533e+04</td>\n",
       "</tr>\n",
       "<tr>\n",
       "  <th>Df Residuals:</th>          <td>   990</td>      <th>  BIC:               </th> <td>1.538e+04</td>\n",
       "</tr>\n",
       "<tr>\n",
       "  <th>Df Model:</th>              <td>     9</td>      <th>                     </th>     <td> </td>    \n",
       "</tr>\n",
       "<tr>\n",
       "  <th>Covariance Type:</th>      <td>nonrobust</td>    <th>                     </th>     <td> </td>    \n",
       "</tr>\n",
       "</table>\n",
       "<table class=\"simpletable\">\n",
       "<tr>\n",
       "              <td></td>                <th>coef</th>     <th>std err</th>      <th>t</th>      <th>P>|t|</th>  <th>[0.025</th>    <th>0.975]</th>  \n",
       "</tr>\n",
       "<tr>\n",
       "  <th>const</th>                    <td> -601.6465</td> <td>   75.067</td> <td>   -8.015</td> <td> 0.000</td> <td> -748.956</td> <td> -454.337</td>\n",
       "</tr>\n",
       "<tr>\n",
       "  <th>Salary</th>                   <td>    0.0222</td> <td>    0.001</td> <td>   22.604</td> <td> 0.000</td> <td>    0.020</td> <td>    0.024</td>\n",
       "</tr>\n",
       "<tr>\n",
       "  <th>Children</th>                 <td> -201.3627</td> <td>   17.244</td> <td>  -11.677</td> <td> 0.000</td> <td> -235.201</td> <td> -167.524</td>\n",
       "</tr>\n",
       "<tr>\n",
       "  <th>Catalogs</th>                 <td>   43.1413</td> <td>    2.548</td> <td>   16.929</td> <td> 0.000</td> <td>   38.140</td> <td>   48.142</td>\n",
       "</tr>\n",
       "<tr>\n",
       "  <th>31 to 55</th>                 <td>  -93.3095</td> <td>   51.419</td> <td>   -1.815</td> <td> 0.070</td> <td> -194.212</td> <td>    7.593</td>\n",
       "</tr>\n",
       "<tr>\n",
       "  <th>56 or older</th>              <td>  -41.1596</td> <td>   56.568</td> <td>   -0.728</td> <td> 0.467</td> <td> -152.166</td> <td>   69.847</td>\n",
       "</tr>\n",
       "<tr>\n",
       "  <th>Male</th>                     <td>  -41.5490</td> <td>   34.663</td> <td>   -1.199</td> <td> 0.231</td> <td> -109.571</td> <td>   26.473</td>\n",
       "</tr>\n",
       "<tr>\n",
       "  <th>owns a home</th>              <td>   47.5096</td> <td>   38.632</td> <td>    1.230</td> <td> 0.219</td> <td>  -28.300</td> <td>  123.319</td>\n",
       "</tr>\n",
       "<tr>\n",
       "  <th>Not married</th>              <td>   63.9201</td> <td>   46.858</td> <td>    1.364</td> <td> 0.173</td> <td>  -28.032</td> <td>  155.872</td>\n",
       "</tr>\n",
       "<tr>\n",
       "  <th>farther to shopping area</th> <td>  507.8843</td> <td>   36.213</td> <td>   14.025</td> <td> 0.000</td> <td>  436.822</td> <td>  578.947</td>\n",
       "</tr>\n",
       "</table>\n",
       "<table class=\"simpletable\">\n",
       "<tr>\n",
       "  <th>Omnibus:</th>       <td>239.891</td> <th>  Durbin-Watson:     </th> <td>   1.966</td> \n",
       "</tr>\n",
       "<tr>\n",
       "  <th>Prob(Omnibus):</th> <td> 0.000</td>  <th>  Jarque-Bera (JB):  </th> <td> 832.064</td> \n",
       "</tr>\n",
       "<tr>\n",
       "  <th>Skew:</th>          <td> 1.133</td>  <th>  Prob(JB):          </th> <td>2.09e-181</td>\n",
       "</tr>\n",
       "<tr>\n",
       "  <th>Kurtosis:</th>      <td> 6.852</td>  <th>  Cond. No.          </th> <td>3.33e+05</td> \n",
       "</tr>\n",
       "</table><br/><br/>Notes:<br/>[1] Standard Errors assume that the covariance matrix of the errors is correctly specified.<br/>[2] The condition number is large, 3.33e+05. This might indicate that there are<br/>strong multicollinearity or other numerical problems."
      ],
      "text/plain": [
       "<class 'statsmodels.iolib.summary.Summary'>\n",
       "\"\"\"\n",
       "                            OLS Regression Results                            \n",
       "==============================================================================\n",
       "Dep. Variable:           Amount Spent   R-squared:                       0.717\n",
       "Model:                            OLS   Adj. R-squared:                  0.714\n",
       "Method:                 Least Squares   F-statistic:                     278.5\n",
       "Date:                Mon, 16 May 2022   Prob (F-statistic):          4.26e-264\n",
       "Time:                        17:14:37   Log-Likelihood:                -7655.6\n",
       "No. Observations:                1000   AIC:                         1.533e+04\n",
       "Df Residuals:                     990   BIC:                         1.538e+04\n",
       "Df Model:                           9                                         \n",
       "Covariance Type:            nonrobust                                         \n",
       "============================================================================================\n",
       "                               coef    std err          t      P>|t|      [0.025      0.975]\n",
       "--------------------------------------------------------------------------------------------\n",
       "const                     -601.6465     75.067     -8.015      0.000    -748.956    -454.337\n",
       "Salary                       0.0222      0.001     22.604      0.000       0.020       0.024\n",
       "Children                  -201.3627     17.244    -11.677      0.000    -235.201    -167.524\n",
       "Catalogs                    43.1413      2.548     16.929      0.000      38.140      48.142\n",
       "31 to 55                   -93.3095     51.419     -1.815      0.070    -194.212       7.593\n",
       "56 or older                -41.1596     56.568     -0.728      0.467    -152.166      69.847\n",
       "Male                       -41.5490     34.663     -1.199      0.231    -109.571      26.473\n",
       "owns a home                 47.5096     38.632      1.230      0.219     -28.300     123.319\n",
       "Not married                 63.9201     46.858      1.364      0.173     -28.032     155.872\n",
       "farther to shopping area   507.8843     36.213     14.025      0.000     436.822     578.947\n",
       "==============================================================================\n",
       "Omnibus:                      239.891   Durbin-Watson:                   1.966\n",
       "Prob(Omnibus):                  0.000   Jarque-Bera (JB):              832.064\n",
       "Skew:                           1.133   Prob(JB):                    2.09e-181\n",
       "Kurtosis:                       6.852   Cond. No.                     3.33e+05\n",
       "==============================================================================\n",
       "\n",
       "Notes:\n",
       "[1] Standard Errors assume that the covariance matrix of the errors is correctly specified.\n",
       "[2] The condition number is large, 3.33e+05. This might indicate that there are\n",
       "strong multicollinearity or other numerical problems.\n",
       "\"\"\""
      ]
     },
     "execution_count": 26,
     "metadata": {},
     "output_type": "execute_result"
    }
   ],
   "source": [
    "# lets Train the model\n",
    "Y = df['Amount Spent']\n",
    "X = df.drop('Amount Spent', axis=1)\n",
    "\n",
    "X = sm.add_constant(X) #adding constant\n",
    "reg_model = sm.OLS(Y,X).fit()\n",
    "reg_model.summary()"
   ]
  },
  {
   "cell_type": "code",
   "execution_count": 27,
   "id": "1c123bf8",
   "metadata": {},
   "outputs": [
    {
     "data": {
      "text/plain": [
       "const                       3.091348e-15\n",
       "Salary                      1.509545e-91\n",
       "Children                    1.312927e-29\n",
       "Catalogs                    1.184329e-56\n",
       "farther to shopping area    6.803851e-41\n",
       "dtype: float64"
      ]
     },
     "execution_count": 27,
     "metadata": {},
     "output_type": "execute_result"
    }
   ],
   "source": [
    "#Checking for only significant variables whose p-value are less than 0.05\n",
    "reg_model.pvalues[reg_model.pvalues < 0.05]"
   ]
  },
  {
   "cell_type": "code",
   "execution_count": 28,
   "id": "a8b403a8",
   "metadata": {},
   "outputs": [
    {
     "data": {
      "text/html": [
       "<table class=\"simpletable\">\n",
       "<caption>OLS Regression Results</caption>\n",
       "<tr>\n",
       "  <th>Dep. Variable:</th>      <td>Amount Spent</td>   <th>  R-squared:         </th> <td>   0.715</td> \n",
       "</tr>\n",
       "<tr>\n",
       "  <th>Model:</th>                   <td>OLS</td>       <th>  Adj. R-squared:    </th> <td>   0.714</td> \n",
       "</tr>\n",
       "<tr>\n",
       "  <th>Method:</th>             <td>Least Squares</td>  <th>  F-statistic:       </th> <td>   623.6</td> \n",
       "</tr>\n",
       "<tr>\n",
       "  <th>Date:</th>             <td>Mon, 16 May 2022</td> <th>  Prob (F-statistic):</th> <td>2.89e-269</td>\n",
       "</tr>\n",
       "<tr>\n",
       "  <th>Time:</th>                 <td>17:14:37</td>     <th>  Log-Likelihood:    </th> <td> -7659.1</td> \n",
       "</tr>\n",
       "<tr>\n",
       "  <th>No. Observations:</th>      <td>  1000</td>      <th>  AIC:               </th> <td>1.533e+04</td>\n",
       "</tr>\n",
       "<tr>\n",
       "  <th>Df Residuals:</th>          <td>   995</td>      <th>  BIC:               </th> <td>1.535e+04</td>\n",
       "</tr>\n",
       "<tr>\n",
       "  <th>Df Model:</th>              <td>     4</td>      <th>                     </th>     <td> </td>    \n",
       "</tr>\n",
       "<tr>\n",
       "  <th>Covariance Type:</th>      <td>nonrobust</td>    <th>                     </th>     <td> </td>    \n",
       "</tr>\n",
       "</table>\n",
       "<table class=\"simpletable\">\n",
       "<tr>\n",
       "              <td></td>                <th>coef</th>     <th>std err</th>      <th>t</th>      <th>P>|t|</th>  <th>[0.025</th>    <th>0.975]</th>  \n",
       "</tr>\n",
       "<tr>\n",
       "  <th>const</th>                    <td> -539.8203</td> <td>   49.592</td> <td>  -10.885</td> <td> 0.000</td> <td> -637.138</td> <td> -442.503</td>\n",
       "</tr>\n",
       "<tr>\n",
       "  <th>farther to shopping area</th> <td>  508.0951</td> <td>   36.217</td> <td>   14.029</td> <td> 0.000</td> <td>  437.024</td> <td>  579.166</td>\n",
       "</tr>\n",
       "<tr>\n",
       "  <th>Salary</th>                   <td>    0.0209</td> <td>    0.001</td> <td>   38.466</td> <td> 0.000</td> <td>    0.020</td> <td>    0.022</td>\n",
       "</tr>\n",
       "<tr>\n",
       "  <th>Children</th>                 <td> -203.4757</td> <td>   15.625</td> <td>  -13.023</td> <td> 0.000</td> <td> -234.137</td> <td> -172.815</td>\n",
       "</tr>\n",
       "<tr>\n",
       "  <th>Catalogs</th>                 <td>   42.7183</td> <td>    2.544</td> <td>   16.794</td> <td> 0.000</td> <td>   37.727</td> <td>   47.710</td>\n",
       "</tr>\n",
       "</table>\n",
       "<table class=\"simpletable\">\n",
       "<tr>\n",
       "  <th>Omnibus:</th>       <td>251.537</td> <th>  Durbin-Watson:     </th> <td>   1.960</td> \n",
       "</tr>\n",
       "<tr>\n",
       "  <th>Prob(Omnibus):</th> <td> 0.000</td>  <th>  Jarque-Bera (JB):  </th> <td> 883.443</td> \n",
       "</tr>\n",
       "<tr>\n",
       "  <th>Skew:</th>          <td> 1.185</td>  <th>  Prob(JB):          </th> <td>1.45e-192</td>\n",
       "</tr>\n",
       "<tr>\n",
       "  <th>Kurtosis:</th>      <td> 6.948</td>  <th>  Cond. No.          </th> <td>1.98e+05</td> \n",
       "</tr>\n",
       "</table><br/><br/>Notes:<br/>[1] Standard Errors assume that the covariance matrix of the errors is correctly specified.<br/>[2] The condition number is large, 1.98e+05. This might indicate that there are<br/>strong multicollinearity or other numerical problems."
      ],
      "text/plain": [
       "<class 'statsmodels.iolib.summary.Summary'>\n",
       "\"\"\"\n",
       "                            OLS Regression Results                            \n",
       "==============================================================================\n",
       "Dep. Variable:           Amount Spent   R-squared:                       0.715\n",
       "Model:                            OLS   Adj. R-squared:                  0.714\n",
       "Method:                 Least Squares   F-statistic:                     623.6\n",
       "Date:                Mon, 16 May 2022   Prob (F-statistic):          2.89e-269\n",
       "Time:                        17:14:37   Log-Likelihood:                -7659.1\n",
       "No. Observations:                1000   AIC:                         1.533e+04\n",
       "Df Residuals:                     995   BIC:                         1.535e+04\n",
       "Df Model:                           4                                         \n",
       "Covariance Type:            nonrobust                                         \n",
       "============================================================================================\n",
       "                               coef    std err          t      P>|t|      [0.025      0.975]\n",
       "--------------------------------------------------------------------------------------------\n",
       "const                     -539.8203     49.592    -10.885      0.000    -637.138    -442.503\n",
       "farther to shopping area   508.0951     36.217     14.029      0.000     437.024     579.166\n",
       "Salary                       0.0209      0.001     38.466      0.000       0.020       0.022\n",
       "Children                  -203.4757     15.625    -13.023      0.000    -234.137    -172.815\n",
       "Catalogs                    42.7183      2.544     16.794      0.000      37.727      47.710\n",
       "==============================================================================\n",
       "Omnibus:                      251.537   Durbin-Watson:                   1.960\n",
       "Prob(Omnibus):                  0.000   Jarque-Bera (JB):              883.443\n",
       "Skew:                           1.185   Prob(JB):                    1.45e-192\n",
       "Kurtosis:                       6.948   Cond. No.                     1.98e+05\n",
       "==============================================================================\n",
       "\n",
       "Notes:\n",
       "[1] Standard Errors assume that the covariance matrix of the errors is correctly specified.\n",
       "[2] The condition number is large, 1.98e+05. This might indicate that there are\n",
       "strong multicollinearity or other numerical problems.\n",
       "\"\"\""
      ]
     },
     "execution_count": 28,
     "metadata": {},
     "output_type": "execute_result"
    }
   ],
   "source": [
    "# lets consider only the significant variables\n",
    "Y = df['Amount Spent']\n",
    "X = df[['farther to shopping area', 'Salary', 'Children', 'Catalogs']]\n",
    "\n",
    "X = sm.add_constant(X)\n",
    "reg_model = sm.OLS(Y,X).fit()\n",
    "reg_model.summary()"
   ]
  },
  {
   "cell_type": "markdown",
   "id": "e1ba7407",
   "metadata": {},
   "source": [
    "**Regression Equation:**<br>\n",
    "Amount Spent = -539.8203 + 508.0951 * not close to shopping area + 0.0209 * Salary - 203.4757 * Children + 42.7183 * Catalogs\n",
    "\n",
    "The relevant explanatory variables are: not close to shopping area, Salary, Children and Catalogs\n",
    "\n",
    "- intercept (const) = -539.8203: The mean amout spent by the customer when there is no influence of any of the explanatory variables (i.e the customer is living close to shopping area, not earning salary, has no children and no catalogs sent to them)\n",
    "- Beta(not close to shopping area) = 508.0951: The average increase in amount spent when the customer lives far to shopping area over those who live closer.\n",
    "- Beta(Salary) = 0.0209: The average increase in amount spent with an unit increase in Annual Salary of the customer.\n",
    "- Beta(Children) = -203.4757: The average decrease in amount spent by the customer with an unit increase in number of children.\n",
    "- Beta(Catalogs) = 42.7183: The average increase in amount spent with an unit increase in the catalogs sent to customers."
   ]
  },
  {
   "cell_type": "markdown",
   "id": "40f1ad8d",
   "metadata": {},
   "source": [
    "### 2) Which age groups spends the most on purchases?"
   ]
  },
  {
   "cell_type": "markdown",
   "id": "b5dfacc9",
   "metadata": {},
   "source": [
    "This cannot be determined due to varaibles related to Age - '31 to 55' and '56 or older' being insignificant due to p-values more than 0.05"
   ]
  },
  {
   "cell_type": "markdown",
   "id": "87413ed1",
   "metadata": {},
   "source": [
    "### 3) How much additional spend is an extra catalog expected to generate?"
   ]
  },
  {
   "cell_type": "markdown",
   "id": "e397186a",
   "metadata": {},
   "source": [
    "This can be determined from the coefficient value for Catalogs. With an unit increase in Catalog, there is additional spend of 42.7183"
   ]
  },
  {
   "cell_type": "markdown",
   "id": "96e8e96d",
   "metadata": {},
   "source": [
    "### 4) What is the impact of no. of children on amount spent. Does this make sense? Explain."
   ]
  },
  {
   "cell_type": "markdown",
   "id": "8d4d4b26",
   "metadata": {},
   "source": [
    "As the number of children increases by one unit, the average amount spent decreases by 203.4757"
   ]
  }
 ],
 "metadata": {
  "kernelspec": {
   "display_name": "Python 3 (ipykernel)",
   "language": "python",
   "name": "python3"
  },
  "language_info": {
   "codemirror_mode": {
    "name": "ipython",
    "version": 3
   },
   "file_extension": ".py",
   "mimetype": "text/x-python",
   "name": "python",
   "nbconvert_exporter": "python",
   "pygments_lexer": "ipython3",
   "version": "3.7.13"
  }
 },
 "nbformat": 4,
 "nbformat_minor": 5
}
